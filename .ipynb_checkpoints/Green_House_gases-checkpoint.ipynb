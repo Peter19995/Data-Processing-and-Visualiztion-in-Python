{
 "cells": [
  {
   "cell_type": "markdown",
   "metadata": {
    "azdata_cell_guid": "a92ce8c5-b5e2-49da-a61b-ba81eae01cc4",
    "tags": []
   },
   "source": [
    "# Data processing and visualization using python and SQL.\n",
    "\n",
    "## 1\\. Aims, Objectives and background.\n",
    "\n",
    "### 1.1. Introduction.\n",
    "\n",
    "According to National geographic article ([Carbon dioxide in the atmosphere is at a record high. Here's what you need to know. (nationalgeographic.com)](https://www.nationalgeographic.com/environment/article/greenhouse-gases)) Carbon dioxide, a key green house gas that drives global climate change, is continues on the rise. By trapping heat from the sun, the green house gases have kept Earth’s climate habitable for humans and other animal species. But the rising of the emission of the gases is changing drastically threating the change in climate that may not favor human existence on the earth.  \n",
    "\n",
    "Is for the reasons in above we will be analyzing C02 emission Data of the world to try understand major sources of greenhouse gases.\n",
    "\n",
    "### 1.2. Aims and Objectives.\n",
    "\n",
    "Within the project I will like to explore the following:\n",
    "\n",
    "1. Learn Basic concepts for SQL.\n",
    "\n",
    "> > · How to create a database and tables to store our data.\n",
    "> \n",
    "> > · Extract data from csv files to database (MS SQL)\n",
    "> \n",
    "> > · How to create functions, view and stored procedure, that can be used for processing and extracting our data sets.\n",
    "> \n",
    "> > · Quiring SQL using python. \n",
    "\n",
    "2. Learn basic data processing using python.\n",
    "\n",
    "> > · Data visualization using python libaries.\n",
    "> \n",
    "> > . Processing data for visualization.          \n",
    "\n",
    "3. Data analysis goals.\n",
    "\n",
    "> > <span style=\"font-family:Symbol;mso-fareast-font-family:Symbol;mso-bidi-font-family:\n",
    "> > Symbol;color:#6E87A2;mso-color-alt:windowtext\">·</span>**<span style=\"color:black;mso-color-alt:windowtext\">CO2&nbsp;emissions</span>**<span style=\"color:black;mso-color-alt:windowtext\">:&nbsp;How much does a country emit each year? What is the average emissions per person? How much has it emitted over time? How do emissions compare when we correct for trade</span><span style=\"font-family:&quot;Lato&quot;,sans-serif;mso-fareast-font-family:&quot;Times New Roman&quot;;\n",
    "> > mso-bidi-font-family:&quot;Times New Roman&quot;;color:#6E87A2\">?&lt;o:p&gt;</span>\n",
    "> \n",
    "> > · **Coal, oil, gas, cement:** How much CO<span style=\"font-size:8.0pt;line-height:107%\">2</span> comes from coal, oil, gas, flaring or cement production?\n",
    "> \n",
    "> > · **Other greenhouse gases:** How much total greenhouse gases does each country emit? How much methane, and nitrous oxide is emitted?\n",
    "> \n",
    "> > · **Emissions by sector:** Which sectors contribute most to emissions? Does transport contribute more or less than electricity; how large are agriculture and land use emissions?\n",
    "> \n",
    "> > · **Carbon and energy efficiency:** How much energy do we use per unit of GDP? How much carbon do we emit per unit of energy?\n",
    "\n",
    "### 1.3. Steps of the project.\n",
    "\n",
    "1. Download csv data of C02 and Greenhouse Gas Emissions (owid-co2-data.csv) by “Our World in Data” on GitHub at:\n",
    "\n",
    "> > Link: [owid/co2-data: Data on CO2 and greenhouse gas emissions by Our World in Data (github.com)](https://github.com/owid/co2-data).\n",
    "\n",
    "2. Set up Microsoft SQL server in your local machine.\n",
    "\n",
    "> > Link: [How to Download and Install SQL Server for Windows (FREE) (guru99.com)](https://www.guru99.com/download-install-sql-server.html)\n",
    "\n",
    "### 1.4 Dataset Ethics and source.\n",
    "\n",
    "According to “Our World in Data”, the source of our data, dataset is collected from different sources and is completely open to access. One has the permission to use, distribute and reproduce the data in any medium, provided the source and the authors are credited."
   ]
  },
  {
   "cell_type": "markdown",
   "metadata": {
    "azdata_cell_guid": "67181bd6-1918-4125-b204-ee9a40de4217"
   },
   "source": [
    "## 2\\. Learning Basics of SQL\n",
    "\n",
    "> ## <span style=\"font-size: 14px;\">Create a database called C02DB to store our data from csv</span>"
   ]
  },
  {
   "cell_type": "code",
   "execution_count": null,
   "metadata": {
    "azdata_cell_guid": "b1da33f2-efcd-4635-b250-c959c4cd0eb1",
    "language": "python"
   },
   "outputs": [],
   "source": [
    "-->> if drop table if exist\n",
    "DROP DATABASE C0O2DB\n",
    "GO\n",
    "CREATE DATABASE C0O2DB\n",
    "GO"
   ]
  },
  {
   "cell_type": "markdown",
   "metadata": {
    "azdata_cell_guid": "30bbbe0d-48c8-4610-9177-ff5df2a4fc2a",
    "language": "sql"
   },
   "source": [
    "> ### Create  tables\n",
    "\n",
    "We are going to split the data into any many tables as possible for learning purposes. You can as well combine several tables that we are going to create into one or the whole data frame as one table.\n",
    "\n",
    "For us to be able to learn SQL basics like Joins, creating views, referencing different table we will be splitting the data."
   ]
  },
  {
   "cell_type": "code",
   "execution_count": null,
   "metadata": {
    "azdata_cell_guid": "605f6c3b-0d97-4a06-be76-21e2a308ff6d",
    "language": "python",
    "tags": []
   },
   "outputs": [],
   "source": [
    "/****** Object:  Table CO2_Source_Emitters_Per_Country     ******/\n",
    "CREATE TABLE CO2_Source_Emitters_Per_Country(\n",
    "\tSource_Emitter_ID int IDENTITY(1,1) PRIMARY KEY NOT NULL,\n",
    "\tCountry_ID int NULL,\n",
    "\tGas_ID int NULL,\n",
    "\tSource_ID int NULL,\n",
    "\tYear int NULL,\n",
    "\tAmount float NULL,\n",
    "\tSource_Per_Capital float NULL,\n",
    "\tCumulative float NULL,\n",
    "\tshare_global float NULL,\n",
    "\tshare_global_cumulative float NULL)\n",
    "GO\n",
    "\n",
    "/****** Object:  Table Countries     ******/\n",
    "CREATE TABLE Countries(\n",
    "\tCountry_ID int IDENTITY(1,1) PRIMARY KEY NOT NULL,\n",
    "\tiso_code varchar(50) NULL,\n",
    "\tCountry_Name varchar(100) NULL)\n",
    "GO\n",
    "\n",
    "/****** Object:  Table CO2_SOURCES     ******/\n",
    "CREATE TABLE CO2_SOURCES(\n",
    "\tSource_ID int IDENTITY(1,1) PRIMARY KEY NOT NULL,\n",
    "\tSources_Name varchar(max) NULL)\n",
    "GO\n",
    "\n",
    "\n",
    "/****** Object:  Table Gases     ******/\n",
    "CREATE TABLE Gases(\n",
    "\tGas_ID int IDENTITY(1,1) PRIMARY KEY NOT NULL,\n",
    "\tGas_Name varchar(max) NULL)\n",
    "\n",
    "GO\n",
    "\n",
    "/****** Object:  Table Continents_and_Regions     ******/\n",
    "CREATE TABLE Continents_and_Regions(\n",
    "\tContinents_Regions_ID int IDENTITY(1,1) PRIMARY KEY NOT NULL,\n",
    "\t[Name] varchar(max) NULL)\n",
    "GO\n",
    "\n",
    "/****** Object:  Table CO2_Source_Emitters_Per_Region     ******/\n",
    "CREATE TABLE CO2_Source_Emitters_Per_Region(\n",
    "\tSource_Emitter_ID int IDENTITY(1,1) PRIMARY KEY NOT NULL,\n",
    "\tContinents_Regions_ID int foreign key references Continents_and_Regions (Continents_Regions_ID) NULL,\n",
    "\tGas_ID int  NULL,\n",
    "\tSource_ID int NULL,\n",
    "\tYear int NULL,\n",
    "\tAmount float NULL,\n",
    "\tSource_Per_Capital float NULL,\n",
    "\tCumulative float NULL,\n",
    "\tshare_global float NULL,\n",
    "\tshare_global_cumulative float NULL)\n",
    "GO\n",
    "\n",
    "/****** Object:  Table Country_Gas_Emissions     ******/\n",
    "CREATE TABLE Country_Gas_Emissions(\n",
    "\tEmissions_ID int IDENTITY(1,1) NOT NULL,\n",
    "\tCountry_ID int foreign key references Countries(Country_ID) NULL,\n",
    "\tGas_ID int foreign key references Gases(Gas_ID) NULL,\n",
    "\tYear int NULL,\n",
    "\tAmount float NULL,\n",
    "\tGas_per_capita float NULL,\n",
    "\tTrade float NULL,\n",
    "\tGrowth_prct float NULL,\n",
    "\tGrowth_abs float NULL,\n",
    "\tPer_unit_energy float NULL,\n",
    "\tCumulative float NULL,\n",
    "\tTrade_share float NULL,\n",
    "\tShare_global float NULL,\n",
    "\tShare_global_cumulative float NULL,\n",
    "\tTotal_ghg float NULL,\n",
    "\tGhg_per_capita float NULL,\n",
    "\tTotal_ghg_excluding_lucf float NULL)\n",
    "GO\n",
    "\n",
    "/****** Object:  Table Country_population_gdp     ******/\n",
    "CREATE TABLE Country_population_gdp(\n",
    "\tCountry_stats_ID int IDENTITY(1,1) NOT NULL,\n",
    "\tCountry_ID int foreign key references Countries(Country_ID) NULL,\n",
    "\tPopulation int NULL,\n",
    "\tYear int NULL,\n",
    "\tprimary_energy_consumption varchar(max) NULL,\n",
    "\tEnergy_per_capita float NULL,\n",
    "\tEnergy_per_gdp float NULL)\n",
    "GO\n",
    "\n",
    "/****** Object:  Table Region_Gas_Emissions     ******/\n",
    "CREATE TABLE Region_Gas_Emissions(\n",
    "\tEmissions_ID int IDENTITY(1,1) NOT NULL,\n",
    "\tContinents_Regions_ID int foreign key references Continents_and_Regions (Continents_Regions_ID),\n",
    "\tGas_ID int NULL foreign key references Gases(Gas_ID),\n",
    "\tYear int NULL,\n",
    "\tAmount float NULL,\n",
    "\tGas_per_capita float NULL,\n",
    "\tTrade float NULL,\n",
    "\tGrowth_prct float NULL,\n",
    "\tGrowth_abs float NULL,\n",
    "\tPer_unit_energy float NULL,\n",
    "\tCumulative float NULL,\n",
    "\tTrade_share float NULL,\n",
    "\tShare_global float NULL,\n",
    "\tShare_global_cumulative float NULL,\n",
    "\tTotal_ghg float NULL,\n",
    "\tGhg_per_capita float NULL,\n",
    "\tTotal_ghg_excluding_lucf float NULL)\n",
    "GO\n",
    "\n",
    "/****** Object:  Table Region_population_gdp     ******/\n",
    "CREATE TABLE Region_population_gdp(\n",
    "\tRegion_stats_ID int IDENTITY(1,1) NOT NULL,\n",
    "\tContinents_Regions_ID int foreign key references Continents_and_Regions (Continents_Regions_ID),\n",
    "\tPopulation int NULL,\n",
    "\tYEAR int NULL,\n",
    "\tprimary_energy_consumption varchar(max) NULL,\n",
    "\tEnergy_per_capita float NULL,\n",
    "\tEnergy_per_gdp float NULL)\n",
    "GO\n"
   ]
  },
  {
   "cell_type": "markdown",
   "metadata": {
    "azdata_cell_guid": "38f41e57-9f52-4fdf-97b4-5591681dc959",
    "language": "python"
   },
   "source": [
    "> ### Creating store Procedure and Views\n",
    "\n",
    "Store procedure act more like functions. You can write queries to perform certain operations when the store procedure are executed. In our case we will be using stored procedure to fetch data from our database. Instead of Writing query scripts on our python code, we will be calling stored procedure with different codes to get different data frames we need. I also prefer using stored procedure as they are safer for extracting data unlike writing scripts direct from your code."
   ]
  },
  {
   "cell_type": "markdown",
   "metadata": {
    "azdata_cell_guid": "27ce6564-d907-4b46-96be-66abb15ca0cd",
    "language": "sql"
   },
   "source": [
    "> Create view\n",
    "\n",
    "View are used to link data from different tables into one datafarame that can be used for analysis."
   ]
  },
  {
   "cell_type": "code",
   "execution_count": null,
   "metadata": {
    "azdata_cell_guid": "459bba98-87d9-4fec-93dd-c1415af9bf2b",
    "language": "python",
    "tags": []
   },
   "outputs": [],
   "source": [
    "USE [CO2DB]\n",
    "GO\n",
    "/****** Object:  View [dbo].[vwCountryGreenHouseGases]    ******/\n",
    "CREATE VIEW [dbo].[vwCountryGreenHouseGases]\n",
    "AS\n",
    "SELECT        dbo.Country_Gas_Emissions.*, dbo.Countries.iso_code, dbo.Countries.Country_Name, dbo.Gases.Gas_Name\n",
    "FROM            dbo.Country_Gas_Emissions INNER JOIN\n",
    "                         dbo.Countries ON dbo.Country_Gas_Emissions.Country_ID = dbo.Countries.Country_ID INNER JOIN\n",
    "                         dbo.Gases ON dbo.Country_Gas_Emissions.Gas_ID = dbo.Gases.Gas_ID\n",
    "GO\n",
    "\n",
    "/****** Object:  View [dbo].[vwCountryStats]    ******/\n",
    "\n",
    "CREATE VIEW [dbo].[vwCountryStats]\n",
    "AS\n",
    "SELECT        dbo.Countries.*, dbo.Country_population_gdp.Population, dbo.Country_population_gdp.Year, dbo.Country_population_gdp.primary_energy_consumption, dbo.Country_population_gdp.Energy_per_capita, \n",
    "                         dbo.Country_population_gdp.Energy_per_gdp, dbo.Country_population_gdp.GDP\n",
    "FROM            dbo.Country_population_gdp INNER JOIN\n",
    "                         dbo.Countries ON dbo.Country_population_gdp.Country_ID = dbo.Countries.Country_ID\n",
    "GO\n",
    "\n",
    "/****** Object:  View [dbo].[vwGasEmmissionCountryStats]    ******/\n",
    "CREATE VIEW [dbo].[vwGasEmmissionCountryStats]\n",
    "AS\n",
    "SELECT        dbo.Countries.*, dbo.Country_population_gdp.Population, dbo.Country_population_gdp.Year, dbo.Country_population_gdp.primary_energy_consumption, dbo.Country_population_gdp.Energy_per_capita, \n",
    "                         dbo.Country_population_gdp.Energy_per_gdp, dbo.Country_Gas_Emissions.Gas_ID, dbo.Country_Gas_Emissions.Year AS Expr1, dbo.Country_Gas_Emissions.Amount, dbo.Country_Gas_Emissions.Gas_per_capita, \n",
    "                         dbo.Country_Gas_Emissions.Trade, dbo.Country_Gas_Emissions.Growth_prct, dbo.Country_Gas_Emissions.Growth_abs, dbo.Country_Gas_Emissions.Per_unit_energy, dbo.Country_Gas_Emissions.Cumulative, \n",
    "                         dbo.Country_Gas_Emissions.Share_global, dbo.Country_Gas_Emissions.Trade_share, dbo.Country_Gas_Emissions.Share_global_cumulative, dbo.Country_Gas_Emissions.Total_ghg, \n",
    "                         dbo.Country_Gas_Emissions.Ghg_per_capita, dbo.Country_Gas_Emissions.Total_ghg_excluding_lucf, dbo.Gases.Gas_Name\n",
    "FROM            dbo.Countries INNER JOIN\n",
    "                         dbo.Country_Gas_Emissions ON dbo.Countries.Country_ID = dbo.Country_Gas_Emissions.Country_ID INNER JOIN\n",
    "                         dbo.Gases ON dbo.Country_Gas_Emissions.Gas_ID = dbo.Gases.Gas_ID INNER JOIN\n",
    "                         dbo.Country_population_gdp ON dbo.Countries.Country_ID = dbo.Country_population_gdp.Country_ID\n",
    "GO\n",
    "/****** Object:  View [dbo].[vwRegionGreenHouseGases]    ******/\n",
    "CREATE VIEW [dbo].[vwRegionGreenHouseGases]\n",
    "AS\n",
    "SELECT        dbo.Region_Gas_Emissions.*, dbo.Continents_and_Regions.Name, dbo.Gases.Gas_Name\n",
    "FROM            dbo.Region_Gas_Emissions INNER JOIN\n",
    "                         dbo.Continents_and_Regions ON dbo.Region_Gas_Emissions.Continents_Regions_ID = dbo.Continents_and_Regions.Continents_Regions_ID INNER JOIN\n",
    "                         dbo.Gases ON dbo.Region_Gas_Emissions.Gas_ID = dbo.Gases.Gas_ID\n",
    "GO\n",
    "/****** Object:  View [dbo].[vwRegionStats]    ******/\n",
    "\n",
    "CREATE VIEW [dbo].[vwRegionStats]\n",
    "AS\n",
    "SELECT        dbo.Region_population_gdp.*, dbo.Continents_and_Regions.Name\n",
    "FROM            dbo.Region_population_gdp INNER JOIN\n",
    "                         dbo.Continents_and_Regions ON dbo.Region_population_gdp.Continents_Regions_ID = dbo.Continents_and_Regions.Continents_Regions_ID\n",
    "GO\n",
    "/****** Object:  View [dbo].[vwSourcesofCO2PerCountry]    ******/\n",
    "create view [dbo].[vwSourcesofCO2PerCountry] as\n",
    "SELECT        dbo.CO2_Source_Emitters_Per_Country.*, dbo.Countries.iso_code, dbo.Countries.Country_Name, dbo.Gases.Gas_Name, dbo.CO2_SOURCES.Sources_Name\n",
    "FROM            dbo.CO2_Source_Emitters_Per_Country INNER JOIN\n",
    "                         dbo.Countries ON dbo.CO2_Source_Emitters_Per_Country.Country_ID = dbo.Countries.Country_ID INNER JOIN\n",
    "                         dbo.Gases ON dbo.CO2_Source_Emitters_Per_Country.Gas_ID = dbo.Gases.Gas_ID INNER JOIN\n",
    "                         dbo.CO2_SOURCES ON dbo.CO2_Source_Emitters_Per_Country.Source_ID = dbo.CO2_SOURCES.Source_ID\n",
    "GO\n",
    "/****** Object:  View [dbo].[vwSourcesofCO2PerRegion]    ******/\n",
    "CREATE VIEW [dbo].[vwSourcesofCO2PerRegion]\n",
    "AS\n",
    "SELECT        dbo.Continents_and_Regions.Name, dbo.CO2_SOURCES.Sources_Name, dbo.Gases.Gas_Name, dbo.CO2_Source_Emitters_Per_Region.*\n",
    "FROM            dbo.CO2_Source_Emitters_Per_Region INNER JOIN\n",
    "                         dbo.CO2_SOURCES ON dbo.CO2_Source_Emitters_Per_Region.Source_ID = dbo.CO2_SOURCES.Source_ID INNER JOIN\n",
    "                         dbo.Continents_and_Regions ON dbo.CO2_Source_Emitters_Per_Region.Continents_Regions_ID = dbo.Continents_and_Regions.Continents_Regions_ID INNER JOIN\n",
    "                         dbo.Gases ON dbo.CO2_Source_Emitters_Per_Region.Gas_ID = dbo.Gases.Gas_ID\n",
    "GO\n"
   ]
  },
  {
   "cell_type": "markdown",
   "metadata": {
    "azdata_cell_guid": "f06bd038-aba0-4e67-aa98-e9c753baa987"
   },
   "source": [
    "> Create SQL procedure.  \n",
    "\n",
    "SQL stored procedure act more like functions. We will be using procedure to extract different data farame from our databased. You can use some select queries direct from the views but the importance of using procedures you can do some data analysis on the data before returning it."
   ]
  },
  {
   "cell_type": "code",
   "execution_count": null,
   "metadata": {
    "azdata_cell_guid": "5dff1cab-47db-4ea1-a5d9-5a10624f5d9f",
    "language": "python",
    "tags": []
   },
   "outputs": [],
   "source": [
    "USE [CO2DB]\n",
    "GO\n",
    "/****** Object:  StoredProcedure [dbo].[GetCO2ByDifferentSourcesPerCountry]     ******/\n",
    "\n",
    "create procedure [dbo].[GetCO2ByDifferentSourcesPerCountry] (@code int, @Reference varchar(max), @countryName varchar(max)) as\n",
    "begin\n",
    "\tif(@code = 0)\n",
    "\tbegin\n",
    "\t\tselect * from vwGasEmmissionCountryStats where Gas_ID = 1\n",
    "\tend\n",
    "\tif(@code = 1)\n",
    "\tbegin\n",
    "\t\tselect * from vwGasEmmissionCountryStats where Country_ID = @Reference\n",
    "\tend\n",
    "\tif(@code = 2)\n",
    "\tbegin\n",
    "\t\tselect * from vwGasEmmissionCountryStats where Gas_ID = @Reference\n",
    "\tend\n",
    "\tif(@code = 3)\n",
    "\tbegin\n",
    "\t\tselect Sources_Name,Amount,Year,Country_Name,Gas_Name  from vwSourcesofCO2PerCountry \n",
    "\tend\n",
    "\tif(@code = 4)\n",
    "\tbegin\n",
    "\t\tselect *  from vwGasEmmissionCountryStats where Country_Name = @countryName and Gas_ID =@Reference \n",
    "\tend\n",
    "end\n",
    "\n",
    "GO\n",
    "/****** Object:  StoredProcedure [dbo].[GetCO2ByDifferentSourcesPerRegion]     ******/\n",
    "SET ANSI_NULLS ON\n",
    "GO\n",
    "SET QUOTED_IDENTIFIER ON\n",
    "GO\n",
    "create procedure [dbo].[GetCO2ByDifferentSourcesPerRegion] (@code int, @Reference varchar(max)) as\n",
    "begin\n",
    "\tif(@code = 0)\n",
    "\tbegin\n",
    "\t\tselect * from vwSourcesofCO2PerRegion\n",
    "\tend\n",
    "\tif(@code = 1)\n",
    "\tbegin\n",
    "\t\tselect * from vwSourcesofCO2PerRegion where Continents_Regions_ID = @Reference\n",
    "\tend\n",
    "\tif(@code = 2)\n",
    "\tbegin\n",
    "\t\tselect * from vwSourcesofCO2PerRegion where Source_ID = @Reference\n",
    "\tend\n",
    "end\n",
    "GO\n",
    "/****** Object:  StoredProcedure [dbo].[GetCountryGreenHouseGases]     ******/\n",
    "SET ANSI_NULLS ON\n",
    "GO\n",
    "SET QUOTED_IDENTIFIER ON\n",
    "GO\n",
    "create procedure [dbo].[GetCountryGreenHouseGases] (@code int, @Reference varchar(max)) as\n",
    "begin\n",
    "\tif(@code = 0)\n",
    "\tbegin\n",
    "\t\tselect * from vwCountryGreenHouseGases\n",
    "\tend\n",
    "\tif(@code = 1)\n",
    "\tbegin\n",
    "\t\tselect * from vwCountryGreenHouseGases where Country_ID = @Reference\n",
    "\tend\n",
    "\tif(@code = 2)\n",
    "\tbegin\n",
    "\t\tselect * from vwCountryGreenHouseGases where Gas_ID = @Reference\n",
    "\tend\n",
    "end\n",
    "GO\n",
    "/****** Object:  StoredProcedure [dbo].[GetCountryStats]     ******/\n",
    "SET ANSI_NULLS ON\n",
    "GO\n",
    "SET QUOTED_IDENTIFIER ON\n",
    "GO\n",
    "create procedure [dbo].[GetCountryStats] (@code int, @Reference varchar(max)) as\n",
    "begin\n",
    "\tif(@code = 0)\n",
    "\tbegin\n",
    "\t\tselect * from vwCountryStats\n",
    "\tend\n",
    "\tif(@code = 1)\n",
    "\tbegin\n",
    "\t\tselect * from vwCountryStats  where Country_ID = @Reference\n",
    "\tend\n",
    "\tif(@code = 2)\n",
    "\tbegin\n",
    "\t\tselect top 3 Gas_Name from Gases  \n",
    "\tend\n",
    "end\n",
    "\n",
    "GO\n",
    "/****** Object:  StoredProcedure [dbo].[GetRegionGreenHouseGases]     ******/\n",
    "SET ANSI_NULLS ON\n",
    "GO\n",
    "SET QUOTED_IDENTIFIER ON\n",
    "GO\n",
    "create procedure [dbo].[GetRegionGreenHouseGases] (@code int, @Reference varchar(max)) as\n",
    "begin\n",
    "\tif(@code = 0)\n",
    "\tbegin\n",
    "\t\tselect * from vwRegionGreenHouseGases\n",
    "\tend\n",
    "\tif(@code = 1)\n",
    "\tbegin\n",
    "\t\tselect * from vwRegionGreenHouseGases  where Continents_Regions_ID = @Reference\n",
    "\tend\n",
    "\tif(@code = 2)\n",
    "\tbegin\n",
    "\t\tselect * from vwRegionGreenHouseGases where Gas_ID = @Reference\n",
    "\tend\n",
    "end\n",
    "GO\n",
    "/****** Object:  StoredProcedure [dbo].[GetRegionStats]     ******/\n",
    "SET ANSI_NULLS ON\n",
    "GO\n",
    "SET QUOTED_IDENTIFIER ON\n",
    "GO\n",
    "Create procedure [dbo].[GetRegionStats] (@code int, @Reference varchar(max)) as\n",
    "begin\n",
    "\tif(@code = 0)\n",
    "\tbegin\n",
    "\t\tselect * from vwRegionStats\n",
    "\tend\n",
    "\tif(@code = 1)\n",
    "\tbegin\n",
    "\t\tselect * from vwRegionStats  where Region_stats_ID = @Reference\n",
    "\tend\n",
    "\n",
    "\tif(@code = 3)\n",
    "\tbegin\n",
    "\t\tselect sum(Amount) as Amount_Emitted,[Year],Gas_Name from vwCountryGreenHouseGases group by Year,Gas_Name\n",
    "\tend\n",
    "\t\n",
    "end\n",
    "GO\n",
    "/****** Object:  StoredProcedure [dbo].[GetWidgetsData]     ******/\n",
    "SET ANSI_NULLS ON\n",
    "GO\n",
    "SET QUOTED_IDENTIFIER ON\n",
    "GO\n",
    "create procedure [dbo].[GetWidgetsData] (@Code int, @Reference nvarchar(max)) as \n",
    "begin \n",
    "\tif(@code = 0)\n",
    "\tbegin\n",
    "\t\tselect top 1 max(Year) as max_year from vwCountryStats\n",
    "\tend\n",
    "\tif(@code = 1)\n",
    "\tbegin\n",
    "\t\tselect top 1 min(Year) as min_year from vwCountryStats\n",
    "\tend\n",
    "\tif(@code = 2)\n",
    "\tbegin\n",
    "\t\tselect Distinct top 3  Gas_Name,Gas_ID from Gases  \n",
    "\tend\n",
    "\tif(@code = 3)\n",
    "\tbegin\n",
    "\t\tselect  Distinct  Sources_Name,Source_ID  from CO2_SOURCES  \n",
    "\tend\n",
    "\tif(@code = 4)\n",
    "\tbegin\n",
    "\t\tselect  Distinct  Country_Name  from Countries  \n",
    "\tend\n",
    "end \n",
    "GO\n"
   ]
  },
  {
   "cell_type": "markdown",
   "metadata": {
    "azdata_cell_guid": "1260ad72-5e84-4f51-b22a-d877d660b77c"
   },
   "source": [
    "> ### Importing data from CSV to Our Database.\n",
    "\n",
    "We are going to read the whole CSV file into one temporary table. We then loop through the table extracting data per row inserting into different tables."
   ]
  },
  {
   "cell_type": "code",
   "execution_count": null,
   "metadata": {
    "azdata_cell_guid": "340a649a-6223-42eb-828d-a7d92a366cef",
    "language": "python",
    "tags": []
   },
   "outputs": [],
   "source": [
    "-- incaset the Holdiing table exists, we will drop it\n",
    "begin try drop table #HoldingTB  end try begin catch end catch\n",
    "go\n",
    "\n",
    "-->> create a holding temporar table that will store scv file as it is\n",
    "begin try  \n",
    "\tcreate table #HoldingTB (iso_code varchar(max),country varchar(max),year int,co2 float,co2_per_capita float,trade_co2 float,cement_co2 float,cement_co2_per_capita float,coal_co2 float,coal_co2_per_capita float,flaring_co2 float,flaring_co2_per_capita float,gas_co2 float,gas_co2_per_capita float,oil_co2 float,oil_co2_per_capita float,other_industry_co2 float,other_co2_per_capita float,co2_growth_prct float,co2_growth_abs float,co2_per_gdp float,co2_per_unit_energy float,consumption_co2 float,consumption_co2_per_capita float,consumption_co2_per_gdp float,cumulative_co2 float,cumulative_cement_co2 float,cumulative_coal_co2 float,cumulative_flaring_co2 float,cumulative_gas_co2 float,cumulative_oil_co2 float,cumulative_other_co2 float,trade_co2_share float,share_global_co2 float,share_global_cement_co2 float,share_global_coal_co2 float,share_global_flaring_co2 float,share_global_gas_co2 float,share_global_oil_co2 float,share_global_other_co2 float,share_global_cumulative_co2 float,share_global_cumulative_cement_co2 float,share_global_cumulative_coal_co2 float,share_global_cumulative_flaring_co2 float,share_global_cumulative_gas_co2 float,share_global_cumulative_oil_co2 float,share_global_cumulative_other_co2 float,total_ghg float,ghg_per_capita float,total_ghg_excluding_lucf float,ghg_excluding_lucf_per_capita float,methane float,methane_per_capita float,nitrous_oxide float,nitrous_oxide_per_capita float,population float,gdp float,primary_energy_consumption float,energy_per_capita float,energy_per_gdp float)\n",
    "end try begin catch end catch\n",
    "---> truncate table to remove any data. \n",
    "truncate table #HoldingTB \n",
    "\n",
    "-->> reading CSV file\n",
    "BULK INSERT #HoldingTB\n",
    "FROM 'C:\\data\\owid-co2-data.csv'\n",
    "WITH\n",
    "(\n",
    "    --FORMAT = 'CSV', \n",
    "\tDATAFILETYPE = 'char',\n",
    "    FIELDQUOTE = '\"',\n",
    "    FIRSTROW = 2,\n",
    "    FIELDTERMINATOR = ',', \n",
    "    ROWTERMINATOR = '\\n',  \n",
    "    TABLOCK\n",
    ")\n",
    "-->> alter table to add identity column that we will use to loop through the table rows as we extract data \n",
    "alter table #HoldingTB add id int identity(1,1) \n",
    "\n",
    "-->> afer reading we select top 10\n",
    "select top 10  * from #HoldingTB \n",
    "\n",
    "-->> lets create GASSES\n",
    "Truncate table Gases\n",
    "go\n",
    "INSERT INTO Gases(Gas_Name) VALUES('carbon dioxide (CO2)'),('Methane'),('Nitrous Oxide')\n",
    "\n",
    "\n",
    "-->> Sources of CO@\n",
    "Truncate table Gases\n",
    "go\n",
    "INSERT INTO CO2_SOURCES(Sources_Name) VALUES('Cement'),('Coal'),('Flaring'),('Gas'),('Oil'),('Other_industry')\n",
    "\n",
    "\n",
    "-->> let us know create a loop and start extracting data as we insert into our table\n",
    "Declare @start int = 1, @Strop int \n",
    "Declare @iso_code varchar(max),@country varchar(max),@year int,@co2 float,@co2_per_capita float,@trade_co2 float,@cement_co2 float,@cement_co2_per_capita float,@coal_co2 float,@coal_co2_per_capita float,@flaring_co2 float,@flaring_co2_per_capita float,@gas_co2 float,\n",
    "@gas_co2_per_capita float,@oil_co2 float,@oil_co2_per_capita float,@other_industry_co2 float,@other_co2_per_capita float,@co2_growth_prct float,@co2_growth_abs float,@co2_per_gdp float,@co2_per_unit_energy float,@consumption_co2 float,@consumption_co2_per_capita float,\n",
    "@consumption_co2_per_gdp float,@cumulative_co2 float,@cumulative_cement_co2 float,@cumulative_coal_co2 float,@cumulative_flaring_co2 float,@cumulative_gas_co2 float,@cumulative_oil_co2 float,@cumulative_other_co2 float,@trade_co2_share float,@share_global_co2 float,\n",
    "@share_global_cement_co2 float,@share_global_coal_co2 float,@share_global_flaring_co2 float,@share_global_gas_co2 float,@share_global_oil_co2 float,@share_global_other_co2 float,@share_global_cumulative_co2 float,@share_global_cumulative_cement_co2 float,\n",
    "@share_global_cumulative_coal_co2 float,@share_global_cumulative_flaring_co2 float,@share_global_cumulative_gas_co2 float,@share_global_cumulative_oil_co2 float,@share_global_cumulative_other_co2 float,@total_ghg float,@ghg_per_capita float,@total_ghg_excluding_lucf float,\n",
    "@ghg_excluding_lucf_per_capita float,@methane float,@methane_per_capita float,@nitrous_oxide float,@nitrous_oxide_per_capita float,@population float,@gdp float,@primary_energy_consumption float,@energy_per_capita float,@energy_per_gdp float\n",
    "\n",
    "Declare @Country_ID int, @Continents_Regions_ID int , @Gas_ID int,@Source_ID int\n",
    "\n",
    "-->> set the loop max \n",
    "set @Strop = (select count(*) from #HoldingTB)\n",
    "while(@start <= @Strop)\n",
    "begin\n",
    "\t-->> extract row data\n",
    "\tselect \n",
    "\t@iso_code= iso_code ,@country= country,@year= [year],@co2=co2 ,@co2_per_capita= co2_per_capita,@trade_co2=trade_co2 ,@cement_co2=cement_co2 ,@cement_co2_per_capita= cement_co2_per_capita,@coal_co2= coal_co2,@coal_co2_per_capita= coal_co2_per_capita,@flaring_co2=flaring_co2 ,@flaring_co2_per_capita= flaring_co2_per_capita,@gas_co2=gas_co2 ,\n",
    "\t@gas_co2_per_capita=gas_co2_per_capita ,@oil_co2=oil_co2 ,@oil_co2_per_capita= oil_co2_per_capita,@other_industry_co2=other_industry_co2 ,@other_co2_per_capita= other_co2_per_capita,@co2_growth_prct= co2_growth_prct,@co2_growth_abs=co2_growth_abs ,@co2_per_gdp=co2_per_gdp ,@co2_per_unit_energy=co2_per_unit_energy ,@consumption_co2=consumption_co2 ,@consumption_co2_per_capita= consumption_co2_per_capita,\n",
    "\t@consumption_co2_per_gdp=consumption_co2_per_gdp ,@cumulative_co2=cumulative_co2 ,@cumulative_cement_co2=cumulative_cement_co2 ,@cumulative_coal_co2=cumulative_coal_co2 ,@cumulative_flaring_co2=cumulative_flaring_co2 ,@cumulative_gas_co2=cumulative_gas_co2 ,@cumulative_oil_co2=cumulative_oil_co2 ,@cumulative_other_co2=cumulative_other_co2 ,@trade_co2_share= trade_co2_share,@share_global_co2=share_global_co2 ,\n",
    "\t@share_global_cement_co2=share_global_cement_co2 ,@share_global_coal_co2=share_global_coal_co2 ,@share_global_flaring_co2= share_global_flaring_co2,@share_global_gas_co2=share_global_gas_co2 ,@share_global_oil_co2= share_global_oil_co2,@share_global_other_co2=share_global_other_co2 ,@share_global_cumulative_co2=share_global_cumulative_co2 ,@share_global_cumulative_cement_co2= share_global_cumulative_cement_co2,\n",
    "\t@share_global_cumulative_coal_co2= share_global_cumulative_coal_co2,@share_global_cumulative_flaring_co2=share_global_cumulative_flaring_co2 ,@share_global_cumulative_gas_co2= share_global_cumulative_gas_co2,@share_global_cumulative_oil_co2= share_global_cumulative_oil_co2,@share_global_cumulative_other_co2= share_global_cumulative_other_co2,@total_ghg= total_ghg,@ghg_per_capita=ghg_per_capita ,@total_ghg_excluding_lucf=total_ghg_excluding_lucf ,\n",
    "\t@ghg_excluding_lucf_per_capita=ghg_excluding_lucf_per_capita ,@methane=methane ,@methane_per_capita=methane_per_capita ,@nitrous_oxide=nitrous_oxide ,@nitrous_oxide_per_capita= nitrous_oxide_per_capita,@population= [population],@gdp= gdp,@primary_energy_consumption= primary_energy_consumption,@energy_per_capita= energy_per_capita,@energy_per_gdp=energy_per_gdp from #HoldingTB where Id = @start\n",
    "\t\n",
    "\t-->> iF THE ROW CONTAINS DATA THAT BELONGS TO A COUNTY \n",
    "\tif(@iso_code is not null )\n",
    "\tbegin\n",
    "\t\t-->> check if the country exists\n",
    "\t\tif not exists(select 1 from Countries where iso_code = @iso_code and Country_Name = @country)\n",
    "\t\tbegin\n",
    "\t\t\tinsert into Countries (iso_code,Country_Name) values (@iso_code,@country) \n",
    "\t\tend\n",
    "\t\tset @Country_ID = (select Country_ID from Countries where iso_code = @iso_code and Country_Name = @country)\n",
    "\n",
    "\t\tif not exists(select 1 from Country_population_gdp where Country_ID = @Country_ID and [YEAR] = @year )\n",
    "\t\tbegin\n",
    "\t\t\tinsert into Country_population_gdp (Country_ID,[Population],[Year],primary_energy_consumption,Energy_per_capita,Energy_per_gdp ) \n",
    "\t\t\tvalues (@Country_ID,isnull(@Population,0),@year,isnull(@primary_energy_consumption,0),isnull(@Energy_per_capita,0),isnull(@Energy_per_gdp,0) ) \n",
    "\t\tend\n",
    "\t\t\n",
    "\n",
    "\n",
    "\t\t-->> GAS EMISSIONS\n",
    "\t\t-->> log Country Gas Emissions CO2 GAS DATA\n",
    "\t\tset @Gas_ID = (select top 1  Gas_ID from Gases where Gas_Name = 'carbon dioxide (CO2)')\n",
    "\t\tif not exists(select 1 from Country_Gas_Emissions  where Country_ID = @Country_ID and Gas_ID = @Gas_ID and [Year] = @year)\n",
    "\t\tbegin\n",
    "\t\t\tinsert into Country_Gas_Emissions ([year],Country_ID ,Gas_ID,Amount,Gas_per_capita,Trade,Growth_prct,Growth_abs ,Per_unit_energy,Cumulative ,Trade_share ,Share_global ,Share_global_cumulative ,Total_ghg ,Ghg_per_capita ,Total_ghg_excluding_lucf)\n",
    "\t\t\tvalues(@year,@Country_ID,@Gas_ID,isnull(@co2,0),isnull(@co2_per_capita,0),isnull(@trade_co2,0),isnull(@co2_growth_prct,0),isnull(@co2_growth_abs,0),isnull(@co2_per_unit_energy,0),isnull(@cumulative_co2,0),isnull(@trade_co2_share,0),isnull(@share_global_co2,0),isnull(@share_global_cumulative_co2,0),isnull(@total_ghg,0),isnull(@ghg_per_capita,0),isnull(@total_ghg_excluding_lucf,0))\n",
    "\t\tend\n",
    "\t\tset @Gas_ID  = null\n",
    "\t\n",
    "\t\t-->> log Country Gas Emissions Methane GAS DATA\n",
    "\t\tset @Gas_ID = (select top 1  Gas_ID from Gases where Gas_Name = 'Methane')\n",
    "\t\tif not exists(select 1 from Country_Gas_Emissions  where Country_ID = @Country_ID and Gas_ID = @Gas_ID and [Year] = @year)\n",
    "\t\tbegin\n",
    "\t\t\tinsert into Country_Gas_Emissions ([year],Country_ID ,Gas_ID,Amount,Gas_per_capita,Trade,Growth_prct,Growth_abs ,Per_unit_energy,Cumulative ,Trade_share ,Share_global ,Share_global_cumulative ,Total_ghg ,Ghg_per_capita ,Total_ghg_excluding_lucf)\n",
    "\t\t\tvalues(isnull(@year,0),@Country_ID,@Gas_ID,isnull(@methane,0),isnull(@methane_per_capita,0),0,0,0,0,0,0,0,0,0,0,0)\n",
    "\t\tend\n",
    "\t\tset @Gas_ID  = null\n",
    "\n",
    "\t\t-->> log Country Gas Emissions Methane GAS DATA\n",
    "\t\tset @Gas_ID = (select top 1  Gas_ID from Gases where Gas_Name = 'Nitrous Oxide')\n",
    "\t\tif not exists(select 1 from Country_Gas_Emissions  where Country_ID = @Country_ID and Gas_ID = @Gas_ID and [Year] = @year)\n",
    "\t\tbegin\n",
    "\t\t\tinsert into Country_Gas_Emissions ([year],Country_ID ,Gas_ID,Amount,Gas_per_capita,Trade,Growth_prct,Growth_abs ,Per_unit_energy,Cumulative ,Trade_share ,Share_global ,Share_global_cumulative ,Total_ghg ,Ghg_per_capita ,Total_ghg_excluding_lucf)\n",
    "\t\t\tvalues(isnull(@year,0),@Country_ID,@Gas_ID,isnull(@nitrous_oxide,0),isnull(@nitrous_oxide_per_capita,0),0,0,0,0,0,0,0,0,0,0,0)\n",
    "\t\tend\n",
    "\t\tset @Gas_ID  = null\n",
    "\n",
    "\n",
    "\t\t-->> SOURCES OF CO2\n",
    "\t\t-- 1. cement\n",
    "\t\tset @Source_ID = (select top 1 Source_ID from CO2_SOURCES where Sources_Name = 'Cement')\n",
    "\t\tset @Gas_ID = (select top 1 Gas_ID from Gases where Gas_Name = 'carbon dioxide (CO2)')\n",
    "\t\tif not exists(select 1 from CO2_Source_Emitters_Per_Country  where Country_ID = @Country_ID and Gas_ID = @Gas_ID and [Year] = @year and Source_ID = @Source_ID)\n",
    "\t\tbegin\n",
    "\t\t\tinsert into CO2_Source_Emitters_Per_Country (Country_ID,Gas_ID ,Source_ID, [Year], Amount ,Source_Per_Capital ,Cumulative ,share_global ,share_global_cumulative )\n",
    "\t\t\tvalues(@Country_ID,@Gas_ID,Isnull(@Source_ID,0),Isnull(@year,0),Isnull(@cement_co2,0),Isnull(@cement_co2_per_capita,0),Isnull(@cumulative_cement_co2,0),Isnull(@share_global_cement_co2,0),Isnull(@share_global_cumulative_cement_co2,0))\n",
    "\t\tend\n",
    "\t\tset @Gas_ID  = null set @Source_ID = null\n",
    "\n",
    "\t\t-- 2. Coal\n",
    "\t\tset @Source_ID = (select top 1 Source_ID from CO2_SOURCES where Sources_Name = 'Coal')\n",
    "\t\tset @Gas_ID = (select top 1 Gas_ID from Gases where Gas_Name = 'carbon dioxide (CO2)')\n",
    "\t\tif not exists(select 1 from CO2_Source_Emitters_Per_Country  where Country_ID = @Country_ID and Gas_ID = @Gas_ID and [Year] = @year and Source_ID = @Source_ID)\n",
    "\t\tbegin\n",
    "\t\t\tinsert into CO2_Source_Emitters_Per_Country (Country_ID,Gas_ID ,Source_ID, [Year], Amount ,Source_Per_Capital ,Cumulative ,share_global ,share_global_cumulative )\n",
    "\t\t\tvalues(@Country_ID,@Gas_ID,Isnull(@Source_ID,0),Isnull(@year,0),Isnull(@coal_co2,0),Isnull(@coal_co2_per_capita,0),Isnull(@cumulative_coal_co2,0),Isnull(@share_global_coal_co2,0),Isnull(@share_global_cumulative_coal_co2,0))\n",
    "\t\tend\n",
    "\t\tset @Gas_ID  = null set @Source_ID = null\n",
    "\n",
    "\t\t-- 3. flaring\n",
    "\t\tset @Source_ID = (select top 1 Source_ID from CO2_SOURCES where Sources_Name = 'flaring')\n",
    "\t\tset @Gas_ID = (select top 1 Gas_ID from Gases where Gas_Name = 'carbon dioxide (CO2)')\n",
    "\t\tif not exists(select 1 from CO2_Source_Emitters_Per_Country  where Country_ID = @Country_ID and Gas_ID = @Gas_ID and [Year] = @year and Source_ID = @Source_ID and Source_ID = @Source_ID)\n",
    "\t\tbegin\n",
    "\t\t\tinsert into CO2_Source_Emitters_Per_Country (Country_ID,Gas_ID ,Source_ID, [Year], Amount ,Source_Per_Capital ,Cumulative ,share_global ,share_global_cumulative )\n",
    "\t\t\tvalues(@Country_ID,@Gas_ID,Isnull(@Source_ID,0),Isnull(@year,0),Isnull(@flaring_co2,0),Isnull(@flaring_co2_per_capita,0),Isnull(@cumulative_flaring_co2,0),Isnull(@share_global_flaring_co2,0),Isnull(@share_global_cumulative_flaring_co2,0))\n",
    "\t\tend\n",
    "\t\tset @Gas_ID  = null set @Source_ID = null\n",
    "\n",
    "\t\t-- 4. gas\n",
    "\t\tset @Source_ID = (select top 1 Source_ID from CO2_SOURCES where Sources_Name = 'Gas')\n",
    "\t\tset @Gas_ID = (select top 1 Gas_ID from Gases where Gas_Name = 'carbon dioxide (CO2)')\n",
    "\t\tif not exists(select 1 from CO2_Source_Emitters_Per_Country  where Country_ID = @Country_ID and Gas_ID = @Gas_ID and [Year] = @year and Source_ID = @Source_ID)\n",
    "\t\tbegin\n",
    "\t\t\tinsert into CO2_Source_Emitters_Per_Country (Country_ID,Gas_ID ,Source_ID, [Year], Amount ,Source_Per_Capital ,Cumulative ,share_global ,share_global_cumulative )\n",
    "\t\t\tvalues(@Country_ID,@Gas_ID,Isnull(@Source_ID,0),Isnull(@year,0),Isnull(@gas_co2,0),Isnull(@gas_co2_per_capita,0),Isnull(@cumulative_gas_co2,0),Isnull(@share_global_gas_co2,0),Isnull(@share_global_cumulative_gas_co2,0))\n",
    "\t\tend\n",
    "\t\tset @Gas_ID  = null set @Source_ID = null\n",
    "\n",
    "\t\t-- 5. oil\n",
    "\t\tset @Source_ID = (select top 1 Source_ID from CO2_SOURCES where Sources_Name = 'Oil')\n",
    "\t\tset @Gas_ID = (select top 1 Gas_ID from Gases where Gas_Name = 'carbon dioxide (CO2)')\n",
    "\t\tif not exists(select 1 from CO2_Source_Emitters_Per_Country  where Country_ID = @Country_ID and Gas_ID = @Gas_ID and [Year] = @year and Source_ID = @Source_ID)\n",
    "\t\tbegin\n",
    "\t\t\tinsert into CO2_Source_Emitters_Per_Country (Country_ID,Gas_ID ,Source_ID, [Year], Amount ,Source_Per_Capital ,Cumulative ,share_global ,share_global_cumulative )\n",
    "\t\t\tvalues(@Country_ID,@Gas_ID,Isnull(@Source_ID,0),Isnull(@year,0),Isnull(@oil_co2,0),Isnull(@oil_co2_per_capita,0),Isnull(@cumulative_oil_co2,0),Isnull(@share_global_oil_co2,0),Isnull(@share_global_cumulative_oil_co2,0))\n",
    "\t\tend\n",
    "\t\tset @Gas_ID  = null set @Source_ID = null\n",
    "\n",
    "\t\t-- 6. other_industry\n",
    "\t\tset @Source_ID = (select top 1 Source_ID from CO2_SOURCES where Sources_Name = 'other_industry')\n",
    "\t\tset @Gas_ID = (select top 1 Gas_ID from Gases where Gas_Name = 'carbon dioxide (CO2)')\n",
    "\t\tif not exists(select 1 from CO2_Source_Emitters_Per_Country  where Country_ID = @Country_ID and Gas_ID = @Gas_ID and [Year] = @year and Source_ID = @Source_ID)\n",
    "\t\tbegin\n",
    "\t\t\tinsert into CO2_Source_Emitters_Per_Country (Country_ID,Gas_ID ,Source_ID, [Year], Amount ,Source_Per_Capital ,Cumulative ,share_global ,share_global_cumulative )\n",
    "\t\t\tvalues(@Country_ID,@Gas_ID,Isnull(@Source_ID,0),Isnull(@year,0),Isnull(@other_industry_co2,0),Isnull(@other_co2_per_capita,0),Isnull(@cumulative_other_co2,0),Isnull(@share_global_other_co2,0),Isnull(@share_global_cumulative_other_co2,0))\n",
    "\t\tend\n",
    "\t\tset @Gas_ID  = null set @Source_ID = null\n",
    "\n",
    "\n",
    "\tend\n",
    "\t\n",
    "\n",
    "\t-->> iF THE ROW CONTAINS DATA THAT BELONGS TO A REGION/CONTINENTS\n",
    "\tif(@iso_code is null )\n",
    "\tbegin\n",
    "\t\t-->> check if the Region does not  exists\n",
    "\t\tif not exists(select 1 from Continents_and_Regions where [Name] = @country )\n",
    "\t\tbegin\n",
    "\t\t\tinsert into Continents_and_Regions ([Name]) values (@country) \n",
    "\t\tend\n",
    "\t\tset @Continents_Regions_ID = (select Continents_Regions_ID from Continents_and_Regions where [Name] = @country)\n",
    "\n",
    "\n",
    "\t\tif not exists(select 1 from Region_population_gdp where @Continents_Regions_ID =@Continents_Regions_ID  and [YEAR] = @year )\n",
    "\t\tbegin\n",
    "\t\t\tinsert into Region_population_gdp (Continents_Regions_ID,[Population],[Year],primary_energy_consumption,Energy_per_capita,Energy_per_gdp ) \n",
    "\t\t\tvalues (@Continents_Regions_ID,isnull(@Population,0),@year,isnull(@primary_energy_consumption,0),isnull(@Energy_per_capita,0),isnull(@Energy_per_gdp,0) ) \n",
    "\t\tend\n",
    "\n",
    "\n",
    "\t\t\n",
    "\n",
    "\n",
    "\t\t-->> GAS EMISSIONS\n",
    "\t\t-->> log Country Gas Emissions CO2 GAS DATA\n",
    "\t\tset @Gas_ID = (select top 1  Gas_ID from Gases where Gas_Name = 'carbon dioxide (CO2)')\n",
    "\t\tif not exists(select 1 from Region_Gas_Emissions  where Continents_Regions_ID = @Continents_Regions_ID and Gas_ID = @Gas_ID and [Year] = @year )\n",
    "\t\tbegin\n",
    "\t\t\tinsert into Region_Gas_Emissions ([year],Continents_Regions_ID ,Gas_ID,Amount,Gas_per_capita,Trade,Growth_prct,Growth_abs ,Per_unit_energy,Cumulative ,Trade_share ,Share_global ,Share_global_cumulative ,Total_ghg ,Ghg_per_capita ,Total_ghg_excluding_lucf)\n",
    "\t\t\tvalues(isnull(@year,0),isnull(@Continents_Regions_ID,0),@Gas_ID,isnull(@co2,0),isnull(@co2_per_capita,0),isnull(@trade_co2,0),isnull(@co2_growth_prct,0),isnull(@co2_growth_abs,0),isnull(@co2_per_unit_energy,0),isnull(@cumulative_co2,0),isnull(@trade_co2_share,0),isnull(@share_global_co2,0),isnull(@share_global_cumulative_co2,0),isnull(@total_ghg,0),isnull(@ghg_per_capita,0),isnull(@total_ghg_excluding_lucf,0))\n",
    "\t\tend\n",
    "\t\tset @Gas_ID  = null\n",
    "\n",
    "\t\tset @Gas_ID = (select top 1  Gas_ID from Gases where Gas_Name = 'Methane')\n",
    "\t\tif not exists(select 1 from Region_Gas_Emissions  where Continents_Regions_ID = @Continents_Regions_ID and Gas_ID = @Gas_ID and [Year] = @year)\n",
    "\t\tbegin\n",
    "\t\t\tinsert into Region_Gas_Emissions ([year],Continents_Regions_ID ,Gas_ID,Amount,Gas_per_capita,Trade,Growth_prct,Growth_abs ,Per_unit_energy,Cumulative ,Trade_share ,Share_global ,Share_global_cumulative ,Total_ghg ,Ghg_per_capita ,Total_ghg_excluding_lucf)\n",
    "\t\t\tvalues(isnull(@year,0),isnull(@Continents_Regions_ID,0),@Gas_ID,isnull(@co2,0),isnull(@co2_per_capita,0),isnull(@trade_co2,0),isnull(@co2_growth_prct,0),isnull(@co2_growth_abs,0),isnull(@co2_per_unit_energy,0),isnull(@cumulative_co2,0),isnull(@trade_co2_share,0),isnull(@share_global_co2,0),isnull(@share_global_cumulative_co2,0),isnull(@total_ghg,0),isnull(@ghg_per_capita,0),isnull(@total_ghg_excluding_lucf,0))\n",
    "\t\tend\n",
    "\t\tset @Gas_ID  = null\n",
    "\n",
    "\t\tset @Gas_ID = (select top 1  Gas_ID from Gases where Gas_Name = 'Nitrous Oxide')\n",
    "\t\tif not exists(select 1 from Region_Gas_Emissions  where Continents_Regions_ID = @Continents_Regions_ID and Gas_ID = @Gas_ID and [Year] = @year)\n",
    "\t\tbegin\n",
    "\t\t\tinsert into Region_Gas_Emissions ([year],Continents_Regions_ID ,Gas_ID,Amount,Gas_per_capita,Trade,Growth_prct,Growth_abs ,Per_unit_energy,Cumulative ,Trade_share ,Share_global ,Share_global_cumulative ,Total_ghg ,Ghg_per_capita ,Total_ghg_excluding_lucf)\n",
    "\t\t\tvalues(isnull(@year,0),isnull(@Continents_Regions_ID,0),@Gas_ID,isnull(@co2,0),isnull(@co2_per_capita,0),isnull(@trade_co2,0),isnull(@co2_growth_prct,0),isnull(@co2_growth_abs,0),isnull(@co2_per_unit_energy,0),isnull(@cumulative_co2,0),isnull(@trade_co2_share,0),isnull(@share_global_co2,0),isnull(@share_global_cumulative_co2,0),isnull(@total_ghg,0),isnull(@ghg_per_capita,0),isnull(@total_ghg_excluding_lucf,0))\n",
    "\t\tend\n",
    "\t\tset @Gas_ID  = null\n",
    "\n",
    "\n",
    "\n",
    "\n",
    "\t\t-->> SOURCES OF CO2\n",
    "\t\t-- 1. cement\n",
    "\t\tset @Source_ID = (select top 1 Source_ID from CO2_SOURCES where Sources_Name = 'Cement')\n",
    "\t\tset @Gas_ID = (select top 1 Gas_ID from Gases where Gas_Name = 'carbon dioxide (CO2)')\n",
    "\t\tif not exists(select 1 from CO2_Source_Emitters_Per_Region  where Continents_Regions_ID = @Continents_Regions_ID and Gas_ID = @Gas_ID and [Year] = @year and Source_ID = @Source_ID)\n",
    "\t\tbegin\n",
    "\t\t\tinsert into CO2_Source_Emitters_Per_Region (Continents_Regions_ID,Gas_ID ,Source_ID, [Year], Amount ,Source_Per_Capital ,Cumulative ,share_global ,share_global_cumulative )\n",
    "\t\t\tvalues(isnull(@Continents_Regions_ID,0),@Gas_ID,Isnull(@Source_ID,0),Isnull(@year,0),Isnull(@cement_co2,0),Isnull(@cement_co2_per_capita,0),Isnull(@cumulative_cement_co2,0),Isnull(@share_global_cement_co2,0),Isnull(@share_global_cumulative_cement_co2,0))\n",
    "\t\tend\n",
    "\t\tset @Gas_ID  = null set @Source_ID = null\n",
    "\n",
    "\t\t-- 2. Coal\n",
    "\t\tset @Source_ID = (select top 1 Source_ID from CO2_SOURCES where Sources_Name = 'Coal')\n",
    "\t\tset @Gas_ID = (select top 1 Gas_ID from Gases where Gas_Name = 'carbon dioxide (CO2)')\n",
    "\t\tif not exists(select 1 from CO2_Source_Emitters_Per_Region  where Continents_Regions_ID = @Continents_Regions_ID and Gas_ID = @Gas_ID and [Year] = @year and Source_ID = @Source_ID)\n",
    "\t\tbegin\n",
    "\t\t\tinsert into CO2_Source_Emitters_Per_Region (Continents_Regions_ID,Gas_ID ,Source_ID, [Year], Amount ,Source_Per_Capital ,Cumulative ,share_global ,share_global_cumulative )\n",
    "\t\t\tvalues(isnull(@Continents_Regions_ID,0),@Gas_ID,Isnull(@Source_ID,0),Isnull(@year,0),Isnull(@coal_co2,0),Isnull(@coal_co2_per_capita,0),Isnull(@cumulative_coal_co2,0),Isnull(@share_global_coal_co2,0),Isnull(@share_global_cumulative_coal_co2,0))\n",
    "\t\tend\n",
    "\t\tset @Gas_ID  = null set @Source_ID = null\n",
    "\n",
    "\t\t-- 3. flaring\n",
    "\t\tset @Source_ID = (select top 1 Source_ID from CO2_SOURCES where Sources_Name = 'flaring')\n",
    "\t\tset @Gas_ID = (select top 1 Gas_ID from Gases where Gas_Name = 'carbon dioxide (CO2)')\n",
    "\t\tif not exists(select 1 from CO2_Source_Emitters_Per_Region  where Continents_Regions_ID = @Continents_Regions_ID and Gas_ID = @Gas_ID and [Year] = @year and Source_ID = @Source_ID)\n",
    "\t\tbegin\n",
    "\t\t\tinsert into CO2_Source_Emitters_Per_Region (Continents_Regions_ID,Gas_ID ,Source_ID, [Year], Amount ,Source_Per_Capital ,Cumulative ,share_global ,share_global_cumulative )\n",
    "\t\t\tvalues(isnull(@Continents_Regions_ID,0),@Gas_ID,Isnull(@Source_ID,0),Isnull(@year,0),Isnull(@flaring_co2,0),Isnull(@flaring_co2_per_capita,0),Isnull(@cumulative_flaring_co2,0),Isnull(@share_global_flaring_co2,0),Isnull(@share_global_cumulative_flaring_co2,0))\n",
    "\t\tend\n",
    "\t\tset @Gas_ID  = null set @Source_ID = null\n",
    "\n",
    "\t\t-- 4. gas\n",
    "\t\tset @Source_ID = (select top 1 Source_ID from CO2_SOURCES where Sources_Name = 'Gas')\n",
    "\t\tset @Gas_ID = (select top 1 Gas_ID from Gases where Gas_Name = 'carbon dioxide (CO2)')\n",
    "\t\tif not exists(select 1 from CO2_Source_Emitters_Per_Region  where Continents_Regions_ID = @Continents_Regions_ID and Gas_ID = @Gas_ID and [Year] = @year and Source_ID = @Source_ID)\n",
    "\t\tbegin\n",
    "\t\t\tinsert into CO2_Source_Emitters_Per_Region (Continents_Regions_ID,Gas_ID ,Source_ID, [Year], Amount ,Source_Per_Capital ,Cumulative ,share_global ,share_global_cumulative )\n",
    "\t\t\tvalues(isnull(@Continents_Regions_ID,0),@Gas_ID,Isnull(@Source_ID,0),Isnull(@year,0),Isnull(@gas_co2,0),Isnull(@gas_co2_per_capita,0),Isnull(@cumulative_gas_co2,0),Isnull(@share_global_gas_co2,0),Isnull(@share_global_cumulative_gas_co2,0))\n",
    "\t\tend\n",
    "\t\tset @Gas_ID  = null set @Source_ID = null\n",
    "\n",
    "\t\t-- 5. oil\n",
    "\t\tset @Source_ID = (select top 1 Source_ID from CO2_SOURCES where Sources_Name = 'Oil')\n",
    "\t\tset @Gas_ID = (select top 1 Gas_ID from Gases where Gas_Name = 'carbon dioxide (CO2)')\n",
    "\t\tif not exists(select 1 from CO2_Source_Emitters_Per_Region  where Continents_Regions_ID = @Continents_Regions_ID and Gas_ID = @Gas_ID and [Year] = @year and Source_ID = @Source_ID)\n",
    "\t\tbegin\n",
    "\t\t\tinsert into CO2_Source_Emitters_Per_Region (Continents_Regions_ID,Gas_ID ,Source_ID, [Year], Amount ,Source_Per_Capital ,Cumulative ,share_global ,share_global_cumulative )\n",
    "\t\t\tvalues(isnull(@Continents_Regions_ID,0),@Gas_ID,Isnull(@Source_ID,0),Isnull(@year,0),Isnull(@oil_co2,0),Isnull(@oil_co2_per_capita,0),Isnull(@cumulative_oil_co2,0),Isnull(@share_global_oil_co2,0),Isnull(@share_global_cumulative_oil_co2,0))\n",
    "\t\tend\n",
    "\t\tset @Gas_ID  = null set @Source_ID = null\n",
    "\n",
    "\t\t-- 6. other_industry\n",
    "\t\tset @Source_ID = (select top 1 Source_ID from CO2_SOURCES where Sources_Name = 'other_industry')\n",
    "\t\tset @Gas_ID = (select top 1 Gas_ID from Gases where Gas_Name = 'carbon dioxide (CO2)')\n",
    "\t\tif not exists(select 1 from CO2_Source_Emitters_Per_Region  where Continents_Regions_ID = @Continents_Regions_ID and Gas_ID = @Gas_ID and [Year] = @year and Source_ID = @Source_ID)\n",
    "\t\tbegin\n",
    "\t\t\tinsert into CO2_Source_Emitters_Per_Region (Continents_Regions_ID,Gas_ID ,Source_ID, [Year], Amount ,Source_Per_Capital ,Cumulative ,share_global ,share_global_cumulative )\n",
    "\t\t\tvalues(isnull(@Continents_Regions_ID,0),@Gas_ID,Isnull(@Source_ID,0),Isnull(@year,0),Isnull(@other_industry_co2,0),Isnull(@other_co2_per_capita,0),Isnull(@cumulative_other_co2,0),Isnull(@share_global_other_co2,0),Isnull(@share_global_cumulative_other_co2,0))\n",
    "\t\tend\n",
    "\t\tset @Gas_ID  = null set @Source_ID = null\n",
    "\n",
    "\n",
    "\n",
    "\tend\n",
    "\t\t\n",
    "\n",
    "\tset @Country_ID = null set @Continents_Regions_ID = null set @Source_ID  = null set @Gas_ID = null\n",
    "\tset @iso_code= null  SET @country= null  SET @year= null  SET @co2= null  SET @co2_per_capita= null  SET @trade_co2= null  SET @cement_co2= null  SET @cement_co2_per_capita= null  SET @coal_co2= null  SET @coal_co2_per_capita= null  SET @flaring_co2= null  SET @flaring_co2_per_capita= null  SET @gas_co2= null   \n",
    "\tSET @gas_co2_per_capita= null  SET @oil_co2= null  SET @oil_co2_per_capita= null  SET @other_industry_co2= null  SET @other_co2_per_capita= null  SET @co2_growth_prct= null  SET @co2_growth_abs= null  SET @co2_per_gdp= null  SET @co2_per_unit_energy= null  SET @consumption_co2= null  SET @consumption_co2_per_capita= null  \n",
    "\tSET @consumption_co2_per_gdp= null  SET @cumulative_co2= null  SET @cumulative_cement_co2= null  SET @cumulative_coal_co2= null  SET @cumulative_flaring_co2= null  SET @cumulative_gas_co2= null  SET @cumulative_oil_co2= null  SET @cumulative_other_co2= null  SET @trade_co2_share= null  SET @share_global_co2= null  \n",
    "\tSET @share_global_cement_co2= null  SET @share_global_coal_co2= null  SET @share_global_flaring_co2= null  SET @share_global_gas_co2= null  SET @share_global_oil_co2= null  SET @share_global_other_co2= null  SET @share_global_cumulative_co2= null  SET @share_global_cumulative_cement_co2= null  \n",
    "\tSET @share_global_cumulative_coal_co2= null  SET @share_global_cumulative_flaring_co2= null  SET @share_global_cumulative_gas_co2= null  SET @share_global_cumulative_oil_co2= null  SET @share_global_cumulative_other_co2= null  SET @total_ghg= null  SET @ghg_per_capita= null  SET @total_ghg_excluding_lucf= null  \n",
    "\tSET @ghg_excluding_lucf_per_capita= null  SET @methane= null  SET @methane_per_capita= null  SET @nitrous_oxide= null  SET @nitrous_oxide_per_capita= null  SET @population= null  SET @gdp= null  SET @primary_energy_consumption= null  SET @energy_per_capita= null  SET @energy_per_gdp = NULL\n",
    "\tset @start +=1\n",
    "end\n",
    "\n"
   ]
  },
  {
   "cell_type": "markdown",
   "metadata": {
    "azdata_cell_guid": "7eb6471e-539b-452c-98f9-cb3c3e62d018",
    "language": "sql"
   },
   "source": [
    "> ###"
   ]
  },
  {
   "cell_type": "markdown",
   "metadata": {
    "azdata_cell_guid": "4546dc7b-f792-48e6-b461-a4f53741cfbc"
   },
   "source": [
    "> ### Connecting python to our Database."
   ]
  },
  {
   "cell_type": "code",
   "execution_count": 8,
   "metadata": {
    "azdata_cell_guid": "9b5250fd-04f0-4a48-8e4b-0816e11aef17",
    "language": "python"
   },
   "outputs": [
    {
     "data": {
      "application/javascript": [
       "(function(root) {\n",
       "  function now() {\n",
       "    return new Date();\n",
       "  }\n",
       "\n",
       "  var force = true;\n",
       "\n",
       "  if (typeof root._bokeh_onload_callbacks === \"undefined\" || force === true) {\n",
       "    root._bokeh_onload_callbacks = [];\n",
       "    root._bokeh_is_loading = undefined;\n",
       "  }\n",
       "\n",
       "  if (typeof (root._bokeh_timeout) === \"undefined\" || force === true) {\n",
       "    root._bokeh_timeout = Date.now() + 5000;\n",
       "    root._bokeh_failed_load = false;\n",
       "  }\n",
       "\n",
       "  function run_callbacks() {\n",
       "    try {\n",
       "      root._bokeh_onload_callbacks.forEach(function(callback) {\n",
       "        if (callback != null)\n",
       "          callback();\n",
       "      });\n",
       "    } finally {\n",
       "      delete root._bokeh_onload_callbacks\n",
       "    }\n",
       "    console.debug(\"Bokeh: all callbacks have finished\");\n",
       "  }\n",
       "\n",
       "  function load_libs(css_urls, js_urls, js_modules, callback) {\n",
       "    if (css_urls == null) css_urls = [];\n",
       "    if (js_urls == null) js_urls = [];\n",
       "    if (js_modules == null) js_modules = [];\n",
       "\n",
       "    root._bokeh_onload_callbacks.push(callback);\n",
       "    if (root._bokeh_is_loading > 0) {\n",
       "      console.debug(\"Bokeh: BokehJS is being loaded, scheduling callback at\", now());\n",
       "      return null;\n",
       "    }\n",
       "    if (js_urls.length === 0 && js_modules.length === 0) {\n",
       "      run_callbacks();\n",
       "      return null;\n",
       "    }\n",
       "    console.debug(\"Bokeh: BokehJS not loaded, scheduling load and callback at\", now());\n",
       "\n",
       "    function on_load() {\n",
       "      root._bokeh_is_loading--;\n",
       "      if (root._bokeh_is_loading === 0) {\n",
       "        console.debug(\"Bokeh: all BokehJS libraries/stylesheets loaded\");\n",
       "        run_callbacks()\n",
       "      }\n",
       "    }\n",
       "\n",
       "    function on_error() {\n",
       "      console.error(\"failed to load \" + url);\n",
       "    }\n",
       "\n",
       "    for (var i = 0; i < css_urls.length; i++) {\n",
       "      var url = css_urls[i];\n",
       "      const element = document.createElement(\"link\");\n",
       "      element.onload = on_load;\n",
       "      element.onerror = on_error;\n",
       "      element.rel = \"stylesheet\";\n",
       "      element.type = \"text/css\";\n",
       "      element.href = url;\n",
       "      console.debug(\"Bokeh: injecting link tag for BokehJS stylesheet: \", url);\n",
       "      document.body.appendChild(element);\n",
       "    }\n",
       "\n",
       "    var skip = [];\n",
       "    if (window.requirejs) {\n",
       "      window.requirejs.config({'packages': {}, 'paths': {'tabulator': 'https://unpkg.com/tabulator-tables@4.9.3/dist/js/tabulator', 'moment': 'https://cdn.jsdelivr.net/npm/luxon/build/global/luxon.min', 'gridstack': 'https://cdn.jsdelivr.net/npm/gridstack@4.2.5/dist/gridstack-h5', 'notyf': 'https://cdn.jsdelivr.net/npm/notyf@3/notyf.min'}, 'shim': {'gridstack': {'exports': 'GridStack'}}});\n",
       "      require([\"tabulator\"], function(Tabulator) {\n",
       "\twindow.Tabulator = Tabulator\n",
       "\ton_load()\n",
       "      })\n",
       "      require([\"moment\"], function(moment) {\n",
       "\twindow.moment = moment\n",
       "\ton_load()\n",
       "      })\n",
       "      require([\"gridstack\"], function(GridStack) {\n",
       "\twindow.GridStack = GridStack\n",
       "\ton_load()\n",
       "      })\n",
       "      require([\"notyf\"], function() {\n",
       "\ton_load()\n",
       "      })\n",
       "      root._bokeh_is_loading = css_urls.length + 4;\n",
       "    } else {\n",
       "      root._bokeh_is_loading = css_urls.length + js_urls.length + js_modules.length;\n",
       "    }    if (((window['Tabulator'] !== undefined) && (!(window['Tabulator'] instanceof HTMLElement))) || window.requirejs) {\n",
       "      var urls = ['https://unpkg.com/tabulator-tables@4.9.3/dist/js/tabulator.js'];\n",
       "      for (var i = 0; i < urls.length; i++) {\n",
       "        skip.push(urls[i])\n",
       "      }\n",
       "    }    if (((window['moment'] !== undefined) && (!(window['moment'] instanceof HTMLElement))) || window.requirejs) {\n",
       "      var urls = ['https://cdn.jsdelivr.net/npm/luxon/build/global/luxon.min.js'];\n",
       "      for (var i = 0; i < urls.length; i++) {\n",
       "        skip.push(urls[i])\n",
       "      }\n",
       "    }    if (((window['GridStack'] !== undefined) && (!(window['GridStack'] instanceof HTMLElement))) || window.requirejs) {\n",
       "      var urls = ['https://cdn.jsdelivr.net/npm/gridstack@4.2.5/dist/gridstack-h5.js'];\n",
       "      for (var i = 0; i < urls.length; i++) {\n",
       "        skip.push(urls[i])\n",
       "      }\n",
       "    }    if (((window['Notyf'] !== undefined) && (!(window['Notyf'] instanceof HTMLElement))) || window.requirejs) {\n",
       "      var urls = ['https://cdn.jsdelivr.net/npm/notyf@3/notyf.min.js'];\n",
       "      for (var i = 0; i < urls.length; i++) {\n",
       "        skip.push(urls[i])\n",
       "      }\n",
       "    }    for (var i = 0; i < js_urls.length; i++) {\n",
       "      var url = js_urls[i];\n",
       "      if (skip.indexOf(url) >= 0) {\n",
       "\tif (!window.requirejs) {\n",
       "\t  on_load();\n",
       "\t}\n",
       "\tcontinue;\n",
       "      }\n",
       "      var element = document.createElement('script');\n",
       "      element.onload = on_load;\n",
       "      element.onerror = on_error;\n",
       "      element.async = false;\n",
       "      element.src = url;\n",
       "      console.debug(\"Bokeh: injecting script tag for BokehJS library: \", url);\n",
       "      document.head.appendChild(element);\n",
       "    }\n",
       "    for (var i = 0; i < js_modules.length; i++) {\n",
       "      var url = js_modules[i];\n",
       "      if (skip.indexOf(url) >= 0) {\n",
       "\tif (!window.requirejs) {\n",
       "\t  on_load();\n",
       "\t}\n",
       "\tcontinue;\n",
       "      }\n",
       "      var element = document.createElement('script');\n",
       "      element.onload = on_load;\n",
       "      element.onerror = on_error;\n",
       "      element.async = false;\n",
       "      element.src = url;\n",
       "      element.type = \"module\";\n",
       "      console.debug(\"Bokeh: injecting script tag for BokehJS library: \", url);\n",
       "      document.head.appendChild(element);\n",
       "    }\n",
       "    if (!js_urls.length && !js_modules.length) {\n",
       "      on_load()\n",
       "    }\n",
       "  };\n",
       "\n",
       "  function inject_raw_css(css) {\n",
       "    const element = document.createElement(\"style\");\n",
       "    element.appendChild(document.createTextNode(css));\n",
       "    document.body.appendChild(element);\n",
       "  }\n",
       "\n",
       "  var js_urls = [\"https://unpkg.com/tabulator-tables@4.9.3/dist/js/tabulator.js\", \"https://cdn.jsdelivr.net/npm/luxon/build/global/luxon.min.js\", \"https://cdn.bokeh.org/bokeh/release/bokeh-2.4.1.min.js\", \"https://cdn.bokeh.org/bokeh/release/bokeh-gl-2.4.1.min.js\", \"https://cdn.bokeh.org/bokeh/release/bokeh-widgets-2.4.1.min.js\", \"https://cdn.bokeh.org/bokeh/release/bokeh-tables-2.4.1.min.js\", \"https://cdn.bokeh.org/bokeh/release/bokeh-mathjax-2.4.1.min.js\", \"https://cdn.jsdelivr.net/npm/notyf@3/notyf.min.js\", \"https://unpkg.com/@holoviz/panel@0.13.1/dist/panel.min.js\"];\n",
       "  var js_modules = [];\n",
       "  var css_urls = [\"https://unpkg.com/tabulator-tables@4.9.3/dist/css/tabulator_simple.min.css\", \"https://cdn.jsdelivr.net/npm/notyf@3/notyf.min.css\", \"https://cdnjs.cloudflare.com/ajax/libs/font-awesome/5.15.1/css/all.min.css\", \"https://unpkg.com/@holoviz/panel@0.13.1/dist/css/alerts.css\", \"https://unpkg.com/@holoviz/panel@0.13.1/dist/css/card.css\", \"https://unpkg.com/@holoviz/panel@0.13.1/dist/css/dataframe.css\", \"https://unpkg.com/@holoviz/panel@0.13.1/dist/css/debugger.css\", \"https://unpkg.com/@holoviz/panel@0.13.1/dist/css/json.css\", \"https://unpkg.com/@holoviz/panel@0.13.1/dist/css/loading.css\", \"https://unpkg.com/@holoviz/panel@0.13.1/dist/css/markdown.css\", \"https://unpkg.com/@holoviz/panel@0.13.1/dist/css/widgets.css\"];\n",
       "  var inline_js = [    function(Bokeh) {\n",
       "      inject_raw_css(\"\\n    .bk.pn-loading.arcs:before {\\n      background-image: url(\\\"data:image/svg+xml;base64,PHN2ZyB4bWxucz0iaHR0cDovL3d3dy53My5vcmcvMjAwMC9zdmciIHhtbG5zOnhsaW5rPSJodHRwOi8vd3d3LnczLm9yZy8xOTk5L3hsaW5rIiBzdHlsZT0ibWFyZ2luOiBhdXRvOyBiYWNrZ3JvdW5kOiBub25lOyBkaXNwbGF5OiBibG9jazsgc2hhcGUtcmVuZGVyaW5nOiBhdXRvOyIgdmlld0JveD0iMCAwIDEwMCAxMDAiIHByZXNlcnZlQXNwZWN0UmF0aW89InhNaWRZTWlkIj4gIDxjaXJjbGUgY3g9IjUwIiBjeT0iNTAiIHI9IjMyIiBzdHJva2Utd2lkdGg9IjgiIHN0cm9rZT0iI2MzYzNjMyIgc3Ryb2tlLWRhc2hhcnJheT0iNTAuMjY1NDgyNDU3NDM2NjkgNTAuMjY1NDgyNDU3NDM2NjkiIGZpbGw9Im5vbmUiIHN0cm9rZS1saW5lY2FwPSJyb3VuZCI+ICAgIDxhbmltYXRlVHJhbnNmb3JtIGF0dHJpYnV0ZU5hbWU9InRyYW5zZm9ybSIgdHlwZT0icm90YXRlIiByZXBlYXRDb3VudD0iaW5kZWZpbml0ZSIgZHVyPSIxcyIga2V5VGltZXM9IjA7MSIgdmFsdWVzPSIwIDUwIDUwOzM2MCA1MCA1MCI+PC9hbmltYXRlVHJhbnNmb3JtPiAgPC9jaXJjbGU+PC9zdmc+\\\");\\n      background-size: auto calc(min(50%, 400px));\\n    }\\n    \");\n",
       "    },    function(Bokeh) {\n",
       "      Bokeh.set_log_level(\"info\");\n",
       "    },\n",
       "function(Bokeh) {} // ensure no trailing comma for IE\n",
       "  ];\n",
       "\n",
       "  function run_inline_js() {\n",
       "    if ((root.Bokeh !== undefined) || (force === true)) {\n",
       "      for (var i = 0; i < inline_js.length; i++) {\n",
       "        inline_js[i].call(root, root.Bokeh);\n",
       "      }} else if (Date.now() < root._bokeh_timeout) {\n",
       "      setTimeout(run_inline_js, 100);\n",
       "    } else if (!root._bokeh_failed_load) {\n",
       "      console.log(\"Bokeh: BokehJS failed to load within specified timeout.\");\n",
       "      root._bokeh_failed_load = true;\n",
       "    }\n",
       "  }\n",
       "\n",
       "  if (root._bokeh_is_loading === 0) {\n",
       "    console.debug(\"Bokeh: BokehJS loaded, going straight to plotting\");\n",
       "    run_inline_js();\n",
       "  } else {\n",
       "    load_libs(css_urls, js_urls, js_modules, function() {\n",
       "      console.debug(\"Bokeh: BokehJS plotting callback run at\", now());\n",
       "      run_inline_js();\n",
       "    });\n",
       "  }\n",
       "}(window));"
      ],
      "application/vnd.holoviews_load.v0+json": "(function(root) {\n  function now() {\n    return new Date();\n  }\n\n  var force = true;\n\n  if (typeof root._bokeh_onload_callbacks === \"undefined\" || force === true) {\n    root._bokeh_onload_callbacks = [];\n    root._bokeh_is_loading = undefined;\n  }\n\n  if (typeof (root._bokeh_timeout) === \"undefined\" || force === true) {\n    root._bokeh_timeout = Date.now() + 5000;\n    root._bokeh_failed_load = false;\n  }\n\n  function run_callbacks() {\n    try {\n      root._bokeh_onload_callbacks.forEach(function(callback) {\n        if (callback != null)\n          callback();\n      });\n    } finally {\n      delete root._bokeh_onload_callbacks\n    }\n    console.debug(\"Bokeh: all callbacks have finished\");\n  }\n\n  function load_libs(css_urls, js_urls, js_modules, callback) {\n    if (css_urls == null) css_urls = [];\n    if (js_urls == null) js_urls = [];\n    if (js_modules == null) js_modules = [];\n\n    root._bokeh_onload_callbacks.push(callback);\n    if (root._bokeh_is_loading > 0) {\n      console.debug(\"Bokeh: BokehJS is being loaded, scheduling callback at\", now());\n      return null;\n    }\n    if (js_urls.length === 0 && js_modules.length === 0) {\n      run_callbacks();\n      return null;\n    }\n    console.debug(\"Bokeh: BokehJS not loaded, scheduling load and callback at\", now());\n\n    function on_load() {\n      root._bokeh_is_loading--;\n      if (root._bokeh_is_loading === 0) {\n        console.debug(\"Bokeh: all BokehJS libraries/stylesheets loaded\");\n        run_callbacks()\n      }\n    }\n\n    function on_error() {\n      console.error(\"failed to load \" + url);\n    }\n\n    for (var i = 0; i < css_urls.length; i++) {\n      var url = css_urls[i];\n      const element = document.createElement(\"link\");\n      element.onload = on_load;\n      element.onerror = on_error;\n      element.rel = \"stylesheet\";\n      element.type = \"text/css\";\n      element.href = url;\n      console.debug(\"Bokeh: injecting link tag for BokehJS stylesheet: \", url);\n      document.body.appendChild(element);\n    }\n\n    var skip = [];\n    if (window.requirejs) {\n      window.requirejs.config({'packages': {}, 'paths': {'tabulator': 'https://unpkg.com/tabulator-tables@4.9.3/dist/js/tabulator', 'moment': 'https://cdn.jsdelivr.net/npm/luxon/build/global/luxon.min', 'gridstack': 'https://cdn.jsdelivr.net/npm/gridstack@4.2.5/dist/gridstack-h5', 'notyf': 'https://cdn.jsdelivr.net/npm/notyf@3/notyf.min'}, 'shim': {'gridstack': {'exports': 'GridStack'}}});\n      require([\"tabulator\"], function(Tabulator) {\n\twindow.Tabulator = Tabulator\n\ton_load()\n      })\n      require([\"moment\"], function(moment) {\n\twindow.moment = moment\n\ton_load()\n      })\n      require([\"gridstack\"], function(GridStack) {\n\twindow.GridStack = GridStack\n\ton_load()\n      })\n      require([\"notyf\"], function() {\n\ton_load()\n      })\n      root._bokeh_is_loading = css_urls.length + 4;\n    } else {\n      root._bokeh_is_loading = css_urls.length + js_urls.length + js_modules.length;\n    }    if (((window['Tabulator'] !== undefined) && (!(window['Tabulator'] instanceof HTMLElement))) || window.requirejs) {\n      var urls = ['https://unpkg.com/tabulator-tables@4.9.3/dist/js/tabulator.js'];\n      for (var i = 0; i < urls.length; i++) {\n        skip.push(urls[i])\n      }\n    }    if (((window['moment'] !== undefined) && (!(window['moment'] instanceof HTMLElement))) || window.requirejs) {\n      var urls = ['https://cdn.jsdelivr.net/npm/luxon/build/global/luxon.min.js'];\n      for (var i = 0; i < urls.length; i++) {\n        skip.push(urls[i])\n      }\n    }    if (((window['GridStack'] !== undefined) && (!(window['GridStack'] instanceof HTMLElement))) || window.requirejs) {\n      var urls = ['https://cdn.jsdelivr.net/npm/gridstack@4.2.5/dist/gridstack-h5.js'];\n      for (var i = 0; i < urls.length; i++) {\n        skip.push(urls[i])\n      }\n    }    if (((window['Notyf'] !== undefined) && (!(window['Notyf'] instanceof HTMLElement))) || window.requirejs) {\n      var urls = ['https://cdn.jsdelivr.net/npm/notyf@3/notyf.min.js'];\n      for (var i = 0; i < urls.length; i++) {\n        skip.push(urls[i])\n      }\n    }    for (var i = 0; i < js_urls.length; i++) {\n      var url = js_urls[i];\n      if (skip.indexOf(url) >= 0) {\n\tif (!window.requirejs) {\n\t  on_load();\n\t}\n\tcontinue;\n      }\n      var element = document.createElement('script');\n      element.onload = on_load;\n      element.onerror = on_error;\n      element.async = false;\n      element.src = url;\n      console.debug(\"Bokeh: injecting script tag for BokehJS library: \", url);\n      document.head.appendChild(element);\n    }\n    for (var i = 0; i < js_modules.length; i++) {\n      var url = js_modules[i];\n      if (skip.indexOf(url) >= 0) {\n\tif (!window.requirejs) {\n\t  on_load();\n\t}\n\tcontinue;\n      }\n      var element = document.createElement('script');\n      element.onload = on_load;\n      element.onerror = on_error;\n      element.async = false;\n      element.src = url;\n      element.type = \"module\";\n      console.debug(\"Bokeh: injecting script tag for BokehJS library: \", url);\n      document.head.appendChild(element);\n    }\n    if (!js_urls.length && !js_modules.length) {\n      on_load()\n    }\n  };\n\n  function inject_raw_css(css) {\n    const element = document.createElement(\"style\");\n    element.appendChild(document.createTextNode(css));\n    document.body.appendChild(element);\n  }\n\n  var js_urls = [\"https://unpkg.com/tabulator-tables@4.9.3/dist/js/tabulator.js\", \"https://cdn.jsdelivr.net/npm/luxon/build/global/luxon.min.js\", \"https://cdn.bokeh.org/bokeh/release/bokeh-2.4.1.min.js\", \"https://cdn.bokeh.org/bokeh/release/bokeh-gl-2.4.1.min.js\", \"https://cdn.bokeh.org/bokeh/release/bokeh-widgets-2.4.1.min.js\", \"https://cdn.bokeh.org/bokeh/release/bokeh-tables-2.4.1.min.js\", \"https://cdn.bokeh.org/bokeh/release/bokeh-mathjax-2.4.1.min.js\", \"https://cdn.jsdelivr.net/npm/notyf@3/notyf.min.js\", \"https://unpkg.com/@holoviz/panel@0.13.1/dist/panel.min.js\"];\n  var js_modules = [];\n  var css_urls = [\"https://unpkg.com/tabulator-tables@4.9.3/dist/css/tabulator_simple.min.css\", \"https://cdn.jsdelivr.net/npm/notyf@3/notyf.min.css\", \"https://cdnjs.cloudflare.com/ajax/libs/font-awesome/5.15.1/css/all.min.css\", \"https://unpkg.com/@holoviz/panel@0.13.1/dist/css/alerts.css\", \"https://unpkg.com/@holoviz/panel@0.13.1/dist/css/card.css\", \"https://unpkg.com/@holoviz/panel@0.13.1/dist/css/dataframe.css\", \"https://unpkg.com/@holoviz/panel@0.13.1/dist/css/debugger.css\", \"https://unpkg.com/@holoviz/panel@0.13.1/dist/css/json.css\", \"https://unpkg.com/@holoviz/panel@0.13.1/dist/css/loading.css\", \"https://unpkg.com/@holoviz/panel@0.13.1/dist/css/markdown.css\", \"https://unpkg.com/@holoviz/panel@0.13.1/dist/css/widgets.css\"];\n  var inline_js = [    function(Bokeh) {\n      inject_raw_css(\"\\n    .bk.pn-loading.arcs:before {\\n      background-image: url(\\\"data:image/svg+xml;base64,PHN2ZyB4bWxucz0iaHR0cDovL3d3dy53My5vcmcvMjAwMC9zdmciIHhtbG5zOnhsaW5rPSJodHRwOi8vd3d3LnczLm9yZy8xOTk5L3hsaW5rIiBzdHlsZT0ibWFyZ2luOiBhdXRvOyBiYWNrZ3JvdW5kOiBub25lOyBkaXNwbGF5OiBibG9jazsgc2hhcGUtcmVuZGVyaW5nOiBhdXRvOyIgdmlld0JveD0iMCAwIDEwMCAxMDAiIHByZXNlcnZlQXNwZWN0UmF0aW89InhNaWRZTWlkIj4gIDxjaXJjbGUgY3g9IjUwIiBjeT0iNTAiIHI9IjMyIiBzdHJva2Utd2lkdGg9IjgiIHN0cm9rZT0iI2MzYzNjMyIgc3Ryb2tlLWRhc2hhcnJheT0iNTAuMjY1NDgyNDU3NDM2NjkgNTAuMjY1NDgyNDU3NDM2NjkiIGZpbGw9Im5vbmUiIHN0cm9rZS1saW5lY2FwPSJyb3VuZCI+ICAgIDxhbmltYXRlVHJhbnNmb3JtIGF0dHJpYnV0ZU5hbWU9InRyYW5zZm9ybSIgdHlwZT0icm90YXRlIiByZXBlYXRDb3VudD0iaW5kZWZpbml0ZSIgZHVyPSIxcyIga2V5VGltZXM9IjA7MSIgdmFsdWVzPSIwIDUwIDUwOzM2MCA1MCA1MCI+PC9hbmltYXRlVHJhbnNmb3JtPiAgPC9jaXJjbGU+PC9zdmc+\\\");\\n      background-size: auto calc(min(50%, 400px));\\n    }\\n    \");\n    },    function(Bokeh) {\n      Bokeh.set_log_level(\"info\");\n    },\nfunction(Bokeh) {} // ensure no trailing comma for IE\n  ];\n\n  function run_inline_js() {\n    if ((root.Bokeh !== undefined) || (force === true)) {\n      for (var i = 0; i < inline_js.length; i++) {\n        inline_js[i].call(root, root.Bokeh);\n      }} else if (Date.now() < root._bokeh_timeout) {\n      setTimeout(run_inline_js, 100);\n    } else if (!root._bokeh_failed_load) {\n      console.log(\"Bokeh: BokehJS failed to load within specified timeout.\");\n      root._bokeh_failed_load = true;\n    }\n  }\n\n  if (root._bokeh_is_loading === 0) {\n    console.debug(\"Bokeh: BokehJS loaded, going straight to plotting\");\n    run_inline_js();\n  } else {\n    load_libs(css_urls, js_urls, js_modules, function() {\n      console.debug(\"Bokeh: BokehJS plotting callback run at\", now());\n      run_inline_js();\n    });\n  }\n}(window));"
     },
     "metadata": {},
     "output_type": "display_data"
    },
    {
     "data": {
      "application/javascript": [
       "\n",
       "if ((window.PyViz === undefined) || (window.PyViz instanceof HTMLElement)) {\n",
       "  window.PyViz = {comms: {}, comm_status:{}, kernels:{}, receivers: {}, plot_index: []}\n",
       "}\n",
       "\n",
       "\n",
       "    function JupyterCommManager() {\n",
       "    }\n",
       "\n",
       "    JupyterCommManager.prototype.register_target = function(plot_id, comm_id, msg_handler) {\n",
       "      if (window.comm_manager || ((window.Jupyter !== undefined) && (Jupyter.notebook.kernel != null))) {\n",
       "        var comm_manager = window.comm_manager || Jupyter.notebook.kernel.comm_manager;\n",
       "        comm_manager.register_target(comm_id, function(comm) {\n",
       "          comm.on_msg(msg_handler);\n",
       "        });\n",
       "      } else if ((plot_id in window.PyViz.kernels) && (window.PyViz.kernels[plot_id])) {\n",
       "        window.PyViz.kernels[plot_id].registerCommTarget(comm_id, function(comm) {\n",
       "          comm.onMsg = msg_handler;\n",
       "        });\n",
       "      } else if (typeof google != 'undefined' && google.colab.kernel != null) {\n",
       "        google.colab.kernel.comms.registerTarget(comm_id, (comm) => {\n",
       "          var messages = comm.messages[Symbol.asyncIterator]();\n",
       "          function processIteratorResult(result) {\n",
       "            var message = result.value;\n",
       "            console.log(message)\n",
       "            var content = {data: message.data, comm_id};\n",
       "            var buffers = []\n",
       "            for (var buffer of message.buffers || []) {\n",
       "              buffers.push(new DataView(buffer))\n",
       "            }\n",
       "            var metadata = message.metadata || {};\n",
       "            var msg = {content, buffers, metadata}\n",
       "            msg_handler(msg);\n",
       "            return messages.next().then(processIteratorResult);\n",
       "          }\n",
       "          return messages.next().then(processIteratorResult);\n",
       "        })\n",
       "      }\n",
       "    }\n",
       "\n",
       "    JupyterCommManager.prototype.get_client_comm = function(plot_id, comm_id, msg_handler) {\n",
       "      if (comm_id in window.PyViz.comms) {\n",
       "        return window.PyViz.comms[comm_id];\n",
       "      } else if (window.comm_manager || ((window.Jupyter !== undefined) && (Jupyter.notebook.kernel != null))) {\n",
       "        var comm_manager = window.comm_manager || Jupyter.notebook.kernel.comm_manager;\n",
       "        var comm = comm_manager.new_comm(comm_id, {}, {}, {}, comm_id);\n",
       "        if (msg_handler) {\n",
       "          comm.on_msg(msg_handler);\n",
       "        }\n",
       "      } else if ((plot_id in window.PyViz.kernels) && (window.PyViz.kernels[plot_id])) {\n",
       "        var comm = window.PyViz.kernels[plot_id].connectToComm(comm_id);\n",
       "        comm.open();\n",
       "        if (msg_handler) {\n",
       "          comm.onMsg = msg_handler;\n",
       "        }\n",
       "      } else if (typeof google != 'undefined' && google.colab.kernel != null) {\n",
       "        var comm_promise = google.colab.kernel.comms.open(comm_id)\n",
       "        comm_promise.then((comm) => {\n",
       "          window.PyViz.comms[comm_id] = comm;\n",
       "          if (msg_handler) {\n",
       "            var messages = comm.messages[Symbol.asyncIterator]();\n",
       "            function processIteratorResult(result) {\n",
       "              var message = result.value;\n",
       "              var content = {data: message.data};\n",
       "              var metadata = message.metadata || {comm_id};\n",
       "              var msg = {content, metadata}\n",
       "              msg_handler(msg);\n",
       "              return messages.next().then(processIteratorResult);\n",
       "            }\n",
       "            return messages.next().then(processIteratorResult);\n",
       "          }\n",
       "        }) \n",
       "        var sendClosure = (data, metadata, buffers, disposeOnDone) => {\n",
       "          return comm_promise.then((comm) => {\n",
       "            comm.send(data, metadata, buffers, disposeOnDone);\n",
       "          });\n",
       "        };\n",
       "        var comm = {\n",
       "          send: sendClosure\n",
       "        };\n",
       "      }\n",
       "      window.PyViz.comms[comm_id] = comm;\n",
       "      return comm;\n",
       "    }\n",
       "    window.PyViz.comm_manager = new JupyterCommManager();\n",
       "    \n",
       "\n",
       "\n",
       "var JS_MIME_TYPE = 'application/javascript';\n",
       "var HTML_MIME_TYPE = 'text/html';\n",
       "var EXEC_MIME_TYPE = 'application/vnd.holoviews_exec.v0+json';\n",
       "var CLASS_NAME = 'output';\n",
       "\n",
       "/**\n",
       " * Render data to the DOM node\n",
       " */\n",
       "function render(props, node) {\n",
       "  var div = document.createElement(\"div\");\n",
       "  var script = document.createElement(\"script\");\n",
       "  node.appendChild(div);\n",
       "  node.appendChild(script);\n",
       "}\n",
       "\n",
       "/**\n",
       " * Handle when a new output is added\n",
       " */\n",
       "function handle_add_output(event, handle) {\n",
       "  var output_area = handle.output_area;\n",
       "  var output = handle.output;\n",
       "  if ((output.data == undefined) || (!output.data.hasOwnProperty(EXEC_MIME_TYPE))) {\n",
       "    return\n",
       "  }\n",
       "  var id = output.metadata[EXEC_MIME_TYPE][\"id\"];\n",
       "  var toinsert = output_area.element.find(\".\" + CLASS_NAME.split(' ')[0]);\n",
       "  if (id !== undefined) {\n",
       "    var nchildren = toinsert.length;\n",
       "    var html_node = toinsert[nchildren-1].children[0];\n",
       "    html_node.innerHTML = output.data[HTML_MIME_TYPE];\n",
       "    var scripts = [];\n",
       "    var nodelist = html_node.querySelectorAll(\"script\");\n",
       "    for (var i in nodelist) {\n",
       "      if (nodelist.hasOwnProperty(i)) {\n",
       "        scripts.push(nodelist[i])\n",
       "      }\n",
       "    }\n",
       "\n",
       "    scripts.forEach( function (oldScript) {\n",
       "      var newScript = document.createElement(\"script\");\n",
       "      var attrs = [];\n",
       "      var nodemap = oldScript.attributes;\n",
       "      for (var j in nodemap) {\n",
       "        if (nodemap.hasOwnProperty(j)) {\n",
       "          attrs.push(nodemap[j])\n",
       "        }\n",
       "      }\n",
       "      attrs.forEach(function(attr) { newScript.setAttribute(attr.name, attr.value) });\n",
       "      newScript.appendChild(document.createTextNode(oldScript.innerHTML));\n",
       "      oldScript.parentNode.replaceChild(newScript, oldScript);\n",
       "    });\n",
       "    if (JS_MIME_TYPE in output.data) {\n",
       "      toinsert[nchildren-1].children[1].textContent = output.data[JS_MIME_TYPE];\n",
       "    }\n",
       "    output_area._hv_plot_id = id;\n",
       "    if ((window.Bokeh !== undefined) && (id in Bokeh.index)) {\n",
       "      window.PyViz.plot_index[id] = Bokeh.index[id];\n",
       "    } else {\n",
       "      window.PyViz.plot_index[id] = null;\n",
       "    }\n",
       "  } else if (output.metadata[EXEC_MIME_TYPE][\"server_id\"] !== undefined) {\n",
       "    var bk_div = document.createElement(\"div\");\n",
       "    bk_div.innerHTML = output.data[HTML_MIME_TYPE];\n",
       "    var script_attrs = bk_div.children[0].attributes;\n",
       "    for (var i = 0; i < script_attrs.length; i++) {\n",
       "      toinsert[toinsert.length - 1].childNodes[1].setAttribute(script_attrs[i].name, script_attrs[i].value);\n",
       "    }\n",
       "    // store reference to server id on output_area\n",
       "    output_area._bokeh_server_id = output.metadata[EXEC_MIME_TYPE][\"server_id\"];\n",
       "  }\n",
       "}\n",
       "\n",
       "/**\n",
       " * Handle when an output is cleared or removed\n",
       " */\n",
       "function handle_clear_output(event, handle) {\n",
       "  var id = handle.cell.output_area._hv_plot_id;\n",
       "  var server_id = handle.cell.output_area._bokeh_server_id;\n",
       "  if (((id === undefined) || !(id in PyViz.plot_index)) && (server_id !== undefined)) { return; }\n",
       "  var comm = window.PyViz.comm_manager.get_client_comm(\"hv-extension-comm\", \"hv-extension-comm\", function () {});\n",
       "  if (server_id !== null) {\n",
       "    comm.send({event_type: 'server_delete', 'id': server_id});\n",
       "    return;\n",
       "  } else if (comm !== null) {\n",
       "    comm.send({event_type: 'delete', 'id': id});\n",
       "  }\n",
       "  delete PyViz.plot_index[id];\n",
       "  if ((window.Bokeh !== undefined) & (id in window.Bokeh.index)) {\n",
       "    var doc = window.Bokeh.index[id].model.document\n",
       "    doc.clear();\n",
       "    const i = window.Bokeh.documents.indexOf(doc);\n",
       "    if (i > -1) {\n",
       "      window.Bokeh.documents.splice(i, 1);\n",
       "    }\n",
       "  }\n",
       "}\n",
       "\n",
       "/**\n",
       " * Handle kernel restart event\n",
       " */\n",
       "function handle_kernel_cleanup(event, handle) {\n",
       "  delete PyViz.comms[\"hv-extension-comm\"];\n",
       "  window.PyViz.plot_index = {}\n",
       "}\n",
       "\n",
       "/**\n",
       " * Handle update_display_data messages\n",
       " */\n",
       "function handle_update_output(event, handle) {\n",
       "  handle_clear_output(event, {cell: {output_area: handle.output_area}})\n",
       "  handle_add_output(event, handle)\n",
       "}\n",
       "\n",
       "function register_renderer(events, OutputArea) {\n",
       "  function append_mime(data, metadata, element) {\n",
       "    // create a DOM node to render to\n",
       "    var toinsert = this.create_output_subarea(\n",
       "    metadata,\n",
       "    CLASS_NAME,\n",
       "    EXEC_MIME_TYPE\n",
       "    );\n",
       "    this.keyboard_manager.register_events(toinsert);\n",
       "    // Render to node\n",
       "    var props = {data: data, metadata: metadata[EXEC_MIME_TYPE]};\n",
       "    render(props, toinsert[0]);\n",
       "    element.append(toinsert);\n",
       "    return toinsert\n",
       "  }\n",
       "\n",
       "  events.on('output_added.OutputArea', handle_add_output);\n",
       "  events.on('output_updated.OutputArea', handle_update_output);\n",
       "  events.on('clear_output.CodeCell', handle_clear_output);\n",
       "  events.on('delete.Cell', handle_clear_output);\n",
       "  events.on('kernel_ready.Kernel', handle_kernel_cleanup);\n",
       "\n",
       "  OutputArea.prototype.register_mime_type(EXEC_MIME_TYPE, append_mime, {\n",
       "    safe: true,\n",
       "    index: 0\n",
       "  });\n",
       "}\n",
       "\n",
       "if (window.Jupyter !== undefined) {\n",
       "  try {\n",
       "    var events = require('base/js/events');\n",
       "    var OutputArea = require('notebook/js/outputarea').OutputArea;\n",
       "    if (OutputArea.prototype.mime_types().indexOf(EXEC_MIME_TYPE) == -1) {\n",
       "      register_renderer(events, OutputArea);\n",
       "    }\n",
       "  } catch(err) {\n",
       "  }\n",
       "}\n"
      ],
      "application/vnd.holoviews_load.v0+json": "\nif ((window.PyViz === undefined) || (window.PyViz instanceof HTMLElement)) {\n  window.PyViz = {comms: {}, comm_status:{}, kernels:{}, receivers: {}, plot_index: []}\n}\n\n\n    function JupyterCommManager() {\n    }\n\n    JupyterCommManager.prototype.register_target = function(plot_id, comm_id, msg_handler) {\n      if (window.comm_manager || ((window.Jupyter !== undefined) && (Jupyter.notebook.kernel != null))) {\n        var comm_manager = window.comm_manager || Jupyter.notebook.kernel.comm_manager;\n        comm_manager.register_target(comm_id, function(comm) {\n          comm.on_msg(msg_handler);\n        });\n      } else if ((plot_id in window.PyViz.kernels) && (window.PyViz.kernels[plot_id])) {\n        window.PyViz.kernels[plot_id].registerCommTarget(comm_id, function(comm) {\n          comm.onMsg = msg_handler;\n        });\n      } else if (typeof google != 'undefined' && google.colab.kernel != null) {\n        google.colab.kernel.comms.registerTarget(comm_id, (comm) => {\n          var messages = comm.messages[Symbol.asyncIterator]();\n          function processIteratorResult(result) {\n            var message = result.value;\n            console.log(message)\n            var content = {data: message.data, comm_id};\n            var buffers = []\n            for (var buffer of message.buffers || []) {\n              buffers.push(new DataView(buffer))\n            }\n            var metadata = message.metadata || {};\n            var msg = {content, buffers, metadata}\n            msg_handler(msg);\n            return messages.next().then(processIteratorResult);\n          }\n          return messages.next().then(processIteratorResult);\n        })\n      }\n    }\n\n    JupyterCommManager.prototype.get_client_comm = function(plot_id, comm_id, msg_handler) {\n      if (comm_id in window.PyViz.comms) {\n        return window.PyViz.comms[comm_id];\n      } else if (window.comm_manager || ((window.Jupyter !== undefined) && (Jupyter.notebook.kernel != null))) {\n        var comm_manager = window.comm_manager || Jupyter.notebook.kernel.comm_manager;\n        var comm = comm_manager.new_comm(comm_id, {}, {}, {}, comm_id);\n        if (msg_handler) {\n          comm.on_msg(msg_handler);\n        }\n      } else if ((plot_id in window.PyViz.kernels) && (window.PyViz.kernels[plot_id])) {\n        var comm = window.PyViz.kernels[plot_id].connectToComm(comm_id);\n        comm.open();\n        if (msg_handler) {\n          comm.onMsg = msg_handler;\n        }\n      } else if (typeof google != 'undefined' && google.colab.kernel != null) {\n        var comm_promise = google.colab.kernel.comms.open(comm_id)\n        comm_promise.then((comm) => {\n          window.PyViz.comms[comm_id] = comm;\n          if (msg_handler) {\n            var messages = comm.messages[Symbol.asyncIterator]();\n            function processIteratorResult(result) {\n              var message = result.value;\n              var content = {data: message.data};\n              var metadata = message.metadata || {comm_id};\n              var msg = {content, metadata}\n              msg_handler(msg);\n              return messages.next().then(processIteratorResult);\n            }\n            return messages.next().then(processIteratorResult);\n          }\n        }) \n        var sendClosure = (data, metadata, buffers, disposeOnDone) => {\n          return comm_promise.then((comm) => {\n            comm.send(data, metadata, buffers, disposeOnDone);\n          });\n        };\n        var comm = {\n          send: sendClosure\n        };\n      }\n      window.PyViz.comms[comm_id] = comm;\n      return comm;\n    }\n    window.PyViz.comm_manager = new JupyterCommManager();\n    \n\n\nvar JS_MIME_TYPE = 'application/javascript';\nvar HTML_MIME_TYPE = 'text/html';\nvar EXEC_MIME_TYPE = 'application/vnd.holoviews_exec.v0+json';\nvar CLASS_NAME = 'output';\n\n/**\n * Render data to the DOM node\n */\nfunction render(props, node) {\n  var div = document.createElement(\"div\");\n  var script = document.createElement(\"script\");\n  node.appendChild(div);\n  node.appendChild(script);\n}\n\n/**\n * Handle when a new output is added\n */\nfunction handle_add_output(event, handle) {\n  var output_area = handle.output_area;\n  var output = handle.output;\n  if ((output.data == undefined) || (!output.data.hasOwnProperty(EXEC_MIME_TYPE))) {\n    return\n  }\n  var id = output.metadata[EXEC_MIME_TYPE][\"id\"];\n  var toinsert = output_area.element.find(\".\" + CLASS_NAME.split(' ')[0]);\n  if (id !== undefined) {\n    var nchildren = toinsert.length;\n    var html_node = toinsert[nchildren-1].children[0];\n    html_node.innerHTML = output.data[HTML_MIME_TYPE];\n    var scripts = [];\n    var nodelist = html_node.querySelectorAll(\"script\");\n    for (var i in nodelist) {\n      if (nodelist.hasOwnProperty(i)) {\n        scripts.push(nodelist[i])\n      }\n    }\n\n    scripts.forEach( function (oldScript) {\n      var newScript = document.createElement(\"script\");\n      var attrs = [];\n      var nodemap = oldScript.attributes;\n      for (var j in nodemap) {\n        if (nodemap.hasOwnProperty(j)) {\n          attrs.push(nodemap[j])\n        }\n      }\n      attrs.forEach(function(attr) { newScript.setAttribute(attr.name, attr.value) });\n      newScript.appendChild(document.createTextNode(oldScript.innerHTML));\n      oldScript.parentNode.replaceChild(newScript, oldScript);\n    });\n    if (JS_MIME_TYPE in output.data) {\n      toinsert[nchildren-1].children[1].textContent = output.data[JS_MIME_TYPE];\n    }\n    output_area._hv_plot_id = id;\n    if ((window.Bokeh !== undefined) && (id in Bokeh.index)) {\n      window.PyViz.plot_index[id] = Bokeh.index[id];\n    } else {\n      window.PyViz.plot_index[id] = null;\n    }\n  } else if (output.metadata[EXEC_MIME_TYPE][\"server_id\"] !== undefined) {\n    var bk_div = document.createElement(\"div\");\n    bk_div.innerHTML = output.data[HTML_MIME_TYPE];\n    var script_attrs = bk_div.children[0].attributes;\n    for (var i = 0; i < script_attrs.length; i++) {\n      toinsert[toinsert.length - 1].childNodes[1].setAttribute(script_attrs[i].name, script_attrs[i].value);\n    }\n    // store reference to server id on output_area\n    output_area._bokeh_server_id = output.metadata[EXEC_MIME_TYPE][\"server_id\"];\n  }\n}\n\n/**\n * Handle when an output is cleared or removed\n */\nfunction handle_clear_output(event, handle) {\n  var id = handle.cell.output_area._hv_plot_id;\n  var server_id = handle.cell.output_area._bokeh_server_id;\n  if (((id === undefined) || !(id in PyViz.plot_index)) && (server_id !== undefined)) { return; }\n  var comm = window.PyViz.comm_manager.get_client_comm(\"hv-extension-comm\", \"hv-extension-comm\", function () {});\n  if (server_id !== null) {\n    comm.send({event_type: 'server_delete', 'id': server_id});\n    return;\n  } else if (comm !== null) {\n    comm.send({event_type: 'delete', 'id': id});\n  }\n  delete PyViz.plot_index[id];\n  if ((window.Bokeh !== undefined) & (id in window.Bokeh.index)) {\n    var doc = window.Bokeh.index[id].model.document\n    doc.clear();\n    const i = window.Bokeh.documents.indexOf(doc);\n    if (i > -1) {\n      window.Bokeh.documents.splice(i, 1);\n    }\n  }\n}\n\n/**\n * Handle kernel restart event\n */\nfunction handle_kernel_cleanup(event, handle) {\n  delete PyViz.comms[\"hv-extension-comm\"];\n  window.PyViz.plot_index = {}\n}\n\n/**\n * Handle update_display_data messages\n */\nfunction handle_update_output(event, handle) {\n  handle_clear_output(event, {cell: {output_area: handle.output_area}})\n  handle_add_output(event, handle)\n}\n\nfunction register_renderer(events, OutputArea) {\n  function append_mime(data, metadata, element) {\n    // create a DOM node to render to\n    var toinsert = this.create_output_subarea(\n    metadata,\n    CLASS_NAME,\n    EXEC_MIME_TYPE\n    );\n    this.keyboard_manager.register_events(toinsert);\n    // Render to node\n    var props = {data: data, metadata: metadata[EXEC_MIME_TYPE]};\n    render(props, toinsert[0]);\n    element.append(toinsert);\n    return toinsert\n  }\n\n  events.on('output_added.OutputArea', handle_add_output);\n  events.on('output_updated.OutputArea', handle_update_output);\n  events.on('clear_output.CodeCell', handle_clear_output);\n  events.on('delete.Cell', handle_clear_output);\n  events.on('kernel_ready.Kernel', handle_kernel_cleanup);\n\n  OutputArea.prototype.register_mime_type(EXEC_MIME_TYPE, append_mime, {\n    safe: true,\n    index: 0\n  });\n}\n\nif (window.Jupyter !== undefined) {\n  try {\n    var events = require('base/js/events');\n    var OutputArea = require('notebook/js/outputarea').OutputArea;\n    if (OutputArea.prototype.mime_types().indexOf(EXEC_MIME_TYPE) == -1) {\n      register_renderer(events, OutputArea);\n    }\n  } catch(err) {\n  }\n}\n"
     },
     "metadata": {},
     "output_type": "display_data"
    },
    {
     "data": {
      "text/html": [
       "<style>.bk-root, .bk-root .bk:before, .bk-root .bk:after {\n",
       "  font-family: var(--jp-ui-font-size1);\n",
       "  font-size: var(--jp-ui-font-size1);\n",
       "  color: var(--jp-ui-font-color1);\n",
       "}\n",
       "</style>"
      ]
     },
     "metadata": {},
     "output_type": "display_data"
    }
   ],
   "source": [
    "import pyodbc\n",
    "import pandas as pd\n",
    "import datetime as d\n",
    "import seaborn as sns\n",
    "import panel as pn\n",
    "pn.extension('tabulator')\n",
    "\n",
    "import hvplot.pandas"
   ]
  },
  {
   "cell_type": "code",
   "execution_count": 9,
   "metadata": {
    "azdata_cell_guid": "ad9c71db-dd9f-4062-88b2-4f162867431b",
    "language": "python"
   },
   "outputs": [],
   "source": [
    "conn = pyodbc.connect(\"DRIVER={{SQL Server}};SERVER={0}; database={1};trusted_connection=yes;UID={2};PWD={3}\".format('PETER','CO2DB','sa','peter1490'))\n"
   ]
  },
  {
   "cell_type": "markdown",
   "metadata": {
    "azdata_cell_guid": "56c48315-60d2-40e5-8029-6350cf829627",
    "language": ""
   },
   "source": [
    "Connection Test\n",
    "\n",
    "> Lets test our connection by running SQL query that will ruturn grouped amount of gasses emitted over time by Year and gas type.\n",
    "> \n",
    "> We are going to plot line plot of the data frame using seaborn for testing."
   ]
  },
  {
   "cell_type": "code",
   "execution_count": 10,
   "metadata": {
    "azdata_cell_guid": "09e8d06c-0b5e-4166-9f53-98ffe7ac22f0",
    "language": "python",
    "tags": []
   },
   "outputs": [
    {
     "data": {
      "text/html": [
       "<div>\n",
       "<style scoped>\n",
       "    .dataframe tbody tr th:only-of-type {\n",
       "        vertical-align: middle;\n",
       "    }\n",
       "\n",
       "    .dataframe tbody tr th {\n",
       "        vertical-align: top;\n",
       "    }\n",
       "\n",
       "    .dataframe thead th {\n",
       "        text-align: right;\n",
       "    }\n",
       "</style>\n",
       "<table border=\"1\" class=\"dataframe\">\n",
       "  <thead>\n",
       "    <tr style=\"text-align: right;\">\n",
       "      <th></th>\n",
       "      <th>Amount</th>\n",
       "      <th>Year</th>\n",
       "      <th>Sources_Name</th>\n",
       "    </tr>\n",
       "  </thead>\n",
       "  <tbody>\n",
       "    <tr>\n",
       "      <th>0</th>\n",
       "      <td>0.000</td>\n",
       "      <td>1750</td>\n",
       "      <td>Cement</td>\n",
       "    </tr>\n",
       "    <tr>\n",
       "      <th>1</th>\n",
       "      <td>18.702</td>\n",
       "      <td>1750</td>\n",
       "      <td>Coal</td>\n",
       "    </tr>\n",
       "  </tbody>\n",
       "</table>\n",
       "</div>"
      ],
      "text/plain": [
       "   Amount  Year Sources_Name\n",
       "0   0.000  1750       Cement\n",
       "1  18.702  1750         Coal"
      ]
     },
     "execution_count": 10,
     "metadata": {},
     "output_type": "execute_result"
    }
   ],
   "source": [
    "#Executing Sql queries on Python Code.\n",
    "#Data frame\n",
    "df = pd.read_sql_query('select sum( Amount) as Amount, [Year],Sources_Name from vwSourcesofCO2PerCountry   group by [Year],Sources_Name order by Year asc', conn)\n",
    "df.head(2)\n",
    "\n"
   ]
  },
  {
   "cell_type": "code",
   "execution_count": 11,
   "metadata": {
    "azdata_cell_guid": "1aecaa99-38aa-4900-9324-1b76baa6089d",
    "language": "python"
   },
   "outputs": [
    {
     "data": {
      "text/plain": [
       "<AxesSubplot:xlabel='Year', ylabel='Amount'>"
      ]
     },
     "execution_count": 11,
     "metadata": {},
     "output_type": "execute_result"
    },
    {
     "data": {
      "image/png": "[encoded data removed]",
      "text/plain": [
       "<Figure size 432x288 with 1 Axes>"
      ]
     },
     "metadata": {},
     "output_type": "display_data"
    }
   ],
   "source": [
    "#seaborn line plot. \n",
    "sns.set_theme(style=\"darkgrid\")\n",
    "sns.lineplot(x = \"Year\",y=\"Amount\",hue =\"Sources_Name\", data = df)"
   ]
  },
  {
   "cell_type": "code",
   "execution_count": 12,
   "metadata": {
    "azdata_cell_guid": "fb6ff370-d3a6-4c8d-aca5-002afacd6002",
    "language": "python",
    "tags": []
   },
   "outputs": [
    {
     "data": {
      "text/html": [
       "<div>\n",
       "<style scoped>\n",
       "    .dataframe tbody tr th:only-of-type {\n",
       "        vertical-align: middle;\n",
       "    }\n",
       "\n",
       "    .dataframe tbody tr th {\n",
       "        vertical-align: top;\n",
       "    }\n",
       "\n",
       "    .dataframe thead th {\n",
       "        text-align: right;\n",
       "    }\n",
       "</style>\n",
       "<table border=\"1\" class=\"dataframe\">\n",
       "  <thead>\n",
       "    <tr style=\"text-align: right;\">\n",
       "      <th></th>\n",
       "      <th>Amount_Emitted</th>\n",
       "      <th>Year</th>\n",
       "      <th>Gas_Name</th>\n",
       "    </tr>\n",
       "  </thead>\n",
       "  <tbody>\n",
       "    <tr>\n",
       "      <th>0</th>\n",
       "      <td>18.702</td>\n",
       "      <td>1750</td>\n",
       "      <td>carbon dioxide (CO2)</td>\n",
       "    </tr>\n",
       "    <tr>\n",
       "      <th>1</th>\n",
       "      <td>18.702</td>\n",
       "      <td>1751</td>\n",
       "      <td>carbon dioxide (CO2)</td>\n",
       "    </tr>\n",
       "    <tr>\n",
       "      <th>2</th>\n",
       "      <td>18.708</td>\n",
       "      <td>1752</td>\n",
       "      <td>carbon dioxide (CO2)</td>\n",
       "    </tr>\n",
       "    <tr>\n",
       "      <th>3</th>\n",
       "      <td>18.708</td>\n",
       "      <td>1753</td>\n",
       "      <td>carbon dioxide (CO2)</td>\n",
       "    </tr>\n",
       "    <tr>\n",
       "      <th>4</th>\n",
       "      <td>18.716</td>\n",
       "      <td>1754</td>\n",
       "      <td>carbon dioxide (CO2)</td>\n",
       "    </tr>\n",
       "  </tbody>\n",
       "</table>\n",
       "</div>"
      ],
      "text/plain": [
       "   Amount_Emitted  Year              Gas_Name\n",
       "0          18.702  1750  carbon dioxide (CO2)\n",
       "1          18.702  1751  carbon dioxide (CO2)\n",
       "2          18.708  1752  carbon dioxide (CO2)\n",
       "3          18.708  1753  carbon dioxide (CO2)\n",
       "4          18.716  1754  carbon dioxide (CO2)"
      ]
     },
     "execution_count": 12,
     "metadata": {},
     "output_type": "execute_result"
    }
   ],
   "source": [
    "#Executing Sql Stored procedure on Python code example\n",
    "df = pd.read_sql_query(\"EXECUTE GetRegionStats 3,''\", conn)\n",
    "df.head()"
   ]
  },
  {
   "cell_type": "code",
   "execution_count": 13,
   "metadata": {
    "azdata_cell_guid": "e5de8bb3-4dd4-41c6-803c-59c90a169cae",
    "language": "python"
   },
   "outputs": [
    {
     "data": {
      "text/plain": [
       "<AxesSubplot:xlabel='Year', ylabel='Amount_Emitted'>"
      ]
     },
     "execution_count": 13,
     "metadata": {},
     "output_type": "execute_result"
    },
    {
     "data": {
      "image/png": "[encoded data removed]",
      "text/plain": [
       "<Figure size 432x288 with 1 Axes>"
      ]
     },
     "metadata": {},
     "output_type": "display_data"
    }
   ],
   "source": [
    "#seaborn line plot. \n",
    "sns.set_theme(style=\"darkgrid\")\n",
    "sns.lineplot(x = \"Year\",y=\"Amount_Emitted\",hue =\"Gas_Name\", data = df)"
   ]
  },
  {
   "cell_type": "markdown",
   "metadata": {
    "azdata_cell_guid": "ced0437c-7a10-469f-bc3b-6743c82be63f"
   },
   "source": [
    "> ### Data visualization and processing using Python.\n",
    "\n",
    "We are going to use pandas and NumPy  for data processing and panel ([Getting Started — Panel v0.13.1 (holoviz.org)](https://panel.holoviz.org/getting_started/index.html))  for visualizations. Thank to, Thu Vu,  [(106) How to Create a Beautiful Python Visualization Dashboard With Panel/Hvplot - YouTube](https://www.youtube.com/watch?v=uhxiXOTKzfs&t=305s), for the greate video where I learned about panel for data visualization."
   ]
  },
  {
   "cell_type": "markdown",
   "metadata": {
    "azdata_cell_guid": "a572cbd4-9073-46fa-9ecb-bb7aa17b3cc4"
   },
   "source": [
    "We will start by creating Widgets using Panel\n",
    "In the above test example we have used both SQL queries and Stored procedure to extract data frame "
   ]
  },
  {
   "cell_type": "markdown",
   "metadata": {
    "azdata_cell_guid": "a1ee8fff-a942-4297-80fb-91c46a2d37bb"
   },
   "source": [
    "· Year Slide Widget\n",
    "\n",
    "It contains a slide of years from the minimum year in our data set to maximum year."
   ]
  },
  {
   "cell_type": "code",
   "execution_count": 14,
   "metadata": {
    "azdata_cell_guid": "f50d0914-7ba3-46ce-bbdf-e7a5de3d598e",
    "language": "python",
    "tags": []
   },
   "outputs": [
    {
     "data": {},
     "metadata": {},
     "output_type": "display_data"
    },
    {
     "data": {
      "application/vnd.holoviews_exec.v0+json": "",
      "text/html": [
       "<div id='1002'>\n",
       "\n",
       "\n",
       "\n",
       "\n",
       "\n",
       "  <div class=\"bk-root\" id=\"d4b47516-8391-489e-b81e-a61340752fcb\" data-root-id=\"1002\"></div>\n",
       "</div>\n",
       "<script type=\"application/javascript\">(function(root) {\n",
       "  function embed_document(root) {\n",
       "    var docs_json = {\"24fe51be-e2b1-4789-9876-f7116c815fcf\":{\"defs\":[{\"extends\":null,\"module\":null,\"name\":\"ReactiveHTML1\",\"overrides\":[],\"properties\":[]},{\"extends\":null,\"module\":null,\"name\":\"FlexBox1\",\"overrides\":[],\"properties\":[{\"default\":\"flex-start\",\"kind\":null,\"name\":\"align_content\"},{\"default\":\"flex-start\",\"kind\":null,\"name\":\"align_items\"},{\"default\":\"row\",\"kind\":null,\"name\":\"flex_direction\"},{\"default\":\"wrap\",\"kind\":null,\"name\":\"flex_wrap\"},{\"default\":\"flex-start\",\"kind\":null,\"name\":\"justify_content\"}]},{\"extends\":null,\"module\":null,\"name\":\"GridStack1\",\"overrides\":[],\"properties\":[{\"default\":\"warn\",\"kind\":null,\"name\":\"mode\"},{\"default\":null,\"kind\":null,\"name\":\"ncols\"},{\"default\":null,\"kind\":null,\"name\":\"nrows\"},{\"default\":true,\"kind\":null,\"name\":\"allow_resize\"},{\"default\":true,\"kind\":null,\"name\":\"allow_drag\"},{\"default\":[],\"kind\":null,\"name\":\"state\"}]},{\"extends\":null,\"module\":null,\"name\":\"click1\",\"overrides\":[],\"properties\":[{\"default\":\"\",\"kind\":null,\"name\":\"terminal_output\"},{\"default\":\"\",\"kind\":null,\"name\":\"debug_name\"},{\"default\":0,\"kind\":null,\"name\":\"clears\"}]},{\"extends\":null,\"module\":null,\"name\":\"NotificationAreaBase1\",\"overrides\":[],\"properties\":[{\"default\":\"bottom-right\",\"kind\":null,\"name\":\"position\"},{\"default\":0,\"kind\":null,\"name\":\"_clear\"}]},{\"extends\":null,\"module\":null,\"name\":\"NotificationArea1\",\"overrides\":[],\"properties\":[{\"default\":[],\"kind\":null,\"name\":\"notifications\"},{\"default\":\"bottom-right\",\"kind\":null,\"name\":\"position\"},{\"default\":0,\"kind\":null,\"name\":\"_clear\"},{\"default\":[{\"background\":\"#ffc107\",\"icon\":{\"className\":\"fas fa-exclamation-triangle\",\"color\":\"white\",\"tagName\":\"i\"},\"type\":\"warning\"},{\"background\":\"#007bff\",\"icon\":{\"className\":\"fas fa-info-circle\",\"color\":\"white\",\"tagName\":\"i\"},\"type\":\"info\"}],\"kind\":null,\"name\":\"types\"}]},{\"extends\":null,\"module\":null,\"name\":\"Notification\",\"overrides\":[],\"properties\":[{\"default\":null,\"kind\":null,\"name\":\"background\"},{\"default\":3000,\"kind\":null,\"name\":\"duration\"},{\"default\":null,\"kind\":null,\"name\":\"icon\"},{\"default\":\"\",\"kind\":null,\"name\":\"message\"},{\"default\":null,\"kind\":null,\"name\":\"notification_type\"},{\"default\":false,\"kind\":null,\"name\":\"_destroyed\"}]},{\"extends\":null,\"module\":null,\"name\":\"TemplateActions1\",\"overrides\":[],\"properties\":[{\"default\":0,\"kind\":null,\"name\":\"open_modal\"},{\"default\":0,\"kind\":null,\"name\":\"close_modal\"}]},{\"extends\":null,\"module\":null,\"name\":\"MaterialTemplateActions1\",\"overrides\":[],\"properties\":[{\"default\":0,\"kind\":null,\"name\":\"open_modal\"},{\"default\":0,\"kind\":null,\"name\":\"close_modal\"}]}],\"roots\":{\"references\":[{\"attributes\":{\"reload\":false},\"id\":\"1004\",\"type\":\"panel.models.location.Location\"},{\"attributes\":{\"client_comm_id\":\"d3cd75c826a24722a6678b81d3a08bb3\",\"comm_id\":\"420742fcc1ed49e2b5349383d9dd5b9d\",\"plot_id\":\"1002\"},\"id\":\"1003\",\"type\":\"panel.models.comm_manager.CommManager\"},{\"attributes\":{\"end\":2020,\"margin\":[5,10,5,10],\"start\":1750,\"step\":5,\"title\":\"Year slider\",\"value\":2020},\"id\":\"1002\",\"type\":\"Slider\"}],\"root_ids\":[\"1002\",\"1003\",\"1004\"]},\"title\":\"Bokeh Application\",\"version\":\"2.4.1\"}};\n",
       "    var render_items = [{\"docid\":\"24fe51be-e2b1-4789-9876-f7116c815fcf\",\"root_ids\":[\"1002\"],\"roots\":{\"1002\":\"d4b47516-8391-489e-b81e-a61340752fcb\"}}];\n",
       "    root.Bokeh.embed.embed_items_notebook(docs_json, render_items);\n",
       "  }\n",
       "  if (root.Bokeh !== undefined && root.Bokeh.Panel !== undefined && ( root['Tabulator'] !== undefined) && ( root['Tabulator'] !== undefined)) {\n",
       "    embed_document(root);\n",
       "  } else {\n",
       "    var attempts = 0;\n",
       "    var timer = setInterval(function(root) {\n",
       "      if (root.Bokeh !== undefined && root.Bokeh.Panel !== undefined && (root['Tabulator'] !== undefined) && (root['Tabulator'] !== undefined)) {\n",
       "        clearInterval(timer);\n",
       "        embed_document(root);\n",
       "      } else if (document.readyState == \"complete\") {\n",
       "        attempts++;\n",
       "        if (attempts > 200) {\n",
       "          clearInterval(timer);\n",
       "          console.log(\"Bokeh: ERROR: Unable to run BokehJS code because BokehJS library is missing\");\n",
       "        }\n",
       "      }\n",
       "    }, 25, root)\n",
       "  }\n",
       "})(window);</script>"
      ],
      "text/plain": [
       "IntSlider(end=2020, name='Year slider', start=1750, step=5, value=2020)"
      ]
     },
     "execution_count": 14,
     "metadata": {
      "application/vnd.holoviews_exec.v0+json": {
       "id": "1002"
      }
     },
     "output_type": "execute_result"
    }
   ],
   "source": [
    "#we get max and min year form our db\n",
    "#max year\n",
    "max_year = pd.read_sql_query(\"EXECUTE GetWidgetsData 0,''\", conn)\n",
    "end_yaer = max_year['max_year'].values[0]\n",
    "\n",
    "#Min Year\n",
    "min_year = pd.read_sql_query(\"EXECUTE GetWidgetsData 1,''\", conn)\n",
    "start_year = min_year['min_year'].values[0]\n",
    "\n",
    "#we create a year slider based on the max and min years\n",
    "year_slider = pn.widgets.IntSlider(name='Year slider', start=int(start_year), end=int(end_yaer), step=5, value=2020)\n",
    "year_slider"
   ]
  },
  {
   "cell_type": "markdown",
   "metadata": {
    "azdata_cell_guid": "65a9e63e-25a4-4852-94df-8dcd24f9bd73",
    "language": "python"
   },
   "source": [
    "· Gas dropdown Widget.\n",
    "\n",
    "It contains all the gases in our data set, i.e. carbon oxide, Methane and Nitrous oxide"
   ]
  },
  {
   "cell_type": "code",
   "execution_count": 15,
   "metadata": {
    "azdata_cell_guid": "732aaa89-32e6-4b82-88e2-4f148112902e",
    "language": "python"
   },
   "outputs": [
    {
     "data": {},
     "metadata": {},
     "output_type": "display_data"
    },
    {
     "data": {
      "application/vnd.holoviews_exec.v0+json": "",
      "text/html": [
       "<div id='1005'>\n",
       "\n",
       "\n",
       "\n",
       "\n",
       "\n",
       "  <div class=\"bk-root\" id=\"c62b4660-0a7e-417e-a65b-ed49e702dcbd\" data-root-id=\"1005\"></div>\n",
       "</div>\n",
       "<script type=\"application/javascript\">(function(root) {\n",
       "  function embed_document(root) {\n",
       "    var docs_json = {\"f948a13a-a400-4b65-8139-882d473b9da4\":{\"defs\":[{\"extends\":null,\"module\":null,\"name\":\"ReactiveHTML1\",\"overrides\":[],\"properties\":[]},{\"extends\":null,\"module\":null,\"name\":\"FlexBox1\",\"overrides\":[],\"properties\":[{\"default\":\"flex-start\",\"kind\":null,\"name\":\"align_content\"},{\"default\":\"flex-start\",\"kind\":null,\"name\":\"align_items\"},{\"default\":\"row\",\"kind\":null,\"name\":\"flex_direction\"},{\"default\":\"wrap\",\"kind\":null,\"name\":\"flex_wrap\"},{\"default\":\"flex-start\",\"kind\":null,\"name\":\"justify_content\"}]},{\"extends\":null,\"module\":null,\"name\":\"GridStack1\",\"overrides\":[],\"properties\":[{\"default\":\"warn\",\"kind\":null,\"name\":\"mode\"},{\"default\":null,\"kind\":null,\"name\":\"ncols\"},{\"default\":null,\"kind\":null,\"name\":\"nrows\"},{\"default\":true,\"kind\":null,\"name\":\"allow_resize\"},{\"default\":true,\"kind\":null,\"name\":\"allow_drag\"},{\"default\":[],\"kind\":null,\"name\":\"state\"}]},{\"extends\":null,\"module\":null,\"name\":\"click1\",\"overrides\":[],\"properties\":[{\"default\":\"\",\"kind\":null,\"name\":\"terminal_output\"},{\"default\":\"\",\"kind\":null,\"name\":\"debug_name\"},{\"default\":0,\"kind\":null,\"name\":\"clears\"}]},{\"extends\":null,\"module\":null,\"name\":\"NotificationAreaBase1\",\"overrides\":[],\"properties\":[{\"default\":\"bottom-right\",\"kind\":null,\"name\":\"position\"},{\"default\":0,\"kind\":null,\"name\":\"_clear\"}]},{\"extends\":null,\"module\":null,\"name\":\"NotificationArea1\",\"overrides\":[],\"properties\":[{\"default\":[],\"kind\":null,\"name\":\"notifications\"},{\"default\":\"bottom-right\",\"kind\":null,\"name\":\"position\"},{\"default\":0,\"kind\":null,\"name\":\"_clear\"},{\"default\":[{\"background\":\"#ffc107\",\"icon\":{\"className\":\"fas fa-exclamation-triangle\",\"color\":\"white\",\"tagName\":\"i\"},\"type\":\"warning\"},{\"background\":\"#007bff\",\"icon\":{\"className\":\"fas fa-info-circle\",\"color\":\"white\",\"tagName\":\"i\"},\"type\":\"info\"}],\"kind\":null,\"name\":\"types\"}]},{\"extends\":null,\"module\":null,\"name\":\"Notification\",\"overrides\":[],\"properties\":[{\"default\":null,\"kind\":null,\"name\":\"background\"},{\"default\":3000,\"kind\":null,\"name\":\"duration\"},{\"default\":null,\"kind\":null,\"name\":\"icon\"},{\"default\":\"\",\"kind\":null,\"name\":\"message\"},{\"default\":null,\"kind\":null,\"name\":\"notification_type\"},{\"default\":false,\"kind\":null,\"name\":\"_destroyed\"}]},{\"extends\":null,\"module\":null,\"name\":\"TemplateActions1\",\"overrides\":[],\"properties\":[{\"default\":0,\"kind\":null,\"name\":\"open_modal\"},{\"default\":0,\"kind\":null,\"name\":\"close_modal\"}]},{\"extends\":null,\"module\":null,\"name\":\"MaterialTemplateActions1\",\"overrides\":[],\"properties\":[{\"default\":0,\"kind\":null,\"name\":\"open_modal\"},{\"default\":0,\"kind\":null,\"name\":\"close_modal\"}]}],\"roots\":{\"references\":[{\"attributes\":{\"margin\":[5,10,5,10],\"options\":[[\"carbon dioxide (CO2)\",\"carbon dioxide (CO2)\"],[\"Methane\",\"Methane\"],[\"Nitrous Oxide\",\"Nitrous Oxide\"]],\"title\":\"Gases\",\"value\":\"carbon dioxide (CO2)\"},\"id\":\"1005\",\"type\":\"panel.models.widgets.CustomSelect\"},{\"attributes\":{\"client_comm_id\":\"3c12639b66174d539ff57bd891d6ec0b\",\"comm_id\":\"694edb8420d34e22b1ac280a9696a472\",\"plot_id\":\"1005\"},\"id\":\"1006\",\"type\":\"panel.models.comm_manager.CommManager\"}],\"root_ids\":[\"1005\",\"1006\"]},\"title\":\"Bokeh Application\",\"version\":\"2.4.1\"}};\n",
       "    var render_items = [{\"docid\":\"f948a13a-a400-4b65-8139-882d473b9da4\",\"root_ids\":[\"1005\"],\"roots\":{\"1005\":\"c62b4660-0a7e-417e-a65b-ed49e702dcbd\"}}];\n",
       "    root.Bokeh.embed.embed_items_notebook(docs_json, render_items);\n",
       "  }\n",
       "  if (root.Bokeh !== undefined && root.Bokeh.Panel !== undefined && ( root['Tabulator'] !== undefined) && ( root['Tabulator'] !== undefined)) {\n",
       "    embed_document(root);\n",
       "  } else {\n",
       "    var attempts = 0;\n",
       "    var timer = setInterval(function(root) {\n",
       "      if (root.Bokeh !== undefined && root.Bokeh.Panel !== undefined && (root['Tabulator'] !== undefined) && (root['Tabulator'] !== undefined)) {\n",
       "        clearInterval(timer);\n",
       "        embed_document(root);\n",
       "      } else if (document.readyState == \"complete\") {\n",
       "        attempts++;\n",
       "        if (attempts > 200) {\n",
       "          clearInterval(timer);\n",
       "          console.log(\"Bokeh: ERROR: Unable to run BokehJS code because BokehJS library is missing\");\n",
       "        }\n",
       "      }\n",
       "    }, 25, root)\n",
       "  }\n",
       "})(window);</script>"
      ],
      "text/plain": [
       "Select(name='Gases', options={'carbon dioxide (CO2)': '...}, value='carbon dioxide (CO2)')"
      ]
     },
     "execution_count": 15,
     "metadata": {
      "application/vnd.holoviews_exec.v0+json": {
       "id": "1005"
      }
     },
     "output_type": "execute_result"
    }
   ],
   "source": [
    "# We get all gases and their IDs\n",
    "pd_gases=pd.read_sql_query(\"EXECUTE GetWidgetsData 2,''\", conn)\n",
    "\n",
    "#We convert our Dataframe to Dic\n",
    "dic_list = pd.Series(pd_gases.Gas_Name.values,index =pd_gases.Gas_Name).to_dict()\n",
    "\n",
    "#We load the Dic to our Select with IDs as values\n",
    "gas_select = pn.widgets.Select(name='Gases', options=dic_list)\n",
    "gas_select"
   ]
  },
  {
   "cell_type": "markdown",
   "metadata": {
    "azdata_cell_guid": "9bc0be98-ab4e-4da4-8eac-a31b041044ba",
    "language": "python"
   },
   "source": [
    "· Sources of CO2 Widget.\n",
    "\n",
    "It contains sources of CO2 like oil, gas, etc."
   ]
  },
  {
   "cell_type": "code",
   "execution_count": 16,
   "metadata": {
    "azdata_cell_guid": "31d8cf53-838e-474c-b970-c739a88112f5",
    "language": "python"
   },
   "outputs": [
    {
     "data": {},
     "metadata": {},
     "output_type": "display_data"
    },
    {
     "data": {
      "application/vnd.holoviews_exec.v0+json": "",
      "text/html": [
       "<div id='1007'>\n",
       "\n",
       "\n",
       "\n",
       "\n",
       "\n",
       "  <div class=\"bk-root\" id=\"77ac07d6-1017-4e3a-b81e-e239a08ba298\" data-root-id=\"1007\"></div>\n",
       "</div>\n",
       "<script type=\"application/javascript\">(function(root) {\n",
       "  function embed_document(root) {\n",
       "    var docs_json = {\"b12f4203-5ea7-44eb-8c55-8e9e167cb4d0\":{\"defs\":[{\"extends\":null,\"module\":null,\"name\":\"ReactiveHTML1\",\"overrides\":[],\"properties\":[]},{\"extends\":null,\"module\":null,\"name\":\"FlexBox1\",\"overrides\":[],\"properties\":[{\"default\":\"flex-start\",\"kind\":null,\"name\":\"align_content\"},{\"default\":\"flex-start\",\"kind\":null,\"name\":\"align_items\"},{\"default\":\"row\",\"kind\":null,\"name\":\"flex_direction\"},{\"default\":\"wrap\",\"kind\":null,\"name\":\"flex_wrap\"},{\"default\":\"flex-start\",\"kind\":null,\"name\":\"justify_content\"}]},{\"extends\":null,\"module\":null,\"name\":\"GridStack1\",\"overrides\":[],\"properties\":[{\"default\":\"warn\",\"kind\":null,\"name\":\"mode\"},{\"default\":null,\"kind\":null,\"name\":\"ncols\"},{\"default\":null,\"kind\":null,\"name\":\"nrows\"},{\"default\":true,\"kind\":null,\"name\":\"allow_resize\"},{\"default\":true,\"kind\":null,\"name\":\"allow_drag\"},{\"default\":[],\"kind\":null,\"name\":\"state\"}]},{\"extends\":null,\"module\":null,\"name\":\"click1\",\"overrides\":[],\"properties\":[{\"default\":\"\",\"kind\":null,\"name\":\"terminal_output\"},{\"default\":\"\",\"kind\":null,\"name\":\"debug_name\"},{\"default\":0,\"kind\":null,\"name\":\"clears\"}]},{\"extends\":null,\"module\":null,\"name\":\"NotificationAreaBase1\",\"overrides\":[],\"properties\":[{\"default\":\"bottom-right\",\"kind\":null,\"name\":\"position\"},{\"default\":0,\"kind\":null,\"name\":\"_clear\"}]},{\"extends\":null,\"module\":null,\"name\":\"NotificationArea1\",\"overrides\":[],\"properties\":[{\"default\":[],\"kind\":null,\"name\":\"notifications\"},{\"default\":\"bottom-right\",\"kind\":null,\"name\":\"position\"},{\"default\":0,\"kind\":null,\"name\":\"_clear\"},{\"default\":[{\"background\":\"#ffc107\",\"icon\":{\"className\":\"fas fa-exclamation-triangle\",\"color\":\"white\",\"tagName\":\"i\"},\"type\":\"warning\"},{\"background\":\"#007bff\",\"icon\":{\"className\":\"fas fa-info-circle\",\"color\":\"white\",\"tagName\":\"i\"},\"type\":\"info\"}],\"kind\":null,\"name\":\"types\"}]},{\"extends\":null,\"module\":null,\"name\":\"Notification\",\"overrides\":[],\"properties\":[{\"default\":null,\"kind\":null,\"name\":\"background\"},{\"default\":3000,\"kind\":null,\"name\":\"duration\"},{\"default\":null,\"kind\":null,\"name\":\"icon\"},{\"default\":\"\",\"kind\":null,\"name\":\"message\"},{\"default\":null,\"kind\":null,\"name\":\"notification_type\"},{\"default\":false,\"kind\":null,\"name\":\"_destroyed\"}]},{\"extends\":null,\"module\":null,\"name\":\"TemplateActions1\",\"overrides\":[],\"properties\":[{\"default\":0,\"kind\":null,\"name\":\"open_modal\"},{\"default\":0,\"kind\":null,\"name\":\"close_modal\"}]},{\"extends\":null,\"module\":null,\"name\":\"MaterialTemplateActions1\",\"overrides\":[],\"properties\":[{\"default\":0,\"kind\":null,\"name\":\"open_modal\"},{\"default\":0,\"kind\":null,\"name\":\"close_modal\"}]}],\"roots\":{\"references\":[{\"attributes\":{\"margin\":[5,10,5,10],\"options\":[[\"44\",\"Cement\"],[\"45\",\"Coal\"],[\"46\",\"Flaring\"],[\"47\",\"Gas\"],[\"48\",\"Oil\"],[\"49\",\"Other_industry\"]],\"title\":\"CO2 Source\",\"value\":\"44\"},\"id\":\"1007\",\"type\":\"panel.models.widgets.CustomSelect\"},{\"attributes\":{\"client_comm_id\":\"b1be83f46bd94e86a439005329d1d2c7\",\"comm_id\":\"ccc5c874af0049db88726b00af6ce509\",\"plot_id\":\"1007\"},\"id\":\"1008\",\"type\":\"panel.models.comm_manager.CommManager\"}],\"root_ids\":[\"1007\",\"1008\"]},\"title\":\"Bokeh Application\",\"version\":\"2.4.1\"}};\n",
       "    var render_items = [{\"docid\":\"b12f4203-5ea7-44eb-8c55-8e9e167cb4d0\",\"root_ids\":[\"1007\"],\"roots\":{\"1007\":\"77ac07d6-1017-4e3a-b81e-e239a08ba298\"}}];\n",
       "    root.Bokeh.embed.embed_items_notebook(docs_json, render_items);\n",
       "  }\n",
       "  if (root.Bokeh !== undefined && root.Bokeh.Panel !== undefined && ( root['Tabulator'] !== undefined) && ( root['Tabulator'] !== undefined)) {\n",
       "    embed_document(root);\n",
       "  } else {\n",
       "    var attempts = 0;\n",
       "    var timer = setInterval(function(root) {\n",
       "      if (root.Bokeh !== undefined && root.Bokeh.Panel !== undefined && (root['Tabulator'] !== undefined) && (root['Tabulator'] !== undefined)) {\n",
       "        clearInterval(timer);\n",
       "        embed_document(root);\n",
       "      } else if (document.readyState == \"complete\") {\n",
       "        attempts++;\n",
       "        if (attempts > 200) {\n",
       "          clearInterval(timer);\n",
       "          console.log(\"Bokeh: ERROR: Unable to run BokehJS code because BokehJS library is missing\");\n",
       "        }\n",
       "      }\n",
       "    }, 25, root)\n",
       "  }\n",
       "})(window);</script>"
      ],
      "text/plain": [
       "Select(name='CO2 Source', options={'Cement': 44, ...}, value=44)"
      ]
     },
     "execution_count": 16,
     "metadata": {
      "application/vnd.holoviews_exec.v0+json": {
       "id": "1007"
      }
     },
     "output_type": "execute_result"
    }
   ],
   "source": [
    "# We get all Sources of CO2 and their IDs\n",
    "pd_CO2_Sources=pd.read_sql_query(\"EXECUTE GetWidgetsData 3,''\", conn)\n",
    "\n",
    "#We convert our Dataframe to Dic\n",
    "dic_list = pd.Series(pd_CO2_Sources.Source_ID.values,index =pd_CO2_Sources.Sources_Name).to_dict()\n",
    "\n",
    "#We load the Dic to our Select with IDs as values\n",
    "sources_select = pn.widgets.Select(name='CO2 Source', options=dic_list)\n",
    "sources_select"
   ]
  },
  {
   "cell_type": "markdown",
   "metadata": {
    "azdata_cell_guid": "bd766527-849f-4445-9ab7-93832a51d868",
    "language": "python"
   },
   "source": [
    "· AutoComplete Countries Widget\n",
    "\n",
    "It contains all countries from our dataset. Just start typing the name of the country in the textbox starting with uppercase and all the countries with the typed text will appear."
   ]
  },
  {
   "cell_type": "code",
   "execution_count": 25,
   "metadata": {
    "azdata_cell_guid": "ae8b08c0-0c1d-4363-8df0-6116bfd843f5",
    "language": "python"
   },
   "outputs": [
    {
     "data": {},
     "metadata": {},
     "output_type": "display_data"
    },
    {
     "data": {
      "application/vnd.holoviews_exec.v0+json": "",
      "text/html": [
       "<div id='1074'>\n",
       "\n",
       "\n",
       "\n",
       "\n",
       "\n",
       "  <div class=\"bk-root\" id=\"370726aa-c6d9-4dcb-975e-3287cde06123\" data-root-id=\"1074\"></div>\n",
       "</div>\n",
       "<script type=\"application/javascript\">(function(root) {\n",
       "  function embed_document(root) {\n",
       "    var docs_json = {\"6cefa6d5-24a8-4fe6-8f4f-abd5ced6a4e9\":{\"defs\":[{\"extends\":null,\"module\":null,\"name\":\"ReactiveHTML1\",\"overrides\":[],\"properties\":[]},{\"extends\":null,\"module\":null,\"name\":\"FlexBox1\",\"overrides\":[],\"properties\":[{\"default\":\"flex-start\",\"kind\":null,\"name\":\"align_content\"},{\"default\":\"flex-start\",\"kind\":null,\"name\":\"align_items\"},{\"default\":\"row\",\"kind\":null,\"name\":\"flex_direction\"},{\"default\":\"wrap\",\"kind\":null,\"name\":\"flex_wrap\"},{\"default\":\"flex-start\",\"kind\":null,\"name\":\"justify_content\"}]},{\"extends\":null,\"module\":null,\"name\":\"GridStack1\",\"overrides\":[],\"properties\":[{\"default\":\"warn\",\"kind\":null,\"name\":\"mode\"},{\"default\":null,\"kind\":null,\"name\":\"ncols\"},{\"default\":null,\"kind\":null,\"name\":\"nrows\"},{\"default\":true,\"kind\":null,\"name\":\"allow_resize\"},{\"default\":true,\"kind\":null,\"name\":\"allow_drag\"},{\"default\":[],\"kind\":null,\"name\":\"state\"}]},{\"extends\":null,\"module\":null,\"name\":\"click1\",\"overrides\":[],\"properties\":[{\"default\":\"\",\"kind\":null,\"name\":\"terminal_output\"},{\"default\":\"\",\"kind\":null,\"name\":\"debug_name\"},{\"default\":0,\"kind\":null,\"name\":\"clears\"}]},{\"extends\":null,\"module\":null,\"name\":\"NotificationAreaBase1\",\"overrides\":[],\"properties\":[{\"default\":\"bottom-right\",\"kind\":null,\"name\":\"position\"},{\"default\":0,\"kind\":null,\"name\":\"_clear\"}]},{\"extends\":null,\"module\":null,\"name\":\"NotificationArea1\",\"overrides\":[],\"properties\":[{\"default\":[],\"kind\":null,\"name\":\"notifications\"},{\"default\":\"bottom-right\",\"kind\":null,\"name\":\"position\"},{\"default\":0,\"kind\":null,\"name\":\"_clear\"},{\"default\":[{\"background\":\"#ffc107\",\"icon\":{\"className\":\"fas fa-exclamation-triangle\",\"color\":\"white\",\"tagName\":\"i\"},\"type\":\"warning\"},{\"background\":\"#007bff\",\"icon\":{\"className\":\"fas fa-info-circle\",\"color\":\"white\",\"tagName\":\"i\"},\"type\":\"info\"}],\"kind\":null,\"name\":\"types\"}]},{\"extends\":null,\"module\":null,\"name\":\"Notification\",\"overrides\":[],\"properties\":[{\"default\":null,\"kind\":null,\"name\":\"background\"},{\"default\":3000,\"kind\":null,\"name\":\"duration\"},{\"default\":null,\"kind\":null,\"name\":\"icon\"},{\"default\":\"\",\"kind\":null,\"name\":\"message\"},{\"default\":null,\"kind\":null,\"name\":\"notification_type\"},{\"default\":false,\"kind\":null,\"name\":\"_destroyed\"}]},{\"extends\":null,\"module\":null,\"name\":\"TemplateActions1\",\"overrides\":[],\"properties\":[{\"default\":0,\"kind\":null,\"name\":\"open_modal\"},{\"default\":0,\"kind\":null,\"name\":\"close_modal\"}]},{\"extends\":null,\"module\":null,\"name\":\"MaterialTemplateActions1\",\"overrides\":[],\"properties\":[{\"default\":0,\"kind\":null,\"name\":\"open_modal\"},{\"default\":0,\"kind\":null,\"name\":\"close_modal\"}]}],\"roots\":{\"references\":[{\"attributes\":{\"client_comm_id\":\"891f4e8646474af48cf8ffcb78180b5b\",\"comm_id\":\"118a30af573c41d7b6b88adb2809c3df\",\"plot_id\":\"1074\"},\"id\":\"1075\",\"type\":\"panel.models.comm_manager.CommManager\"},{\"attributes\":{\"completions\":[\"Afghanistan\",\"Albania\",\"Algeria\",\"Andorra\",\"Angola\",\"Anguilla\",\"Antarctica\",\"Antigua and Barbuda\",\"Argentina\",\"Armenia\",\"Aruba\",\"Australia\",\"Austria\",\"Azerbaijan\",\"Bahamas\",\"Bahrain\",\"Bangladesh\",\"Barbados\",\"Belarus\",\"Belgium\",\"Belize\",\"Benin\",\"Bermuda\",\"Bhutan\",\"Bolivia\",\"Bonaire Sint Eustatius and Saba\",\"Bosnia and Herzegovina\",\"Botswana\",\"Brazil\",\"British Virgin Islands\",\"Brunei\",\"Bulgaria\",\"Burkina Faso\",\"Burundi\",\"Cambodia\",\"Cameroon\",\"Canada\",\"Cape Verde\",\"Central African Republic\",\"Chad\",\"Chile\",\"China\",\"Christmas Island\",\"Colombia\",\"Comoros\",\"Congo\",\"Cook Islands\",\"Costa Rica\",\"Cote d'Ivoire\",\"Croatia\",\"Cuba\",\"Curacao\",\"Cyprus\",\"Czechia\",\"Democratic Republic of Congo\",\"Denmark\",\"Djibouti\",\"Dominica\",\"Dominican Republic\",\"Ecuador\",\"Egypt\",\"El Salvador\",\"Equatorial Guinea\",\"Eritrea\",\"Estonia\",\"Eswatini\",\"Ethiopia\",\"Faeroe Islands\",\"Fiji\",\"Finland\",\"France\",\"French Guiana\",\"French Polynesia\",\"Gabon\",\"Gambia\",\"Georgia\",\"Germany\",\"Ghana\",\"Greece\",\"Greenland\",\"Grenada\",\"Guadeloupe\",\"Guatemala\",\"Guinea\",\"Guinea-Bissau\",\"Guyana\",\"Haiti\",\"Honduras\",\"Hong Kong\",\"Hungary\",\"Iceland\",\"India\",\"Indonesia\",\"Iran\",\"Iraq\",\"Ireland\",\"Israel\",\"Italy\",\"Jamaica\",\"Japan\",\"Jordan\",\"Kazakhstan\",\"Kenya\",\"Kiribati\",\"Kosovo\",\"Kuwait\",\"Kyrgyzstan\",\"Laos\",\"Latvia\",\"Lebanon\",\"Lesotho\",\"Liberia\",\"Libya\",\"Liechtenstein\",\"Lithuania\",\"Luxembourg\",\"Madagascar\",\"Malawi\",\"Malaysia\",\"Maldives\",\"Mali\",\"Malta\",\"Marshall Islands\",\"Martinique\",\"Mauritania\",\"Mauritius\",\"Mayotte\",\"Mexico\",\"Moldova\",\"Mongolia\",\"Montenegro\",\"Montserrat\",\"Morocco\",\"Mozambique\",\"Myanmar\",\"Namibia\",\"Nauru\",\"Nepal\",\"Netherlands\",\"New Caledonia\",\"New Zealand\",\"Nicaragua\",\"Niger\",\"Nigeria\",\"Niue\",\"North Korea\",\"North Macedonia\",\"Norway\",\"Oman\",\"Pakistan\",\"Palau\",\"Palestine\",\"Panama\",\"Papua New Guinea\",\"Paraguay\",\"Peru\",\"Philippines\",\"Poland\",\"Portugal\",\"Puerto Rico\",\"Qatar\",\"Romania\",\"Russia\",\"Rwanda\",\"Saint Helena\",\"Saint Kitts and Nevis\",\"Saint Lucia\",\"Saint Pierre and Miquelon\",\"Saint Vincent and the Grenadines\",\"Samoa\",\"Sao Tome and Principe\",\"Saudi Arabia\",\"Senegal\",\"Serbia\",\"Seychelles\",\"Sierra Leone\",\"Singapore\",\"Sint Maarten (Dutch part)\",\"Slovakia\",\"Slovenia\",\"Solomon Islands\",\"Somalia\",\"South Africa\",\"South Korea\",\"South Sudan\",\"Spain\",\"Sri Lanka\",\"Sudan\",\"Suriname\",\"Sweden\",\"Switzerland\",\"Syria\",\"Taiwan\",\"Tajikistan\",\"Tanzania\",\"Thailand\",\"Timor\",\"Togo\",\"Tonga\",\"Trinidad and Tobago\",\"Tunisia\",\"Turkey\",\"Turkmenistan\",\"Turks and Caicos Islands\",\"Tuvalu\",\"Uganda\",\"Ukraine\",\"United Arab Emirates\",\"United Kingdom\",\"United States\",\"Uruguay\",\"Uzbekistan\",\"Vanuatu\",\"Venezuela\",\"Vietnam\",\"World\",\"Yemen\",\"Zambia\",\"Zimbabwe\"],\"margin\":[5,10,5,10],\"placeholder\":\"Enter Name of the country\",\"title\":\"Countries\",\"value\":\"United Kingdom\"},\"id\":\"1074\",\"type\":\"AutocompleteInput\"}],\"root_ids\":[\"1074\",\"1075\"]},\"title\":\"Bokeh Application\",\"version\":\"2.4.1\"}};\n",
       "    var render_items = [{\"docid\":\"6cefa6d5-24a8-4fe6-8f4f-abd5ced6a4e9\",\"root_ids\":[\"1074\"],\"roots\":{\"1074\":\"370726aa-c6d9-4dcb-975e-3287cde06123\"}}];\n",
       "    root.Bokeh.embed.embed_items_notebook(docs_json, render_items);\n",
       "  }\n",
       "  if (root.Bokeh !== undefined && root.Bokeh.Panel !== undefined && ( root['Tabulator'] !== undefined) && ( root['Tabulator'] !== undefined)) {\n",
       "    embed_document(root);\n",
       "  } else {\n",
       "    var attempts = 0;\n",
       "    var timer = setInterval(function(root) {\n",
       "      if (root.Bokeh !== undefined && root.Bokeh.Panel !== undefined && (root['Tabulator'] !== undefined) && (root['Tabulator'] !== undefined)) {\n",
       "        clearInterval(timer);\n",
       "        embed_document(root);\n",
       "      } else if (document.readyState == \"complete\") {\n",
       "        attempts++;\n",
       "        if (attempts > 200) {\n",
       "          clearInterval(timer);\n",
       "          console.log(\"Bokeh: ERROR: Unable to run BokehJS code because BokehJS library is missing\");\n",
       "        }\n",
       "      }\n",
       "    }, 25, root)\n",
       "  }\n",
       "})(window);</script>"
      ],
      "text/plain": [
       "AutocompleteInput(name='Countries', options=['Afghanistan', ...], placeholder='Enter Name of t..., value='United Kingdom')"
      ]
     },
     "execution_count": 25,
     "metadata": {
      "application/vnd.holoviews_exec.v0+json": {
       "id": "1074"
      }
     },
     "output_type": "execute_result"
    }
   ],
   "source": [
    "# We get all Countries and their IDs\n",
    "pd_Countries=pd.read_sql_query(\"EXECUTE GetWidgetsData 4,''\", conn)\n",
    "\n",
    "#We convert the countries into a list\n",
    "Countries_list  = list(pd_Countries['Country_Name'])\n",
    "Countries_select = pn.widgets.AutocompleteInput(\n",
    "    name='Countries', \n",
    "    options=Countries_list,\n",
    "    placeholder='Enter Name of the country',\n",
    "value=\"United Kingdom\")\n",
    "Countries_select"
   ]
  },
  {
   "cell_type": "code",
   "execution_count": 26,
   "metadata": {
    "azdata_cell_guid": "585a6ede-242d-4c95-811d-5b2a187607ac",
    "language": "python"
   },
   "outputs": [],
   "source": [
    "pd_Country_stas=pd.read_sql_query(\"EXECUTE GetCountryGreenHouseGases 0,''\", conn)\n"
   ]
  },
  {
   "cell_type": "code",
   "execution_count": 27,
   "metadata": {
    "azdata_cell_guid": "a178d792-b3b3-40b7-a5ad-5002a1068d47",
    "language": "python"
   },
   "outputs": [],
   "source": [
    "Ipd_Country_stas = pd_Country_stas.interactive()\n"
   ]
  },
  {
   "cell_type": "markdown",
   "metadata": {
    "azdata_cell_guid": "64876004-321c-4ef7-9708-7ac069e99208"
   },
   "source": [
    "Country_gas_emission_pipe = (Ipd_Country_stas[\n",
    "    (Ipd_Country_stas.Year <= year_slider ) \n",
    "    & (Ipd_Country_stas.Country_Name == Countries_select ) \n",
    "    & (Ipd_Country_stas.Gas_ID == gas_select)\n",
    "]\n",
    "                             .groupby(['Country_Name','Year','Gas_ID'])['Amount']\n",
    "                             .sum()\n",
    "                             .to_frame()\n",
    "                             .reset_index()\n",
    "                             .sort_values(by='Year')  \n",
    "                             .reset_index(drop=True)\n",
    "\n",
    "                            )"
   ]
  },
  {
   "cell_type": "code",
   "execution_count": 28,
   "metadata": {
    "azdata_cell_guid": "19ec81f1-745d-4284-8e5c-eb85c6e117c4",
    "language": "python"
   },
   "outputs": [],
   "source": [
    "Country_gas_emission_pipe = (Ipd_Country_stas[\n",
    "    (Ipd_Country_stas.Year <= year_slider ) \n",
    "    & (Ipd_Country_stas.Country_Name == Countries_select )\n",
    "   \n",
    "]\n",
    "                             .groupby(['Country_Name','Year','Gas_Name'])['Amount']\n",
    "                             .sum()\n",
    "                             .to_frame()\n",
    "                             .reset_index()\n",
    "                             .sort_values(by='Year')  \n",
    "                             .reset_index(drop=True)\n",
    "\n",
    "                            )"
   ]
  },
  {
   "cell_type": "code",
   "execution_count": 29,
   "metadata": {
    "azdata_cell_guid": "c4f9e640-3561-4f6d-a53c-f1b142583f42",
    "language": "python"
   },
   "outputs": [
    {
     "data": {},
     "metadata": {},
     "output_type": "display_data"
    },
    {
     "data": {
      "application/vnd.holoviews_exec.v0+json": "",
      "text/html": [
       "<div id='1076'>\n",
       "\n",
       "\n",
       "\n",
       "\n",
       "\n",
       "  <div class=\"bk-root\" id=\"a0eab943-c922-40c3-b681-3c592dfe274a\" data-root-id=\"1076\"></div>\n",
       "</div>\n",
       "<script type=\"application/javascript\">(function(root) {\n",
       "  function embed_document(root) {\n",
       "    var docs_json = {\"348711d4-2431-4643-816c-9dd03b973e05\":{\"defs\":[{\"extends\":null,\"module\":null,\"name\":\"ReactiveHTML1\",\"overrides\":[],\"properties\":[]},{\"extends\":null,\"module\":null,\"name\":\"FlexBox1\",\"overrides\":[],\"properties\":[{\"default\":\"flex-start\",\"kind\":null,\"name\":\"align_content\"},{\"default\":\"flex-start\",\"kind\":null,\"name\":\"align_items\"},{\"default\":\"row\",\"kind\":null,\"name\":\"flex_direction\"},{\"default\":\"wrap\",\"kind\":null,\"name\":\"flex_wrap\"},{\"default\":\"flex-start\",\"kind\":null,\"name\":\"justify_content\"}]},{\"extends\":null,\"module\":null,\"name\":\"GridStack1\",\"overrides\":[],\"properties\":[{\"default\":\"warn\",\"kind\":null,\"name\":\"mode\"},{\"default\":null,\"kind\":null,\"name\":\"ncols\"},{\"default\":null,\"kind\":null,\"name\":\"nrows\"},{\"default\":true,\"kind\":null,\"name\":\"allow_resize\"},{\"default\":true,\"kind\":null,\"name\":\"allow_drag\"},{\"default\":[],\"kind\":null,\"name\":\"state\"}]},{\"extends\":null,\"module\":null,\"name\":\"click1\",\"overrides\":[],\"properties\":[{\"default\":\"\",\"kind\":null,\"name\":\"terminal_output\"},{\"default\":\"\",\"kind\":null,\"name\":\"debug_name\"},{\"default\":0,\"kind\":null,\"name\":\"clears\"}]},{\"extends\":null,\"module\":null,\"name\":\"NotificationAreaBase1\",\"overrides\":[],\"properties\":[{\"default\":\"bottom-right\",\"kind\":null,\"name\":\"position\"},{\"default\":0,\"kind\":null,\"name\":\"_clear\"}]},{\"extends\":null,\"module\":null,\"name\":\"NotificationArea1\",\"overrides\":[],\"properties\":[{\"default\":[],\"kind\":null,\"name\":\"notifications\"},{\"default\":\"bottom-right\",\"kind\":null,\"name\":\"position\"},{\"default\":0,\"kind\":null,\"name\":\"_clear\"},{\"default\":[{\"background\":\"#ffc107\",\"icon\":{\"className\":\"fas fa-exclamation-triangle\",\"color\":\"white\",\"tagName\":\"i\"},\"type\":\"warning\"},{\"background\":\"#007bff\",\"icon\":{\"className\":\"fas fa-info-circle\",\"color\":\"white\",\"tagName\":\"i\"},\"type\":\"info\"}],\"kind\":null,\"name\":\"types\"}]},{\"extends\":null,\"module\":null,\"name\":\"Notification\",\"overrides\":[],\"properties\":[{\"default\":null,\"kind\":null,\"name\":\"background\"},{\"default\":3000,\"kind\":null,\"name\":\"duration\"},{\"default\":null,\"kind\":null,\"name\":\"icon\"},{\"default\":\"\",\"kind\":null,\"name\":\"message\"},{\"default\":null,\"kind\":null,\"name\":\"notification_type\"},{\"default\":false,\"kind\":null,\"name\":\"_destroyed\"}]},{\"extends\":null,\"module\":null,\"name\":\"TemplateActions1\",\"overrides\":[],\"properties\":[{\"default\":0,\"kind\":null,\"name\":\"open_modal\"},{\"default\":0,\"kind\":null,\"name\":\"close_modal\"}]},{\"extends\":null,\"module\":null,\"name\":\"MaterialTemplateActions1\",\"overrides\":[],\"properties\":[{\"default\":0,\"kind\":null,\"name\":\"open_modal\"},{\"default\":0,\"kind\":null,\"name\":\"close_modal\"}]}],\"roots\":{\"references\":[{\"attributes\":{\"editor\":{\"id\":\"1088\"},\"field\":\"index\",\"formatter\":{\"id\":\"1086\"},\"title\":\"index\",\"width\":0},\"id\":\"1089\",\"type\":\"TableColumn\"},{\"attributes\":{\"client_comm_id\":\"009262486a1e4373abb46ca17e7ddffc\",\"comm_id\":\"5fa46992f14e45c0bd077d244ba37629\",\"plot_id\":\"1076\"},\"id\":\"1120\",\"type\":\"panel.models.comm_manager.CommManager\"},{\"attributes\":{},\"id\":\"1108\",\"type\":\"NumberEditor\"},{\"attributes\":{},\"id\":\"1092\",\"type\":\"StringFormatter\"},{\"attributes\":{\"editor\":{\"id\":\"1093\"},\"field\":\"Country_Name\",\"formatter\":{\"id\":\"1092\"},\"title\":\"Country_Name\",\"width\":0},\"id\":\"1094\",\"type\":\"TableColumn\"},{\"attributes\":{},\"id\":\"1114\",\"type\":\"UnionRenderers\"},{\"attributes\":{\"text_align\":\"left\"},\"id\":\"1086\",\"type\":\"NumberFormatter\"},{\"attributes\":{\"format\":\"0,0.0[00000]\",\"text_align\":\"right\"},\"id\":\"1107\",\"type\":\"NumberFormatter\"},{\"attributes\":{\"margin\":[5,5,5,5],\"name\":\"HSpacer04230\",\"sizing_mode\":\"stretch_width\"},\"id\":\"1082\",\"type\":\"Spacer\"},{\"attributes\":{\"indices\":[]},\"id\":\"1085\",\"type\":\"Selection\"},{\"attributes\":{\"children\":[{\"id\":\"1077\"}],\"margin\":[0,0,0,0],\"name\":\"Row04233\"},\"id\":\"1076\",\"type\":\"Row\"},{\"attributes\":{\"editor\":{\"id\":\"1108\"},\"field\":\"Amount\",\"formatter\":{\"id\":\"1107\"},\"title\":\"Amount\",\"width\":0},\"id\":\"1109\",\"type\":\"TableColumn\"},{\"attributes\":{\"children\":[{\"id\":\"1080\"},{\"id\":\"1081\"}],\"margin\":[0,0,0,0],\"name\":\"Column04190\"},\"id\":\"1079\",\"type\":\"Column\"},{\"attributes\":{},\"id\":\"1103\",\"type\":\"StringEditor\"},{\"attributes\":{\"children\":[{\"id\":\"1112\"}],\"margin\":[0,0,0,0],\"name\":\"Row04195\"},\"id\":\"1083\",\"type\":\"Row\"},{\"attributes\":{},\"id\":\"1102\",\"type\":\"StringFormatter\"},{\"attributes\":{\"end\":2020,\"margin\":[5,10,5,10],\"start\":1750,\"step\":5,\"title\":\"Year slider\",\"value\":2020},\"id\":\"1080\",\"type\":\"Slider\"},{\"attributes\":{\"editor\":{\"id\":\"1103\"},\"field\":\"Gas_Name\",\"formatter\":{\"id\":\"1102\"},\"title\":\"Gas_Name\",\"width\":0},\"id\":\"1104\",\"type\":\"TableColumn\"},{\"attributes\":{\"columns\":[{\"id\":\"1089\"},{\"id\":\"1094\"},{\"id\":\"1099\"},{\"id\":\"1104\"},{\"id\":\"1109\"}],\"configuration\":{\"columns\":[{\"field\":\"index\"},{\"field\":\"Country_Name\"},{\"field\":\"Year\"},{\"field\":\"Gas_Name\"},{\"field\":\"Amount\"}],\"dataTree\":false,\"selectable\":true},\"indexes\":[\"index\"],\"layout\":\"fit_data_table\",\"margin\":[5,10,5,10],\"max_page\":82,\"name\":\"\",\"page\":1,\"page_size\":10,\"pagination\":\"remote\",\"select_mode\":true,\"selectable_rows\":null,\"sizing_mode\":\"stretch_width\",\"source\":{\"id\":\"1084\"},\"styles\":{\"data\":{},\"id\":\"ecaaee63a34e4f7c85b25806ab7ab7a3\"},\"subscribed_events\":[\"table-edit\",\"cell-click\"]},\"id\":\"1112\",\"type\":\"panel.models.tabulator.DataTabulator\"},{\"attributes\":{},\"id\":\"1093\",\"type\":\"StringEditor\"},{\"attributes\":{\"data\":{\"Amount\":{\"__ndarray__\":\"AAAAAAAAAAAAAAAAAAAAAMHKoUW2syJAAAAAAAAAAAAAAAAAAAAAAMHKoUW2syJAAAAAAAAAAAAAAAAAAAAAAGiR7Xw/tSJAAAAAAAAAAAA=\",\"dtype\":\"float64\",\"order\":\"little\",\"shape\":[10]},\"Country_Name\":[\"United Kingdom\",\"United Kingdom\",\"United Kingdom\",\"United Kingdom\",\"United Kingdom\",\"United Kingdom\",\"United Kingdom\",\"United Kingdom\",\"United Kingdom\",\"United Kingdom\"],\"Gas_Name\":[\"Methane\",\"Nitrous Oxide\",\"carbon dioxide (CO2)\",\"Methane\",\"Nitrous Oxide\",\"carbon dioxide (CO2)\",\"Methane\",\"Nitrous Oxide\",\"carbon dioxide (CO2)\",\"Methane\"],\"Year\":[1750,1750,1750,1751,1751,1751,1752,1752,1752,1753],\"index\":[0,1,2,3,4,5,6,7,8,9]},\"selected\":{\"id\":\"1085\"},\"selection_policy\":{\"id\":\"1114\"}},\"id\":\"1084\",\"type\":\"ColumnDataSource\"},{\"attributes\":{\"children\":[{\"id\":\"1078\"},{\"id\":\"1083\"}],\"margin\":[0,0,0,0],\"name\":\"Column04232\"},\"id\":\"1077\",\"type\":\"Column\"},{\"attributes\":{},\"id\":\"1098\",\"type\":\"IntEditor\"},{\"attributes\":{\"editor\":{\"id\":\"1098\"},\"field\":\"Year\",\"formatter\":{\"id\":\"1097\"},\"title\":\"Year\",\"width\":0},\"id\":\"1099\",\"type\":\"TableColumn\"},{\"attributes\":{\"text_align\":\"right\"},\"id\":\"1097\",\"type\":\"NumberFormatter\"},{\"attributes\":{},\"id\":\"1088\",\"type\":\"CellEditor\"},{\"attributes\":{\"children\":[{\"id\":\"1079\"},{\"id\":\"1082\"}],\"margin\":[0,0,0,0],\"name\":\"Row04231\"},\"id\":\"1078\",\"type\":\"Row\"},{\"attributes\":{\"completions\":[\"Afghanistan\",\"Albania\",\"Algeria\",\"Andorra\",\"Angola\",\"Anguilla\",\"Antarctica\",\"Antigua and Barbuda\",\"Argentina\",\"Armenia\",\"Aruba\",\"Australia\",\"Austria\",\"Azerbaijan\",\"Bahamas\",\"Bahrain\",\"Bangladesh\",\"Barbados\",\"Belarus\",\"Belgium\",\"Belize\",\"Benin\",\"Bermuda\",\"Bhutan\",\"Bolivia\",\"Bonaire Sint Eustatius and Saba\",\"Bosnia and Herzegovina\",\"Botswana\",\"Brazil\",\"British Virgin Islands\",\"Brunei\",\"Bulgaria\",\"Burkina Faso\",\"Burundi\",\"Cambodia\",\"Cameroon\",\"Canada\",\"Cape Verde\",\"Central African Republic\",\"Chad\",\"Chile\",\"China\",\"Christmas Island\",\"Colombia\",\"Comoros\",\"Congo\",\"Cook Islands\",\"Costa Rica\",\"Cote d'Ivoire\",\"Croatia\",\"Cuba\",\"Curacao\",\"Cyprus\",\"Czechia\",\"Democratic Republic of Congo\",\"Denmark\",\"Djibouti\",\"Dominica\",\"Dominican Republic\",\"Ecuador\",\"Egypt\",\"El Salvador\",\"Equatorial Guinea\",\"Eritrea\",\"Estonia\",\"Eswatini\",\"Ethiopia\",\"Faeroe Islands\",\"Fiji\",\"Finland\",\"France\",\"French Guiana\",\"French Polynesia\",\"Gabon\",\"Gambia\",\"Georgia\",\"Germany\",\"Ghana\",\"Greece\",\"Greenland\",\"Grenada\",\"Guadeloupe\",\"Guatemala\",\"Guinea\",\"Guinea-Bissau\",\"Guyana\",\"Haiti\",\"Honduras\",\"Hong Kong\",\"Hungary\",\"Iceland\",\"India\",\"Indonesia\",\"Iran\",\"Iraq\",\"Ireland\",\"Israel\",\"Italy\",\"Jamaica\",\"Japan\",\"Jordan\",\"Kazakhstan\",\"Kenya\",\"Kiribati\",\"Kosovo\",\"Kuwait\",\"Kyrgyzstan\",\"Laos\",\"Latvia\",\"Lebanon\",\"Lesotho\",\"Liberia\",\"Libya\",\"Liechtenstein\",\"Lithuania\",\"Luxembourg\",\"Madagascar\",\"Malawi\",\"Malaysia\",\"Maldives\",\"Mali\",\"Malta\",\"Marshall Islands\",\"Martinique\",\"Mauritania\",\"Mauritius\",\"Mayotte\",\"Mexico\",\"Moldova\",\"Mongolia\",\"Montenegro\",\"Montserrat\",\"Morocco\",\"Mozambique\",\"Myanmar\",\"Namibia\",\"Nauru\",\"Nepal\",\"Netherlands\",\"New Caledonia\",\"New Zealand\",\"Nicaragua\",\"Niger\",\"Nigeria\",\"Niue\",\"North Korea\",\"North Macedonia\",\"Norway\",\"Oman\",\"Pakistan\",\"Palau\",\"Palestine\",\"Panama\",\"Papua New Guinea\",\"Paraguay\",\"Peru\",\"Philippines\",\"Poland\",\"Portugal\",\"Puerto Rico\",\"Qatar\",\"Romania\",\"Russia\",\"Rwanda\",\"Saint Helena\",\"Saint Kitts and Nevis\",\"Saint Lucia\",\"Saint Pierre and Miquelon\",\"Saint Vincent and the Grenadines\",\"Samoa\",\"Sao Tome and Principe\",\"Saudi Arabia\",\"Senegal\",\"Serbia\",\"Seychelles\",\"Sierra Leone\",\"Singapore\",\"Sint Maarten (Dutch part)\",\"Slovakia\",\"Slovenia\",\"Solomon Islands\",\"Somalia\",\"South Africa\",\"South Korea\",\"South Sudan\",\"Spain\",\"Sri Lanka\",\"Sudan\",\"Suriname\",\"Sweden\",\"Switzerland\",\"Syria\",\"Taiwan\",\"Tajikistan\",\"Tanzania\",\"Thailand\",\"Timor\",\"Togo\",\"Tonga\",\"Trinidad and Tobago\",\"Tunisia\",\"Turkey\",\"Turkmenistan\",\"Turks and Caicos Islands\",\"Tuvalu\",\"Uganda\",\"Ukraine\",\"United Arab Emirates\",\"United Kingdom\",\"United States\",\"Uruguay\",\"Uzbekistan\",\"Vanuatu\",\"Venezuela\",\"Vietnam\",\"World\",\"Yemen\",\"Zambia\",\"Zimbabwe\"],\"margin\":[5,10,5,10],\"placeholder\":\"Enter Name of the country\",\"title\":\"Countries\",\"value\":\"United Kingdom\"},\"id\":\"1081\",\"type\":\"AutocompleteInput\"}],\"root_ids\":[\"1076\",\"1120\"]},\"title\":\"Bokeh Application\",\"version\":\"2.4.1\"}};\n",
       "    var render_items = [{\"docid\":\"348711d4-2431-4643-816c-9dd03b973e05\",\"root_ids\":[\"1076\"],\"roots\":{\"1076\":\"a0eab943-c922-40c3-b681-3c592dfe274a\"}}];\n",
       "    root.Bokeh.embed.embed_items_notebook(docs_json, render_items);\n",
       "  }\n",
       "  if (root.Bokeh !== undefined && root.Bokeh.Panel !== undefined && ( root['Tabulator'] !== undefined) && ( root['Tabulator'] !== undefined)) {\n",
       "    embed_document(root);\n",
       "  } else {\n",
       "    var attempts = 0;\n",
       "    var timer = setInterval(function(root) {\n",
       "      if (root.Bokeh !== undefined && root.Bokeh.Panel !== undefined && (root['Tabulator'] !== undefined) && (root['Tabulator'] !== undefined)) {\n",
       "        clearInterval(timer);\n",
       "        embed_document(root);\n",
       "      } else if (document.readyState == \"complete\") {\n",
       "        attempts++;\n",
       "        if (attempts > 200) {\n",
       "          clearInterval(timer);\n",
       "          console.log(\"Bokeh: ERROR: Unable to run BokehJS code because BokehJS library is missing\");\n",
       "        }\n",
       "      }\n",
       "    }, 25, root)\n",
       "  }\n",
       "})(window);</script>"
      ],
      "text/plain": [
       "<hvplot.interactive.Interactive at 0x1dd73286b50>"
      ]
     },
     "execution_count": 29,
     "metadata": {
      "application/vnd.holoviews_exec.v0+json": {
       "id": "1076"
      }
     },
     "output_type": "execute_result"
    }
   ],
   "source": [
    "Gas_emission_table = Country_gas_emission_pipe.pipe(pn.widgets.Tabulator, pagination='remote', page_size = 10, sizing_mode='stretch_width') \n",
    "Gas_emission_table"
   ]
  },
  {
   "cell_type": "code",
   "execution_count": 30,
   "metadata": {
    "azdata_cell_guid": "d8be57c8-2f27-40a5-966e-90c7a4f16563",
    "language": "python"
   },
   "outputs": [],
   "source": [
    "Gas_Emission_bar_plot = Country_gas_emission_pipe.hvplot(kind='line', \n",
    "                                                     x='Year', \n",
    "                                                     y='Amount', \n",
    "                                                     title='Gas Emission',\n",
    "                                                     by='Gas_Name',\n",
    "                                                    )"
   ]
  },
  {
   "cell_type": "code",
   "execution_count": 31,
   "metadata": {
    "azdata_cell_guid": "12fdf84c-92c5-4cc5-a64c-671e54409ee3",
    "language": "python"
   },
   "outputs": [
    {
     "data": {},
     "metadata": {},
     "output_type": "display_data"
    },
    {
     "data": {},
     "metadata": {},
     "output_type": "display_data"
    },
    {
     "data": {
      "application/vnd.holoviews_exec.v0+json": "",
      "text/html": [
       "<div id='1131'>\n",
       "\n",
       "\n",
       "\n",
       "\n",
       "\n",
       "  <div class=\"bk-root\" id=\"45630ec6-863d-4697-9582-f23d81da8edf\" data-root-id=\"1131\"></div>\n",
       "</div>\n",
       "<script type=\"application/javascript\">(function(root) {\n",
       "  function embed_document(root) {\n",
       "    var docs_json = {\"57a9b589-8014-4e02-8437-93bdfc15a830\":{\"defs\":[{\"extends\":null,\"module\":null,\"name\":\"ReactiveHTML1\",\"overrides\":[],\"properties\":[]},{\"extends\":null,\"module\":null,\"name\":\"FlexBox1\",\"overrides\":[],\"properties\":[{\"default\":\"flex-start\",\"kind\":null,\"name\":\"align_content\"},{\"default\":\"flex-start\",\"kind\":null,\"name\":\"align_items\"},{\"default\":\"row\",\"kind\":null,\"name\":\"flex_direction\"},{\"default\":\"wrap\",\"kind\":null,\"name\":\"flex_wrap\"},{\"default\":\"flex-start\",\"kind\":null,\"name\":\"justify_content\"}]},{\"extends\":null,\"module\":null,\"name\":\"GridStack1\",\"overrides\":[],\"properties\":[{\"default\":\"warn\",\"kind\":null,\"name\":\"mode\"},{\"default\":null,\"kind\":null,\"name\":\"ncols\"},{\"default\":null,\"kind\":null,\"name\":\"nrows\"},{\"default\":true,\"kind\":null,\"name\":\"allow_resize\"},{\"default\":true,\"kind\":null,\"name\":\"allow_drag\"},{\"default\":[],\"kind\":null,\"name\":\"state\"}]},{\"extends\":null,\"module\":null,\"name\":\"click1\",\"overrides\":[],\"properties\":[{\"default\":\"\",\"kind\":null,\"name\":\"terminal_output\"},{\"default\":\"\",\"kind\":null,\"name\":\"debug_name\"},{\"default\":0,\"kind\":null,\"name\":\"clears\"}]},{\"extends\":null,\"module\":null,\"name\":\"NotificationAreaBase1\",\"overrides\":[],\"properties\":[{\"default\":\"bottom-right\",\"kind\":null,\"name\":\"position\"},{\"default\":0,\"kind\":null,\"name\":\"_clear\"}]},{\"extends\":null,\"module\":null,\"name\":\"NotificationArea1\",\"overrides\":[],\"properties\":[{\"default\":[],\"kind\":null,\"name\":\"notifications\"},{\"default\":\"bottom-right\",\"kind\":null,\"name\":\"position\"},{\"default\":0,\"kind\":null,\"name\":\"_clear\"},{\"default\":[{\"background\":\"#ffc107\",\"icon\":{\"className\":\"fas fa-exclamation-triangle\",\"color\":\"white\",\"tagName\":\"i\"},\"type\":\"warning\"},{\"background\":\"#007bff\",\"icon\":{\"className\":\"fas fa-info-circle\",\"color\":\"white\",\"tagName\":\"i\"},\"type\":\"info\"}],\"kind\":null,\"name\":\"types\"}]},{\"extends\":null,\"module\":null,\"name\":\"Notification\",\"overrides\":[],\"properties\":[{\"default\":null,\"kind\":null,\"name\":\"background\"},{\"default\":3000,\"kind\":null,\"name\":\"duration\"},{\"default\":null,\"kind\":null,\"name\":\"icon\"},{\"default\":\"\",\"kind\":null,\"name\":\"message\"},{\"default\":null,\"kind\":null,\"name\":\"notification_type\"},{\"default\":false,\"kind\":null,\"name\":\"_destroyed\"}]},{\"extends\":null,\"module\":null,\"name\":\"TemplateActions1\",\"overrides\":[],\"properties\":[{\"default\":0,\"kind\":null,\"name\":\"open_modal\"},{\"default\":0,\"kind\":null,\"name\":\"close_modal\"}]},{\"extends\":null,\"module\":null,\"name\":\"MaterialTemplateActions1\",\"overrides\":[],\"properties\":[{\"default\":0,\"kind\":null,\"name\":\"open_modal\"},{\"default\":0,\"kind\":null,\"name\":\"close_modal\"}]}],\"roots\":{\"references\":[{\"attributes\":{\"axis_label\":\"Amount\",\"coordinates\":null,\"formatter\":{\"id\":\"1178\"},\"group\":null,\"major_label_policy\":{\"id\":\"1179\"},\"ticker\":{\"id\":\"1158\"}},\"id\":\"1157\",\"type\":\"LinearAxis\"},{\"attributes\":{\"coordinates\":null,\"data_source\":{\"id\":\"1223\"},\"glyph\":{\"id\":\"1226\"},\"group\":null,\"hover_glyph\":null,\"muted_glyph\":{\"id\":\"1228\"},\"nonselection_glyph\":{\"id\":\"1227\"},\"selection_glyph\":{\"id\":\"1246\"},\"view\":{\"id\":\"1230\"}},\"id\":\"1229\",\"type\":\"GlyphRenderer\"},{\"attributes\":{},\"id\":\"1163\",\"type\":\"WheelZoomTool\"},{\"attributes\":{\"source\":{\"id\":\"1223\"}},\"id\":\"1230\",\"type\":\"CDSView\"},{\"attributes\":{},\"id\":\"1218\",\"type\":\"UnionRenderers\"},{\"attributes\":{},\"id\":\"1165\",\"type\":\"ResetTool\"},{\"attributes\":{\"children\":[{\"id\":\"1135\"},{\"id\":\"1136\"}],\"margin\":[0,0,0,0],\"name\":\"Column04481\"},\"id\":\"1134\",\"type\":\"Column\"},{\"attributes\":{\"completions\":[\"Afghanistan\",\"Albania\",\"Algeria\",\"Andorra\",\"Angola\",\"Anguilla\",\"Antarctica\",\"Antigua and Barbuda\",\"Argentina\",\"Armenia\",\"Aruba\",\"Australia\",\"Austria\",\"Azerbaijan\",\"Bahamas\",\"Bahrain\",\"Bangladesh\",\"Barbados\",\"Belarus\",\"Belgium\",\"Belize\",\"Benin\",\"Bermuda\",\"Bhutan\",\"Bolivia\",\"Bonaire Sint Eustatius and Saba\",\"Bosnia and Herzegovina\",\"Botswana\",\"Brazil\",\"British Virgin Islands\",\"Brunei\",\"Bulgaria\",\"Burkina Faso\",\"Burundi\",\"Cambodia\",\"Cameroon\",\"Canada\",\"Cape Verde\",\"Central African Republic\",\"Chad\",\"Chile\",\"China\",\"Christmas Island\",\"Colombia\",\"Comoros\",\"Congo\",\"Cook Islands\",\"Costa Rica\",\"Cote d'Ivoire\",\"Croatia\",\"Cuba\",\"Curacao\",\"Cyprus\",\"Czechia\",\"Democratic Republic of Congo\",\"Denmark\",\"Djibouti\",\"Dominica\",\"Dominican Republic\",\"Ecuador\",\"Egypt\",\"El Salvador\",\"Equatorial Guinea\",\"Eritrea\",\"Estonia\",\"Eswatini\",\"Ethiopia\",\"Faeroe Islands\",\"Fiji\",\"Finland\",\"France\",\"French Guiana\",\"French Polynesia\",\"Gabon\",\"Gambia\",\"Georgia\",\"Germany\",\"Ghana\",\"Greece\",\"Greenland\",\"Grenada\",\"Guadeloupe\",\"Guatemala\",\"Guinea\",\"Guinea-Bissau\",\"Guyana\",\"Haiti\",\"Honduras\",\"Hong Kong\",\"Hungary\",\"Iceland\",\"India\",\"Indonesia\",\"Iran\",\"Iraq\",\"Ireland\",\"Israel\",\"Italy\",\"Jamaica\",\"Japan\",\"Jordan\",\"Kazakhstan\",\"Kenya\",\"Kiribati\",\"Kosovo\",\"Kuwait\",\"Kyrgyzstan\",\"Laos\",\"Latvia\",\"Lebanon\",\"Lesotho\",\"Liberia\",\"Libya\",\"Liechtenstein\",\"Lithuania\",\"Luxembourg\",\"Madagascar\",\"Malawi\",\"Malaysia\",\"Maldives\",\"Mali\",\"Malta\",\"Marshall Islands\",\"Martinique\",\"Mauritania\",\"Mauritius\",\"Mayotte\",\"Mexico\",\"Moldova\",\"Mongolia\",\"Montenegro\",\"Montserrat\",\"Morocco\",\"Mozambique\",\"Myanmar\",\"Namibia\",\"Nauru\",\"Nepal\",\"Netherlands\",\"New Caledonia\",\"New Zealand\",\"Nicaragua\",\"Niger\",\"Nigeria\",\"Niue\",\"North Korea\",\"North Macedonia\",\"Norway\",\"Oman\",\"Pakistan\",\"Palau\",\"Palestine\",\"Panama\",\"Papua New Guinea\",\"Paraguay\",\"Peru\",\"Philippines\",\"Poland\",\"Portugal\",\"Puerto Rico\",\"Qatar\",\"Romania\",\"Russia\",\"Rwanda\",\"Saint Helena\",\"Saint Kitts and Nevis\",\"Saint Lucia\",\"Saint Pierre and Miquelon\",\"Saint Vincent and the Grenadines\",\"Samoa\",\"Sao Tome and Principe\",\"Saudi Arabia\",\"Senegal\",\"Serbia\",\"Seychelles\",\"Sierra Leone\",\"Singapore\",\"Sint Maarten (Dutch part)\",\"Slovakia\",\"Slovenia\",\"Solomon Islands\",\"Somalia\",\"South Africa\",\"South Korea\",\"South Sudan\",\"Spain\",\"Sri Lanka\",\"Sudan\",\"Suriname\",\"Sweden\",\"Switzerland\",\"Syria\",\"Taiwan\",\"Tajikistan\",\"Tanzania\",\"Thailand\",\"Timor\",\"Togo\",\"Tonga\",\"Trinidad and Tobago\",\"Tunisia\",\"Turkey\",\"Turkmenistan\",\"Turks and Caicos Islands\",\"Tuvalu\",\"Uganda\",\"Ukraine\",\"United Arab Emirates\",\"United Kingdom\",\"United States\",\"Uruguay\",\"Uzbekistan\",\"Vanuatu\",\"Venezuela\",\"Vietnam\",\"World\",\"Yemen\",\"Zambia\",\"Zimbabwe\"],\"margin\":[5,10,5,10],\"placeholder\":\"Enter Name of the country\",\"title\":\"Countries\",\"value\":\"United Kingdom\"},\"id\":\"1136\",\"type\":\"AutocompleteInput\"},{\"attributes\":{\"axis\":{\"id\":\"1157\"},\"coordinates\":null,\"dimension\":1,\"grid_line_color\":null,\"group\":null,\"ticker\":null},\"id\":\"1160\",\"type\":\"Grid\"},{\"attributes\":{},\"id\":\"1158\",\"type\":\"BasicTicker\"},{\"attributes\":{\"line_alpha\":0.2,\"line_color\":\"#e5ae38\",\"line_width\":2,\"x\":{\"field\":\"Year\"},\"y\":{\"field\":\"Amount\"}},\"id\":\"1228\",\"type\":\"Line\"},{\"attributes\":{},\"id\":\"1161\",\"type\":\"SaveTool\"},{\"attributes\":{\"overlay\":{\"id\":\"1166\"}},\"id\":\"1164\",\"type\":\"BoxZoomTool\"},{\"attributes\":{},\"id\":\"1162\",\"type\":\"PanTool\"},{\"attributes\":{\"label\":{\"value\":\"carbon dioxide (CO2)\"},\"renderers\":[{\"id\":\"1229\"}]},\"id\":\"1245\",\"type\":\"LegendItem\"},{\"attributes\":{\"data\":{\"Amount\":{\"__ndarray__\":\"AAAAAAAAAAAAAAAAAAAAAAAAAAAAAAAAAAAAAAAAAAAAAAAAAAAAAAAAAAAAAAAAAAAAAAAAAAAAAAAAAAAAAAAAAAAAAAAAAAAAAAAAAAAAAAAAAAAAAAAAAAAAAAAAAAAAAAAAAAAAAAAAAAAAAAAAAAAAAAAAAAAAAAAAAAAAAAAAAAAAAAAAAAAAAAAAAAAAAAAAAAAAAAAAAAAAAAAAAAAAAAAAAAAAAAAAAAAAAAAAAAAAAAAAAAAAAAAAAAAAAAAAAAAAAAAAAAAAAAAAAAAAAAAAAAAAAAAAAAAAAAAAAAAAAAAAAAAAAAAAAAAAAAAAAAAAAAAAAAAAAAAAAAAAAAAAAAAAAAAAAAAAAAAAAAAAAAAAAAAAAAAAAAAAAAAAAAAAAAAAAAAAAAAAAAAAAAAAAAAAAAAAAAAAAAAAAAAAAAAAAAAAAAAAAAAAAAAAAAAAAAAAAAAAAAAAAAAAAAAAAAAAAAAAAAAAAAAAAAAAAAAAAAAAAAAAAAAAAAAAAAAAAAAAAAAAAAAAAAAAAAAAAAAAAAAAAAAAAAAAAAAAAAAAAAAAAAAAAAAAAAAAAAAAAAAAAAAAAAAAAAAAAAAAAAAAAAAAAAAAAAAAAAAAAAAAAAAAAAAAAAAAAAAAAAAAAAAAAAAAAAAAAAAAAAAAAAAAAAAAAAAAAAAAAAAAAAAAAAAAAAAAAAAAAAAAAAAAAAAAAAAAAAAAAAAAAAAAAAAAAAAAAAAAAAAAAAAAAAAAAAAAAAAAAAAAAAAAAAAAAAAAAAAAAAAAAAAAAAAAAAAAAAAAAAAAAAAAAAAAAAAAAAAAAAAAAAAAAAAAAAAAAAAAAAAAAAAAAAAAAAAAAAAAAAAAAAAAAAAAAAAAAAAAAAAAAAAAAAAAAAAAAAAAAAAAAAAAAAAAAAAAAAAAAAAAAAAAAAAAAAAAAAAAAAAAAAAAAAAAAAAAAAAAAAAAAAAAAAAAAAAAAAAAAAAAAAAAAAAAAAAAAAAAAAAAAAAAAAAAAAAAAAAAAAAAAAAAAAAAAAAAAAAAAAAAAAAAAAAAAAAAAAAAAAAAAAAAAAAAAAAAAAAAAAAAAAAAAAAAAAAAAAAAAAAAAAAAAAAAAAAAAAAAAAAAAAAAAAAAAAAAAAAAAAAAAAAAAAAAAAAAAAAAAAAAAAAAAAAAAAAAAAAAAAAAAAAAAAAAAAAAAAAAAAAAAAAAAAAAAAAAAAAAAAAAAAAAAAAAAAAAAAAAAAAAAAAAAAAAAAAAAAAAAAAAAAAAAAAAAAAAAAAAAAAAAAAAAAAAAAAAAAAAAAAAAAAAAAAAAAAAAAAAAAAAAAAAAAAAAAAAAAAAAAAAAAAAAAAAAAAAAAAAAAAAAAAAAAAAAAAAAAAAAAAAAAAAAAAAAAAAAAAAAAAAAAAAAAAAAAAAAAAAAAAAAAAAAAAAAAAAAAAAAAAAAAAAAAAAAAAAAAAAAAAAAAAAAAAAAAAAAAAAAAAAAAAAAAAAAAAAAAAAAAAAAAAAAAAAAAAAAAAAAAAAAAAAAAAAAAAAAAAAAAAAAAAAAAAAAAAAAAAAAAAAAAAAAAAAAAAAAAAAAAAAAAAAAAAAAAAAAAAAAAAAAAAAAAAAAAAAAAAAAAAAAAAAAAAAAAAAAAAAAAAAAAAAAAAAAAAAAAAAAAAAAAAAAAAAAAAAAAAAAAAAAAAAAAAAAAAAAAAAAAAAAAAAAAAAAAAAAAAAAAAAAAAAAAAAAAAAAAAAAAAAAAAAAAAAAAAAAAAAAAAAAAAAAAAAAAAAAAAAAAAAAAAAAAAAAAAAAAAAAAAAAAAAAAAAAAAAAAAAAAAAAAAAAAAAAAAAAAAAAAAAAAAAAAAAAAAAAAAAAAAAAAAAAAAAAAAAAAAAAAAAAAAAAAAAAAAAAAAAAAAAAAAAAAAAAAAAAAAAAAAAAAAAAAAAAAAAAAAAAAAAAAAAAAAAAAAAAAAAAAAAAAAAAAAAAAAAAAAAAAAAAAAAAAAAAAAAAAAAAAAAAAAAAAAAAAAAAAAAAAAAAAAAAAAAAAAAAAAAAAAAAAAAAAAAAAAAAAAAAAAAAAAAAAAAAAAAAAAAAAAAAAAAAAAAAAAAAAAAAAAAAAAAAAAAAAAAAAAAAAAAAAAAAAAAAAAAAAAAAAAAAAAAAAAAAAAAAAAAAAAAAAAAAAAAAAAAAAAAAAAAAAAAAAAAAAAAAAAAAAAAAAAAAAAAAAAAAAAAAAAAAAAAAAAAAAAAAAAAAAAAAAAAAAAAAAAAAAAAAAAAAAAAAAAAAAAAAAAAAAAAAAAAAAAAAAAAAAAAAAAAAAAAAAAAAAAAAAAAAAAAAAAAAAAAAAAAAAAAAAAAAAAAAAAAAAAAAAAAAAAAAAAAAAAAAAAAAAAAAAAAAAAAAAAAAAAAAAAAAAAAAAAAAAAAAAAAAAAAAAAAAAAAAAAAAAAAAAAAAAAAAAAAAAAAAAAAAAAAAAAAAAAAAAAAAAAAAAAAAAAAAAAAAAAAAAAAAAAAAAAAAAAAAAAAAAAAAAAAAAAAAAAAAAAAAAAAAAAAAAAAAAAAAAAA16NwPQo/YEDD9Shcj2JgQLgehetRWGBAKVyPwvUoYEAzMzMzM5NeQGZmZmZmBl9A9ihcj8K1XkCPwvUoXC9eQLgehetRSF1ArkfhehTuW0A9CtejcN1aQFK4HoXrAVpAw/UoXI+CWUAK16NwPSpYQFK4HoXrAVdAw/UoXI/iVUDhehSuR+FUQKRwPQrX81NA9ihcj8K1UkC4HoXrUahRQAAAAAAAcFBACtejcD2KT0C4HoXrUbhOQFyPwvUoXExApHA9CtfjSkAzMzMzMxNKQGZmZmZmBkpAcT0K16PQSUB7FK5H4ZpJQAAAAAAAAAAAAAAAAAAAAAA=\",\"dtype\":\"float64\",\"order\":\"little\",\"shape\":[271]},\"Gas_Name\":[\"Methane\",\"Methane\",\"Methane\",\"Methane\",\"Methane\",\"Methane\",\"Methane\",\"Methane\",\"Methane\",\"Methane\",\"Methane\",\"Methane\",\"Methane\",\"Methane\",\"Methane\",\"Methane\",\"Methane\",\"Methane\",\"Methane\",\"Methane\",\"Methane\",\"Methane\",\"Methane\",\"Methane\",\"Methane\",\"Methane\",\"Methane\",\"Methane\",\"Methane\",\"Methane\",\"Methane\",\"Methane\",\"Methane\",\"Methane\",\"Methane\",\"Methane\",\"Methane\",\"Methane\",\"Methane\",\"Methane\",\"Methane\",\"Methane\",\"Methane\",\"Methane\",\"Methane\",\"Methane\",\"Methane\",\"Methane\",\"Methane\",\"Methane\",\"Methane\",\"Methane\",\"Methane\",\"Methane\",\"Methane\",\"Methane\",\"Methane\",\"Methane\",\"Methane\",\"Methane\",\"Methane\",\"Methane\",\"Methane\",\"Methane\",\"Methane\",\"Methane\",\"Methane\",\"Methane\",\"Methane\",\"Methane\",\"Methane\",\"Methane\",\"Methane\",\"Methane\",\"Methane\",\"Methane\",\"Methane\",\"Methane\",\"Methane\",\"Methane\",\"Methane\",\"Methane\",\"Methane\",\"Methane\",\"Methane\",\"Methane\",\"Methane\",\"Methane\",\"Methane\",\"Methane\",\"Methane\",\"Methane\",\"Methane\",\"Methane\",\"Methane\",\"Methane\",\"Methane\",\"Methane\",\"Methane\",\"Methane\",\"Methane\",\"Methane\",\"Methane\",\"Methane\",\"Methane\",\"Methane\",\"Methane\",\"Methane\",\"Methane\",\"Methane\",\"Methane\",\"Methane\",\"Methane\",\"Methane\",\"Methane\",\"Methane\",\"Methane\",\"Methane\",\"Methane\",\"Methane\",\"Methane\",\"Methane\",\"Methane\",\"Methane\",\"Methane\",\"Methane\",\"Methane\",\"Methane\",\"Methane\",\"Methane\",\"Methane\",\"Methane\",\"Methane\",\"Methane\",\"Methane\",\"Methane\",\"Methane\",\"Methane\",\"Methane\",\"Methane\",\"Methane\",\"Methane\",\"Methane\",\"Methane\",\"Methane\",\"Methane\",\"Methane\",\"Methane\",\"Methane\",\"Methane\",\"Methane\",\"Methane\",\"Methane\",\"Methane\",\"Methane\",\"Methane\",\"Methane\",\"Methane\",\"Methane\",\"Methane\",\"Methane\",\"Methane\",\"Methane\",\"Methane\",\"Methane\",\"Methane\",\"Methane\",\"Methane\",\"Methane\",\"Methane\",\"Methane\",\"Methane\",\"Methane\",\"Methane\",\"Methane\",\"Methane\",\"Methane\",\"Methane\",\"Methane\",\"Methane\",\"Methane\",\"Methane\",\"Methane\",\"Methane\",\"Methane\",\"Methane\",\"Methane\",\"Methane\",\"Methane\",\"Methane\",\"Methane\",\"Methane\",\"Methane\",\"Methane\",\"Methane\",\"Methane\",\"Methane\",\"Methane\",\"Methane\",\"Methane\",\"Methane\",\"Methane\",\"Methane\",\"Methane\",\"Methane\",\"Methane\",\"Methane\",\"Methane\",\"Methane\",\"Methane\",\"Methane\",\"Methane\",\"Methane\",\"Methane\",\"Methane\",\"Methane\",\"Methane\",\"Methane\",\"Methane\",\"Methane\",\"Methane\",\"Methane\",\"Methane\",\"Methane\",\"Methane\",\"Methane\",\"Methane\",\"Methane\",\"Methane\",\"Methane\",\"Methane\",\"Methane\",\"Methane\",\"Methane\",\"Methane\",\"Methane\",\"Methane\",\"Methane\",\"Methane\",\"Methane\",\"Methane\",\"Methane\",\"Methane\",\"Methane\",\"Methane\",\"Methane\",\"Methane\",\"Methane\",\"Methane\",\"Methane\",\"Methane\",\"Methane\",\"Methane\",\"Methane\",\"Methane\",\"Methane\",\"Methane\",\"Methane\",\"Methane\",\"Methane\",\"Methane\",\"Methane\",\"Methane\",\"Methane\",\"Methane\",\"Methane\",\"Methane\",\"Methane\",\"Methane\",\"Methane\",\"Methane\"],\"Year\":[1750,1751,1752,1753,1754,1755,1756,1757,1758,1759,1760,1761,1762,1763,1764,1765,1766,1767,1768,1769,1770,1771,1772,1773,1774,1775,1776,1777,1778,1779,1780,1781,1782,1783,1784,1785,1786,1787,1788,1789,1790,1791,1792,1793,1794,1795,1796,1797,1798,1799,1800,1801,1802,1803,1804,1805,1806,1807,1808,1809,1810,1811,1812,1813,1814,1815,1816,1817,1818,1819,1820,1821,1822,1823,1824,1825,1826,1827,1828,1829,1830,1831,1832,1833,1834,1835,1836,1837,1838,1839,1840,1841,1842,1843,1844,1845,1846,1847,1848,1849,1850,1851,1852,1853,1854,1855,1856,1857,1858,1859,1860,1861,1862,1863,1864,1865,1866,1867,1868,1869,1870,1871,1872,1873,1874,1875,1876,1877,1878,1879,1880,1881,1882,1883,1884,1885,1886,1887,1888,1889,1890,1891,1892,1893,1894,1895,1896,1897,1898,1899,1900,1901,1902,1903,1904,1905,1906,1907,1908,1909,1910,1911,1912,1913,1914,1915,1916,1917,1918,1919,1920,1921,1922,1923,1924,1925,1926,1927,1928,1929,1930,1931,1932,1933,1934,1935,1936,1937,1938,1939,1940,1941,1942,1943,1944,1945,1946,1947,1948,1949,1950,1951,1952,1953,1954,1955,1956,1957,1958,1959,1960,1961,1962,1963,1964,1965,1966,1967,1968,1969,1970,1971,1972,1973,1974,1975,1976,1977,1978,1979,1980,1981,1982,1983,1984,1985,1986,1987,1988,1989,1990,1991,1992,1993,1994,1995,1996,1997,1998,1999,2000,2001,2002,2003,2004,2005,2006,2007,2008,2009,2010,2011,2012,2013,2014,2015,2016,2017,2018,2019,2020]},\"selected\":{\"id\":\"1181\"},\"selection_policy\":{\"id\":\"1195\"}},\"id\":\"1180\",\"type\":\"ColumnDataSource\"},{\"attributes\":{},\"id\":\"1242\",\"type\":\"UnionRenderers\"},{\"attributes\":{\"bottom_units\":\"screen\",\"coordinates\":null,\"fill_alpha\":0.5,\"fill_color\":\"lightgrey\",\"group\":null,\"left_units\":\"screen\",\"level\":\"overlay\",\"line_alpha\":1.0,\"line_color\":\"black\",\"line_dash\":[4,4],\"line_width\":2,\"right_units\":\"screen\",\"syncable\":false,\"top_units\":\"screen\"},\"id\":\"1166\",\"type\":\"BoxAnnotation\"},{\"attributes\":{},\"id\":\"1179\",\"type\":\"AllLabels\"},{\"attributes\":{},\"id\":\"1178\",\"type\":\"BasicTickFormatter\"},{\"attributes\":{\"margin\":[5,5,5,5],\"name\":\"HSpacer04704\",\"sizing_mode\":\"stretch_width\"},\"id\":\"1137\",\"type\":\"Spacer\"},{\"attributes\":{\"click_policy\":\"mute\",\"coordinates\":null,\"group\":null,\"items\":[{\"id\":\"1199\"},{\"id\":\"1221\"},{\"id\":\"1245\"}],\"location\":[0,0],\"title\":\"Gas_Name\"},\"id\":\"1198\",\"type\":\"Legend\"},{\"attributes\":{\"line_color\":\"#fc4f30\",\"line_width\":2,\"x\":{\"field\":\"Year\"},\"y\":{\"field\":\"Amount\"}},\"id\":\"1204\",\"type\":\"Line\"},{\"attributes\":{},\"id\":\"1195\",\"type\":\"UnionRenderers\"},{\"attributes\":{\"coordinates\":null,\"data_source\":{\"id\":\"1180\"},\"glyph\":{\"id\":\"1183\"},\"group\":null,\"hover_glyph\":null,\"muted_glyph\":{\"id\":\"1185\"},\"nonselection_glyph\":{\"id\":\"1184\"},\"selection_glyph\":{\"id\":\"1200\"},\"view\":{\"id\":\"1187\"}},\"id\":\"1186\",\"type\":\"GlyphRenderer\"},{\"attributes\":{\"line_color\":\"#30a2da\",\"line_width\":2,\"x\":{\"field\":\"Year\"},\"y\":{\"field\":\"Amount\"}},\"id\":\"1200\",\"type\":\"Line\"},{\"attributes\":{\"label\":{\"value\":\"Methane\"},\"renderers\":[{\"id\":\"1186\"}]},\"id\":\"1199\",\"type\":\"LegendItem\"},{\"attributes\":{},\"id\":\"1154\",\"type\":\"BasicTicker\"},{\"attributes\":{},\"id\":\"1149\",\"type\":\"LinearScale\"},{\"attributes\":{\"data\":{\"Amount\":{\"__ndarray__\":\"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\",\"dtype\":\"float64\",\"order\":\"little\",\"shape\":[271]},\"Gas_Name\":[\"carbon dioxide (CO2)\",\"carbon dioxide (CO2)\",\"carbon dioxide (CO2)\",\"carbon dioxide (CO2)\",\"carbon dioxide (CO2)\",\"carbon dioxide (CO2)\",\"carbon dioxide (CO2)\",\"carbon dioxide (CO2)\",\"carbon dioxide (CO2)\",\"carbon dioxide (CO2)\",\"carbon dioxide (CO2)\",\"carbon dioxide (CO2)\",\"carbon dioxide (CO2)\",\"carbon dioxide (CO2)\",\"carbon dioxide (CO2)\",\"carbon dioxide (CO2)\",\"carbon dioxide (CO2)\",\"carbon dioxide (CO2)\",\"carbon dioxide (CO2)\",\"carbon dioxide (CO2)\",\"carbon dioxide (CO2)\",\"carbon dioxide (CO2)\",\"carbon dioxide (CO2)\",\"carbon dioxide (CO2)\",\"carbon dioxide (CO2)\",\"carbon dioxide (CO2)\",\"carbon dioxide (CO2)\",\"carbon dioxide (CO2)\",\"carbon dioxide (CO2)\",\"carbon dioxide (CO2)\",\"carbon dioxide (CO2)\",\"carbon dioxide (CO2)\",\"carbon dioxide (CO2)\",\"carbon dioxide (CO2)\",\"carbon dioxide (CO2)\",\"carbon dioxide (CO2)\",\"carbon dioxide (CO2)\",\"carbon dioxide (CO2)\",\"carbon dioxide (CO2)\",\"carbon dioxide (CO2)\",\"carbon dioxide (CO2)\",\"carbon dioxide (CO2)\",\"carbon dioxide (CO2)\",\"carbon dioxide (CO2)\",\"carbon dioxide (CO2)\",\"carbon dioxide (CO2)\",\"carbon dioxide (CO2)\",\"carbon dioxide (CO2)\",\"carbon dioxide (CO2)\",\"carbon dioxide (CO2)\",\"carbon dioxide (CO2)\",\"carbon dioxide (CO2)\",\"carbon dioxide (CO2)\",\"carbon dioxide (CO2)\",\"carbon dioxide (CO2)\",\"carbon dioxide (CO2)\",\"carbon dioxide (CO2)\",\"carbon dioxide (CO2)\",\"carbon dioxide (CO2)\",\"carbon dioxide (CO2)\",\"carbon dioxide (CO2)\",\"carbon dioxide (CO2)\",\"carbon dioxide (CO2)\",\"carbon dioxide (CO2)\",\"carbon dioxide (CO2)\",\"carbon dioxide (CO2)\",\"carbon dioxide (CO2)\",\"carbon dioxide (CO2)\",\"carbon dioxide (CO2)\",\"carbon dioxide (CO2)\",\"carbon dioxide (CO2)\",\"carbon dioxide (CO2)\",\"carbon dioxide (CO2)\",\"carbon dioxide (CO2)\",\"carbon dioxide (CO2)\",\"carbon dioxide (CO2)\",\"carbon dioxide (CO2)\",\"carbon dioxide (CO2)\",\"carbon dioxide (CO2)\",\"carbon dioxide (CO2)\",\"carbon dioxide (CO2)\",\"carbon dioxide (CO2)\",\"carbon dioxide (CO2)\",\"carbon dioxide (CO2)\",\"carbon dioxide (CO2)\",\"carbon dioxide (CO2)\",\"carbon dioxide (CO2)\",\"carbon dioxide (CO2)\",\"carbon dioxide (CO2)\",\"carbon dioxide (CO2)\",\"carbon dioxide (CO2)\",\"carbon dioxide (CO2)\",\"carbon dioxide (CO2)\",\"carbon dioxide (CO2)\",\"carbon dioxide (CO2)\",\"carbon dioxide (CO2)\",\"carbon dioxide (CO2)\",\"carbon dioxide (CO2)\",\"carbon dioxide (CO2)\",\"carbon dioxide (CO2)\",\"carbon dioxide (CO2)\",\"carbon dioxide (CO2)\",\"carbon dioxide (CO2)\",\"carbon dioxide (CO2)\",\"carbon dioxide (CO2)\",\"carbon dioxide (CO2)\",\"carbon dioxide (CO2)\",\"carbon dioxide (CO2)\",\"carbon dioxide (CO2)\",\"carbon dioxide (CO2)\",\"carbon dioxide (CO2)\",\"carbon dioxide (CO2)\",\"carbon dioxide (CO2)\",\"carbon dioxide (CO2)\",\"carbon dioxide (CO2)\",\"carbon dioxide (CO2)\",\"carbon dioxide (CO2)\",\"carbon dioxide (CO2)\",\"carbon dioxide (CO2)\",\"carbon dioxide (CO2)\",\"carbon dioxide (CO2)\",\"carbon dioxide (CO2)\",\"carbon dioxide (CO2)\",\"carbon dioxide (CO2)\",\"carbon dioxide (CO2)\",\"carbon dioxide (CO2)\",\"carbon dioxide (CO2)\",\"carbon dioxide (CO2)\",\"carbon dioxide (CO2)\",\"carbon dioxide (CO2)\",\"carbon dioxide (CO2)\",\"carbon dioxide (CO2)\",\"carbon dioxide (CO2)\",\"carbon dioxide (CO2)\",\"carbon dioxide (CO2)\",\"carbon dioxide (CO2)\",\"carbon dioxide (CO2)\",\"carbon dioxide (CO2)\",\"carbon dioxide (CO2)\",\"carbon dioxide (CO2)\",\"carbon dioxide (CO2)\",\"carbon dioxide (CO2)\",\"carbon dioxide (CO2)\",\"carbon dioxide (CO2)\",\"carbon dioxide (CO2)\",\"carbon dioxide (CO2)\",\"carbon dioxide (CO2)\",\"carbon dioxide (CO2)\",\"carbon dioxide (CO2)\",\"carbon dioxide (CO2)\",\"carbon dioxide (CO2)\",\"carbon dioxide (CO2)\",\"carbon dioxide (CO2)\",\"carbon dioxide (CO2)\",\"carbon dioxide (CO2)\",\"carbon dioxide (CO2)\",\"carbon dioxide (CO2)\",\"carbon dioxide (CO2)\",\"carbon dioxide (CO2)\",\"carbon dioxide (CO2)\",\"carbon dioxide (CO2)\",\"carbon dioxide (CO2)\",\"carbon dioxide (CO2)\",\"carbon dioxide (CO2)\",\"carbon dioxide (CO2)\",\"carbon dioxide (CO2)\",\"carbon dioxide (CO2)\",\"carbon dioxide (CO2)\",\"carbon dioxide (CO2)\",\"carbon dioxide (CO2)\",\"carbon dioxide (CO2)\",\"carbon dioxide (CO2)\",\"carbon dioxide (CO2)\",\"carbon dioxide (CO2)\",\"carbon dioxide (CO2)\",\"carbon dioxide (CO2)\",\"carbon dioxide (CO2)\",\"carbon dioxide (CO2)\",\"carbon dioxide (CO2)\",\"carbon dioxide (CO2)\",\"carbon dioxide (CO2)\",\"carbon dioxide (CO2)\",\"carbon dioxide (CO2)\",\"carbon dioxide (CO2)\",\"carbon dioxide (CO2)\",\"carbon dioxide (CO2)\",\"carbon dioxide (CO2)\",\"carbon dioxide (CO2)\",\"carbon dioxide (CO2)\",\"carbon dioxide (CO2)\",\"carbon dioxide (CO2)\",\"carbon dioxide (CO2)\",\"carbon dioxide (CO2)\",\"carbon dioxide (CO2)\",\"carbon dioxide (CO2)\",\"carbon dioxide (CO2)\",\"carbon dioxide (CO2)\",\"carbon dioxide (CO2)\",\"carbon dioxide (CO2)\",\"carbon dioxide (CO2)\",\"carbon dioxide (CO2)\",\"carbon dioxide (CO2)\",\"carbon dioxide (CO2)\",\"carbon dioxide (CO2)\",\"carbon dioxide (CO2)\",\"carbon dioxide (CO2)\",\"carbon dioxide (CO2)\",\"carbon dioxide (CO2)\",\"carbon dioxide (CO2)\",\"carbon dioxide (CO2)\",\"carbon dioxide (CO2)\",\"carbon dioxide (CO2)\",\"carbon dioxide (CO2)\",\"carbon dioxide (CO2)\",\"carbon dioxide (CO2)\",\"carbon dioxide (CO2)\",\"carbon dioxide (CO2)\",\"carbon dioxide (CO2)\",\"carbon dioxide (CO2)\",\"carbon dioxide (CO2)\",\"carbon dioxide (CO2)\",\"carbon dioxide (CO2)\",\"carbon dioxide (CO2)\",\"carbon dioxide (CO2)\",\"carbon dioxide (CO2)\",\"carbon dioxide (CO2)\",\"carbon dioxide (CO2)\",\"carbon dioxide (CO2)\",\"carbon dioxide (CO2)\",\"carbon dioxide (CO2)\",\"carbon dioxide (CO2)\",\"carbon dioxide (CO2)\",\"carbon dioxide (CO2)\",\"carbon dioxide (CO2)\",\"carbon dioxide (CO2)\",\"carbon dioxide (CO2)\",\"carbon dioxide (CO2)\",\"carbon dioxide (CO2)\",\"carbon dioxide (CO2)\",\"carbon dioxide (CO2)\",\"carbon dioxide (CO2)\",\"carbon dioxide (CO2)\",\"carbon dioxide (CO2)\",\"carbon dioxide (CO2)\",\"carbon dioxide (CO2)\",\"carbon dioxide (CO2)\",\"carbon dioxide (CO2)\",\"carbon dioxide (CO2)\",\"carbon dioxide (CO2)\",\"carbon dioxide (CO2)\",\"carbon dioxide (CO2)\",\"carbon dioxide (CO2)\",\"carbon dioxide (CO2)\",\"carbon dioxide (CO2)\",\"carbon dioxide (CO2)\",\"carbon dioxide (CO2)\",\"carbon dioxide (CO2)\",\"carbon dioxide (CO2)\",\"carbon dioxide (CO2)\",\"carbon dioxide (CO2)\",\"carbon dioxide (CO2)\",\"carbon dioxide (CO2)\",\"carbon dioxide (CO2)\",\"carbon dioxide (CO2)\",\"carbon dioxide (CO2)\",\"carbon dioxide (CO2)\",\"carbon dioxide (CO2)\",\"carbon dioxide (CO2)\",\"carbon dioxide (CO2)\",\"carbon dioxide (CO2)\",\"carbon dioxide (CO2)\"],\"Year\":[1750,1751,1752,1753,1754,1755,1756,1757,1758,1759,1760,1761,1762,1763,1764,1765,1766,1767,1768,1769,1770,1771,1772,1773,1774,1775,1776,1777,1778,1779,1780,1781,1782,1783,1784,1785,1786,1787,1788,1789,1790,1791,1792,1793,1794,1795,1796,1797,1798,1799,1800,1801,1802,1803,1804,1805,1806,1807,1808,1809,1810,1811,1812,1813,1814,1815,1816,1817,1818,1819,1820,1821,1822,1823,1824,1825,1826,1827,1828,1829,1830,1831,1832,1833,1834,1835,1836,1837,1838,1839,1840,1841,1842,1843,1844,1845,1846,1847,1848,1849,1850,1851,1852,1853,1854,1855,1856,1857,1858,1859,1860,1861,1862,1863,1864,1865,1866,1867,1868,1869,1870,1871,1872,1873,1874,1875,1876,1877,1878,1879,1880,1881,1882,1883,1884,1885,1886,1887,1888,1889,1890,1891,1892,1893,1894,1895,1896,1897,1898,1899,1900,1901,1902,1903,1904,1905,1906,1907,1908,1909,1910,1911,1912,1913,1914,1915,1916,1917,1918,1919,1920,1921,1922,1923,1924,1925,1926,1927,1928,1929,1930,1931,1932,1933,1934,1935,1936,1937,1938,1939,1940,1941,1942,1943,1944,1945,1946,1947,1948,1949,1950,1951,1952,1953,1954,1955,1956,1957,1958,1959,1960,1961,1962,1963,1964,1965,1966,1967,1968,1969,1970,1971,1972,1973,1974,1975,1976,1977,1978,1979,1980,1981,1982,1983,1984,1985,1986,1987,1988,1989,1990,1991,1992,1993,1994,1995,1996,1997,1998,1999,2000,2001,2002,2003,2004,2005,2006,2007,2008,2009,2010,2011,2012,2013,2014,2015,2016,2017,2018,2019,2020]},\"selected\":{\"id\":\"1224\"},\"selection_policy\":{\"id\":\"1242\"}},\"id\":\"1223\",\"type\":\"ColumnDataSource\"},{\"attributes\":{},\"id\":\"1151\",\"type\":\"LinearScale\"},{\"attributes\":{\"children\":[{\"id\":\"1134\"},{\"id\":\"1137\"}],\"margin\":[0,0,0,0],\"name\":\"Row04705\"},\"id\":\"1133\",\"type\":\"Row\"},{\"attributes\":{\"tools\":[{\"id\":\"1141\"},{\"id\":\"1161\"},{\"id\":\"1162\"},{\"id\":\"1163\"},{\"id\":\"1164\"},{\"id\":\"1165\"}]},\"id\":\"1167\",\"type\":\"Toolbar\"},{\"attributes\":{\"below\":[{\"id\":\"1153\"}],\"center\":[{\"id\":\"1156\"},{\"id\":\"1160\"}],\"height\":300,\"left\":[{\"id\":\"1157\"}],\"margin\":[5,5,5,5],\"min_border_bottom\":10,\"min_border_left\":10,\"min_border_right\":10,\"min_border_top\":10,\"renderers\":[{\"id\":\"1186\"},{\"id\":\"1207\"},{\"id\":\"1229\"}],\"right\":[{\"id\":\"1198\"}],\"sizing_mode\":\"fixed\",\"title\":{\"id\":\"1145\"},\"toolbar\":{\"id\":\"1167\"},\"width\":700,\"x_range\":{\"id\":\"1139\"},\"x_scale\":{\"id\":\"1149\"},\"y_range\":{\"id\":\"1140\"},\"y_scale\":{\"id\":\"1151\"}},\"id\":\"1144\",\"subtype\":\"Figure\",\"type\":\"Plot\"},{\"attributes\":{},\"id\":\"1224\",\"type\":\"Selection\"},{\"attributes\":{\"end\":726.4268000000001,\"reset_end\":726.4268000000001,\"reset_start\":-66.03880000000001,\"start\":-66.03880000000001,\"tags\":[[[\"Amount\",\"Amount\",null]]]},\"id\":\"1140\",\"type\":\"Range1d\"},{\"attributes\":{},\"id\":\"1202\",\"type\":\"Selection\"},{\"attributes\":{\"end\":2020.0,\"reset_end\":2020.0,\"reset_start\":1750.0,\"start\":1750.0,\"tags\":[[[\"Year\",\"Year\",null]]]},\"id\":\"1139\",\"type\":\"Range1d\"},{\"attributes\":{\"children\":[{\"id\":\"1133\"},{\"id\":\"1138\"}],\"margin\":[0,0,0,0],\"name\":\"Column04706\"},\"id\":\"1132\",\"type\":\"Column\"},{\"attributes\":{\"line_alpha\":0.1,\"line_color\":\"#fc4f30\",\"line_width\":2,\"x\":{\"field\":\"Year\"},\"y\":{\"field\":\"Amount\"}},\"id\":\"1205\",\"type\":\"Line\"},{\"attributes\":{},\"id\":\"1176\",\"type\":\"AllLabels\"},{\"attributes\":{\"coordinates\":null,\"data_source\":{\"id\":\"1201\"},\"glyph\":{\"id\":\"1204\"},\"group\":null,\"hover_glyph\":null,\"muted_glyph\":{\"id\":\"1206\"},\"nonselection_glyph\":{\"id\":\"1205\"},\"selection_glyph\":{\"id\":\"1222\"},\"view\":{\"id\":\"1208\"}},\"id\":\"1207\",\"type\":\"GlyphRenderer\"},{\"attributes\":{\"line_color\":\"#30a2da\",\"line_width\":2,\"x\":{\"field\":\"Year\"},\"y\":{\"field\":\"Amount\"}},\"id\":\"1183\",\"type\":\"Line\"},{\"attributes\":{\"source\":{\"id\":\"1201\"}},\"id\":\"1208\",\"type\":\"CDSView\"},{\"attributes\":{\"label\":{\"value\":\"Nitrous Oxide\"},\"renderers\":[{\"id\":\"1207\"}]},\"id\":\"1221\",\"type\":\"LegendItem\"},{\"attributes\":{\"line_color\":\"#fc4f30\",\"line_width\":2,\"x\":{\"field\":\"Year\"},\"y\":{\"field\":\"Amount\"}},\"id\":\"1222\",\"type\":\"Line\"},{\"attributes\":{\"line_color\":\"#e5ae38\",\"line_width\":2,\"x\":{\"field\":\"Year\"},\"y\":{\"field\":\"Amount\"}},\"id\":\"1226\",\"type\":\"Line\"},{\"attributes\":{},\"id\":\"1181\",\"type\":\"Selection\"},{\"attributes\":{\"data\":{\"Amount\":{\"__ndarray__\":\"AAAAAAAAAAAAAAAAAAAAAAAAAAAAAAAAAAAAAAAAAAAAAAAAAAAAAAAAAAAAAAAAAAAAAAAAAAAAAAAAAAAAAAAAAAAAAAAAAAAAAAAAAAAAAAAAAAAAAAAAAAAAAAAAAAAAAAAAAAAAAAAAAAAAAAAAAAAAAAAAAAAAAAAAAAAAAAAAAAAAAAAAAAAAAAAAAAAAAAAAAAAAAAAAAAAAAAAAAAAAAAAAAAAAAAAAAAAAAAAAAAAAAAAAAAAAAAAAAAAAAAAAAAAAAAAAAAAAAAAAAAAAAAAAAAAAAAAAAAAAAAAAAAAAAAAAAAAAAAAAAAAAAAAAAAAAAAAAAAAAAAAAAAAAAAAAAAAAAAAAAAAAAAAAAAAAAAAAAAAAAAAAAAAAAAAAAAAAAAAAAAAAAAAAAAAAAAAAAAAAAAAAAAAAAAAAAAAAAAAAAAAAAAAAAAAAAAAAAAAAAAAAAAAAAAAAAAAAAAAAAAAAAAAAAAAAAAAAAAAAAAAAAAAAAAAAAAAAAAAAAAAAAAAAAAAAAAAAAAAAAAAAAAAAAAAAAAAAAAAAAAAAAAAAAAAAAAAAAAAAAAAAAAAAAAAAAAAAAAAAAAAAAAAAAAAAAAAAAAAAAAAAAAAAAAAAAAAAAAAAAAAAAAAAAAAAAAAAAAAAAAAAAAAAAAAAAAAAAAAAAAAAAAAAAAAAAAAAAAAAAAAAAAAAAAAAAAAAAAAAAAAAAAAAAAAAAAAAAAAAAAAAAAAAAAAAAAAAAAAAAAAAAAAAAAAAAAAAAAAAAAAAAAAAAAAAAAAAAAAAAAAAAAAAAAAAAAAAAAAAAAAAAAAAAAAAAAAAAAAAAAAAAAAAAAAAAAAAAAAAAAAAAAAAAAAAAAAAAAAAAAAAAAAAAAAAAAAAAAAAAAAAAAAAAAAAAAAAAAAAAAAAAAAAAAAAAAAAAAAAAAAAAAAAAAAAAAAAAAAAAAAAAAAAAAAAAAAAAAAAAAAAAAAAAAAAAAAAAAAAAAAAAAAAAAAAAAAAAAAAAAAAAAAAAAAAAAAAAAAAAAAAAAAAAAAAAAAAAAAAAAAAAAAAAAAAAAAAAAAAAAAAAAAAAAAAAAAAAAAAAAAAAAAAAAAAAAAAAAAAAAAAAAAAAAAAAAAAAAAAAAAAAAAAAAAAAAAAAAAAAAAAAAAAAAAAAAAAAAAAAAAAAAAAAAAAAAAAAAAAAAAAAAAAAAAAAAAAAAAAAAAAAAAAAAAAAAAAAAAAAAAAAAAAAAAAAAAAAAAAAAAAAAAAAAAAAAAAAAAAAAAAAAAAAAAAAAAAAAAAAAAAAAAAAAAAAAAAAAAAAAAAAAAAAAAAAAAAAAAAAAAAAAAAAAAAAAAAAAAAAAAAAAAAAAAAAAAAAAAAAAAAAAAAAAAAAAAAAAAAAAAAAAAAAAAAAAAAAAAAAAAAAAAAAAAAAAAAAAAAAAAAAAAAAAAAAAAAAAAAAAAAAAAAAAAAAAAAAAAAAAAAAAAAAAAAAAAAAAAAAAAAAAAAAAAAAAAAAAAAAAAAAAAAAAAAAAAAAAAAAAAAAAAAAAAAAAAAAAAAAAAAAAAAAAAAAAAAAAAAAAAAAAAAAAAAAAAAAAAAAAAAAAAAAAAAAAAAAAAAAAAAAAAAAAAAAAAAAAAAAAAAAAAAAAAAAAAAAAAAAAAAAAAAAAAAAAAAAAAAAAAAAAAAAAAAAAAAAAAAAAAAAAAAAAAAAAAAAAAAAAAAAAAAAAAAAAAAAAAAAAAAAAAAAAAAAAAAAAAAAAAAAAAAAAAAAAAAAAAAAAAAAAAAAAAAAAAAAAAAAAAAAAAAAAAAAAAAAAAAAAAAAAAAAAAAAAAAAAAAAAAAAAAAAAAAAAAAAAAAAAAAAAAAAAAAAAAAAAAAAAAAAAAAAAAAAAAAAAAAAAAAAAAAAAAAAAAAAAAAAAAAAAAAAAAAAAAAAAAAAAAAAAAAAAAAAAAAAAAAAAAAAAAAAAAAAAAAAAAAAAAAAAAAAAAAAAAAAAAAAAAAAAAAAAAAAAAAAAAAAAAAAAAAAAAAAAAAAAAAAAAAAAAAAAAAAAAAAAAAAAAAAAAAAAAAAAAAAAAAAAAAAAAAAAAAAAAAAAAAAAAAAAAAAAAAAAAAAAAAAAAAAAAAAAAAAAAAAAAAAAAAAAAAAAAAAAAAAAAAAAAAAAAAAAAAAAAAAAAAAAAAAAAAAAAAAAAAAAAAAAAAAAAAAAAAAAAAAAAAAAAAAAAAAAAAAAAAAAAAAAAAAAAAAAAAAAAAAAAAAAAAAAAAAAAAAAAAAAAAAAAAAAAAAAAAAAAAAAAAAAAAAAAAAAAAAAAAAAAAAAAAAAAAAAAAAAAAAAAAAAAAAAAAAAAAAAAAAAAAAAAAAAAAAAAAAAAAAAAAAAAAAAAAAAAAAAAAAAAAAAAAAAAAAAAAAAAAAAAAAAAAAAAAAAAAAAAAAAAAAAAAAAAAAAAAAAAAAAAAAAAAAAAAAAAAAAAAAAAAAAAAAAAAAAAAAAAAAAAAAAAAAAAAAAAAAAAAAAAAAAAAAAAAAAAAAAAAAAAAAAAAAAAAAAAAAAAAAAAA4XoUrkehSkCPwvUoXK9KQB+F61G4fkhAmpmZmZmZRkBxPQrXo7BGQIXrUbgeBUZASOF6FK7nRUAK16NwPepFQClcj8L1CEZA9ihcj8I1QUCPwvUoXE9BQOxRuB6F60BAUrgehevRP0AK16NwPco/QHE9CtejUEBAZmZmZmbmP0BI4XoUrkc/QI/C9Shcjz9ACtejcD0KP0CPwvUoXE89QD0K16NwfT1AexSuR+F6PECPwvUoXI88QI/C9ShcTzxA16NwPQpXPED2KFyPwnU8QEjhehSuRzxASOF6FK5HPEAK16NwPUo8QAAAAAAAAAAAAAAAAAAAAAA=\",\"dtype\":\"float64\",\"order\":\"little\",\"shape\":[271]},\"Gas_Name\":[\"Nitrous Oxide\",\"Nitrous Oxide\",\"Nitrous Oxide\",\"Nitrous Oxide\",\"Nitrous Oxide\",\"Nitrous Oxide\",\"Nitrous Oxide\",\"Nitrous Oxide\",\"Nitrous Oxide\",\"Nitrous Oxide\",\"Nitrous Oxide\",\"Nitrous Oxide\",\"Nitrous Oxide\",\"Nitrous Oxide\",\"Nitrous Oxide\",\"Nitrous Oxide\",\"Nitrous Oxide\",\"Nitrous Oxide\",\"Nitrous Oxide\",\"Nitrous Oxide\",\"Nitrous Oxide\",\"Nitrous Oxide\",\"Nitrous Oxide\",\"Nitrous Oxide\",\"Nitrous Oxide\",\"Nitrous Oxide\",\"Nitrous Oxide\",\"Nitrous Oxide\",\"Nitrous Oxide\",\"Nitrous Oxide\",\"Nitrous Oxide\",\"Nitrous Oxide\",\"Nitrous Oxide\",\"Nitrous Oxide\",\"Nitrous Oxide\",\"Nitrous Oxide\",\"Nitrous Oxide\",\"Nitrous Oxide\",\"Nitrous Oxide\",\"Nitrous Oxide\",\"Nitrous Oxide\",\"Nitrous Oxide\",\"Nitrous Oxide\",\"Nitrous Oxide\",\"Nitrous Oxide\",\"Nitrous Oxide\",\"Nitrous Oxide\",\"Nitrous Oxide\",\"Nitrous Oxide\",\"Nitrous Oxide\",\"Nitrous Oxide\",\"Nitrous Oxide\",\"Nitrous Oxide\",\"Nitrous Oxide\",\"Nitrous Oxide\",\"Nitrous Oxide\",\"Nitrous Oxide\",\"Nitrous Oxide\",\"Nitrous Oxide\",\"Nitrous Oxide\",\"Nitrous Oxide\",\"Nitrous Oxide\",\"Nitrous Oxide\",\"Nitrous Oxide\",\"Nitrous Oxide\",\"Nitrous Oxide\",\"Nitrous Oxide\",\"Nitrous Oxide\",\"Nitrous Oxide\",\"Nitrous Oxide\",\"Nitrous Oxide\",\"Nitrous Oxide\",\"Nitrous Oxide\",\"Nitrous Oxide\",\"Nitrous Oxide\",\"Nitrous Oxide\",\"Nitrous Oxide\",\"Nitrous Oxide\",\"Nitrous Oxide\",\"Nitrous Oxide\",\"Nitrous Oxide\",\"Nitrous Oxide\",\"Nitrous Oxide\",\"Nitrous Oxide\",\"Nitrous Oxide\",\"Nitrous Oxide\",\"Nitrous Oxide\",\"Nitrous Oxide\",\"Nitrous Oxide\",\"Nitrous Oxide\",\"Nitrous Oxide\",\"Nitrous Oxide\",\"Nitrous Oxide\",\"Nitrous Oxide\",\"Nitrous Oxide\",\"Nitrous Oxide\",\"Nitrous Oxide\",\"Nitrous Oxide\",\"Nitrous Oxide\",\"Nitrous Oxide\",\"Nitrous Oxide\",\"Nitrous Oxide\",\"Nitrous Oxide\",\"Nitrous Oxide\",\"Nitrous Oxide\",\"Nitrous Oxide\",\"Nitrous Oxide\",\"Nitrous Oxide\",\"Nitrous Oxide\",\"Nitrous Oxide\",\"Nitrous Oxide\",\"Nitrous Oxide\",\"Nitrous Oxide\",\"Nitrous Oxide\",\"Nitrous Oxide\",\"Nitrous Oxide\",\"Nitrous Oxide\",\"Nitrous Oxide\",\"Nitrous Oxide\",\"Nitrous Oxide\",\"Nitrous Oxide\",\"Nitrous Oxide\",\"Nitrous Oxide\",\"Nitrous Oxide\",\"Nitrous Oxide\",\"Nitrous Oxide\",\"Nitrous Oxide\",\"Nitrous Oxide\",\"Nitrous Oxide\",\"Nitrous Oxide\",\"Nitrous Oxide\",\"Nitrous Oxide\",\"Nitrous Oxide\",\"Nitrous Oxide\",\"Nitrous Oxide\",\"Nitrous Oxide\",\"Nitrous Oxide\",\"Nitrous Oxide\",\"Nitrous Oxide\",\"Nitrous Oxide\",\"Nitrous Oxide\",\"Nitrous Oxide\",\"Nitrous Oxide\",\"Nitrous Oxide\",\"Nitrous Oxide\",\"Nitrous Oxide\",\"Nitrous Oxide\",\"Nitrous Oxide\",\"Nitrous Oxide\",\"Nitrous Oxide\",\"Nitrous Oxide\",\"Nitrous Oxide\",\"Nitrous Oxide\",\"Nitrous Oxide\",\"Nitrous Oxide\",\"Nitrous Oxide\",\"Nitrous Oxide\",\"Nitrous Oxide\",\"Nitrous Oxide\",\"Nitrous Oxide\",\"Nitrous Oxide\",\"Nitrous Oxide\",\"Nitrous Oxide\",\"Nitrous Oxide\",\"Nitrous Oxide\",\"Nitrous Oxide\",\"Nitrous Oxide\",\"Nitrous Oxide\",\"Nitrous Oxide\",\"Nitrous Oxide\",\"Nitrous Oxide\",\"Nitrous Oxide\",\"Nitrous Oxide\",\"Nitrous Oxide\",\"Nitrous Oxide\",\"Nitrous Oxide\",\"Nitrous Oxide\",\"Nitrous Oxide\",\"Nitrous Oxide\",\"Nitrous Oxide\",\"Nitrous Oxide\",\"Nitrous Oxide\",\"Nitrous Oxide\",\"Nitrous Oxide\",\"Nitrous Oxide\",\"Nitrous Oxide\",\"Nitrous Oxide\",\"Nitrous Oxide\",\"Nitrous Oxide\",\"Nitrous Oxide\",\"Nitrous Oxide\",\"Nitrous Oxide\",\"Nitrous Oxide\",\"Nitrous Oxide\",\"Nitrous Oxide\",\"Nitrous Oxide\",\"Nitrous Oxide\",\"Nitrous Oxide\",\"Nitrous Oxide\",\"Nitrous Oxide\",\"Nitrous Oxide\",\"Nitrous Oxide\",\"Nitrous Oxide\",\"Nitrous Oxide\",\"Nitrous Oxide\",\"Nitrous Oxide\",\"Nitrous Oxide\",\"Nitrous Oxide\",\"Nitrous Oxide\",\"Nitrous Oxide\",\"Nitrous Oxide\",\"Nitrous Oxide\",\"Nitrous Oxide\",\"Nitrous Oxide\",\"Nitrous Oxide\",\"Nitrous Oxide\",\"Nitrous Oxide\",\"Nitrous Oxide\",\"Nitrous Oxide\",\"Nitrous Oxide\",\"Nitrous Oxide\",\"Nitrous Oxide\",\"Nitrous Oxide\",\"Nitrous Oxide\",\"Nitrous Oxide\",\"Nitrous Oxide\",\"Nitrous Oxide\",\"Nitrous Oxide\",\"Nitrous Oxide\",\"Nitrous Oxide\",\"Nitrous Oxide\",\"Nitrous Oxide\",\"Nitrous Oxide\",\"Nitrous Oxide\",\"Nitrous Oxide\",\"Nitrous Oxide\",\"Nitrous Oxide\",\"Nitrous Oxide\",\"Nitrous Oxide\",\"Nitrous Oxide\",\"Nitrous Oxide\",\"Nitrous Oxide\",\"Nitrous Oxide\",\"Nitrous Oxide\",\"Nitrous Oxide\",\"Nitrous Oxide\",\"Nitrous Oxide\",\"Nitrous Oxide\",\"Nitrous Oxide\",\"Nitrous Oxide\",\"Nitrous Oxide\",\"Nitrous Oxide\",\"Nitrous Oxide\",\"Nitrous Oxide\",\"Nitrous Oxide\",\"Nitrous Oxide\",\"Nitrous Oxide\",\"Nitrous Oxide\",\"Nitrous Oxide\",\"Nitrous Oxide\",\"Nitrous Oxide\",\"Nitrous Oxide\",\"Nitrous Oxide\",\"Nitrous Oxide\",\"Nitrous Oxide\",\"Nitrous Oxide\",\"Nitrous Oxide\",\"Nitrous Oxide\",\"Nitrous Oxide\",\"Nitrous Oxide\",\"Nitrous Oxide\"],\"Year\":[1750,1751,1752,1753,1754,1755,1756,1757,1758,1759,1760,1761,1762,1763,1764,1765,1766,1767,1768,1769,1770,1771,1772,1773,1774,1775,1776,1777,1778,1779,1780,1781,1782,1783,1784,1785,1786,1787,1788,1789,1790,1791,1792,1793,1794,1795,1796,1797,1798,1799,1800,1801,1802,1803,1804,1805,1806,1807,1808,1809,1810,1811,1812,1813,1814,1815,1816,1817,1818,1819,1820,1821,1822,1823,1824,1825,1826,1827,1828,1829,1830,1831,1832,1833,1834,1835,1836,1837,1838,1839,1840,1841,1842,1843,1844,1845,1846,1847,1848,1849,1850,1851,1852,1853,1854,1855,1856,1857,1858,1859,1860,1861,1862,1863,1864,1865,1866,1867,1868,1869,1870,1871,1872,1873,1874,1875,1876,1877,1878,1879,1880,1881,1882,1883,1884,1885,1886,1887,1888,1889,1890,1891,1892,1893,1894,1895,1896,1897,1898,1899,1900,1901,1902,1903,1904,1905,1906,1907,1908,1909,1910,1911,1912,1913,1914,1915,1916,1917,1918,1919,1920,1921,1922,1923,1924,1925,1926,1927,1928,1929,1930,1931,1932,1933,1934,1935,1936,1937,1938,1939,1940,1941,1942,1943,1944,1945,1946,1947,1948,1949,1950,1951,1952,1953,1954,1955,1956,1957,1958,1959,1960,1961,1962,1963,1964,1965,1966,1967,1968,1969,1970,1971,1972,1973,1974,1975,1976,1977,1978,1979,1980,1981,1982,1983,1984,1985,1986,1987,1988,1989,1990,1991,1992,1993,1994,1995,1996,1997,1998,1999,2000,2001,2002,2003,2004,2005,2006,2007,2008,2009,2010,2011,2012,2013,2014,2015,2016,2017,2018,2019,2020]},\"selected\":{\"id\":\"1202\"},\"selection_policy\":{\"id\":\"1218\"}},\"id\":\"1201\",\"type\":\"ColumnDataSource\"},{\"attributes\":{\"client_comm_id\":\"86f2522fdab0400cbb906af52a2579ea\",\"comm_id\":\"cf9eef2795bf43cdbb817afd044d210e\",\"plot_id\":\"1131\"},\"id\":\"1401\",\"type\":\"panel.models.comm_manager.CommManager\"},{\"attributes\":{\"source\":{\"id\":\"1180\"}},\"id\":\"1187\",\"type\":\"CDSView\"},{\"attributes\":{\"line_alpha\":0.2,\"line_color\":\"#fc4f30\",\"line_width\":2,\"x\":{\"field\":\"Year\"},\"y\":{\"field\":\"Amount\"}},\"id\":\"1206\",\"type\":\"Line\"},{\"attributes\":{\"line_alpha\":0.1,\"line_color\":\"#30a2da\",\"line_width\":2,\"x\":{\"field\":\"Year\"},\"y\":{\"field\":\"Amount\"}},\"id\":\"1184\",\"type\":\"Line\"},{\"attributes\":{\"line_alpha\":0.2,\"line_color\":\"#30a2da\",\"line_width\":2,\"x\":{\"field\":\"Year\"},\"y\":{\"field\":\"Amount\"}},\"id\":\"1185\",\"type\":\"Line\"},{\"attributes\":{\"line_color\":\"#e5ae38\",\"line_width\":2,\"x\":{\"field\":\"Year\"},\"y\":{\"field\":\"Amount\"}},\"id\":\"1246\",\"type\":\"Line\"},{\"attributes\":{\"callback\":null,\"renderers\":[{\"id\":\"1186\"},{\"id\":\"1207\"},{\"id\":\"1229\"}],\"tags\":[\"hv_created\"],\"tooltips\":[[\"Gas_Name\",\"@{Gas_Name}\"],[\"Year\",\"@{Year}\"],[\"Amount\",\"@{Amount}\"]]},\"id\":\"1141\",\"type\":\"HoverTool\"},{\"attributes\":{\"children\":[{\"id\":\"1144\"}],\"margin\":[0,0,0,0],\"name\":\"Row04486\"},\"id\":\"1138\",\"type\":\"Row\"},{\"attributes\":{\"end\":2020,\"margin\":[5,10,5,10],\"start\":1750,\"step\":5,\"title\":\"Year slider\",\"value\":2020},\"id\":\"1135\",\"type\":\"Slider\"},{\"attributes\":{\"children\":[{\"id\":\"1132\"}],\"margin\":[0,0,0,0],\"name\":\"Row04707\"},\"id\":\"1131\",\"type\":\"Row\"},{\"attributes\":{\"axis_label\":\"Year\",\"coordinates\":null,\"formatter\":{\"id\":\"1175\"},\"group\":null,\"major_label_policy\":{\"id\":\"1176\"},\"ticker\":{\"id\":\"1154\"}},\"id\":\"1153\",\"type\":\"LinearAxis\"},{\"attributes\":{},\"id\":\"1175\",\"type\":\"BasicTickFormatter\"},{\"attributes\":{\"axis\":{\"id\":\"1153\"},\"coordinates\":null,\"grid_line_color\":null,\"group\":null,\"ticker\":null},\"id\":\"1156\",\"type\":\"Grid\"},{\"attributes\":{\"coordinates\":null,\"group\":null,\"text\":\"Gas Emission\",\"text_color\":\"black\",\"text_font_size\":\"12pt\"},\"id\":\"1145\",\"type\":\"Title\"},{\"attributes\":{\"line_alpha\":0.1,\"line_color\":\"#e5ae38\",\"line_width\":2,\"x\":{\"field\":\"Year\"},\"y\":{\"field\":\"Amount\"}},\"id\":\"1227\",\"type\":\"Line\"}],\"root_ids\":[\"1131\",\"1401\"]},\"title\":\"Bokeh Application\",\"version\":\"2.4.1\"}};\n",
       "    var render_items = [{\"docid\":\"57a9b589-8014-4e02-8437-93bdfc15a830\",\"root_ids\":[\"1131\"],\"roots\":{\"1131\":\"45630ec6-863d-4697-9582-f23d81da8edf\"}}];\n",
       "    root.Bokeh.embed.embed_items_notebook(docs_json, render_items);\n",
       "  }\n",
       "  if (root.Bokeh !== undefined && root.Bokeh.Panel !== undefined && ( root['Tabulator'] !== undefined) && ( root['Tabulator'] !== undefined)) {\n",
       "    embed_document(root);\n",
       "  } else {\n",
       "    var attempts = 0;\n",
       "    var timer = setInterval(function(root) {\n",
       "      if (root.Bokeh !== undefined && root.Bokeh.Panel !== undefined && (root['Tabulator'] !== undefined) && (root['Tabulator'] !== undefined)) {\n",
       "        clearInterval(timer);\n",
       "        embed_document(root);\n",
       "      } else if (document.readyState == \"complete\") {\n",
       "        attempts++;\n",
       "        if (attempts > 200) {\n",
       "          clearInterval(timer);\n",
       "          console.log(\"Bokeh: ERROR: Unable to run BokehJS code because BokehJS library is missing\");\n",
       "        }\n",
       "      }\n",
       "    }, 25, root)\n",
       "  }\n",
       "})(window);</script>"
      ],
      "text/plain": [
       "<hvplot.interactive.Interactive at 0x1dd7387c490>"
      ]
     },
     "execution_count": 31,
     "metadata": {
      "application/vnd.holoviews_exec.v0+json": {
       "id": "1131"
      }
     },
     "output_type": "execute_result"
    }
   ],
   "source": [
    "Gas_Emission_bar_plot"
   ]
  },
  {
   "cell_type": "code",
   "execution_count": 32,
   "metadata": {
    "azdata_cell_guid": "72ebda52-cba9-4ce7-a18c-674a812705c2",
    "language": "python"
   },
   "outputs": [],
   "source": [
    "pd_CO2_sources_Country = pd.read_sql_query(\"EXECUTE GetCO2ByDifferentSourcesPerCountry '3','1','Kenya'\", conn)"
   ]
  },
  {
   "cell_type": "code",
   "execution_count": 33,
   "metadata": {
    "azdata_cell_guid": "4d253e86-5965-424b-993c-da42d0e82ccb",
    "language": "python"
   },
   "outputs": [],
   "source": [
    "IP_CO2_sources_Country = pd_CO2_sources_Country.interactive()"
   ]
  },
  {
   "cell_type": "code",
   "execution_count": null,
   "metadata": {
    "azdata_cell_guid": "1f1bc3d3-6ef4-4706-8e97-7b668e9bf107",
    "language": "python"
   },
   "outputs": [],
   "source": []
  },
  {
   "cell_type": "code",
   "execution_count": 34,
   "metadata": {
    "azdata_cell_guid": "f08f5d08-17a8-4981-bfe0-7c3ef7a57995",
    "language": "python"
   },
   "outputs": [],
   "source": [
    "CO2_sources_Country_pipe = (IP_CO2_sources_Country[\n",
    "    (Ipd_Country_stas.Year <= year_slider ) \n",
    "    & (Ipd_Country_stas.Country_Name == Countries_select )\n",
    "   \n",
    "]\n",
    "                             .groupby(['Sources_Name','Year','Country_Name','Gas_Name'])['Amount']\n",
    "                             .sum()\n",
    "                             .to_frame()\n",
    "                             .reset_index()\n",
    "                             .sort_values(by='Year')  \n",
    "                             .reset_index(drop=True)\n",
    "\n",
    "                            )"
   ]
  },
  {
   "cell_type": "code",
   "execution_count": 35,
   "metadata": {
    "azdata_cell_guid": "57c8ac78-1d29-4721-8003-0e5eaa797faa",
    "language": "python"
   },
   "outputs": [
    {
     "data": {},
     "metadata": {},
     "output_type": "display_data"
    },
    {
     "data": {
      "application/vnd.holoviews_exec.v0+json": "",
      "text/html": [
       "<div id='1472'>\n",
       "\n",
       "\n",
       "\n",
       "\n",
       "\n",
       "  <div class=\"bk-root\" id=\"cc8d86f2-3414-4dce-bccc-9e85973d9e98\" data-root-id=\"1472\"></div>\n",
       "</div>\n",
       "<script type=\"application/javascript\">(function(root) {\n",
       "  function embed_document(root) {\n",
       "    var docs_json = {\"7ea49acd-a1d4-456b-981a-57fa134dc6f6\":{\"defs\":[{\"extends\":null,\"module\":null,\"name\":\"ReactiveHTML1\",\"overrides\":[],\"properties\":[]},{\"extends\":null,\"module\":null,\"name\":\"FlexBox1\",\"overrides\":[],\"properties\":[{\"default\":\"flex-start\",\"kind\":null,\"name\":\"align_content\"},{\"default\":\"flex-start\",\"kind\":null,\"name\":\"align_items\"},{\"default\":\"row\",\"kind\":null,\"name\":\"flex_direction\"},{\"default\":\"wrap\",\"kind\":null,\"name\":\"flex_wrap\"},{\"default\":\"flex-start\",\"kind\":null,\"name\":\"justify_content\"}]},{\"extends\":null,\"module\":null,\"name\":\"GridStack1\",\"overrides\":[],\"properties\":[{\"default\":\"warn\",\"kind\":null,\"name\":\"mode\"},{\"default\":null,\"kind\":null,\"name\":\"ncols\"},{\"default\":null,\"kind\":null,\"name\":\"nrows\"},{\"default\":true,\"kind\":null,\"name\":\"allow_resize\"},{\"default\":true,\"kind\":null,\"name\":\"allow_drag\"},{\"default\":[],\"kind\":null,\"name\":\"state\"}]},{\"extends\":null,\"module\":null,\"name\":\"click1\",\"overrides\":[],\"properties\":[{\"default\":\"\",\"kind\":null,\"name\":\"terminal_output\"},{\"default\":\"\",\"kind\":null,\"name\":\"debug_name\"},{\"default\":0,\"kind\":null,\"name\":\"clears\"}]},{\"extends\":null,\"module\":null,\"name\":\"NotificationAreaBase1\",\"overrides\":[],\"properties\":[{\"default\":\"bottom-right\",\"kind\":null,\"name\":\"position\"},{\"default\":0,\"kind\":null,\"name\":\"_clear\"}]},{\"extends\":null,\"module\":null,\"name\":\"NotificationArea1\",\"overrides\":[],\"properties\":[{\"default\":[],\"kind\":null,\"name\":\"notifications\"},{\"default\":\"bottom-right\",\"kind\":null,\"name\":\"position\"},{\"default\":0,\"kind\":null,\"name\":\"_clear\"},{\"default\":[{\"background\":\"#ffc107\",\"icon\":{\"className\":\"fas fa-exclamation-triangle\",\"color\":\"white\",\"tagName\":\"i\"},\"type\":\"warning\"},{\"background\":\"#007bff\",\"icon\":{\"className\":\"fas fa-info-circle\",\"color\":\"white\",\"tagName\":\"i\"},\"type\":\"info\"}],\"kind\":null,\"name\":\"types\"}]},{\"extends\":null,\"module\":null,\"name\":\"Notification\",\"overrides\":[],\"properties\":[{\"default\":null,\"kind\":null,\"name\":\"background\"},{\"default\":3000,\"kind\":null,\"name\":\"duration\"},{\"default\":null,\"kind\":null,\"name\":\"icon\"},{\"default\":\"\",\"kind\":null,\"name\":\"message\"},{\"default\":null,\"kind\":null,\"name\":\"notification_type\"},{\"default\":false,\"kind\":null,\"name\":\"_destroyed\"}]},{\"extends\":null,\"module\":null,\"name\":\"TemplateActions1\",\"overrides\":[],\"properties\":[{\"default\":0,\"kind\":null,\"name\":\"open_modal\"},{\"default\":0,\"kind\":null,\"name\":\"close_modal\"}]},{\"extends\":null,\"module\":null,\"name\":\"MaterialTemplateActions1\",\"overrides\":[],\"properties\":[{\"default\":0,\"kind\":null,\"name\":\"open_modal\"},{\"default\":0,\"kind\":null,\"name\":\"close_modal\"}]}],\"roots\":{\"references\":[{\"attributes\":{\"children\":[{\"id\":\"1476\"},{\"id\":\"1477\"}],\"margin\":[0,0,0,0],\"name\":\"Column05873\"},\"id\":\"1475\",\"type\":\"Column\"},{\"attributes\":{},\"id\":\"1503\",\"type\":\"StringFormatter\"},{\"attributes\":{\"end\":2020,\"margin\":[5,10,5,10],\"start\":1750,\"step\":5,\"title\":\"Year slider\",\"value\":2020},\"id\":\"1476\",\"type\":\"Slider\"},{\"attributes\":{},\"id\":\"1504\",\"type\":\"StringEditor\"},{\"attributes\":{\"indices\":[]},\"id\":\"1481\",\"type\":\"Selection\"},{\"attributes\":{\"editor\":{\"id\":\"1504\"},\"field\":\"Gas_Name\",\"formatter\":{\"id\":\"1503\"},\"title\":\"Gas_Name\",\"width\":0},\"id\":\"1505\",\"type\":\"TableColumn\"},{\"attributes\":{\"text_align\":\"right\"},\"id\":\"1493\",\"type\":\"NumberFormatter\"},{\"attributes\":{\"text_align\":\"left\"},\"id\":\"1482\",\"type\":\"NumberFormatter\"},{\"attributes\":{\"children\":[{\"id\":\"1513\"}],\"margin\":[0,0,0,0],\"name\":\"Row05878\"},\"id\":\"1479\",\"type\":\"Row\"},{\"attributes\":{},\"id\":\"1494\",\"type\":\"IntEditor\"},{\"attributes\":{\"completions\":[\"Afghanistan\",\"Albania\",\"Algeria\",\"Andorra\",\"Angola\",\"Anguilla\",\"Antarctica\",\"Antigua and Barbuda\",\"Argentina\",\"Armenia\",\"Aruba\",\"Australia\",\"Austria\",\"Azerbaijan\",\"Bahamas\",\"Bahrain\",\"Bangladesh\",\"Barbados\",\"Belarus\",\"Belgium\",\"Belize\",\"Benin\",\"Bermuda\",\"Bhutan\",\"Bolivia\",\"Bonaire Sint Eustatius and Saba\",\"Bosnia and Herzegovina\",\"Botswana\",\"Brazil\",\"British Virgin Islands\",\"Brunei\",\"Bulgaria\",\"Burkina Faso\",\"Burundi\",\"Cambodia\",\"Cameroon\",\"Canada\",\"Cape Verde\",\"Central African Republic\",\"Chad\",\"Chile\",\"China\",\"Christmas Island\",\"Colombia\",\"Comoros\",\"Congo\",\"Cook Islands\",\"Costa Rica\",\"Cote d'Ivoire\",\"Croatia\",\"Cuba\",\"Curacao\",\"Cyprus\",\"Czechia\",\"Democratic Republic of Congo\",\"Denmark\",\"Djibouti\",\"Dominica\",\"Dominican Republic\",\"Ecuador\",\"Egypt\",\"El Salvador\",\"Equatorial Guinea\",\"Eritrea\",\"Estonia\",\"Eswatini\",\"Ethiopia\",\"Faeroe Islands\",\"Fiji\",\"Finland\",\"France\",\"French Guiana\",\"French Polynesia\",\"Gabon\",\"Gambia\",\"Georgia\",\"Germany\",\"Ghana\",\"Greece\",\"Greenland\",\"Grenada\",\"Guadeloupe\",\"Guatemala\",\"Guinea\",\"Guinea-Bissau\",\"Guyana\",\"Haiti\",\"Honduras\",\"Hong Kong\",\"Hungary\",\"Iceland\",\"India\",\"Indonesia\",\"Iran\",\"Iraq\",\"Ireland\",\"Israel\",\"Italy\",\"Jamaica\",\"Japan\",\"Jordan\",\"Kazakhstan\",\"Kenya\",\"Kiribati\",\"Kosovo\",\"Kuwait\",\"Kyrgyzstan\",\"Laos\",\"Latvia\",\"Lebanon\",\"Lesotho\",\"Liberia\",\"Libya\",\"Liechtenstein\",\"Lithuania\",\"Luxembourg\",\"Madagascar\",\"Malawi\",\"Malaysia\",\"Maldives\",\"Mali\",\"Malta\",\"Marshall Islands\",\"Martinique\",\"Mauritania\",\"Mauritius\",\"Mayotte\",\"Mexico\",\"Moldova\",\"Mongolia\",\"Montenegro\",\"Montserrat\",\"Morocco\",\"Mozambique\",\"Myanmar\",\"Namibia\",\"Nauru\",\"Nepal\",\"Netherlands\",\"New Caledonia\",\"New Zealand\",\"Nicaragua\",\"Niger\",\"Nigeria\",\"Niue\",\"North Korea\",\"North Macedonia\",\"Norway\",\"Oman\",\"Pakistan\",\"Palau\",\"Palestine\",\"Panama\",\"Papua New Guinea\",\"Paraguay\",\"Peru\",\"Philippines\",\"Poland\",\"Portugal\",\"Puerto Rico\",\"Qatar\",\"Romania\",\"Russia\",\"Rwanda\",\"Saint Helena\",\"Saint Kitts and Nevis\",\"Saint Lucia\",\"Saint Pierre and Miquelon\",\"Saint Vincent and the Grenadines\",\"Samoa\",\"Sao Tome and Principe\",\"Saudi Arabia\",\"Senegal\",\"Serbia\",\"Seychelles\",\"Sierra Leone\",\"Singapore\",\"Sint Maarten (Dutch part)\",\"Slovakia\",\"Slovenia\",\"Solomon Islands\",\"Somalia\",\"South Africa\",\"South Korea\",\"South Sudan\",\"Spain\",\"Sri Lanka\",\"Sudan\",\"Suriname\",\"Sweden\",\"Switzerland\",\"Syria\",\"Taiwan\",\"Tajikistan\",\"Tanzania\",\"Thailand\",\"Timor\",\"Togo\",\"Tonga\",\"Trinidad and Tobago\",\"Tunisia\",\"Turkey\",\"Turkmenistan\",\"Turks and Caicos Islands\",\"Tuvalu\",\"Uganda\",\"Ukraine\",\"United Arab Emirates\",\"United Kingdom\",\"United States\",\"Uruguay\",\"Uzbekistan\",\"Vanuatu\",\"Venezuela\",\"Vietnam\",\"World\",\"Yemen\",\"Zambia\",\"Zimbabwe\"],\"margin\":[5,10,5,10],\"placeholder\":\"Enter Name of the country\",\"title\":\"Countries\",\"value\":\"United Kingdom\"},\"id\":\"1477\",\"type\":\"AutocompleteInput\"},{\"attributes\":{},\"id\":\"1488\",\"type\":\"StringFormatter\"},{\"attributes\":{\"editor\":{\"id\":\"1494\"},\"field\":\"Year\",\"formatter\":{\"id\":\"1493\"},\"title\":\"Year\",\"width\":0},\"id\":\"1495\",\"type\":\"TableColumn\"},{\"attributes\":{\"editor\":{\"id\":\"1484\"},\"field\":\"index\",\"formatter\":{\"id\":\"1482\"},\"title\":\"index\",\"width\":0},\"id\":\"1485\",\"type\":\"TableColumn\"},{\"attributes\":{\"data\":{\"Amount\":{\"__ndarray__\":\"AAAAAAAAAAAAAAAAAAAAAAAAAAAAAAAAAAAAAAAAAAAAAAAAAAAAAMHKoUW2syJAAAAAAAAAAAAAAAAAAAAAAAAAAAAAAAAAAAAAAAAAAAA=\",\"dtype\":\"float64\",\"order\":\"little\",\"shape\":[10]},\"Country_Name\":[\"United Kingdom\",\"United Kingdom\",\"United Kingdom\",\"United Kingdom\",\"United Kingdom\",\"United Kingdom\",\"United Kingdom\",\"United Kingdom\",\"United Kingdom\",\"United Kingdom\"],\"Gas_Name\":[\"carbon dioxide (CO2)\",\"carbon dioxide (CO2)\",\"carbon dioxide (CO2)\",\"carbon dioxide (CO2)\",\"carbon dioxide (CO2)\",\"carbon dioxide (CO2)\",\"carbon dioxide (CO2)\",\"carbon dioxide (CO2)\",\"carbon dioxide (CO2)\",\"carbon dioxide (CO2)\"],\"Sources_Name\":[\"Cement\",\"Flaring\",\"Gas\",\"Oil\",\"Other_industry\",\"Coal\",\"Other_industry\",\"Oil\",\"Flaring\",\"Cement\"],\"Year\":[1750,1750,1750,1750,1750,1750,1751,1751,1751,1751],\"index\":[0,1,2,3,4,5,6,7,8,9]},\"selected\":{\"id\":\"1481\"},\"selection_policy\":{\"id\":\"1515\"}},\"id\":\"1480\",\"type\":\"ColumnDataSource\"},{\"attributes\":{\"format\":\"0,0.0[00000]\",\"text_align\":\"right\"},\"id\":\"1508\",\"type\":\"NumberFormatter\"},{\"attributes\":{\"children\":[{\"id\":\"1474\"},{\"id\":\"1479\"}],\"margin\":[0,0,0,0],\"name\":\"Column05900\"},\"id\":\"1473\",\"type\":\"Column\"},{\"attributes\":{},\"id\":\"1509\",\"type\":\"NumberEditor\"},{\"attributes\":{\"children\":[{\"id\":\"1475\"},{\"id\":\"1478\"}],\"margin\":[0,0,0,0],\"name\":\"Row05899\"},\"id\":\"1474\",\"type\":\"Row\"},{\"attributes\":{\"children\":[{\"id\":\"1473\"}],\"margin\":[0,0,0,0],\"name\":\"Row05901\"},\"id\":\"1472\",\"type\":\"Row\"},{\"attributes\":{},\"id\":\"1498\",\"type\":\"StringFormatter\"},{\"attributes\":{\"margin\":[5,5,5,5],\"name\":\"HSpacer05898\",\"sizing_mode\":\"stretch_width\"},\"id\":\"1478\",\"type\":\"Spacer\"},{\"attributes\":{},\"id\":\"1499\",\"type\":\"StringEditor\"},{\"attributes\":{\"editor\":{\"id\":\"1509\"},\"field\":\"Amount\",\"formatter\":{\"id\":\"1508\"},\"title\":\"Amount\",\"width\":0},\"id\":\"1510\",\"type\":\"TableColumn\"},{\"attributes\":{\"columns\":[{\"id\":\"1485\"},{\"id\":\"1490\"},{\"id\":\"1495\"},{\"id\":\"1500\"},{\"id\":\"1505\"},{\"id\":\"1510\"}],\"configuration\":{\"columns\":[{\"field\":\"index\"},{\"field\":\"Sources_Name\"},{\"field\":\"Year\"},{\"field\":\"Country_Name\"},{\"field\":\"Gas_Name\"},{\"field\":\"Amount\"}],\"dataTree\":false,\"selectable\":true},\"indexes\":[\"index\"],\"layout\":\"fit_data_table\",\"margin\":[5,10,5,10],\"max_page\":163,\"name\":\"\",\"page\":1,\"page_size\":10,\"pagination\":\"remote\",\"select_mode\":true,\"selectable_rows\":null,\"sizing_mode\":\"stretch_width\",\"source\":{\"id\":\"1480\"},\"styles\":{\"data\":{},\"id\":\"6082b06eda2f4a25904261698937231e\"},\"subscribed_events\":[\"table-edit\",\"cell-click\"]},\"id\":\"1513\",\"type\":\"panel.models.tabulator.DataTabulator\"},{\"attributes\":{\"editor\":{\"id\":\"1499\"},\"field\":\"Country_Name\",\"formatter\":{\"id\":\"1498\"},\"title\":\"Country_Name\",\"width\":0},\"id\":\"1500\",\"type\":\"TableColumn\"},{\"attributes\":{},\"id\":\"1515\",\"type\":\"UnionRenderers\"},{\"attributes\":{\"editor\":{\"id\":\"1489\"},\"field\":\"Sources_Name\",\"formatter\":{\"id\":\"1488\"},\"title\":\"Sources_Name\",\"width\":0},\"id\":\"1490\",\"type\":\"TableColumn\"},{\"attributes\":{},\"id\":\"1489\",\"type\":\"StringEditor\"},{\"attributes\":{},\"id\":\"1484\",\"type\":\"CellEditor\"},{\"attributes\":{\"client_comm_id\":\"265c73aaae954cca81512f7e5dd0b07c\",\"comm_id\":\"26ea068950c94de7b7de12bf7264339a\",\"plot_id\":\"1472\"},\"id\":\"1521\",\"type\":\"panel.models.comm_manager.CommManager\"}],\"root_ids\":[\"1472\",\"1521\"]},\"title\":\"Bokeh Application\",\"version\":\"2.4.1\"}};\n",
       "    var render_items = [{\"docid\":\"7ea49acd-a1d4-456b-981a-57fa134dc6f6\",\"root_ids\":[\"1472\"],\"roots\":{\"1472\":\"cc8d86f2-3414-4dce-bccc-9e85973d9e98\"}}];\n",
       "    root.Bokeh.embed.embed_items_notebook(docs_json, render_items);\n",
       "  }\n",
       "  if (root.Bokeh !== undefined && root.Bokeh.Panel !== undefined && ( root['Tabulator'] !== undefined) && ( root['Tabulator'] !== undefined)) {\n",
       "    embed_document(root);\n",
       "  } else {\n",
       "    var attempts = 0;\n",
       "    var timer = setInterval(function(root) {\n",
       "      if (root.Bokeh !== undefined && root.Bokeh.Panel !== undefined && (root['Tabulator'] !== undefined) && (root['Tabulator'] !== undefined)) {\n",
       "        clearInterval(timer);\n",
       "        embed_document(root);\n",
       "      } else if (document.readyState == \"complete\") {\n",
       "        attempts++;\n",
       "        if (attempts > 200) {\n",
       "          clearInterval(timer);\n",
       "          console.log(\"Bokeh: ERROR: Unable to run BokehJS code because BokehJS library is missing\");\n",
       "        }\n",
       "      }\n",
       "    }, 25, root)\n",
       "  }\n",
       "})(window);</script>"
      ],
      "text/plain": [
       "<hvplot.interactive.Interactive at 0x1dd73831e50>"
      ]
     },
     "execution_count": 35,
     "metadata": {
      "application/vnd.holoviews_exec.v0+json": {
       "id": "1472"
      }
     },
     "output_type": "execute_result"
    }
   ],
   "source": [
    "CO2_sources_table = CO2_sources_Country_pipe.pipe(pn.widgets.Tabulator, pagination='remote', page_size = 10, sizing_mode='stretch_width') \n",
    "CO2_sources_table"
   ]
  },
  {
   "cell_type": "code",
   "execution_count": 36,
   "metadata": {
    "azdata_cell_guid": "13979c38-408f-4835-b00e-c6b8754fd96f",
    "language": "python"
   },
   "outputs": [],
   "source": [
    "CO2_sources_bar_plot = CO2_sources_Country_pipe.hvplot(kind='line', \n",
    "                                                     x='Year', \n",
    "                                                     y='Amount', \n",
    "                                                     title='Sources of CO2',\n",
    "                                                     by='Sources_Name',\n",
    "                                                    )"
   ]
  },
  {
   "cell_type": "code",
   "execution_count": 37,
   "metadata": {
    "azdata_cell_guid": "318fe1e6-4c87-40b8-9ec2-5a099bdce7af",
    "language": "python"
   },
   "outputs": [
    {
     "data": {},
     "metadata": {},
     "output_type": "display_data"
    },
    {
     "data": {},
     "metadata": {},
     "output_type": "display_data"
    },
    {
     "data": {
      "application/vnd.holoviews_exec.v0+json": "",
      "text/html": [
       "<div id='1532'>\n",
       "\n",
       "\n",
       "\n",
       "\n",
       "\n",
       "  <div class=\"bk-root\" id=\"fd5da13b-f510-46ff-8ab3-e09e61e3a0ea\" data-root-id=\"1532\"></div>\n",
       "</div>\n",
       "<script type=\"application/javascript\">(function(root) {\n",
       "  function embed_document(root) {\n",
       "    var docs_json = {\"108fdd48-f132-4337-bffc-fc5e39abdbbc\":{\"defs\":[{\"extends\":null,\"module\":null,\"name\":\"ReactiveHTML1\",\"overrides\":[],\"properties\":[]},{\"extends\":null,\"module\":null,\"name\":\"FlexBox1\",\"overrides\":[],\"properties\":[{\"default\":\"flex-start\",\"kind\":null,\"name\":\"align_content\"},{\"default\":\"flex-start\",\"kind\":null,\"name\":\"align_items\"},{\"default\":\"row\",\"kind\":null,\"name\":\"flex_direction\"},{\"default\":\"wrap\",\"kind\":null,\"name\":\"flex_wrap\"},{\"default\":\"flex-start\",\"kind\":null,\"name\":\"justify_content\"}]},{\"extends\":null,\"module\":null,\"name\":\"GridStack1\",\"overrides\":[],\"properties\":[{\"default\":\"warn\",\"kind\":null,\"name\":\"mode\"},{\"default\":null,\"kind\":null,\"name\":\"ncols\"},{\"default\":null,\"kind\":null,\"name\":\"nrows\"},{\"default\":true,\"kind\":null,\"name\":\"allow_resize\"},{\"default\":true,\"kind\":null,\"name\":\"allow_drag\"},{\"default\":[],\"kind\":null,\"name\":\"state\"}]},{\"extends\":null,\"module\":null,\"name\":\"click1\",\"overrides\":[],\"properties\":[{\"default\":\"\",\"kind\":null,\"name\":\"terminal_output\"},{\"default\":\"\",\"kind\":null,\"name\":\"debug_name\"},{\"default\":0,\"kind\":null,\"name\":\"clears\"}]},{\"extends\":null,\"module\":null,\"name\":\"NotificationAreaBase1\",\"overrides\":[],\"properties\":[{\"default\":\"bottom-right\",\"kind\":null,\"name\":\"position\"},{\"default\":0,\"kind\":null,\"name\":\"_clear\"}]},{\"extends\":null,\"module\":null,\"name\":\"NotificationArea1\",\"overrides\":[],\"properties\":[{\"default\":[],\"kind\":null,\"name\":\"notifications\"},{\"default\":\"bottom-right\",\"kind\":null,\"name\":\"position\"},{\"default\":0,\"kind\":null,\"name\":\"_clear\"},{\"default\":[{\"background\":\"#ffc107\",\"icon\":{\"className\":\"fas fa-exclamation-triangle\",\"color\":\"white\",\"tagName\":\"i\"},\"type\":\"warning\"},{\"background\":\"#007bff\",\"icon\":{\"className\":\"fas fa-info-circle\",\"color\":\"white\",\"tagName\":\"i\"},\"type\":\"info\"}],\"kind\":null,\"name\":\"types\"}]},{\"extends\":null,\"module\":null,\"name\":\"Notification\",\"overrides\":[],\"properties\":[{\"default\":null,\"kind\":null,\"name\":\"background\"},{\"default\":3000,\"kind\":null,\"name\":\"duration\"},{\"default\":null,\"kind\":null,\"name\":\"icon\"},{\"default\":\"\",\"kind\":null,\"name\":\"message\"},{\"default\":null,\"kind\":null,\"name\":\"notification_type\"},{\"default\":false,\"kind\":null,\"name\":\"_destroyed\"}]},{\"extends\":null,\"module\":null,\"name\":\"TemplateActions1\",\"overrides\":[],\"properties\":[{\"default\":0,\"kind\":null,\"name\":\"open_modal\"},{\"default\":0,\"kind\":null,\"name\":\"close_modal\"}]},{\"extends\":null,\"module\":null,\"name\":\"MaterialTemplateActions1\",\"overrides\":[],\"properties\":[{\"default\":0,\"kind\":null,\"name\":\"open_modal\"},{\"default\":0,\"kind\":null,\"name\":\"close_modal\"}]}],\"roots\":{\"references\":[{\"attributes\":{},\"id\":\"1579\",\"type\":\"BasicTickFormatter\"},{\"attributes\":{\"line_color\":\"#17becf\",\"line_width\":2,\"x\":{\"field\":\"Year\"},\"y\":{\"field\":\"Amount\"}},\"id\":\"1734\",\"type\":\"Line\"},{\"attributes\":{},\"id\":\"1566\",\"type\":\"PanTool\"},{\"attributes\":{\"label\":{\"value\":\"Coal\"},\"renderers\":[{\"id\":\"1611\"}]},\"id\":\"1625\",\"type\":\"LegendItem\"},{\"attributes\":{\"axis_label\":\"Amount\",\"coordinates\":null,\"formatter\":{\"id\":\"1582\"},\"group\":null,\"major_label_policy\":{\"id\":\"1583\"},\"ticker\":{\"id\":\"1562\"}},\"id\":\"1561\",\"type\":\"LinearAxis\"},{\"attributes\":{\"label\":{\"value\":\"Other_industry\"},\"renderers\":[{\"id\":\"1711\"}]},\"id\":\"1733\",\"type\":\"LegendItem\"},{\"attributes\":{\"axis\":{\"id\":\"1561\"},\"coordinates\":null,\"dimension\":1,\"grid_line_color\":null,\"group\":null,\"ticker\":null},\"id\":\"1564\",\"type\":\"Grid\"},{\"attributes\":{},\"id\":\"1646\",\"type\":\"UnionRenderers\"},{\"attributes\":{},\"id\":\"1730\",\"type\":\"UnionRenderers\"},{\"attributes\":{},\"id\":\"1562\",\"type\":\"BasicTicker\"},{\"attributes\":{},\"id\":\"1567\",\"type\":\"WheelZoomTool\"},{\"attributes\":{},\"id\":\"1622\",\"type\":\"UnionRenderers\"},{\"attributes\":{\"data\":{\"Amount\":{\"__ndarray__\":\"AAAAAAAAAAAAAAAAAAAAAAAAAAAAAAAAAAAAAAAAAAAAAAAAAAAAAAAAAAAAAAAAAAAAAAAAAAAAAAAAAAAAAAAAAAAAAAAAAAAAAAAAAAAAAAAAAAAAAAAAAAAAAAAAAAAAAAAAAAAAAAAAAAAAAAAAAAAAAAAAAAAAAAAAAAAAAAAAAAAAAAAAAAAAAAAAAAAAAAAAAAAAAAAAAAAAAAAAAAAAAAAAAAAAAAAAAAAAAAAAAAAAAAAAAAAAAAAAAAAAAAAAAAAAAAAAAAAAAAAAAAAAAAAAAAAAAAAAAAAAAAAAAAAAAAAAAAAAAAAAAAAAAAAAAAAAAAAAAAAAAAAAAAAAAAAAAAAAAAAAAAAAAAAAAAAAAAAAAAAAAAAAAAAAAAAAAAAAAAAAAAAAAAAAAAAAAAAAAAAAAAAAAAAAAAAAAAAAAAAAAAAAAAAAAAAAAAAAAAAAAAAAAAAAAAAAAAAAAAAAAAAAAAAAAAAAAAAAAAAAAAAAAAAAAAAAAAAAAAAAAAAAAAAAAAAAAAAAAAAAAAAAAAAAAAAAAAAAAAAAAAAAAAAAAAAAAAAAAAAAAAAAAAAAAAAAAAAAAAAAAAAAAAAAAAAAAAAAAAAAAAAAAAAAAAAAAAAAAAAAAAAAAAAAAAAAAAAAAAAAAAAAAAAAAAAAAAAAAAAAAAAAAAAAAAAAAAAAAAAAAAAAAAAAAAAAAAAAAAAAAAAAAAAAAAAAAAAAAAAAAAAAAAAAAAAAAAAAAAAAAAAAAAAAAAAAAAAAAAAAAAAAAAAAAAAAAAAAAAAAAAAAAAAAAAAAAAAAAAAAAAAAAAAAAAAAAAAAAAAAAAAAAAAAAAAAAAAAAAAAAAAAAAAAAAAAAAAAAAAAAAAAAAAAAAAAAAAAAAAAAAAAAAAAAAAAAAAAAAAAAAAAAAAAAAAAAAAAAAAAAAAAAAAAAAAAAAAAAAAAAAAAAAAAAAAAAAAAAAAAAAAAAAAAAAAAAAAAAAAAAAAAAAAAAAAAAAAAAAAAAAAAAAAAAAAAAAAAAAAAAAAAAAAAAAAAAAAAAAAAAAAAAAAAAAAAAAAAAAAAAAAAAAAAAAAAAAAAAAAAAAAAAAAAAAAAAAAAAAAAAAAAAAAAAAAAAAAAAAAAAAAAAAAAAAAAAAAAAAAAAAAAAAAAAAAAAAAAAAAAAAAAAAAAAAAAAAAAAAAAAAAAAAAAAAAAAAAAAAAAAAAAAAAAAAAAAAAAAAAAAAAAAAAAAAAAAAAAAAAAAAAAAAAAAAAAAAAAAAAAAAAAAAAAAAAAAAAAAAAAAAAAAAAAAAAAAAAAAAAAAAAAAAAAAAAAAAAAAAAAAAAAAAAAAAAAAAAAAAAAAAAAAAAAAAAAAAAAAAAAAAAAAAAAAAAAAAAAAAAAAAAAAAAAAAAAAAAAAAAAAAAAAAAAAAAAAAAAAAAAAAAAAAAAAAAAAAAAAAAAAAAAAAAAAAAAAAAAAAAAAAAAAAAAAAAAAAAAAAAAAAAAAAAAAAAAAAAAAAAAAAAAAAAAAAAAAAAAAAAAAAAAAAAAAAAAAAAAAAAAAAAAAAAAAAAAAAAAAAAAAAAAAAAAAAAAAAAAAAAAAAAAAAAAAAAAAAAAAAAAAAAAAAAAAAAAAAAAAAAAAAAAAAAAAAAAAAAAAAAAAAAAAAAAAAAAAAAAAAAAAAAAAAAAAAAAAAAAAAAAAAAAAAAAAAAAAAAAAAAAAAAAAAAAAAAAAAAAAAAAAAAAAAAAAAAAAAAAAAAAAAAAAAAAAAAAAAAAAAAAAAAAAAAAAAAAAAAAAAAAAAAAAAAAAAAAAAAAAAAAAAAAAAAAAAAAAAAAAAAAAAAAAAAAAAAAAAAAAAAAAAAAAAAAAAAAAAAAAAAAAAAAAAAAAAAAAAAAAAAAAAAAAAAAAAAAAAAAAAAAAAAAAAAAAAAAAAAAAAAAAAAAAAAAAAAAAAAAAAAAAAAAAAAAAAAAAAAAAAAAAAAAAAAAAAAAAAAAAAAAAAAAAAAAAAAAAAAAAAAAAAAAAAAAAAAAAAAAAAAAAAAAAAAA/Knx0k1icD8AAAAAAAAAAPyp8dJNYnA//Knx0k1icD8AAAAAAAAAAAAAAAAAAAAAAAAAAAAAAAAAAAAAAAAAAAAAAAAAAAAAuB6F61G4jj8730+Nl26SP7pJDAIrh5Y/TDeJQWDloD85tMh2vp+aP4ts5/up8aI/WDm0yHa+rz/ByqFFtvO9P5zEILByaME/MzMzMzMzwz8zMzMzMzPDP9nO91Pjpcs/5dAi2/l+0j/RItv5fmrgP/YoXI/C9fo//Knx0k1i+j+e76fGSzcGQI/C9ShcDxlAGy/dJAaBKEB7FK5H4Ro3QLByaJHtnEJAMQisHFpUSkCsHFpkO39MQPyp8dJNClFAnMQgsHLYUUDfT42XboJSQHE9CtejwFNAqMZLN4lhVEAxCKwcWkxWQFCNl24SG1ZAAiuHFtlmVkBqvHSTGFRXQIlBYOXQSlhA16NwPQrnWEBOYhBYOfxaQAwCK4cWEVtAf2q8dJPgWkCsHFpkO3daQD0K16NwLVpAN4lBYOW4W0DfT42XbtpdQGZmZmZm/l1ABoGVQ4vgYED0/dR46RJiQGq8dJMYIGNAUI2XbhIzZkA1XrpJDLJmQPp+arx0w2dAPzVeukmIaUDNzMzMzBxqQMHKoUW2A2pA3SQGgZXXaUCoxks3ifFpQARWDi2yVWpAPzVeukmMaUDRItv5fi5oQPhT46WbdGhAIbByaJExaUB/arx0k1hnQGQ730+NH2lAYOXQItvtZEAX2c73U7NjQBsv3SQGoWNAx0s3iUH8YUCPwvUoXGdiQNnO91PjmWRA1XjpJjEcZEAlBoGVQ09kQDeJQWDlIGRAZmZmZmaaY0A=\",\"dtype\":\"float64\",\"order\":\"little\",\"shape\":[271]},\"Sources_Name\":[\"Gas\",\"Gas\",\"Gas\",\"Gas\",\"Gas\",\"Gas\",\"Gas\",\"Gas\",\"Gas\",\"Gas\",\"Gas\",\"Gas\",\"Gas\",\"Gas\",\"Gas\",\"Gas\",\"Gas\",\"Gas\",\"Gas\",\"Gas\",\"Gas\",\"Gas\",\"Gas\",\"Gas\",\"Gas\",\"Gas\",\"Gas\",\"Gas\",\"Gas\",\"Gas\",\"Gas\",\"Gas\",\"Gas\",\"Gas\",\"Gas\",\"Gas\",\"Gas\",\"Gas\",\"Gas\",\"Gas\",\"Gas\",\"Gas\",\"Gas\",\"Gas\",\"Gas\",\"Gas\",\"Gas\",\"Gas\",\"Gas\",\"Gas\",\"Gas\",\"Gas\",\"Gas\",\"Gas\",\"Gas\",\"Gas\",\"Gas\",\"Gas\",\"Gas\",\"Gas\",\"Gas\",\"Gas\",\"Gas\",\"Gas\",\"Gas\",\"Gas\",\"Gas\",\"Gas\",\"Gas\",\"Gas\",\"Gas\",\"Gas\",\"Gas\",\"Gas\",\"Gas\",\"Gas\",\"Gas\",\"Gas\",\"Gas\",\"Gas\",\"Gas\",\"Gas\",\"Gas\",\"Gas\",\"Gas\",\"Gas\",\"Gas\",\"Gas\",\"Gas\",\"Gas\",\"Gas\",\"Gas\",\"Gas\",\"Gas\",\"Gas\",\"Gas\",\"Gas\",\"Gas\",\"Gas\",\"Gas\",\"Gas\",\"Gas\",\"Gas\",\"Gas\",\"Gas\",\"Gas\",\"Gas\",\"Gas\",\"Gas\",\"Gas\",\"Gas\",\"Gas\",\"Gas\",\"Gas\",\"Gas\",\"Gas\",\"Gas\",\"Gas\",\"Gas\",\"Gas\",\"Gas\",\"Gas\",\"Gas\",\"Gas\",\"Gas\",\"Gas\",\"Gas\",\"Gas\",\"Gas\",\"Gas\",\"Gas\",\"Gas\",\"Gas\",\"Gas\",\"Gas\",\"Gas\",\"Gas\",\"Gas\",\"Gas\",\"Gas\",\"Gas\",\"Gas\",\"Gas\",\"Gas\",\"Gas\",\"Gas\",\"Gas\",\"Gas\",\"Gas\",\"Gas\",\"Gas\",\"Gas\",\"Gas\",\"Gas\",\"Gas\",\"Gas\",\"Gas\",\"Gas\",\"Gas\",\"Gas\",\"Gas\",\"Gas\",\"Gas\",\"Gas\",\"Gas\",\"Gas\",\"Gas\",\"Gas\",\"Gas\",\"Gas\",\"Gas\",\"Gas\",\"Gas\",\"Gas\",\"Gas\",\"Gas\",\"Gas\",\"Gas\",\"Gas\",\"Gas\",\"Gas\",\"Gas\",\"Gas\",\"Gas\",\"Gas\",\"Gas\",\"Gas\",\"Gas\",\"Gas\",\"Gas\",\"Gas\",\"Gas\",\"Gas\",\"Gas\",\"Gas\",\"Gas\",\"Gas\",\"Gas\",\"Gas\",\"Gas\",\"Gas\",\"Gas\",\"Gas\",\"Gas\",\"Gas\",\"Gas\",\"Gas\",\"Gas\",\"Gas\",\"Gas\",\"Gas\",\"Gas\",\"Gas\",\"Gas\",\"Gas\",\"Gas\",\"Gas\",\"Gas\",\"Gas\",\"Gas\",\"Gas\",\"Gas\",\"Gas\",\"Gas\",\"Gas\",\"Gas\",\"Gas\",\"Gas\",\"Gas\",\"Gas\",\"Gas\",\"Gas\",\"Gas\",\"Gas\",\"Gas\",\"Gas\",\"Gas\",\"Gas\",\"Gas\",\"Gas\",\"Gas\",\"Gas\",\"Gas\",\"Gas\",\"Gas\",\"Gas\",\"Gas\",\"Gas\",\"Gas\",\"Gas\",\"Gas\",\"Gas\",\"Gas\",\"Gas\",\"Gas\",\"Gas\",\"Gas\",\"Gas\",\"Gas\",\"Gas\",\"Gas\",\"Gas\",\"Gas\",\"Gas\",\"Gas\",\"Gas\",\"Gas\",\"Gas\",\"Gas\",\"Gas\",\"Gas\"],\"Year\":[1750,1751,1752,1753,1754,1755,1756,1757,1758,1759,1760,1761,1762,1763,1764,1765,1766,1767,1768,1769,1770,1771,1772,1773,1774,1775,1776,1777,1778,1779,1780,1781,1782,1783,1784,1785,1786,1787,1788,1789,1790,1791,1792,1793,1794,1795,1796,1797,1798,1799,1800,1801,1802,1803,1804,1805,1806,1807,1808,1809,1810,1811,1812,1813,1814,1815,1816,1817,1818,1819,1820,1821,1822,1823,1824,1825,1826,1827,1828,1829,1830,1831,1832,1833,1834,1835,1836,1837,1838,1839,1840,1841,1842,1843,1844,1845,1846,1847,1848,1849,1850,1851,1852,1853,1854,1855,1856,1857,1858,1859,1860,1861,1862,1863,1864,1865,1866,1867,1868,1869,1870,1871,1872,1873,1874,1875,1876,1877,1878,1879,1880,1881,1882,1883,1884,1885,1886,1887,1888,1889,1890,1891,1892,1893,1894,1895,1896,1897,1898,1899,1900,1901,1902,1903,1904,1905,1906,1907,1908,1909,1910,1911,1912,1913,1914,1915,1916,1917,1918,1919,1920,1921,1922,1923,1924,1925,1926,1927,1928,1929,1930,1931,1932,1933,1934,1935,1936,1937,1938,1939,1940,1941,1942,1943,1944,1945,1946,1947,1948,1949,1950,1951,1952,1953,1954,1955,1956,1957,1958,1959,1960,1961,1962,1963,1964,1965,1966,1967,1968,1969,1970,1971,1972,1973,1974,1975,1976,1977,1978,1979,1980,1981,1982,1983,1984,1985,1986,1987,1988,1989,1990,1991,1992,1993,1994,1995,1996,1997,1998,1999,2000,2001,2002,2003,2004,2005,2006,2007,2008,2009,2010,2011,2012,2013,2014,2015,2016,2017,2018,2019,2020]},\"selected\":{\"id\":\"1652\"},\"selection_policy\":{\"id\":\"1672\"}},\"id\":\"1651\",\"type\":\"ColumnDataSource\"},{\"attributes\":{},\"id\":\"1565\",\"type\":\"SaveTool\"},{\"attributes\":{\"overlay\":{\"id\":\"1570\"}},\"id\":\"1568\",\"type\":\"BoxZoomTool\"},{\"attributes\":{},\"id\":\"1569\",\"type\":\"ResetTool\"},{\"attributes\":{},\"id\":\"1678\",\"type\":\"Selection\"},{\"attributes\":{\"bottom_units\":\"screen\",\"coordinates\":null,\"fill_alpha\":0.5,\"fill_color\":\"lightgrey\",\"group\":null,\"left_units\":\"screen\",\"level\":\"overlay\",\"line_alpha\":1.0,\"line_color\":\"black\",\"line_dash\":[4,4],\"line_width\":2,\"right_units\":\"screen\",\"syncable\":false,\"top_units\":\"screen\"},\"id\":\"1570\",\"type\":\"BoxAnnotation\"},{\"attributes\":{},\"id\":\"1599\",\"type\":\"UnionRenderers\"},{\"attributes\":{},\"id\":\"1580\",\"type\":\"AllLabels\"},{\"attributes\":{\"click_policy\":\"mute\",\"coordinates\":null,\"group\":null,\"items\":[{\"id\":\"1603\"},{\"id\":\"1625\"},{\"id\":\"1649\"},{\"id\":\"1675\"},{\"id\":\"1703\"},{\"id\":\"1733\"}],\"location\":[0,0],\"title\":\"Sources_Name\"},\"id\":\"1602\",\"type\":\"Legend\"},{\"attributes\":{\"line_color\":\"#6d904f\",\"line_width\":2,\"x\":{\"field\":\"Year\"},\"y\":{\"field\":\"Amount\"}},\"id\":\"1676\",\"type\":\"Line\"},{\"attributes\":{\"source\":{\"id\":\"1627\"}},\"id\":\"1634\",\"type\":\"CDSView\"},{\"attributes\":{\"line_color\":\"#8b8b8b\",\"line_width\":2,\"x\":{\"field\":\"Year\"},\"y\":{\"field\":\"Amount\"}},\"id\":\"1680\",\"type\":\"Line\"},{\"attributes\":{\"line_alpha\":0.1,\"line_color\":\"#e5ae38\",\"line_width\":2,\"x\":{\"field\":\"Year\"},\"y\":{\"field\":\"Amount\"}},\"id\":\"1631\",\"type\":\"Line\"},{\"attributes\":{},\"id\":\"1555\",\"type\":\"LinearScale\"},{\"attributes\":{\"client_comm_id\":\"c3a2e7744d224ba88ae2f74cb7a2a5a7\",\"comm_id\":\"6462c69aa66d415eb6231405a5b19b30\",\"plot_id\":\"1532\"},\"id\":\"1955\",\"type\":\"panel.models.comm_manager.CommManager\"},{\"attributes\":{\"label\":{\"value\":\"Flaring\"},\"renderers\":[{\"id\":\"1633\"}]},\"id\":\"1649\",\"type\":\"LegendItem\"},{\"attributes\":{\"end\":2020.0,\"reset_end\":2020.0,\"reset_start\":1750.0,\"start\":1750.0,\"tags\":[[[\"Year\",\"Year\",null]]]},\"id\":\"1540\",\"type\":\"Range1d\"},{\"attributes\":{\"line_color\":\"#17becf\",\"line_width\":2,\"x\":{\"field\":\"Year\"},\"y\":{\"field\":\"Amount\"}},\"id\":\"1708\",\"type\":\"Line\"},{\"attributes\":{\"line_alpha\":0.1,\"line_color\":\"#8b8b8b\",\"line_width\":2,\"x\":{\"field\":\"Year\"},\"y\":{\"field\":\"Amount\"}},\"id\":\"1681\",\"type\":\"Line\"},{\"attributes\":{\"children\":[{\"id\":\"1535\"},{\"id\":\"1538\"}],\"margin\":[0,0,0,0],\"name\":\"Row06444\"},\"id\":\"1534\",\"type\":\"Row\"},{\"attributes\":{\"coordinates\":null,\"data_source\":{\"id\":\"1677\"},\"glyph\":{\"id\":\"1680\"},\"group\":null,\"hover_glyph\":null,\"muted_glyph\":{\"id\":\"1682\"},\"nonselection_glyph\":{\"id\":\"1681\"},\"selection_glyph\":{\"id\":\"1704\"},\"view\":{\"id\":\"1684\"}},\"id\":\"1683\",\"type\":\"GlyphRenderer\"},{\"attributes\":{\"tools\":[{\"id\":\"1542\"},{\"id\":\"1565\"},{\"id\":\"1566\"},{\"id\":\"1567\"},{\"id\":\"1568\"},{\"id\":\"1569\"}]},\"id\":\"1571\",\"type\":\"Toolbar\"},{\"attributes\":{\"axis_label\":\"Year\",\"coordinates\":null,\"formatter\":{\"id\":\"1579\"},\"group\":null,\"major_label_policy\":{\"id\":\"1580\"},\"ticker\":{\"id\":\"1558\"}},\"id\":\"1557\",\"type\":\"LinearAxis\"},{\"attributes\":{\"source\":{\"id\":\"1677\"}},\"id\":\"1684\",\"type\":\"CDSView\"},{\"attributes\":{\"children\":[{\"id\":\"1536\"},{\"id\":\"1537\"}],\"margin\":[0,0,0,0],\"name\":\"Column06177\"},\"id\":\"1535\",\"type\":\"Column\"},{\"attributes\":{\"line_alpha\":0.2,\"line_color\":\"#17becf\",\"line_width\":2,\"x\":{\"field\":\"Year\"},\"y\":{\"field\":\"Amount\"}},\"id\":\"1710\",\"type\":\"Line\"},{\"attributes\":{},\"id\":\"1652\",\"type\":\"Selection\"},{\"attributes\":{\"end\":2020,\"margin\":[5,10,5,10],\"start\":1750,\"step\":5,\"title\":\"Year slider\",\"value\":2020},\"id\":\"1536\",\"type\":\"Slider\"},{\"attributes\":{\"line_alpha\":0.2,\"line_color\":\"#8b8b8b\",\"line_width\":2,\"x\":{\"field\":\"Year\"},\"y\":{\"field\":\"Amount\"}},\"id\":\"1682\",\"type\":\"Line\"},{\"attributes\":{\"line_color\":\"#fc4f30\",\"line_width\":2,\"x\":{\"field\":\"Year\"},\"y\":{\"field\":\"Amount\"}},\"id\":\"1626\",\"type\":\"Line\"},{\"attributes\":{\"label\":{\"value\":\"Oil\"},\"renderers\":[{\"id\":\"1683\"}]},\"id\":\"1703\",\"type\":\"LegendItem\"},{\"attributes\":{\"completions\":[\"Afghanistan\",\"Albania\",\"Algeria\",\"Andorra\",\"Angola\",\"Anguilla\",\"Antarctica\",\"Antigua and Barbuda\",\"Argentina\",\"Armenia\",\"Aruba\",\"Australia\",\"Austria\",\"Azerbaijan\",\"Bahamas\",\"Bahrain\",\"Bangladesh\",\"Barbados\",\"Belarus\",\"Belgium\",\"Belize\",\"Benin\",\"Bermuda\",\"Bhutan\",\"Bolivia\",\"Bonaire Sint Eustatius and Saba\",\"Bosnia and Herzegovina\",\"Botswana\",\"Brazil\",\"British Virgin Islands\",\"Brunei\",\"Bulgaria\",\"Burkina Faso\",\"Burundi\",\"Cambodia\",\"Cameroon\",\"Canada\",\"Cape Verde\",\"Central African Republic\",\"Chad\",\"Chile\",\"China\",\"Christmas Island\",\"Colombia\",\"Comoros\",\"Congo\",\"Cook Islands\",\"Costa Rica\",\"Cote d'Ivoire\",\"Croatia\",\"Cuba\",\"Curacao\",\"Cyprus\",\"Czechia\",\"Democratic Republic of Congo\",\"Denmark\",\"Djibouti\",\"Dominica\",\"Dominican Republic\",\"Ecuador\",\"Egypt\",\"El Salvador\",\"Equatorial Guinea\",\"Eritrea\",\"Estonia\",\"Eswatini\",\"Ethiopia\",\"Faeroe Islands\",\"Fiji\",\"Finland\",\"France\",\"French Guiana\",\"French Polynesia\",\"Gabon\",\"Gambia\",\"Georgia\",\"Germany\",\"Ghana\",\"Greece\",\"Greenland\",\"Grenada\",\"Guadeloupe\",\"Guatemala\",\"Guinea\",\"Guinea-Bissau\",\"Guyana\",\"Haiti\",\"Honduras\",\"Hong Kong\",\"Hungary\",\"Iceland\",\"India\",\"Indonesia\",\"Iran\",\"Iraq\",\"Ireland\",\"Israel\",\"Italy\",\"Jamaica\",\"Japan\",\"Jordan\",\"Kazakhstan\",\"Kenya\",\"Kiribati\",\"Kosovo\",\"Kuwait\",\"Kyrgyzstan\",\"Laos\",\"Latvia\",\"Lebanon\",\"Lesotho\",\"Liberia\",\"Libya\",\"Liechtenstein\",\"Lithuania\",\"Luxembourg\",\"Madagascar\",\"Malawi\",\"Malaysia\",\"Maldives\",\"Mali\",\"Malta\",\"Marshall Islands\",\"Martinique\",\"Mauritania\",\"Mauritius\",\"Mayotte\",\"Mexico\",\"Moldova\",\"Mongolia\",\"Montenegro\",\"Montserrat\",\"Morocco\",\"Mozambique\",\"Myanmar\",\"Namibia\",\"Nauru\",\"Nepal\",\"Netherlands\",\"New Caledonia\",\"New Zealand\",\"Nicaragua\",\"Niger\",\"Nigeria\",\"Niue\",\"North Korea\",\"North Macedonia\",\"Norway\",\"Oman\",\"Pakistan\",\"Palau\",\"Palestine\",\"Panama\",\"Papua New Guinea\",\"Paraguay\",\"Peru\",\"Philippines\",\"Poland\",\"Portugal\",\"Puerto Rico\",\"Qatar\",\"Romania\",\"Russia\",\"Rwanda\",\"Saint Helena\",\"Saint Kitts and Nevis\",\"Saint Lucia\",\"Saint Pierre and Miquelon\",\"Saint Vincent and the Grenadines\",\"Samoa\",\"Sao Tome and Principe\",\"Saudi Arabia\",\"Senegal\",\"Serbia\",\"Seychelles\",\"Sierra Leone\",\"Singapore\",\"Sint Maarten (Dutch part)\",\"Slovakia\",\"Slovenia\",\"Solomon Islands\",\"Somalia\",\"South Africa\",\"South Korea\",\"South Sudan\",\"Spain\",\"Sri Lanka\",\"Sudan\",\"Suriname\",\"Sweden\",\"Switzerland\",\"Syria\",\"Taiwan\",\"Tajikistan\",\"Tanzania\",\"Thailand\",\"Timor\",\"Togo\",\"Tonga\",\"Trinidad and Tobago\",\"Tunisia\",\"Turkey\",\"Turkmenistan\",\"Turks and Caicos Islands\",\"Tuvalu\",\"Uganda\",\"Ukraine\",\"United Arab Emirates\",\"United Kingdom\",\"United States\",\"Uruguay\",\"Uzbekistan\",\"Vanuatu\",\"Venezuela\",\"Vietnam\",\"World\",\"Yemen\",\"Zambia\",\"Zimbabwe\"],\"margin\":[5,10,5,10],\"placeholder\":\"Enter Name of the country\",\"title\":\"Countries\",\"value\":\"United Kingdom\"},\"id\":\"1537\",\"type\":\"AutocompleteInput\"},{\"attributes\":{},\"id\":\"1700\",\"type\":\"UnionRenderers\"},{\"attributes\":{\"margin\":[5,5,5,5],\"name\":\"HSpacer06443\",\"sizing_mode\":\"stretch_width\"},\"id\":\"1538\",\"type\":\"Spacer\"},{\"attributes\":{\"children\":[{\"id\":\"1548\"}],\"margin\":[0,0,0,0],\"name\":\"Row06182\"},\"id\":\"1539\",\"type\":\"Row\"},{\"attributes\":{\"line_color\":\"#6d904f\",\"line_width\":2,\"x\":{\"field\":\"Year\"},\"y\":{\"field\":\"Amount\"}},\"id\":\"1654\",\"type\":\"Line\"},{\"attributes\":{\"children\":[{\"id\":\"1533\"}],\"margin\":[0,0,0,0],\"name\":\"Row06446\"},\"id\":\"1532\",\"type\":\"Row\"},{\"attributes\":{\"below\":[{\"id\":\"1557\"}],\"center\":[{\"id\":\"1560\"},{\"id\":\"1564\"}],\"height\":300,\"left\":[{\"id\":\"1561\"}],\"margin\":[5,5,5,5],\"min_border_bottom\":10,\"min_border_left\":10,\"min_border_right\":10,\"min_border_top\":10,\"renderers\":[{\"id\":\"1590\"},{\"id\":\"1611\"},{\"id\":\"1633\"},{\"id\":\"1657\"},{\"id\":\"1683\"},{\"id\":\"1711\"}],\"right\":[{\"id\":\"1602\"}],\"sizing_mode\":\"fixed\",\"title\":{\"id\":\"1549\"},\"toolbar\":{\"id\":\"1571\"},\"width\":700,\"x_range\":{\"id\":\"1540\"},\"x_scale\":{\"id\":\"1553\"},\"y_range\":{\"id\":\"1541\"},\"y_scale\":{\"id\":\"1555\"}},\"id\":\"1548\",\"subtype\":\"Figure\",\"type\":\"Plot\"},{\"attributes\":{\"line_alpha\":0.1,\"line_color\":\"#30a2da\",\"line_width\":2,\"x\":{\"field\":\"Year\"},\"y\":{\"field\":\"Amount\"}},\"id\":\"1588\",\"type\":\"Line\"},{\"attributes\":{\"coordinates\":null,\"data_source\":{\"id\":\"1584\"},\"glyph\":{\"id\":\"1587\"},\"group\":null,\"hover_glyph\":null,\"muted_glyph\":{\"id\":\"1589\"},\"nonselection_glyph\":{\"id\":\"1588\"},\"selection_glyph\":{\"id\":\"1604\"},\"view\":{\"id\":\"1591\"}},\"id\":\"1590\",\"type\":\"GlyphRenderer\"},{\"attributes\":{},\"id\":\"1553\",\"type\":\"LinearScale\"},{\"attributes\":{\"line_color\":\"#e5ae38\",\"line_width\":2,\"x\":{\"field\":\"Year\"},\"y\":{\"field\":\"Amount\"}},\"id\":\"1650\",\"type\":\"Line\"},{\"attributes\":{\"children\":[{\"id\":\"1534\"},{\"id\":\"1539\"}],\"margin\":[0,0,0,0],\"name\":\"Column06445\"},\"id\":\"1533\",\"type\":\"Column\"},{\"attributes\":{\"end\":551.826,\"reset_end\":551.826,\"reset_start\":-50.166000000000004,\"start\":-50.166000000000004,\"tags\":[[[\"Amount\",\"Amount\",null]]]},\"id\":\"1541\",\"type\":\"Range1d\"},{\"attributes\":{\"data\":{\"Amount\":{\"__ndarray__\":\"AAAAAAAAAAAAAAAAAAAAAAAAAAAAAAAAAAAAAAAAAAAAAAAAAAAAAAAAAAAAAAAAAAAAAAAAAAAAAAAAAAAAAAAAAAAAAAAAAAAAAAAAAAAAAAAAAAAAAAAAAAAAAAAAAAAAAAAAAAAAAAAAAAAAAAAAAAAAAAAAAAAAAAAAAAAAAAAAAAAAAAAAAAAAAAAAAAAAAAAAAAAAAAAAAAAAAAAAAAAAAAAAAAAAAAAAAAAAAAAAAAAAAAAAAAAAAAAAAAAAAAAAAAAAAAAAAAAAAAAAAAAAAAAAAAAAAAAAAAAAAAAAAAAAAAAAAAAAAAAAAAAAAAAAAAAAAAAAAAAAAAAAAAAAAAAAAAAAAAAAAAAAAAAAAAAAAAAAAAAAAAAAAAAAAAAAAAAAAAAAAAAAAAAAAAAAAAAAAAAAAAAAAAAAAAAAAAAAAAAAAAAAAAAAAAAAAAAAAAAAAAAAAAAAAAAAAAAAAAAAAAAAAAAAAAAAAAAAAAAAAAAAAAAAAAAAAAAAAAAAAAAAAAAAAAAAAAAAAAAAAAAAAAAAAAAAAAAAAAAAAAAAAAAAAAAAAAAAAAAAAAAAAAAAAAAAAAAAAAAAAAAAAAAAAAAAAAAAAAAAAAAAAAAAAAAAAAAAAAAAAAAAAAAAAAAAAAAAAAAAAAAAAAAAAAAAAAAAAAAAAAAAAAAAAAAAAAAAAAAAAAAAAAAAAAAAAAAAAAAAAAAAAAAAAAAAAAAAAAAAAAAAAAAAAAAAAAAAAAAAAAAAAAAAAAAAAAAAAAAAAAAAAAAAAAAAAAAAAAAAAAAAAAAAAAAAAAAAAAAAAAAAAAAAAAAAAAAAAAAAAAAAAAAAAAAAAAAAAAAAAAAAAAAAAAAAAAAAAAAAAAAAAAAAAAAAAAAAAAAAAAAAAAAAAAAAAAAAAAAAAAAAAAAAAAAAAAAAAAAAAAAAAAAAAAAAAAAAAAAAAAAAAAAAAAAAAAAAAAAAAAAAAAAAAAAAAAAAAAAAAAAAAAAAAAAAAAAAAAAAAAAAAAAAAAAAAAAAAAAAAAAAAAAAAAAAAAAAAAAAAAAAAAAAAAAAAAAAAAAAAAAAAAAAAAAAAAAAAAAAAAAAAAAAAAAAAAAAAAAAAAAAAAAAAAAAAAAAAAAAAHnpJjEIrHw/ukkMAiuHhj/8qfHSTWJwPwAAAAAAAAAA/Knx0k1icD9YObTIdr6vP7pJDAIrh7Y/6SYxCKwcqj+LbOf7qfGiP4PAyqFFtrM/KVyPwvUorD/pJjEIrByqP0w3iUFg5bA/Gy/dJAaBtT+JQWDl0CK7P4PAyqFFtrM/8tJNYhBYyT/8qfHSTWLQP8HKoUW2880/MzMzMzMz0z8/NV66SQzaPwisHFpkO9c/JQaBlUOL4D/D9Shcj8LdPzm0yHa+n+Y/DAIrhxbZ5j9g5dAi2/nqP30/NV66SeQ//Knx0k1i7D+HFtnO91PrP0SLbOf7qe0/6SYxCKwc8j/D9Shcj8LzPylcj8L1KPQ/CtejcD0K+T9g5dAi2/n4P+58PzVeuv0/c2iR7Xw//z8rhxbZzvcAQDMzMzMzMwJAmG4Sg8DKAUA/NV66SQwFQDVeukkMAgdAppvEILByCECHFtnO91MIQFK4HoXrUQtAnMQgsHJoC0D2KFyPwvUMQI2XbhKDwAxAGQRWDi2yDEBeukkMAisNQEa28/3UeBBARIts5/spEUCPwvUoXI8QQLpJDAIrhxFAXI/C9SjcE0CBlUOLbGcXQOXQItv5/h5Ag8DKoUU2HEDZzvdT46UVQDeJQWDl0CNAWDm0yHa+L0C0yHa+nxohQAAAAAAAAAAAF9nO91Pj7T8UrkfhehT6P7ByaJHtfAVALbKd76fGDkCTGARWDq0RQPLSTWIQWBNAtvP91HhpGUD6fmq8dBMRQNejcD0K1wxAz/dT46WbDUCamZmZmZkFQGDl0CLb+QdA/Knx0k1iCkB3vp8aL90PQESLbOf7qQ5AkxgEVg4tEUBt5/up8dIQQIts5/up8RRA0SLb+X5qFEAAAAAAAAARQC2yne+nxgdAqMZLN4lB/j9qvHSTGAT+P3E9CtejcAFAc2iR7Xw/BUBSuB6F69EWQIGVQ4tsZxdAUrgehesRK0ACK4cW2W4xQJZDi2zn+0RAoBov3SQGS0Aj2/l+aqxKQMUgsHJoEUxA4XoUrkeBT0B3vp8aL61RQIGVQ4tsP1JAeekmMQiEVECR7Xw/Nd5WQNnO91PjpVxAcT0K16MkYEAlBoGVQ09hQHNoke18i2JA9P3UeOmaY0CsHFpkO5dlQNv5fmq8uGdA001iEFiZaUBI4XoUroNqQG3n+6nxmmtAUI2XbhLDbUDNzMzMzJJwQOkmMQis2HBAIbByaJEVckB/arx0kz5yQM3MzMzM9nBAcT0K16MsbkAv3SQGgXltQEjhehSuB25AGQRWDi3ybkCcxCCwcqhvQKJFtvP90GpAhxbZzvdnaECkcD0K14doQAwCK4cWaWdABFYOLbLZbUAzMzMzM7dpQDVeukkMKmlAJQaBlUM3aECJQWDl0M5pQFYOLbKd02tAz/dT46VXa0Boke18P21rQCUGgZVDb2tAsHJoke2Ia0D4U+OlmyxrQH0/NV66oWpA1XjpJjFAa0BEi2zn+xVqQJzEILByvGlAaJHtfD9RaUB9PzVeuuFoQMUgsHJo+WhAsHJoke2caEAxCKwcWnRoQDvfT42X5mhAVg4tsp0zaUAMAiuHFsVoQPyp8dJNpmhAGQRWDi2+Z0CsHFpkO7NmQI/C9Shcm2ZAi2zn+6mdZUBg5dAi22FlQKAaL90kzmRARrbz/dTkZEACK4cW2W5lQD0K16Nw3WVASOF6FK77ZUA1XrpJDNJlQPLSTWIQcGVAUI2XbhI7YUA=\",\"dtype\":\"float64\",\"order\":\"little\",\"shape\":[271]},\"Sources_Name\":[\"Oil\",\"Oil\",\"Oil\",\"Oil\",\"Oil\",\"Oil\",\"Oil\",\"Oil\",\"Oil\",\"Oil\",\"Oil\",\"Oil\",\"Oil\",\"Oil\",\"Oil\",\"Oil\",\"Oil\",\"Oil\",\"Oil\",\"Oil\",\"Oil\",\"Oil\",\"Oil\",\"Oil\",\"Oil\",\"Oil\",\"Oil\",\"Oil\",\"Oil\",\"Oil\",\"Oil\",\"Oil\",\"Oil\",\"Oil\",\"Oil\",\"Oil\",\"Oil\",\"Oil\",\"Oil\",\"Oil\",\"Oil\",\"Oil\",\"Oil\",\"Oil\",\"Oil\",\"Oil\",\"Oil\",\"Oil\",\"Oil\",\"Oil\",\"Oil\",\"Oil\",\"Oil\",\"Oil\",\"Oil\",\"Oil\",\"Oil\",\"Oil\",\"Oil\",\"Oil\",\"Oil\",\"Oil\",\"Oil\",\"Oil\",\"Oil\",\"Oil\",\"Oil\",\"Oil\",\"Oil\",\"Oil\",\"Oil\",\"Oil\",\"Oil\",\"Oil\",\"Oil\",\"Oil\",\"Oil\",\"Oil\",\"Oil\",\"Oil\",\"Oil\",\"Oil\",\"Oil\",\"Oil\",\"Oil\",\"Oil\",\"Oil\",\"Oil\",\"Oil\",\"Oil\",\"Oil\",\"Oil\",\"Oil\",\"Oil\",\"Oil\",\"Oil\",\"Oil\",\"Oil\",\"Oil\",\"Oil\",\"Oil\",\"Oil\",\"Oil\",\"Oil\",\"Oil\",\"Oil\",\"Oil\",\"Oil\",\"Oil\",\"Oil\",\"Oil\",\"Oil\",\"Oil\",\"Oil\",\"Oil\",\"Oil\",\"Oil\",\"Oil\",\"Oil\",\"Oil\",\"Oil\",\"Oil\",\"Oil\",\"Oil\",\"Oil\",\"Oil\",\"Oil\",\"Oil\",\"Oil\",\"Oil\",\"Oil\",\"Oil\",\"Oil\",\"Oil\",\"Oil\",\"Oil\",\"Oil\",\"Oil\",\"Oil\",\"Oil\",\"Oil\",\"Oil\",\"Oil\",\"Oil\",\"Oil\",\"Oil\",\"Oil\",\"Oil\",\"Oil\",\"Oil\",\"Oil\",\"Oil\",\"Oil\",\"Oil\",\"Oil\",\"Oil\",\"Oil\",\"Oil\",\"Oil\",\"Oil\",\"Oil\",\"Oil\",\"Oil\",\"Oil\",\"Oil\",\"Oil\",\"Oil\",\"Oil\",\"Oil\",\"Oil\",\"Oil\",\"Oil\",\"Oil\",\"Oil\",\"Oil\",\"Oil\",\"Oil\",\"Oil\",\"Oil\",\"Oil\",\"Oil\",\"Oil\",\"Oil\",\"Oil\",\"Oil\",\"Oil\",\"Oil\",\"Oil\",\"Oil\",\"Oil\",\"Oil\",\"Oil\",\"Oil\",\"Oil\",\"Oil\",\"Oil\",\"Oil\",\"Oil\",\"Oil\",\"Oil\",\"Oil\",\"Oil\",\"Oil\",\"Oil\",\"Oil\",\"Oil\",\"Oil\",\"Oil\",\"Oil\",\"Oil\",\"Oil\",\"Oil\",\"Oil\",\"Oil\",\"Oil\",\"Oil\",\"Oil\",\"Oil\",\"Oil\",\"Oil\",\"Oil\",\"Oil\",\"Oil\",\"Oil\",\"Oil\",\"Oil\",\"Oil\",\"Oil\",\"Oil\",\"Oil\",\"Oil\",\"Oil\",\"Oil\",\"Oil\",\"Oil\",\"Oil\",\"Oil\",\"Oil\",\"Oil\",\"Oil\",\"Oil\",\"Oil\",\"Oil\",\"Oil\",\"Oil\",\"Oil\",\"Oil\",\"Oil\",\"Oil\",\"Oil\",\"Oil\",\"Oil\",\"Oil\",\"Oil\",\"Oil\",\"Oil\",\"Oil\",\"Oil\",\"Oil\",\"Oil\",\"Oil\",\"Oil\",\"Oil\",\"Oil\",\"Oil\",\"Oil\",\"Oil\",\"Oil\",\"Oil\",\"Oil\",\"Oil\"],\"Year\":[1750,1751,1752,1753,1754,1755,1756,1757,1758,1759,1760,1761,1762,1763,1764,1765,1766,1767,1768,1769,1770,1771,1772,1773,1774,1775,1776,1777,1778,1779,1780,1781,1782,1783,1784,1785,1786,1787,1788,1789,1790,1791,1792,1793,1794,1795,1796,1797,1798,1799,1800,1801,1802,1803,1804,1805,1806,1807,1808,1809,1810,1811,1812,1813,1814,1815,1816,1817,1818,1819,1820,1821,1822,1823,1824,1825,1826,1827,1828,1829,1830,1831,1832,1833,1834,1835,1836,1837,1838,1839,1840,1841,1842,1843,1844,1845,1846,1847,1848,1849,1850,1851,1852,1853,1854,1855,1856,1857,1858,1859,1860,1861,1862,1863,1864,1865,1866,1867,1868,1869,1870,1871,1872,1873,1874,1875,1876,1877,1878,1879,1880,1881,1882,1883,1884,1885,1886,1887,1888,1889,1890,1891,1892,1893,1894,1895,1896,1897,1898,1899,1900,1901,1902,1903,1904,1905,1906,1907,1908,1909,1910,1911,1912,1913,1914,1915,1916,1917,1918,1919,1920,1921,1922,1923,1924,1925,1926,1927,1928,1929,1930,1931,1932,1933,1934,1935,1936,1937,1938,1939,1940,1941,1942,1943,1944,1945,1946,1947,1948,1949,1950,1951,1952,1953,1954,1955,1956,1957,1958,1959,1960,1961,1962,1963,1964,1965,1966,1967,1968,1969,1970,1971,1972,1973,1974,1975,1976,1977,1978,1979,1980,1981,1982,1983,1984,1985,1986,1987,1988,1989,1990,1991,1992,1993,1994,1995,1996,1997,1998,1999,2000,2001,2002,2003,2004,2005,2006,2007,2008,2009,2010,2011,2012,2013,2014,2015,2016,2017,2018,2019,2020]},\"selected\":{\"id\":\"1678\"},\"selection_policy\":{\"id\":\"1700\"}},\"id\":\"1677\",\"type\":\"ColumnDataSource\"},{\"attributes\":{\"callback\":null,\"renderers\":[{\"id\":\"1590\"},{\"id\":\"1611\"},{\"id\":\"1633\"},{\"id\":\"1657\"},{\"id\":\"1683\"},{\"id\":\"1711\"}],\"tags\":[\"hv_created\"],\"tooltips\":[[\"Sources_Name\",\"@{Sources_Name}\"],[\"Year\",\"@{Year}\"],[\"Amount\",\"@{Amount}\"]]},\"id\":\"1542\",\"type\":\"HoverTool\"},{\"attributes\":{\"line_alpha\":0.1,\"line_color\":\"#6d904f\",\"line_width\":2,\"x\":{\"field\":\"Year\"},\"y\":{\"field\":\"Amount\"}},\"id\":\"1655\",\"type\":\"Line\"},{\"attributes\":{\"data\":{\"Amount\":{\"__ndarray__\":\"AAAAAAAAAAAAAAAAAAAAAAAAAAAAAAAAAAAAAAAAAAAAAAAAAAAAAAAAAAAAAAAAAAAAAAAAAAAAAAAAAAAAAAAAAAAAAAAAAAAAAAAAAAAAAAAAAAAAAAAAAAAAAAAAAAAAAAAAAAAAAAAAAAAAAAAAAAAAAAAAAAAAAAAAAAAAAAAAAAAAAAAAAAAAAAAAAAAAAAAAAAAAAAAAAAAAAAAAAAAAAAAAAAAAAAAAAAAAAAAAAAAAAAAAAAAAAAAAAAAAAAAAAAAAAAAAAAAAAAAAAAAAAAAAAAAAAAAAAAAAAAAAAAAAAAAAAAAAAAAAAAAAAAAAAAAAAAAAAAAAAAAAAAAAAAAAAAAAAAAAAAAAAAAAAAAAAAAAAAAAAAAAAAAAAAAAAAAAAAAAAAAAAAAAAAAAAAAAAAAAAAAAAAAAAAAAAAAAAAAAAAAAAAAAAAAAAAAAAAAAAAAAAAAAAAAAAAAAAAAAAAAAAAAAAAAAAAAAAAAAAAAAAAAAAAAAAAAAAAAAAAAAAAAAAAAAAAAAAAAAAAAAAAAAAAAAAAAAAAAAAAAAAAAAAAAAAAAAAAAAAAAAAAAAAAAAAAAAAAAAAAAAAAAAAAAAAAAAAAAAAAAAAAAAAAAAAAAAAAAAAAAAAAAAAAAAAAAAAAAAAAAAAAAAAAAAAAAAAAAAAAAAAAAAAAAAAAAAAAAAAAAAAAAAAAAAAAAAAAAAAAAAAAAAAAAAAAAAAAAAAAAAAAAAAAAAAAAAAAAAAAAAAAAAAAAAAAAAAAAAAAAAAAAAAAAAAAAAAAAAAAAAAAAAAAAAAAAAAAAAAAAAAAAAAAAAAAAAAAAAAAAAAAAAAAAAAAAAAAAAAAAAAAAAAAAAAAAAAAAAAAAAAAAAAAAAAAAAAAAAAAAAAAAAAAAAAAAAAAAAAAAAAAAAAAAAAAAAAAAAAAAAAAAAAAAAAAAAAAAAAAAAAAAAAAAAAAAAAAAAAAAAAAAAAAAAAAAAAAAAAAAAAAAAAAAAAAAAAAAAAAAAAAAAAAAAAAAAAAAAAAAAAAAAAAAAAAAAAAAAAAAAAAAAAAAAAAAAAAAAAAAAAAAAAAAAAAAAAAAAAAAAAAAAAAAAAAAAAAAAAAAAAAAAAAAAAAAAAAAAAAAAAAAAAAAAAAAAAAAAAAAAAAAAAAAAAAAAAAAAAAAAAAAAAAAAAAAAAAAAAAAAAAAAAAAAAAAAAAAAAAAAAAAAAAAAAAAAAAAAAAAAAAAAAAAAAAAAAAAAAAAAAAAAAAAAAAAAAAAAAAAAAAAAAAAAAAAAAAAAAAAAAAAAAAAAAAAAAAAAAAAAAAAAAAAAAAAAAAAAAAAAAAAAAAAAAAAAAAAAAAAAAAAAAAAAAAAAAAAAAAAAAAAAAAAAAAAAAAAAAAAAAAAAAAAAAAAAAAAAAAAAAAAAAAAAAAAAAAAAAAAAAAAAAAAAAAAAAAAAAAAAAAAAAAAAAAAAAAAAAAAAAAAAAAAAAAAAAAAAAAAAAAAAAAAAAAAAAAAAAAAAAAAAAAAAAAAAAAAAAAAAAAAAAAAAAAAAAAAAAAAAAAAAAAAAAAAAAAAAAAAAAAAAAAAAAAAAAAAAAAAAAAAAAAAAAAAAAAAAAAAAAAAAAAAAAAAAAAAAAAAAAAAAAAAAAAAAAAAAAAAAAAAAAAAAAAAAAAAAAAAAAAAAAAAAAAAAAAAAAAAAAAAAAAAAAAAAAAAAAAAAAAAAAAAAAAAAAAAAAAAAAAAAAAAAAAAAAAAAAAAAAAAAAAAAAAAAAAAAAAAAAAAAAAAAAAAAAAAAAAAAAAAAAAAAAAAAAAAAAAAAAAAAAAAAAAAAAAAAAAAAAAAAAAAAAAAAAAAAAAAAAAAAAAAAAAAAAAAAAAAAAAAAAAAAAAAAAAD8qfHSTWIBQNejcD0K1wJAaJHtfD81BEBEi2zn+6kHQH9qvHSTGAFArkfhehSuAUCsHFpkO98EQCGwcmiR7QdAsHJoke18CkCsHFpkO98MQNNNYhBYOQ9AAAAAAAAAAAAAAAAAAAAAABkEVg4tsgxAKVyPwvUoDUAAAAAAAAAMQFK4HoXrUQJASOF6FK5HAEA730+Nl24KQCuHFtnO9wtA6SYxCKwcEUCF61G4HoUSQH9qvHSTmBNACtejcD2KFECsHFpkO18WQNV46SYxiBZAukkMAisHGEDZzvdT4yUZQL6fGi/dpBlAukkMAisHGEA730+Nl24XQEjhehSuRxlA/tR46SaxGkDsUbgehWscQHnpJjEILBxAsp3vp8bLG0D4U+Olm8QgQPhT46WbxCBAFK5H4XqUIECsHFpkO18hQOxRuB6FqyFAuB6F61E4IUB3vp8aL90gQHNoke18fyFA8tJNYhDYIUD4U+Olm8QjQH9qvHSTmCFAg8DKoUW2IEAj2/l+ajwfQJqZmZmZmR5AoBov3SSGH0ArhxbZzvcfQLx0kxgEVh1AuB6F61E4GUD+1HjpJrEZQHWTGARWjhpAuB6F61G4GkCmm8QgsHIaQJqZmZmZmRpA/Knx0k1iHEDHSzeJQWAgQJ7vp8ZLtyBArkfhehQuHUBg5dAi2/kXQG3n+6nx0hVAmpmZmZkZFkBGtvP91HgZQKRwPQrXIxlARIts5/upGUDXo3A9CtcaQCcxCKwcWhtAObTIdr4fGkCHFtnO91MZQMdLN4lBYBdAwcqhRbbzF0BGtvP91HgXQJzEILBy6BdA3SQGgZXDF0DfT42XbpIXQCuHFtnOdxhAUrgehevRFED4U+Olm8QNQLx0kxgEVg5AF9nO91NjEECYbhKDwMoNQARWDi2yHRBAXI/C9SjcEEDfT42XbpIRQIPAyqFFNhJApHA9CtejEUDb+X5qvHQRQJhuEoPAyhFAmG4Sg8DKEUA=\",\"dtype\":\"float64\",\"order\":\"little\",\"shape\":[271]},\"Sources_Name\":[\"Cement\",\"Cement\",\"Cement\",\"Cement\",\"Cement\",\"Cement\",\"Cement\",\"Cement\",\"Cement\",\"Cement\",\"Cement\",\"Cement\",\"Cement\",\"Cement\",\"Cement\",\"Cement\",\"Cement\",\"Cement\",\"Cement\",\"Cement\",\"Cement\",\"Cement\",\"Cement\",\"Cement\",\"Cement\",\"Cement\",\"Cement\",\"Cement\",\"Cement\",\"Cement\",\"Cement\",\"Cement\",\"Cement\",\"Cement\",\"Cement\",\"Cement\",\"Cement\",\"Cement\",\"Cement\",\"Cement\",\"Cement\",\"Cement\",\"Cement\",\"Cement\",\"Cement\",\"Cement\",\"Cement\",\"Cement\",\"Cement\",\"Cement\",\"Cement\",\"Cement\",\"Cement\",\"Cement\",\"Cement\",\"Cement\",\"Cement\",\"Cement\",\"Cement\",\"Cement\",\"Cement\",\"Cement\",\"Cement\",\"Cement\",\"Cement\",\"Cement\",\"Cement\",\"Cement\",\"Cement\",\"Cement\",\"Cement\",\"Cement\",\"Cement\",\"Cement\",\"Cement\",\"Cement\",\"Cement\",\"Cement\",\"Cement\",\"Cement\",\"Cement\",\"Cement\",\"Cement\",\"Cement\",\"Cement\",\"Cement\",\"Cement\",\"Cement\",\"Cement\",\"Cement\",\"Cement\",\"Cement\",\"Cement\",\"Cement\",\"Cement\",\"Cement\",\"Cement\",\"Cement\",\"Cement\",\"Cement\",\"Cement\",\"Cement\",\"Cement\",\"Cement\",\"Cement\",\"Cement\",\"Cement\",\"Cement\",\"Cement\",\"Cement\",\"Cement\",\"Cement\",\"Cement\",\"Cement\",\"Cement\",\"Cement\",\"Cement\",\"Cement\",\"Cement\",\"Cement\",\"Cement\",\"Cement\",\"Cement\",\"Cement\",\"Cement\",\"Cement\",\"Cement\",\"Cement\",\"Cement\",\"Cement\",\"Cement\",\"Cement\",\"Cement\",\"Cement\",\"Cement\",\"Cement\",\"Cement\",\"Cement\",\"Cement\",\"Cement\",\"Cement\",\"Cement\",\"Cement\",\"Cement\",\"Cement\",\"Cement\",\"Cement\",\"Cement\",\"Cement\",\"Cement\",\"Cement\",\"Cement\",\"Cement\",\"Cement\",\"Cement\",\"Cement\",\"Cement\",\"Cement\",\"Cement\",\"Cement\",\"Cement\",\"Cement\",\"Cement\",\"Cement\",\"Cement\",\"Cement\",\"Cement\",\"Cement\",\"Cement\",\"Cement\",\"Cement\",\"Cement\",\"Cement\",\"Cement\",\"Cement\",\"Cement\",\"Cement\",\"Cement\",\"Cement\",\"Cement\",\"Cement\",\"Cement\",\"Cement\",\"Cement\",\"Cement\",\"Cement\",\"Cement\",\"Cement\",\"Cement\",\"Cement\",\"Cement\",\"Cement\",\"Cement\",\"Cement\",\"Cement\",\"Cement\",\"Cement\",\"Cement\",\"Cement\",\"Cement\",\"Cement\",\"Cement\",\"Cement\",\"Cement\",\"Cement\",\"Cement\",\"Cement\",\"Cement\",\"Cement\",\"Cement\",\"Cement\",\"Cement\",\"Cement\",\"Cement\",\"Cement\",\"Cement\",\"Cement\",\"Cement\",\"Cement\",\"Cement\",\"Cement\",\"Cement\",\"Cement\",\"Cement\",\"Cement\",\"Cement\",\"Cement\",\"Cement\",\"Cement\",\"Cement\",\"Cement\",\"Cement\",\"Cement\",\"Cement\",\"Cement\",\"Cement\",\"Cement\",\"Cement\",\"Cement\",\"Cement\",\"Cement\",\"Cement\",\"Cement\",\"Cement\",\"Cement\",\"Cement\",\"Cement\",\"Cement\",\"Cement\",\"Cement\",\"Cement\",\"Cement\",\"Cement\",\"Cement\",\"Cement\",\"Cement\",\"Cement\",\"Cement\",\"Cement\",\"Cement\",\"Cement\",\"Cement\",\"Cement\",\"Cement\",\"Cement\",\"Cement\",\"Cement\",\"Cement\",\"Cement\",\"Cement\",\"Cement\"],\"Year\":[1750,1751,1752,1753,1754,1755,1756,1757,1758,1759,1760,1761,1762,1763,1764,1765,1766,1767,1768,1769,1770,1771,1772,1773,1774,1775,1776,1777,1778,1779,1780,1781,1782,1783,1784,1785,1786,1787,1788,1789,1790,1791,1792,1793,1794,1795,1796,1797,1798,1799,1800,1801,1802,1803,1804,1805,1806,1807,1808,1809,1810,1811,1812,1813,1814,1815,1816,1817,1818,1819,1820,1821,1822,1823,1824,1825,1826,1827,1828,1829,1830,1831,1832,1833,1834,1835,1836,1837,1838,1839,1840,1841,1842,1843,1844,1845,1846,1847,1848,1849,1850,1851,1852,1853,1854,1855,1856,1857,1858,1859,1860,1861,1862,1863,1864,1865,1866,1867,1868,1869,1870,1871,1872,1873,1874,1875,1876,1877,1878,1879,1880,1881,1882,1883,1884,1885,1886,1887,1888,1889,1890,1891,1892,1893,1894,1895,1896,1897,1898,1899,1900,1901,1902,1903,1904,1905,1906,1907,1908,1909,1910,1911,1912,1913,1914,1915,1916,1917,1918,1919,1920,1921,1922,1923,1924,1925,1926,1927,1928,1929,1930,1931,1932,1933,1934,1935,1936,1937,1938,1939,1940,1941,1942,1943,1944,1945,1946,1947,1948,1949,1950,1951,1952,1953,1954,1955,1956,1957,1958,1959,1960,1961,1962,1963,1964,1965,1966,1967,1968,1969,1970,1971,1972,1973,1974,1975,1976,1977,1978,1979,1980,1981,1982,1983,1984,1985,1986,1987,1988,1989,1990,1991,1992,1993,1994,1995,1996,1997,1998,1999,2000,2001,2002,2003,2004,2005,2006,2007,2008,2009,2010,2011,2012,2013,2014,2015,2016,2017,2018,2019,2020]},\"selected\":{\"id\":\"1585\"},\"selection_policy\":{\"id\":\"1599\"}},\"id\":\"1584\",\"type\":\"ColumnDataSource\"},{\"attributes\":{},\"id\":\"1582\",\"type\":\"BasicTickFormatter\"},{\"attributes\":{\"line_color\":\"#e5ae38\",\"line_width\":2,\"x\":{\"field\":\"Year\"},\"y\":{\"field\":\"Amount\"}},\"id\":\"1630\",\"type\":\"Line\"},{\"attributes\":{\"coordinates\":null,\"data_source\":{\"id\":\"1651\"},\"glyph\":{\"id\":\"1654\"},\"group\":null,\"hover_glyph\":null,\"muted_glyph\":{\"id\":\"1656\"},\"nonselection_glyph\":{\"id\":\"1655\"},\"selection_glyph\":{\"id\":\"1676\"},\"view\":{\"id\":\"1658\"}},\"id\":\"1657\",\"type\":\"GlyphRenderer\"},{\"attributes\":{\"line_alpha\":0.2,\"line_color\":\"#30a2da\",\"line_width\":2,\"x\":{\"field\":\"Year\"},\"y\":{\"field\":\"Amount\"}},\"id\":\"1589\",\"type\":\"Line\"},{\"attributes\":{\"source\":{\"id\":\"1651\"}},\"id\":\"1658\",\"type\":\"CDSView\"},{\"attributes\":{\"line_color\":\"#fc4f30\",\"line_width\":2,\"x\":{\"field\":\"Year\"},\"y\":{\"field\":\"Amount\"}},\"id\":\"1608\",\"type\":\"Line\"},{\"attributes\":{},\"id\":\"1706\",\"type\":\"Selection\"},{\"attributes\":{\"line_color\":\"#30a2da\",\"line_width\":2,\"x\":{\"field\":\"Year\"},\"y\":{\"field\":\"Amount\"}},\"id\":\"1604\",\"type\":\"Line\"},{\"attributes\":{\"data\":{\"Amount\":{\"__ndarray__\":\"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\",\"dtype\":\"float64\",\"order\":\"little\",\"shape\":[271]},\"Sources_Name\":[\"Coal\",\"Coal\",\"Coal\",\"Coal\",\"Coal\",\"Coal\",\"Coal\",\"Coal\",\"Coal\",\"Coal\",\"Coal\",\"Coal\",\"Coal\",\"Coal\",\"Coal\",\"Coal\",\"Coal\",\"Coal\",\"Coal\",\"Coal\",\"Coal\",\"Coal\",\"Coal\",\"Coal\",\"Coal\",\"Coal\",\"Coal\",\"Coal\",\"Coal\",\"Coal\",\"Coal\",\"Coal\",\"Coal\",\"Coal\",\"Coal\",\"Coal\",\"Coal\",\"Coal\",\"Coal\",\"Coal\",\"Coal\",\"Coal\",\"Coal\",\"Coal\",\"Coal\",\"Coal\",\"Coal\",\"Coal\",\"Coal\",\"Coal\",\"Coal\",\"Coal\",\"Coal\",\"Coal\",\"Coal\",\"Coal\",\"Coal\",\"Coal\",\"Coal\",\"Coal\",\"Coal\",\"Coal\",\"Coal\",\"Coal\",\"Coal\",\"Coal\",\"Coal\",\"Coal\",\"Coal\",\"Coal\",\"Coal\",\"Coal\",\"Coal\",\"Coal\",\"Coal\",\"Coal\",\"Coal\",\"Coal\",\"Coal\",\"Coal\",\"Coal\",\"Coal\",\"Coal\",\"Coal\",\"Coal\",\"Coal\",\"Coal\",\"Coal\",\"Coal\",\"Coal\",\"Coal\",\"Coal\",\"Coal\",\"Coal\",\"Coal\",\"Coal\",\"Coal\",\"Coal\",\"Coal\",\"Coal\",\"Coal\",\"Coal\",\"Coal\",\"Coal\",\"Coal\",\"Coal\",\"Coal\",\"Coal\",\"Coal\",\"Coal\",\"Coal\",\"Coal\",\"Coal\",\"Coal\",\"Coal\",\"Coal\",\"Coal\",\"Coal\",\"Coal\",\"Coal\",\"Coal\",\"Coal\",\"Coal\",\"Coal\",\"Coal\",\"Coal\",\"Coal\",\"Coal\",\"Coal\",\"Coal\",\"Coal\",\"Coal\",\"Coal\",\"Coal\",\"Coal\",\"Coal\",\"Coal\",\"Coal\",\"Coal\",\"Coal\",\"Coal\",\"Coal\",\"Coal\",\"Coal\",\"Coal\",\"Coal\",\"Coal\",\"Coal\",\"Coal\",\"Coal\",\"Coal\",\"Coal\",\"Coal\",\"Coal\",\"Coal\",\"Coal\",\"Coal\",\"Coal\",\"Coal\",\"Coal\",\"Coal\",\"Coal\",\"Coal\",\"Coal\",\"Coal\",\"Coal\",\"Coal\",\"Coal\",\"Coal\",\"Coal\",\"Coal\",\"Coal\",\"Coal\",\"Coal\",\"Coal\",\"Coal\",\"Coal\",\"Coal\",\"Coal\",\"Coal\",\"Coal\",\"Coal\",\"Coal\",\"Coal\",\"Coal\",\"Coal\",\"Coal\",\"Coal\",\"Coal\",\"Coal\",\"Coal\",\"Coal\",\"Coal\",\"Coal\",\"Coal\",\"Coal\",\"Coal\",\"Coal\",\"Coal\",\"Coal\",\"Coal\",\"Coal\",\"Coal\",\"Coal\",\"Coal\",\"Coal\",\"Coal\",\"Coal\",\"Coal\",\"Coal\",\"Coal\",\"Coal\",\"Coal\",\"Coal\",\"Coal\",\"Coal\",\"Coal\",\"Coal\",\"Coal\",\"Coal\",\"Coal\",\"Coal\",\"Coal\",\"Coal\",\"Coal\",\"Coal\",\"Coal\",\"Coal\",\"Coal\",\"Coal\",\"Coal\",\"Coal\",\"Coal\",\"Coal\",\"Coal\",\"Coal\",\"Coal\",\"Coal\",\"Coal\",\"Coal\",\"Coal\",\"Coal\",\"Coal\",\"Coal\",\"Coal\",\"Coal\",\"Coal\",\"Coal\",\"Coal\",\"Coal\",\"Coal\",\"Coal\",\"Coal\",\"Coal\",\"Coal\",\"Coal\",\"Coal\",\"Coal\",\"Coal\",\"Coal\",\"Coal\",\"Coal\",\"Coal\",\"Coal\",\"Coal\",\"Coal\",\"Coal\",\"Coal\",\"Coal\",\"Coal\",\"Coal\"],\"Year\":[1750,1751,1752,1753,1754,1755,1756,1757,1758,1759,1760,1761,1762,1763,1764,1765,1766,1767,1768,1769,1770,1771,1772,1773,1774,1775,1776,1777,1778,1779,1780,1781,1782,1783,1784,1785,1786,1787,1788,1789,1790,1791,1792,1793,1794,1795,1796,1797,1798,1799,1800,1801,1802,1803,1804,1805,1806,1807,1808,1809,1810,1811,1812,1813,1814,1815,1816,1817,1818,1819,1820,1821,1822,1823,1824,1825,1826,1827,1828,1829,1830,1831,1832,1833,1834,1835,1836,1837,1838,1839,1840,1841,1842,1843,1844,1845,1846,1847,1848,1849,1850,1851,1852,1853,1854,1855,1856,1857,1858,1859,1860,1861,1862,1863,1864,1865,1866,1867,1868,1869,1870,1871,1872,1873,1874,1875,1876,1877,1878,1879,1880,1881,1882,1883,1884,1885,1886,1887,1888,1889,1890,1891,1892,1893,1894,1895,1896,1897,1898,1899,1900,1901,1902,1903,1904,1905,1906,1907,1908,1909,1910,1911,1912,1913,1914,1915,1916,1917,1918,1919,1920,1921,1922,1923,1924,1925,1926,1927,1928,1929,1930,1931,1932,1933,1934,1935,1936,1937,1938,1939,1940,1941,1942,1943,1944,1945,1946,1947,1948,1949,1950,1951,1952,1953,1954,1955,1956,1957,1958,1959,1960,1961,1962,1963,1964,1965,1966,1967,1968,1969,1970,1971,1972,1973,1974,1975,1976,1977,1978,1979,1980,1981,1982,1983,1984,1985,1986,1987,1988,1989,1990,1991,1992,1993,1994,1995,1996,1997,1998,1999,2000,2001,2002,2003,2004,2005,2006,2007,2008,2009,2010,2011,2012,2013,2014,2015,2016,2017,2018,2019,2020]},\"selected\":{\"id\":\"1606\"},\"selection_policy\":{\"id\":\"1622\"}},\"id\":\"1605\",\"type\":\"ColumnDataSource\"},{\"attributes\":{\"line_alpha\":0.2,\"line_color\":\"#fc4f30\",\"line_width\":2,\"x\":{\"field\":\"Year\"},\"y\":{\"field\":\"Amount\"}},\"id\":\"1610\",\"type\":\"Line\"},{\"attributes\":{\"line_alpha\":0.2,\"line_color\":\"#6d904f\",\"line_width\":2,\"x\":{\"field\":\"Year\"},\"y\":{\"field\":\"Amount\"}},\"id\":\"1656\",\"type\":\"Line\"},{\"attributes\":{\"line_color\":\"#8b8b8b\",\"line_width\":2,\"x\":{\"field\":\"Year\"},\"y\":{\"field\":\"Amount\"}},\"id\":\"1704\",\"type\":\"Line\"},{\"attributes\":{},\"id\":\"1585\",\"type\":\"Selection\"},{\"attributes\":{},\"id\":\"1628\",\"type\":\"Selection\"},{\"attributes\":{\"line_color\":\"#30a2da\",\"line_width\":2,\"x\":{\"field\":\"Year\"},\"y\":{\"field\":\"Amount\"}},\"id\":\"1587\",\"type\":\"Line\"},{\"attributes\":{\"label\":{\"value\":\"Gas\"},\"renderers\":[{\"id\":\"1657\"}]},\"id\":\"1675\",\"type\":\"LegendItem\"},{\"attributes\":{\"line_alpha\":0.2,\"line_color\":\"#e5ae38\",\"line_width\":2,\"x\":{\"field\":\"Year\"},\"y\":{\"field\":\"Amount\"}},\"id\":\"1632\",\"type\":\"Line\"},{\"attributes\":{},\"id\":\"1606\",\"type\":\"Selection\"},{\"attributes\":{},\"id\":\"1672\",\"type\":\"UnionRenderers\"},{\"attributes\":{\"data\":{\"Amount\":{\"__ndarray__\":\"AAAAAAAAAAAAAAAAAAAAAAAAAAAAAAAAAAAAAAAAAAAAAAAAAAAAAAAAAAAAAAAAAAAAAAAAAAAAAAAAAAAAAAAAAAAAAAAAAAAAAAAAAAAAAAAAAAAAAAAAAAAAAAAAAAAAAAAAAAAAAAAAAAAAAAAAAAAAAAAAAAAAAAAAAAAAAAAAAAAAAAAAAAAAAAAAAAAAAAAAAAAAAAAAAAAAAAAAAAAAAAAAAAAAAAAAAAAAAAAAAAAAAAAAAAAAAAAAAAAAAAAAAAAAAAAAAAAAAAAAAAAAAAAAAAAAAAAAAAAAAAAAAAAAAAAAAAAAAAAAAAAAAAAAAAAAAAAAAAAAAAAAAAAAAAAAAAAAAAAAAAAAAAAAAAAAAAAAAAAAAAAAAAAAAAAAAAAAAAAAAAAAAAAAAAAAAAAAAAAAAAAAAAAAAAAAAAAAAAAAAAAAAAAAAAAAAAAAAAAAAAAAAAAAAAAAAAAAAAAAAAAAAAAAAAAAAAAAAAAAAAAAAAAAAAAAAAAAAAAAAAAAAAAAAAAAAAAAAAAAAAAAAAAAAAAAAAAAAAAAAAAAAAAAAAAAAAAAAAAAAAAAAAAAAAAAAAAAAAAAAAAAAAAAAAAAAAAAAAAAAAAAAAAAAAAAAAAAAAAAAAAAAAAAAAAAAAAAAAAAAAAAAAAAAAAAAAAAAAAAAAAAAAAAAAAAAAAAAAAAAAAAAAAAAAAAAAAAAAAAAAAAAAAAAAAAAAAAAAAAAAAAAAAAAAAAAAAAAAAAAAAAAAAAAAAAAAAAAAAAAAAAAAAAAAAAAAAAAAAAAAAAAAAAAAAAAAAAAAAAAAAAAAAAAAAAAAAAAAAAAAAAAAAAAAAAAAAAAAAAAAAAAAAAAAAAAAAAAAAAAAAAAAAAAAAAAAAAAAAAAAAAAAAAAAAAAAAAAAAAAAAAAAAAAAAAAAAAAAAAAAAAAAAAAAAAAAAAAAAAAAAAAAAAAAAAAAAAAAAAAAAAAAAAAAAAAAAAAAAAAAAAAAAAAAAAAAAAAAAAAAAAAAAAAAAAAAAAAAAAAAAAAAAAAAAAAAAAAAAAAAAAAAAAAAAAAAAAAAAAAAAAAAAAAAAAAAAAAAAAAAAAAAAAAAAAAAAAAAAAAAAAAAAAAAAAAAAAAAAAAAAAAAAAAAAAAAAAAAAAAAAAAAAAAAAAAAAAAAAAAAAAAAAAAAAAAAAAAAAAAAAAAAAAAAAAAAAAAAAAAAAAAAAAAAAAAAAAAAAAAAAAAAAAAAAAAAAAAAAAAAAAAAAAAAAAAAAAAAAAAAAAAAAAAAAAAAAAAAAAAAAAAAAAAAAAAAAAAAAAAAAAAAAAAAAAAAAAAAAAAAAAAAAAAAAAAAAAAAAAAAAAAAAAAAAAAAAAAAAAAAAAAAAAAAAAAAAAAAAAAAAAAAAAAAAAAAAAAAAAAAAAAAAAAAAAAAAAAAAAAAAAAAAAAAAAAAAAAAAAAAAAAAAAAAAAAAAAAAAAAAAAAAAAAAAAAAAAAAAAAAAAAAAAAAAAAAAAAAAAAAAAAAAAAAAAAAAAAAAAAAAAAAAAAAAAAAAAAAAAAAAAAAAAAAAAAAAAAAAAAAAAAAAAAAAAAAAAAAAAAAAAAAAAAAAAAAAAAAAAAAAAAAAAAAAAAAAAAAAAAAAAAAAAAAAAAAAAAAAAAAAAAAAAAAAAAAAAAAAAAAAAAAAAAAAAAAAAAAAAAAAAAAAAAAAAAAAAAAAAAAAAAAAAAAAAAAAAAAAAAAAAAAAAAAAAAAAAAAAAAAAAAAAAAAAAAAAAAAAAAAAAAAAAAAAAAAAAAAAAAAAAAAAAAAAAAAAAAAAAAAAAAAAAAAAAAAAAAAAAAAAAAAAAAAAAAAAAAAAAAAAAAAAAAAAAAAAAAAAAAAAAAAAAAAAAAAAAAAAAAAAAAAAAAAAAAAAAAAAAAAAAAAAAAAAAAAAAAAAAAAAAAAAAAAAAAAAAAAAAAAAAAAAAAAAAAAAAAAAAAAAAAAAAAAAAAAAAAAAAAAAAAAAAAAAAAAAAAAAAAAAAAAAAAAAAAAAAAAAAAAAAAAAAAAAAAAAAAAAAAAAAAAAAAAAAAAAAAAAAAAAAAAAAAAAAAAAAAAAAAAAAAAAAAAAAAAAAAAAAAAAAAAAAAAAAAAAAAAAAAAAAAAAAAAAAAAAAAAAAAAAAAAAAAAAAAAAAAAAAAAAAAAAAAAAAAAAAAAAAAAAAAAAAAAAAAAAAAAAAAAAAAAAAAAAAAAAAAAAAAAAAAAAAAAAAAAAAAAAAAAAAAAAAAAAAAAAAAAAAAAAAAAAAAAAAAAAAAAAAAAAAAAAAAAAAAAAAAAAAAAAAAAAAAAAAAAAAAAAAAAAAAAAAAAAAAAAAAAAAAAAAAAAAAAAAAAAAAAAAAAAAAAAAAAAAAAAAAAAAAAAAAAAAAAAAAAAAAAAAAAAAAAAAAAAAAAAAAAAAAAAAAAAAAAAAAAAAAAAAAAAAAAAAAAAAAAAAAAAAAAAAAAAAAAAAAAAAAAAAAAAAAAAAAAAAAAAAAAAAAAAAAAAAAAAAAAAAAAAAAAAAAAAAAAAAAAAAAAAANV66SQwCDEBmZmZmZmYJQKRwPQrXowlAXI/C9ShcBkDy0k1iEFgLQDMzMzMzMw1Ac2iR7Xw/D0DVeOkmMQgKQG8Sg8DKoQ1A3SQGgZVDDEBWDi2yne8JQC2yne+nxghADAIrhxbZCEBeukkMAisQQKrx0k1iEBFAdZMYBFYOEUCe76fGSzcRQAwCK4cWWRFAhetRuB6FEEBeukkMAisKQHE9CtejcAtA+n5qvHSTDEBMN4lBYOULQMl2vp8aLwtAokW28/3UDEAGgZVDi2wJQDMzMzMzMwZADAIrhxbZBkD0/dR46SYIQHsUrkfheglAEFg5tMh2CkA=\",\"dtype\":\"float64\",\"order\":\"little\",\"shape\":[271]},\"Sources_Name\":[\"Other_industry\",\"Other_industry\",\"Other_industry\",\"Other_industry\",\"Other_industry\",\"Other_industry\",\"Other_industry\",\"Other_industry\",\"Other_industry\",\"Other_industry\",\"Other_industry\",\"Other_industry\",\"Other_industry\",\"Other_industry\",\"Other_industry\",\"Other_industry\",\"Other_industry\",\"Other_industry\",\"Other_industry\",\"Other_industry\",\"Other_industry\",\"Other_industry\",\"Other_industry\",\"Other_industry\",\"Other_industry\",\"Other_industry\",\"Other_industry\",\"Other_industry\",\"Other_industry\",\"Other_industry\",\"Other_industry\",\"Other_industry\",\"Other_industry\",\"Other_industry\",\"Other_industry\",\"Other_industry\",\"Other_industry\",\"Other_industry\",\"Other_industry\",\"Other_industry\",\"Other_industry\",\"Other_industry\",\"Other_industry\",\"Other_industry\",\"Other_industry\",\"Other_industry\",\"Other_industry\",\"Other_industry\",\"Other_industry\",\"Other_industry\",\"Other_industry\",\"Other_industry\",\"Other_industry\",\"Other_industry\",\"Other_industry\",\"Other_industry\",\"Other_industry\",\"Other_industry\",\"Other_industry\",\"Other_industry\",\"Other_industry\",\"Other_industry\",\"Other_industry\",\"Other_industry\",\"Other_industry\",\"Other_industry\",\"Other_industry\",\"Other_industry\",\"Other_industry\",\"Other_industry\",\"Other_industry\",\"Other_industry\",\"Other_industry\",\"Other_industry\",\"Other_industry\",\"Other_industry\",\"Other_industry\",\"Other_industry\",\"Other_industry\",\"Other_industry\",\"Other_industry\",\"Other_industry\",\"Other_industry\",\"Other_industry\",\"Other_industry\",\"Other_industry\",\"Other_industry\",\"Other_industry\",\"Other_industry\",\"Other_industry\",\"Other_industry\",\"Other_industry\",\"Other_industry\",\"Other_industry\",\"Other_industry\",\"Other_industry\",\"Other_industry\",\"Other_industry\",\"Other_industry\",\"Other_industry\",\"Other_industry\",\"Other_industry\",\"Other_industry\",\"Other_industry\",\"Other_industry\",\"Other_industry\",\"Other_industry\",\"Other_industry\",\"Other_industry\",\"Other_industry\",\"Other_industry\",\"Other_industry\",\"Other_industry\",\"Other_industry\",\"Other_industry\",\"Other_industry\",\"Other_industry\",\"Other_industry\",\"Other_industry\",\"Other_industry\",\"Other_industry\",\"Other_industry\",\"Other_industry\",\"Other_industry\",\"Other_industry\",\"Other_industry\",\"Other_industry\",\"Other_industry\",\"Other_industry\",\"Other_industry\",\"Other_industry\",\"Other_industry\",\"Other_industry\",\"Other_industry\",\"Other_industry\",\"Other_industry\",\"Other_industry\",\"Other_industry\",\"Other_industry\",\"Other_industry\",\"Other_industry\",\"Other_industry\",\"Other_industry\",\"Other_industry\",\"Other_industry\",\"Other_industry\",\"Other_industry\",\"Other_industry\",\"Other_industry\",\"Other_industry\",\"Other_industry\",\"Other_industry\",\"Other_industry\",\"Other_industry\",\"Other_industry\",\"Other_industry\",\"Other_industry\",\"Other_industry\",\"Other_industry\",\"Other_industry\",\"Other_industry\",\"Other_industry\",\"Other_industry\",\"Other_industry\",\"Other_industry\",\"Other_industry\",\"Other_industry\",\"Other_industry\",\"Other_industry\",\"Other_industry\",\"Other_industry\",\"Other_industry\",\"Other_industry\",\"Other_industry\",\"Other_industry\",\"Other_industry\",\"Other_industry\",\"Other_industry\",\"Other_industry\",\"Other_industry\",\"Other_industry\",\"Other_industry\",\"Other_industry\",\"Other_industry\",\"Other_industry\",\"Other_industry\",\"Other_industry\",\"Other_industry\",\"Other_industry\",\"Other_industry\",\"Other_industry\",\"Other_industry\",\"Other_industry\",\"Other_industry\",\"Other_industry\",\"Other_industry\",\"Other_industry\",\"Other_industry\",\"Other_industry\",\"Other_industry\",\"Other_industry\",\"Other_industry\",\"Other_industry\",\"Other_industry\",\"Other_industry\",\"Other_industry\",\"Other_industry\",\"Other_industry\",\"Other_industry\",\"Other_industry\",\"Other_industry\",\"Other_industry\",\"Other_industry\",\"Other_industry\",\"Other_industry\",\"Other_industry\",\"Other_industry\",\"Other_industry\",\"Other_industry\",\"Other_industry\",\"Other_industry\",\"Other_industry\",\"Other_industry\",\"Other_industry\",\"Other_industry\",\"Other_industry\",\"Other_industry\",\"Other_industry\",\"Other_industry\",\"Other_industry\",\"Other_industry\",\"Other_industry\",\"Other_industry\",\"Other_industry\",\"Other_industry\",\"Other_industry\",\"Other_industry\",\"Other_industry\",\"Other_industry\",\"Other_industry\",\"Other_industry\",\"Other_industry\",\"Other_industry\",\"Other_industry\",\"Other_industry\",\"Other_industry\",\"Other_industry\",\"Other_industry\",\"Other_industry\",\"Other_industry\",\"Other_industry\",\"Other_industry\",\"Other_industry\",\"Other_industry\",\"Other_industry\",\"Other_industry\",\"Other_industry\",\"Other_industry\",\"Other_industry\",\"Other_industry\",\"Other_industry\",\"Other_industry\",\"Other_industry\",\"Other_industry\",\"Other_industry\",\"Other_industry\",\"Other_industry\",\"Other_industry\",\"Other_industry\",\"Other_industry\",\"Other_industry\"],\"Year\":[1750,1751,1752,1753,1754,1755,1756,1757,1758,1759,1760,1761,1762,1763,1764,1765,1766,1767,1768,1769,1770,1771,1772,1773,1774,1775,1776,1777,1778,1779,1780,1781,1782,1783,1784,1785,1786,1787,1788,1789,1790,1791,1792,1793,1794,1795,1796,1797,1798,1799,1800,1801,1802,1803,1804,1805,1806,1807,1808,1809,1810,1811,1812,1813,1814,1815,1816,1817,1818,1819,1820,1821,1822,1823,1824,1825,1826,1827,1828,1829,1830,1831,1832,1833,1834,1835,1836,1837,1838,1839,1840,1841,1842,1843,1844,1845,1846,1847,1848,1849,1850,1851,1852,1853,1854,1855,1856,1857,1858,1859,1860,1861,1862,1863,1864,1865,1866,1867,1868,1869,1870,1871,1872,1873,1874,1875,1876,1877,1878,1879,1880,1881,1882,1883,1884,1885,1886,1887,1888,1889,1890,1891,1892,1893,1894,1895,1896,1897,1898,1899,1900,1901,1902,1903,1904,1905,1906,1907,1908,1909,1910,1911,1912,1913,1914,1915,1916,1917,1918,1919,1920,1921,1922,1923,1924,1925,1926,1927,1928,1929,1930,1931,1932,1933,1934,1935,1936,1937,1938,1939,1940,1941,1942,1943,1944,1945,1946,1947,1948,1949,1950,1951,1952,1953,1954,1955,1956,1957,1958,1959,1960,1961,1962,1963,1964,1965,1966,1967,1968,1969,1970,1971,1972,1973,1974,1975,1976,1977,1978,1979,1980,1981,1982,1983,1984,1985,1986,1987,1988,1989,1990,1991,1992,1993,1994,1995,1996,1997,1998,1999,2000,2001,2002,2003,2004,2005,2006,2007,2008,2009,2010,2011,2012,2013,2014,2015,2016,2017,2018,2019,2020]},\"selected\":{\"id\":\"1706\"},\"selection_policy\":{\"id\":\"1730\"}},\"id\":\"1705\",\"type\":\"ColumnDataSource\"},{\"attributes\":{\"coordinates\":null,\"data_source\":{\"id\":\"1705\"},\"glyph\":{\"id\":\"1708\"},\"group\":null,\"hover_glyph\":null,\"muted_glyph\":{\"id\":\"1710\"},\"nonselection_glyph\":{\"id\":\"1709\"},\"selection_glyph\":{\"id\":\"1734\"},\"view\":{\"id\":\"1712\"}},\"id\":\"1711\",\"type\":\"GlyphRenderer\"},{\"attributes\":{\"source\":{\"id\":\"1605\"}},\"id\":\"1612\",\"type\":\"CDSView\"},{\"attributes\":{\"line_alpha\":0.1,\"line_color\":\"#fc4f30\",\"line_width\":2,\"x\":{\"field\":\"Year\"},\"y\":{\"field\":\"Amount\"}},\"id\":\"1609\",\"type\":\"Line\"},{\"attributes\":{\"source\":{\"id\":\"1584\"}},\"id\":\"1591\",\"type\":\"CDSView\"},{\"attributes\":{\"coordinates\":null,\"data_source\":{\"id\":\"1627\"},\"glyph\":{\"id\":\"1630\"},\"group\":null,\"hover_glyph\":null,\"muted_glyph\":{\"id\":\"1632\"},\"nonselection_glyph\":{\"id\":\"1631\"},\"selection_glyph\":{\"id\":\"1650\"},\"view\":{\"id\":\"1634\"}},\"id\":\"1633\",\"type\":\"GlyphRenderer\"},{\"attributes\":{\"label\":{\"value\":\"Cement\"},\"renderers\":[{\"id\":\"1590\"}]},\"id\":\"1603\",\"type\":\"LegendItem\"},{\"attributes\":{\"coordinates\":null,\"group\":null,\"text\":\"Sources of CO2\",\"text_color\":\"black\",\"text_font_size\":\"12pt\"},\"id\":\"1549\",\"type\":\"Title\"},{\"attributes\":{\"data\":{\"Amount\":{\"__ndarray__\":\"AAAAAAAAAAAAAAAAAAAAAAAAAAAAAAAAAAAAAAAAAAAAAAAAAAAAAAAAAAAAAAAAAAAAAAAAAAAAAAAAAAAAAAAAAAAAAAAAAAAAAAAAAAAAAAAAAAAAAAAAAAAAAAAAAAAAAAAAAAAAAAAAAAAAAAAAAAAAAAAAAAAAAAAAAAAAAAAAAAAAAAAAAAAAAAAAAAAAAAAAAAAAAAAAAAAAAAAAAAAAAAAAAAAAAAAAAAAAAAAAAAAAAAAAAAAAAAAAAAAAAAAAAAAAAAAAAAAAAAAAAAAAAAAAAAAAAAAAAAAAAAAAAAAAAAAAAAAAAAAAAAAAAAAAAAAAAAAAAAAAAAAAAAAAAAAAAAAAAAAAAAAAAAAAAAAAAAAAAAAAAAAAAAAAAAAAAAAAAAAAAAAAAAAAAAAAAAAAAAAAAAAAAAAAAAAAAAAAAAAAAAAAAAAAAAAAAAAAAAAAAAAAAAAAAAAAAAAAAAAAAAAAAAAAAAAAAAAAAAAAAAAAAAAAAAAAAAAAAAAAAAAAAAAAAAAAAAAAAAAAAAAAAAAAAAAAAAAAAAAAAAAAAAAAAAAAAAAAAAAAAAAAAAAAAAAAAAAAAAAAAAAAAAAAAAAAAAAAAAAAAAAAAAAAAAAAAAAAAAAAAAAAAAAAAAAAAAAAAAAAAAAAAAAAAAAAAAAAAAAAAAAAAAAAAAAAAAAAAAAAAAAAAAAAAAAAAAAAAAAAAAAAAAAAAAAAAAAAAAAAAAAAAAAAAAAAAAAAAAAAAAAAAAAAAAAAAAAAAAAAAAAAAAAAAAAAAAAAAAAAAAAAAAAAAAAAAAAAAAAAAAAAAAAAAAAAAAAAAAAAAAAAAAAAAAAAAAAAAAAAAAAAAAAAAAAAAAAAAAAAAAAAAAAAAAAAAAAAAAAAAAAAAAAAAAAAAAAAAAAAAAAAAAAAAAAAAAAAAAAAAAAAAAAAAAAAAAAAAAAAAAAAAAAAAAAAAAAAAAAAAAAAAAAAAAAAAAAAAAAAAAAAAAAAAAAAAAAAAAAAAAAAAAAAAAAAAAAAAAAAAAAAAAAAAAAAAAAAAAAAAAAAAAAAAAAAAAAAAAAAAAAAAAAAAAAAAAAAAAAAAAAAAAAAAAAAAAAAAAAAAAAAAAAAAAAAAAAAAAAAAAAAAAAAAAAAAAAAAAAAAAAAAAAAAAAAAAAAAAAAAAAAAAAAAAAAAAAAAAAAAAAAAAAAAAAAAAAAAAAAAAAAAAAAAAAAAAAAAAAAAAAAAAAAAAAAAAAAAAAAAAAAAAAAAAAAAAAAAAAAAAAAAAAAAAAAAAAAAAAAAAAAAAAAAAAAAAAAAAAAAAAAAAAAAAAAAAAAAAAAAAAAAAAAAAAAAAAAAAAAAAAAAAAAAAAAAAAAAAAAAAAAAAAAAAAAAAAAAAAAAAAAAAAAAAAAAAAAAAAAAAAAAAAAAAAAAAAAAAAAAAAAAAAAAAAAAAAAAAAAAAAAAAAAAAAAAAAAAAAAAAAAAAAAAAAAAAAAAAAAAAAAAAAAAAAAAAAAAAAAAAAAAAAAAAAAAAAAAAAAAAAAAAAAAAAAAAAAAAAAAAAAAAAAAAAAAAAAAAAAAAAAAAAAAAAAAAAAAAAAAAAAAAAAAAAAAAAAAAAAAAAAAAAAAAAAAAAAAAAAAAAAAAAAAAAAAAAAAAAAAAAAAAAAAAAAAAAAAAAAAAAAAAAAAAAAAAAAAAAAAAAAAAAAAAAAAAAAAAAAAAAAAAAAAAAAAAAAAAAAAAAAAAAAAAAAAAAAAAAAAAAAAAAAAAAAAAAAAAAAAAAAAAAAAAAAAAAAAAAAAAAAAAAAAAAAAAAAAAAAAAAAAAAAAAAAAAAAAAAAAAAAAAAAAAAAAAAAAAAAAAAAAAAAAAAAAAAAAAAAAAAAAAAAAAAAAAAAAAAAAAAAAAAAAAAAAAAAAAAAAAAAAAAAAAAAAAAAAAAAAAAAAAAAAAAAAAAAAAAAAAAAAAAAAAAAAAAAAAAAAAAAAAAAAAAAAAAAAAAAAAAAAAAAAAAAAAAAAAAAAAAAAAAAAAAAAAAAAAAAAAAAAAAAAAAAAAAAAAAAAAAAAAAAAAAAAAAAAAAAAAAAAAAAAAAAAAAAAAAAAAAAAAAAAAAAAAAAAAAAAAAAAAAAAAAAAAAAAAAAAAAAAAAAAAAAAAAAAAAAAAAAAAAAAAAAAAAAAAAAAAAAAAAAAAAAAAAAAAAAAAAAAAAAAAAAAAAAAAAAAAAAAAAAAAAAAAAAAAAAAAAAAAAAAAAAAAAAAAAAAAAAAAAAAAAAAAAAAAAAAAAAAAAAAAAAAAAAAAAAAAAAAAAAAAAAAAAAAAAAAAAAAFyPwvUoXM8/rkfhehSu9z8OLbKd76cHQM/3U+OlmwtA8KfGSzeJD0CDwMqhRbYTQP7UeOkmsRVADi2yne+nF0AOLbKd76cXQLByaJHtfBlA/tR46SYxIUAIrBxaZPsoQHWTGARWDiBAnMQgsHLoH0C6SQwCKwceQIlBYOXQohxAbef7qfHSGUCJQWDl0CIUQOOlm8QgsA5A9P3UeOkmEEAAAAAAAAAAAAAAAAAAAAAAgZVDi2znHUC0yHa+nxocQArXo3A9Ch1AhxbZzvdTHkAbL90kBgEfQKJFtvP9VCJAO99PjZfuIkB7FK5H4XoeQHe+nxov3RxAw/UoXI/CGEDl0CLb+X4XQAaBlUOLbBhARIts5/spF0AQWDm0yPYVQHe+nxov3RVAWmQ7308NGEDFILByaJEUQFK4HoXrURVANV66SQyCEkBI4XoUrkcTQEjhehSuxxJASgwCK4eWEUDD9Shcj8INQOXQItv5fhBAx0s3iUFgEUAGgZVDi2wSQJqZmZmZGRJA9ihcj8L1EUB9PzVeukkSQAwCK4cWWRFAarx0kxgEEkA=\",\"dtype\":\"float64\",\"order\":\"little\",\"shape\":[271]},\"Sources_Name\":[\"Flaring\",\"Flaring\",\"Flaring\",\"Flaring\",\"Flaring\",\"Flaring\",\"Flaring\",\"Flaring\",\"Flaring\",\"Flaring\",\"Flaring\",\"Flaring\",\"Flaring\",\"Flaring\",\"Flaring\",\"Flaring\",\"Flaring\",\"Flaring\",\"Flaring\",\"Flaring\",\"Flaring\",\"Flaring\",\"Flaring\",\"Flaring\",\"Flaring\",\"Flaring\",\"Flaring\",\"Flaring\",\"Flaring\",\"Flaring\",\"Flaring\",\"Flaring\",\"Flaring\",\"Flaring\",\"Flaring\",\"Flaring\",\"Flaring\",\"Flaring\",\"Flaring\",\"Flaring\",\"Flaring\",\"Flaring\",\"Flaring\",\"Flaring\",\"Flaring\",\"Flaring\",\"Flaring\",\"Flaring\",\"Flaring\",\"Flaring\",\"Flaring\",\"Flaring\",\"Flaring\",\"Flaring\",\"Flaring\",\"Flaring\",\"Flaring\",\"Flaring\",\"Flaring\",\"Flaring\",\"Flaring\",\"Flaring\",\"Flaring\",\"Flaring\",\"Flaring\",\"Flaring\",\"Flaring\",\"Flaring\",\"Flaring\",\"Flaring\",\"Flaring\",\"Flaring\",\"Flaring\",\"Flaring\",\"Flaring\",\"Flaring\",\"Flaring\",\"Flaring\",\"Flaring\",\"Flaring\",\"Flaring\",\"Flaring\",\"Flaring\",\"Flaring\",\"Flaring\",\"Flaring\",\"Flaring\",\"Flaring\",\"Flaring\",\"Flaring\",\"Flaring\",\"Flaring\",\"Flaring\",\"Flaring\",\"Flaring\",\"Flaring\",\"Flaring\",\"Flaring\",\"Flaring\",\"Flaring\",\"Flaring\",\"Flaring\",\"Flaring\",\"Flaring\",\"Flaring\",\"Flaring\",\"Flaring\",\"Flaring\",\"Flaring\",\"Flaring\",\"Flaring\",\"Flaring\",\"Flaring\",\"Flaring\",\"Flaring\",\"Flaring\",\"Flaring\",\"Flaring\",\"Flaring\",\"Flaring\",\"Flaring\",\"Flaring\",\"Flaring\",\"Flaring\",\"Flaring\",\"Flaring\",\"Flaring\",\"Flaring\",\"Flaring\",\"Flaring\",\"Flaring\",\"Flaring\",\"Flaring\",\"Flaring\",\"Flaring\",\"Flaring\",\"Flaring\",\"Flaring\",\"Flaring\",\"Flaring\",\"Flaring\",\"Flaring\",\"Flaring\",\"Flaring\",\"Flaring\",\"Flaring\",\"Flaring\",\"Flaring\",\"Flaring\",\"Flaring\",\"Flaring\",\"Flaring\",\"Flaring\",\"Flaring\",\"Flaring\",\"Flaring\",\"Flaring\",\"Flaring\",\"Flaring\",\"Flaring\",\"Flaring\",\"Flaring\",\"Flaring\",\"Flaring\",\"Flaring\",\"Flaring\",\"Flaring\",\"Flaring\",\"Flaring\",\"Flaring\",\"Flaring\",\"Flaring\",\"Flaring\",\"Flaring\",\"Flaring\",\"Flaring\",\"Flaring\",\"Flaring\",\"Flaring\",\"Flaring\",\"Flaring\",\"Flaring\",\"Flaring\",\"Flaring\",\"Flaring\",\"Flaring\",\"Flaring\",\"Flaring\",\"Flaring\",\"Flaring\",\"Flaring\",\"Flaring\",\"Flaring\",\"Flaring\",\"Flaring\",\"Flaring\",\"Flaring\",\"Flaring\",\"Flaring\",\"Flaring\",\"Flaring\",\"Flaring\",\"Flaring\",\"Flaring\",\"Flaring\",\"Flaring\",\"Flaring\",\"Flaring\",\"Flaring\",\"Flaring\",\"Flaring\",\"Flaring\",\"Flaring\",\"Flaring\",\"Flaring\",\"Flaring\",\"Flaring\",\"Flaring\",\"Flaring\",\"Flaring\",\"Flaring\",\"Flaring\",\"Flaring\",\"Flaring\",\"Flaring\",\"Flaring\",\"Flaring\",\"Flaring\",\"Flaring\",\"Flaring\",\"Flaring\",\"Flaring\",\"Flaring\",\"Flaring\",\"Flaring\",\"Flaring\",\"Flaring\",\"Flaring\",\"Flaring\",\"Flaring\",\"Flaring\",\"Flaring\",\"Flaring\",\"Flaring\",\"Flaring\",\"Flaring\",\"Flaring\",\"Flaring\",\"Flaring\",\"Flaring\",\"Flaring\",\"Flaring\",\"Flaring\",\"Flaring\",\"Flaring\",\"Flaring\",\"Flaring\",\"Flaring\",\"Flaring\",\"Flaring\",\"Flaring\",\"Flaring\",\"Flaring\",\"Flaring\",\"Flaring\",\"Flaring\",\"Flaring\",\"Flaring\",\"Flaring\",\"Flaring\",\"Flaring\"],\"Year\":[1750,1751,1752,1753,1754,1755,1756,1757,1758,1759,1760,1761,1762,1763,1764,1765,1766,1767,1768,1769,1770,1771,1772,1773,1774,1775,1776,1777,1778,1779,1780,1781,1782,1783,1784,1785,1786,1787,1788,1789,1790,1791,1792,1793,1794,1795,1796,1797,1798,1799,1800,1801,1802,1803,1804,1805,1806,1807,1808,1809,1810,1811,1812,1813,1814,1815,1816,1817,1818,1819,1820,1821,1822,1823,1824,1825,1826,1827,1828,1829,1830,1831,1832,1833,1834,1835,1836,1837,1838,1839,1840,1841,1842,1843,1844,1845,1846,1847,1848,1849,1850,1851,1852,1853,1854,1855,1856,1857,1858,1859,1860,1861,1862,1863,1864,1865,1866,1867,1868,1869,1870,1871,1872,1873,1874,1875,1876,1877,1878,1879,1880,1881,1882,1883,1884,1885,1886,1887,1888,1889,1890,1891,1892,1893,1894,1895,1896,1897,1898,1899,1900,1901,1902,1903,1904,1905,1906,1907,1908,1909,1910,1911,1912,1913,1914,1915,1916,1917,1918,1919,1920,1921,1922,1923,1924,1925,1926,1927,1928,1929,1930,1931,1932,1933,1934,1935,1936,1937,1938,1939,1940,1941,1942,1943,1944,1945,1946,1947,1948,1949,1950,1951,1952,1953,1954,1955,1956,1957,1958,1959,1960,1961,1962,1963,1964,1965,1966,1967,1968,1969,1970,1971,1972,1973,1974,1975,1976,1977,1978,1979,1980,1981,1982,1983,1984,1985,1986,1987,1988,1989,1990,1991,1992,1993,1994,1995,1996,1997,1998,1999,2000,2001,2002,2003,2004,2005,2006,2007,2008,2009,2010,2011,2012,2013,2014,2015,2016,2017,2018,2019,2020]},\"selected\":{\"id\":\"1628\"},\"selection_policy\":{\"id\":\"1646\"}},\"id\":\"1627\",\"type\":\"ColumnDataSource\"},{\"attributes\":{\"source\":{\"id\":\"1705\"}},\"id\":\"1712\",\"type\":\"CDSView\"},{\"attributes\":{\"coordinates\":null,\"data_source\":{\"id\":\"1605\"},\"glyph\":{\"id\":\"1608\"},\"group\":null,\"hover_glyph\":null,\"muted_glyph\":{\"id\":\"1610\"},\"nonselection_glyph\":{\"id\":\"1609\"},\"selection_glyph\":{\"id\":\"1626\"},\"view\":{\"id\":\"1612\"}},\"id\":\"1611\",\"type\":\"GlyphRenderer\"},{\"attributes\":{\"line_alpha\":0.1,\"line_color\":\"#17becf\",\"line_width\":2,\"x\":{\"field\":\"Year\"},\"y\":{\"field\":\"Amount\"}},\"id\":\"1709\",\"type\":\"Line\"},{\"attributes\":{},\"id\":\"1558\",\"type\":\"BasicTicker\"},{\"attributes\":{\"axis\":{\"id\":\"1557\"},\"coordinates\":null,\"grid_line_color\":null,\"group\":null,\"ticker\":null},\"id\":\"1560\",\"type\":\"Grid\"},{\"attributes\":{},\"id\":\"1583\",\"type\":\"AllLabels\"}],\"root_ids\":[\"1532\",\"1955\"]},\"title\":\"Bokeh Application\",\"version\":\"2.4.1\"}};\n",
       "    var render_items = [{\"docid\":\"108fdd48-f132-4337-bffc-fc5e39abdbbc\",\"root_ids\":[\"1532\"],\"roots\":{\"1532\":\"fd5da13b-f510-46ff-8ab3-e09e61e3a0ea\"}}];\n",
       "    root.Bokeh.embed.embed_items_notebook(docs_json, render_items);\n",
       "  }\n",
       "  if (root.Bokeh !== undefined && root.Bokeh.Panel !== undefined && ( root['Tabulator'] !== undefined) && ( root['Tabulator'] !== undefined)) {\n",
       "    embed_document(root);\n",
       "  } else {\n",
       "    var attempts = 0;\n",
       "    var timer = setInterval(function(root) {\n",
       "      if (root.Bokeh !== undefined && root.Bokeh.Panel !== undefined && (root['Tabulator'] !== undefined) && (root['Tabulator'] !== undefined)) {\n",
       "        clearInterval(timer);\n",
       "        embed_document(root);\n",
       "      } else if (document.readyState == \"complete\") {\n",
       "        attempts++;\n",
       "        if (attempts > 200) {\n",
       "          clearInterval(timer);\n",
       "          console.log(\"Bokeh: ERROR: Unable to run BokehJS code because BokehJS library is missing\");\n",
       "        }\n",
       "      }\n",
       "    }, 25, root)\n",
       "  }\n",
       "})(window);</script>"
      ],
      "text/plain": [
       "<hvplot.interactive.Interactive at 0x1dd73494b50>"
      ]
     },
     "execution_count": 37,
     "metadata": {
      "application/vnd.holoviews_exec.v0+json": {
       "id": "1532"
      }
     },
     "output_type": "execute_result"
    }
   ],
   "source": [
    "CO2_sources_bar_plot"
   ]
  },
  {
   "cell_type": "code",
   "execution_count": 38,
   "metadata": {
    "azdata_cell_guid": "a1b17560-5ed6-4178-ba47-277fb99cb443",
    "language": "python"
   },
   "outputs": [],
   "source": [
    "country = Countries_select"
   ]
  },
  {
   "cell_type": "code",
   "execution_count": 39,
   "metadata": {
    "azdata_cell_guid": "dbdc6743-330d-4b8d-ac7d-9a78a11ae66a",
    "language": "python"
   },
   "outputs": [],
   "source": [
    "pd_Country_greenhouse_gases = pd.read_sql_query(\"EXECUTE GetCountryGreenHouseGases 0,'' \", conn)"
   ]
  },
  {
   "cell_type": "code",
   "execution_count": 40,
   "metadata": {
    "azdata_cell_guid": "7137b6ad-4550-4f16-85a8-1a649a434813",
    "language": "python"
   },
   "outputs": [],
   "source": [
    "IP_pd_Country_greenhouse_gases = pd_Country_greenhouse_gases.interactive()"
   ]
  },
  {
   "cell_type": "code",
   "execution_count": 41,
   "metadata": {
    "azdata_cell_guid": "7ff215e7-4cb0-4fc5-93aa-a352442cd35d",
    "language": "python"
   },
   "outputs": [],
   "source": [
    "Country_greenhouse_gases_pipeline = (IP_pd_Country_greenhouse_gases[\n",
    "    (Ipd_Country_stas.Year <= year_slider ) \n",
    "    & (Ipd_Country_stas.Country_Name == Countries_select )\n",
    "   \n",
    "]\n",
    "                             .groupby(['Year','Country_Name','Gas_Name'])['Amount']\n",
    "                             .sum()\n",
    "                             .to_frame()\n",
    "                             .reset_index()\n",
    "                             .sort_values(by='Year')  \n",
    "                             .reset_index(drop=True)\n",
    "\n",
    "                            )"
   ]
  },
  {
   "cell_type": "code",
   "execution_count": 42,
   "metadata": {
    "azdata_cell_guid": "95f18159-a429-4fe9-a0c5-b263c746bfb6",
    "language": "python"
   },
   "outputs": [
    {
     "data": {},
     "metadata": {},
     "output_type": "display_data"
    },
    {
     "data": {
      "application/vnd.holoviews_exec.v0+json": "",
      "text/html": [
       "<div id='2056'>\n",
       "\n",
       "\n",
       "\n",
       "\n",
       "\n",
       "  <div class=\"bk-root\" id=\"fba1b608-b5e0-4ef9-a6a3-5bdd770d8d96\" data-root-id=\"2056\"></div>\n",
       "</div>\n",
       "<script type=\"application/javascript\">(function(root) {\n",
       "  function embed_document(root) {\n",
       "    var docs_json = {\"d21d43ef-3855-4400-bb95-3ada150f56e9\":{\"defs\":[{\"extends\":null,\"module\":null,\"name\":\"ReactiveHTML1\",\"overrides\":[],\"properties\":[]},{\"extends\":null,\"module\":null,\"name\":\"FlexBox1\",\"overrides\":[],\"properties\":[{\"default\":\"flex-start\",\"kind\":null,\"name\":\"align_content\"},{\"default\":\"flex-start\",\"kind\":null,\"name\":\"align_items\"},{\"default\":\"row\",\"kind\":null,\"name\":\"flex_direction\"},{\"default\":\"wrap\",\"kind\":null,\"name\":\"flex_wrap\"},{\"default\":\"flex-start\",\"kind\":null,\"name\":\"justify_content\"}]},{\"extends\":null,\"module\":null,\"name\":\"GridStack1\",\"overrides\":[],\"properties\":[{\"default\":\"warn\",\"kind\":null,\"name\":\"mode\"},{\"default\":null,\"kind\":null,\"name\":\"ncols\"},{\"default\":null,\"kind\":null,\"name\":\"nrows\"},{\"default\":true,\"kind\":null,\"name\":\"allow_resize\"},{\"default\":true,\"kind\":null,\"name\":\"allow_drag\"},{\"default\":[],\"kind\":null,\"name\":\"state\"}]},{\"extends\":null,\"module\":null,\"name\":\"click1\",\"overrides\":[],\"properties\":[{\"default\":\"\",\"kind\":null,\"name\":\"terminal_output\"},{\"default\":\"\",\"kind\":null,\"name\":\"debug_name\"},{\"default\":0,\"kind\":null,\"name\":\"clears\"}]},{\"extends\":null,\"module\":null,\"name\":\"NotificationAreaBase1\",\"overrides\":[],\"properties\":[{\"default\":\"bottom-right\",\"kind\":null,\"name\":\"position\"},{\"default\":0,\"kind\":null,\"name\":\"_clear\"}]},{\"extends\":null,\"module\":null,\"name\":\"NotificationArea1\",\"overrides\":[],\"properties\":[{\"default\":[],\"kind\":null,\"name\":\"notifications\"},{\"default\":\"bottom-right\",\"kind\":null,\"name\":\"position\"},{\"default\":0,\"kind\":null,\"name\":\"_clear\"},{\"default\":[{\"background\":\"#ffc107\",\"icon\":{\"className\":\"fas fa-exclamation-triangle\",\"color\":\"white\",\"tagName\":\"i\"},\"type\":\"warning\"},{\"background\":\"#007bff\",\"icon\":{\"className\":\"fas fa-info-circle\",\"color\":\"white\",\"tagName\":\"i\"},\"type\":\"info\"}],\"kind\":null,\"name\":\"types\"}]},{\"extends\":null,\"module\":null,\"name\":\"Notification\",\"overrides\":[],\"properties\":[{\"default\":null,\"kind\":null,\"name\":\"background\"},{\"default\":3000,\"kind\":null,\"name\":\"duration\"},{\"default\":null,\"kind\":null,\"name\":\"icon\"},{\"default\":\"\",\"kind\":null,\"name\":\"message\"},{\"default\":null,\"kind\":null,\"name\":\"notification_type\"},{\"default\":false,\"kind\":null,\"name\":\"_destroyed\"}]},{\"extends\":null,\"module\":null,\"name\":\"TemplateActions1\",\"overrides\":[],\"properties\":[{\"default\":0,\"kind\":null,\"name\":\"open_modal\"},{\"default\":0,\"kind\":null,\"name\":\"close_modal\"}]},{\"extends\":null,\"module\":null,\"name\":\"MaterialTemplateActions1\",\"overrides\":[],\"properties\":[{\"default\":0,\"kind\":null,\"name\":\"open_modal\"},{\"default\":0,\"kind\":null,\"name\":\"close_modal\"}]}],\"roots\":{\"references\":[{\"attributes\":{\"indices\":[]},\"id\":\"2065\",\"type\":\"Selection\"},{\"attributes\":{\"editor\":{\"id\":\"2078\"},\"field\":\"Country_Name\",\"formatter\":{\"id\":\"2077\"},\"title\":\"Country_Name\",\"width\":0},\"id\":\"2079\",\"type\":\"TableColumn\"},{\"attributes\":{\"completions\":[\"Afghanistan\",\"Albania\",\"Algeria\",\"Andorra\",\"Angola\",\"Anguilla\",\"Antarctica\",\"Antigua and Barbuda\",\"Argentina\",\"Armenia\",\"Aruba\",\"Australia\",\"Austria\",\"Azerbaijan\",\"Bahamas\",\"Bahrain\",\"Bangladesh\",\"Barbados\",\"Belarus\",\"Belgium\",\"Belize\",\"Benin\",\"Bermuda\",\"Bhutan\",\"Bolivia\",\"Bonaire Sint Eustatius and Saba\",\"Bosnia and Herzegovina\",\"Botswana\",\"Brazil\",\"British Virgin Islands\",\"Brunei\",\"Bulgaria\",\"Burkina Faso\",\"Burundi\",\"Cambodia\",\"Cameroon\",\"Canada\",\"Cape Verde\",\"Central African Republic\",\"Chad\",\"Chile\",\"China\",\"Christmas Island\",\"Colombia\",\"Comoros\",\"Congo\",\"Cook Islands\",\"Costa Rica\",\"Cote d'Ivoire\",\"Croatia\",\"Cuba\",\"Curacao\",\"Cyprus\",\"Czechia\",\"Democratic Republic of Congo\",\"Denmark\",\"Djibouti\",\"Dominica\",\"Dominican Republic\",\"Ecuador\",\"Egypt\",\"El Salvador\",\"Equatorial Guinea\",\"Eritrea\",\"Estonia\",\"Eswatini\",\"Ethiopia\",\"Faeroe Islands\",\"Fiji\",\"Finland\",\"France\",\"French Guiana\",\"French Polynesia\",\"Gabon\",\"Gambia\",\"Georgia\",\"Germany\",\"Ghana\",\"Greece\",\"Greenland\",\"Grenada\",\"Guadeloupe\",\"Guatemala\",\"Guinea\",\"Guinea-Bissau\",\"Guyana\",\"Haiti\",\"Honduras\",\"Hong Kong\",\"Hungary\",\"Iceland\",\"India\",\"Indonesia\",\"Iran\",\"Iraq\",\"Ireland\",\"Israel\",\"Italy\",\"Jamaica\",\"Japan\",\"Jordan\",\"Kazakhstan\",\"Kenya\",\"Kiribati\",\"Kosovo\",\"Kuwait\",\"Kyrgyzstan\",\"Laos\",\"Latvia\",\"Lebanon\",\"Lesotho\",\"Liberia\",\"Libya\",\"Liechtenstein\",\"Lithuania\",\"Luxembourg\",\"Madagascar\",\"Malawi\",\"Malaysia\",\"Maldives\",\"Mali\",\"Malta\",\"Marshall Islands\",\"Martinique\",\"Mauritania\",\"Mauritius\",\"Mayotte\",\"Mexico\",\"Moldova\",\"Mongolia\",\"Montenegro\",\"Montserrat\",\"Morocco\",\"Mozambique\",\"Myanmar\",\"Namibia\",\"Nauru\",\"Nepal\",\"Netherlands\",\"New Caledonia\",\"New Zealand\",\"Nicaragua\",\"Niger\",\"Nigeria\",\"Niue\",\"North Korea\",\"North Macedonia\",\"Norway\",\"Oman\",\"Pakistan\",\"Palau\",\"Palestine\",\"Panama\",\"Papua New Guinea\",\"Paraguay\",\"Peru\",\"Philippines\",\"Poland\",\"Portugal\",\"Puerto Rico\",\"Qatar\",\"Romania\",\"Russia\",\"Rwanda\",\"Saint Helena\",\"Saint Kitts and Nevis\",\"Saint Lucia\",\"Saint Pierre and Miquelon\",\"Saint Vincent and the Grenadines\",\"Samoa\",\"Sao Tome and Principe\",\"Saudi Arabia\",\"Senegal\",\"Serbia\",\"Seychelles\",\"Sierra Leone\",\"Singapore\",\"Sint Maarten (Dutch part)\",\"Slovakia\",\"Slovenia\",\"Solomon Islands\",\"Somalia\",\"South Africa\",\"South Korea\",\"South Sudan\",\"Spain\",\"Sri Lanka\",\"Sudan\",\"Suriname\",\"Sweden\",\"Switzerland\",\"Syria\",\"Taiwan\",\"Tajikistan\",\"Tanzania\",\"Thailand\",\"Timor\",\"Togo\",\"Tonga\",\"Trinidad and Tobago\",\"Tunisia\",\"Turkey\",\"Turkmenistan\",\"Turks and Caicos Islands\",\"Tuvalu\",\"Uganda\",\"Ukraine\",\"United Arab Emirates\",\"United Kingdom\",\"United States\",\"Uruguay\",\"Uzbekistan\",\"Vanuatu\",\"Venezuela\",\"Vietnam\",\"World\",\"Yemen\",\"Zambia\",\"Zimbabwe\"],\"margin\":[5,10,5,10],\"placeholder\":\"Enter Name of the country\",\"title\":\"Countries\",\"value\":\"United Kingdom\"},\"id\":\"2061\",\"type\":\"AutocompleteInput\"},{\"attributes\":{\"children\":[{\"id\":\"2092\"}],\"margin\":[0,0,0,0],\"name\":\"Row08421\"},\"id\":\"2063\",\"type\":\"Row\"},{\"attributes\":{\"editor\":{\"id\":\"2068\"},\"field\":\"index\",\"formatter\":{\"id\":\"2066\"},\"title\":\"index\",\"width\":0},\"id\":\"2069\",\"type\":\"TableColumn\"},{\"attributes\":{},\"id\":\"2077\",\"type\":\"StringFormatter\"},{\"attributes\":{\"children\":[{\"id\":\"2057\"}],\"margin\":[0,0,0,0],\"name\":\"Row08459\"},\"id\":\"2056\",\"type\":\"Row\"},{\"attributes\":{\"columns\":[{\"id\":\"2069\"},{\"id\":\"2074\"},{\"id\":\"2079\"},{\"id\":\"2084\"},{\"id\":\"2089\"}],\"configuration\":{\"columns\":[{\"field\":\"index\"},{\"field\":\"Year\"},{\"field\":\"Country_Name\"},{\"field\":\"Gas_Name\"},{\"field\":\"Amount\"}],\"dataTree\":false,\"selectable\":true},\"indexes\":[\"index\"],\"layout\":\"fit_data_table\",\"margin\":[5,10,5,10],\"max_page\":82,\"name\":\"\",\"page\":1,\"page_size\":10,\"pagination\":\"remote\",\"select_mode\":true,\"selectable_rows\":null,\"sizing_mode\":\"stretch_width\",\"source\":{\"id\":\"2064\"},\"styles\":{\"data\":{},\"id\":\"ac12bb8e34564d8eb2e2837dc576945e\"},\"subscribed_events\":[\"table-edit\",\"cell-click\"]},\"id\":\"2092\",\"type\":\"panel.models.tabulator.DataTabulator\"},{\"attributes\":{},\"id\":\"2088\",\"type\":\"NumberEditor\"},{\"attributes\":{\"margin\":[5,5,5,5],\"name\":\"HSpacer08456\",\"sizing_mode\":\"stretch_width\"},\"id\":\"2062\",\"type\":\"Spacer\"},{\"attributes\":{\"text_align\":\"right\"},\"id\":\"2072\",\"type\":\"NumberFormatter\"},{\"attributes\":{\"children\":[{\"id\":\"2058\"},{\"id\":\"2063\"}],\"margin\":[0,0,0,0],\"name\":\"Column08458\"},\"id\":\"2057\",\"type\":\"Column\"},{\"attributes\":{\"editor\":{\"id\":\"2073\"},\"field\":\"Year\",\"formatter\":{\"id\":\"2072\"},\"title\":\"Year\",\"width\":0},\"id\":\"2074\",\"type\":\"TableColumn\"},{\"attributes\":{},\"id\":\"2094\",\"type\":\"UnionRenderers\"},{\"attributes\":{\"client_comm_id\":\"7ccdd08b5aa747139dc98c085ccd1db6\",\"comm_id\":\"766f6c7c91ec432a80cf06b34fabad0d\",\"plot_id\":\"2056\"},\"id\":\"2100\",\"type\":\"panel.models.comm_manager.CommManager\"},{\"attributes\":{\"editor\":{\"id\":\"2088\"},\"field\":\"Amount\",\"formatter\":{\"id\":\"2087\"},\"title\":\"Amount\",\"width\":0},\"id\":\"2089\",\"type\":\"TableColumn\"},{\"attributes\":{\"text_align\":\"left\"},\"id\":\"2066\",\"type\":\"NumberFormatter\"},{\"attributes\":{\"format\":\"0,0.0[00000]\",\"text_align\":\"right\"},\"id\":\"2087\",\"type\":\"NumberFormatter\"},{\"attributes\":{\"data\":{\"Amount\":{\"__ndarray__\":\"AAAAAAAAAAAAAAAAAAAAAMHKoUW2syJAAAAAAAAAAAAAAAAAAAAAAMHKoUW2syJAAAAAAAAAAAAAAAAAAAAAAGiR7Xw/tSJAAAAAAAAAAAA=\",\"dtype\":\"float64\",\"order\":\"little\",\"shape\":[10]},\"Country_Name\":[\"United Kingdom\",\"United Kingdom\",\"United Kingdom\",\"United Kingdom\",\"United Kingdom\",\"United Kingdom\",\"United Kingdom\",\"United Kingdom\",\"United Kingdom\",\"United Kingdom\"],\"Gas_Name\":[\"Methane\",\"Nitrous Oxide\",\"carbon dioxide (CO2)\",\"Methane\",\"Nitrous Oxide\",\"carbon dioxide (CO2)\",\"Methane\",\"Nitrous Oxide\",\"carbon dioxide (CO2)\",\"Methane\"],\"Year\":[1750,1750,1750,1751,1751,1751,1752,1752,1752,1753],\"index\":[0,1,2,3,4,5,6,7,8,9]},\"selected\":{\"id\":\"2065\"},\"selection_policy\":{\"id\":\"2094\"}},\"id\":\"2064\",\"type\":\"ColumnDataSource\"},{\"attributes\":{\"end\":2020,\"margin\":[5,10,5,10],\"start\":1750,\"step\":5,\"title\":\"Year slider\",\"value\":2020},\"id\":\"2060\",\"type\":\"Slider\"},{\"attributes\":{},\"id\":\"2082\",\"type\":\"StringFormatter\"},{\"attributes\":{\"editor\":{\"id\":\"2083\"},\"field\":\"Gas_Name\",\"formatter\":{\"id\":\"2082\"},\"title\":\"Gas_Name\",\"width\":0},\"id\":\"2084\",\"type\":\"TableColumn\"},{\"attributes\":{},\"id\":\"2083\",\"type\":\"StringEditor\"},{\"attributes\":{},\"id\":\"2073\",\"type\":\"IntEditor\"},{\"attributes\":{\"children\":[{\"id\":\"2059\"},{\"id\":\"2062\"}],\"margin\":[0,0,0,0],\"name\":\"Row08457\"},\"id\":\"2058\",\"type\":\"Row\"},{\"attributes\":{},\"id\":\"2078\",\"type\":\"StringEditor\"},{\"attributes\":{},\"id\":\"2068\",\"type\":\"CellEditor\"},{\"attributes\":{\"children\":[{\"id\":\"2060\"},{\"id\":\"2061\"}],\"margin\":[0,0,0,0],\"name\":\"Column08416\"},\"id\":\"2059\",\"type\":\"Column\"}],\"root_ids\":[\"2056\",\"2100\"]},\"title\":\"Bokeh Application\",\"version\":\"2.4.1\"}};\n",
       "    var render_items = [{\"docid\":\"d21d43ef-3855-4400-bb95-3ada150f56e9\",\"root_ids\":[\"2056\"],\"roots\":{\"2056\":\"fba1b608-b5e0-4ef9-a6a3-5bdd770d8d96\"}}];\n",
       "    root.Bokeh.embed.embed_items_notebook(docs_json, render_items);\n",
       "  }\n",
       "  if (root.Bokeh !== undefined && root.Bokeh.Panel !== undefined && ( root['Tabulator'] !== undefined) && ( root['Tabulator'] !== undefined)) {\n",
       "    embed_document(root);\n",
       "  } else {\n",
       "    var attempts = 0;\n",
       "    var timer = setInterval(function(root) {\n",
       "      if (root.Bokeh !== undefined && root.Bokeh.Panel !== undefined && (root['Tabulator'] !== undefined) && (root['Tabulator'] !== undefined)) {\n",
       "        clearInterval(timer);\n",
       "        embed_document(root);\n",
       "      } else if (document.readyState == \"complete\") {\n",
       "        attempts++;\n",
       "        if (attempts > 200) {\n",
       "          clearInterval(timer);\n",
       "          console.log(\"Bokeh: ERROR: Unable to run BokehJS code because BokehJS library is missing\");\n",
       "        }\n",
       "      }\n",
       "    }, 25, root)\n",
       "  }\n",
       "})(window);</script>"
      ],
      "text/plain": [
       "<hvplot.interactive.Interactive at 0x1dd7517ca60>"
      ]
     },
     "execution_count": 42,
     "metadata": {
      "application/vnd.holoviews_exec.v0+json": {
       "id": "2056"
      }
     },
     "output_type": "execute_result"
    }
   ],
   "source": [
    "Country_greenhouse_gases_table = Country_greenhouse_gases_pipeline.pipe(pn.widgets.Tabulator, pagination='remote', page_size = 10, sizing_mode='stretch_width') \n",
    "Country_greenhouse_gases_table"
   ]
  },
  {
   "cell_type": "code",
   "execution_count": 43,
   "metadata": {
    "azdata_cell_guid": "df31517a-599b-45fb-a3c4-2f97d58126da",
    "language": "python"
   },
   "outputs": [],
   "source": [
    "co2_source_bar_plot = Country_greenhouse_gases_pipeline.hvplot(kind='bar', \n",
    "                                                     x='Gas_Name', \n",
    "                                                     y='Amount', \n",
    "                                                     title='CO2 source by continent')"
   ]
  },
  {
   "cell_type": "code",
   "execution_count": 44,
   "metadata": {
    "azdata_cell_guid": "0ea40451-309f-4d68-8d81-0c55e868d6f5",
    "language": "python"
   },
   "outputs": [
    {
     "data": {},
     "metadata": {},
     "output_type": "display_data"
    },
    {
     "data": {},
     "metadata": {},
     "output_type": "display_data"
    },
    {
     "data": {
      "application/vnd.holoviews_exec.v0+json": "",
      "text/html": [
       "<div id='2111'>\n",
       "\n",
       "\n",
       "\n",
       "\n",
       "\n",
       "  <div class=\"bk-root\" id=\"940b7fc5-2d51-4b0a-8add-e4a4f059d15a\" data-root-id=\"2111\"></div>\n",
       "</div>\n",
       "<script type=\"application/javascript\">(function(root) {\n",
       "  function embed_document(root) {\n",
       "    var docs_json = {\"f435648f-488d-4673-9bdb-2a43e0e8bee1\":{\"defs\":[{\"extends\":null,\"module\":null,\"name\":\"ReactiveHTML1\",\"overrides\":[],\"properties\":[]},{\"extends\":null,\"module\":null,\"name\":\"FlexBox1\",\"overrides\":[],\"properties\":[{\"default\":\"flex-start\",\"kind\":null,\"name\":\"align_content\"},{\"default\":\"flex-start\",\"kind\":null,\"name\":\"align_items\"},{\"default\":\"row\",\"kind\":null,\"name\":\"flex_direction\"},{\"default\":\"wrap\",\"kind\":null,\"name\":\"flex_wrap\"},{\"default\":\"flex-start\",\"kind\":null,\"name\":\"justify_content\"}]},{\"extends\":null,\"module\":null,\"name\":\"GridStack1\",\"overrides\":[],\"properties\":[{\"default\":\"warn\",\"kind\":null,\"name\":\"mode\"},{\"default\":null,\"kind\":null,\"name\":\"ncols\"},{\"default\":null,\"kind\":null,\"name\":\"nrows\"},{\"default\":true,\"kind\":null,\"name\":\"allow_resize\"},{\"default\":true,\"kind\":null,\"name\":\"allow_drag\"},{\"default\":[],\"kind\":null,\"name\":\"state\"}]},{\"extends\":null,\"module\":null,\"name\":\"click1\",\"overrides\":[],\"properties\":[{\"default\":\"\",\"kind\":null,\"name\":\"terminal_output\"},{\"default\":\"\",\"kind\":null,\"name\":\"debug_name\"},{\"default\":0,\"kind\":null,\"name\":\"clears\"}]},{\"extends\":null,\"module\":null,\"name\":\"NotificationAreaBase1\",\"overrides\":[],\"properties\":[{\"default\":\"bottom-right\",\"kind\":null,\"name\":\"position\"},{\"default\":0,\"kind\":null,\"name\":\"_clear\"}]},{\"extends\":null,\"module\":null,\"name\":\"NotificationArea1\",\"overrides\":[],\"properties\":[{\"default\":[],\"kind\":null,\"name\":\"notifications\"},{\"default\":\"bottom-right\",\"kind\":null,\"name\":\"position\"},{\"default\":0,\"kind\":null,\"name\":\"_clear\"},{\"default\":[{\"background\":\"#ffc107\",\"icon\":{\"className\":\"fas fa-exclamation-triangle\",\"color\":\"white\",\"tagName\":\"i\"},\"type\":\"warning\"},{\"background\":\"#007bff\",\"icon\":{\"className\":\"fas fa-info-circle\",\"color\":\"white\",\"tagName\":\"i\"},\"type\":\"info\"}],\"kind\":null,\"name\":\"types\"}]},{\"extends\":null,\"module\":null,\"name\":\"Notification\",\"overrides\":[],\"properties\":[{\"default\":null,\"kind\":null,\"name\":\"background\"},{\"default\":3000,\"kind\":null,\"name\":\"duration\"},{\"default\":null,\"kind\":null,\"name\":\"icon\"},{\"default\":\"\",\"kind\":null,\"name\":\"message\"},{\"default\":null,\"kind\":null,\"name\":\"notification_type\"},{\"default\":false,\"kind\":null,\"name\":\"_destroyed\"}]},{\"extends\":null,\"module\":null,\"name\":\"TemplateActions1\",\"overrides\":[],\"properties\":[{\"default\":0,\"kind\":null,\"name\":\"open_modal\"},{\"default\":0,\"kind\":null,\"name\":\"close_modal\"}]},{\"extends\":null,\"module\":null,\"name\":\"MaterialTemplateActions1\",\"overrides\":[],\"properties\":[{\"default\":0,\"kind\":null,\"name\":\"open_modal\"},{\"default\":0,\"kind\":null,\"name\":\"close_modal\"}]}],\"roots\":{\"references\":[{\"attributes\":{},\"id\":\"2138\",\"type\":\"SaveTool\"},{\"attributes\":{\"client_comm_id\":\"e28c1a57eb2f4a96bb6d0a47a240da16\",\"comm_id\":\"f8b1a71c82ca4cc6826796feff80a9a1\",\"plot_id\":\"2111\"},\"id\":\"2206\",\"type\":\"panel.models.comm_manager.CommManager\"},{\"attributes\":{\"source\":{\"id\":\"2151\"}},\"id\":\"2158\",\"type\":\"CDSView\"},{\"attributes\":{\"overlay\":{\"id\":\"2143\"}},\"id\":\"2141\",\"type\":\"BoxZoomTool\"},{\"attributes\":{\"fill_alpha\":{\"value\":0.2},\"fill_color\":{\"value\":\"#30a2da\"},\"hatch_alpha\":{\"value\":0.2},\"hatch_color\":{\"value\":\"#30a2da\"},\"line_alpha\":{\"value\":0.2},\"top\":{\"field\":\"Amount\"},\"width\":{\"value\":0.8},\"x\":{\"field\":\"Gas_Name\"}},\"id\":\"2156\",\"type\":\"VBar\"},{\"attributes\":{},\"id\":\"2142\",\"type\":\"ResetTool\"},{\"attributes\":{\"bottom\":{\"value\":0},\"fill_alpha\":{\"value\":1.0},\"fill_color\":{\"value\":\"#30a2da\"},\"hatch_alpha\":{\"value\":1.0},\"hatch_color\":{\"value\":\"#30a2da\"},\"hatch_scale\":{\"value\":12.0},\"hatch_weight\":{\"value\":1.0},\"line_alpha\":{\"value\":1.0},\"line_cap\":{\"value\":\"butt\"},\"line_color\":{\"value\":\"black\"},\"line_dash\":{\"value\":[]},\"line_dash_offset\":{\"value\":0},\"line_join\":{\"value\":\"bevel\"},\"line_width\":{\"value\":1},\"top\":{\"field\":\"Amount\"},\"width\":{\"value\":0.8},\"x\":{\"field\":\"Gas_Name\"}},\"id\":\"2159\",\"type\":\"VBar\"},{\"attributes\":{\"coordinates\":null,\"data_source\":{\"id\":\"2151\"},\"glyph\":{\"id\":\"2154\"},\"group\":null,\"hover_glyph\":null,\"muted_glyph\":{\"id\":\"2156\"},\"nonselection_glyph\":{\"id\":\"2155\"},\"selection_glyph\":{\"id\":\"2159\"},\"view\":{\"id\":\"2158\"}},\"id\":\"2157\",\"type\":\"GlyphRenderer\"},{\"attributes\":{\"bottom_units\":\"screen\",\"coordinates\":null,\"fill_alpha\":0.5,\"fill_color\":\"lightgrey\",\"group\":null,\"left_units\":\"screen\",\"level\":\"overlay\",\"line_alpha\":1.0,\"line_color\":\"black\",\"line_dash\":[4,4],\"line_width\":2,\"right_units\":\"screen\",\"syncable\":false,\"top_units\":\"screen\"},\"id\":\"2143\",\"type\":\"BoxAnnotation\"},{\"attributes\":{\"fill_alpha\":{\"value\":0.1},\"fill_color\":{\"value\":\"#30a2da\"},\"hatch_alpha\":{\"value\":0.1},\"hatch_color\":{\"value\":\"#30a2da\"},\"line_alpha\":{\"value\":0.1},\"top\":{\"field\":\"Amount\"},\"width\":{\"value\":0.8},\"x\":{\"field\":\"Gas_Name\"}},\"id\":\"2155\",\"type\":\"VBar\"},{\"attributes\":{\"coordinates\":null,\"group\":null,\"text\":\"CO2 source by continent\",\"text_color\":\"black\",\"text_font_size\":\"12pt\"},\"id\":\"2123\",\"type\":\"Title\"},{\"attributes\":{},\"id\":\"2164\",\"type\":\"BasicTickFormatter\"},{\"attributes\":{},\"id\":\"2162\",\"type\":\"AllLabels\"},{\"attributes\":{\"children\":[{\"id\":\"2113\"},{\"id\":\"2118\"}],\"margin\":[0,0,0,0],\"name\":\"Column08838\"},\"id\":\"2112\",\"type\":\"Column\"},{\"attributes\":{\"tools\":[{\"id\":\"2121\"},{\"id\":\"2138\"},{\"id\":\"2139\"},{\"id\":\"2140\"},{\"id\":\"2141\"},{\"id\":\"2142\"}]},\"id\":\"2144\",\"type\":\"Toolbar\"},{\"attributes\":{\"children\":[{\"id\":\"2115\"},{\"id\":\"2116\"}],\"margin\":[0,0,0,0],\"name\":\"Column08660\"},\"id\":\"2114\",\"type\":\"Column\"},{\"attributes\":{\"factors\":[\"Methane\",\"Nitrous Oxide\",\"carbon dioxide (CO2)\"],\"tags\":[[[\"Gas_Name\",\"Gas_Name\",null]]]},\"id\":\"2119\",\"type\":\"FactorRange\"},{\"attributes\":{\"children\":[{\"id\":\"2112\"}],\"margin\":[0,0,0,0],\"name\":\"Row08839\"},\"id\":\"2111\",\"type\":\"Row\"},{\"attributes\":{},\"id\":\"2127\",\"type\":\"CategoricalScale\"},{\"attributes\":{},\"id\":\"2152\",\"type\":\"Selection\"},{\"attributes\":{\"end\":2020,\"margin\":[5,10,5,10],\"start\":1750,\"step\":5,\"title\":\"Year slider\",\"value\":2020},\"id\":\"2115\",\"type\":\"Slider\"},{\"attributes\":{\"callback\":null,\"renderers\":[{\"id\":\"2157\"}],\"tags\":[\"hv_created\"],\"tooltips\":[[\"Gas_Name\",\"@{Gas_Name}\"],[\"Amount\",\"@{Amount}\"]]},\"id\":\"2121\",\"type\":\"HoverTool\"},{\"attributes\":{},\"id\":\"2129\",\"type\":\"LinearScale\"},{\"attributes\":{\"children\":[{\"id\":\"2114\"},{\"id\":\"2117\"}],\"margin\":[0,0,0,0],\"name\":\"Row08837\"},\"id\":\"2113\",\"type\":\"Row\"},{\"attributes\":{\"end\":726.4268000000001,\"reset_end\":726.4268000000001,\"reset_start\":0.0,\"tags\":[[[\"Amount\",\"Amount\",null]]]},\"id\":\"2120\",\"type\":\"Range1d\"},{\"attributes\":{\"data\":{\"Amount\":{\"__ndarray__\":\"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\",\"dtype\":\"float64\",\"order\":\"little\",\"shape\":[813]},\"Gas_Name\":[\"Methane\",\"Nitrous Oxide\",\"carbon dioxide (CO2)\",\"Methane\",\"Nitrous Oxide\",\"carbon dioxide (CO2)\",\"Methane\",\"Nitrous Oxide\",\"carbon dioxide (CO2)\",\"Methane\",\"Nitrous Oxide\",\"carbon dioxide (CO2)\",\"carbon dioxide (CO2)\",\"Methane\",\"Nitrous Oxide\",\"Methane\",\"Nitrous Oxide\",\"carbon dioxide (CO2)\",\"Methane\",\"Nitrous Oxide\",\"carbon dioxide (CO2)\",\"carbon dioxide (CO2)\",\"Methane\",\"Nitrous Oxide\",\"carbon dioxide (CO2)\",\"Methane\",\"Nitrous Oxide\",\"Methane\",\"Nitrous Oxide\",\"carbon dioxide (CO2)\",\"Methane\",\"Nitrous Oxide\",\"carbon dioxide (CO2)\",\"carbon dioxide (CO2)\",\"Methane\",\"Nitrous Oxide\",\"carbon dioxide (CO2)\",\"Nitrous Oxide\",\"Methane\",\"Methane\",\"Nitrous Oxide\",\"carbon dioxide (CO2)\",\"carbon dioxide (CO2)\",\"Methane\",\"Nitrous Oxide\",\"Nitrous Oxide\",\"carbon dioxide (CO2)\",\"Methane\",\"carbon dioxide (CO2)\",\"Nitrous Oxide\",\"Methane\",\"Methane\",\"Nitrous Oxide\",\"carbon dioxide (CO2)\",\"Methane\",\"Nitrous Oxide\",\"carbon dioxide (CO2)\",\"Methane\",\"Nitrous Oxide\",\"carbon dioxide (CO2)\",\"carbon dioxide (CO2)\",\"Nitrous Oxide\",\"Methane\",\"Methane\",\"Nitrous Oxide\",\"carbon dioxide (CO2)\",\"Methane\",\"Nitrous Oxide\",\"carbon dioxide (CO2)\",\"Methane\",\"Nitrous Oxide\",\"carbon dioxide (CO2)\",\"Nitrous Oxide\",\"carbon dioxide (CO2)\",\"Methane\",\"Methane\",\"Nitrous Oxide\",\"carbon dioxide (CO2)\",\"Methane\",\"Nitrous Oxide\",\"carbon dioxide (CO2)\",\"Methane\",\"Nitrous Oxide\",\"carbon dioxide (CO2)\",\"carbon dioxide (CO2)\",\"Nitrous Oxide\",\"Methane\",\"Methane\",\"Nitrous Oxide\",\"carbon dioxide (CO2)\",\"Methane\",\"Nitrous Oxide\",\"carbon dioxide (CO2)\",\"Methane\",\"Nitrous Oxide\",\"carbon dioxide (CO2)\",\"Nitrous Oxide\",\"carbon dioxide (CO2)\",\"Methane\",\"carbon dioxide (CO2)\",\"Nitrous Oxide\",\"Methane\",\"Methane\",\"Nitrous Oxide\",\"carbon dioxide (CO2)\",\"Methane\",\"Nitrous Oxide\",\"carbon dioxide (CO2)\",\"Methane\",\"Nitrous Oxide\",\"carbon dioxide (CO2)\",\"carbon dioxide (CO2)\",\"Nitrous Oxide\",\"Methane\",\"Methane\",\"Nitrous Oxide\",\"carbon dioxide (CO2)\",\"Methane\",\"Nitrous Oxide\",\"carbon dioxide (CO2)\",\"Methane\",\"Nitrous Oxide\",\"carbon dioxide (CO2)\",\"Nitrous Oxide\",\"carbon dioxide (CO2)\",\"Methane\",\"Methane\",\"Nitrous Oxide\",\"carbon dioxide (CO2)\",\"Methane\",\"Nitrous Oxide\",\"carbon dioxide (CO2)\",\"Methane\",\"Nitrous Oxide\",\"carbon dioxide (CO2)\",\"carbon dioxide (CO2)\",\"Nitrous Oxide\",\"Methane\",\"Methane\",\"Nitrous Oxide\",\"carbon dioxide (CO2)\",\"Methane\",\"Nitrous Oxide\",\"carbon dioxide (CO2)\",\"Methane\",\"Nitrous Oxide\",\"carbon dioxide (CO2)\",\"Nitrous Oxide\",\"carbon dioxide (CO2)\",\"Methane\",\"carbon dioxide (CO2)\",\"Nitrous Oxide\",\"Methane\",\"Methane\",\"Nitrous Oxide\",\"carbon dioxide (CO2)\",\"Methane\",\"Nitrous Oxide\",\"carbon dioxide (CO2)\",\"Methane\",\"Nitrous Oxide\",\"carbon dioxide (CO2)\",\"carbon dioxide (CO2)\",\"Nitrous Oxide\",\"Methane\",\"Methane\",\"Nitrous Oxide\",\"carbon dioxide (CO2)\",\"Methane\",\"Nitrous Oxide\",\"carbon dioxide (CO2)\",\"Methane\",\"Nitrous Oxide\",\"carbon dioxide (CO2)\",\"Nitrous Oxide\",\"carbon dioxide (CO2)\",\"Methane\",\"Methane\",\"Nitrous Oxide\",\"carbon dioxide (CO2)\",\"Methane\",\"Nitrous Oxide\",\"carbon dioxide (CO2)\",\"Methane\",\"Nitrous Oxide\",\"carbon dioxide (CO2)\",\"carbon dioxide (CO2)\",\"Nitrous Oxide\",\"Methane\",\"Methane\",\"Nitrous Oxide\",\"carbon dioxide (CO2)\",\"Methane\",\"Nitrous Oxide\",\"carbon dioxide (CO2)\",\"Methane\",\"Nitrous Oxide\",\"carbon dioxide (CO2)\",\"Nitrous Oxide\",\"carbon dioxide (CO2)\",\"Methane\",\"carbon dioxide (CO2)\",\"Nitrous Oxide\",\"Methane\",\"Methane\",\"Nitrous Oxide\",\"carbon dioxide (CO2)\",\"Methane\",\"Nitrous Oxide\",\"carbon dioxide (CO2)\",\"Methane\",\"Nitrous Oxide\",\"carbon dioxide (CO2)\",\"carbon dioxide (CO2)\",\"Nitrous Oxide\",\"Methane\",\"Methane\",\"Nitrous Oxide\",\"carbon dioxide (CO2)\",\"Methane\",\"Nitrous Oxide\",\"carbon dioxide (CO2)\",\"Methane\",\"Nitrous Oxide\",\"carbon dioxide (CO2)\",\"Nitrous Oxide\",\"carbon dioxide (CO2)\",\"Methane\",\"Methane\",\"Nitrous Oxide\",\"carbon dioxide (CO2)\",\"Methane\",\"Nitrous Oxide\",\"carbon dioxide (CO2)\",\"Methane\",\"Nitrous Oxide\",\"carbon dioxide (CO2)\",\"carbon dioxide (CO2)\",\"Nitrous Oxide\",\"Methane\",\"Methane\",\"Nitrous Oxide\",\"carbon dioxide (CO2)\",\"Methane\",\"Nitrous Oxide\",\"carbon dioxide (CO2)\",\"Methane\",\"Nitrous Oxide\",\"carbon dioxide (CO2)\",\"Nitrous Oxide\",\"carbon dioxide (CO2)\",\"Methane\",\"carbon dioxide (CO2)\",\"Nitrous Oxide\",\"Methane\",\"Methane\",\"Nitrous Oxide\",\"carbon dioxide (CO2)\",\"Methane\",\"Nitrous Oxide\",\"carbon dioxide (CO2)\",\"Methane\",\"Nitrous Oxide\",\"carbon dioxide (CO2)\",\"carbon dioxide (CO2)\",\"Nitrous Oxide\",\"Methane\",\"Methane\",\"Nitrous Oxide\",\"carbon dioxide (CO2)\",\"Methane\",\"Nitrous Oxide\",\"carbon dioxide (CO2)\",\"Methane\",\"Nitrous Oxide\",\"carbon dioxide (CO2)\",\"Nitrous Oxide\",\"carbon dioxide (CO2)\",\"Methane\",\"Methane\",\"Nitrous Oxide\",\"carbon dioxide (CO2)\",\"Methane\",\"Nitrous Oxide\",\"carbon dioxide (CO2)\",\"Methane\",\"Nitrous Oxide\",\"carbon dioxide (CO2)\",\"carbon dioxide (CO2)\",\"Nitrous Oxide\",\"Methane\",\"Methane\",\"Nitrous Oxide\",\"carbon dioxide (CO2)\",\"Methane\",\"Nitrous Oxide\",\"carbon dioxide (CO2)\",\"Methane\",\"Nitrous Oxide\",\"carbon dioxide (CO2)\",\"Nitrous Oxide\",\"carbon dioxide (CO2)\",\"Methane\",\"carbon dioxide (CO2)\",\"Nitrous Oxide\",\"Methane\",\"Methane\",\"Nitrous Oxide\",\"carbon dioxide (CO2)\",\"Methane\",\"Nitrous Oxide\",\"carbon dioxide (CO2)\",\"Methane\",\"Nitrous Oxide\",\"carbon dioxide (CO2)\",\"carbon dioxide (CO2)\",\"Nitrous Oxide\",\"Methane\",\"Methane\",\"Nitrous Oxide\",\"carbon dioxide (CO2)\",\"Methane\",\"Nitrous Oxide\",\"carbon dioxide (CO2)\",\"Methane\",\"Nitrous Oxide\",\"carbon dioxide (CO2)\",\"Nitrous Oxide\",\"carbon dioxide (CO2)\",\"Methane\",\"Methane\",\"Nitrous Oxide\",\"carbon dioxide (CO2)\",\"Methane\",\"Nitrous Oxide\",\"carbon dioxide (CO2)\",\"Methane\",\"Nitrous Oxide\",\"carbon dioxide (CO2)\",\"carbon dioxide (CO2)\",\"Nitrous Oxide\",\"Methane\",\"Methane\",\"Nitrous Oxide\",\"carbon dioxide (CO2)\",\"Methane\",\"Nitrous Oxide\",\"carbon dioxide (CO2)\",\"Methane\",\"Nitrous Oxide\",\"carbon dioxide (CO2)\",\"Nitrous Oxide\",\"carbon dioxide (CO2)\",\"Methane\",\"carbon dioxide (CO2)\",\"Nitrous Oxide\",\"Methane\",\"Methane\",\"Nitrous Oxide\",\"carbon dioxide (CO2)\",\"Methane\",\"Nitrous Oxide\",\"carbon dioxide (CO2)\",\"Methane\",\"Nitrous Oxide\",\"carbon dioxide (CO2)\",\"carbon dioxide (CO2)\",\"Nitrous Oxide\",\"Methane\",\"Methane\",\"Nitrous Oxide\",\"carbon dioxide (CO2)\",\"Methane\",\"Nitrous Oxide\",\"carbon dioxide (CO2)\",\"Methane\",\"Nitrous Oxide\",\"carbon dioxide (CO2)\",\"Nitrous Oxide\",\"carbon dioxide (CO2)\",\"Methane\",\"Methane\",\"Nitrous Oxide\",\"carbon dioxide (CO2)\",\"Methane\",\"Nitrous Oxide\",\"carbon dioxide (CO2)\",\"Methane\",\"Nitrous Oxide\",\"carbon dioxide (CO2)\",\"carbon dioxide (CO2)\",\"Nitrous Oxide\",\"Methane\",\"Methane\",\"Nitrous Oxide\",\"carbon dioxide (CO2)\",\"Methane\",\"Nitrous Oxide\",\"carbon dioxide (CO2)\",\"Methane\",\"Nitrous Oxide\",\"carbon dioxide (CO2)\",\"Nitrous Oxide\",\"carbon dioxide (CO2)\",\"Methane\",\"carbon dioxide (CO2)\",\"Nitrous Oxide\",\"Methane\",\"Methane\",\"Nitrous Oxide\",\"carbon dioxide (CO2)\",\"Methane\",\"Nitrous Oxide\",\"carbon dioxide (CO2)\",\"Methane\",\"Nitrous Oxide\",\"carbon dioxide (CO2)\",\"carbon dioxide (CO2)\",\"Nitrous Oxide\",\"Methane\",\"Methane\",\"Nitrous Oxide\",\"carbon dioxide (CO2)\",\"Methane\",\"Nitrous Oxide\",\"carbon dioxide (CO2)\",\"Methane\",\"Nitrous Oxide\",\"carbon dioxide (CO2)\",\"Nitrous Oxide\",\"carbon dioxide (CO2)\",\"Methane\",\"Methane\",\"Nitrous Oxide\",\"carbon dioxide (CO2)\",\"Methane\",\"Nitrous Oxide\",\"carbon dioxide (CO2)\",\"Methane\",\"Nitrous Oxide\",\"carbon dioxide (CO2)\",\"carbon dioxide (CO2)\",\"Nitrous Oxide\",\"Methane\",\"Methane\",\"Nitrous Oxide\",\"carbon dioxide (CO2)\",\"Methane\",\"Nitrous Oxide\",\"carbon dioxide (CO2)\",\"Methane\",\"Nitrous Oxide\",\"carbon dioxide (CO2)\",\"Nitrous Oxide\",\"carbon dioxide (CO2)\",\"Methane\",\"carbon dioxide (CO2)\",\"Nitrous Oxide\",\"Methane\",\"Methane\",\"Nitrous Oxide\",\"carbon dioxide (CO2)\",\"Methane\",\"Nitrous Oxide\",\"carbon dioxide (CO2)\",\"Methane\",\"Nitrous Oxide\",\"carbon dioxide (CO2)\",\"carbon dioxide (CO2)\",\"Nitrous Oxide\",\"Methane\",\"Methane\",\"Nitrous Oxide\",\"carbon dioxide (CO2)\",\"Methane\",\"Nitrous Oxide\",\"carbon dioxide (CO2)\",\"Methane\",\"Nitrous Oxide\",\"carbon dioxide (CO2)\",\"Nitrous Oxide\",\"carbon dioxide (CO2)\",\"Methane\",\"Methane\",\"Nitrous Oxide\",\"carbon dioxide (CO2)\",\"Methane\",\"Nitrous Oxide\",\"carbon dioxide (CO2)\",\"Methane\",\"Nitrous Oxide\",\"carbon dioxide (CO2)\",\"carbon dioxide (CO2)\",\"Nitrous Oxide\",\"Methane\",\"Methane\",\"Nitrous Oxide\",\"carbon dioxide (CO2)\",\"Methane\",\"Nitrous Oxide\",\"carbon dioxide (CO2)\",\"Methane\",\"Nitrous Oxide\",\"carbon dioxide (CO2)\",\"Nitrous Oxide\",\"carbon dioxide (CO2)\",\"Methane\",\"carbon dioxide (CO2)\",\"Nitrous Oxide\",\"Methane\",\"Methane\",\"Nitrous Oxide\",\"carbon dioxide (CO2)\",\"Methane\",\"Nitrous Oxide\",\"carbon dioxide (CO2)\",\"Methane\",\"Nitrous Oxide\",\"carbon dioxide (CO2)\",\"carbon dioxide (CO2)\",\"Nitrous Oxide\",\"Methane\",\"Methane\",\"Nitrous Oxide\",\"carbon dioxide (CO2)\",\"Methane\",\"Nitrous Oxide\",\"carbon dioxide (CO2)\",\"Methane\",\"Nitrous Oxide\",\"carbon dioxide (CO2)\",\"Nitrous Oxide\",\"carbon dioxide (CO2)\",\"Methane\",\"Methane\",\"Nitrous Oxide\",\"carbon dioxide (CO2)\",\"Methane\",\"Nitrous Oxide\",\"carbon dioxide (CO2)\",\"Methane\",\"Nitrous Oxide\",\"carbon dioxide (CO2)\",\"carbon dioxide (CO2)\",\"Nitrous Oxide\",\"Methane\",\"Methane\",\"Nitrous Oxide\",\"carbon dioxide (CO2)\",\"Methane\",\"Nitrous Oxide\",\"carbon dioxide (CO2)\",\"Methane\",\"Nitrous Oxide\",\"carbon dioxide (CO2)\",\"Nitrous Oxide\",\"carbon dioxide (CO2)\",\"Methane\",\"carbon dioxide (CO2)\",\"Nitrous Oxide\",\"Methane\",\"Methane\",\"Nitrous Oxide\",\"carbon dioxide (CO2)\",\"Methane\",\"Nitrous Oxide\",\"carbon dioxide (CO2)\",\"Methane\",\"Nitrous Oxide\",\"carbon dioxide (CO2)\",\"carbon dioxide (CO2)\",\"Nitrous Oxide\",\"Methane\",\"Methane\",\"Nitrous Oxide\",\"carbon dioxide (CO2)\",\"Methane\",\"Nitrous Oxide\",\"carbon dioxide (CO2)\",\"Methane\",\"Nitrous Oxide\",\"carbon dioxide (CO2)\",\"Nitrous Oxide\",\"carbon dioxide (CO2)\",\"Methane\",\"Methane\",\"Nitrous Oxide\",\"carbon dioxide (CO2)\",\"Methane\",\"Nitrous Oxide\",\"carbon dioxide (CO2)\",\"Methane\",\"Nitrous Oxide\",\"carbon dioxide (CO2)\",\"carbon dioxide (CO2)\",\"Nitrous Oxide\",\"Methane\",\"Methane\",\"Nitrous Oxide\",\"carbon dioxide (CO2)\",\"Methane\",\"Nitrous Oxide\",\"carbon dioxide (CO2)\",\"Methane\",\"Nitrous Oxide\",\"carbon dioxide (CO2)\",\"Nitrous Oxide\",\"carbon dioxide (CO2)\",\"Methane\",\"carbon dioxide (CO2)\",\"Methane\",\"Nitrous Oxide\",\"Methane\",\"Nitrous Oxide\",\"carbon dioxide (CO2)\",\"Methane\",\"Nitrous Oxide\",\"carbon dioxide (CO2)\",\"Methane\",\"Nitrous Oxide\",\"carbon dioxide (CO2)\",\"carbon dioxide (CO2)\",\"Nitrous Oxide\",\"Methane\",\"Methane\",\"Nitrous Oxide\",\"carbon dioxide (CO2)\",\"Methane\",\"Nitrous Oxide\",\"carbon dioxide (CO2)\",\"Methane\",\"Nitrous Oxide\",\"carbon dioxide (CO2)\",\"Nitrous Oxide\",\"carbon dioxide (CO2)\",\"Methane\",\"Methane\",\"Nitrous Oxide\",\"carbon dioxide (CO2)\",\"Methane\",\"Nitrous Oxide\",\"carbon dioxide (CO2)\",\"Methane\",\"Nitrous Oxide\",\"carbon dioxide (CO2)\",\"carbon dioxide (CO2)\",\"Nitrous Oxide\",\"Methane\",\"Methane\",\"Nitrous Oxide\",\"carbon dioxide (CO2)\",\"Methane\",\"Nitrous Oxide\",\"carbon dioxide (CO2)\",\"Methane\",\"Nitrous Oxide\",\"carbon dioxide (CO2)\",\"Nitrous Oxide\",\"carbon dioxide (CO2)\",\"Methane\",\"carbon dioxide (CO2)\",\"Nitrous Oxide\",\"Methane\",\"Methane\",\"Nitrous Oxide\",\"carbon dioxide (CO2)\",\"Methane\",\"Nitrous Oxide\",\"carbon dioxide (CO2)\",\"Methane\",\"Nitrous Oxide\",\"carbon dioxide (CO2)\",\"carbon dioxide (CO2)\",\"Nitrous Oxide\",\"Methane\",\"Methane\",\"Nitrous Oxide\",\"carbon dioxide (CO2)\",\"Methane\",\"Nitrous Oxide\",\"carbon dioxide (CO2)\",\"Methane\",\"Nitrous Oxide\",\"carbon dioxide (CO2)\",\"Nitrous Oxide\",\"carbon dioxide (CO2)\",\"Methane\",\"Methane\",\"Nitrous Oxide\",\"carbon dioxide (CO2)\",\"Methane\",\"Nitrous Oxide\",\"carbon dioxide (CO2)\",\"Methane\",\"Nitrous Oxide\",\"carbon dioxide (CO2)\",\"carbon dioxide (CO2)\",\"Nitrous Oxide\",\"Methane\",\"Methane\",\"Nitrous Oxide\",\"carbon dioxide (CO2)\",\"Methane\",\"Nitrous Oxide\",\"carbon dioxide (CO2)\",\"Methane\",\"Nitrous Oxide\",\"carbon dioxide (CO2)\",\"Nitrous Oxide\",\"carbon dioxide (CO2)\",\"Methane\",\"carbon dioxide (CO2)\",\"Methane\",\"Nitrous Oxide\",\"Methane\",\"Nitrous Oxide\",\"carbon dioxide (CO2)\",\"Methane\",\"Nitrous Oxide\",\"carbon dioxide (CO2)\",\"Methane\",\"Nitrous Oxide\",\"carbon dioxide (CO2)\",\"carbon dioxide (CO2)\",\"Nitrous Oxide\",\"Methane\",\"Methane\",\"Nitrous Oxide\",\"carbon dioxide (CO2)\",\"Methane\",\"Nitrous Oxide\",\"carbon dioxide (CO2)\",\"Methane\",\"Nitrous Oxide\",\"carbon dioxide (CO2)\",\"carbon dioxide (CO2)\",\"Nitrous Oxide\",\"Methane\",\"Methane\",\"Nitrous Oxide\",\"carbon dioxide (CO2)\",\"Methane\",\"Nitrous Oxide\",\"carbon dioxide (CO2)\",\"Methane\",\"Nitrous Oxide\",\"carbon dioxide (CO2)\",\"carbon dioxide (CO2)\",\"Nitrous Oxide\",\"Methane\",\"Methane\",\"Nitrous Oxide\",\"carbon dioxide (CO2)\",\"Methane\",\"Nitrous Oxide\",\"carbon dioxide (CO2)\",\"Methane\",\"Nitrous Oxide\",\"carbon dioxide (CO2)\",\"carbon dioxide (CO2)\",\"Methane\",\"Nitrous Oxide\",\"Methane\",\"Nitrous Oxide\",\"carbon dioxide (CO2)\",\"Methane\",\"Nitrous Oxide\",\"carbon dioxide (CO2)\",\"Methane\",\"Nitrous Oxide\",\"carbon dioxide (CO2)\",\"carbon dioxide (CO2)\",\"Nitrous Oxide\",\"Methane\",\"Methane\",\"Nitrous Oxide\",\"carbon dioxide (CO2)\",\"Methane\",\"Nitrous Oxide\",\"carbon dioxide (CO2)\",\"Methane\",\"Nitrous Oxide\",\"carbon dioxide (CO2)\",\"carbon dioxide (CO2)\",\"Methane\",\"Nitrous Oxide\",\"Methane\",\"Nitrous Oxide\",\"carbon dioxide (CO2)\",\"Methane\",\"Nitrous Oxide\",\"carbon dioxide (CO2)\",\"carbon dioxide (CO2)\",\"Methane\",\"Nitrous Oxide\",\"Methane\",\"Nitrous Oxide\",\"carbon dioxide (CO2)\",\"Methane\",\"Nitrous Oxide\",\"carbon dioxide (CO2)\",\"Nitrous Oxide\",\"Methane\",\"carbon dioxide (CO2)\",\"Nitrous Oxide\",\"Methane\",\"carbon dioxide (CO2)\",\"Nitrous Oxide\",\"Methane\",\"carbon dioxide (CO2)\",\"Nitrous Oxide\",\"Methane\",\"carbon dioxide (CO2)\"]},\"selected\":{\"id\":\"2152\"},\"selection_policy\":{\"id\":\"2173\"}},\"id\":\"2151\",\"type\":\"ColumnDataSource\"},{\"attributes\":{\"below\":[{\"id\":\"2131\"}],\"center\":[{\"id\":\"2133\"},{\"id\":\"2137\"}],\"height\":300,\"left\":[{\"id\":\"2134\"}],\"margin\":[5,5,5,5],\"min_border_bottom\":10,\"min_border_left\":10,\"min_border_right\":10,\"min_border_top\":10,\"renderers\":[{\"id\":\"2157\"}],\"sizing_mode\":\"fixed\",\"title\":{\"id\":\"2123\"},\"toolbar\":{\"id\":\"2144\"},\"width\":700,\"x_range\":{\"id\":\"2119\"},\"x_scale\":{\"id\":\"2127\"},\"y_range\":{\"id\":\"2120\"},\"y_scale\":{\"id\":\"2129\"}},\"id\":\"2122\",\"subtype\":\"Figure\",\"type\":\"Plot\"},{\"attributes\":{},\"id\":\"2132\",\"type\":\"CategoricalTicker\"},{\"attributes\":{\"completions\":[\"Afghanistan\",\"Albania\",\"Algeria\",\"Andorra\",\"Angola\",\"Anguilla\",\"Antarctica\",\"Antigua and Barbuda\",\"Argentina\",\"Armenia\",\"Aruba\",\"Australia\",\"Austria\",\"Azerbaijan\",\"Bahamas\",\"Bahrain\",\"Bangladesh\",\"Barbados\",\"Belarus\",\"Belgium\",\"Belize\",\"Benin\",\"Bermuda\",\"Bhutan\",\"Bolivia\",\"Bonaire Sint Eustatius and Saba\",\"Bosnia and Herzegovina\",\"Botswana\",\"Brazil\",\"British Virgin Islands\",\"Brunei\",\"Bulgaria\",\"Burkina Faso\",\"Burundi\",\"Cambodia\",\"Cameroon\",\"Canada\",\"Cape Verde\",\"Central African Republic\",\"Chad\",\"Chile\",\"China\",\"Christmas Island\",\"Colombia\",\"Comoros\",\"Congo\",\"Cook Islands\",\"Costa Rica\",\"Cote d'Ivoire\",\"Croatia\",\"Cuba\",\"Curacao\",\"Cyprus\",\"Czechia\",\"Democratic Republic of Congo\",\"Denmark\",\"Djibouti\",\"Dominica\",\"Dominican Republic\",\"Ecuador\",\"Egypt\",\"El Salvador\",\"Equatorial Guinea\",\"Eritrea\",\"Estonia\",\"Eswatini\",\"Ethiopia\",\"Faeroe Islands\",\"Fiji\",\"Finland\",\"France\",\"French Guiana\",\"French Polynesia\",\"Gabon\",\"Gambia\",\"Georgia\",\"Germany\",\"Ghana\",\"Greece\",\"Greenland\",\"Grenada\",\"Guadeloupe\",\"Guatemala\",\"Guinea\",\"Guinea-Bissau\",\"Guyana\",\"Haiti\",\"Honduras\",\"Hong Kong\",\"Hungary\",\"Iceland\",\"India\",\"Indonesia\",\"Iran\",\"Iraq\",\"Ireland\",\"Israel\",\"Italy\",\"Jamaica\",\"Japan\",\"Jordan\",\"Kazakhstan\",\"Kenya\",\"Kiribati\",\"Kosovo\",\"Kuwait\",\"Kyrgyzstan\",\"Laos\",\"Latvia\",\"Lebanon\",\"Lesotho\",\"Liberia\",\"Libya\",\"Liechtenstein\",\"Lithuania\",\"Luxembourg\",\"Madagascar\",\"Malawi\",\"Malaysia\",\"Maldives\",\"Mali\",\"Malta\",\"Marshall Islands\",\"Martinique\",\"Mauritania\",\"Mauritius\",\"Mayotte\",\"Mexico\",\"Moldova\",\"Mongolia\",\"Montenegro\",\"Montserrat\",\"Morocco\",\"Mozambique\",\"Myanmar\",\"Namibia\",\"Nauru\",\"Nepal\",\"Netherlands\",\"New Caledonia\",\"New Zealand\",\"Nicaragua\",\"Niger\",\"Nigeria\",\"Niue\",\"North Korea\",\"North Macedonia\",\"Norway\",\"Oman\",\"Pakistan\",\"Palau\",\"Palestine\",\"Panama\",\"Papua New Guinea\",\"Paraguay\",\"Peru\",\"Philippines\",\"Poland\",\"Portugal\",\"Puerto Rico\",\"Qatar\",\"Romania\",\"Russia\",\"Rwanda\",\"Saint Helena\",\"Saint Kitts and Nevis\",\"Saint Lucia\",\"Saint Pierre and Miquelon\",\"Saint Vincent and the Grenadines\",\"Samoa\",\"Sao Tome and Principe\",\"Saudi Arabia\",\"Senegal\",\"Serbia\",\"Seychelles\",\"Sierra Leone\",\"Singapore\",\"Sint Maarten (Dutch part)\",\"Slovakia\",\"Slovenia\",\"Solomon Islands\",\"Somalia\",\"South Africa\",\"South Korea\",\"South Sudan\",\"Spain\",\"Sri Lanka\",\"Sudan\",\"Suriname\",\"Sweden\",\"Switzerland\",\"Syria\",\"Taiwan\",\"Tajikistan\",\"Tanzania\",\"Thailand\",\"Timor\",\"Togo\",\"Tonga\",\"Trinidad and Tobago\",\"Tunisia\",\"Turkey\",\"Turkmenistan\",\"Turks and Caicos Islands\",\"Tuvalu\",\"Uganda\",\"Ukraine\",\"United Arab Emirates\",\"United Kingdom\",\"United States\",\"Uruguay\",\"Uzbekistan\",\"Vanuatu\",\"Venezuela\",\"Vietnam\",\"World\",\"Yemen\",\"Zambia\",\"Zimbabwe\"],\"margin\":[5,10,5,10],\"placeholder\":\"Enter Name of the country\",\"title\":\"Countries\",\"value\":\"United Kingdom\"},\"id\":\"2116\",\"type\":\"AutocompleteInput\"},{\"attributes\":{\"axis\":{\"id\":\"2131\"},\"coordinates\":null,\"grid_line_color\":null,\"group\":null,\"ticker\":null},\"id\":\"2133\",\"type\":\"Grid\"},{\"attributes\":{\"margin\":[5,5,5,5],\"name\":\"HSpacer08836\",\"sizing_mode\":\"stretch_width\"},\"id\":\"2117\",\"type\":\"Spacer\"},{\"attributes\":{\"children\":[{\"id\":\"2122\"}],\"margin\":[0,0,0,0],\"name\":\"Row08665\"},\"id\":\"2118\",\"type\":\"Row\"},{\"attributes\":{},\"id\":\"2165\",\"type\":\"AllLabels\"},{\"attributes\":{},\"id\":\"2139\",\"type\":\"PanTool\"},{\"attributes\":{},\"id\":\"2173\",\"type\":\"UnionRenderers\"},{\"attributes\":{\"axis_label\":\"Gas_Name\",\"coordinates\":null,\"formatter\":{\"id\":\"2161\"},\"group\":null,\"major_label_policy\":{\"id\":\"2162\"},\"ticker\":{\"id\":\"2132\"}},\"id\":\"2131\",\"type\":\"CategoricalAxis\"},{\"attributes\":{\"axis\":{\"id\":\"2134\"},\"coordinates\":null,\"dimension\":1,\"grid_line_color\":null,\"group\":null,\"ticker\":null},\"id\":\"2137\",\"type\":\"Grid\"},{\"attributes\":{\"fill_color\":{\"value\":\"#30a2da\"},\"hatch_color\":{\"value\":\"#30a2da\"},\"top\":{\"field\":\"Amount\"},\"width\":{\"value\":0.8},\"x\":{\"field\":\"Gas_Name\"}},\"id\":\"2154\",\"type\":\"VBar\"},{\"attributes\":{},\"id\":\"2161\",\"type\":\"CategoricalTickFormatter\"},{\"attributes\":{\"axis_label\":\"Amount\",\"coordinates\":null,\"formatter\":{\"id\":\"2164\"},\"group\":null,\"major_label_policy\":{\"id\":\"2165\"},\"ticker\":{\"id\":\"2135\"}},\"id\":\"2134\",\"type\":\"LinearAxis\"},{\"attributes\":{},\"id\":\"2135\",\"type\":\"BasicTicker\"},{\"attributes\":{},\"id\":\"2140\",\"type\":\"WheelZoomTool\"}],\"root_ids\":[\"2111\",\"2206\"]},\"title\":\"Bokeh Application\",\"version\":\"2.4.1\"}};\n",
       "    var render_items = [{\"docid\":\"f435648f-488d-4673-9bdb-2a43e0e8bee1\",\"root_ids\":[\"2111\"],\"roots\":{\"2111\":\"940b7fc5-2d51-4b0a-8add-e4a4f059d15a\"}}];\n",
       "    root.Bokeh.embed.embed_items_notebook(docs_json, render_items);\n",
       "  }\n",
       "  if (root.Bokeh !== undefined && root.Bokeh.Panel !== undefined && ( root['Tabulator'] !== undefined) && ( root['Tabulator'] !== undefined)) {\n",
       "    embed_document(root);\n",
       "  } else {\n",
       "    var attempts = 0;\n",
       "    var timer = setInterval(function(root) {\n",
       "      if (root.Bokeh !== undefined && root.Bokeh.Panel !== undefined && (root['Tabulator'] !== undefined) && (root['Tabulator'] !== undefined)) {\n",
       "        clearInterval(timer);\n",
       "        embed_document(root);\n",
       "      } else if (document.readyState == \"complete\") {\n",
       "        attempts++;\n",
       "        if (attempts > 200) {\n",
       "          clearInterval(timer);\n",
       "          console.log(\"Bokeh: ERROR: Unable to run BokehJS code because BokehJS library is missing\");\n",
       "        }\n",
       "      }\n",
       "    }, 25, root)\n",
       "  }\n",
       "})(window);</script>"
      ],
      "text/plain": [
       "<hvplot.interactive.Interactive at 0x1dd7b45fe80>"
      ]
     },
     "execution_count": 44,
     "metadata": {
      "application/vnd.holoviews_exec.v0+json": {
       "id": "2111"
      }
     },
     "output_type": "execute_result"
    }
   ],
   "source": [
    "co2_source_bar_plot"
   ]
  },
  {
   "cell_type": "code",
   "execution_count": null,
   "metadata": {
    "azdata_cell_guid": "86df3ffe-3223-4a62-b2e9-70212d90db41",
    "language": "python"
   },
   "outputs": [],
   "source": []
  },
  {
   "cell_type": "code",
   "execution_count": 46,
   "metadata": {
    "azdata_cell_guid": "20b9750e-0cba-4cf6-b490-37d0ac0faebe",
    "language": "python"
   },
   "outputs": [],
   "source": [
    "template = pn.template.FastListTemplate(\n",
    "    title='Countries\\' Greenhouse Gases dashboard', \n",
    "    sidebar=[pn.pane.Markdown(\"# Greenhouse Gases and Climate Change\"), \n",
    "             pn.pane.Markdown(\"#### Greenhouse gases emissions are the primary driver of global climate change. It’s widely recognised that to avoid the worst impacts of climate change, the world needs to urgently reduce emissions. But, how this responsibility is shared between regions, countries, and individuals has been an endless point of contention in international discussions.\"), \n",
    "            \n",
    "             pn.pane.Markdown(\"## Settings\"),   \n",
    "             year_slider],\n",
    "    main=[\n",
    "            pn.Row(pn.Column(Countries_select, Gas_Emission_bar_plot.panel(width=700), margin=(0,25)), Gas_emission_table.panel(width=500)), \n",
    "            pn.Row(pn.Column(CO2_sources_bar_plot.panel(width=700), margin=(0,25)), CO2_sources_table.panel(width=500)), \n",
    "            pn.Row(pn.Column(co2_source_bar_plot.panel(width=700), margin=(0,25)), Country_greenhouse_gases_table.panel(width=500)), \n",
    "           # pn.Row(pn.Column(CO2_sources_bar_plot.panel(width=600), margin=(0,25)), pn.Column(co2_source_bar_plot.panel(width=600)))\n",
    "    ],\n",
    "    accent_base_color=\"#88d8b0\",\n",
    "    header_background=\"#88d8b0\",\n",
    ")\n",
    "# template.show()\n",
    "template.servable();"
   ]
  },
  {
   "cell_type": "code",
   "execution_count": null,
   "metadata": {
    "azdata_cell_guid": "3391e111-0ca2-41c4-b3bf-8d7e131b886f",
    "language": "python"
   },
   "outputs": [],
   "source": []
  },
  {
   "cell_type": "code",
   "execution_count": null,
   "metadata": {
    "azdata_cell_guid": "d24a8ac1-fecb-4652-aec2-d11a929487e9",
    "language": "python"
   },
   "outputs": [],
   "source": []
  }
 ],
 "metadata": {
  "kernelspec": {
   "display_name": "Python 3 (ipykernel)",
   "language": "python",
   "name": "python3"
  },
  "language_info": {
   "codemirror_mode": {
    "name": "ipython",
    "version": 3
   },
   "file_extension": ".py",
   "mimetype": "text/x-python",
   "name": "python",
   "nbconvert_exporter": "python",
   "pygments_lexer": "ipython3",
   "version": "3.9.7"
  }
 },
 "nbformat": 4,
 "nbformat_minor": 4
}
