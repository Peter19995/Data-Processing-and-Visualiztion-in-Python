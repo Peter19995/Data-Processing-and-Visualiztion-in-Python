{
 "cells": [
  {
   "cell_type": "code",
   "execution_count": 38,
   "id": "19b67ef7-332e-4dac-88f2-0092935a5e37",
   "metadata": {},
   "outputs": [
    {
     "data": {
      "application/javascript": [
       "(function(root) {\n",
       "  function now() {\n",
       "    return new Date();\n",
       "  }\n",
       "\n",
       "  var force = true;\n",
       "\n",
       "  if (typeof root._bokeh_onload_callbacks === \"undefined\" || force === true) {\n",
       "    root._bokeh_onload_callbacks = [];\n",
       "    root._bokeh_is_loading = undefined;\n",
       "  }\n",
       "\n",
       "  if (typeof (root._bokeh_timeout) === \"undefined\" || force === true) {\n",
       "    root._bokeh_timeout = Date.now() + 5000;\n",
       "    root._bokeh_failed_load = false;\n",
       "  }\n",
       "\n",
       "  function run_callbacks() {\n",
       "    try {\n",
       "      root._bokeh_onload_callbacks.forEach(function(callback) {\n",
       "        if (callback != null)\n",
       "          callback();\n",
       "      });\n",
       "    } finally {\n",
       "      delete root._bokeh_onload_callbacks\n",
       "    }\n",
       "    console.debug(\"Bokeh: all callbacks have finished\");\n",
       "  }\n",
       "\n",
       "  function load_libs(css_urls, js_urls, js_modules, callback) {\n",
       "    if (css_urls == null) css_urls = [];\n",
       "    if (js_urls == null) js_urls = [];\n",
       "    if (js_modules == null) js_modules = [];\n",
       "\n",
       "    root._bokeh_onload_callbacks.push(callback);\n",
       "    if (root._bokeh_is_loading > 0) {\n",
       "      console.debug(\"Bokeh: BokehJS is being loaded, scheduling callback at\", now());\n",
       "      return null;\n",
       "    }\n",
       "    if (js_urls.length === 0 && js_modules.length === 0) {\n",
       "      run_callbacks();\n",
       "      return null;\n",
       "    }\n",
       "    console.debug(\"Bokeh: BokehJS not loaded, scheduling load and callback at\", now());\n",
       "\n",
       "    function on_load() {\n",
       "      root._bokeh_is_loading--;\n",
       "      if (root._bokeh_is_loading === 0) {\n",
       "        console.debug(\"Bokeh: all BokehJS libraries/stylesheets loaded\");\n",
       "        run_callbacks()\n",
       "      }\n",
       "    }\n",
       "\n",
       "    function on_error() {\n",
       "      console.error(\"failed to load \" + url);\n",
       "    }\n",
       "\n",
       "    for (var i = 0; i < css_urls.length; i++) {\n",
       "      var url = css_urls[i];\n",
       "      const element = document.createElement(\"link\");\n",
       "      element.onload = on_load;\n",
       "      element.onerror = on_error;\n",
       "      element.rel = \"stylesheet\";\n",
       "      element.type = \"text/css\";\n",
       "      element.href = url;\n",
       "      console.debug(\"Bokeh: injecting link tag for BokehJS stylesheet: \", url);\n",
       "      document.body.appendChild(element);\n",
       "    }\n",
       "\n",
       "    var skip = [];\n",
       "    if (window.requirejs) {\n",
       "      window.requirejs.config({'packages': {}, 'paths': {'tabulator': 'https://unpkg.com/tabulator-tables@4.9.3/dist/js/tabulator', 'moment': 'https://cdn.jsdelivr.net/npm/luxon/build/global/luxon.min', 'gridstack': 'https://cdn.jsdelivr.net/npm/gridstack@4.2.5/dist/gridstack-h5', 'notyf': 'https://cdn.jsdelivr.net/npm/notyf@3/notyf.min'}, 'shim': {'gridstack': {'exports': 'GridStack'}}});\n",
       "      require([\"tabulator\"], function(Tabulator) {\n",
       "\twindow.Tabulator = Tabulator\n",
       "\ton_load()\n",
       "      })\n",
       "      require([\"moment\"], function(moment) {\n",
       "\twindow.moment = moment\n",
       "\ton_load()\n",
       "      })\n",
       "      require([\"gridstack\"], function(GridStack) {\n",
       "\twindow.GridStack = GridStack\n",
       "\ton_load()\n",
       "      })\n",
       "      require([\"notyf\"], function() {\n",
       "\ton_load()\n",
       "      })\n",
       "      root._bokeh_is_loading = css_urls.length + 4;\n",
       "    } else {\n",
       "      root._bokeh_is_loading = css_urls.length + js_urls.length + js_modules.length;\n",
       "    }    if (((window['Tabulator'] !== undefined) && (!(window['Tabulator'] instanceof HTMLElement))) || window.requirejs) {\n",
       "      var urls = ['https://unpkg.com/tabulator-tables@4.9.3/dist/js/tabulator.js'];\n",
       "      for (var i = 0; i < urls.length; i++) {\n",
       "        skip.push(urls[i])\n",
       "      }\n",
       "    }    if (((window['moment'] !== undefined) && (!(window['moment'] instanceof HTMLElement))) || window.requirejs) {\n",
       "      var urls = ['https://cdn.jsdelivr.net/npm/luxon/build/global/luxon.min.js'];\n",
       "      for (var i = 0; i < urls.length; i++) {\n",
       "        skip.push(urls[i])\n",
       "      }\n",
       "    }    if (((window['GridStack'] !== undefined) && (!(window['GridStack'] instanceof HTMLElement))) || window.requirejs) {\n",
       "      var urls = ['https://cdn.jsdelivr.net/npm/gridstack@4.2.5/dist/gridstack-h5.js'];\n",
       "      for (var i = 0; i < urls.length; i++) {\n",
       "        skip.push(urls[i])\n",
       "      }\n",
       "    }    if (((window['Notyf'] !== undefined) && (!(window['Notyf'] instanceof HTMLElement))) || window.requirejs) {\n",
       "      var urls = ['https://cdn.jsdelivr.net/npm/notyf@3/notyf.min.js'];\n",
       "      for (var i = 0; i < urls.length; i++) {\n",
       "        skip.push(urls[i])\n",
       "      }\n",
       "    }    for (var i = 0; i < js_urls.length; i++) {\n",
       "      var url = js_urls[i];\n",
       "      if (skip.indexOf(url) >= 0) {\n",
       "\tif (!window.requirejs) {\n",
       "\t  on_load();\n",
       "\t}\n",
       "\tcontinue;\n",
       "      }\n",
       "      var element = document.createElement('script');\n",
       "      element.onload = on_load;\n",
       "      element.onerror = on_error;\n",
       "      element.async = false;\n",
       "      element.src = url;\n",
       "      console.debug(\"Bokeh: injecting script tag for BokehJS library: \", url);\n",
       "      document.head.appendChild(element);\n",
       "    }\n",
       "    for (var i = 0; i < js_modules.length; i++) {\n",
       "      var url = js_modules[i];\n",
       "      if (skip.indexOf(url) >= 0) {\n",
       "\tif (!window.requirejs) {\n",
       "\t  on_load();\n",
       "\t}\n",
       "\tcontinue;\n",
       "      }\n",
       "      var element = document.createElement('script');\n",
       "      element.onload = on_load;\n",
       "      element.onerror = on_error;\n",
       "      element.async = false;\n",
       "      element.src = url;\n",
       "      element.type = \"module\";\n",
       "      console.debug(\"Bokeh: injecting script tag for BokehJS library: \", url);\n",
       "      document.head.appendChild(element);\n",
       "    }\n",
       "    if (!js_urls.length && !js_modules.length) {\n",
       "      on_load()\n",
       "    }\n",
       "  };\n",
       "\n",
       "  function inject_raw_css(css) {\n",
       "    const element = document.createElement(\"style\");\n",
       "    element.appendChild(document.createTextNode(css));\n",
       "    document.body.appendChild(element);\n",
       "  }\n",
       "\n",
       "  var js_urls = [\"https://unpkg.com/tabulator-tables@4.9.3/dist/js/tabulator.js\", \"https://cdn.jsdelivr.net/npm/luxon/build/global/luxon.min.js\", \"https://cdn.bokeh.org/bokeh/release/bokeh-2.4.1.min.js\", \"https://cdn.bokeh.org/bokeh/release/bokeh-gl-2.4.1.min.js\", \"https://cdn.bokeh.org/bokeh/release/bokeh-widgets-2.4.1.min.js\", \"https://cdn.bokeh.org/bokeh/release/bokeh-tables-2.4.1.min.js\", \"https://cdn.bokeh.org/bokeh/release/bokeh-mathjax-2.4.1.min.js\", \"https://cdn.jsdelivr.net/npm/notyf@3/notyf.min.js\", \"https://unpkg.com/@holoviz/panel@0.13.1/dist/panel.min.js\"];\n",
       "  var js_modules = [];\n",
       "  var css_urls = [\"https://unpkg.com/tabulator-tables@4.9.3/dist/css/tabulator_simple.min.css\", \"https://cdn.jsdelivr.net/npm/notyf@3/notyf.min.css\", \"https://cdnjs.cloudflare.com/ajax/libs/font-awesome/5.15.1/css/all.min.css\", \"https://unpkg.com/@holoviz/panel@0.13.1/dist/css/alerts.css\", \"https://unpkg.com/@holoviz/panel@0.13.1/dist/css/card.css\", \"https://unpkg.com/@holoviz/panel@0.13.1/dist/css/dataframe.css\", \"https://unpkg.com/@holoviz/panel@0.13.1/dist/css/debugger.css\", \"https://unpkg.com/@holoviz/panel@0.13.1/dist/css/json.css\", \"https://unpkg.com/@holoviz/panel@0.13.1/dist/css/loading.css\", \"https://unpkg.com/@holoviz/panel@0.13.1/dist/css/markdown.css\", \"https://unpkg.com/@holoviz/panel@0.13.1/dist/css/widgets.css\"];\n",
       "  var inline_js = [    function(Bokeh) {\n",
       "      inject_raw_css(\"\\n    .bk.pn-loading.arcs:before {\\n      background-image: url(\\\"data:image/svg+xml;base64,PHN2ZyB4bWxucz0iaHR0cDovL3d3dy53My5vcmcvMjAwMC9zdmciIHhtbG5zOnhsaW5rPSJodHRwOi8vd3d3LnczLm9yZy8xOTk5L3hsaW5rIiBzdHlsZT0ibWFyZ2luOiBhdXRvOyBiYWNrZ3JvdW5kOiBub25lOyBkaXNwbGF5OiBibG9jazsgc2hhcGUtcmVuZGVyaW5nOiBhdXRvOyIgdmlld0JveD0iMCAwIDEwMCAxMDAiIHByZXNlcnZlQXNwZWN0UmF0aW89InhNaWRZTWlkIj4gIDxjaXJjbGUgY3g9IjUwIiBjeT0iNTAiIHI9IjMyIiBzdHJva2Utd2lkdGg9IjgiIHN0cm9rZT0iI2MzYzNjMyIgc3Ryb2tlLWRhc2hhcnJheT0iNTAuMjY1NDgyNDU3NDM2NjkgNTAuMjY1NDgyNDU3NDM2NjkiIGZpbGw9Im5vbmUiIHN0cm9rZS1saW5lY2FwPSJyb3VuZCI+ICAgIDxhbmltYXRlVHJhbnNmb3JtIGF0dHJpYnV0ZU5hbWU9InRyYW5zZm9ybSIgdHlwZT0icm90YXRlIiByZXBlYXRDb3VudD0iaW5kZWZpbml0ZSIgZHVyPSIxcyIga2V5VGltZXM9IjA7MSIgdmFsdWVzPSIwIDUwIDUwOzM2MCA1MCA1MCI+PC9hbmltYXRlVHJhbnNmb3JtPiAgPC9jaXJjbGU+PC9zdmc+\\\");\\n      background-size: auto calc(min(50%, 400px));\\n    }\\n    \");\n",
       "    },    function(Bokeh) {\n",
       "      Bokeh.set_log_level(\"info\");\n",
       "    },\n",
       "function(Bokeh) {} // ensure no trailing comma for IE\n",
       "  ];\n",
       "\n",
       "  function run_inline_js() {\n",
       "    if ((root.Bokeh !== undefined) || (force === true)) {\n",
       "      for (var i = 0; i < inline_js.length; i++) {\n",
       "        inline_js[i].call(root, root.Bokeh);\n",
       "      }} else if (Date.now() < root._bokeh_timeout) {\n",
       "      setTimeout(run_inline_js, 100);\n",
       "    } else if (!root._bokeh_failed_load) {\n",
       "      console.log(\"Bokeh: BokehJS failed to load within specified timeout.\");\n",
       "      root._bokeh_failed_load = true;\n",
       "    }\n",
       "  }\n",
       "\n",
       "  if (root._bokeh_is_loading === 0) {\n",
       "    console.debug(\"Bokeh: BokehJS loaded, going straight to plotting\");\n",
       "    run_inline_js();\n",
       "  } else {\n",
       "    load_libs(css_urls, js_urls, js_modules, function() {\n",
       "      console.debug(\"Bokeh: BokehJS plotting callback run at\", now());\n",
       "      run_inline_js();\n",
       "    });\n",
       "  }\n",
       "}(window));"
      ],
      "application/vnd.holoviews_load.v0+json": "(function(root) {\n  function now() {\n    return new Date();\n  }\n\n  var force = true;\n\n  if (typeof root._bokeh_onload_callbacks === \"undefined\" || force === true) {\n    root._bokeh_onload_callbacks = [];\n    root._bokeh_is_loading = undefined;\n  }\n\n  if (typeof (root._bokeh_timeout) === \"undefined\" || force === true) {\n    root._bokeh_timeout = Date.now() + 5000;\n    root._bokeh_failed_load = false;\n  }\n\n  function run_callbacks() {\n    try {\n      root._bokeh_onload_callbacks.forEach(function(callback) {\n        if (callback != null)\n          callback();\n      });\n    } finally {\n      delete root._bokeh_onload_callbacks\n    }\n    console.debug(\"Bokeh: all callbacks have finished\");\n  }\n\n  function load_libs(css_urls, js_urls, js_modules, callback) {\n    if (css_urls == null) css_urls = [];\n    if (js_urls == null) js_urls = [];\n    if (js_modules == null) js_modules = [];\n\n    root._bokeh_onload_callbacks.push(callback);\n    if (root._bokeh_is_loading > 0) {\n      console.debug(\"Bokeh: BokehJS is being loaded, scheduling callback at\", now());\n      return null;\n    }\n    if (js_urls.length === 0 && js_modules.length === 0) {\n      run_callbacks();\n      return null;\n    }\n    console.debug(\"Bokeh: BokehJS not loaded, scheduling load and callback at\", now());\n\n    function on_load() {\n      root._bokeh_is_loading--;\n      if (root._bokeh_is_loading === 0) {\n        console.debug(\"Bokeh: all BokehJS libraries/stylesheets loaded\");\n        run_callbacks()\n      }\n    }\n\n    function on_error() {\n      console.error(\"failed to load \" + url);\n    }\n\n    for (var i = 0; i < css_urls.length; i++) {\n      var url = css_urls[i];\n      const element = document.createElement(\"link\");\n      element.onload = on_load;\n      element.onerror = on_error;\n      element.rel = \"stylesheet\";\n      element.type = \"text/css\";\n      element.href = url;\n      console.debug(\"Bokeh: injecting link tag for BokehJS stylesheet: \", url);\n      document.body.appendChild(element);\n    }\n\n    var skip = [];\n    if (window.requirejs) {\n      window.requirejs.config({'packages': {}, 'paths': {'tabulator': 'https://unpkg.com/tabulator-tables@4.9.3/dist/js/tabulator', 'moment': 'https://cdn.jsdelivr.net/npm/luxon/build/global/luxon.min', 'gridstack': 'https://cdn.jsdelivr.net/npm/gridstack@4.2.5/dist/gridstack-h5', 'notyf': 'https://cdn.jsdelivr.net/npm/notyf@3/notyf.min'}, 'shim': {'gridstack': {'exports': 'GridStack'}}});\n      require([\"tabulator\"], function(Tabulator) {\n\twindow.Tabulator = Tabulator\n\ton_load()\n      })\n      require([\"moment\"], function(moment) {\n\twindow.moment = moment\n\ton_load()\n      })\n      require([\"gridstack\"], function(GridStack) {\n\twindow.GridStack = GridStack\n\ton_load()\n      })\n      require([\"notyf\"], function() {\n\ton_load()\n      })\n      root._bokeh_is_loading = css_urls.length + 4;\n    } else {\n      root._bokeh_is_loading = css_urls.length + js_urls.length + js_modules.length;\n    }    if (((window['Tabulator'] !== undefined) && (!(window['Tabulator'] instanceof HTMLElement))) || window.requirejs) {\n      var urls = ['https://unpkg.com/tabulator-tables@4.9.3/dist/js/tabulator.js'];\n      for (var i = 0; i < urls.length; i++) {\n        skip.push(urls[i])\n      }\n    }    if (((window['moment'] !== undefined) && (!(window['moment'] instanceof HTMLElement))) || window.requirejs) {\n      var urls = ['https://cdn.jsdelivr.net/npm/luxon/build/global/luxon.min.js'];\n      for (var i = 0; i < urls.length; i++) {\n        skip.push(urls[i])\n      }\n    }    if (((window['GridStack'] !== undefined) && (!(window['GridStack'] instanceof HTMLElement))) || window.requirejs) {\n      var urls = ['https://cdn.jsdelivr.net/npm/gridstack@4.2.5/dist/gridstack-h5.js'];\n      for (var i = 0; i < urls.length; i++) {\n        skip.push(urls[i])\n      }\n    }    if (((window['Notyf'] !== undefined) && (!(window['Notyf'] instanceof HTMLElement))) || window.requirejs) {\n      var urls = ['https://cdn.jsdelivr.net/npm/notyf@3/notyf.min.js'];\n      for (var i = 0; i < urls.length; i++) {\n        skip.push(urls[i])\n      }\n    }    for (var i = 0; i < js_urls.length; i++) {\n      var url = js_urls[i];\n      if (skip.indexOf(url) >= 0) {\n\tif (!window.requirejs) {\n\t  on_load();\n\t}\n\tcontinue;\n      }\n      var element = document.createElement('script');\n      element.onload = on_load;\n      element.onerror = on_error;\n      element.async = false;\n      element.src = url;\n      console.debug(\"Bokeh: injecting script tag for BokehJS library: \", url);\n      document.head.appendChild(element);\n    }\n    for (var i = 0; i < js_modules.length; i++) {\n      var url = js_modules[i];\n      if (skip.indexOf(url) >= 0) {\n\tif (!window.requirejs) {\n\t  on_load();\n\t}\n\tcontinue;\n      }\n      var element = document.createElement('script');\n      element.onload = on_load;\n      element.onerror = on_error;\n      element.async = false;\n      element.src = url;\n      element.type = \"module\";\n      console.debug(\"Bokeh: injecting script tag for BokehJS library: \", url);\n      document.head.appendChild(element);\n    }\n    if (!js_urls.length && !js_modules.length) {\n      on_load()\n    }\n  };\n\n  function inject_raw_css(css) {\n    const element = document.createElement(\"style\");\n    element.appendChild(document.createTextNode(css));\n    document.body.appendChild(element);\n  }\n\n  var js_urls = [\"https://unpkg.com/tabulator-tables@4.9.3/dist/js/tabulator.js\", \"https://cdn.jsdelivr.net/npm/luxon/build/global/luxon.min.js\", \"https://cdn.bokeh.org/bokeh/release/bokeh-2.4.1.min.js\", \"https://cdn.bokeh.org/bokeh/release/bokeh-gl-2.4.1.min.js\", \"https://cdn.bokeh.org/bokeh/release/bokeh-widgets-2.4.1.min.js\", \"https://cdn.bokeh.org/bokeh/release/bokeh-tables-2.4.1.min.js\", \"https://cdn.bokeh.org/bokeh/release/bokeh-mathjax-2.4.1.min.js\", \"https://cdn.jsdelivr.net/npm/notyf@3/notyf.min.js\", \"https://unpkg.com/@holoviz/panel@0.13.1/dist/panel.min.js\"];\n  var js_modules = [];\n  var css_urls = [\"https://unpkg.com/tabulator-tables@4.9.3/dist/css/tabulator_simple.min.css\", \"https://cdn.jsdelivr.net/npm/notyf@3/notyf.min.css\", \"https://cdnjs.cloudflare.com/ajax/libs/font-awesome/5.15.1/css/all.min.css\", \"https://unpkg.com/@holoviz/panel@0.13.1/dist/css/alerts.css\", \"https://unpkg.com/@holoviz/panel@0.13.1/dist/css/card.css\", \"https://unpkg.com/@holoviz/panel@0.13.1/dist/css/dataframe.css\", \"https://unpkg.com/@holoviz/panel@0.13.1/dist/css/debugger.css\", \"https://unpkg.com/@holoviz/panel@0.13.1/dist/css/json.css\", \"https://unpkg.com/@holoviz/panel@0.13.1/dist/css/loading.css\", \"https://unpkg.com/@holoviz/panel@0.13.1/dist/css/markdown.css\", \"https://unpkg.com/@holoviz/panel@0.13.1/dist/css/widgets.css\"];\n  var inline_js = [    function(Bokeh) {\n      inject_raw_css(\"\\n    .bk.pn-loading.arcs:before {\\n      background-image: url(\\\"data:image/svg+xml;base64,PHN2ZyB4bWxucz0iaHR0cDovL3d3dy53My5vcmcvMjAwMC9zdmciIHhtbG5zOnhsaW5rPSJodHRwOi8vd3d3LnczLm9yZy8xOTk5L3hsaW5rIiBzdHlsZT0ibWFyZ2luOiBhdXRvOyBiYWNrZ3JvdW5kOiBub25lOyBkaXNwbGF5OiBibG9jazsgc2hhcGUtcmVuZGVyaW5nOiBhdXRvOyIgdmlld0JveD0iMCAwIDEwMCAxMDAiIHByZXNlcnZlQXNwZWN0UmF0aW89InhNaWRZTWlkIj4gIDxjaXJjbGUgY3g9IjUwIiBjeT0iNTAiIHI9IjMyIiBzdHJva2Utd2lkdGg9IjgiIHN0cm9rZT0iI2MzYzNjMyIgc3Ryb2tlLWRhc2hhcnJheT0iNTAuMjY1NDgyNDU3NDM2NjkgNTAuMjY1NDgyNDU3NDM2NjkiIGZpbGw9Im5vbmUiIHN0cm9rZS1saW5lY2FwPSJyb3VuZCI+ICAgIDxhbmltYXRlVHJhbnNmb3JtIGF0dHJpYnV0ZU5hbWU9InRyYW5zZm9ybSIgdHlwZT0icm90YXRlIiByZXBlYXRDb3VudD0iaW5kZWZpbml0ZSIgZHVyPSIxcyIga2V5VGltZXM9IjA7MSIgdmFsdWVzPSIwIDUwIDUwOzM2MCA1MCA1MCI+PC9hbmltYXRlVHJhbnNmb3JtPiAgPC9jaXJjbGU+PC9zdmc+\\\");\\n      background-size: auto calc(min(50%, 400px));\\n    }\\n    \");\n    },    function(Bokeh) {\n      Bokeh.set_log_level(\"info\");\n    },\nfunction(Bokeh) {} // ensure no trailing comma for IE\n  ];\n\n  function run_inline_js() {\n    if ((root.Bokeh !== undefined) || (force === true)) {\n      for (var i = 0; i < inline_js.length; i++) {\n        inline_js[i].call(root, root.Bokeh);\n      }} else if (Date.now() < root._bokeh_timeout) {\n      setTimeout(run_inline_js, 100);\n    } else if (!root._bokeh_failed_load) {\n      console.log(\"Bokeh: BokehJS failed to load within specified timeout.\");\n      root._bokeh_failed_load = true;\n    }\n  }\n\n  if (root._bokeh_is_loading === 0) {\n    console.debug(\"Bokeh: BokehJS loaded, going straight to plotting\");\n    run_inline_js();\n  } else {\n    load_libs(css_urls, js_urls, js_modules, function() {\n      console.debug(\"Bokeh: BokehJS plotting callback run at\", now());\n      run_inline_js();\n    });\n  }\n}(window));"
     },
     "metadata": {},
     "output_type": "display_data"
    },
    {
     "data": {
      "application/javascript": [
       "\n",
       "if ((window.PyViz === undefined) || (window.PyViz instanceof HTMLElement)) {\n",
       "  window.PyViz = {comms: {}, comm_status:{}, kernels:{}, receivers: {}, plot_index: []}\n",
       "}\n",
       "\n",
       "\n",
       "    function JupyterCommManager() {\n",
       "    }\n",
       "\n",
       "    JupyterCommManager.prototype.register_target = function(plot_id, comm_id, msg_handler) {\n",
       "      if (window.comm_manager || ((window.Jupyter !== undefined) && (Jupyter.notebook.kernel != null))) {\n",
       "        var comm_manager = window.comm_manager || Jupyter.notebook.kernel.comm_manager;\n",
       "        comm_manager.register_target(comm_id, function(comm) {\n",
       "          comm.on_msg(msg_handler);\n",
       "        });\n",
       "      } else if ((plot_id in window.PyViz.kernels) && (window.PyViz.kernels[plot_id])) {\n",
       "        window.PyViz.kernels[plot_id].registerCommTarget(comm_id, function(comm) {\n",
       "          comm.onMsg = msg_handler;\n",
       "        });\n",
       "      } else if (typeof google != 'undefined' && google.colab.kernel != null) {\n",
       "        google.colab.kernel.comms.registerTarget(comm_id, (comm) => {\n",
       "          var messages = comm.messages[Symbol.asyncIterator]();\n",
       "          function processIteratorResult(result) {\n",
       "            var message = result.value;\n",
       "            console.log(message)\n",
       "            var content = {data: message.data, comm_id};\n",
       "            var buffers = []\n",
       "            for (var buffer of message.buffers || []) {\n",
       "              buffers.push(new DataView(buffer))\n",
       "            }\n",
       "            var metadata = message.metadata || {};\n",
       "            var msg = {content, buffers, metadata}\n",
       "            msg_handler(msg);\n",
       "            return messages.next().then(processIteratorResult);\n",
       "          }\n",
       "          return messages.next().then(processIteratorResult);\n",
       "        })\n",
       "      }\n",
       "    }\n",
       "\n",
       "    JupyterCommManager.prototype.get_client_comm = function(plot_id, comm_id, msg_handler) {\n",
       "      if (comm_id in window.PyViz.comms) {\n",
       "        return window.PyViz.comms[comm_id];\n",
       "      } else if (window.comm_manager || ((window.Jupyter !== undefined) && (Jupyter.notebook.kernel != null))) {\n",
       "        var comm_manager = window.comm_manager || Jupyter.notebook.kernel.comm_manager;\n",
       "        var comm = comm_manager.new_comm(comm_id, {}, {}, {}, comm_id);\n",
       "        if (msg_handler) {\n",
       "          comm.on_msg(msg_handler);\n",
       "        }\n",
       "      } else if ((plot_id in window.PyViz.kernels) && (window.PyViz.kernels[plot_id])) {\n",
       "        var comm = window.PyViz.kernels[plot_id].connectToComm(comm_id);\n",
       "        comm.open();\n",
       "        if (msg_handler) {\n",
       "          comm.onMsg = msg_handler;\n",
       "        }\n",
       "      } else if (typeof google != 'undefined' && google.colab.kernel != null) {\n",
       "        var comm_promise = google.colab.kernel.comms.open(comm_id)\n",
       "        comm_promise.then((comm) => {\n",
       "          window.PyViz.comms[comm_id] = comm;\n",
       "          if (msg_handler) {\n",
       "            var messages = comm.messages[Symbol.asyncIterator]();\n",
       "            function processIteratorResult(result) {\n",
       "              var message = result.value;\n",
       "              var content = {data: message.data};\n",
       "              var metadata = message.metadata || {comm_id};\n",
       "              var msg = {content, metadata}\n",
       "              msg_handler(msg);\n",
       "              return messages.next().then(processIteratorResult);\n",
       "            }\n",
       "            return messages.next().then(processIteratorResult);\n",
       "          }\n",
       "        }) \n",
       "        var sendClosure = (data, metadata, buffers, disposeOnDone) => {\n",
       "          return comm_promise.then((comm) => {\n",
       "            comm.send(data, metadata, buffers, disposeOnDone);\n",
       "          });\n",
       "        };\n",
       "        var comm = {\n",
       "          send: sendClosure\n",
       "        };\n",
       "      }\n",
       "      window.PyViz.comms[comm_id] = comm;\n",
       "      return comm;\n",
       "    }\n",
       "    window.PyViz.comm_manager = new JupyterCommManager();\n",
       "    \n",
       "\n",
       "\n",
       "var JS_MIME_TYPE = 'application/javascript';\n",
       "var HTML_MIME_TYPE = 'text/html';\n",
       "var EXEC_MIME_TYPE = 'application/vnd.holoviews_exec.v0+json';\n",
       "var CLASS_NAME = 'output';\n",
       "\n",
       "/**\n",
       " * Render data to the DOM node\n",
       " */\n",
       "function render(props, node) {\n",
       "  var div = document.createElement(\"div\");\n",
       "  var script = document.createElement(\"script\");\n",
       "  node.appendChild(div);\n",
       "  node.appendChild(script);\n",
       "}\n",
       "\n",
       "/**\n",
       " * Handle when a new output is added\n",
       " */\n",
       "function handle_add_output(event, handle) {\n",
       "  var output_area = handle.output_area;\n",
       "  var output = handle.output;\n",
       "  if ((output.data == undefined) || (!output.data.hasOwnProperty(EXEC_MIME_TYPE))) {\n",
       "    return\n",
       "  }\n",
       "  var id = output.metadata[EXEC_MIME_TYPE][\"id\"];\n",
       "  var toinsert = output_area.element.find(\".\" + CLASS_NAME.split(' ')[0]);\n",
       "  if (id !== undefined) {\n",
       "    var nchildren = toinsert.length;\n",
       "    var html_node = toinsert[nchildren-1].children[0];\n",
       "    html_node.innerHTML = output.data[HTML_MIME_TYPE];\n",
       "    var scripts = [];\n",
       "    var nodelist = html_node.querySelectorAll(\"script\");\n",
       "    for (var i in nodelist) {\n",
       "      if (nodelist.hasOwnProperty(i)) {\n",
       "        scripts.push(nodelist[i])\n",
       "      }\n",
       "    }\n",
       "\n",
       "    scripts.forEach( function (oldScript) {\n",
       "      var newScript = document.createElement(\"script\");\n",
       "      var attrs = [];\n",
       "      var nodemap = oldScript.attributes;\n",
       "      for (var j in nodemap) {\n",
       "        if (nodemap.hasOwnProperty(j)) {\n",
       "          attrs.push(nodemap[j])\n",
       "        }\n",
       "      }\n",
       "      attrs.forEach(function(attr) { newScript.setAttribute(attr.name, attr.value) });\n",
       "      newScript.appendChild(document.createTextNode(oldScript.innerHTML));\n",
       "      oldScript.parentNode.replaceChild(newScript, oldScript);\n",
       "    });\n",
       "    if (JS_MIME_TYPE in output.data) {\n",
       "      toinsert[nchildren-1].children[1].textContent = output.data[JS_MIME_TYPE];\n",
       "    }\n",
       "    output_area._hv_plot_id = id;\n",
       "    if ((window.Bokeh !== undefined) && (id in Bokeh.index)) {\n",
       "      window.PyViz.plot_index[id] = Bokeh.index[id];\n",
       "    } else {\n",
       "      window.PyViz.plot_index[id] = null;\n",
       "    }\n",
       "  } else if (output.metadata[EXEC_MIME_TYPE][\"server_id\"] !== undefined) {\n",
       "    var bk_div = document.createElement(\"div\");\n",
       "    bk_div.innerHTML = output.data[HTML_MIME_TYPE];\n",
       "    var script_attrs = bk_div.children[0].attributes;\n",
       "    for (var i = 0; i < script_attrs.length; i++) {\n",
       "      toinsert[toinsert.length - 1].childNodes[1].setAttribute(script_attrs[i].name, script_attrs[i].value);\n",
       "    }\n",
       "    // store reference to server id on output_area\n",
       "    output_area._bokeh_server_id = output.metadata[EXEC_MIME_TYPE][\"server_id\"];\n",
       "  }\n",
       "}\n",
       "\n",
       "/**\n",
       " * Handle when an output is cleared or removed\n",
       " */\n",
       "function handle_clear_output(event, handle) {\n",
       "  var id = handle.cell.output_area._hv_plot_id;\n",
       "  var server_id = handle.cell.output_area._bokeh_server_id;\n",
       "  if (((id === undefined) || !(id in PyViz.plot_index)) && (server_id !== undefined)) { return; }\n",
       "  var comm = window.PyViz.comm_manager.get_client_comm(\"hv-extension-comm\", \"hv-extension-comm\", function () {});\n",
       "  if (server_id !== null) {\n",
       "    comm.send({event_type: 'server_delete', 'id': server_id});\n",
       "    return;\n",
       "  } else if (comm !== null) {\n",
       "    comm.send({event_type: 'delete', 'id': id});\n",
       "  }\n",
       "  delete PyViz.plot_index[id];\n",
       "  if ((window.Bokeh !== undefined) & (id in window.Bokeh.index)) {\n",
       "    var doc = window.Bokeh.index[id].model.document\n",
       "    doc.clear();\n",
       "    const i = window.Bokeh.documents.indexOf(doc);\n",
       "    if (i > -1) {\n",
       "      window.Bokeh.documents.splice(i, 1);\n",
       "    }\n",
       "  }\n",
       "}\n",
       "\n",
       "/**\n",
       " * Handle kernel restart event\n",
       " */\n",
       "function handle_kernel_cleanup(event, handle) {\n",
       "  delete PyViz.comms[\"hv-extension-comm\"];\n",
       "  window.PyViz.plot_index = {}\n",
       "}\n",
       "\n",
       "/**\n",
       " * Handle update_display_data messages\n",
       " */\n",
       "function handle_update_output(event, handle) {\n",
       "  handle_clear_output(event, {cell: {output_area: handle.output_area}})\n",
       "  handle_add_output(event, handle)\n",
       "}\n",
       "\n",
       "function register_renderer(events, OutputArea) {\n",
       "  function append_mime(data, metadata, element) {\n",
       "    // create a DOM node to render to\n",
       "    var toinsert = this.create_output_subarea(\n",
       "    metadata,\n",
       "    CLASS_NAME,\n",
       "    EXEC_MIME_TYPE\n",
       "    );\n",
       "    this.keyboard_manager.register_events(toinsert);\n",
       "    // Render to node\n",
       "    var props = {data: data, metadata: metadata[EXEC_MIME_TYPE]};\n",
       "    render(props, toinsert[0]);\n",
       "    element.append(toinsert);\n",
       "    return toinsert\n",
       "  }\n",
       "\n",
       "  events.on('output_added.OutputArea', handle_add_output);\n",
       "  events.on('output_updated.OutputArea', handle_update_output);\n",
       "  events.on('clear_output.CodeCell', handle_clear_output);\n",
       "  events.on('delete.Cell', handle_clear_output);\n",
       "  events.on('kernel_ready.Kernel', handle_kernel_cleanup);\n",
       "\n",
       "  OutputArea.prototype.register_mime_type(EXEC_MIME_TYPE, append_mime, {\n",
       "    safe: true,\n",
       "    index: 0\n",
       "  });\n",
       "}\n",
       "\n",
       "if (window.Jupyter !== undefined) {\n",
       "  try {\n",
       "    var events = require('base/js/events');\n",
       "    var OutputArea = require('notebook/js/outputarea').OutputArea;\n",
       "    if (OutputArea.prototype.mime_types().indexOf(EXEC_MIME_TYPE) == -1) {\n",
       "      register_renderer(events, OutputArea);\n",
       "    }\n",
       "  } catch(err) {\n",
       "  }\n",
       "}\n"
      ],
      "application/vnd.holoviews_load.v0+json": "\nif ((window.PyViz === undefined) || (window.PyViz instanceof HTMLElement)) {\n  window.PyViz = {comms: {}, comm_status:{}, kernels:{}, receivers: {}, plot_index: []}\n}\n\n\n    function JupyterCommManager() {\n    }\n\n    JupyterCommManager.prototype.register_target = function(plot_id, comm_id, msg_handler) {\n      if (window.comm_manager || ((window.Jupyter !== undefined) && (Jupyter.notebook.kernel != null))) {\n        var comm_manager = window.comm_manager || Jupyter.notebook.kernel.comm_manager;\n        comm_manager.register_target(comm_id, function(comm) {\n          comm.on_msg(msg_handler);\n        });\n      } else if ((plot_id in window.PyViz.kernels) && (window.PyViz.kernels[plot_id])) {\n        window.PyViz.kernels[plot_id].registerCommTarget(comm_id, function(comm) {\n          comm.onMsg = msg_handler;\n        });\n      } else if (typeof google != 'undefined' && google.colab.kernel != null) {\n        google.colab.kernel.comms.registerTarget(comm_id, (comm) => {\n          var messages = comm.messages[Symbol.asyncIterator]();\n          function processIteratorResult(result) {\n            var message = result.value;\n            console.log(message)\n            var content = {data: message.data, comm_id};\n            var buffers = []\n            for (var buffer of message.buffers || []) {\n              buffers.push(new DataView(buffer))\n            }\n            var metadata = message.metadata || {};\n            var msg = {content, buffers, metadata}\n            msg_handler(msg);\n            return messages.next().then(processIteratorResult);\n          }\n          return messages.next().then(processIteratorResult);\n        })\n      }\n    }\n\n    JupyterCommManager.prototype.get_client_comm = function(plot_id, comm_id, msg_handler) {\n      if (comm_id in window.PyViz.comms) {\n        return window.PyViz.comms[comm_id];\n      } else if (window.comm_manager || ((window.Jupyter !== undefined) && (Jupyter.notebook.kernel != null))) {\n        var comm_manager = window.comm_manager || Jupyter.notebook.kernel.comm_manager;\n        var comm = comm_manager.new_comm(comm_id, {}, {}, {}, comm_id);\n        if (msg_handler) {\n          comm.on_msg(msg_handler);\n        }\n      } else if ((plot_id in window.PyViz.kernels) && (window.PyViz.kernels[plot_id])) {\n        var comm = window.PyViz.kernels[plot_id].connectToComm(comm_id);\n        comm.open();\n        if (msg_handler) {\n          comm.onMsg = msg_handler;\n        }\n      } else if (typeof google != 'undefined' && google.colab.kernel != null) {\n        var comm_promise = google.colab.kernel.comms.open(comm_id)\n        comm_promise.then((comm) => {\n          window.PyViz.comms[comm_id] = comm;\n          if (msg_handler) {\n            var messages = comm.messages[Symbol.asyncIterator]();\n            function processIteratorResult(result) {\n              var message = result.value;\n              var content = {data: message.data};\n              var metadata = message.metadata || {comm_id};\n              var msg = {content, metadata}\n              msg_handler(msg);\n              return messages.next().then(processIteratorResult);\n            }\n            return messages.next().then(processIteratorResult);\n          }\n        }) \n        var sendClosure = (data, metadata, buffers, disposeOnDone) => {\n          return comm_promise.then((comm) => {\n            comm.send(data, metadata, buffers, disposeOnDone);\n          });\n        };\n        var comm = {\n          send: sendClosure\n        };\n      }\n      window.PyViz.comms[comm_id] = comm;\n      return comm;\n    }\n    window.PyViz.comm_manager = new JupyterCommManager();\n    \n\n\nvar JS_MIME_TYPE = 'application/javascript';\nvar HTML_MIME_TYPE = 'text/html';\nvar EXEC_MIME_TYPE = 'application/vnd.holoviews_exec.v0+json';\nvar CLASS_NAME = 'output';\n\n/**\n * Render data to the DOM node\n */\nfunction render(props, node) {\n  var div = document.createElement(\"div\");\n  var script = document.createElement(\"script\");\n  node.appendChild(div);\n  node.appendChild(script);\n}\n\n/**\n * Handle when a new output is added\n */\nfunction handle_add_output(event, handle) {\n  var output_area = handle.output_area;\n  var output = handle.output;\n  if ((output.data == undefined) || (!output.data.hasOwnProperty(EXEC_MIME_TYPE))) {\n    return\n  }\n  var id = output.metadata[EXEC_MIME_TYPE][\"id\"];\n  var toinsert = output_area.element.find(\".\" + CLASS_NAME.split(' ')[0]);\n  if (id !== undefined) {\n    var nchildren = toinsert.length;\n    var html_node = toinsert[nchildren-1].children[0];\n    html_node.innerHTML = output.data[HTML_MIME_TYPE];\n    var scripts = [];\n    var nodelist = html_node.querySelectorAll(\"script\");\n    for (var i in nodelist) {\n      if (nodelist.hasOwnProperty(i)) {\n        scripts.push(nodelist[i])\n      }\n    }\n\n    scripts.forEach( function (oldScript) {\n      var newScript = document.createElement(\"script\");\n      var attrs = [];\n      var nodemap = oldScript.attributes;\n      for (var j in nodemap) {\n        if (nodemap.hasOwnProperty(j)) {\n          attrs.push(nodemap[j])\n        }\n      }\n      attrs.forEach(function(attr) { newScript.setAttribute(attr.name, attr.value) });\n      newScript.appendChild(document.createTextNode(oldScript.innerHTML));\n      oldScript.parentNode.replaceChild(newScript, oldScript);\n    });\n    if (JS_MIME_TYPE in output.data) {\n      toinsert[nchildren-1].children[1].textContent = output.data[JS_MIME_TYPE];\n    }\n    output_area._hv_plot_id = id;\n    if ((window.Bokeh !== undefined) && (id in Bokeh.index)) {\n      window.PyViz.plot_index[id] = Bokeh.index[id];\n    } else {\n      window.PyViz.plot_index[id] = null;\n    }\n  } else if (output.metadata[EXEC_MIME_TYPE][\"server_id\"] !== undefined) {\n    var bk_div = document.createElement(\"div\");\n    bk_div.innerHTML = output.data[HTML_MIME_TYPE];\n    var script_attrs = bk_div.children[0].attributes;\n    for (var i = 0; i < script_attrs.length; i++) {\n      toinsert[toinsert.length - 1].childNodes[1].setAttribute(script_attrs[i].name, script_attrs[i].value);\n    }\n    // store reference to server id on output_area\n    output_area._bokeh_server_id = output.metadata[EXEC_MIME_TYPE][\"server_id\"];\n  }\n}\n\n/**\n * Handle when an output is cleared or removed\n */\nfunction handle_clear_output(event, handle) {\n  var id = handle.cell.output_area._hv_plot_id;\n  var server_id = handle.cell.output_area._bokeh_server_id;\n  if (((id === undefined) || !(id in PyViz.plot_index)) && (server_id !== undefined)) { return; }\n  var comm = window.PyViz.comm_manager.get_client_comm(\"hv-extension-comm\", \"hv-extension-comm\", function () {});\n  if (server_id !== null) {\n    comm.send({event_type: 'server_delete', 'id': server_id});\n    return;\n  } else if (comm !== null) {\n    comm.send({event_type: 'delete', 'id': id});\n  }\n  delete PyViz.plot_index[id];\n  if ((window.Bokeh !== undefined) & (id in window.Bokeh.index)) {\n    var doc = window.Bokeh.index[id].model.document\n    doc.clear();\n    const i = window.Bokeh.documents.indexOf(doc);\n    if (i > -1) {\n      window.Bokeh.documents.splice(i, 1);\n    }\n  }\n}\n\n/**\n * Handle kernel restart event\n */\nfunction handle_kernel_cleanup(event, handle) {\n  delete PyViz.comms[\"hv-extension-comm\"];\n  window.PyViz.plot_index = {}\n}\n\n/**\n * Handle update_display_data messages\n */\nfunction handle_update_output(event, handle) {\n  handle_clear_output(event, {cell: {output_area: handle.output_area}})\n  handle_add_output(event, handle)\n}\n\nfunction register_renderer(events, OutputArea) {\n  function append_mime(data, metadata, element) {\n    // create a DOM node to render to\n    var toinsert = this.create_output_subarea(\n    metadata,\n    CLASS_NAME,\n    EXEC_MIME_TYPE\n    );\n    this.keyboard_manager.register_events(toinsert);\n    // Render to node\n    var props = {data: data, metadata: metadata[EXEC_MIME_TYPE]};\n    render(props, toinsert[0]);\n    element.append(toinsert);\n    return toinsert\n  }\n\n  events.on('output_added.OutputArea', handle_add_output);\n  events.on('output_updated.OutputArea', handle_update_output);\n  events.on('clear_output.CodeCell', handle_clear_output);\n  events.on('delete.Cell', handle_clear_output);\n  events.on('kernel_ready.Kernel', handle_kernel_cleanup);\n\n  OutputArea.prototype.register_mime_type(EXEC_MIME_TYPE, append_mime, {\n    safe: true,\n    index: 0\n  });\n}\n\nif (window.Jupyter !== undefined) {\n  try {\n    var events = require('base/js/events');\n    var OutputArea = require('notebook/js/outputarea').OutputArea;\n    if (OutputArea.prototype.mime_types().indexOf(EXEC_MIME_TYPE) == -1) {\n      register_renderer(events, OutputArea);\n    }\n  } catch(err) {\n  }\n}\n"
     },
     "metadata": {},
     "output_type": "display_data"
    },
    {
     "data": {
      "text/html": [
       "<style>.bk-root, .bk-root .bk:before, .bk-root .bk:after {\n",
       "  font-family: var(--jp-ui-font-size1);\n",
       "  font-size: var(--jp-ui-font-size1);\n",
       "  color: var(--jp-ui-font-color1);\n",
       "}\n",
       "</style>"
      ]
     },
     "metadata": {},
     "output_type": "display_data"
    }
   ],
   "source": [
    "import pyodbc\n",
    "import pandas as pd\n",
    "import datetime as d\n",
    "import seaborn as sns\n",
    "import panel as pn\n",
    "pn.extension('tabulator')\n",
    "\n",
    "import hvplot.pandas"
   ]
  },
  {
   "cell_type": "code",
   "execution_count": 39,
   "id": "89d70caa-d499-4639-b094-28ee1607cb04",
   "metadata": {},
   "outputs": [],
   "source": [
    "conn = pyodbc.connect(\"DRIVER={{SQL Server}};SERVER={0}; database={1};trusted_connection=yes;UID={2};PWD={3}\".format('PETER','CO2DB','sa','peter1490'))\n"
   ]
  },
  {
   "cell_type": "code",
   "execution_count": 40,
   "id": "bffc9521-d8d5-4b88-b358-c4d38126dfc4",
   "metadata": {},
   "outputs": [
    {
     "data": {},
     "metadata": {},
     "output_type": "display_data"
    },
    {
     "data": {
      "application/vnd.holoviews_exec.v0+json": "",
      "text/html": [
       "<div id='2196'>\n",
       "\n",
       "\n",
       "\n",
       "\n",
       "\n",
       "  <div class=\"bk-root\" id=\"0bd6f158-8fad-4975-b76b-27a5f6976e1e\" data-root-id=\"2196\"></div>\n",
       "</div>\n",
       "<script type=\"application/javascript\">(function(root) {\n",
       "  function embed_document(root) {\n",
       "    var docs_json = {\"6f762295-56d6-4db0-abcf-02437fea8c44\":{\"defs\":[{\"extends\":null,\"module\":null,\"name\":\"ReactiveHTML1\",\"overrides\":[],\"properties\":[]},{\"extends\":null,\"module\":null,\"name\":\"FlexBox1\",\"overrides\":[],\"properties\":[{\"default\":\"flex-start\",\"kind\":null,\"name\":\"align_content\"},{\"default\":\"flex-start\",\"kind\":null,\"name\":\"align_items\"},{\"default\":\"row\",\"kind\":null,\"name\":\"flex_direction\"},{\"default\":\"wrap\",\"kind\":null,\"name\":\"flex_wrap\"},{\"default\":\"flex-start\",\"kind\":null,\"name\":\"justify_content\"}]},{\"extends\":null,\"module\":null,\"name\":\"GridStack1\",\"overrides\":[],\"properties\":[{\"default\":\"warn\",\"kind\":null,\"name\":\"mode\"},{\"default\":null,\"kind\":null,\"name\":\"ncols\"},{\"default\":null,\"kind\":null,\"name\":\"nrows\"},{\"default\":true,\"kind\":null,\"name\":\"allow_resize\"},{\"default\":true,\"kind\":null,\"name\":\"allow_drag\"},{\"default\":[],\"kind\":null,\"name\":\"state\"}]},{\"extends\":null,\"module\":null,\"name\":\"click1\",\"overrides\":[],\"properties\":[{\"default\":\"\",\"kind\":null,\"name\":\"terminal_output\"},{\"default\":\"\",\"kind\":null,\"name\":\"debug_name\"},{\"default\":0,\"kind\":null,\"name\":\"clears\"}]},{\"extends\":null,\"module\":null,\"name\":\"NotificationAreaBase1\",\"overrides\":[],\"properties\":[{\"default\":\"bottom-right\",\"kind\":null,\"name\":\"position\"},{\"default\":0,\"kind\":null,\"name\":\"_clear\"}]},{\"extends\":null,\"module\":null,\"name\":\"NotificationArea1\",\"overrides\":[],\"properties\":[{\"default\":[],\"kind\":null,\"name\":\"notifications\"},{\"default\":\"bottom-right\",\"kind\":null,\"name\":\"position\"},{\"default\":0,\"kind\":null,\"name\":\"_clear\"},{\"default\":[{\"background\":\"#ffc107\",\"icon\":{\"className\":\"fas fa-exclamation-triangle\",\"color\":\"white\",\"tagName\":\"i\"},\"type\":\"warning\"},{\"background\":\"#007bff\",\"icon\":{\"className\":\"fas fa-info-circle\",\"color\":\"white\",\"tagName\":\"i\"},\"type\":\"info\"}],\"kind\":null,\"name\":\"types\"}]},{\"extends\":null,\"module\":null,\"name\":\"Notification\",\"overrides\":[],\"properties\":[{\"default\":null,\"kind\":null,\"name\":\"background\"},{\"default\":3000,\"kind\":null,\"name\":\"duration\"},{\"default\":null,\"kind\":null,\"name\":\"icon\"},{\"default\":\"\",\"kind\":null,\"name\":\"message\"},{\"default\":null,\"kind\":null,\"name\":\"notification_type\"},{\"default\":false,\"kind\":null,\"name\":\"_destroyed\"}]},{\"extends\":null,\"module\":null,\"name\":\"TemplateActions1\",\"overrides\":[],\"properties\":[{\"default\":0,\"kind\":null,\"name\":\"open_modal\"},{\"default\":0,\"kind\":null,\"name\":\"close_modal\"}]},{\"extends\":null,\"module\":null,\"name\":\"MaterialTemplateActions1\",\"overrides\":[],\"properties\":[{\"default\":0,\"kind\":null,\"name\":\"open_modal\"},{\"default\":0,\"kind\":null,\"name\":\"close_modal\"}]}],\"roots\":{\"references\":[{\"attributes\":{\"end\":2020,\"margin\":[5,10,5,10],\"start\":1750,\"step\":5,\"title\":\"Year slider\",\"value\":2020},\"id\":\"2196\",\"type\":\"Slider\"},{\"attributes\":{\"client_comm_id\":\"f2106cfa850b452e99600fb1ca28e514\",\"comm_id\":\"e1585b66a0b1424a9767ee18fd1dd976\",\"plot_id\":\"2196\"},\"id\":\"2197\",\"type\":\"panel.models.comm_manager.CommManager\"}],\"root_ids\":[\"2196\",\"2197\"]},\"title\":\"Bokeh Application\",\"version\":\"2.4.1\"}};\n",
       "    var render_items = [{\"docid\":\"6f762295-56d6-4db0-abcf-02437fea8c44\",\"root_ids\":[\"2196\"],\"roots\":{\"2196\":\"0bd6f158-8fad-4975-b76b-27a5f6976e1e\"}}];\n",
       "    root.Bokeh.embed.embed_items_notebook(docs_json, render_items);\n",
       "  }\n",
       "  if (root.Bokeh !== undefined && root.Bokeh.Panel !== undefined && ( root['Tabulator'] !== undefined) && ( root['Tabulator'] !== undefined) && ( root['Tabulator'] !== undefined)) {\n",
       "    embed_document(root);\n",
       "  } else {\n",
       "    var attempts = 0;\n",
       "    var timer = setInterval(function(root) {\n",
       "      if (root.Bokeh !== undefined && root.Bokeh.Panel !== undefined && (root['Tabulator'] !== undefined) && (root['Tabulator'] !== undefined) && (root['Tabulator'] !== undefined)) {\n",
       "        clearInterval(timer);\n",
       "        embed_document(root);\n",
       "      } else if (document.readyState == \"complete\") {\n",
       "        attempts++;\n",
       "        if (attempts > 200) {\n",
       "          clearInterval(timer);\n",
       "          console.log(\"Bokeh: ERROR: Unable to run BokehJS code because BokehJS library is missing\");\n",
       "        }\n",
       "      }\n",
       "    }, 25, root)\n",
       "  }\n",
       "})(window);</script>"
      ],
      "text/plain": [
       "IntSlider(end=2020, name='Year slider', start=1750, step=5, value=2020)"
      ]
     },
     "execution_count": 40,
     "metadata": {
      "application/vnd.holoviews_exec.v0+json": {
       "id": "2196"
      }
     },
     "output_type": "execute_result"
    }
   ],
   "source": [
    "#we get max and min year form our db\n",
    "#max year\n",
    "max_year = pd.read_sql_query(\"EXECUTE GetWidgetsData 0,''\", conn)\n",
    "end_yaer = max_year['max_year'].values[0]\n",
    "\n",
    "#Min Year\n",
    "min_year = pd.read_sql_query(\"EXECUTE GetWidgetsData 1,''\", conn)\n",
    "start_year = min_year['min_year'].values[0]\n",
    "\n",
    "#we create a year slider based on the max and min years\n",
    "year_slider = pn.widgets.IntSlider(name='Year slider', start=int(start_year), end=int(end_yaer), step=5, value=2020)\n",
    "year_slider"
   ]
  },
  {
   "cell_type": "code",
   "execution_count": 41,
   "id": "fb97cc09-187a-48bb-a19a-9bf5e2c9f341",
   "metadata": {},
   "outputs": [
    {
     "data": {},
     "metadata": {},
     "output_type": "display_data"
    },
    {
     "data": {
      "application/vnd.holoviews_exec.v0+json": "",
      "text/html": [
       "<div id='2198'>\n",
       "\n",
       "\n",
       "\n",
       "\n",
       "\n",
       "  <div class=\"bk-root\" id=\"1cbe431f-c1d5-44e6-957c-02d40f8cba03\" data-root-id=\"2198\"></div>\n",
       "</div>\n",
       "<script type=\"application/javascript\">(function(root) {\n",
       "  function embed_document(root) {\n",
       "    var docs_json = {\"09b394e1-f2a0-4855-acf4-ec3b1645f01b\":{\"defs\":[{\"extends\":null,\"module\":null,\"name\":\"ReactiveHTML1\",\"overrides\":[],\"properties\":[]},{\"extends\":null,\"module\":null,\"name\":\"FlexBox1\",\"overrides\":[],\"properties\":[{\"default\":\"flex-start\",\"kind\":null,\"name\":\"align_content\"},{\"default\":\"flex-start\",\"kind\":null,\"name\":\"align_items\"},{\"default\":\"row\",\"kind\":null,\"name\":\"flex_direction\"},{\"default\":\"wrap\",\"kind\":null,\"name\":\"flex_wrap\"},{\"default\":\"flex-start\",\"kind\":null,\"name\":\"justify_content\"}]},{\"extends\":null,\"module\":null,\"name\":\"GridStack1\",\"overrides\":[],\"properties\":[{\"default\":\"warn\",\"kind\":null,\"name\":\"mode\"},{\"default\":null,\"kind\":null,\"name\":\"ncols\"},{\"default\":null,\"kind\":null,\"name\":\"nrows\"},{\"default\":true,\"kind\":null,\"name\":\"allow_resize\"},{\"default\":true,\"kind\":null,\"name\":\"allow_drag\"},{\"default\":[],\"kind\":null,\"name\":\"state\"}]},{\"extends\":null,\"module\":null,\"name\":\"click1\",\"overrides\":[],\"properties\":[{\"default\":\"\",\"kind\":null,\"name\":\"terminal_output\"},{\"default\":\"\",\"kind\":null,\"name\":\"debug_name\"},{\"default\":0,\"kind\":null,\"name\":\"clears\"}]},{\"extends\":null,\"module\":null,\"name\":\"NotificationAreaBase1\",\"overrides\":[],\"properties\":[{\"default\":\"bottom-right\",\"kind\":null,\"name\":\"position\"},{\"default\":0,\"kind\":null,\"name\":\"_clear\"}]},{\"extends\":null,\"module\":null,\"name\":\"NotificationArea1\",\"overrides\":[],\"properties\":[{\"default\":[],\"kind\":null,\"name\":\"notifications\"},{\"default\":\"bottom-right\",\"kind\":null,\"name\":\"position\"},{\"default\":0,\"kind\":null,\"name\":\"_clear\"},{\"default\":[{\"background\":\"#ffc107\",\"icon\":{\"className\":\"fas fa-exclamation-triangle\",\"color\":\"white\",\"tagName\":\"i\"},\"type\":\"warning\"},{\"background\":\"#007bff\",\"icon\":{\"className\":\"fas fa-info-circle\",\"color\":\"white\",\"tagName\":\"i\"},\"type\":\"info\"}],\"kind\":null,\"name\":\"types\"}]},{\"extends\":null,\"module\":null,\"name\":\"Notification\",\"overrides\":[],\"properties\":[{\"default\":null,\"kind\":null,\"name\":\"background\"},{\"default\":3000,\"kind\":null,\"name\":\"duration\"},{\"default\":null,\"kind\":null,\"name\":\"icon\"},{\"default\":\"\",\"kind\":null,\"name\":\"message\"},{\"default\":null,\"kind\":null,\"name\":\"notification_type\"},{\"default\":false,\"kind\":null,\"name\":\"_destroyed\"}]},{\"extends\":null,\"module\":null,\"name\":\"TemplateActions1\",\"overrides\":[],\"properties\":[{\"default\":0,\"kind\":null,\"name\":\"open_modal\"},{\"default\":0,\"kind\":null,\"name\":\"close_modal\"}]},{\"extends\":null,\"module\":null,\"name\":\"MaterialTemplateActions1\",\"overrides\":[],\"properties\":[{\"default\":0,\"kind\":null,\"name\":\"open_modal\"},{\"default\":0,\"kind\":null,\"name\":\"close_modal\"}]}],\"roots\":{\"references\":[{\"attributes\":{\"margin\":[5,10,5,10],\"options\":[[\"carbon dioxide (CO2)\",\"carbon dioxide (CO2)\"],[\"Methane\",\"Methane\"],[\"Nitrous Oxide\",\"Nitrous Oxide\"]],\"title\":\"Gases\",\"value\":\"carbon dioxide (CO2)\"},\"id\":\"2198\",\"type\":\"panel.models.widgets.CustomSelect\"},{\"attributes\":{\"client_comm_id\":\"4b1b24d6a517429c97711aac11f07894\",\"comm_id\":\"7fbd6ce72dd449e48bf459a150cb7f91\",\"plot_id\":\"2198\"},\"id\":\"2199\",\"type\":\"panel.models.comm_manager.CommManager\"}],\"root_ids\":[\"2198\",\"2199\"]},\"title\":\"Bokeh Application\",\"version\":\"2.4.1\"}};\n",
       "    var render_items = [{\"docid\":\"09b394e1-f2a0-4855-acf4-ec3b1645f01b\",\"root_ids\":[\"2198\"],\"roots\":{\"2198\":\"1cbe431f-c1d5-44e6-957c-02d40f8cba03\"}}];\n",
       "    root.Bokeh.embed.embed_items_notebook(docs_json, render_items);\n",
       "  }\n",
       "  if (root.Bokeh !== undefined && root.Bokeh.Panel !== undefined && ( root['Tabulator'] !== undefined) && ( root['Tabulator'] !== undefined) && ( root['Tabulator'] !== undefined)) {\n",
       "    embed_document(root);\n",
       "  } else {\n",
       "    var attempts = 0;\n",
       "    var timer = setInterval(function(root) {\n",
       "      if (root.Bokeh !== undefined && root.Bokeh.Panel !== undefined && (root['Tabulator'] !== undefined) && (root['Tabulator'] !== undefined) && (root['Tabulator'] !== undefined)) {\n",
       "        clearInterval(timer);\n",
       "        embed_document(root);\n",
       "      } else if (document.readyState == \"complete\") {\n",
       "        attempts++;\n",
       "        if (attempts > 200) {\n",
       "          clearInterval(timer);\n",
       "          console.log(\"Bokeh: ERROR: Unable to run BokehJS code because BokehJS library is missing\");\n",
       "        }\n",
       "      }\n",
       "    }, 25, root)\n",
       "  }\n",
       "})(window);</script>"
      ],
      "text/plain": [
       "Select(name='Gases', options={'carbon dioxide (CO2)': '...}, value='carbon dioxide (CO2)')"
      ]
     },
     "execution_count": 41,
     "metadata": {
      "application/vnd.holoviews_exec.v0+json": {
       "id": "2198"
      }
     },
     "output_type": "execute_result"
    }
   ],
   "source": [
    "# We get all gases and their IDs\n",
    "pd_gases=pd.read_sql_query(\"EXECUTE GetWidgetsData 2,''\", conn)\n",
    "\n",
    "#We convert our Dataframe to Dic\n",
    "dic_list = pd.Series(pd_gases.Gas_Name.values,index =pd_gases.Gas_Name).to_dict()\n",
    "\n",
    "#We load the Dic to our Select with IDs as values\n",
    "gas_select = pn.widgets.Select(name='Gases', options=dic_list)\n",
    "gas_select"
   ]
  },
  {
   "cell_type": "code",
   "execution_count": 42,
   "id": "342da11d-2a5d-474e-a0df-31315dbb7615",
   "metadata": {},
   "outputs": [
    {
     "data": {},
     "metadata": {},
     "output_type": "display_data"
    },
    {
     "data": {
      "application/vnd.holoviews_exec.v0+json": "",
      "text/html": [
       "<div id='2200'>\n",
       "\n",
       "\n",
       "\n",
       "\n",
       "\n",
       "  <div class=\"bk-root\" id=\"9d4644d1-e367-47a2-9a3c-986cdfc6cf59\" data-root-id=\"2200\"></div>\n",
       "</div>\n",
       "<script type=\"application/javascript\">(function(root) {\n",
       "  function embed_document(root) {\n",
       "    var docs_json = {\"402b4311-f5de-434e-bb6c-51585fbf3b76\":{\"defs\":[{\"extends\":null,\"module\":null,\"name\":\"ReactiveHTML1\",\"overrides\":[],\"properties\":[]},{\"extends\":null,\"module\":null,\"name\":\"FlexBox1\",\"overrides\":[],\"properties\":[{\"default\":\"flex-start\",\"kind\":null,\"name\":\"align_content\"},{\"default\":\"flex-start\",\"kind\":null,\"name\":\"align_items\"},{\"default\":\"row\",\"kind\":null,\"name\":\"flex_direction\"},{\"default\":\"wrap\",\"kind\":null,\"name\":\"flex_wrap\"},{\"default\":\"flex-start\",\"kind\":null,\"name\":\"justify_content\"}]},{\"extends\":null,\"module\":null,\"name\":\"GridStack1\",\"overrides\":[],\"properties\":[{\"default\":\"warn\",\"kind\":null,\"name\":\"mode\"},{\"default\":null,\"kind\":null,\"name\":\"ncols\"},{\"default\":null,\"kind\":null,\"name\":\"nrows\"},{\"default\":true,\"kind\":null,\"name\":\"allow_resize\"},{\"default\":true,\"kind\":null,\"name\":\"allow_drag\"},{\"default\":[],\"kind\":null,\"name\":\"state\"}]},{\"extends\":null,\"module\":null,\"name\":\"click1\",\"overrides\":[],\"properties\":[{\"default\":\"\",\"kind\":null,\"name\":\"terminal_output\"},{\"default\":\"\",\"kind\":null,\"name\":\"debug_name\"},{\"default\":0,\"kind\":null,\"name\":\"clears\"}]},{\"extends\":null,\"module\":null,\"name\":\"NotificationAreaBase1\",\"overrides\":[],\"properties\":[{\"default\":\"bottom-right\",\"kind\":null,\"name\":\"position\"},{\"default\":0,\"kind\":null,\"name\":\"_clear\"}]},{\"extends\":null,\"module\":null,\"name\":\"NotificationArea1\",\"overrides\":[],\"properties\":[{\"default\":[],\"kind\":null,\"name\":\"notifications\"},{\"default\":\"bottom-right\",\"kind\":null,\"name\":\"position\"},{\"default\":0,\"kind\":null,\"name\":\"_clear\"},{\"default\":[{\"background\":\"#ffc107\",\"icon\":{\"className\":\"fas fa-exclamation-triangle\",\"color\":\"white\",\"tagName\":\"i\"},\"type\":\"warning\"},{\"background\":\"#007bff\",\"icon\":{\"className\":\"fas fa-info-circle\",\"color\":\"white\",\"tagName\":\"i\"},\"type\":\"info\"}],\"kind\":null,\"name\":\"types\"}]},{\"extends\":null,\"module\":null,\"name\":\"Notification\",\"overrides\":[],\"properties\":[{\"default\":null,\"kind\":null,\"name\":\"background\"},{\"default\":3000,\"kind\":null,\"name\":\"duration\"},{\"default\":null,\"kind\":null,\"name\":\"icon\"},{\"default\":\"\",\"kind\":null,\"name\":\"message\"},{\"default\":null,\"kind\":null,\"name\":\"notification_type\"},{\"default\":false,\"kind\":null,\"name\":\"_destroyed\"}]},{\"extends\":null,\"module\":null,\"name\":\"TemplateActions1\",\"overrides\":[],\"properties\":[{\"default\":0,\"kind\":null,\"name\":\"open_modal\"},{\"default\":0,\"kind\":null,\"name\":\"close_modal\"}]},{\"extends\":null,\"module\":null,\"name\":\"MaterialTemplateActions1\",\"overrides\":[],\"properties\":[{\"default\":0,\"kind\":null,\"name\":\"open_modal\"},{\"default\":0,\"kind\":null,\"name\":\"close_modal\"}]}],\"roots\":{\"references\":[{\"attributes\":{\"margin\":[5,10,5,10],\"options\":[[\"44\",\"Cement\"],[\"45\",\"Coal\"],[\"46\",\"Flaring\"],[\"47\",\"Gas\"],[\"48\",\"Oil\"],[\"49\",\"Other_industry\"]],\"title\":\"CO2 Source\",\"value\":\"44\"},\"id\":\"2200\",\"type\":\"panel.models.widgets.CustomSelect\"},{\"attributes\":{\"client_comm_id\":\"1b79dee73c4c40cead8dcd37f2c5315a\",\"comm_id\":\"db71845686974b6ab6d783b376341fc4\",\"plot_id\":\"2200\"},\"id\":\"2201\",\"type\":\"panel.models.comm_manager.CommManager\"}],\"root_ids\":[\"2200\",\"2201\"]},\"title\":\"Bokeh Application\",\"version\":\"2.4.1\"}};\n",
       "    var render_items = [{\"docid\":\"402b4311-f5de-434e-bb6c-51585fbf3b76\",\"root_ids\":[\"2200\"],\"roots\":{\"2200\":\"9d4644d1-e367-47a2-9a3c-986cdfc6cf59\"}}];\n",
       "    root.Bokeh.embed.embed_items_notebook(docs_json, render_items);\n",
       "  }\n",
       "  if (root.Bokeh !== undefined && root.Bokeh.Panel !== undefined && ( root['Tabulator'] !== undefined) && ( root['Tabulator'] !== undefined) && ( root['Tabulator'] !== undefined)) {\n",
       "    embed_document(root);\n",
       "  } else {\n",
       "    var attempts = 0;\n",
       "    var timer = setInterval(function(root) {\n",
       "      if (root.Bokeh !== undefined && root.Bokeh.Panel !== undefined && (root['Tabulator'] !== undefined) && (root['Tabulator'] !== undefined) && (root['Tabulator'] !== undefined)) {\n",
       "        clearInterval(timer);\n",
       "        embed_document(root);\n",
       "      } else if (document.readyState == \"complete\") {\n",
       "        attempts++;\n",
       "        if (attempts > 200) {\n",
       "          clearInterval(timer);\n",
       "          console.log(\"Bokeh: ERROR: Unable to run BokehJS code because BokehJS library is missing\");\n",
       "        }\n",
       "      }\n",
       "    }, 25, root)\n",
       "  }\n",
       "})(window);</script>"
      ],
      "text/plain": [
       "Select(name='CO2 Source', options={'Cement': 44, ...}, value=44)"
      ]
     },
     "execution_count": 42,
     "metadata": {
      "application/vnd.holoviews_exec.v0+json": {
       "id": "2200"
      }
     },
     "output_type": "execute_result"
    }
   ],
   "source": [
    "# We get all Sources of CO2 and their IDs\n",
    "pd_CO2_Sources=pd.read_sql_query(\"EXECUTE GetWidgetsData 3,''\", conn)\n",
    "\n",
    "#We convert our Dataframe to Dic\n",
    "dic_list = pd.Series(pd_CO2_Sources.Source_ID.values,index =pd_CO2_Sources.Sources_Name).to_dict()\n",
    "\n",
    "#We load the Dic to our Select with IDs as values\n",
    "sources_select = pn.widgets.Select(name='CO2 Source', options=dic_list)\n",
    "sources_select"
   ]
  },
  {
   "cell_type": "code",
   "execution_count": 58,
   "id": "64c57c46-dc3d-49a1-832e-11f5edfeafcc",
   "metadata": {},
   "outputs": [
    {
     "data": {},
     "metadata": {},
     "output_type": "display_data"
    },
    {
     "data": {
      "application/vnd.holoviews_exec.v0+json": "",
      "text/html": [
       "<div id='2331'>\n",
       "\n",
       "\n",
       "\n",
       "\n",
       "\n",
       "  <div class=\"bk-root\" id=\"a87624d5-b09d-47b9-813a-3acf10bc0620\" data-root-id=\"2331\"></div>\n",
       "</div>\n",
       "<script type=\"application/javascript\">(function(root) {\n",
       "  function embed_document(root) {\n",
       "    var docs_json = {\"fcae5442-08a7-455d-8cab-612d70c575ed\":{\"defs\":[{\"extends\":null,\"module\":null,\"name\":\"ReactiveHTML1\",\"overrides\":[],\"properties\":[]},{\"extends\":null,\"module\":null,\"name\":\"FlexBox1\",\"overrides\":[],\"properties\":[{\"default\":\"flex-start\",\"kind\":null,\"name\":\"align_content\"},{\"default\":\"flex-start\",\"kind\":null,\"name\":\"align_items\"},{\"default\":\"row\",\"kind\":null,\"name\":\"flex_direction\"},{\"default\":\"wrap\",\"kind\":null,\"name\":\"flex_wrap\"},{\"default\":\"flex-start\",\"kind\":null,\"name\":\"justify_content\"}]},{\"extends\":null,\"module\":null,\"name\":\"GridStack1\",\"overrides\":[],\"properties\":[{\"default\":\"warn\",\"kind\":null,\"name\":\"mode\"},{\"default\":null,\"kind\":null,\"name\":\"ncols\"},{\"default\":null,\"kind\":null,\"name\":\"nrows\"},{\"default\":true,\"kind\":null,\"name\":\"allow_resize\"},{\"default\":true,\"kind\":null,\"name\":\"allow_drag\"},{\"default\":[],\"kind\":null,\"name\":\"state\"}]},{\"extends\":null,\"module\":null,\"name\":\"click1\",\"overrides\":[],\"properties\":[{\"default\":\"\",\"kind\":null,\"name\":\"terminal_output\"},{\"default\":\"\",\"kind\":null,\"name\":\"debug_name\"},{\"default\":0,\"kind\":null,\"name\":\"clears\"}]},{\"extends\":null,\"module\":null,\"name\":\"NotificationAreaBase1\",\"overrides\":[],\"properties\":[{\"default\":\"bottom-right\",\"kind\":null,\"name\":\"position\"},{\"default\":0,\"kind\":null,\"name\":\"_clear\"}]},{\"extends\":null,\"module\":null,\"name\":\"NotificationArea1\",\"overrides\":[],\"properties\":[{\"default\":[],\"kind\":null,\"name\":\"notifications\"},{\"default\":\"bottom-right\",\"kind\":null,\"name\":\"position\"},{\"default\":0,\"kind\":null,\"name\":\"_clear\"},{\"default\":[{\"background\":\"#ffc107\",\"icon\":{\"className\":\"fas fa-exclamation-triangle\",\"color\":\"white\",\"tagName\":\"i\"},\"type\":\"warning\"},{\"background\":\"#007bff\",\"icon\":{\"className\":\"fas fa-info-circle\",\"color\":\"white\",\"tagName\":\"i\"},\"type\":\"info\"}],\"kind\":null,\"name\":\"types\"}]},{\"extends\":null,\"module\":null,\"name\":\"Notification\",\"overrides\":[],\"properties\":[{\"default\":null,\"kind\":null,\"name\":\"background\"},{\"default\":3000,\"kind\":null,\"name\":\"duration\"},{\"default\":null,\"kind\":null,\"name\":\"icon\"},{\"default\":\"\",\"kind\":null,\"name\":\"message\"},{\"default\":null,\"kind\":null,\"name\":\"notification_type\"},{\"default\":false,\"kind\":null,\"name\":\"_destroyed\"}]},{\"extends\":null,\"module\":null,\"name\":\"TemplateActions1\",\"overrides\":[],\"properties\":[{\"default\":0,\"kind\":null,\"name\":\"open_modal\"},{\"default\":0,\"kind\":null,\"name\":\"close_modal\"}]},{\"extends\":null,\"module\":null,\"name\":\"MaterialTemplateActions1\",\"overrides\":[],\"properties\":[{\"default\":0,\"kind\":null,\"name\":\"open_modal\"},{\"default\":0,\"kind\":null,\"name\":\"close_modal\"}]}],\"roots\":{\"references\":[{\"attributes\":{\"client_comm_id\":\"97d3a22577d540669dba2f6afedbf0a8\",\"comm_id\":\"4cc6906b0ae94188a4f0b108b88aef9e\",\"plot_id\":\"2331\"},\"id\":\"2332\",\"type\":\"panel.models.comm_manager.CommManager\"},{\"attributes\":{\"completions\":[\"Afghanistan\",\"Albania\",\"Algeria\",\"Andorra\",\"Angola\",\"Anguilla\",\"Antarctica\",\"Antigua and Barbuda\",\"Argentina\",\"Armenia\",\"Aruba\",\"Australia\",\"Austria\",\"Azerbaijan\",\"Bahamas\",\"Bahrain\",\"Bangladesh\",\"Barbados\",\"Belarus\",\"Belgium\",\"Belize\",\"Benin\",\"Bermuda\",\"Bhutan\",\"Bolivia\",\"Bonaire Sint Eustatius and Saba\",\"Bosnia and Herzegovina\",\"Botswana\",\"Brazil\",\"British Virgin Islands\",\"Brunei\",\"Bulgaria\",\"Burkina Faso\",\"Burundi\",\"Cambodia\",\"Cameroon\",\"Canada\",\"Cape Verde\",\"Central African Republic\",\"Chad\",\"Chile\",\"China\",\"Christmas Island\",\"Colombia\",\"Comoros\",\"Congo\",\"Cook Islands\",\"Costa Rica\",\"Cote d'Ivoire\",\"Croatia\",\"Cuba\",\"Curacao\",\"Cyprus\",\"Czechia\",\"Democratic Republic of Congo\",\"Denmark\",\"Djibouti\",\"Dominica\",\"Dominican Republic\",\"Ecuador\",\"Egypt\",\"El Salvador\",\"Equatorial Guinea\",\"Eritrea\",\"Estonia\",\"Eswatini\",\"Ethiopia\",\"Faeroe Islands\",\"Fiji\",\"Finland\",\"France\",\"French Guiana\",\"French Polynesia\",\"Gabon\",\"Gambia\",\"Georgia\",\"Germany\",\"Ghana\",\"Greece\",\"Greenland\",\"Grenada\",\"Guadeloupe\",\"Guatemala\",\"Guinea\",\"Guinea-Bissau\",\"Guyana\",\"Haiti\",\"Honduras\",\"Hong Kong\",\"Hungary\",\"Iceland\",\"India\",\"Indonesia\",\"Iran\",\"Iraq\",\"Ireland\",\"Israel\",\"Italy\",\"Jamaica\",\"Japan\",\"Jordan\",\"Kazakhstan\",\"Kenya\",\"Kiribati\",\"Kosovo\",\"Kuwait\",\"Kyrgyzstan\",\"Laos\",\"Latvia\",\"Lebanon\",\"Lesotho\",\"Liberia\",\"Libya\",\"Liechtenstein\",\"Lithuania\",\"Luxembourg\",\"Madagascar\",\"Malawi\",\"Malaysia\",\"Maldives\",\"Mali\",\"Malta\",\"Marshall Islands\",\"Martinique\",\"Mauritania\",\"Mauritius\",\"Mayotte\",\"Mexico\",\"Moldova\",\"Mongolia\",\"Montenegro\",\"Montserrat\",\"Morocco\",\"Mozambique\",\"Myanmar\",\"Namibia\",\"Nauru\",\"Nepal\",\"Netherlands\",\"New Caledonia\",\"New Zealand\",\"Nicaragua\",\"Niger\",\"Nigeria\",\"Niue\",\"North Korea\",\"North Macedonia\",\"Norway\",\"Oman\",\"Pakistan\",\"Palau\",\"Palestine\",\"Panama\",\"Papua New Guinea\",\"Paraguay\",\"Peru\",\"Philippines\",\"Poland\",\"Portugal\",\"Puerto Rico\",\"Qatar\",\"Romania\",\"Russia\",\"Rwanda\",\"Saint Helena\",\"Saint Kitts and Nevis\",\"Saint Lucia\",\"Saint Pierre and Miquelon\",\"Saint Vincent and the Grenadines\",\"Samoa\",\"Sao Tome and Principe\",\"Saudi Arabia\",\"Senegal\",\"Serbia\",\"Seychelles\",\"Sierra Leone\",\"Singapore\",\"Sint Maarten (Dutch part)\",\"Slovakia\",\"Slovenia\",\"Solomon Islands\",\"Somalia\",\"South Africa\",\"South Korea\",\"South Sudan\",\"Spain\",\"Sri Lanka\",\"Sudan\",\"Suriname\",\"Sweden\",\"Switzerland\",\"Syria\",\"Taiwan\",\"Tajikistan\",\"Tanzania\",\"Thailand\",\"Timor\",\"Togo\",\"Tonga\",\"Trinidad and Tobago\",\"Tunisia\",\"Turkey\",\"Turkmenistan\",\"Turks and Caicos Islands\",\"Tuvalu\",\"Uganda\",\"Ukraine\",\"United Arab Emirates\",\"United Kingdom\",\"United States\",\"Uruguay\",\"Uzbekistan\",\"Vanuatu\",\"Venezuela\",\"Vietnam\",\"World\",\"Yemen\",\"Zambia\",\"Zimbabwe\"],\"margin\":[5,10,5,10],\"placeholder\":\"Enter Name of the country\",\"title\":\"Countries\",\"value\":\"United Kingdom\"},\"id\":\"2331\",\"type\":\"AutocompleteInput\"}],\"root_ids\":[\"2331\",\"2332\"]},\"title\":\"Bokeh Application\",\"version\":\"2.4.1\"}};\n",
       "    var render_items = [{\"docid\":\"fcae5442-08a7-455d-8cab-612d70c575ed\",\"root_ids\":[\"2331\"],\"roots\":{\"2331\":\"a87624d5-b09d-47b9-813a-3acf10bc0620\"}}];\n",
       "    root.Bokeh.embed.embed_items_notebook(docs_json, render_items);\n",
       "  }\n",
       "  if (root.Bokeh !== undefined && root.Bokeh.Panel !== undefined && ( root['Tabulator'] !== undefined) && ( root['Tabulator'] !== undefined) && ( root['Tabulator'] !== undefined)) {\n",
       "    embed_document(root);\n",
       "  } else {\n",
       "    var attempts = 0;\n",
       "    var timer = setInterval(function(root) {\n",
       "      if (root.Bokeh !== undefined && root.Bokeh.Panel !== undefined && (root['Tabulator'] !== undefined) && (root['Tabulator'] !== undefined) && (root['Tabulator'] !== undefined)) {\n",
       "        clearInterval(timer);\n",
       "        embed_document(root);\n",
       "      } else if (document.readyState == \"complete\") {\n",
       "        attempts++;\n",
       "        if (attempts > 200) {\n",
       "          clearInterval(timer);\n",
       "          console.log(\"Bokeh: ERROR: Unable to run BokehJS code because BokehJS library is missing\");\n",
       "        }\n",
       "      }\n",
       "    }, 25, root)\n",
       "  }\n",
       "})(window);</script>"
      ],
      "text/plain": [
       "AutocompleteInput(name='Countries', options=['Afghanistan', ...], placeholder='Enter Name of t..., value='United Kingdom')"
      ]
     },
     "execution_count": 58,
     "metadata": {
      "application/vnd.holoviews_exec.v0+json": {
       "id": "2331"
      }
     },
     "output_type": "execute_result"
    }
   ],
   "source": [
    "# We get all Countries and their IDs\n",
    "pd_Countries=pd.read_sql_query(\"EXECUTE GetWidgetsData 4,''\", conn)\n",
    "\n",
    "#We convert the countries into a list\n",
    "Countries_list  = list(pd_Countries['Country_Name'])\n",
    "Countries_select = pn.widgets.AutocompleteInput(\n",
    "    name='Countries', \n",
    "    options=Countries_list,\n",
    "    placeholder='Enter Name of the country',\n",
    "value=\"United Kingdom\")\n",
    "Countries_select"
   ]
  },
  {
   "cell_type": "code",
   "execution_count": 59,
   "id": "bdc634b4-78a2-467c-b4aa-44e43df0b1ec",
   "metadata": {},
   "outputs": [],
   "source": [
    "pd_Country_stas=pd.read_sql_query(\"EXECUTE GetCountryGreenHouseGases 0,''\", conn)\n"
   ]
  },
  {
   "cell_type": "code",
   "execution_count": 60,
   "id": "224b7c7f-90a4-441a-a317-44a7e077d631",
   "metadata": {},
   "outputs": [],
   "source": [
    "Ipd_Country_stas = pd_Country_stas.interactive()\n"
   ]
  },
  {
   "cell_type": "code",
   "execution_count": 61,
   "id": "da0bf3d0-7943-4aad-9092-793a4298c6c0",
   "metadata": {},
   "outputs": [],
   "source": [
    "Country_gas_emission_pipe = (Ipd_Country_stas[\n",
    "    (Ipd_Country_stas.Year <= year_slider ) \n",
    "    & (Ipd_Country_stas.Country_Name == Countries_select )\n",
    "   \n",
    "]\n",
    "                             .groupby(['Country_Name','Year','Gas_Name'])['Amount']\n",
    "                             .sum()\n",
    "                             .to_frame()\n",
    "                             .reset_index()\n",
    "                             .sort_values(by='Year')  \n",
    "                             .reset_index(drop=True)\n",
    "\n",
    "                            )"
   ]
  },
  {
   "cell_type": "code",
   "execution_count": 62,
   "id": "adcdbb7c-445f-4081-888e-ddd3d13ce274",
   "metadata": {},
   "outputs": [
    {
     "data": {},
     "metadata": {},
     "output_type": "display_data"
    },
    {
     "data": {
      "application/vnd.holoviews_exec.v0+json": "",
      "text/html": [
       "<div id='2333'>\n",
       "\n",
       "\n",
       "\n",
       "\n",
       "\n",
       "  <div class=\"bk-root\" id=\"dd99a9fe-3d82-4b62-bb4e-03c0566fe939\" data-root-id=\"2333\"></div>\n",
       "</div>\n",
       "<script type=\"application/javascript\">(function(root) {\n",
       "  function embed_document(root) {\n",
       "    var docs_json = {\"432ee03a-f4d8-4414-ae0b-edb428480516\":{\"defs\":[{\"extends\":null,\"module\":null,\"name\":\"ReactiveHTML1\",\"overrides\":[],\"properties\":[]},{\"extends\":null,\"module\":null,\"name\":\"FlexBox1\",\"overrides\":[],\"properties\":[{\"default\":\"flex-start\",\"kind\":null,\"name\":\"align_content\"},{\"default\":\"flex-start\",\"kind\":null,\"name\":\"align_items\"},{\"default\":\"row\",\"kind\":null,\"name\":\"flex_direction\"},{\"default\":\"wrap\",\"kind\":null,\"name\":\"flex_wrap\"},{\"default\":\"flex-start\",\"kind\":null,\"name\":\"justify_content\"}]},{\"extends\":null,\"module\":null,\"name\":\"GridStack1\",\"overrides\":[],\"properties\":[{\"default\":\"warn\",\"kind\":null,\"name\":\"mode\"},{\"default\":null,\"kind\":null,\"name\":\"ncols\"},{\"default\":null,\"kind\":null,\"name\":\"nrows\"},{\"default\":true,\"kind\":null,\"name\":\"allow_resize\"},{\"default\":true,\"kind\":null,\"name\":\"allow_drag\"},{\"default\":[],\"kind\":null,\"name\":\"state\"}]},{\"extends\":null,\"module\":null,\"name\":\"click1\",\"overrides\":[],\"properties\":[{\"default\":\"\",\"kind\":null,\"name\":\"terminal_output\"},{\"default\":\"\",\"kind\":null,\"name\":\"debug_name\"},{\"default\":0,\"kind\":null,\"name\":\"clears\"}]},{\"extends\":null,\"module\":null,\"name\":\"NotificationAreaBase1\",\"overrides\":[],\"properties\":[{\"default\":\"bottom-right\",\"kind\":null,\"name\":\"position\"},{\"default\":0,\"kind\":null,\"name\":\"_clear\"}]},{\"extends\":null,\"module\":null,\"name\":\"NotificationArea1\",\"overrides\":[],\"properties\":[{\"default\":[],\"kind\":null,\"name\":\"notifications\"},{\"default\":\"bottom-right\",\"kind\":null,\"name\":\"position\"},{\"default\":0,\"kind\":null,\"name\":\"_clear\"},{\"default\":[{\"background\":\"#ffc107\",\"icon\":{\"className\":\"fas fa-exclamation-triangle\",\"color\":\"white\",\"tagName\":\"i\"},\"type\":\"warning\"},{\"background\":\"#007bff\",\"icon\":{\"className\":\"fas fa-info-circle\",\"color\":\"white\",\"tagName\":\"i\"},\"type\":\"info\"}],\"kind\":null,\"name\":\"types\"}]},{\"extends\":null,\"module\":null,\"name\":\"Notification\",\"overrides\":[],\"properties\":[{\"default\":null,\"kind\":null,\"name\":\"background\"},{\"default\":3000,\"kind\":null,\"name\":\"duration\"},{\"default\":null,\"kind\":null,\"name\":\"icon\"},{\"default\":\"\",\"kind\":null,\"name\":\"message\"},{\"default\":null,\"kind\":null,\"name\":\"notification_type\"},{\"default\":false,\"kind\":null,\"name\":\"_destroyed\"}]},{\"extends\":null,\"module\":null,\"name\":\"TemplateActions1\",\"overrides\":[],\"properties\":[{\"default\":0,\"kind\":null,\"name\":\"open_modal\"},{\"default\":0,\"kind\":null,\"name\":\"close_modal\"}]},{\"extends\":null,\"module\":null,\"name\":\"MaterialTemplateActions1\",\"overrides\":[],\"properties\":[{\"default\":0,\"kind\":null,\"name\":\"open_modal\"},{\"default\":0,\"kind\":null,\"name\":\"close_modal\"}]}],\"roots\":{\"references\":[{\"attributes\":{\"margin\":[5,5,5,5],\"name\":\"HSpacer11686\",\"sizing_mode\":\"stretch_width\"},\"id\":\"2339\",\"type\":\"Spacer\"},{\"attributes\":{\"data\":{\"Amount\":{\"__ndarray__\":\"AAAAAAAAAAAAAAAAAAAAAMHKoUW2syJAAAAAAAAAAAAAAAAAAAAAAMHKoUW2syJAAAAAAAAAAAAAAAAAAAAAAGiR7Xw/tSJAAAAAAAAAAAA=\",\"dtype\":\"float64\",\"order\":\"little\",\"shape\":[10]},\"Country_Name\":[\"United Kingdom\",\"United Kingdom\",\"United Kingdom\",\"United Kingdom\",\"United Kingdom\",\"United Kingdom\",\"United Kingdom\",\"United Kingdom\",\"United Kingdom\",\"United Kingdom\"],\"Gas_Name\":[\"Methane\",\"Nitrous Oxide\",\"carbon dioxide (CO2)\",\"Methane\",\"Nitrous Oxide\",\"carbon dioxide (CO2)\",\"Methane\",\"Nitrous Oxide\",\"carbon dioxide (CO2)\",\"Methane\"],\"Year\":[1750,1750,1750,1751,1751,1751,1752,1752,1752,1753],\"index\":[0,1,2,3,4,5,6,7,8,9]},\"selected\":{\"id\":\"2342\"},\"selection_policy\":{\"id\":\"2371\"}},\"id\":\"2341\",\"type\":\"ColumnDataSource\"},{\"attributes\":{},\"id\":\"2350\",\"type\":\"StringEditor\"},{\"attributes\":{\"text_align\":\"left\"},\"id\":\"2343\",\"type\":\"NumberFormatter\"},{\"attributes\":{\"children\":[{\"id\":\"2369\"}],\"margin\":[0,0,0,0],\"name\":\"Row11651\"},\"id\":\"2340\",\"type\":\"Row\"},{\"attributes\":{\"format\":\"0,0.0[00000]\",\"text_align\":\"right\"},\"id\":\"2364\",\"type\":\"NumberFormatter\"},{\"attributes\":{\"children\":[{\"id\":\"2336\"},{\"id\":\"2339\"}],\"margin\":[0,0,0,0],\"name\":\"Row11687\"},\"id\":\"2335\",\"type\":\"Row\"},{\"attributes\":{},\"id\":\"2355\",\"type\":\"IntEditor\"},{\"attributes\":{\"completions\":[\"Afghanistan\",\"Albania\",\"Algeria\",\"Andorra\",\"Angola\",\"Anguilla\",\"Antarctica\",\"Antigua and Barbuda\",\"Argentina\",\"Armenia\",\"Aruba\",\"Australia\",\"Austria\",\"Azerbaijan\",\"Bahamas\",\"Bahrain\",\"Bangladesh\",\"Barbados\",\"Belarus\",\"Belgium\",\"Belize\",\"Benin\",\"Bermuda\",\"Bhutan\",\"Bolivia\",\"Bonaire Sint Eustatius and Saba\",\"Bosnia and Herzegovina\",\"Botswana\",\"Brazil\",\"British Virgin Islands\",\"Brunei\",\"Bulgaria\",\"Burkina Faso\",\"Burundi\",\"Cambodia\",\"Cameroon\",\"Canada\",\"Cape Verde\",\"Central African Republic\",\"Chad\",\"Chile\",\"China\",\"Christmas Island\",\"Colombia\",\"Comoros\",\"Congo\",\"Cook Islands\",\"Costa Rica\",\"Cote d'Ivoire\",\"Croatia\",\"Cuba\",\"Curacao\",\"Cyprus\",\"Czechia\",\"Democratic Republic of Congo\",\"Denmark\",\"Djibouti\",\"Dominica\",\"Dominican Republic\",\"Ecuador\",\"Egypt\",\"El Salvador\",\"Equatorial Guinea\",\"Eritrea\",\"Estonia\",\"Eswatini\",\"Ethiopia\",\"Faeroe Islands\",\"Fiji\",\"Finland\",\"France\",\"French Guiana\",\"French Polynesia\",\"Gabon\",\"Gambia\",\"Georgia\",\"Germany\",\"Ghana\",\"Greece\",\"Greenland\",\"Grenada\",\"Guadeloupe\",\"Guatemala\",\"Guinea\",\"Guinea-Bissau\",\"Guyana\",\"Haiti\",\"Honduras\",\"Hong Kong\",\"Hungary\",\"Iceland\",\"India\",\"Indonesia\",\"Iran\",\"Iraq\",\"Ireland\",\"Israel\",\"Italy\",\"Jamaica\",\"Japan\",\"Jordan\",\"Kazakhstan\",\"Kenya\",\"Kiribati\",\"Kosovo\",\"Kuwait\",\"Kyrgyzstan\",\"Laos\",\"Latvia\",\"Lebanon\",\"Lesotho\",\"Liberia\",\"Libya\",\"Liechtenstein\",\"Lithuania\",\"Luxembourg\",\"Madagascar\",\"Malawi\",\"Malaysia\",\"Maldives\",\"Mali\",\"Malta\",\"Marshall Islands\",\"Martinique\",\"Mauritania\",\"Mauritius\",\"Mayotte\",\"Mexico\",\"Moldova\",\"Mongolia\",\"Montenegro\",\"Montserrat\",\"Morocco\",\"Mozambique\",\"Myanmar\",\"Namibia\",\"Nauru\",\"Nepal\",\"Netherlands\",\"New Caledonia\",\"New Zealand\",\"Nicaragua\",\"Niger\",\"Nigeria\",\"Niue\",\"North Korea\",\"North Macedonia\",\"Norway\",\"Oman\",\"Pakistan\",\"Palau\",\"Palestine\",\"Panama\",\"Papua New Guinea\",\"Paraguay\",\"Peru\",\"Philippines\",\"Poland\",\"Portugal\",\"Puerto Rico\",\"Qatar\",\"Romania\",\"Russia\",\"Rwanda\",\"Saint Helena\",\"Saint Kitts and Nevis\",\"Saint Lucia\",\"Saint Pierre and Miquelon\",\"Saint Vincent and the Grenadines\",\"Samoa\",\"Sao Tome and Principe\",\"Saudi Arabia\",\"Senegal\",\"Serbia\",\"Seychelles\",\"Sierra Leone\",\"Singapore\",\"Sint Maarten (Dutch part)\",\"Slovakia\",\"Slovenia\",\"Solomon Islands\",\"Somalia\",\"South Africa\",\"South Korea\",\"South Sudan\",\"Spain\",\"Sri Lanka\",\"Sudan\",\"Suriname\",\"Sweden\",\"Switzerland\",\"Syria\",\"Taiwan\",\"Tajikistan\",\"Tanzania\",\"Thailand\",\"Timor\",\"Togo\",\"Tonga\",\"Trinidad and Tobago\",\"Tunisia\",\"Turkey\",\"Turkmenistan\",\"Turks and Caicos Islands\",\"Tuvalu\",\"Uganda\",\"Ukraine\",\"United Arab Emirates\",\"United Kingdom\",\"United States\",\"Uruguay\",\"Uzbekistan\",\"Vanuatu\",\"Venezuela\",\"Vietnam\",\"World\",\"Yemen\",\"Zambia\",\"Zimbabwe\"],\"margin\":[5,10,5,10],\"placeholder\":\"Enter Name of the country\",\"title\":\"Countries\",\"value\":\"United Kingdom\"},\"id\":\"2338\",\"type\":\"AutocompleteInput\"},{\"attributes\":{},\"id\":\"2360\",\"type\":\"StringEditor\"},{\"attributes\":{\"editor\":{\"id\":\"2360\"},\"field\":\"Gas_Name\",\"formatter\":{\"id\":\"2359\"},\"title\":\"Gas_Name\",\"width\":0},\"id\":\"2361\",\"type\":\"TableColumn\"},{\"attributes\":{\"children\":[{\"id\":\"2334\"}],\"margin\":[0,0,0,0],\"name\":\"Row11689\"},\"id\":\"2333\",\"type\":\"Row\"},{\"attributes\":{},\"id\":\"2345\",\"type\":\"CellEditor\"},{\"attributes\":{\"end\":2020,\"margin\":[5,10,5,10],\"start\":1750,\"step\":5,\"title\":\"Year slider\",\"value\":2020},\"id\":\"2337\",\"type\":\"Slider\"},{\"attributes\":{},\"id\":\"2371\",\"type\":\"UnionRenderers\"},{\"attributes\":{\"text_align\":\"right\"},\"id\":\"2354\",\"type\":\"NumberFormatter\"},{\"attributes\":{\"indices\":[]},\"id\":\"2342\",\"type\":\"Selection\"},{\"attributes\":{\"editor\":{\"id\":\"2345\"},\"field\":\"index\",\"formatter\":{\"id\":\"2343\"},\"title\":\"index\",\"width\":0},\"id\":\"2346\",\"type\":\"TableColumn\"},{\"attributes\":{},\"id\":\"2349\",\"type\":\"StringFormatter\"},{\"attributes\":{\"editor\":{\"id\":\"2350\"},\"field\":\"Country_Name\",\"formatter\":{\"id\":\"2349\"},\"title\":\"Country_Name\",\"width\":0},\"id\":\"2351\",\"type\":\"TableColumn\"},{\"attributes\":{\"children\":[{\"id\":\"2337\"},{\"id\":\"2338\"}],\"margin\":[0,0,0,0],\"name\":\"Column11646\"},\"id\":\"2336\",\"type\":\"Column\"},{\"attributes\":{\"client_comm_id\":\"c36e580feee0445784e4a4b69a39fd2b\",\"comm_id\":\"25e4435edd884a8a86a3ecb6bf8b08c2\",\"plot_id\":\"2333\"},\"id\":\"2377\",\"type\":\"panel.models.comm_manager.CommManager\"},{\"attributes\":{\"editor\":{\"id\":\"2355\"},\"field\":\"Year\",\"formatter\":{\"id\":\"2354\"},\"title\":\"Year\",\"width\":0},\"id\":\"2356\",\"type\":\"TableColumn\"},{\"attributes\":{\"editor\":{\"id\":\"2365\"},\"field\":\"Amount\",\"formatter\":{\"id\":\"2364\"},\"title\":\"Amount\",\"width\":0},\"id\":\"2366\",\"type\":\"TableColumn\"},{\"attributes\":{\"columns\":[{\"id\":\"2346\"},{\"id\":\"2351\"},{\"id\":\"2356\"},{\"id\":\"2361\"},{\"id\":\"2366\"}],\"configuration\":{\"columns\":[{\"field\":\"index\"},{\"field\":\"Country_Name\"},{\"field\":\"Year\"},{\"field\":\"Gas_Name\"},{\"field\":\"Amount\"}],\"dataTree\":false,\"selectable\":true},\"indexes\":[\"index\"],\"layout\":\"fit_data_table\",\"margin\":[5,10,5,10],\"max_page\":82,\"name\":\"\",\"page\":1,\"page_size\":10,\"pagination\":\"remote\",\"select_mode\":true,\"selectable_rows\":null,\"sizing_mode\":\"stretch_width\",\"source\":{\"id\":\"2341\"},\"styles\":{\"data\":{},\"id\":\"ce865c0a7ad14172b293adc3ae6afe14\"},\"subscribed_events\":[\"table-edit\",\"cell-click\"]},\"id\":\"2369\",\"type\":\"panel.models.tabulator.DataTabulator\"},{\"attributes\":{},\"id\":\"2365\",\"type\":\"NumberEditor\"},{\"attributes\":{},\"id\":\"2359\",\"type\":\"StringFormatter\"},{\"attributes\":{\"children\":[{\"id\":\"2335\"},{\"id\":\"2340\"}],\"margin\":[0,0,0,0],\"name\":\"Column11688\"},\"id\":\"2334\",\"type\":\"Column\"}],\"root_ids\":[\"2333\",\"2377\"]},\"title\":\"Bokeh Application\",\"version\":\"2.4.1\"}};\n",
       "    var render_items = [{\"docid\":\"432ee03a-f4d8-4414-ae0b-edb428480516\",\"root_ids\":[\"2333\"],\"roots\":{\"2333\":\"dd99a9fe-3d82-4b62-bb4e-03c0566fe939\"}}];\n",
       "    root.Bokeh.embed.embed_items_notebook(docs_json, render_items);\n",
       "  }\n",
       "  if (root.Bokeh !== undefined && root.Bokeh.Panel !== undefined && ( root['Tabulator'] !== undefined) && ( root['Tabulator'] !== undefined) && ( root['Tabulator'] !== undefined)) {\n",
       "    embed_document(root);\n",
       "  } else {\n",
       "    var attempts = 0;\n",
       "    var timer = setInterval(function(root) {\n",
       "      if (root.Bokeh !== undefined && root.Bokeh.Panel !== undefined && (root['Tabulator'] !== undefined) && (root['Tabulator'] !== undefined) && (root['Tabulator'] !== undefined)) {\n",
       "        clearInterval(timer);\n",
       "        embed_document(root);\n",
       "      } else if (document.readyState == \"complete\") {\n",
       "        attempts++;\n",
       "        if (attempts > 200) {\n",
       "          clearInterval(timer);\n",
       "          console.log(\"Bokeh: ERROR: Unable to run BokehJS code because BokehJS library is missing\");\n",
       "        }\n",
       "      }\n",
       "    }, 25, root)\n",
       "  }\n",
       "})(window);</script>"
      ],
      "text/plain": [
       "<hvplot.interactive.Interactive at 0x27fdcbc4bb0>"
      ]
     },
     "execution_count": 62,
     "metadata": {
      "application/vnd.holoviews_exec.v0+json": {
       "id": "2333"
      }
     },
     "output_type": "execute_result"
    }
   ],
   "source": [
    "Gas_emission_table = Country_gas_emission_pipe.pipe(pn.widgets.Tabulator, pagination='remote', page_size = 10, sizing_mode='stretch_width') \n",
    "Gas_emission_table"
   ]
  },
  {
   "cell_type": "code",
   "execution_count": 63,
   "id": "c3a5d215-4654-4609-8701-2464a53574eb",
   "metadata": {},
   "outputs": [],
   "source": [
    "Gas_Emission_bar_plot = Country_gas_emission_pipe.hvplot(kind='line', \n",
    "                                                     x='Year', \n",
    "                                                     y='Amount', \n",
    "                                                     title='Gas Emission',\n",
    "                                                     by='Gas_Name',\n",
    "                                                    )"
   ]
  },
  {
   "cell_type": "code",
   "execution_count": 64,
   "id": "b628b4ef-6bdc-4132-9d35-607baf7f445c",
   "metadata": {},
   "outputs": [
    {
     "data": {},
     "metadata": {},
     "output_type": "display_data"
    },
    {
     "data": {},
     "metadata": {},
     "output_type": "display_data"
    },
    {
     "data": {
      "application/vnd.holoviews_exec.v0+json": "",
      "text/html": [
       "<div id='2388'>\n",
       "\n",
       "\n",
       "\n",
       "\n",
       "\n",
       "  <div class=\"bk-root\" id=\"5757e4c3-dd8c-4d62-9141-26c6dc3e0f13\" data-root-id=\"2388\"></div>\n",
       "</div>\n",
       "<script type=\"application/javascript\">(function(root) {\n",
       "  function embed_document(root) {\n",
       "    var docs_json = {\"cdbd6039-d613-44ae-bde0-ec7f116bda3d\":{\"defs\":[{\"extends\":null,\"module\":null,\"name\":\"ReactiveHTML1\",\"overrides\":[],\"properties\":[]},{\"extends\":null,\"module\":null,\"name\":\"FlexBox1\",\"overrides\":[],\"properties\":[{\"default\":\"flex-start\",\"kind\":null,\"name\":\"align_content\"},{\"default\":\"flex-start\",\"kind\":null,\"name\":\"align_items\"},{\"default\":\"row\",\"kind\":null,\"name\":\"flex_direction\"},{\"default\":\"wrap\",\"kind\":null,\"name\":\"flex_wrap\"},{\"default\":\"flex-start\",\"kind\":null,\"name\":\"justify_content\"}]},{\"extends\":null,\"module\":null,\"name\":\"GridStack1\",\"overrides\":[],\"properties\":[{\"default\":\"warn\",\"kind\":null,\"name\":\"mode\"},{\"default\":null,\"kind\":null,\"name\":\"ncols\"},{\"default\":null,\"kind\":null,\"name\":\"nrows\"},{\"default\":true,\"kind\":null,\"name\":\"allow_resize\"},{\"default\":true,\"kind\":null,\"name\":\"allow_drag\"},{\"default\":[],\"kind\":null,\"name\":\"state\"}]},{\"extends\":null,\"module\":null,\"name\":\"click1\",\"overrides\":[],\"properties\":[{\"default\":\"\",\"kind\":null,\"name\":\"terminal_output\"},{\"default\":\"\",\"kind\":null,\"name\":\"debug_name\"},{\"default\":0,\"kind\":null,\"name\":\"clears\"}]},{\"extends\":null,\"module\":null,\"name\":\"NotificationAreaBase1\",\"overrides\":[],\"properties\":[{\"default\":\"bottom-right\",\"kind\":null,\"name\":\"position\"},{\"default\":0,\"kind\":null,\"name\":\"_clear\"}]},{\"extends\":null,\"module\":null,\"name\":\"NotificationArea1\",\"overrides\":[],\"properties\":[{\"default\":[],\"kind\":null,\"name\":\"notifications\"},{\"default\":\"bottom-right\",\"kind\":null,\"name\":\"position\"},{\"default\":0,\"kind\":null,\"name\":\"_clear\"},{\"default\":[{\"background\":\"#ffc107\",\"icon\":{\"className\":\"fas fa-exclamation-triangle\",\"color\":\"white\",\"tagName\":\"i\"},\"type\":\"warning\"},{\"background\":\"#007bff\",\"icon\":{\"className\":\"fas fa-info-circle\",\"color\":\"white\",\"tagName\":\"i\"},\"type\":\"info\"}],\"kind\":null,\"name\":\"types\"}]},{\"extends\":null,\"module\":null,\"name\":\"Notification\",\"overrides\":[],\"properties\":[{\"default\":null,\"kind\":null,\"name\":\"background\"},{\"default\":3000,\"kind\":null,\"name\":\"duration\"},{\"default\":null,\"kind\":null,\"name\":\"icon\"},{\"default\":\"\",\"kind\":null,\"name\":\"message\"},{\"default\":null,\"kind\":null,\"name\":\"notification_type\"},{\"default\":false,\"kind\":null,\"name\":\"_destroyed\"}]},{\"extends\":null,\"module\":null,\"name\":\"TemplateActions1\",\"overrides\":[],\"properties\":[{\"default\":0,\"kind\":null,\"name\":\"open_modal\"},{\"default\":0,\"kind\":null,\"name\":\"close_modal\"}]},{\"extends\":null,\"module\":null,\"name\":\"MaterialTemplateActions1\",\"overrides\":[],\"properties\":[{\"default\":0,\"kind\":null,\"name\":\"open_modal\"},{\"default\":0,\"kind\":null,\"name\":\"close_modal\"}]}],\"roots\":{\"references\":[{\"attributes\":{},\"id\":\"2438\",\"type\":\"Selection\"},{\"attributes\":{\"data\":{\"Amount\":{\"__ndarray__\":\"AAAAAAAAAAAAAAAAAAAAAAAAAAAAAAAAAAAAAAAAAAAAAAAAAAAAAAAAAAAAAAAAAAAAAAAAAAAAAAAAAAAAAAAAAAAAAAAAAAAAAAAAAAAAAAAAAAAAAAAAAAAAAAAAAAAAAAAAAAAAAAAAAAAAAAAAAAAAAAAAAAAAAAAAAAAAAAAAAAAAAAAAAAAAAAAAAAAAAAAAAAAAAAAAAAAAAAAAAAAAAAAAAAAAAAAAAAAAAAAAAAAAAAAAAAAAAAAAAAAAAAAAAAAAAAAAAAAAAAAAAAAAAAAAAAAAAAAAAAAAAAAAAAAAAAAAAAAAAAAAAAAAAAAAAAAAAAAAAAAAAAAAAAAAAAAAAAAAAAAAAAAAAAAAAAAAAAAAAAAAAAAAAAAAAAAAAAAAAAAAAAAAAAAAAAAAAAAAAAAAAAAAAAAAAAAAAAAAAAAAAAAAAAAAAAAAAAAAAAAAAAAAAAAAAAAAAAAAAAAAAAAAAAAAAAAAAAAAAAAAAAAAAAAAAAAAAAAAAAAAAAAAAAAAAAAAAAAAAAAAAAAAAAAAAAAAAAAAAAAAAAAAAAAAAAAAAAAAAAAAAAAAAAAAAAAAAAAAAAAAAAAAAAAAAAAAAAAAAAAAAAAAAAAAAAAAAAAAAAAAAAAAAAAAAAAAAAAAAAAAAAAAAAAAAAAAAAAAAAAAAAAAAAAAAAAAAAAAAAAAAAAAAAAAAAAAAAAAAAAAAAAAAAAAAAAAAAAAAAAAAAAAAAAAAAAAAAAAAAAAAAAAAAAAAAAAAAAAAAAAAAAAAAAAAAAAAAAAAAAAAAAAAAAAAAAAAAAAAAAAAAAAAAAAAAAAAAAAAAAAAAAAAAAAAAAAAAAAAAAAAAAAAAAAAAAAAAAAAAAAAAAAAAAAAAAAAAAAAAAAAAAAAAAAAAAAAAAAAAAAAAAAAAAAAAAAAAAAAAAAAAAAAAAAAAAAAAAAAAAAAAAAAAAAAAAAAAAAAAAAAAAAAAAAAAAAAAAAAAAAAAAAAAAAAAAAAAAAAAAAAAAAAAAAAAAAAAAAAAAAAAAAAAAAAAAAAAAAAAAAAAAAAAAAAAAAAAAAAAAAAAAAAAAAAAAAAAAAAAAAAAAAAAAAAAAAAAAAAAAAAAAAAAAAAAAAAAAAAAAAAAAAAAAAAAAAAAAAAAAAAAAAAAAAAAAAAAAAAAAAAAAAAAAAAAAAAAAAAAAAAAAAAAAAAAAAAAAAAAAAAAAAAAAAAAAAAAAAAAAAAAAAAAAAAAAAAAAAAAAAAAAAAAAAAAAAAAAAAAAAAAAAAAAAAAAAAAAAAAAAAAAAAAAAAAAAAAAAAAAAAAAAAAAAAAAAAAAAAAAAAAAAAAAAAAAAAAAAAAAAAAAAAAAAAAAAAAAAAAAAAAAAAAAAAAAAAAAAAAAAAAAAAAAAAAAAAAAAAAAAAAAAAAAAAAAAAAAAAAAAAAAAAAAAAAAAAAAAAAAAAAAAAAAAAAAAAAAAAAAAAAAAAAAAAAAAAAAAAAAAAAAAAAAAAAAAAAAAAAAAAAAAAAAAAAAAAAAAAAAAAAAAAAAAAAAAAAAAAAAAAAAAAAAAAAAAAAAAAAAAAAAAAAAAAAAAAAAAAAAAAAAAAAAAAAAAAAAAAAAAAAAAAAAAAAAAAAAAAAAAAAAAAAAAAAAAAAAAAAAAAAAAAAAAAAAAAAAAAAAAAAAAAAAAAAAAAAAAAAAAAAAAAAAAAAAAAAAAAAAAAAAAAAAAAAAAAAAAAAAAAAAAAAAAAAAAAAAAAAAAAAAAAAAAAAAAAAAAAAAAAAAAAAAAAAAAAAAAAAAAAAAAAAAAAAAAAAAAAAAAAAAAAAAAAAAAAAAAAAAAAAAAAAAAAAAAAAAAAAAAAAAAAAAAAAAAAAAAAAAAAAAAAAAAAAAAAAAAAAAAAAAAAAAAAAAAAAAAAAAAAAAAAAAAAAAAAAAAAAAAAAAAAAAAAAAAAAAAAAAAAAAAAAAAAAAAAAAAAAAAAAAAAAAAAAAAAAAAAAAAAAAAAAAAAAAAAAAAAAAAAAAAAAAAAAAAAAAAAAAAAAAAAAAAAAAAAAAAAAAAAAAAAAAAAAAAAAAAAAAAAAAAAAAAAAAAAAAAAAAAAAAAAAAAAAAAAAAAAAAAAAAAAAAAAAAAAAAAAAAAAAAAAAAAAAAAAAAAAAAAAAAAAAAAAAAAAAAAAAAAAAAAAAAAAAAAAAAAAAAAAAAAAAAAAAAAAAAAAAAAAAAAAAAAAAAAAAAAAAAAAAAAAAAAAAAAAAAAAAAAAAAAAAAAAAAAAAAAAAAAAAAAAAAAAAAAAAAAAAAAAAAAAAAAAAAAAAAAAAAAAAAAAAAAAAAAAAAAAAAAAAAAAAAAAAAAAAAAAAAAAAAAAAAAAAAAAAAAAAAAAAAAAAAAAAAAAAAAAAAAAAAAAAAAAAAAAAAAAAAAAAAAAAAAAAAAAAAAAAAAAAAAAAAAAAAAAAAAAAAAAAAAAAAAAAAAAAAAAAAAAAAAAAAAAAAAAAAAAAAAAAAAAAAAAAAAAAAAAAAAAAAAAAAAAAAAAAAAAAAAAAAAAAAAAAAAAAAAAAAA4XoUrkehSkCPwvUoXK9KQB+F61G4fkhAmpmZmZmZRkBxPQrXo7BGQIXrUbgeBUZASOF6FK7nRUAK16NwPepFQClcj8L1CEZA9ihcj8I1QUCPwvUoXE9BQOxRuB6F60BAUrgehevRP0AK16NwPco/QHE9CtejUEBAZmZmZmbmP0BI4XoUrkc/QI/C9Shcjz9ACtejcD0KP0CPwvUoXE89QD0K16NwfT1AexSuR+F6PECPwvUoXI88QI/C9ShcTzxA16NwPQpXPED2KFyPwnU8QEjhehSuRzxASOF6FK5HPEAK16NwPUo8QAAAAAAAAAAAAAAAAAAAAAA=\",\"dtype\":\"float64\",\"order\":\"little\",\"shape\":[271]},\"Gas_Name\":[\"Nitrous Oxide\",\"Nitrous Oxide\",\"Nitrous Oxide\",\"Nitrous Oxide\",\"Nitrous Oxide\",\"Nitrous Oxide\",\"Nitrous Oxide\",\"Nitrous Oxide\",\"Nitrous Oxide\",\"Nitrous Oxide\",\"Nitrous Oxide\",\"Nitrous Oxide\",\"Nitrous Oxide\",\"Nitrous Oxide\",\"Nitrous Oxide\",\"Nitrous Oxide\",\"Nitrous Oxide\",\"Nitrous Oxide\",\"Nitrous Oxide\",\"Nitrous Oxide\",\"Nitrous Oxide\",\"Nitrous Oxide\",\"Nitrous Oxide\",\"Nitrous Oxide\",\"Nitrous Oxide\",\"Nitrous Oxide\",\"Nitrous Oxide\",\"Nitrous Oxide\",\"Nitrous Oxide\",\"Nitrous Oxide\",\"Nitrous Oxide\",\"Nitrous Oxide\",\"Nitrous Oxide\",\"Nitrous Oxide\",\"Nitrous Oxide\",\"Nitrous Oxide\",\"Nitrous Oxide\",\"Nitrous Oxide\",\"Nitrous Oxide\",\"Nitrous Oxide\",\"Nitrous Oxide\",\"Nitrous Oxide\",\"Nitrous Oxide\",\"Nitrous Oxide\",\"Nitrous Oxide\",\"Nitrous Oxide\",\"Nitrous Oxide\",\"Nitrous Oxide\",\"Nitrous Oxide\",\"Nitrous Oxide\",\"Nitrous Oxide\",\"Nitrous Oxide\",\"Nitrous Oxide\",\"Nitrous Oxide\",\"Nitrous Oxide\",\"Nitrous Oxide\",\"Nitrous Oxide\",\"Nitrous Oxide\",\"Nitrous Oxide\",\"Nitrous Oxide\",\"Nitrous Oxide\",\"Nitrous Oxide\",\"Nitrous Oxide\",\"Nitrous Oxide\",\"Nitrous Oxide\",\"Nitrous Oxide\",\"Nitrous Oxide\",\"Nitrous Oxide\",\"Nitrous Oxide\",\"Nitrous Oxide\",\"Nitrous Oxide\",\"Nitrous Oxide\",\"Nitrous Oxide\",\"Nitrous Oxide\",\"Nitrous Oxide\",\"Nitrous Oxide\",\"Nitrous Oxide\",\"Nitrous Oxide\",\"Nitrous Oxide\",\"Nitrous Oxide\",\"Nitrous Oxide\",\"Nitrous Oxide\",\"Nitrous Oxide\",\"Nitrous Oxide\",\"Nitrous Oxide\",\"Nitrous Oxide\",\"Nitrous Oxide\",\"Nitrous Oxide\",\"Nitrous Oxide\",\"Nitrous Oxide\",\"Nitrous Oxide\",\"Nitrous Oxide\",\"Nitrous Oxide\",\"Nitrous Oxide\",\"Nitrous Oxide\",\"Nitrous Oxide\",\"Nitrous Oxide\",\"Nitrous Oxide\",\"Nitrous Oxide\",\"Nitrous Oxide\",\"Nitrous Oxide\",\"Nitrous Oxide\",\"Nitrous Oxide\",\"Nitrous Oxide\",\"Nitrous Oxide\",\"Nitrous Oxide\",\"Nitrous Oxide\",\"Nitrous Oxide\",\"Nitrous Oxide\",\"Nitrous Oxide\",\"Nitrous Oxide\",\"Nitrous Oxide\",\"Nitrous Oxide\",\"Nitrous Oxide\",\"Nitrous Oxide\",\"Nitrous Oxide\",\"Nitrous Oxide\",\"Nitrous Oxide\",\"Nitrous Oxide\",\"Nitrous Oxide\",\"Nitrous Oxide\",\"Nitrous Oxide\",\"Nitrous Oxide\",\"Nitrous Oxide\",\"Nitrous Oxide\",\"Nitrous Oxide\",\"Nitrous Oxide\",\"Nitrous Oxide\",\"Nitrous Oxide\",\"Nitrous Oxide\",\"Nitrous Oxide\",\"Nitrous Oxide\",\"Nitrous Oxide\",\"Nitrous Oxide\",\"Nitrous Oxide\",\"Nitrous Oxide\",\"Nitrous Oxide\",\"Nitrous Oxide\",\"Nitrous Oxide\",\"Nitrous Oxide\",\"Nitrous Oxide\",\"Nitrous Oxide\",\"Nitrous Oxide\",\"Nitrous Oxide\",\"Nitrous Oxide\",\"Nitrous Oxide\",\"Nitrous Oxide\",\"Nitrous Oxide\",\"Nitrous Oxide\",\"Nitrous Oxide\",\"Nitrous Oxide\",\"Nitrous Oxide\",\"Nitrous Oxide\",\"Nitrous Oxide\",\"Nitrous Oxide\",\"Nitrous Oxide\",\"Nitrous Oxide\",\"Nitrous Oxide\",\"Nitrous Oxide\",\"Nitrous Oxide\",\"Nitrous Oxide\",\"Nitrous Oxide\",\"Nitrous Oxide\",\"Nitrous Oxide\",\"Nitrous Oxide\",\"Nitrous Oxide\",\"Nitrous Oxide\",\"Nitrous Oxide\",\"Nitrous Oxide\",\"Nitrous Oxide\",\"Nitrous Oxide\",\"Nitrous Oxide\",\"Nitrous Oxide\",\"Nitrous Oxide\",\"Nitrous Oxide\",\"Nitrous Oxide\",\"Nitrous Oxide\",\"Nitrous Oxide\",\"Nitrous Oxide\",\"Nitrous Oxide\",\"Nitrous Oxide\",\"Nitrous Oxide\",\"Nitrous Oxide\",\"Nitrous Oxide\",\"Nitrous Oxide\",\"Nitrous Oxide\",\"Nitrous Oxide\",\"Nitrous Oxide\",\"Nitrous Oxide\",\"Nitrous Oxide\",\"Nitrous Oxide\",\"Nitrous Oxide\",\"Nitrous Oxide\",\"Nitrous Oxide\",\"Nitrous Oxide\",\"Nitrous Oxide\",\"Nitrous Oxide\",\"Nitrous Oxide\",\"Nitrous Oxide\",\"Nitrous Oxide\",\"Nitrous Oxide\",\"Nitrous Oxide\",\"Nitrous Oxide\",\"Nitrous Oxide\",\"Nitrous Oxide\",\"Nitrous Oxide\",\"Nitrous Oxide\",\"Nitrous Oxide\",\"Nitrous Oxide\",\"Nitrous Oxide\",\"Nitrous Oxide\",\"Nitrous Oxide\",\"Nitrous Oxide\",\"Nitrous Oxide\",\"Nitrous Oxide\",\"Nitrous Oxide\",\"Nitrous Oxide\",\"Nitrous Oxide\",\"Nitrous Oxide\",\"Nitrous Oxide\",\"Nitrous Oxide\",\"Nitrous Oxide\",\"Nitrous Oxide\",\"Nitrous Oxide\",\"Nitrous Oxide\",\"Nitrous Oxide\",\"Nitrous Oxide\",\"Nitrous Oxide\",\"Nitrous Oxide\",\"Nitrous Oxide\",\"Nitrous Oxide\",\"Nitrous Oxide\",\"Nitrous Oxide\",\"Nitrous Oxide\",\"Nitrous Oxide\",\"Nitrous Oxide\",\"Nitrous Oxide\",\"Nitrous Oxide\",\"Nitrous Oxide\",\"Nitrous Oxide\",\"Nitrous Oxide\",\"Nitrous Oxide\",\"Nitrous Oxide\",\"Nitrous Oxide\",\"Nitrous Oxide\",\"Nitrous Oxide\",\"Nitrous Oxide\",\"Nitrous Oxide\",\"Nitrous Oxide\",\"Nitrous Oxide\",\"Nitrous Oxide\",\"Nitrous Oxide\",\"Nitrous Oxide\",\"Nitrous Oxide\",\"Nitrous Oxide\",\"Nitrous Oxide\",\"Nitrous Oxide\",\"Nitrous Oxide\",\"Nitrous Oxide\",\"Nitrous Oxide\",\"Nitrous Oxide\",\"Nitrous Oxide\",\"Nitrous Oxide\",\"Nitrous Oxide\",\"Nitrous Oxide\",\"Nitrous Oxide\",\"Nitrous Oxide\",\"Nitrous Oxide\",\"Nitrous Oxide\",\"Nitrous Oxide\",\"Nitrous Oxide\"],\"Year\":[1750,1751,1752,1753,1754,1755,1756,1757,1758,1759,1760,1761,1762,1763,1764,1765,1766,1767,1768,1769,1770,1771,1772,1773,1774,1775,1776,1777,1778,1779,1780,1781,1782,1783,1784,1785,1786,1787,1788,1789,1790,1791,1792,1793,1794,1795,1796,1797,1798,1799,1800,1801,1802,1803,1804,1805,1806,1807,1808,1809,1810,1811,1812,1813,1814,1815,1816,1817,1818,1819,1820,1821,1822,1823,1824,1825,1826,1827,1828,1829,1830,1831,1832,1833,1834,1835,1836,1837,1838,1839,1840,1841,1842,1843,1844,1845,1846,1847,1848,1849,1850,1851,1852,1853,1854,1855,1856,1857,1858,1859,1860,1861,1862,1863,1864,1865,1866,1867,1868,1869,1870,1871,1872,1873,1874,1875,1876,1877,1878,1879,1880,1881,1882,1883,1884,1885,1886,1887,1888,1889,1890,1891,1892,1893,1894,1895,1896,1897,1898,1899,1900,1901,1902,1903,1904,1905,1906,1907,1908,1909,1910,1911,1912,1913,1914,1915,1916,1917,1918,1919,1920,1921,1922,1923,1924,1925,1926,1927,1928,1929,1930,1931,1932,1933,1934,1935,1936,1937,1938,1939,1940,1941,1942,1943,1944,1945,1946,1947,1948,1949,1950,1951,1952,1953,1954,1955,1956,1957,1958,1959,1960,1961,1962,1963,1964,1965,1966,1967,1968,1969,1970,1971,1972,1973,1974,1975,1976,1977,1978,1979,1980,1981,1982,1983,1984,1985,1986,1987,1988,1989,1990,1991,1992,1993,1994,1995,1996,1997,1998,1999,2000,2001,2002,2003,2004,2005,2006,2007,2008,2009,2010,2011,2012,2013,2014,2015,2016,2017,2018,2019,2020]},\"selected\":{\"id\":\"2459\"},\"selection_policy\":{\"id\":\"2475\"}},\"id\":\"2458\",\"type\":\"ColumnDataSource\"},{\"attributes\":{\"overlay\":{\"id\":\"2423\"}},\"id\":\"2421\",\"type\":\"BoxZoomTool\"},{\"attributes\":{\"children\":[{\"id\":\"2391\"},{\"id\":\"2394\"}],\"margin\":[0,0,0,0],\"name\":\"Row12161\"},\"id\":\"2390\",\"type\":\"Row\"},{\"attributes\":{},\"id\":\"2499\",\"type\":\"UnionRenderers\"},{\"attributes\":{},\"id\":\"2452\",\"type\":\"UnionRenderers\"},{\"attributes\":{\"end\":726.4268000000001,\"reset_end\":726.4268000000001,\"reset_start\":-66.03880000000001,\"start\":-66.03880000000001,\"tags\":[[[\"Amount\",\"Amount\",null]]]},\"id\":\"2397\",\"type\":\"Range1d\"},{\"attributes\":{\"data\":{\"Amount\":{\"__ndarray__\":\"AAAAAAAAAAAAAAAAAAAAAAAAAAAAAAAAAAAAAAAAAAAAAAAAAAAAAAAAAAAAAAAAAAAAAAAAAAAAAAAAAAAAAAAAAAAAAAAAAAAAAAAAAAAAAAAAAAAAAAAAAAAAAAAAAAAAAAAAAAAAAAAAAAAAAAAAAAAAAAAAAAAAAAAAAAAAAAAAAAAAAAAAAAAAAAAAAAAAAAAAAAAAAAAAAAAAAAAAAAAAAAAAAAAAAAAAAAAAAAAAAAAAAAAAAAAAAAAAAAAAAAAAAAAAAAAAAAAAAAAAAAAAAAAAAAAAAAAAAAAAAAAAAAAAAAAAAAAAAAAAAAAAAAAAAAAAAAAAAAAAAAAAAAAAAAAAAAAAAAAAAAAAAAAAAAAAAAAAAAAAAAAAAAAAAAAAAAAAAAAAAAAAAAAAAAAAAAAAAAAAAAAAAAAAAAAAAAAAAAAAAAAAAAAAAAAAAAAAAAAAAAAAAAAAAAAAAAAAAAAAAAAAAAAAAAAAAAAAAAAAAAAAAAAAAAAAAAAAAAAAAAAAAAAAAAAAAAAAAAAAAAAAAAAAAAAAAAAAAAAAAAAAAAAAAAAAAAAAAAAAAAAAAAAAAAAAAAAAAAAAAAAAAAAAAAAAAAAAAAAAAAAAAAAAAAAAAAAAAAAAAAAAAAAAAAAAAAAAAAAAAAAAAAAAAAAAAAAAAAAAAAAAAAAAAAAAAAAAAAAAAAAAAAAAAAAAAAAAAAAAAAAAAAAAAAAAAAAAAAAAAAAAAAAAAAAAAAAAAAAAAAAAAAAAAAAAAAAAAAAAAAAAAAAAAAAAAAAAAAAAAAAAAAAAAAAAAAAAAAAAAAAAAAAAAAAAAAAAAAAAAAAAAAAAAAAAAAAAAAAAAAAAAAAAAAAAAAAAAAAAAAAAAAAAAAAAAAAAAAAAAAAAAAAAAAAAAAAAAAAAAAAAAAAAAAAAAAAAAAAAAAAAAAAAAAAAAAAAAAAAAAAAAAAAAAAAAAAAAAAAAAAAAAAAAAAAAAAAAAAAAAAAAAAAAAAAAAAAAAAAAAAAAAAAAAAAAAAAAAAAAAAAAAAAAAAAAAAAAAAAAAAAAAAAAAAAAAAAAAAAAAAAAAAAAAAAAAAAAAAAAAAAAAAAAAAAAAAAAAAAAAAAAAAAAAAAAAAAAAAAAAAAAAAAAAAAAAAAAAAAAAAAAAAAAAAAAAAAAAAAAAAAAAAAAAAAAAAAAAAAAAAAAAAAAAAAAAAAAAAAAAAAAAAAAAAAAAAAAAAAAAAAAAAAAAAAAAAAAAAAAAAAAAAAAAAAAAAAAAAAAAAAAAAAAAAAAAAAAAAAAAAAAAAAAAAAAAAAAAAAAAAAAAAAAAAAAAAAAAAAAAAAAAAAAAAAAAAAAAAAAAAAAAAAAAAAAAAAAAAAAAAAAAAAAAAAAAAAAAAAAAAAAAAAAAAAAAAAAAAAAAAAAAAAAAAAAAAAAAAAAAAAAAAAAAAAAAAAAAAAAAAAAAAAAAAAAAAAAAAAAAAAAAAAAAAAAAAAAAAAAAAAAAAAAAAAAAAAAAAAAAAAAAAAAAAAAAAAAAAAAAAAAAAAAAAAAAAAAAAAAAAAAAAAAAAAAAAAAAAAAAAAAAAAAAAAAAAAAAAAAAAAAAAAAAAAAAAAAAAAAAAAAAAAAAAAAAAAAAAAAAAAAAAAAAAAAAAAAAAAAAAAAAAAAAAAAAAAAAAAAAAAAAAAAAAAAAAAAAAAAAAAAAAAAAAAAAAAAAAAAAAAAAAAAAAAAAAAAAAAAAAAAAAAAAAAAAAAAAAAAAAAAAAAAAAAAAAAAAAAAAAAAAAAAAAAAAAAAAAAAAAAAAAAAAAAAAAAAAAAAAAAAAAAAAAAAAAAAAAAAAAAAAAAAAAAAAAAAAAAAAAAAAAAAAAAAAAAAAAAAAAAAAAAAAAAAAAAAAAAAAAAAAAAAAAAAAAAAAAAAAAAAAAAAAAAAAAAAAAAAAAAAAAAAAAAAAAAAAAAAAAAAAAAAAAAAAAAAAAAAAAAAAAAAAAAAAAAAAAAAAAAAAAAAAAAAAAAAAAAAAAAAAAAAAAAAAAAAAAAAAAAAAAAAAAAAAAAAAAAAAAAAAAAAAAAAAAAAAAAAAAAAAAAAAAAAAAAAAAAAAAAAAAAAAAAAAAAAAAAAAAAAAAAAAAAAAAAAAAAAAAAAAAAAAAAAAAAAAAAAAAAAAAAAAAAAAAAAAAAAAAAAAAAAAAAAAAAAAAAAAAAAAAAAAAAAAAAAAAAAAAAAAAAAAAAAAAAAAAAAAAAAAAAAAAAAAAAAAAAAAAAAAAAAAAAAAAAAAAAAAAAAAAAAAAAAAAAAAAAAAAAAAAAAAAAAAAAAAAAAAAAAAAAAAAAAAAAAAAAAAAAAAAAAAAAAAAAAAAAAAAAAAAAAAAAAAAAAAAAAAAAAAAAAAAAAAAAAAAAAAAAAAAAAAAAAAAAAAAAAAAAAAAAAAAAAAAAAAAAAAAAAAAAAAAAAAAAAAAAAAAAAAAAAAAAAAAAAAAAAAAAAAAAAAAAAAAAAAAAAAAAAAAAAAAAAAAAAAAAAAAAAAAAAAAAAAAAAAAAAAAAAAAAAAAAAAAAAAAA16NwPQo/YEDD9Shcj2JgQLgehetRWGBAKVyPwvUoYEAzMzMzM5NeQGZmZmZmBl9A9ihcj8K1XkCPwvUoXC9eQLgehetRSF1ArkfhehTuW0A9CtejcN1aQFK4HoXrAVpAw/UoXI+CWUAK16NwPSpYQFK4HoXrAVdAw/UoXI/iVUDhehSuR+FUQKRwPQrX81NA9ihcj8K1UkC4HoXrUahRQAAAAAAAcFBACtejcD2KT0C4HoXrUbhOQFyPwvUoXExApHA9CtfjSkAzMzMzMxNKQGZmZmZmBkpAcT0K16PQSUB7FK5H4ZpJQAAAAAAAAAAAAAAAAAAAAAA=\",\"dtype\":\"float64\",\"order\":\"little\",\"shape\":[271]},\"Gas_Name\":[\"Methane\",\"Methane\",\"Methane\",\"Methane\",\"Methane\",\"Methane\",\"Methane\",\"Methane\",\"Methane\",\"Methane\",\"Methane\",\"Methane\",\"Methane\",\"Methane\",\"Methane\",\"Methane\",\"Methane\",\"Methane\",\"Methane\",\"Methane\",\"Methane\",\"Methane\",\"Methane\",\"Methane\",\"Methane\",\"Methane\",\"Methane\",\"Methane\",\"Methane\",\"Methane\",\"Methane\",\"Methane\",\"Methane\",\"Methane\",\"Methane\",\"Methane\",\"Methane\",\"Methane\",\"Methane\",\"Methane\",\"Methane\",\"Methane\",\"Methane\",\"Methane\",\"Methane\",\"Methane\",\"Methane\",\"Methane\",\"Methane\",\"Methane\",\"Methane\",\"Methane\",\"Methane\",\"Methane\",\"Methane\",\"Methane\",\"Methane\",\"Methane\",\"Methane\",\"Methane\",\"Methane\",\"Methane\",\"Methane\",\"Methane\",\"Methane\",\"Methane\",\"Methane\",\"Methane\",\"Methane\",\"Methane\",\"Methane\",\"Methane\",\"Methane\",\"Methane\",\"Methane\",\"Methane\",\"Methane\",\"Methane\",\"Methane\",\"Methane\",\"Methane\",\"Methane\",\"Methane\",\"Methane\",\"Methane\",\"Methane\",\"Methane\",\"Methane\",\"Methane\",\"Methane\",\"Methane\",\"Methane\",\"Methane\",\"Methane\",\"Methane\",\"Methane\",\"Methane\",\"Methane\",\"Methane\",\"Methane\",\"Methane\",\"Methane\",\"Methane\",\"Methane\",\"Methane\",\"Methane\",\"Methane\",\"Methane\",\"Methane\",\"Methane\",\"Methane\",\"Methane\",\"Methane\",\"Methane\",\"Methane\",\"Methane\",\"Methane\",\"Methane\",\"Methane\",\"Methane\",\"Methane\",\"Methane\",\"Methane\",\"Methane\",\"Methane\",\"Methane\",\"Methane\",\"Methane\",\"Methane\",\"Methane\",\"Methane\",\"Methane\",\"Methane\",\"Methane\",\"Methane\",\"Methane\",\"Methane\",\"Methane\",\"Methane\",\"Methane\",\"Methane\",\"Methane\",\"Methane\",\"Methane\",\"Methane\",\"Methane\",\"Methane\",\"Methane\",\"Methane\",\"Methane\",\"Methane\",\"Methane\",\"Methane\",\"Methane\",\"Methane\",\"Methane\",\"Methane\",\"Methane\",\"Methane\",\"Methane\",\"Methane\",\"Methane\",\"Methane\",\"Methane\",\"Methane\",\"Methane\",\"Methane\",\"Methane\",\"Methane\",\"Methane\",\"Methane\",\"Methane\",\"Methane\",\"Methane\",\"Methane\",\"Methane\",\"Methane\",\"Methane\",\"Methane\",\"Methane\",\"Methane\",\"Methane\",\"Methane\",\"Methane\",\"Methane\",\"Methane\",\"Methane\",\"Methane\",\"Methane\",\"Methane\",\"Methane\",\"Methane\",\"Methane\",\"Methane\",\"Methane\",\"Methane\",\"Methane\",\"Methane\",\"Methane\",\"Methane\",\"Methane\",\"Methane\",\"Methane\",\"Methane\",\"Methane\",\"Methane\",\"Methane\",\"Methane\",\"Methane\",\"Methane\",\"Methane\",\"Methane\",\"Methane\",\"Methane\",\"Methane\",\"Methane\",\"Methane\",\"Methane\",\"Methane\",\"Methane\",\"Methane\",\"Methane\",\"Methane\",\"Methane\",\"Methane\",\"Methane\",\"Methane\",\"Methane\",\"Methane\",\"Methane\",\"Methane\",\"Methane\",\"Methane\",\"Methane\",\"Methane\",\"Methane\",\"Methane\",\"Methane\",\"Methane\",\"Methane\",\"Methane\",\"Methane\",\"Methane\",\"Methane\",\"Methane\",\"Methane\",\"Methane\",\"Methane\",\"Methane\",\"Methane\",\"Methane\",\"Methane\",\"Methane\",\"Methane\",\"Methane\",\"Methane\",\"Methane\",\"Methane\",\"Methane\",\"Methane\",\"Methane\",\"Methane\",\"Methane\",\"Methane\",\"Methane\",\"Methane\",\"Methane\",\"Methane\",\"Methane\",\"Methane\",\"Methane\"],\"Year\":[1750,1751,1752,1753,1754,1755,1756,1757,1758,1759,1760,1761,1762,1763,1764,1765,1766,1767,1768,1769,1770,1771,1772,1773,1774,1775,1776,1777,1778,1779,1780,1781,1782,1783,1784,1785,1786,1787,1788,1789,1790,1791,1792,1793,1794,1795,1796,1797,1798,1799,1800,1801,1802,1803,1804,1805,1806,1807,1808,1809,1810,1811,1812,1813,1814,1815,1816,1817,1818,1819,1820,1821,1822,1823,1824,1825,1826,1827,1828,1829,1830,1831,1832,1833,1834,1835,1836,1837,1838,1839,1840,1841,1842,1843,1844,1845,1846,1847,1848,1849,1850,1851,1852,1853,1854,1855,1856,1857,1858,1859,1860,1861,1862,1863,1864,1865,1866,1867,1868,1869,1870,1871,1872,1873,1874,1875,1876,1877,1878,1879,1880,1881,1882,1883,1884,1885,1886,1887,1888,1889,1890,1891,1892,1893,1894,1895,1896,1897,1898,1899,1900,1901,1902,1903,1904,1905,1906,1907,1908,1909,1910,1911,1912,1913,1914,1915,1916,1917,1918,1919,1920,1921,1922,1923,1924,1925,1926,1927,1928,1929,1930,1931,1932,1933,1934,1935,1936,1937,1938,1939,1940,1941,1942,1943,1944,1945,1946,1947,1948,1949,1950,1951,1952,1953,1954,1955,1956,1957,1958,1959,1960,1961,1962,1963,1964,1965,1966,1967,1968,1969,1970,1971,1972,1973,1974,1975,1976,1977,1978,1979,1980,1981,1982,1983,1984,1985,1986,1987,1988,1989,1990,1991,1992,1993,1994,1995,1996,1997,1998,1999,2000,2001,2002,2003,2004,2005,2006,2007,2008,2009,2010,2011,2012,2013,2014,2015,2016,2017,2018,2019,2020]},\"selected\":{\"id\":\"2438\"},\"selection_policy\":{\"id\":\"2452\"}},\"id\":\"2437\",\"type\":\"ColumnDataSource\"},{\"attributes\":{\"bottom_units\":\"screen\",\"coordinates\":null,\"fill_alpha\":0.5,\"fill_color\":\"lightgrey\",\"group\":null,\"left_units\":\"screen\",\"level\":\"overlay\",\"line_alpha\":1.0,\"line_color\":\"black\",\"line_dash\":[4,4],\"line_width\":2,\"right_units\":\"screen\",\"syncable\":false,\"top_units\":\"screen\"},\"id\":\"2423\",\"type\":\"BoxAnnotation\"},{\"attributes\":{\"coordinates\":null,\"data_source\":{\"id\":\"2437\"},\"glyph\":{\"id\":\"2440\"},\"group\":null,\"hover_glyph\":null,\"muted_glyph\":{\"id\":\"2442\"},\"nonselection_glyph\":{\"id\":\"2441\"},\"selection_glyph\":{\"id\":\"2457\"},\"view\":{\"id\":\"2444\"}},\"id\":\"2443\",\"type\":\"GlyphRenderer\"},{\"attributes\":{\"line_alpha\":0.2,\"line_color\":\"#30a2da\",\"line_width\":2,\"x\":{\"field\":\"Year\"},\"y\":{\"field\":\"Amount\"}},\"id\":\"2442\",\"type\":\"Line\"},{\"attributes\":{\"label\":{\"value\":\"Methane\"},\"renderers\":[{\"id\":\"2443\"}]},\"id\":\"2456\",\"type\":\"LegendItem\"},{\"attributes\":{},\"id\":\"2406\",\"type\":\"LinearScale\"},{\"attributes\":{\"label\":{\"value\":\"carbon dioxide (CO2)\"},\"renderers\":[{\"id\":\"2486\"}]},\"id\":\"2502\",\"type\":\"LegendItem\"},{\"attributes\":{\"line_color\":\"#fc4f30\",\"line_width\":2,\"x\":{\"field\":\"Year\"},\"y\":{\"field\":\"Amount\"}},\"id\":\"2461\",\"type\":\"Line\"},{\"attributes\":{\"completions\":[\"Afghanistan\",\"Albania\",\"Algeria\",\"Andorra\",\"Angola\",\"Anguilla\",\"Antarctica\",\"Antigua and Barbuda\",\"Argentina\",\"Armenia\",\"Aruba\",\"Australia\",\"Austria\",\"Azerbaijan\",\"Bahamas\",\"Bahrain\",\"Bangladesh\",\"Barbados\",\"Belarus\",\"Belgium\",\"Belize\",\"Benin\",\"Bermuda\",\"Bhutan\",\"Bolivia\",\"Bonaire Sint Eustatius and Saba\",\"Bosnia and Herzegovina\",\"Botswana\",\"Brazil\",\"British Virgin Islands\",\"Brunei\",\"Bulgaria\",\"Burkina Faso\",\"Burundi\",\"Cambodia\",\"Cameroon\",\"Canada\",\"Cape Verde\",\"Central African Republic\",\"Chad\",\"Chile\",\"China\",\"Christmas Island\",\"Colombia\",\"Comoros\",\"Congo\",\"Cook Islands\",\"Costa Rica\",\"Cote d'Ivoire\",\"Croatia\",\"Cuba\",\"Curacao\",\"Cyprus\",\"Czechia\",\"Democratic Republic of Congo\",\"Denmark\",\"Djibouti\",\"Dominica\",\"Dominican Republic\",\"Ecuador\",\"Egypt\",\"El Salvador\",\"Equatorial Guinea\",\"Eritrea\",\"Estonia\",\"Eswatini\",\"Ethiopia\",\"Faeroe Islands\",\"Fiji\",\"Finland\",\"France\",\"French Guiana\",\"French Polynesia\",\"Gabon\",\"Gambia\",\"Georgia\",\"Germany\",\"Ghana\",\"Greece\",\"Greenland\",\"Grenada\",\"Guadeloupe\",\"Guatemala\",\"Guinea\",\"Guinea-Bissau\",\"Guyana\",\"Haiti\",\"Honduras\",\"Hong Kong\",\"Hungary\",\"Iceland\",\"India\",\"Indonesia\",\"Iran\",\"Iraq\",\"Ireland\",\"Israel\",\"Italy\",\"Jamaica\",\"Japan\",\"Jordan\",\"Kazakhstan\",\"Kenya\",\"Kiribati\",\"Kosovo\",\"Kuwait\",\"Kyrgyzstan\",\"Laos\",\"Latvia\",\"Lebanon\",\"Lesotho\",\"Liberia\",\"Libya\",\"Liechtenstein\",\"Lithuania\",\"Luxembourg\",\"Madagascar\",\"Malawi\",\"Malaysia\",\"Maldives\",\"Mali\",\"Malta\",\"Marshall Islands\",\"Martinique\",\"Mauritania\",\"Mauritius\",\"Mayotte\",\"Mexico\",\"Moldova\",\"Mongolia\",\"Montenegro\",\"Montserrat\",\"Morocco\",\"Mozambique\",\"Myanmar\",\"Namibia\",\"Nauru\",\"Nepal\",\"Netherlands\",\"New Caledonia\",\"New Zealand\",\"Nicaragua\",\"Niger\",\"Nigeria\",\"Niue\",\"North Korea\",\"North Macedonia\",\"Norway\",\"Oman\",\"Pakistan\",\"Palau\",\"Palestine\",\"Panama\",\"Papua New Guinea\",\"Paraguay\",\"Peru\",\"Philippines\",\"Poland\",\"Portugal\",\"Puerto Rico\",\"Qatar\",\"Romania\",\"Russia\",\"Rwanda\",\"Saint Helena\",\"Saint Kitts and Nevis\",\"Saint Lucia\",\"Saint Pierre and Miquelon\",\"Saint Vincent and the Grenadines\",\"Samoa\",\"Sao Tome and Principe\",\"Saudi Arabia\",\"Senegal\",\"Serbia\",\"Seychelles\",\"Sierra Leone\",\"Singapore\",\"Sint Maarten (Dutch part)\",\"Slovakia\",\"Slovenia\",\"Solomon Islands\",\"Somalia\",\"South Africa\",\"South Korea\",\"South Sudan\",\"Spain\",\"Sri Lanka\",\"Sudan\",\"Suriname\",\"Sweden\",\"Switzerland\",\"Syria\",\"Taiwan\",\"Tajikistan\",\"Tanzania\",\"Thailand\",\"Timor\",\"Togo\",\"Tonga\",\"Trinidad and Tobago\",\"Tunisia\",\"Turkey\",\"Turkmenistan\",\"Turks and Caicos Islands\",\"Tuvalu\",\"Uganda\",\"Ukraine\",\"United Arab Emirates\",\"United Kingdom\",\"United States\",\"Uruguay\",\"Uzbekistan\",\"Vanuatu\",\"Venezuela\",\"Vietnam\",\"World\",\"Yemen\",\"Zambia\",\"Zimbabwe\"],\"margin\":[5,10,5,10],\"placeholder\":\"Enter Name of the country\",\"title\":\"Countries\",\"value\":\"United Kingdom\"},\"id\":\"2393\",\"type\":\"AutocompleteInput\"},{\"attributes\":{\"line_color\":\"#30a2da\",\"line_width\":2,\"x\":{\"field\":\"Year\"},\"y\":{\"field\":\"Amount\"}},\"id\":\"2457\",\"type\":\"Line\"},{\"attributes\":{},\"id\":\"2459\",\"type\":\"Selection\"},{\"attributes\":{\"axis_label\":\"Year\",\"coordinates\":null,\"formatter\":{\"id\":\"2432\"},\"group\":null,\"major_label_policy\":{\"id\":\"2433\"},\"ticker\":{\"id\":\"2411\"}},\"id\":\"2410\",\"type\":\"LinearAxis\"},{\"attributes\":{\"margin\":[5,5,5,5],\"name\":\"HSpacer12160\",\"sizing_mode\":\"stretch_width\"},\"id\":\"2394\",\"type\":\"Spacer\"},{\"attributes\":{\"end\":2020.0,\"reset_end\":2020.0,\"reset_start\":1750.0,\"start\":1750.0,\"tags\":[[[\"Year\",\"Year\",null]]]},\"id\":\"2396\",\"type\":\"Range1d\"},{\"attributes\":{\"data\":{\"Amount\":{\"__ndarray__\":\"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\",\"dtype\":\"float64\",\"order\":\"little\",\"shape\":[271]},\"Gas_Name\":[\"carbon dioxide (CO2)\",\"carbon dioxide (CO2)\",\"carbon dioxide (CO2)\",\"carbon dioxide (CO2)\",\"carbon dioxide (CO2)\",\"carbon dioxide (CO2)\",\"carbon dioxide (CO2)\",\"carbon dioxide (CO2)\",\"carbon dioxide (CO2)\",\"carbon dioxide (CO2)\",\"carbon dioxide (CO2)\",\"carbon dioxide (CO2)\",\"carbon dioxide (CO2)\",\"carbon dioxide (CO2)\",\"carbon dioxide (CO2)\",\"carbon dioxide (CO2)\",\"carbon dioxide (CO2)\",\"carbon dioxide (CO2)\",\"carbon dioxide (CO2)\",\"carbon dioxide (CO2)\",\"carbon dioxide (CO2)\",\"carbon dioxide (CO2)\",\"carbon dioxide (CO2)\",\"carbon dioxide (CO2)\",\"carbon dioxide (CO2)\",\"carbon dioxide (CO2)\",\"carbon dioxide (CO2)\",\"carbon dioxide (CO2)\",\"carbon dioxide (CO2)\",\"carbon dioxide (CO2)\",\"carbon dioxide (CO2)\",\"carbon dioxide (CO2)\",\"carbon dioxide (CO2)\",\"carbon dioxide (CO2)\",\"carbon dioxide (CO2)\",\"carbon dioxide (CO2)\",\"carbon dioxide (CO2)\",\"carbon dioxide (CO2)\",\"carbon dioxide (CO2)\",\"carbon dioxide (CO2)\",\"carbon dioxide (CO2)\",\"carbon dioxide (CO2)\",\"carbon dioxide (CO2)\",\"carbon dioxide (CO2)\",\"carbon dioxide (CO2)\",\"carbon dioxide (CO2)\",\"carbon dioxide (CO2)\",\"carbon dioxide (CO2)\",\"carbon dioxide (CO2)\",\"carbon dioxide (CO2)\",\"carbon dioxide (CO2)\",\"carbon dioxide (CO2)\",\"carbon dioxide (CO2)\",\"carbon dioxide (CO2)\",\"carbon dioxide (CO2)\",\"carbon dioxide (CO2)\",\"carbon dioxide (CO2)\",\"carbon dioxide (CO2)\",\"carbon dioxide (CO2)\",\"carbon dioxide (CO2)\",\"carbon dioxide (CO2)\",\"carbon dioxide (CO2)\",\"carbon dioxide (CO2)\",\"carbon dioxide (CO2)\",\"carbon dioxide (CO2)\",\"carbon dioxide (CO2)\",\"carbon dioxide (CO2)\",\"carbon dioxide (CO2)\",\"carbon dioxide (CO2)\",\"carbon dioxide (CO2)\",\"carbon dioxide (CO2)\",\"carbon dioxide (CO2)\",\"carbon dioxide (CO2)\",\"carbon dioxide (CO2)\",\"carbon dioxide (CO2)\",\"carbon dioxide (CO2)\",\"carbon dioxide (CO2)\",\"carbon dioxide (CO2)\",\"carbon dioxide (CO2)\",\"carbon dioxide (CO2)\",\"carbon dioxide (CO2)\",\"carbon dioxide (CO2)\",\"carbon dioxide (CO2)\",\"carbon dioxide (CO2)\",\"carbon dioxide (CO2)\",\"carbon dioxide (CO2)\",\"carbon dioxide (CO2)\",\"carbon dioxide (CO2)\",\"carbon dioxide (CO2)\",\"carbon dioxide (CO2)\",\"carbon dioxide (CO2)\",\"carbon dioxide (CO2)\",\"carbon dioxide (CO2)\",\"carbon dioxide (CO2)\",\"carbon dioxide (CO2)\",\"carbon dioxide (CO2)\",\"carbon dioxide (CO2)\",\"carbon dioxide (CO2)\",\"carbon dioxide (CO2)\",\"carbon dioxide (CO2)\",\"carbon dioxide (CO2)\",\"carbon dioxide (CO2)\",\"carbon dioxide (CO2)\",\"carbon dioxide (CO2)\",\"carbon dioxide (CO2)\",\"carbon dioxide (CO2)\",\"carbon dioxide (CO2)\",\"carbon dioxide (CO2)\",\"carbon dioxide (CO2)\",\"carbon dioxide (CO2)\",\"carbon dioxide (CO2)\",\"carbon dioxide (CO2)\",\"carbon dioxide (CO2)\",\"carbon dioxide (CO2)\",\"carbon dioxide (CO2)\",\"carbon dioxide (CO2)\",\"carbon dioxide (CO2)\",\"carbon dioxide (CO2)\",\"carbon dioxide (CO2)\",\"carbon dioxide (CO2)\",\"carbon dioxide (CO2)\",\"carbon dioxide (CO2)\",\"carbon dioxide (CO2)\",\"carbon dioxide (CO2)\",\"carbon dioxide (CO2)\",\"carbon dioxide (CO2)\",\"carbon dioxide (CO2)\",\"carbon dioxide (CO2)\",\"carbon dioxide (CO2)\",\"carbon dioxide (CO2)\",\"carbon dioxide (CO2)\",\"carbon dioxide (CO2)\",\"carbon dioxide (CO2)\",\"carbon dioxide (CO2)\",\"carbon dioxide (CO2)\",\"carbon dioxide (CO2)\",\"carbon dioxide (CO2)\",\"carbon dioxide (CO2)\",\"carbon dioxide (CO2)\",\"carbon dioxide (CO2)\",\"carbon dioxide (CO2)\",\"carbon dioxide (CO2)\",\"carbon dioxide (CO2)\",\"carbon dioxide (CO2)\",\"carbon dioxide (CO2)\",\"carbon dioxide (CO2)\",\"carbon dioxide (CO2)\",\"carbon dioxide (CO2)\",\"carbon dioxide (CO2)\",\"carbon dioxide (CO2)\",\"carbon dioxide (CO2)\",\"carbon dioxide (CO2)\",\"carbon dioxide (CO2)\",\"carbon dioxide (CO2)\",\"carbon dioxide (CO2)\",\"carbon dioxide (CO2)\",\"carbon dioxide (CO2)\",\"carbon dioxide (CO2)\",\"carbon dioxide (CO2)\",\"carbon dioxide (CO2)\",\"carbon dioxide (CO2)\",\"carbon dioxide (CO2)\",\"carbon dioxide (CO2)\",\"carbon dioxide (CO2)\",\"carbon dioxide (CO2)\",\"carbon dioxide (CO2)\",\"carbon dioxide (CO2)\",\"carbon dioxide (CO2)\",\"carbon dioxide (CO2)\",\"carbon dioxide (CO2)\",\"carbon dioxide (CO2)\",\"carbon dioxide (CO2)\",\"carbon dioxide (CO2)\",\"carbon dioxide (CO2)\",\"carbon dioxide (CO2)\",\"carbon dioxide (CO2)\",\"carbon dioxide (CO2)\",\"carbon dioxide (CO2)\",\"carbon dioxide (CO2)\",\"carbon dioxide (CO2)\",\"carbon dioxide (CO2)\",\"carbon dioxide (CO2)\",\"carbon dioxide (CO2)\",\"carbon dioxide (CO2)\",\"carbon dioxide (CO2)\",\"carbon dioxide (CO2)\",\"carbon dioxide (CO2)\",\"carbon dioxide (CO2)\",\"carbon dioxide (CO2)\",\"carbon dioxide (CO2)\",\"carbon dioxide (CO2)\",\"carbon dioxide (CO2)\",\"carbon dioxide (CO2)\",\"carbon dioxide (CO2)\",\"carbon dioxide (CO2)\",\"carbon dioxide (CO2)\",\"carbon dioxide (CO2)\",\"carbon dioxide (CO2)\",\"carbon dioxide (CO2)\",\"carbon dioxide (CO2)\",\"carbon dioxide (CO2)\",\"carbon dioxide (CO2)\",\"carbon dioxide (CO2)\",\"carbon dioxide (CO2)\",\"carbon dioxide (CO2)\",\"carbon dioxide (CO2)\",\"carbon dioxide (CO2)\",\"carbon dioxide (CO2)\",\"carbon dioxide (CO2)\",\"carbon dioxide (CO2)\",\"carbon dioxide (CO2)\",\"carbon dioxide (CO2)\",\"carbon dioxide (CO2)\",\"carbon dioxide (CO2)\",\"carbon dioxide (CO2)\",\"carbon dioxide (CO2)\",\"carbon dioxide (CO2)\",\"carbon dioxide (CO2)\",\"carbon dioxide (CO2)\",\"carbon dioxide (CO2)\",\"carbon dioxide (CO2)\",\"carbon dioxide (CO2)\",\"carbon dioxide (CO2)\",\"carbon dioxide (CO2)\",\"carbon dioxide (CO2)\",\"carbon dioxide (CO2)\",\"carbon dioxide (CO2)\",\"carbon dioxide (CO2)\",\"carbon dioxide (CO2)\",\"carbon dioxide (CO2)\",\"carbon dioxide (CO2)\",\"carbon dioxide (CO2)\",\"carbon dioxide (CO2)\",\"carbon dioxide (CO2)\",\"carbon dioxide (CO2)\",\"carbon dioxide (CO2)\",\"carbon dioxide (CO2)\",\"carbon dioxide (CO2)\",\"carbon dioxide (CO2)\",\"carbon dioxide (CO2)\",\"carbon dioxide (CO2)\",\"carbon dioxide (CO2)\",\"carbon dioxide (CO2)\",\"carbon dioxide (CO2)\",\"carbon dioxide (CO2)\",\"carbon dioxide (CO2)\",\"carbon dioxide (CO2)\",\"carbon dioxide (CO2)\",\"carbon dioxide (CO2)\",\"carbon dioxide (CO2)\",\"carbon dioxide (CO2)\",\"carbon dioxide (CO2)\",\"carbon dioxide (CO2)\",\"carbon dioxide (CO2)\",\"carbon dioxide (CO2)\",\"carbon dioxide (CO2)\",\"carbon dioxide (CO2)\",\"carbon dioxide (CO2)\",\"carbon dioxide (CO2)\",\"carbon dioxide (CO2)\",\"carbon dioxide (CO2)\",\"carbon dioxide (CO2)\",\"carbon dioxide (CO2)\",\"carbon dioxide (CO2)\",\"carbon dioxide (CO2)\",\"carbon dioxide (CO2)\",\"carbon dioxide (CO2)\",\"carbon dioxide (CO2)\",\"carbon dioxide (CO2)\",\"carbon dioxide (CO2)\",\"carbon dioxide (CO2)\"],\"Year\":[1750,1751,1752,1753,1754,1755,1756,1757,1758,1759,1760,1761,1762,1763,1764,1765,1766,1767,1768,1769,1770,1771,1772,1773,1774,1775,1776,1777,1778,1779,1780,1781,1782,1783,1784,1785,1786,1787,1788,1789,1790,1791,1792,1793,1794,1795,1796,1797,1798,1799,1800,1801,1802,1803,1804,1805,1806,1807,1808,1809,1810,1811,1812,1813,1814,1815,1816,1817,1818,1819,1820,1821,1822,1823,1824,1825,1826,1827,1828,1829,1830,1831,1832,1833,1834,1835,1836,1837,1838,1839,1840,1841,1842,1843,1844,1845,1846,1847,1848,1849,1850,1851,1852,1853,1854,1855,1856,1857,1858,1859,1860,1861,1862,1863,1864,1865,1866,1867,1868,1869,1870,1871,1872,1873,1874,1875,1876,1877,1878,1879,1880,1881,1882,1883,1884,1885,1886,1887,1888,1889,1890,1891,1892,1893,1894,1895,1896,1897,1898,1899,1900,1901,1902,1903,1904,1905,1906,1907,1908,1909,1910,1911,1912,1913,1914,1915,1916,1917,1918,1919,1920,1921,1922,1923,1924,1925,1926,1927,1928,1929,1930,1931,1932,1933,1934,1935,1936,1937,1938,1939,1940,1941,1942,1943,1944,1945,1946,1947,1948,1949,1950,1951,1952,1953,1954,1955,1956,1957,1958,1959,1960,1961,1962,1963,1964,1965,1966,1967,1968,1969,1970,1971,1972,1973,1974,1975,1976,1977,1978,1979,1980,1981,1982,1983,1984,1985,1986,1987,1988,1989,1990,1991,1992,1993,1994,1995,1996,1997,1998,1999,2000,2001,2002,2003,2004,2005,2006,2007,2008,2009,2010,2011,2012,2013,2014,2015,2016,2017,2018,2019,2020]},\"selected\":{\"id\":\"2481\"},\"selection_policy\":{\"id\":\"2499\"}},\"id\":\"2480\",\"type\":\"ColumnDataSource\"},{\"attributes\":{\"axis\":{\"id\":\"2410\"},\"coordinates\":null,\"grid_line_color\":null,\"group\":null,\"ticker\":null},\"id\":\"2413\",\"type\":\"Grid\"},{\"attributes\":{\"coordinates\":null,\"group\":null,\"text\":\"Gas Emission\",\"text_color\":\"black\",\"text_font_size\":\"12pt\"},\"id\":\"2402\",\"type\":\"Title\"},{\"attributes\":{\"children\":[{\"id\":\"2392\"},{\"id\":\"2393\"}],\"margin\":[0,0,0,0],\"name\":\"Column11937\"},\"id\":\"2391\",\"type\":\"Column\"},{\"attributes\":{},\"id\":\"2432\",\"type\":\"BasicTickFormatter\"},{\"attributes\":{\"line_color\":\"#e5ae38\",\"line_width\":2,\"x\":{\"field\":\"Year\"},\"y\":{\"field\":\"Amount\"}},\"id\":\"2483\",\"type\":\"Line\"},{\"attributes\":{\"line_alpha\":0.1,\"line_color\":\"#fc4f30\",\"line_width\":2,\"x\":{\"field\":\"Year\"},\"y\":{\"field\":\"Amount\"}},\"id\":\"2462\",\"type\":\"Line\"},{\"attributes\":{},\"id\":\"2433\",\"type\":\"AllLabels\"},{\"attributes\":{},\"id\":\"2436\",\"type\":\"AllLabels\"},{\"attributes\":{\"callback\":null,\"renderers\":[{\"id\":\"2443\"},{\"id\":\"2464\"},{\"id\":\"2486\"}],\"tags\":[\"hv_created\"],\"tooltips\":[[\"Gas_Name\",\"@{Gas_Name}\"],[\"Year\",\"@{Year}\"],[\"Amount\",\"@{Amount}\"]]},\"id\":\"2398\",\"type\":\"HoverTool\"},{\"attributes\":{\"client_comm_id\":\"7d366e4d1e0647efabbd09793183a38f\",\"comm_id\":\"0fcc921798924ccca32ce3d7ad802f1f\",\"plot_id\":\"2388\"},\"id\":\"2658\",\"type\":\"panel.models.comm_manager.CommManager\"},{\"attributes\":{\"line_color\":\"#fc4f30\",\"line_width\":2,\"x\":{\"field\":\"Year\"},\"y\":{\"field\":\"Amount\"}},\"id\":\"2479\",\"type\":\"Line\"},{\"attributes\":{},\"id\":\"2435\",\"type\":\"BasicTickFormatter\"},{\"attributes\":{},\"id\":\"2481\",\"type\":\"Selection\"},{\"attributes\":{\"coordinates\":null,\"data_source\":{\"id\":\"2458\"},\"glyph\":{\"id\":\"2461\"},\"group\":null,\"hover_glyph\":null,\"muted_glyph\":{\"id\":\"2463\"},\"nonselection_glyph\":{\"id\":\"2462\"},\"selection_glyph\":{\"id\":\"2479\"},\"view\":{\"id\":\"2465\"}},\"id\":\"2464\",\"type\":\"GlyphRenderer\"},{\"attributes\":{\"tools\":[{\"id\":\"2398\"},{\"id\":\"2418\"},{\"id\":\"2419\"},{\"id\":\"2420\"},{\"id\":\"2421\"},{\"id\":\"2422\"}]},\"id\":\"2424\",\"type\":\"Toolbar\"},{\"attributes\":{\"source\":{\"id\":\"2480\"}},\"id\":\"2487\",\"type\":\"CDSView\"},{\"attributes\":{},\"id\":\"2419\",\"type\":\"PanTool\"},{\"attributes\":{},\"id\":\"2408\",\"type\":\"LinearScale\"},{\"attributes\":{\"source\":{\"id\":\"2437\"}},\"id\":\"2444\",\"type\":\"CDSView\"},{\"attributes\":{\"source\":{\"id\":\"2458\"}},\"id\":\"2465\",\"type\":\"CDSView\"},{\"attributes\":{\"children\":[{\"id\":\"2390\"},{\"id\":\"2395\"}],\"margin\":[0,0,0,0],\"name\":\"Column12162\"},\"id\":\"2389\",\"type\":\"Column\"},{\"attributes\":{\"line_alpha\":0.2,\"line_color\":\"#fc4f30\",\"line_width\":2,\"x\":{\"field\":\"Year\"},\"y\":{\"field\":\"Amount\"}},\"id\":\"2463\",\"type\":\"Line\"},{\"attributes\":{\"line_color\":\"#e5ae38\",\"line_width\":2,\"x\":{\"field\":\"Year\"},\"y\":{\"field\":\"Amount\"}},\"id\":\"2503\",\"type\":\"Line\"},{\"attributes\":{},\"id\":\"2415\",\"type\":\"BasicTicker\"},{\"attributes\":{},\"id\":\"2411\",\"type\":\"BasicTicker\"},{\"attributes\":{\"children\":[{\"id\":\"2389\"}],\"margin\":[0,0,0,0],\"name\":\"Row12163\"},\"id\":\"2388\",\"type\":\"Row\"},{\"attributes\":{\"click_policy\":\"mute\",\"coordinates\":null,\"group\":null,\"items\":[{\"id\":\"2456\"},{\"id\":\"2478\"},{\"id\":\"2502\"}],\"location\":[0,0],\"title\":\"Gas_Name\"},\"id\":\"2455\",\"type\":\"Legend\"},{\"attributes\":{\"line_alpha\":0.1,\"line_color\":\"#e5ae38\",\"line_width\":2,\"x\":{\"field\":\"Year\"},\"y\":{\"field\":\"Amount\"}},\"id\":\"2484\",\"type\":\"Line\"},{\"attributes\":{\"label\":{\"value\":\"Nitrous Oxide\"},\"renderers\":[{\"id\":\"2464\"}]},\"id\":\"2478\",\"type\":\"LegendItem\"},{\"attributes\":{\"axis_label\":\"Amount\",\"coordinates\":null,\"formatter\":{\"id\":\"2435\"},\"group\":null,\"major_label_policy\":{\"id\":\"2436\"},\"ticker\":{\"id\":\"2415\"}},\"id\":\"2414\",\"type\":\"LinearAxis\"},{\"attributes\":{\"coordinates\":null,\"data_source\":{\"id\":\"2480\"},\"glyph\":{\"id\":\"2483\"},\"group\":null,\"hover_glyph\":null,\"muted_glyph\":{\"id\":\"2485\"},\"nonselection_glyph\":{\"id\":\"2484\"},\"selection_glyph\":{\"id\":\"2503\"},\"view\":{\"id\":\"2487\"}},\"id\":\"2486\",\"type\":\"GlyphRenderer\"},{\"attributes\":{},\"id\":\"2420\",\"type\":\"WheelZoomTool\"},{\"attributes\":{\"axis\":{\"id\":\"2414\"},\"coordinates\":null,\"dimension\":1,\"grid_line_color\":null,\"group\":null,\"ticker\":null},\"id\":\"2417\",\"type\":\"Grid\"},{\"attributes\":{},\"id\":\"2475\",\"type\":\"UnionRenderers\"},{\"attributes\":{\"children\":[{\"id\":\"2401\"}],\"margin\":[0,0,0,0],\"name\":\"Row11942\"},\"id\":\"2395\",\"type\":\"Row\"},{\"attributes\":{},\"id\":\"2418\",\"type\":\"SaveTool\"},{\"attributes\":{\"end\":2020,\"margin\":[5,10,5,10],\"start\":1750,\"step\":5,\"title\":\"Year slider\",\"value\":2020},\"id\":\"2392\",\"type\":\"Slider\"},{\"attributes\":{\"line_color\":\"#30a2da\",\"line_width\":2,\"x\":{\"field\":\"Year\"},\"y\":{\"field\":\"Amount\"}},\"id\":\"2440\",\"type\":\"Line\"},{\"attributes\":{\"line_alpha\":0.2,\"line_color\":\"#e5ae38\",\"line_width\":2,\"x\":{\"field\":\"Year\"},\"y\":{\"field\":\"Amount\"}},\"id\":\"2485\",\"type\":\"Line\"},{\"attributes\":{\"line_alpha\":0.1,\"line_color\":\"#30a2da\",\"line_width\":2,\"x\":{\"field\":\"Year\"},\"y\":{\"field\":\"Amount\"}},\"id\":\"2441\",\"type\":\"Line\"},{\"attributes\":{},\"id\":\"2422\",\"type\":\"ResetTool\"},{\"attributes\":{\"below\":[{\"id\":\"2410\"}],\"center\":[{\"id\":\"2413\"},{\"id\":\"2417\"}],\"height\":300,\"left\":[{\"id\":\"2414\"}],\"margin\":[5,5,5,5],\"min_border_bottom\":10,\"min_border_left\":10,\"min_border_right\":10,\"min_border_top\":10,\"renderers\":[{\"id\":\"2443\"},{\"id\":\"2464\"},{\"id\":\"2486\"}],\"right\":[{\"id\":\"2455\"}],\"sizing_mode\":\"fixed\",\"title\":{\"id\":\"2402\"},\"toolbar\":{\"id\":\"2424\"},\"width\":700,\"x_range\":{\"id\":\"2396\"},\"x_scale\":{\"id\":\"2406\"},\"y_range\":{\"id\":\"2397\"},\"y_scale\":{\"id\":\"2408\"}},\"id\":\"2401\",\"subtype\":\"Figure\",\"type\":\"Plot\"}],\"root_ids\":[\"2388\",\"2658\"]},\"title\":\"Bokeh Application\",\"version\":\"2.4.1\"}};\n",
       "    var render_items = [{\"docid\":\"cdbd6039-d613-44ae-bde0-ec7f116bda3d\",\"root_ids\":[\"2388\"],\"roots\":{\"2388\":\"5757e4c3-dd8c-4d62-9141-26c6dc3e0f13\"}}];\n",
       "    root.Bokeh.embed.embed_items_notebook(docs_json, render_items);\n",
       "  }\n",
       "  if (root.Bokeh !== undefined && root.Bokeh.Panel !== undefined && ( root['Tabulator'] !== undefined) && ( root['Tabulator'] !== undefined) && ( root['Tabulator'] !== undefined)) {\n",
       "    embed_document(root);\n",
       "  } else {\n",
       "    var attempts = 0;\n",
       "    var timer = setInterval(function(root) {\n",
       "      if (root.Bokeh !== undefined && root.Bokeh.Panel !== undefined && (root['Tabulator'] !== undefined) && (root['Tabulator'] !== undefined) && (root['Tabulator'] !== undefined)) {\n",
       "        clearInterval(timer);\n",
       "        embed_document(root);\n",
       "      } else if (document.readyState == \"complete\") {\n",
       "        attempts++;\n",
       "        if (attempts > 200) {\n",
       "          clearInterval(timer);\n",
       "          console.log(\"Bokeh: ERROR: Unable to run BokehJS code because BokehJS library is missing\");\n",
       "        }\n",
       "      }\n",
       "    }, 25, root)\n",
       "  }\n",
       "})(window);</script>"
      ],
      "text/plain": [
       "<hvplot.interactive.Interactive at 0x27fdcbbdfd0>"
      ]
     },
     "execution_count": 64,
     "metadata": {
      "application/vnd.holoviews_exec.v0+json": {
       "id": "2388"
      }
     },
     "output_type": "execute_result"
    }
   ],
   "source": [
    "Gas_Emission_bar_plot"
   ]
  },
  {
   "cell_type": "code",
   "execution_count": 65,
   "id": "268c3092-e8e1-433b-ae2e-9a9490a4d750",
   "metadata": {},
   "outputs": [],
   "source": [
    "pd_CO2_sources_Country = pd.read_sql_query(\"EXECUTE GetCO2ByDifferentSourcesPerCountry '3','1','Kenya'\", conn)"
   ]
  },
  {
   "cell_type": "code",
   "execution_count": 66,
   "id": "9b335856-c5ea-49ec-af66-3fb1e5ca0e5e",
   "metadata": {},
   "outputs": [],
   "source": [
    "IP_CO2_sources_Country = pd_CO2_sources_Country.interactive()"
   ]
  },
  {
   "cell_type": "code",
   "execution_count": 67,
   "id": "6d6c56af-2fd8-4e63-b92b-ec32076c2949",
   "metadata": {},
   "outputs": [],
   "source": [
    "CO2_sources_Country_pipe = (IP_CO2_sources_Country[\n",
    "    (Ipd_Country_stas.Year <= year_slider ) \n",
    "    & (Ipd_Country_stas.Country_Name == Countries_select )\n",
    "   \n",
    "]\n",
    "                             .groupby(['Sources_Name','Year','Country_Name','Gas_Name'])['Amount']\n",
    "                             .sum()\n",
    "                             .to_frame()\n",
    "                             .reset_index()\n",
    "                             .sort_values(by='Year')  \n",
    "                             .reset_index(drop=True)\n",
    "\n",
    "                            )"
   ]
  },
  {
   "cell_type": "code",
   "execution_count": 68,
   "id": "c96f1eb7-20e5-4abe-b43e-29c9f5817074",
   "metadata": {},
   "outputs": [
    {
     "data": {},
     "metadata": {},
     "output_type": "display_data"
    },
    {
     "data": {
      "application/vnd.holoviews_exec.v0+json": "",
      "text/html": [
       "<div id='2729'>\n",
       "\n",
       "\n",
       "\n",
       "\n",
       "\n",
       "  <div class=\"bk-root\" id=\"5eed6354-5414-4ee4-86e0-b159ccd0c9da\" data-root-id=\"2729\"></div>\n",
       "</div>\n",
       "<script type=\"application/javascript\">(function(root) {\n",
       "  function embed_document(root) {\n",
       "    var docs_json = {\"d9fc6774-ae35-479f-b243-a1c4c9885e7d\":{\"defs\":[{\"extends\":null,\"module\":null,\"name\":\"ReactiveHTML1\",\"overrides\":[],\"properties\":[]},{\"extends\":null,\"module\":null,\"name\":\"FlexBox1\",\"overrides\":[],\"properties\":[{\"default\":\"flex-start\",\"kind\":null,\"name\":\"align_content\"},{\"default\":\"flex-start\",\"kind\":null,\"name\":\"align_items\"},{\"default\":\"row\",\"kind\":null,\"name\":\"flex_direction\"},{\"default\":\"wrap\",\"kind\":null,\"name\":\"flex_wrap\"},{\"default\":\"flex-start\",\"kind\":null,\"name\":\"justify_content\"}]},{\"extends\":null,\"module\":null,\"name\":\"GridStack1\",\"overrides\":[],\"properties\":[{\"default\":\"warn\",\"kind\":null,\"name\":\"mode\"},{\"default\":null,\"kind\":null,\"name\":\"ncols\"},{\"default\":null,\"kind\":null,\"name\":\"nrows\"},{\"default\":true,\"kind\":null,\"name\":\"allow_resize\"},{\"default\":true,\"kind\":null,\"name\":\"allow_drag\"},{\"default\":[],\"kind\":null,\"name\":\"state\"}]},{\"extends\":null,\"module\":null,\"name\":\"click1\",\"overrides\":[],\"properties\":[{\"default\":\"\",\"kind\":null,\"name\":\"terminal_output\"},{\"default\":\"\",\"kind\":null,\"name\":\"debug_name\"},{\"default\":0,\"kind\":null,\"name\":\"clears\"}]},{\"extends\":null,\"module\":null,\"name\":\"NotificationAreaBase1\",\"overrides\":[],\"properties\":[{\"default\":\"bottom-right\",\"kind\":null,\"name\":\"position\"},{\"default\":0,\"kind\":null,\"name\":\"_clear\"}]},{\"extends\":null,\"module\":null,\"name\":\"NotificationArea1\",\"overrides\":[],\"properties\":[{\"default\":[],\"kind\":null,\"name\":\"notifications\"},{\"default\":\"bottom-right\",\"kind\":null,\"name\":\"position\"},{\"default\":0,\"kind\":null,\"name\":\"_clear\"},{\"default\":[{\"background\":\"#ffc107\",\"icon\":{\"className\":\"fas fa-exclamation-triangle\",\"color\":\"white\",\"tagName\":\"i\"},\"type\":\"warning\"},{\"background\":\"#007bff\",\"icon\":{\"className\":\"fas fa-info-circle\",\"color\":\"white\",\"tagName\":\"i\"},\"type\":\"info\"}],\"kind\":null,\"name\":\"types\"}]},{\"extends\":null,\"module\":null,\"name\":\"Notification\",\"overrides\":[],\"properties\":[{\"default\":null,\"kind\":null,\"name\":\"background\"},{\"default\":3000,\"kind\":null,\"name\":\"duration\"},{\"default\":null,\"kind\":null,\"name\":\"icon\"},{\"default\":\"\",\"kind\":null,\"name\":\"message\"},{\"default\":null,\"kind\":null,\"name\":\"notification_type\"},{\"default\":false,\"kind\":null,\"name\":\"_destroyed\"}]},{\"extends\":null,\"module\":null,\"name\":\"TemplateActions1\",\"overrides\":[],\"properties\":[{\"default\":0,\"kind\":null,\"name\":\"open_modal\"},{\"default\":0,\"kind\":null,\"name\":\"close_modal\"}]},{\"extends\":null,\"module\":null,\"name\":\"MaterialTemplateActions1\",\"overrides\":[],\"properties\":[{\"default\":0,\"kind\":null,\"name\":\"open_modal\"},{\"default\":0,\"kind\":null,\"name\":\"close_modal\"}]}],\"roots\":{\"references\":[{\"attributes\":{\"completions\":[\"Afghanistan\",\"Albania\",\"Algeria\",\"Andorra\",\"Angola\",\"Anguilla\",\"Antarctica\",\"Antigua and Barbuda\",\"Argentina\",\"Armenia\",\"Aruba\",\"Australia\",\"Austria\",\"Azerbaijan\",\"Bahamas\",\"Bahrain\",\"Bangladesh\",\"Barbados\",\"Belarus\",\"Belgium\",\"Belize\",\"Benin\",\"Bermuda\",\"Bhutan\",\"Bolivia\",\"Bonaire Sint Eustatius and Saba\",\"Bosnia and Herzegovina\",\"Botswana\",\"Brazil\",\"British Virgin Islands\",\"Brunei\",\"Bulgaria\",\"Burkina Faso\",\"Burundi\",\"Cambodia\",\"Cameroon\",\"Canada\",\"Cape Verde\",\"Central African Republic\",\"Chad\",\"Chile\",\"China\",\"Christmas Island\",\"Colombia\",\"Comoros\",\"Congo\",\"Cook Islands\",\"Costa Rica\",\"Cote d'Ivoire\",\"Croatia\",\"Cuba\",\"Curacao\",\"Cyprus\",\"Czechia\",\"Democratic Republic of Congo\",\"Denmark\",\"Djibouti\",\"Dominica\",\"Dominican Republic\",\"Ecuador\",\"Egypt\",\"El Salvador\",\"Equatorial Guinea\",\"Eritrea\",\"Estonia\",\"Eswatini\",\"Ethiopia\",\"Faeroe Islands\",\"Fiji\",\"Finland\",\"France\",\"French Guiana\",\"French Polynesia\",\"Gabon\",\"Gambia\",\"Georgia\",\"Germany\",\"Ghana\",\"Greece\",\"Greenland\",\"Grenada\",\"Guadeloupe\",\"Guatemala\",\"Guinea\",\"Guinea-Bissau\",\"Guyana\",\"Haiti\",\"Honduras\",\"Hong Kong\",\"Hungary\",\"Iceland\",\"India\",\"Indonesia\",\"Iran\",\"Iraq\",\"Ireland\",\"Israel\",\"Italy\",\"Jamaica\",\"Japan\",\"Jordan\",\"Kazakhstan\",\"Kenya\",\"Kiribati\",\"Kosovo\",\"Kuwait\",\"Kyrgyzstan\",\"Laos\",\"Latvia\",\"Lebanon\",\"Lesotho\",\"Liberia\",\"Libya\",\"Liechtenstein\",\"Lithuania\",\"Luxembourg\",\"Madagascar\",\"Malawi\",\"Malaysia\",\"Maldives\",\"Mali\",\"Malta\",\"Marshall Islands\",\"Martinique\",\"Mauritania\",\"Mauritius\",\"Mayotte\",\"Mexico\",\"Moldova\",\"Mongolia\",\"Montenegro\",\"Montserrat\",\"Morocco\",\"Mozambique\",\"Myanmar\",\"Namibia\",\"Nauru\",\"Nepal\",\"Netherlands\",\"New Caledonia\",\"New Zealand\",\"Nicaragua\",\"Niger\",\"Nigeria\",\"Niue\",\"North Korea\",\"North Macedonia\",\"Norway\",\"Oman\",\"Pakistan\",\"Palau\",\"Palestine\",\"Panama\",\"Papua New Guinea\",\"Paraguay\",\"Peru\",\"Philippines\",\"Poland\",\"Portugal\",\"Puerto Rico\",\"Qatar\",\"Romania\",\"Russia\",\"Rwanda\",\"Saint Helena\",\"Saint Kitts and Nevis\",\"Saint Lucia\",\"Saint Pierre and Miquelon\",\"Saint Vincent and the Grenadines\",\"Samoa\",\"Sao Tome and Principe\",\"Saudi Arabia\",\"Senegal\",\"Serbia\",\"Seychelles\",\"Sierra Leone\",\"Singapore\",\"Sint Maarten (Dutch part)\",\"Slovakia\",\"Slovenia\",\"Solomon Islands\",\"Somalia\",\"South Africa\",\"South Korea\",\"South Sudan\",\"Spain\",\"Sri Lanka\",\"Sudan\",\"Suriname\",\"Sweden\",\"Switzerland\",\"Syria\",\"Taiwan\",\"Tajikistan\",\"Tanzania\",\"Thailand\",\"Timor\",\"Togo\",\"Tonga\",\"Trinidad and Tobago\",\"Tunisia\",\"Turkey\",\"Turkmenistan\",\"Turks and Caicos Islands\",\"Tuvalu\",\"Uganda\",\"Ukraine\",\"United Arab Emirates\",\"United Kingdom\",\"United States\",\"Uruguay\",\"Uzbekistan\",\"Vanuatu\",\"Venezuela\",\"Vietnam\",\"World\",\"Yemen\",\"Zambia\",\"Zimbabwe\"],\"margin\":[5,10,5,10],\"placeholder\":\"Enter Name of the country\",\"title\":\"Countries\",\"value\":\"United Kingdom\"},\"id\":\"2734\",\"type\":\"AutocompleteInput\"},{\"attributes\":{},\"id\":\"2766\",\"type\":\"NumberEditor\"},{\"attributes\":{\"columns\":[{\"id\":\"2742\"},{\"id\":\"2747\"},{\"id\":\"2752\"},{\"id\":\"2757\"},{\"id\":\"2762\"},{\"id\":\"2767\"}],\"configuration\":{\"columns\":[{\"field\":\"index\"},{\"field\":\"Sources_Name\"},{\"field\":\"Year\"},{\"field\":\"Country_Name\"},{\"field\":\"Gas_Name\"},{\"field\":\"Amount\"}],\"dataTree\":false,\"selectable\":true},\"indexes\":[\"index\"],\"layout\":\"fit_data_table\",\"margin\":[5,10,5,10],\"max_page\":163,\"name\":\"\",\"page\":1,\"page_size\":10,\"pagination\":\"remote\",\"select_mode\":true,\"selectable_rows\":null,\"sizing_mode\":\"stretch_width\",\"source\":{\"id\":\"2737\"},\"styles\":{\"data\":{},\"id\":\"7723e0aeb1ed4f08a1dabc7a0802cf8a\"},\"subscribed_events\":[\"table-edit\",\"cell-click\"]},\"id\":\"2770\",\"type\":\"panel.models.tabulator.DataTabulator\"},{\"attributes\":{},\"id\":\"2741\",\"type\":\"CellEditor\"},{\"attributes\":{},\"id\":\"2755\",\"type\":\"StringFormatter\"},{\"attributes\":{\"end\":2020,\"margin\":[5,10,5,10],\"start\":1750,\"step\":5,\"title\":\"Year slider\",\"value\":2020},\"id\":\"2733\",\"type\":\"Slider\"},{\"attributes\":{},\"id\":\"2756\",\"type\":\"StringEditor\"},{\"attributes\":{\"editor\":{\"id\":\"2766\"},\"field\":\"Amount\",\"formatter\":{\"id\":\"2765\"},\"title\":\"Amount\",\"width\":0},\"id\":\"2767\",\"type\":\"TableColumn\"},{\"attributes\":{\"editor\":{\"id\":\"2756\"},\"field\":\"Country_Name\",\"formatter\":{\"id\":\"2755\"},\"title\":\"Country_Name\",\"width\":0},\"id\":\"2757\",\"type\":\"TableColumn\"},{\"attributes\":{\"client_comm_id\":\"19899aa879124d77b7e2d05522592361\",\"comm_id\":\"02c3122490ec488a934f1e9bc724a657\",\"plot_id\":\"2729\"},\"id\":\"2778\",\"type\":\"panel.models.comm_manager.CommManager\"},{\"attributes\":{},\"id\":\"2772\",\"type\":\"UnionRenderers\"},{\"attributes\":{},\"id\":\"2745\",\"type\":\"StringFormatter\"},{\"attributes\":{\"margin\":[5,5,5,5],\"name\":\"HSpacer13354\",\"sizing_mode\":\"stretch_width\"},\"id\":\"2735\",\"type\":\"Spacer\"},{\"attributes\":{},\"id\":\"2746\",\"type\":\"StringEditor\"},{\"attributes\":{\"editor\":{\"id\":\"2746\"},\"field\":\"Sources_Name\",\"formatter\":{\"id\":\"2745\"},\"title\":\"Sources_Name\",\"width\":0},\"id\":\"2747\",\"type\":\"TableColumn\"},{\"attributes\":{\"children\":[{\"id\":\"2733\"},{\"id\":\"2734\"}],\"margin\":[0,0,0,0],\"name\":\"Column13329\"},\"id\":\"2732\",\"type\":\"Column\"},{\"attributes\":{\"children\":[{\"id\":\"2731\"},{\"id\":\"2736\"}],\"margin\":[0,0,0,0],\"name\":\"Column13356\"},\"id\":\"2730\",\"type\":\"Column\"},{\"attributes\":{\"text_align\":\"left\"},\"id\":\"2739\",\"type\":\"NumberFormatter\"},{\"attributes\":{\"children\":[{\"id\":\"2730\"}],\"margin\":[0,0,0,0],\"name\":\"Row13357\"},\"id\":\"2729\",\"type\":\"Row\"},{\"attributes\":{},\"id\":\"2760\",\"type\":\"StringFormatter\"},{\"attributes\":{\"children\":[{\"id\":\"2770\"}],\"margin\":[0,0,0,0],\"name\":\"Row13334\"},\"id\":\"2736\",\"type\":\"Row\"},{\"attributes\":{},\"id\":\"2761\",\"type\":\"StringEditor\"},{\"attributes\":{\"editor\":{\"id\":\"2761\"},\"field\":\"Gas_Name\",\"formatter\":{\"id\":\"2760\"},\"title\":\"Gas_Name\",\"width\":0},\"id\":\"2762\",\"type\":\"TableColumn\"},{\"attributes\":{\"text_align\":\"right\"},\"id\":\"2750\",\"type\":\"NumberFormatter\"},{\"attributes\":{\"data\":{\"Amount\":{\"__ndarray__\":\"AAAAAAAAAAAAAAAAAAAAAAAAAAAAAAAAAAAAAAAAAAAAAAAAAAAAAMHKoUW2syJAAAAAAAAAAAAAAAAAAAAAAAAAAAAAAAAAAAAAAAAAAAA=\",\"dtype\":\"float64\",\"order\":\"little\",\"shape\":[10]},\"Country_Name\":[\"United Kingdom\",\"United Kingdom\",\"United Kingdom\",\"United Kingdom\",\"United Kingdom\",\"United Kingdom\",\"United Kingdom\",\"United Kingdom\",\"United Kingdom\",\"United Kingdom\"],\"Gas_Name\":[\"carbon dioxide (CO2)\",\"carbon dioxide (CO2)\",\"carbon dioxide (CO2)\",\"carbon dioxide (CO2)\",\"carbon dioxide (CO2)\",\"carbon dioxide (CO2)\",\"carbon dioxide (CO2)\",\"carbon dioxide (CO2)\",\"carbon dioxide (CO2)\",\"carbon dioxide (CO2)\"],\"Sources_Name\":[\"Cement\",\"Flaring\",\"Gas\",\"Oil\",\"Other_industry\",\"Coal\",\"Other_industry\",\"Oil\",\"Flaring\",\"Cement\"],\"Year\":[1750,1750,1750,1750,1750,1750,1751,1751,1751,1751],\"index\":[0,1,2,3,4,5,6,7,8,9]},\"selected\":{\"id\":\"2738\"},\"selection_policy\":{\"id\":\"2772\"}},\"id\":\"2737\",\"type\":\"ColumnDataSource\"},{\"attributes\":{},\"id\":\"2751\",\"type\":\"IntEditor\"},{\"attributes\":{\"editor\":{\"id\":\"2741\"},\"field\":\"index\",\"formatter\":{\"id\":\"2739\"},\"title\":\"index\",\"width\":0},\"id\":\"2742\",\"type\":\"TableColumn\"},{\"attributes\":{\"indices\":[]},\"id\":\"2738\",\"type\":\"Selection\"},{\"attributes\":{\"editor\":{\"id\":\"2751\"},\"field\":\"Year\",\"formatter\":{\"id\":\"2750\"},\"title\":\"Year\",\"width\":0},\"id\":\"2752\",\"type\":\"TableColumn\"},{\"attributes\":{\"children\":[{\"id\":\"2732\"},{\"id\":\"2735\"}],\"margin\":[0,0,0,0],\"name\":\"Row13355\"},\"id\":\"2731\",\"type\":\"Row\"},{\"attributes\":{\"format\":\"0,0.0[00000]\",\"text_align\":\"right\"},\"id\":\"2765\",\"type\":\"NumberFormatter\"}],\"root_ids\":[\"2729\",\"2778\"]},\"title\":\"Bokeh Application\",\"version\":\"2.4.1\"}};\n",
       "    var render_items = [{\"docid\":\"d9fc6774-ae35-479f-b243-a1c4c9885e7d\",\"root_ids\":[\"2729\"],\"roots\":{\"2729\":\"5eed6354-5414-4ee4-86e0-b159ccd0c9da\"}}];\n",
       "    root.Bokeh.embed.embed_items_notebook(docs_json, render_items);\n",
       "  }\n",
       "  if (root.Bokeh !== undefined && root.Bokeh.Panel !== undefined && ( root['Tabulator'] !== undefined) && ( root['Tabulator'] !== undefined) && ( root['Tabulator'] !== undefined)) {\n",
       "    embed_document(root);\n",
       "  } else {\n",
       "    var attempts = 0;\n",
       "    var timer = setInterval(function(root) {\n",
       "      if (root.Bokeh !== undefined && root.Bokeh.Panel !== undefined && (root['Tabulator'] !== undefined) && (root['Tabulator'] !== undefined) && (root['Tabulator'] !== undefined)) {\n",
       "        clearInterval(timer);\n",
       "        embed_document(root);\n",
       "      } else if (document.readyState == \"complete\") {\n",
       "        attempts++;\n",
       "        if (attempts > 200) {\n",
       "          clearInterval(timer);\n",
       "          console.log(\"Bokeh: ERROR: Unable to run BokehJS code because BokehJS library is missing\");\n",
       "        }\n",
       "      }\n",
       "    }, 25, root)\n",
       "  }\n",
       "})(window);</script>"
      ],
      "text/plain": [
       "<hvplot.interactive.Interactive at 0x27fedbe1c70>"
      ]
     },
     "execution_count": 68,
     "metadata": {
      "application/vnd.holoviews_exec.v0+json": {
       "id": "2729"
      }
     },
     "output_type": "execute_result"
    }
   ],
   "source": [
    "CO2_sources_table = CO2_sources_Country_pipe.pipe(pn.widgets.Tabulator, pagination='remote', page_size = 10, sizing_mode='stretch_width') \n",
    "CO2_sources_table"
   ]
  },
  {
   "cell_type": "code",
   "execution_count": 69,
   "id": "0598b77f-1feb-4cf9-bb67-27dddd2f5dda",
   "metadata": {},
   "outputs": [],
   "source": [
    "CO2_sources_bar_plot = CO2_sources_Country_pipe.hvplot(kind='line', \n",
    "                                                     x='Year', \n",
    "                                                     y='Amount', \n",
    "                                                     title='Sources of CO2',\n",
    "                                                     by='Sources_Name',\n",
    "                                                    )"
   ]
  },
  {
   "cell_type": "code",
   "execution_count": 70,
   "id": "fa282ad4-1b24-498a-9a0e-d6c79a48d5c1",
   "metadata": {},
   "outputs": [
    {
     "data": {},
     "metadata": {},
     "output_type": "display_data"
    },
    {
     "data": {},
     "metadata": {},
     "output_type": "display_data"
    },
    {
     "data": {
      "application/vnd.holoviews_exec.v0+json": "",
      "text/html": [
       "<div id='2789'>\n",
       "\n",
       "\n",
       "\n",
       "\n",
       "\n",
       "  <div class=\"bk-root\" id=\"bbed3d2c-fd2c-4b1f-a02e-2cedcc4b66bb\" data-root-id=\"2789\"></div>\n",
       "</div>\n",
       "<script type=\"application/javascript\">(function(root) {\n",
       "  function embed_document(root) {\n",
       "    var docs_json = {\"5a1dc265-8bf5-4e1a-8d76-ce0a72af1d96\":{\"defs\":[{\"extends\":null,\"module\":null,\"name\":\"ReactiveHTML1\",\"overrides\":[],\"properties\":[]},{\"extends\":null,\"module\":null,\"name\":\"FlexBox1\",\"overrides\":[],\"properties\":[{\"default\":\"flex-start\",\"kind\":null,\"name\":\"align_content\"},{\"default\":\"flex-start\",\"kind\":null,\"name\":\"align_items\"},{\"default\":\"row\",\"kind\":null,\"name\":\"flex_direction\"},{\"default\":\"wrap\",\"kind\":null,\"name\":\"flex_wrap\"},{\"default\":\"flex-start\",\"kind\":null,\"name\":\"justify_content\"}]},{\"extends\":null,\"module\":null,\"name\":\"GridStack1\",\"overrides\":[],\"properties\":[{\"default\":\"warn\",\"kind\":null,\"name\":\"mode\"},{\"default\":null,\"kind\":null,\"name\":\"ncols\"},{\"default\":null,\"kind\":null,\"name\":\"nrows\"},{\"default\":true,\"kind\":null,\"name\":\"allow_resize\"},{\"default\":true,\"kind\":null,\"name\":\"allow_drag\"},{\"default\":[],\"kind\":null,\"name\":\"state\"}]},{\"extends\":null,\"module\":null,\"name\":\"click1\",\"overrides\":[],\"properties\":[{\"default\":\"\",\"kind\":null,\"name\":\"terminal_output\"},{\"default\":\"\",\"kind\":null,\"name\":\"debug_name\"},{\"default\":0,\"kind\":null,\"name\":\"clears\"}]},{\"extends\":null,\"module\":null,\"name\":\"NotificationAreaBase1\",\"overrides\":[],\"properties\":[{\"default\":\"bottom-right\",\"kind\":null,\"name\":\"position\"},{\"default\":0,\"kind\":null,\"name\":\"_clear\"}]},{\"extends\":null,\"module\":null,\"name\":\"NotificationArea1\",\"overrides\":[],\"properties\":[{\"default\":[],\"kind\":null,\"name\":\"notifications\"},{\"default\":\"bottom-right\",\"kind\":null,\"name\":\"position\"},{\"default\":0,\"kind\":null,\"name\":\"_clear\"},{\"default\":[{\"background\":\"#ffc107\",\"icon\":{\"className\":\"fas fa-exclamation-triangle\",\"color\":\"white\",\"tagName\":\"i\"},\"type\":\"warning\"},{\"background\":\"#007bff\",\"icon\":{\"className\":\"fas fa-info-circle\",\"color\":\"white\",\"tagName\":\"i\"},\"type\":\"info\"}],\"kind\":null,\"name\":\"types\"}]},{\"extends\":null,\"module\":null,\"name\":\"Notification\",\"overrides\":[],\"properties\":[{\"default\":null,\"kind\":null,\"name\":\"background\"},{\"default\":3000,\"kind\":null,\"name\":\"duration\"},{\"default\":null,\"kind\":null,\"name\":\"icon\"},{\"default\":\"\",\"kind\":null,\"name\":\"message\"},{\"default\":null,\"kind\":null,\"name\":\"notification_type\"},{\"default\":false,\"kind\":null,\"name\":\"_destroyed\"}]},{\"extends\":null,\"module\":null,\"name\":\"TemplateActions1\",\"overrides\":[],\"properties\":[{\"default\":0,\"kind\":null,\"name\":\"open_modal\"},{\"default\":0,\"kind\":null,\"name\":\"close_modal\"}]},{\"extends\":null,\"module\":null,\"name\":\"MaterialTemplateActions1\",\"overrides\":[],\"properties\":[{\"default\":0,\"kind\":null,\"name\":\"open_modal\"},{\"default\":0,\"kind\":null,\"name\":\"close_modal\"}]}],\"roots\":{\"references\":[{\"attributes\":{},\"id\":\"2963\",\"type\":\"Selection\"},{\"attributes\":{},\"id\":\"2836\",\"type\":\"BasicTickFormatter\"},{\"attributes\":{},\"id\":\"2823\",\"type\":\"PanTool\"},{\"attributes\":{},\"id\":\"2879\",\"type\":\"UnionRenderers\"},{\"attributes\":{\"source\":{\"id\":\"2908\"}},\"id\":\"2915\",\"type\":\"CDSView\"},{\"attributes\":{},\"id\":\"2824\",\"type\":\"WheelZoomTool\"},{\"attributes\":{},\"id\":\"2842\",\"type\":\"Selection\"},{\"attributes\":{},\"id\":\"2822\",\"type\":\"SaveTool\"},{\"attributes\":{\"source\":{\"id\":\"2934\"}},\"id\":\"2941\",\"type\":\"CDSView\"},{\"attributes\":{\"coordinates\":null,\"data_source\":{\"id\":\"2908\"},\"glyph\":{\"id\":\"2911\"},\"group\":null,\"hover_glyph\":null,\"muted_glyph\":{\"id\":\"2913\"},\"nonselection_glyph\":{\"id\":\"2912\"},\"selection_glyph\":{\"id\":\"2933\"},\"view\":{\"id\":\"2915\"}},\"id\":\"2914\",\"type\":\"GlyphRenderer\"},{\"attributes\":{\"overlay\":{\"id\":\"2827\"}},\"id\":\"2825\",\"type\":\"BoxZoomTool\"},{\"attributes\":{},\"id\":\"2826\",\"type\":\"ResetTool\"},{\"attributes\":{\"line_color\":\"#6d904f\",\"line_width\":2,\"x\":{\"field\":\"Year\"},\"y\":{\"field\":\"Amount\"}},\"id\":\"2911\",\"type\":\"Line\"},{\"attributes\":{\"line_alpha\":0.1,\"line_color\":\"#6d904f\",\"line_width\":2,\"x\":{\"field\":\"Year\"},\"y\":{\"field\":\"Amount\"}},\"id\":\"2912\",\"type\":\"Line\"},{\"attributes\":{\"bottom_units\":\"screen\",\"coordinates\":null,\"fill_alpha\":0.5,\"fill_color\":\"lightgrey\",\"group\":null,\"left_units\":\"screen\",\"level\":\"overlay\",\"line_alpha\":1.0,\"line_color\":\"black\",\"line_dash\":[4,4],\"line_width\":2,\"right_units\":\"screen\",\"syncable\":false,\"top_units\":\"screen\"},\"id\":\"2827\",\"type\":\"BoxAnnotation\"},{\"attributes\":{\"line_alpha\":0.2,\"line_color\":\"#6d904f\",\"line_width\":2,\"x\":{\"field\":\"Year\"},\"y\":{\"field\":\"Amount\"}},\"id\":\"2913\",\"type\":\"Line\"},{\"attributes\":{\"line_color\":\"#8b8b8b\",\"line_width\":2,\"x\":{\"field\":\"Year\"},\"y\":{\"field\":\"Amount\"}},\"id\":\"2937\",\"type\":\"Line\"},{\"attributes\":{},\"id\":\"2837\",\"type\":\"AllLabels\"},{\"attributes\":{},\"id\":\"2856\",\"type\":\"UnionRenderers\"},{\"attributes\":{\"line_color\":\"#8b8b8b\",\"line_width\":2,\"x\":{\"field\":\"Year\"},\"y\":{\"field\":\"Amount\"}},\"id\":\"2961\",\"type\":\"Line\"},{\"attributes\":{\"label\":{\"value\":\"Gas\"},\"renderers\":[{\"id\":\"2914\"}]},\"id\":\"2932\",\"type\":\"LegendItem\"},{\"attributes\":{\"source\":{\"id\":\"2962\"}},\"id\":\"2969\",\"type\":\"CDSView\"},{\"attributes\":{\"label\":{\"value\":\"Cement\"},\"renderers\":[{\"id\":\"2847\"}]},\"id\":\"2860\",\"type\":\"LegendItem\"},{\"attributes\":{},\"id\":\"2929\",\"type\":\"UnionRenderers\"},{\"attributes\":{\"label\":{\"value\":\"Coal\"},\"renderers\":[{\"id\":\"2868\"}]},\"id\":\"2882\",\"type\":\"LegendItem\"},{\"attributes\":{\"label\":{\"value\":\"Other_industry\"},\"renderers\":[{\"id\":\"2968\"}]},\"id\":\"2990\",\"type\":\"LegendItem\"},{\"attributes\":{},\"id\":\"2987\",\"type\":\"UnionRenderers\"},{\"attributes\":{\"children\":[{\"id\":\"2792\"},{\"id\":\"2795\"}],\"margin\":[0,0,0,0],\"name\":\"Row13900\"},\"id\":\"2791\",\"type\":\"Row\"},{\"attributes\":{\"line_alpha\":0.2,\"line_color\":\"#17becf\",\"line_width\":2,\"x\":{\"field\":\"Year\"},\"y\":{\"field\":\"Amount\"}},\"id\":\"2967\",\"type\":\"Line\"},{\"attributes\":{\"tools\":[{\"id\":\"2799\"},{\"id\":\"2822\"},{\"id\":\"2823\"},{\"id\":\"2824\"},{\"id\":\"2825\"},{\"id\":\"2826\"}]},\"id\":\"2828\",\"type\":\"Toolbar\"},{\"attributes\":{\"line_alpha\":0.1,\"line_color\":\"#17becf\",\"line_width\":2,\"x\":{\"field\":\"Year\"},\"y\":{\"field\":\"Amount\"}},\"id\":\"2966\",\"type\":\"Line\"},{\"attributes\":{\"callback\":null,\"renderers\":[{\"id\":\"2847\"},{\"id\":\"2868\"},{\"id\":\"2890\"},{\"id\":\"2914\"},{\"id\":\"2940\"},{\"id\":\"2968\"}],\"tags\":[\"hv_created\"],\"tooltips\":[[\"Sources_Name\",\"@{Sources_Name}\"],[\"Year\",\"@{Year}\"],[\"Amount\",\"@{Amount}\"]]},\"id\":\"2799\",\"type\":\"HoverTool\"},{\"attributes\":{\"children\":[{\"id\":\"2793\"},{\"id\":\"2794\"}],\"margin\":[0,0,0,0],\"name\":\"Column13633\"},\"id\":\"2792\",\"type\":\"Column\"},{\"attributes\":{\"coordinates\":null,\"data_source\":{\"id\":\"2962\"},\"glyph\":{\"id\":\"2965\"},\"group\":null,\"hover_glyph\":null,\"muted_glyph\":{\"id\":\"2967\"},\"nonselection_glyph\":{\"id\":\"2966\"},\"selection_glyph\":{\"id\":\"2991\"},\"view\":{\"id\":\"2969\"}},\"id\":\"2968\",\"type\":\"GlyphRenderer\"},{\"attributes\":{},\"id\":\"2885\",\"type\":\"Selection\"},{\"attributes\":{\"end\":2020,\"margin\":[5,10,5,10],\"start\":1750,\"step\":5,\"title\":\"Year slider\",\"value\":2020},\"id\":\"2793\",\"type\":\"Slider\"},{\"attributes\":{\"line_color\":\"#17becf\",\"line_width\":2,\"x\":{\"field\":\"Year\"},\"y\":{\"field\":\"Amount\"}},\"id\":\"2991\",\"type\":\"Line\"},{\"attributes\":{\"end\":2020.0,\"reset_end\":2020.0,\"reset_start\":1750.0,\"start\":1750.0,\"tags\":[[[\"Year\",\"Year\",null]]]},\"id\":\"2797\",\"type\":\"Range1d\"},{\"attributes\":{\"line_color\":\"#fc4f30\",\"line_width\":2,\"x\":{\"field\":\"Year\"},\"y\":{\"field\":\"Amount\"}},\"id\":\"2883\",\"type\":\"Line\"},{\"attributes\":{\"completions\":[\"Afghanistan\",\"Albania\",\"Algeria\",\"Andorra\",\"Angola\",\"Anguilla\",\"Antarctica\",\"Antigua and Barbuda\",\"Argentina\",\"Armenia\",\"Aruba\",\"Australia\",\"Austria\",\"Azerbaijan\",\"Bahamas\",\"Bahrain\",\"Bangladesh\",\"Barbados\",\"Belarus\",\"Belgium\",\"Belize\",\"Benin\",\"Bermuda\",\"Bhutan\",\"Bolivia\",\"Bonaire Sint Eustatius and Saba\",\"Bosnia and Herzegovina\",\"Botswana\",\"Brazil\",\"British Virgin Islands\",\"Brunei\",\"Bulgaria\",\"Burkina Faso\",\"Burundi\",\"Cambodia\",\"Cameroon\",\"Canada\",\"Cape Verde\",\"Central African Republic\",\"Chad\",\"Chile\",\"China\",\"Christmas Island\",\"Colombia\",\"Comoros\",\"Congo\",\"Cook Islands\",\"Costa Rica\",\"Cote d'Ivoire\",\"Croatia\",\"Cuba\",\"Curacao\",\"Cyprus\",\"Czechia\",\"Democratic Republic of Congo\",\"Denmark\",\"Djibouti\",\"Dominica\",\"Dominican Republic\",\"Ecuador\",\"Egypt\",\"El Salvador\",\"Equatorial Guinea\",\"Eritrea\",\"Estonia\",\"Eswatini\",\"Ethiopia\",\"Faeroe Islands\",\"Fiji\",\"Finland\",\"France\",\"French Guiana\",\"French Polynesia\",\"Gabon\",\"Gambia\",\"Georgia\",\"Germany\",\"Ghana\",\"Greece\",\"Greenland\",\"Grenada\",\"Guadeloupe\",\"Guatemala\",\"Guinea\",\"Guinea-Bissau\",\"Guyana\",\"Haiti\",\"Honduras\",\"Hong Kong\",\"Hungary\",\"Iceland\",\"India\",\"Indonesia\",\"Iran\",\"Iraq\",\"Ireland\",\"Israel\",\"Italy\",\"Jamaica\",\"Japan\",\"Jordan\",\"Kazakhstan\",\"Kenya\",\"Kiribati\",\"Kosovo\",\"Kuwait\",\"Kyrgyzstan\",\"Laos\",\"Latvia\",\"Lebanon\",\"Lesotho\",\"Liberia\",\"Libya\",\"Liechtenstein\",\"Lithuania\",\"Luxembourg\",\"Madagascar\",\"Malawi\",\"Malaysia\",\"Maldives\",\"Mali\",\"Malta\",\"Marshall Islands\",\"Martinique\",\"Mauritania\",\"Mauritius\",\"Mayotte\",\"Mexico\",\"Moldova\",\"Mongolia\",\"Montenegro\",\"Montserrat\",\"Morocco\",\"Mozambique\",\"Myanmar\",\"Namibia\",\"Nauru\",\"Nepal\",\"Netherlands\",\"New Caledonia\",\"New Zealand\",\"Nicaragua\",\"Niger\",\"Nigeria\",\"Niue\",\"North Korea\",\"North Macedonia\",\"Norway\",\"Oman\",\"Pakistan\",\"Palau\",\"Palestine\",\"Panama\",\"Papua New Guinea\",\"Paraguay\",\"Peru\",\"Philippines\",\"Poland\",\"Portugal\",\"Puerto Rico\",\"Qatar\",\"Romania\",\"Russia\",\"Rwanda\",\"Saint Helena\",\"Saint Kitts and Nevis\",\"Saint Lucia\",\"Saint Pierre and Miquelon\",\"Saint Vincent and the Grenadines\",\"Samoa\",\"Sao Tome and Principe\",\"Saudi Arabia\",\"Senegal\",\"Serbia\",\"Seychelles\",\"Sierra Leone\",\"Singapore\",\"Sint Maarten (Dutch part)\",\"Slovakia\",\"Slovenia\",\"Solomon Islands\",\"Somalia\",\"South Africa\",\"South Korea\",\"South Sudan\",\"Spain\",\"Sri Lanka\",\"Sudan\",\"Suriname\",\"Sweden\",\"Switzerland\",\"Syria\",\"Taiwan\",\"Tajikistan\",\"Tanzania\",\"Thailand\",\"Timor\",\"Togo\",\"Tonga\",\"Trinidad and Tobago\",\"Tunisia\",\"Turkey\",\"Turkmenistan\",\"Turks and Caicos Islands\",\"Tuvalu\",\"Uganda\",\"Ukraine\",\"United Arab Emirates\",\"United Kingdom\",\"United States\",\"Uruguay\",\"Uzbekistan\",\"Vanuatu\",\"Venezuela\",\"Vietnam\",\"World\",\"Yemen\",\"Zambia\",\"Zimbabwe\"],\"margin\":[5,10,5,10],\"placeholder\":\"Enter Name of the country\",\"title\":\"Countries\",\"value\":\"United Kingdom\"},\"id\":\"2794\",\"type\":\"AutocompleteInput\"},{\"attributes\":{\"line_color\":\"#e5ae38\",\"line_width\":2,\"x\":{\"field\":\"Year\"},\"y\":{\"field\":\"Amount\"}},\"id\":\"2887\",\"type\":\"Line\"},{\"attributes\":{\"margin\":[5,5,5,5],\"name\":\"HSpacer13899\",\"sizing_mode\":\"stretch_width\"},\"id\":\"2795\",\"type\":\"Spacer\"},{\"attributes\":{\"children\":[{\"id\":\"2805\"}],\"margin\":[0,0,0,0],\"name\":\"Row13638\"},\"id\":\"2796\",\"type\":\"Row\"},{\"attributes\":{},\"id\":\"2909\",\"type\":\"Selection\"},{\"attributes\":{\"children\":[{\"id\":\"2790\"}],\"margin\":[0,0,0,0],\"name\":\"Row13902\"},\"id\":\"2789\",\"type\":\"Row\"},{\"attributes\":{},\"id\":\"2839\",\"type\":\"BasicTickFormatter\"},{\"attributes\":{\"line_color\":\"#6d904f\",\"line_width\":2,\"x\":{\"field\":\"Year\"},\"y\":{\"field\":\"Amount\"}},\"id\":\"2933\",\"type\":\"Line\"},{\"attributes\":{},\"id\":\"2903\",\"type\":\"UnionRenderers\"},{\"attributes\":{},\"id\":\"2810\",\"type\":\"LinearScale\"},{\"attributes\":{\"below\":[{\"id\":\"2814\"}],\"center\":[{\"id\":\"2817\"},{\"id\":\"2821\"}],\"height\":300,\"left\":[{\"id\":\"2818\"}],\"margin\":[5,5,5,5],\"min_border_bottom\":10,\"min_border_left\":10,\"min_border_right\":10,\"min_border_top\":10,\"renderers\":[{\"id\":\"2847\"},{\"id\":\"2868\"},{\"id\":\"2890\"},{\"id\":\"2914\"},{\"id\":\"2940\"},{\"id\":\"2968\"}],\"right\":[{\"id\":\"2859\"}],\"sizing_mode\":\"fixed\",\"title\":{\"id\":\"2806\"},\"toolbar\":{\"id\":\"2828\"},\"width\":700,\"x_range\":{\"id\":\"2797\"},\"x_scale\":{\"id\":\"2810\"},\"y_range\":{\"id\":\"2798\"},\"y_scale\":{\"id\":\"2812\"}},\"id\":\"2805\",\"subtype\":\"Figure\",\"type\":\"Plot\"},{\"attributes\":{\"data\":{\"Amount\":{\"__ndarray__\":\"AAAAAAAAAAAAAAAAAAAAAAAAAAAAAAAAAAAAAAAAAAAAAAAAAAAAAAAAAAAAAAAAAAAAAAAAAAAAAAAAAAAAAAAAAAAAAAAAAAAAAAAAAAAAAAAAAAAAAAAAAAAAAAAAAAAAAAAAAAAAAAAAAAAAAAAAAAAAAAAAAAAAAAAAAAAAAAAAAAAAAAAAAAAAAAAAAAAAAAAAAAAAAAAAAAAAAAAAAAAAAAAAAAAAAAAAAAAAAAAAAAAAAAAAAAAAAAAAAAAAAAAAAAAAAAAAAAAAAAAAAAAAAAAAAAAAAAAAAAAAAAAAAAAAAAAAAAAAAAAAAAAAAAAAAAAAAAAAAAAAAAAAAAAAAAAAAAAAAAAAAAAAAAAAAAAAAAAAAAAAAAAAAAAAAAAAAAAAAAAAAAAAAAAAAAAAAAAAAAAAAAAAAAAAAAAAAAAAAAAAAAAAAAAAAAAAAAAAAAAAAAAAAAAAAAAAAAAAAAAAAAAAAAAAAAAAAAAAAAAAAAAAAAAAAAAAAAAAAAAAAAAAAAAAAAAAAAAAAAAAAAAAAAAAAAAAAAAAAAAAAAAAAAAAAAAAAAAAAAAAAAAAAAAAAAAAAAAAAAAAAAAAAAAAAAAAAAAAAAAAAAAAAAAAAAAAAAAAAAAAAAAAAAAAAAAAAAAAAAAAAAAAAAAAAAAAAAAAAAAAAAAAAAAAAAAAAAAAAAAAAAAAAAAAAAAAAAAAAAAAAAAAAAAAAAAAAAAAAAAAAAAAAAAAAAAAAAAAAAAAAAAAAAAAAAAAAAAAAAAAAAAAAAAAAAAAAAAAAAAAAAAAAAAAAAAAAAAAAAAAAAAAAAAAAAAAAAAAAAAAAAAAAAAAAAAAAAAAAAAAAAAAAAAAAAAAAAAAAAAAAAAAAAAAAAAAAAAAAAAAAAAAAAAAAAAAAAAAAAAAAAAAAAAAAAAAAAAAAAAAAAAAAAAAAAAAAAAAAAAAAAAAAAAAAAAAAAAAAAAAAAAAAAAAAAAAAAAAAAAAAAAAAAAAAAAAAAAAAAAAAAAAAAAAAAAAAAAAAAAAAAAAAAAAAAAAAAAAAAAAAAAAAAAAAAAAAAAAAAAAAAAAAAAAAAAAAAAAAAAAAAAAAAAAAAAAAAAAAAAAAAAAAAAAAAAAAAAAAAAAAHnpJjEIrHw/ukkMAiuHhj/8qfHSTWJwPwAAAAAAAAAA/Knx0k1icD9YObTIdr6vP7pJDAIrh7Y/6SYxCKwcqj+LbOf7qfGiP4PAyqFFtrM/KVyPwvUorD/pJjEIrByqP0w3iUFg5bA/Gy/dJAaBtT+JQWDl0CK7P4PAyqFFtrM/8tJNYhBYyT/8qfHSTWLQP8HKoUW2880/MzMzMzMz0z8/NV66SQzaPwisHFpkO9c/JQaBlUOL4D/D9Shcj8LdPzm0yHa+n+Y/DAIrhxbZ5j9g5dAi2/nqP30/NV66SeQ//Knx0k1i7D+HFtnO91PrP0SLbOf7qe0/6SYxCKwc8j/D9Shcj8LzPylcj8L1KPQ/CtejcD0K+T9g5dAi2/n4P+58PzVeuv0/c2iR7Xw//z8rhxbZzvcAQDMzMzMzMwJAmG4Sg8DKAUA/NV66SQwFQDVeukkMAgdAppvEILByCECHFtnO91MIQFK4HoXrUQtAnMQgsHJoC0D2KFyPwvUMQI2XbhKDwAxAGQRWDi2yDEBeukkMAisNQEa28/3UeBBARIts5/spEUCPwvUoXI8QQLpJDAIrhxFAXI/C9SjcE0CBlUOLbGcXQOXQItv5/h5Ag8DKoUU2HEDZzvdT46UVQDeJQWDl0CNAWDm0yHa+L0C0yHa+nxohQAAAAAAAAAAAF9nO91Pj7T8UrkfhehT6P7ByaJHtfAVALbKd76fGDkCTGARWDq0RQPLSTWIQWBNAtvP91HhpGUD6fmq8dBMRQNejcD0K1wxAz/dT46WbDUCamZmZmZkFQGDl0CLb+QdA/Knx0k1iCkB3vp8aL90PQESLbOf7qQ5AkxgEVg4tEUBt5/up8dIQQIts5/up8RRA0SLb+X5qFEAAAAAAAAARQC2yne+nxgdAqMZLN4lB/j9qvHSTGAT+P3E9CtejcAFAc2iR7Xw/BUBSuB6F69EWQIGVQ4tsZxdAUrgehesRK0ACK4cW2W4xQJZDi2zn+0RAoBov3SQGS0Aj2/l+aqxKQMUgsHJoEUxA4XoUrkeBT0B3vp8aL61RQIGVQ4tsP1JAeekmMQiEVECR7Xw/Nd5WQNnO91PjpVxAcT0K16MkYEAlBoGVQ09hQHNoke18i2JA9P3UeOmaY0CsHFpkO5dlQNv5fmq8uGdA001iEFiZaUBI4XoUroNqQG3n+6nxmmtAUI2XbhLDbUDNzMzMzJJwQOkmMQis2HBAIbByaJEVckB/arx0kz5yQM3MzMzM9nBAcT0K16MsbkAv3SQGgXltQEjhehSuB25AGQRWDi3ybkCcxCCwcqhvQKJFtvP90GpAhxbZzvdnaECkcD0K14doQAwCK4cWaWdABFYOLbLZbUAzMzMzM7dpQDVeukkMKmlAJQaBlUM3aECJQWDl0M5pQFYOLbKd02tAz/dT46VXa0Boke18P21rQCUGgZVDb2tAsHJoke2Ia0D4U+OlmyxrQH0/NV66oWpA1XjpJjFAa0BEi2zn+xVqQJzEILByvGlAaJHtfD9RaUB9PzVeuuFoQMUgsHJo+WhAsHJoke2caEAxCKwcWnRoQDvfT42X5mhAVg4tsp0zaUAMAiuHFsVoQPyp8dJNpmhAGQRWDi2+Z0CsHFpkO7NmQI/C9Shcm2ZAi2zn+6mdZUBg5dAi22FlQKAaL90kzmRARrbz/dTkZEACK4cW2W5lQD0K16Nw3WVASOF6FK77ZUA1XrpJDNJlQPLSTWIQcGVAUI2XbhI7YUA=\",\"dtype\":\"float64\",\"order\":\"little\",\"shape\":[271]},\"Sources_Name\":[\"Oil\",\"Oil\",\"Oil\",\"Oil\",\"Oil\",\"Oil\",\"Oil\",\"Oil\",\"Oil\",\"Oil\",\"Oil\",\"Oil\",\"Oil\",\"Oil\",\"Oil\",\"Oil\",\"Oil\",\"Oil\",\"Oil\",\"Oil\",\"Oil\",\"Oil\",\"Oil\",\"Oil\",\"Oil\",\"Oil\",\"Oil\",\"Oil\",\"Oil\",\"Oil\",\"Oil\",\"Oil\",\"Oil\",\"Oil\",\"Oil\",\"Oil\",\"Oil\",\"Oil\",\"Oil\",\"Oil\",\"Oil\",\"Oil\",\"Oil\",\"Oil\",\"Oil\",\"Oil\",\"Oil\",\"Oil\",\"Oil\",\"Oil\",\"Oil\",\"Oil\",\"Oil\",\"Oil\",\"Oil\",\"Oil\",\"Oil\",\"Oil\",\"Oil\",\"Oil\",\"Oil\",\"Oil\",\"Oil\",\"Oil\",\"Oil\",\"Oil\",\"Oil\",\"Oil\",\"Oil\",\"Oil\",\"Oil\",\"Oil\",\"Oil\",\"Oil\",\"Oil\",\"Oil\",\"Oil\",\"Oil\",\"Oil\",\"Oil\",\"Oil\",\"Oil\",\"Oil\",\"Oil\",\"Oil\",\"Oil\",\"Oil\",\"Oil\",\"Oil\",\"Oil\",\"Oil\",\"Oil\",\"Oil\",\"Oil\",\"Oil\",\"Oil\",\"Oil\",\"Oil\",\"Oil\",\"Oil\",\"Oil\",\"Oil\",\"Oil\",\"Oil\",\"Oil\",\"Oil\",\"Oil\",\"Oil\",\"Oil\",\"Oil\",\"Oil\",\"Oil\",\"Oil\",\"Oil\",\"Oil\",\"Oil\",\"Oil\",\"Oil\",\"Oil\",\"Oil\",\"Oil\",\"Oil\",\"Oil\",\"Oil\",\"Oil\",\"Oil\",\"Oil\",\"Oil\",\"Oil\",\"Oil\",\"Oil\",\"Oil\",\"Oil\",\"Oil\",\"Oil\",\"Oil\",\"Oil\",\"Oil\",\"Oil\",\"Oil\",\"Oil\",\"Oil\",\"Oil\",\"Oil\",\"Oil\",\"Oil\",\"Oil\",\"Oil\",\"Oil\",\"Oil\",\"Oil\",\"Oil\",\"Oil\",\"Oil\",\"Oil\",\"Oil\",\"Oil\",\"Oil\",\"Oil\",\"Oil\",\"Oil\",\"Oil\",\"Oil\",\"Oil\",\"Oil\",\"Oil\",\"Oil\",\"Oil\",\"Oil\",\"Oil\",\"Oil\",\"Oil\",\"Oil\",\"Oil\",\"Oil\",\"Oil\",\"Oil\",\"Oil\",\"Oil\",\"Oil\",\"Oil\",\"Oil\",\"Oil\",\"Oil\",\"Oil\",\"Oil\",\"Oil\",\"Oil\",\"Oil\",\"Oil\",\"Oil\",\"Oil\",\"Oil\",\"Oil\",\"Oil\",\"Oil\",\"Oil\",\"Oil\",\"Oil\",\"Oil\",\"Oil\",\"Oil\",\"Oil\",\"Oil\",\"Oil\",\"Oil\",\"Oil\",\"Oil\",\"Oil\",\"Oil\",\"Oil\",\"Oil\",\"Oil\",\"Oil\",\"Oil\",\"Oil\",\"Oil\",\"Oil\",\"Oil\",\"Oil\",\"Oil\",\"Oil\",\"Oil\",\"Oil\",\"Oil\",\"Oil\",\"Oil\",\"Oil\",\"Oil\",\"Oil\",\"Oil\",\"Oil\",\"Oil\",\"Oil\",\"Oil\",\"Oil\",\"Oil\",\"Oil\",\"Oil\",\"Oil\",\"Oil\",\"Oil\",\"Oil\",\"Oil\",\"Oil\",\"Oil\",\"Oil\",\"Oil\",\"Oil\",\"Oil\",\"Oil\",\"Oil\",\"Oil\",\"Oil\",\"Oil\",\"Oil\",\"Oil\",\"Oil\",\"Oil\",\"Oil\",\"Oil\",\"Oil\",\"Oil\",\"Oil\",\"Oil\",\"Oil\",\"Oil\",\"Oil\",\"Oil\",\"Oil\",\"Oil\"],\"Year\":[1750,1751,1752,1753,1754,1755,1756,1757,1758,1759,1760,1761,1762,1763,1764,1765,1766,1767,1768,1769,1770,1771,1772,1773,1774,1775,1776,1777,1778,1779,1780,1781,1782,1783,1784,1785,1786,1787,1788,1789,1790,1791,1792,1793,1794,1795,1796,1797,1798,1799,1800,1801,1802,1803,1804,1805,1806,1807,1808,1809,1810,1811,1812,1813,1814,1815,1816,1817,1818,1819,1820,1821,1822,1823,1824,1825,1826,1827,1828,1829,1830,1831,1832,1833,1834,1835,1836,1837,1838,1839,1840,1841,1842,1843,1844,1845,1846,1847,1848,1849,1850,1851,1852,1853,1854,1855,1856,1857,1858,1859,1860,1861,1862,1863,1864,1865,1866,1867,1868,1869,1870,1871,1872,1873,1874,1875,1876,1877,1878,1879,1880,1881,1882,1883,1884,1885,1886,1887,1888,1889,1890,1891,1892,1893,1894,1895,1896,1897,1898,1899,1900,1901,1902,1903,1904,1905,1906,1907,1908,1909,1910,1911,1912,1913,1914,1915,1916,1917,1918,1919,1920,1921,1922,1923,1924,1925,1926,1927,1928,1929,1930,1931,1932,1933,1934,1935,1936,1937,1938,1939,1940,1941,1942,1943,1944,1945,1946,1947,1948,1949,1950,1951,1952,1953,1954,1955,1956,1957,1958,1959,1960,1961,1962,1963,1964,1965,1966,1967,1968,1969,1970,1971,1972,1973,1974,1975,1976,1977,1978,1979,1980,1981,1982,1983,1984,1985,1986,1987,1988,1989,1990,1991,1992,1993,1994,1995,1996,1997,1998,1999,2000,2001,2002,2003,2004,2005,2006,2007,2008,2009,2010,2011,2012,2013,2014,2015,2016,2017,2018,2019,2020]},\"selected\":{\"id\":\"2935\"},\"selection_policy\":{\"id\":\"2957\"}},\"id\":\"2934\",\"type\":\"ColumnDataSource\"},{\"attributes\":{\"label\":{\"value\":\"Flaring\"},\"renderers\":[{\"id\":\"2890\"}]},\"id\":\"2906\",\"type\":\"LegendItem\"},{\"attributes\":{},\"id\":\"2935\",\"type\":\"Selection\"},{\"attributes\":{\"end\":551.826,\"reset_end\":551.826,\"reset_start\":-50.166000000000004,\"start\":-50.166000000000004,\"tags\":[[[\"Amount\",\"Amount\",null]]]},\"id\":\"2798\",\"type\":\"Range1d\"},{\"attributes\":{\"children\":[{\"id\":\"2791\"},{\"id\":\"2796\"}],\"margin\":[0,0,0,0],\"name\":\"Column13901\"},\"id\":\"2790\",\"type\":\"Column\"},{\"attributes\":{\"coordinates\":null,\"data_source\":{\"id\":\"2884\"},\"glyph\":{\"id\":\"2887\"},\"group\":null,\"hover_glyph\":null,\"muted_glyph\":{\"id\":\"2889\"},\"nonselection_glyph\":{\"id\":\"2888\"},\"selection_glyph\":{\"id\":\"2907\"},\"view\":{\"id\":\"2891\"}},\"id\":\"2890\",\"type\":\"GlyphRenderer\"},{\"attributes\":{},\"id\":\"2840\",\"type\":\"AllLabels\"},{\"attributes\":{\"line_alpha\":0.1,\"line_color\":\"#8b8b8b\",\"line_width\":2,\"x\":{\"field\":\"Year\"},\"y\":{\"field\":\"Amount\"}},\"id\":\"2938\",\"type\":\"Line\"},{\"attributes\":{\"source\":{\"id\":\"2841\"}},\"id\":\"2848\",\"type\":\"CDSView\"},{\"attributes\":{\"data\":{\"Amount\":{\"__ndarray__\":\"AAAAAAAAAAAAAAAAAAAAAAAAAAAAAAAAAAAAAAAAAAAAAAAAAAAAAAAAAAAAAAAAAAAAAAAAAAAAAAAAAAAAAAAAAAAAAAAAAAAAAAAAAAAAAAAAAAAAAAAAAAAAAAAAAAAAAAAAAAAAAAAAAAAAAAAAAAAAAAAAAAAAAAAAAAAAAAAAAAAAAAAAAAAAAAAAAAAAAAAAAAAAAAAAAAAAAAAAAAAAAAAAAAAAAAAAAAAAAAAAAAAAAAAAAAAAAAAAAAAAAAAAAAAAAAAAAAAAAAAAAAAAAAAAAAAAAAAAAAAAAAAAAAAAAAAAAAAAAAAAAAAAAAAAAAAAAAAAAAAAAAAAAAAAAAAAAAAAAAAAAAAAAAAAAAAAAAAAAAAAAAAAAAAAAAAAAAAAAAAAAAAAAAAAAAAAAAAAAAAAAAAAAAAAAAAAAAAAAAAAAAAAAAAAAAAAAAAAAAAAAAAAAAAAAAAAAAAAAAAAAAAAAAAAAAAAAAAAAAAAAAAAAAAAAAAAAAAAAAAAAAAAAAAAAAAAAAAAAAAAAAAAAAAAAAAAAAAAAAAAAAAAAAAAAAAAAAAAAAAAAAAAAAAAAAAAAAAAAAAAAAAAAAAAAAAAAAAAAAAAAAAAAAAAAAAAAAAAAAAAAAAAAAAAAAAAAAAAAAAAAAAAAAAAAAAAAAAAAAAAAAAAAAAAAAAAAAAAAAAAAAAAAAAAAAAAAAAAAAAAAAAAAAAAAAAAAAAAAAAAAAAAAAAAAAAAAAAAAAAAAAAAAAAAAAAAAAAAAAAAAAAAAAAAAAAAAAAAAAAAAAAAAAAAAAAAAAAAAAAAAAAAAAAAAAAAAAAAAAAAAAAAAAAAAAAAAAAAAAAAAAAAAAAAAAAAAAAAAAAAAAAAAAAAAAAAAAAAAAAAAAAAAAAAAAAAAAAAAAAAAAAAAAAAAAAAAAAAAAAAAAAAAAAAAAAAAAAAAAAAAAAAAAAAAAAAAAAAAAAAAAAAAAAAAAAAAAAAAAAAAAAAAAAAAAAAAAAAAAAAAAAAAAAAAAAAAAAAAAAAAAAAAAAAAAAAAAAAAAAAAAAAAAAAAAAAAAAAAAAAAAAAAAAAAAAAAAAAAAAAAAAAAAAAAAAAAAAAAAAAAAAAAAAAAAAAAAAAAAAAAAAAAAAAAAAAAAAAAAAAAAAAAAAAAAAAAAAAAAAAAAAAAAAAAAAAAAAAAAAAAAAAAAAAAAAAAAAAAAAAAAAAAAAAAAAAAAAAAAAAAAAAAAAAAAAAAAAAAAAAAAAAAAAAAAAAAAAAAAAAAAAAAAAAAAAAAAAAAAAAAAAAAAAAAAAAAAAAAAAAAAAAAAAAAAAAAAAAAAAAAAAAAAAAAAAAAAAAAAAAAAAAAAAAAAAAAAAAAAAAAAAAAAAAAAAAAAAAAAAAAAAAAAAAAAAAAAAAAAAAAAAAAAAAAAAAAAAAAAAAAAAAAAAAAAAAAAAAAAAAAAAAAAAAAAAAAAAAAAAAAAAAAAAAAAAAAAAAAAAAAAAAAAAAAAAAAAAAAAAAAAAAAAAAAAAAAAAAAAAAAAAAAAAAAAAAAAAAAAAAAAAAAAAAAAAAAAAAAAAAAAAAAAAAAAAAAAAAAAAAAAAAAAAAAAAAAAAAAAAAAAAAAAAAAAAAAAAAAAAAAAAAAAAAAAAAAAAAAAAAAAAAAAAAAAAAAAAAAAAAAAAAAAAAAAAAAAAAAAAAAAAAAAAAAAAAAAAAAAAAAAAAAAAAAAAAAAAAAAAAAAAAAAAAAAAAAAAAAAAAAAAAAAAAAAAAAAAAAAAAAAAAAAAAAAAAAAAAAAAAAAAAAAAAAAAAAAAAAAAAAAAAAAAAAAAAAAAAAAAAAAAAAAAAAAAAAAAAAAAAAAAAAAAAAAAAAAAAAAAAAAAAAAAAAAAAAAAAAAD8qfHSTWIBQNejcD0K1wJAaJHtfD81BEBEi2zn+6kHQH9qvHSTGAFArkfhehSuAUCsHFpkO98EQCGwcmiR7QdAsHJoke18CkCsHFpkO98MQNNNYhBYOQ9AAAAAAAAAAAAAAAAAAAAAABkEVg4tsgxAKVyPwvUoDUAAAAAAAAAMQFK4HoXrUQJASOF6FK5HAEA730+Nl24KQCuHFtnO9wtA6SYxCKwcEUCF61G4HoUSQH9qvHSTmBNACtejcD2KFECsHFpkO18WQNV46SYxiBZAukkMAisHGEDZzvdT4yUZQL6fGi/dpBlAukkMAisHGEA730+Nl24XQEjhehSuRxlA/tR46SaxGkDsUbgehWscQHnpJjEILBxAsp3vp8bLG0D4U+Olm8QgQPhT46WbxCBAFK5H4XqUIECsHFpkO18hQOxRuB6FqyFAuB6F61E4IUB3vp8aL90gQHNoke18fyFA8tJNYhDYIUD4U+Olm8QjQH9qvHSTmCFAg8DKoUW2IEAj2/l+ajwfQJqZmZmZmR5AoBov3SSGH0ArhxbZzvcfQLx0kxgEVh1AuB6F61E4GUD+1HjpJrEZQHWTGARWjhpAuB6F61G4GkCmm8QgsHIaQJqZmZmZmRpA/Knx0k1iHEDHSzeJQWAgQJ7vp8ZLtyBArkfhehQuHUBg5dAi2/kXQG3n+6nx0hVAmpmZmZkZFkBGtvP91HgZQKRwPQrXIxlARIts5/upGUDXo3A9CtcaQCcxCKwcWhtAObTIdr4fGkCHFtnO91MZQMdLN4lBYBdAwcqhRbbzF0BGtvP91HgXQJzEILBy6BdA3SQGgZXDF0DfT42XbpIXQCuHFtnOdxhAUrgehevRFED4U+Olm8QNQLx0kxgEVg5AF9nO91NjEECYbhKDwMoNQARWDi2yHRBAXI/C9SjcEEDfT42XbpIRQIPAyqFFNhJApHA9CtejEUDb+X5qvHQRQJhuEoPAyhFAmG4Sg8DKEUA=\",\"dtype\":\"float64\",\"order\":\"little\",\"shape\":[271]},\"Sources_Name\":[\"Cement\",\"Cement\",\"Cement\",\"Cement\",\"Cement\",\"Cement\",\"Cement\",\"Cement\",\"Cement\",\"Cement\",\"Cement\",\"Cement\",\"Cement\",\"Cement\",\"Cement\",\"Cement\",\"Cement\",\"Cement\",\"Cement\",\"Cement\",\"Cement\",\"Cement\",\"Cement\",\"Cement\",\"Cement\",\"Cement\",\"Cement\",\"Cement\",\"Cement\",\"Cement\",\"Cement\",\"Cement\",\"Cement\",\"Cement\",\"Cement\",\"Cement\",\"Cement\",\"Cement\",\"Cement\",\"Cement\",\"Cement\",\"Cement\",\"Cement\",\"Cement\",\"Cement\",\"Cement\",\"Cement\",\"Cement\",\"Cement\",\"Cement\",\"Cement\",\"Cement\",\"Cement\",\"Cement\",\"Cement\",\"Cement\",\"Cement\",\"Cement\",\"Cement\",\"Cement\",\"Cement\",\"Cement\",\"Cement\",\"Cement\",\"Cement\",\"Cement\",\"Cement\",\"Cement\",\"Cement\",\"Cement\",\"Cement\",\"Cement\",\"Cement\",\"Cement\",\"Cement\",\"Cement\",\"Cement\",\"Cement\",\"Cement\",\"Cement\",\"Cement\",\"Cement\",\"Cement\",\"Cement\",\"Cement\",\"Cement\",\"Cement\",\"Cement\",\"Cement\",\"Cement\",\"Cement\",\"Cement\",\"Cement\",\"Cement\",\"Cement\",\"Cement\",\"Cement\",\"Cement\",\"Cement\",\"Cement\",\"Cement\",\"Cement\",\"Cement\",\"Cement\",\"Cement\",\"Cement\",\"Cement\",\"Cement\",\"Cement\",\"Cement\",\"Cement\",\"Cement\",\"Cement\",\"Cement\",\"Cement\",\"Cement\",\"Cement\",\"Cement\",\"Cement\",\"Cement\",\"Cement\",\"Cement\",\"Cement\",\"Cement\",\"Cement\",\"Cement\",\"Cement\",\"Cement\",\"Cement\",\"Cement\",\"Cement\",\"Cement\",\"Cement\",\"Cement\",\"Cement\",\"Cement\",\"Cement\",\"Cement\",\"Cement\",\"Cement\",\"Cement\",\"Cement\",\"Cement\",\"Cement\",\"Cement\",\"Cement\",\"Cement\",\"Cement\",\"Cement\",\"Cement\",\"Cement\",\"Cement\",\"Cement\",\"Cement\",\"Cement\",\"Cement\",\"Cement\",\"Cement\",\"Cement\",\"Cement\",\"Cement\",\"Cement\",\"Cement\",\"Cement\",\"Cement\",\"Cement\",\"Cement\",\"Cement\",\"Cement\",\"Cement\",\"Cement\",\"Cement\",\"Cement\",\"Cement\",\"Cement\",\"Cement\",\"Cement\",\"Cement\",\"Cement\",\"Cement\",\"Cement\",\"Cement\",\"Cement\",\"Cement\",\"Cement\",\"Cement\",\"Cement\",\"Cement\",\"Cement\",\"Cement\",\"Cement\",\"Cement\",\"Cement\",\"Cement\",\"Cement\",\"Cement\",\"Cement\",\"Cement\",\"Cement\",\"Cement\",\"Cement\",\"Cement\",\"Cement\",\"Cement\",\"Cement\",\"Cement\",\"Cement\",\"Cement\",\"Cement\",\"Cement\",\"Cement\",\"Cement\",\"Cement\",\"Cement\",\"Cement\",\"Cement\",\"Cement\",\"Cement\",\"Cement\",\"Cement\",\"Cement\",\"Cement\",\"Cement\",\"Cement\",\"Cement\",\"Cement\",\"Cement\",\"Cement\",\"Cement\",\"Cement\",\"Cement\",\"Cement\",\"Cement\",\"Cement\",\"Cement\",\"Cement\",\"Cement\",\"Cement\",\"Cement\",\"Cement\",\"Cement\",\"Cement\",\"Cement\",\"Cement\",\"Cement\",\"Cement\",\"Cement\",\"Cement\",\"Cement\",\"Cement\",\"Cement\",\"Cement\",\"Cement\",\"Cement\",\"Cement\",\"Cement\",\"Cement\",\"Cement\",\"Cement\",\"Cement\",\"Cement\",\"Cement\",\"Cement\",\"Cement\",\"Cement\",\"Cement\",\"Cement\",\"Cement\",\"Cement\",\"Cement\",\"Cement\"],\"Year\":[1750,1751,1752,1753,1754,1755,1756,1757,1758,1759,1760,1761,1762,1763,1764,1765,1766,1767,1768,1769,1770,1771,1772,1773,1774,1775,1776,1777,1778,1779,1780,1781,1782,1783,1784,1785,1786,1787,1788,1789,1790,1791,1792,1793,1794,1795,1796,1797,1798,1799,1800,1801,1802,1803,1804,1805,1806,1807,1808,1809,1810,1811,1812,1813,1814,1815,1816,1817,1818,1819,1820,1821,1822,1823,1824,1825,1826,1827,1828,1829,1830,1831,1832,1833,1834,1835,1836,1837,1838,1839,1840,1841,1842,1843,1844,1845,1846,1847,1848,1849,1850,1851,1852,1853,1854,1855,1856,1857,1858,1859,1860,1861,1862,1863,1864,1865,1866,1867,1868,1869,1870,1871,1872,1873,1874,1875,1876,1877,1878,1879,1880,1881,1882,1883,1884,1885,1886,1887,1888,1889,1890,1891,1892,1893,1894,1895,1896,1897,1898,1899,1900,1901,1902,1903,1904,1905,1906,1907,1908,1909,1910,1911,1912,1913,1914,1915,1916,1917,1918,1919,1920,1921,1922,1923,1924,1925,1926,1927,1928,1929,1930,1931,1932,1933,1934,1935,1936,1937,1938,1939,1940,1941,1942,1943,1944,1945,1946,1947,1948,1949,1950,1951,1952,1953,1954,1955,1956,1957,1958,1959,1960,1961,1962,1963,1964,1965,1966,1967,1968,1969,1970,1971,1972,1973,1974,1975,1976,1977,1978,1979,1980,1981,1982,1983,1984,1985,1986,1987,1988,1989,1990,1991,1992,1993,1994,1995,1996,1997,1998,1999,2000,2001,2002,2003,2004,2005,2006,2007,2008,2009,2010,2011,2012,2013,2014,2015,2016,2017,2018,2019,2020]},\"selected\":{\"id\":\"2842\"},\"selection_policy\":{\"id\":\"2856\"}},\"id\":\"2841\",\"type\":\"ColumnDataSource\"},{\"attributes\":{\"coordinates\":null,\"data_source\":{\"id\":\"2934\"},\"glyph\":{\"id\":\"2937\"},\"group\":null,\"hover_glyph\":null,\"muted_glyph\":{\"id\":\"2939\"},\"nonselection_glyph\":{\"id\":\"2938\"},\"selection_glyph\":{\"id\":\"2961\"},\"view\":{\"id\":\"2941\"}},\"id\":\"2940\",\"type\":\"GlyphRenderer\"},{\"attributes\":{\"source\":{\"id\":\"2884\"}},\"id\":\"2891\",\"type\":\"CDSView\"},{\"attributes\":{\"line_color\":\"#17becf\",\"line_width\":2,\"x\":{\"field\":\"Year\"},\"y\":{\"field\":\"Amount\"}},\"id\":\"2965\",\"type\":\"Line\"},{\"attributes\":{\"data\":{\"Amount\":{\"__ndarray__\":\"AAAAAAAAAAAAAAAAAAAAAAAAAAAAAAAAAAAAAAAAAAAAAAAAAAAAAAAAAAAAAAAAAAAAAAAAAAAAAAAAAAAAAAAAAAAAAAAAAAAAAAAAAAAAAAAAAAAAAAAAAAAAAAAAAAAAAAAAAAAAAAAAAAAAAAAAAAAAAAAAAAAAAAAAAAAAAAAAAAAAAAAAAAAAAAAAAAAAAAAAAAAAAAAAAAAAAAAAAAAAAAAAAAAAAAAAAAAAAAAAAAAAAAAAAAAAAAAAAAAAAAAAAAAAAAAAAAAAAAAAAAAAAAAAAAAAAAAAAAAAAAAAAAAAAAAAAAAAAAAAAAAAAAAAAAAAAAAAAAAAAAAAAAAAAAAAAAAAAAAAAAAAAAAAAAAAAAAAAAAAAAAAAAAAAAAAAAAAAAAAAAAAAAAAAAAAAAAAAAAAAAAAAAAAAAAAAAAAAAAAAAAAAAAAAAAAAAAAAAAAAAAAAAAAAAAAAAAAAAAAAAAAAAAAAAAAAAAAAAAAAAAAAAAAAAAAAAAAAAAAAAAAAAAAAAAAAAAAAAAAAAAAAAAAAAAAAAAAAAAAAAAAAAAAAAAAAAAAAAAAAAAAAAAAAAAAAAAAAAAAAAAAAAAAAAAAAAAAAAAAAAAAAAAAAAAAAAAAAAAAAAAAAAAAAAAAAAAAAAAAAAAAAAAAAAAAAAAAAAAAAAAAAAAAAAAAAAAAAAAAAAAAAAAAAAAAAAAAAAAAAAAAAAAAAAAAAAAAAAAAAAAAAAAAAAAAAAAAAAAAAAAAAAAAAAAAAAAAAAAAAAAAAAAAAAAAAAAAAAAAAAAAAAAAAAAAAAAAAAAAAAAAAAAAAAAAAAAAAAAAAAAAAAAAAAAAAAAAAAAAAAAAAAAAAAAAAAAAAAAAAAAAAAAAAAAAAAAAAAAAAAAAAAAAAAAAAAAAAAAAAAAAAAAAAAAAAAAAAAAAAAAAAAAAAAAAAAAAAAAAAAAAAAAAAAAAAAAAAAAAAAAAAAAAAAAAAAAAAAAAAAAAAAAAAAAAAAAAAAAAAAAAAAAAAAAAAAAAAAAAAAAAAAAAAAAAAAAAAAAAAAAAAAAAAAAAAAAAAAAAAAAAAAAAAAAAAAAAAAAAAAAAAAAAAAAAAAAAAAAAAAAAAAAAAAAAAAAAAAAAAAAAAAAAAAAAAAAAAAAAAAAAAAAAAAAAAAAAAAAAAAAAAAAAAAAAAAAAAAAAAAAAAAAAAAAAAAAAAAAAAAAAAAAAAAAAAAAAAAAAAAAAAAAAAAAAAAAAAAAAAAAAAAAAAAAAAAAAAAAAAAAAAAAAAAAAAAAAAAAAAAAAAAAAAAAAAAAAAAAAAAAAAAAAAAAAAAAAAAAAAAAAAAAAAAAAAAAAAAAAAAAAAAAAAAAAAAAAAAAAAAAAAAAAAAAAAAAAAAAAAAAAAAAAAAAAAAAAAAAAAAAAAAAAAAAAAAAAAAAAAAAAAAAAAAAAAAAAAAAAAAAAAAAAAAAAAAAAAAAAAAAAAAAAAAAAAAAAAAAAAAAAAAAAAAAAAAAAAAAAAAAAAAAAAAAAAAAAAAAAAAAAAAAAAAAAAAAAAAAAAAAAAAAAAAAAAAAAAAAAAAAAAAAAAAAAAAAAAAAAAAAAAAAAAAAAAAAAAAAAAAAAAAAAAAAAAAAAAAAAAAAAAAAAAAAAAAAAAAAAAAAAAAAAAAAAAAAAAAAAAAAAAAAAAAAAAAAAAAAAAAAAAAAAAAAAAAAAAAAAAAAAAAAAAAAAAAAAAAAAAAAAAAAAAAAAAAAAAAAAAAAAAAAAAAAAAAAAAAAAAAAAAAAAAAAAAAAAAAAAAAAAAAAAAAAAAAAAAAAAAAAAAAAAAAAAAAAAAAAAAAAAAAAAAAAAAAAAAAAAAAAAAAAAAAAAAAAAAAAAAAAAAAAAAAAAAAAAAAAAAAAAAAAAAAAAAAAAAAAAAAAAAAAAAAAAAAAAAAAAAAAAAAAAAAAAAAAAAAAAAAAAAAAAAAAAAAAAAAAAAAAAAAAAAAAAAAAAAAAAAAAAAAAAAAAAAAAAAAAAAAAAAAAAAAAAAAAAAAAAAAAAAAAAAAAAAAAAAAAAAAAAAAAAAAAAAAAAAAAAAAAAAAAAAAAAAAAAAAAAAAAAAAAAAAAAAAAAAAAAAAAAAAAAAAAAAAAAAAAAAAAAAAAAAAAAAAAAAAAAAAAAAAAAAAAAAAAAAAAAAAAAAAAAAAAAAAAAAAAAAAAAAAAAAAAAAAAAAAAAAAAAAAAAAAAAAAAAAAAAAAAAAAAAAAAAAAAAAAAAAAAAAAAAAAAAAAAAAAAAAAAAAAAAAAAAAAAAAAAAAAAAAAAAAAAAAAAAAAAAAAAAAAAAAAAAAAAAAAAAAAAAAAAAAAAAAAAAAAAAAAAAAAAAAAAAAAAAAAAAAAAAAAAAAAAAAAAAAAAAAAAAAAAAAAAAAAAAAAAAAAAAAAAAAAAAAAAAAAAAAAAAAAAAAAAAAAAAAAAAAAAAAAAAAAAAAAAAAAAAAAAAAAAAAAAAAAAAAAAAAAAAAAAAAAAAAAAAAAAAAAAAAAAAAAAAAAAAAAAAAAAAAAAAAAAAAAAAAAAANV66SQwCDEBmZmZmZmYJQKRwPQrXowlAXI/C9ShcBkDy0k1iEFgLQDMzMzMzMw1Ac2iR7Xw/D0DVeOkmMQgKQG8Sg8DKoQ1A3SQGgZVDDEBWDi2yne8JQC2yne+nxghADAIrhxbZCEBeukkMAisQQKrx0k1iEBFAdZMYBFYOEUCe76fGSzcRQAwCK4cWWRFAhetRuB6FEEBeukkMAisKQHE9CtejcAtA+n5qvHSTDEBMN4lBYOULQMl2vp8aLwtAokW28/3UDEAGgZVDi2wJQDMzMzMzMwZADAIrhxbZBkD0/dR46SYIQHsUrkfheglAEFg5tMh2CkA=\",\"dtype\":\"float64\",\"order\":\"little\",\"shape\":[271]},\"Sources_Name\":[\"Other_industry\",\"Other_industry\",\"Other_industry\",\"Other_industry\",\"Other_industry\",\"Other_industry\",\"Other_industry\",\"Other_industry\",\"Other_industry\",\"Other_industry\",\"Other_industry\",\"Other_industry\",\"Other_industry\",\"Other_industry\",\"Other_industry\",\"Other_industry\",\"Other_industry\",\"Other_industry\",\"Other_industry\",\"Other_industry\",\"Other_industry\",\"Other_industry\",\"Other_industry\",\"Other_industry\",\"Other_industry\",\"Other_industry\",\"Other_industry\",\"Other_industry\",\"Other_industry\",\"Other_industry\",\"Other_industry\",\"Other_industry\",\"Other_industry\",\"Other_industry\",\"Other_industry\",\"Other_industry\",\"Other_industry\",\"Other_industry\",\"Other_industry\",\"Other_industry\",\"Other_industry\",\"Other_industry\",\"Other_industry\",\"Other_industry\",\"Other_industry\",\"Other_industry\",\"Other_industry\",\"Other_industry\",\"Other_industry\",\"Other_industry\",\"Other_industry\",\"Other_industry\",\"Other_industry\",\"Other_industry\",\"Other_industry\",\"Other_industry\",\"Other_industry\",\"Other_industry\",\"Other_industry\",\"Other_industry\",\"Other_industry\",\"Other_industry\",\"Other_industry\",\"Other_industry\",\"Other_industry\",\"Other_industry\",\"Other_industry\",\"Other_industry\",\"Other_industry\",\"Other_industry\",\"Other_industry\",\"Other_industry\",\"Other_industry\",\"Other_industry\",\"Other_industry\",\"Other_industry\",\"Other_industry\",\"Other_industry\",\"Other_industry\",\"Other_industry\",\"Other_industry\",\"Other_industry\",\"Other_industry\",\"Other_industry\",\"Other_industry\",\"Other_industry\",\"Other_industry\",\"Other_industry\",\"Other_industry\",\"Other_industry\",\"Other_industry\",\"Other_industry\",\"Other_industry\",\"Other_industry\",\"Other_industry\",\"Other_industry\",\"Other_industry\",\"Other_industry\",\"Other_industry\",\"Other_industry\",\"Other_industry\",\"Other_industry\",\"Other_industry\",\"Other_industry\",\"Other_industry\",\"Other_industry\",\"Other_industry\",\"Other_industry\",\"Other_industry\",\"Other_industry\",\"Other_industry\",\"Other_industry\",\"Other_industry\",\"Other_industry\",\"Other_industry\",\"Other_industry\",\"Other_industry\",\"Other_industry\",\"Other_industry\",\"Other_industry\",\"Other_industry\",\"Other_industry\",\"Other_industry\",\"Other_industry\",\"Other_industry\",\"Other_industry\",\"Other_industry\",\"Other_industry\",\"Other_industry\",\"Other_industry\",\"Other_industry\",\"Other_industry\",\"Other_industry\",\"Other_industry\",\"Other_industry\",\"Other_industry\",\"Other_industry\",\"Other_industry\",\"Other_industry\",\"Other_industry\",\"Other_industry\",\"Other_industry\",\"Other_industry\",\"Other_industry\",\"Other_industry\",\"Other_industry\",\"Other_industry\",\"Other_industry\",\"Other_industry\",\"Other_industry\",\"Other_industry\",\"Other_industry\",\"Other_industry\",\"Other_industry\",\"Other_industry\",\"Other_industry\",\"Other_industry\",\"Other_industry\",\"Other_industry\",\"Other_industry\",\"Other_industry\",\"Other_industry\",\"Other_industry\",\"Other_industry\",\"Other_industry\",\"Other_industry\",\"Other_industry\",\"Other_industry\",\"Other_industry\",\"Other_industry\",\"Other_industry\",\"Other_industry\",\"Other_industry\",\"Other_industry\",\"Other_industry\",\"Other_industry\",\"Other_industry\",\"Other_industry\",\"Other_industry\",\"Other_industry\",\"Other_industry\",\"Other_industry\",\"Other_industry\",\"Other_industry\",\"Other_industry\",\"Other_industry\",\"Other_industry\",\"Other_industry\",\"Other_industry\",\"Other_industry\",\"Other_industry\",\"Other_industry\",\"Other_industry\",\"Other_industry\",\"Other_industry\",\"Other_industry\",\"Other_industry\",\"Other_industry\",\"Other_industry\",\"Other_industry\",\"Other_industry\",\"Other_industry\",\"Other_industry\",\"Other_industry\",\"Other_industry\",\"Other_industry\",\"Other_industry\",\"Other_industry\",\"Other_industry\",\"Other_industry\",\"Other_industry\",\"Other_industry\",\"Other_industry\",\"Other_industry\",\"Other_industry\",\"Other_industry\",\"Other_industry\",\"Other_industry\",\"Other_industry\",\"Other_industry\",\"Other_industry\",\"Other_industry\",\"Other_industry\",\"Other_industry\",\"Other_industry\",\"Other_industry\",\"Other_industry\",\"Other_industry\",\"Other_industry\",\"Other_industry\",\"Other_industry\",\"Other_industry\",\"Other_industry\",\"Other_industry\",\"Other_industry\",\"Other_industry\",\"Other_industry\",\"Other_industry\",\"Other_industry\",\"Other_industry\",\"Other_industry\",\"Other_industry\",\"Other_industry\",\"Other_industry\",\"Other_industry\",\"Other_industry\",\"Other_industry\",\"Other_industry\",\"Other_industry\",\"Other_industry\",\"Other_industry\",\"Other_industry\",\"Other_industry\",\"Other_industry\",\"Other_industry\",\"Other_industry\",\"Other_industry\",\"Other_industry\",\"Other_industry\",\"Other_industry\",\"Other_industry\",\"Other_industry\",\"Other_industry\",\"Other_industry\",\"Other_industry\",\"Other_industry\",\"Other_industry\",\"Other_industry\",\"Other_industry\",\"Other_industry\",\"Other_industry\"],\"Year\":[1750,1751,1752,1753,1754,1755,1756,1757,1758,1759,1760,1761,1762,1763,1764,1765,1766,1767,1768,1769,1770,1771,1772,1773,1774,1775,1776,1777,1778,1779,1780,1781,1782,1783,1784,1785,1786,1787,1788,1789,1790,1791,1792,1793,1794,1795,1796,1797,1798,1799,1800,1801,1802,1803,1804,1805,1806,1807,1808,1809,1810,1811,1812,1813,1814,1815,1816,1817,1818,1819,1820,1821,1822,1823,1824,1825,1826,1827,1828,1829,1830,1831,1832,1833,1834,1835,1836,1837,1838,1839,1840,1841,1842,1843,1844,1845,1846,1847,1848,1849,1850,1851,1852,1853,1854,1855,1856,1857,1858,1859,1860,1861,1862,1863,1864,1865,1866,1867,1868,1869,1870,1871,1872,1873,1874,1875,1876,1877,1878,1879,1880,1881,1882,1883,1884,1885,1886,1887,1888,1889,1890,1891,1892,1893,1894,1895,1896,1897,1898,1899,1900,1901,1902,1903,1904,1905,1906,1907,1908,1909,1910,1911,1912,1913,1914,1915,1916,1917,1918,1919,1920,1921,1922,1923,1924,1925,1926,1927,1928,1929,1930,1931,1932,1933,1934,1935,1936,1937,1938,1939,1940,1941,1942,1943,1944,1945,1946,1947,1948,1949,1950,1951,1952,1953,1954,1955,1956,1957,1958,1959,1960,1961,1962,1963,1964,1965,1966,1967,1968,1969,1970,1971,1972,1973,1974,1975,1976,1977,1978,1979,1980,1981,1982,1983,1984,1985,1986,1987,1988,1989,1990,1991,1992,1993,1994,1995,1996,1997,1998,1999,2000,2001,2002,2003,2004,2005,2006,2007,2008,2009,2010,2011,2012,2013,2014,2015,2016,2017,2018,2019,2020]},\"selected\":{\"id\":\"2963\"},\"selection_policy\":{\"id\":\"2987\"}},\"id\":\"2962\",\"type\":\"ColumnDataSource\"},{\"attributes\":{\"line_color\":\"#fc4f30\",\"line_width\":2,\"x\":{\"field\":\"Year\"},\"y\":{\"field\":\"Amount\"}},\"id\":\"2865\",\"type\":\"Line\"},{\"attributes\":{\"line_alpha\":0.2,\"line_color\":\"#8b8b8b\",\"line_width\":2,\"x\":{\"field\":\"Year\"},\"y\":{\"field\":\"Amount\"}},\"id\":\"2939\",\"type\":\"Line\"},{\"attributes\":{\"line_color\":\"#30a2da\",\"line_width\":2,\"x\":{\"field\":\"Year\"},\"y\":{\"field\":\"Amount\"}},\"id\":\"2861\",\"type\":\"Line\"},{\"attributes\":{\"line_alpha\":0.2,\"line_color\":\"#30a2da\",\"line_width\":2,\"x\":{\"field\":\"Year\"},\"y\":{\"field\":\"Amount\"}},\"id\":\"2846\",\"type\":\"Line\"},{\"attributes\":{\"label\":{\"value\":\"Oil\"},\"renderers\":[{\"id\":\"2940\"}]},\"id\":\"2960\",\"type\":\"LegendItem\"},{\"attributes\":{},\"id\":\"2957\",\"type\":\"UnionRenderers\"},{\"attributes\":{\"data\":{\"Amount\":{\"__ndarray__\":\"AAAAAAAAAAAAAAAAAAAAAAAAAAAAAAAAAAAAAAAAAAAAAAAAAAAAAAAAAAAAAAAAAAAAAAAAAAAAAAAAAAAAAAAAAAAAAAAAAAAAAAAAAAAAAAAAAAAAAAAAAAAAAAAAAAAAAAAAAAAAAAAAAAAAAAAAAAAAAAAAAAAAAAAAAAAAAAAAAAAAAAAAAAAAAAAAAAAAAAAAAAAAAAAAAAAAAAAAAAAAAAAAAAAAAAAAAAAAAAAAAAAAAAAAAAAAAAAAAAAAAAAAAAAAAAAAAAAAAAAAAAAAAAAAAAAAAAAAAAAAAAAAAAAAAAAAAAAAAAAAAAAAAAAAAAAAAAAAAAAAAAAAAAAAAAAAAAAAAAAAAAAAAAAAAAAAAAAAAAAAAAAAAAAAAAAAAAAAAAAAAAAAAAAAAAAAAAAAAAAAAAAAAAAAAAAAAAAAAAAAAAAAAAAAAAAAAAAAAAAAAAAAAAAAAAAAAAAAAAAAAAAAAAAAAAAAAAAAAAAAAAAAAAAAAAAAAAAAAAAAAAAAAAAAAAAAAAAAAAAAAAAAAAAAAAAAAAAAAAAAAAAAAAAAAAAAAAAAAAAAAAAAAAAAAAAAAAAAAAAAAAAAAAAAAAAAAAAAAAAAAAAAAAAAAAAAAAAAAAAAAAAAAAAAAAAAAAAAAAAAAAAAAAAAAAAAAAAAAAAAAAAAAAAAAAAAAAAAAAAAAAAAAAAAAAAAAAAAAAAAAAAAAAAAAAAAAAAAAAAAAAAAAAAAAAAAAAAAAAAAAAAAAAAAAAAAAAAAAAAAAAAAAAAAAAAAAAAAAAAAAAAAAAAAAAAAAAAAAAAAAAAAAAAAAAAAAAAAAAAAAAAAAAAAAAAAAAAAAAAAAAAAAAAAAAAAAAAAAAAAAAAAAAAAAAAAAAAAAAAAAAAAAAAAAAAAAAAAAAAAAAAAAAAAAAAAAAAAAAAAAAAAAAAAAAAAAAAAAAAAAAAAAAAAAAAAAAAAAAAAAAAAAAAAAAAAAAAAAAAAAAAAAAAAAAAAAAAAAAAAAAAAAAAAAAAAAAAAAAAAAAAAAAAAAAAAAAAAAAAAAAAAAAAAAAAAAAAAAAAAAAAAAAAAAAAAAAAAAAAAAAAAAAAAAAAAAAAAAAAAAAAAAAAAAAAAAAAAAAAAAAAAAAAAAAAAAAAAAAAAAAAAAAAAAAAAAAAAAAAAAAAAAAAAAAAAAAAAAAAAAAAAAAAAAAAAAAAAAAAAAAAAAAAAAAAAAAAAAAAAAAAAAAAAAAAAAAAAAAAAAAAAAAAAAAAAAAAAAAAAAAAAAAAAAAAAAAAAAAAAAAAAAAAAAAAAAAAAAAAAAAAAAAAAAAAAAAAAAAAAAAAAAAAAAAAAAAAAAAAAAAAAAAAAAAAAAAAAAAAAAAAAAAAAAAAAAAAAAAAAAAAAAAAAAAAAAAAAAAAAAAAAAAAAAAAAAAAAAAAAAAAAAAAAAAAAAAAAAAAAAAAAAAAAAAAAAAAAAAAAAAAAAAAAAAAAAAAAAAAAAAAAAAAAAAAAAAAAAAAAAAAAAAAAAAAAAAAAAAAAAAAAAAAAAAAAAAAAAAAAAAAAAAAAAAAAAAAAAAAAAAAAAAAAAAAAAAAAAAAAAAAAAAAAAAAAAAAAAAAAAAAAAAAAAAAAAAAAAAAAAAAAAAAAAAAAAAAAAAAAAAAAAAAAAAAAAAAAAAAAAAAAAAAAAAAAAAAAAAAAAAAAAAAAAAAAAAAAAAAAAAAAAAAAAAAAAAAAAAAAAAAAAAAAAAAAAAAAAAAAAAAAAAAAAAAAAAAAAAAAAAAAAAAAAAAAAAAAAAAAAAAAAAAAAAAAAAAAAAAAAAAAAAAAAAAAAAAAAAAAAAAAAAAAAAAAAAAAAAAAAAAAAAAAAAAAAAAAAAAAAAAAAAAAAAAAAAAAAAAAAAAAAAAAAAAAAAAAAAAAAAAAAAAAAAAAAAAAAAAAAAAAAAAAAAAAAAAAAAAAAAAAAAAAAAAAAAAAAAAAAAAAAAAAAAAAAAAAAAAAAAAAAAAAAAAAAAAAAAAAAAAAAAAAAAAAAAAAAAAAAAAAAAAAAAAAAAAAAAAAAAAAAAAAAAAAAAAAAAAAAAAAAAAAAAAAAAAAAAAAAAAAAAAAAAAAAAAAAAAAAAAAAAAAAAAAAAAAAAAAAAAAAAAAAAAAAAAAAAAAAAAAAAAAAAAAAAAAAAAAAAAAAAAAAAAAAAAAAAAAAAAAAAAAAAAAAAAAAAAAAAAAAAAAAAAAAAAAAAAAAAAAAAAAAAAAAAAAAAAAAAAAAAAAAAAAAAAAAAAAAAAAAAAAAAAAAAAAAAAAAAAAAAAAAAAAAAAAAAAAAAAAAFyPwvUoXM8/rkfhehSu9z8OLbKd76cHQM/3U+OlmwtA8KfGSzeJD0CDwMqhRbYTQP7UeOkmsRVADi2yne+nF0AOLbKd76cXQLByaJHtfBlA/tR46SYxIUAIrBxaZPsoQHWTGARWDiBAnMQgsHLoH0C6SQwCKwceQIlBYOXQohxAbef7qfHSGUCJQWDl0CIUQOOlm8QgsA5A9P3UeOkmEEAAAAAAAAAAAAAAAAAAAAAAgZVDi2znHUC0yHa+nxocQArXo3A9Ch1AhxbZzvdTHkAbL90kBgEfQKJFtvP9VCJAO99PjZfuIkB7FK5H4XoeQHe+nxov3RxAw/UoXI/CGEDl0CLb+X4XQAaBlUOLbBhARIts5/spF0AQWDm0yPYVQHe+nxov3RVAWmQ7308NGEDFILByaJEUQFK4HoXrURVANV66SQyCEkBI4XoUrkcTQEjhehSuxxJASgwCK4eWEUDD9Shcj8INQOXQItv5fhBAx0s3iUFgEUAGgZVDi2wSQJqZmZmZGRJA9ihcj8L1EUB9PzVeukkSQAwCK4cWWRFAarx0kxgEEkA=\",\"dtype\":\"float64\",\"order\":\"little\",\"shape\":[271]},\"Sources_Name\":[\"Flaring\",\"Flaring\",\"Flaring\",\"Flaring\",\"Flaring\",\"Flaring\",\"Flaring\",\"Flaring\",\"Flaring\",\"Flaring\",\"Flaring\",\"Flaring\",\"Flaring\",\"Flaring\",\"Flaring\",\"Flaring\",\"Flaring\",\"Flaring\",\"Flaring\",\"Flaring\",\"Flaring\",\"Flaring\",\"Flaring\",\"Flaring\",\"Flaring\",\"Flaring\",\"Flaring\",\"Flaring\",\"Flaring\",\"Flaring\",\"Flaring\",\"Flaring\",\"Flaring\",\"Flaring\",\"Flaring\",\"Flaring\",\"Flaring\",\"Flaring\",\"Flaring\",\"Flaring\",\"Flaring\",\"Flaring\",\"Flaring\",\"Flaring\",\"Flaring\",\"Flaring\",\"Flaring\",\"Flaring\",\"Flaring\",\"Flaring\",\"Flaring\",\"Flaring\",\"Flaring\",\"Flaring\",\"Flaring\",\"Flaring\",\"Flaring\",\"Flaring\",\"Flaring\",\"Flaring\",\"Flaring\",\"Flaring\",\"Flaring\",\"Flaring\",\"Flaring\",\"Flaring\",\"Flaring\",\"Flaring\",\"Flaring\",\"Flaring\",\"Flaring\",\"Flaring\",\"Flaring\",\"Flaring\",\"Flaring\",\"Flaring\",\"Flaring\",\"Flaring\",\"Flaring\",\"Flaring\",\"Flaring\",\"Flaring\",\"Flaring\",\"Flaring\",\"Flaring\",\"Flaring\",\"Flaring\",\"Flaring\",\"Flaring\",\"Flaring\",\"Flaring\",\"Flaring\",\"Flaring\",\"Flaring\",\"Flaring\",\"Flaring\",\"Flaring\",\"Flaring\",\"Flaring\",\"Flaring\",\"Flaring\",\"Flaring\",\"Flaring\",\"Flaring\",\"Flaring\",\"Flaring\",\"Flaring\",\"Flaring\",\"Flaring\",\"Flaring\",\"Flaring\",\"Flaring\",\"Flaring\",\"Flaring\",\"Flaring\",\"Flaring\",\"Flaring\",\"Flaring\",\"Flaring\",\"Flaring\",\"Flaring\",\"Flaring\",\"Flaring\",\"Flaring\",\"Flaring\",\"Flaring\",\"Flaring\",\"Flaring\",\"Flaring\",\"Flaring\",\"Flaring\",\"Flaring\",\"Flaring\",\"Flaring\",\"Flaring\",\"Flaring\",\"Flaring\",\"Flaring\",\"Flaring\",\"Flaring\",\"Flaring\",\"Flaring\",\"Flaring\",\"Flaring\",\"Flaring\",\"Flaring\",\"Flaring\",\"Flaring\",\"Flaring\",\"Flaring\",\"Flaring\",\"Flaring\",\"Flaring\",\"Flaring\",\"Flaring\",\"Flaring\",\"Flaring\",\"Flaring\",\"Flaring\",\"Flaring\",\"Flaring\",\"Flaring\",\"Flaring\",\"Flaring\",\"Flaring\",\"Flaring\",\"Flaring\",\"Flaring\",\"Flaring\",\"Flaring\",\"Flaring\",\"Flaring\",\"Flaring\",\"Flaring\",\"Flaring\",\"Flaring\",\"Flaring\",\"Flaring\",\"Flaring\",\"Flaring\",\"Flaring\",\"Flaring\",\"Flaring\",\"Flaring\",\"Flaring\",\"Flaring\",\"Flaring\",\"Flaring\",\"Flaring\",\"Flaring\",\"Flaring\",\"Flaring\",\"Flaring\",\"Flaring\",\"Flaring\",\"Flaring\",\"Flaring\",\"Flaring\",\"Flaring\",\"Flaring\",\"Flaring\",\"Flaring\",\"Flaring\",\"Flaring\",\"Flaring\",\"Flaring\",\"Flaring\",\"Flaring\",\"Flaring\",\"Flaring\",\"Flaring\",\"Flaring\",\"Flaring\",\"Flaring\",\"Flaring\",\"Flaring\",\"Flaring\",\"Flaring\",\"Flaring\",\"Flaring\",\"Flaring\",\"Flaring\",\"Flaring\",\"Flaring\",\"Flaring\",\"Flaring\",\"Flaring\",\"Flaring\",\"Flaring\",\"Flaring\",\"Flaring\",\"Flaring\",\"Flaring\",\"Flaring\",\"Flaring\",\"Flaring\",\"Flaring\",\"Flaring\",\"Flaring\",\"Flaring\",\"Flaring\",\"Flaring\",\"Flaring\",\"Flaring\",\"Flaring\",\"Flaring\",\"Flaring\",\"Flaring\",\"Flaring\",\"Flaring\",\"Flaring\",\"Flaring\",\"Flaring\",\"Flaring\",\"Flaring\",\"Flaring\",\"Flaring\",\"Flaring\",\"Flaring\",\"Flaring\",\"Flaring\",\"Flaring\",\"Flaring\",\"Flaring\",\"Flaring\",\"Flaring\",\"Flaring\",\"Flaring\",\"Flaring\",\"Flaring\",\"Flaring\"],\"Year\":[1750,1751,1752,1753,1754,1755,1756,1757,1758,1759,1760,1761,1762,1763,1764,1765,1766,1767,1768,1769,1770,1771,1772,1773,1774,1775,1776,1777,1778,1779,1780,1781,1782,1783,1784,1785,1786,1787,1788,1789,1790,1791,1792,1793,1794,1795,1796,1797,1798,1799,1800,1801,1802,1803,1804,1805,1806,1807,1808,1809,1810,1811,1812,1813,1814,1815,1816,1817,1818,1819,1820,1821,1822,1823,1824,1825,1826,1827,1828,1829,1830,1831,1832,1833,1834,1835,1836,1837,1838,1839,1840,1841,1842,1843,1844,1845,1846,1847,1848,1849,1850,1851,1852,1853,1854,1855,1856,1857,1858,1859,1860,1861,1862,1863,1864,1865,1866,1867,1868,1869,1870,1871,1872,1873,1874,1875,1876,1877,1878,1879,1880,1881,1882,1883,1884,1885,1886,1887,1888,1889,1890,1891,1892,1893,1894,1895,1896,1897,1898,1899,1900,1901,1902,1903,1904,1905,1906,1907,1908,1909,1910,1911,1912,1913,1914,1915,1916,1917,1918,1919,1920,1921,1922,1923,1924,1925,1926,1927,1928,1929,1930,1931,1932,1933,1934,1935,1936,1937,1938,1939,1940,1941,1942,1943,1944,1945,1946,1947,1948,1949,1950,1951,1952,1953,1954,1955,1956,1957,1958,1959,1960,1961,1962,1963,1964,1965,1966,1967,1968,1969,1970,1971,1972,1973,1974,1975,1976,1977,1978,1979,1980,1981,1982,1983,1984,1985,1986,1987,1988,1989,1990,1991,1992,1993,1994,1995,1996,1997,1998,1999,2000,2001,2002,2003,2004,2005,2006,2007,2008,2009,2010,2011,2012,2013,2014,2015,2016,2017,2018,2019,2020]},\"selected\":{\"id\":\"2885\"},\"selection_policy\":{\"id\":\"2903\"}},\"id\":\"2884\",\"type\":\"ColumnDataSource\"},{\"attributes\":{\"line_color\":\"#30a2da\",\"line_width\":2,\"x\":{\"field\":\"Year\"},\"y\":{\"field\":\"Amount\"}},\"id\":\"2844\",\"type\":\"Line\"},{\"attributes\":{\"data\":{\"Amount\":{\"__ndarray__\":\"wcqhRbazIkDByqFFtrMiQGiR7Xw/tSJAaJHtfD+1IkCe76fGS7ciQNNNYhBYuSJAUI2XbhIDJECF61G4HgUkQLpJDAIrByRAYhBYObQIJEBiEFg5tAgkQKabxCCw8iVATmIQWDn0JUCDwMqhRfYlQLgehetR+CVAYOXQItv5JUCF61G4HoUoQC2yne+nhihAYhBYObSIKECYbhKDwIooQD81XrpJjChA001iEFg5K0B7FK5H4TorQLByaJHtPCtA5dAi2/k+K0CNl24Sg0ArQG3n+6nxEi5AokW28/0ULkBKDAIrhxYuQH9qvHSTGC5AXI/C9SgcLkArhxbZztcwQEa28/3U2DBAtMh2vp/aMEDP91PjpdswQD0K16Nw3TBA2c73U+MlM0BI4XoUriczQGIQWDm0KDNA0SLb+X4qM0AGgZVDiywzQNEi2/l+ajVAPzVeuklsNUB1kxgEVm41QMl2vp8abzVA/tR46SZxNUB9PzVeumk2QNEi2/l+ijdAarx0kxiEOEA/NV66Scw5QPyp8dJNojpAvHSTGAS2OkCamZmZmdk6QDeJQWDlMD5A2/l+arxUPkBKDAIrh3Y/QOOlm8QgoEBAGy/dJAahQEDfT42XbqJAQKRwPQrXo0BAaJHtfD+lQEDy0k1iEMhBQA4tsp3vd0JA46WbxCCwQkBCYOXQIgtDQKAaL90kdkNAK4cW2c63RECgGi/dJPZEQIlBYOXQAkVAJQaBlUMrRUDdJAaBlUNFQFYOLbKdb0VAppvEILBCRkAdWmQ7329HQLTIdr6fikhAsp3vp8bLSECmm8QgsBJJQD0K16NwHUpACKwcWmRLSkBCYOXQIqtKQI/C9Shc91BAKVyPwvVwUEAEVg4tsmVQQFYOLbKdX1BA30+Nl25iUEBGtvP91FBQQAaBlUOLHFNA001iEFhxUkCHFtnO9/NSQGDl0CLbcVNAPQrXo3A9VEAEVg4tsnVUQDm0yHa+V1VAvHSTGARGVkCR7Xw/NV5XQLpJDAIr/1hAMQisHFrsV0BQjZduEuNZQPyp8dJNUltAqvHSTWIAXUAfhetRuKZeQGDl0CLbKV1Aj8L1KFwPXUB1kxgEVuZcQIts5/upaWFAoBov3SROYEAAAAAAAIxhQBfZzvdTO2FAnu+nxkvjYEDHSzeJQcBiQGZmZmZm/mRAxSCwcmjhZUAMAiuHFi1lQKrx0k1ihGZAc2iR7Xw7aEDfT42Xbq5pQClcj8L1dGpAke18PzUqa0BMN4lBYKVqQBSuR+F69GtAhetRuB6NbED2KFyPwj1uQHe+nxov3W9Aj8L1KFyHcEA3iUFg5Q5wQDVeukkM9HBAc2iR7XzrcEAdWmQ73zdxQG8Sg8DK6XBA8tJNYhACcUAGgZVDi4pyQEjhehSueXNAAAAAAACkc0DVeOkmMW50QIGVQ4ts53NAWDm0yHamc0Dwp8ZLN3lzQArXo3A9+HNAw/UoXI/AdEC0yHa+n3x1QNV46SYx/HVAjZduEoNudkD+1HjpJvd1QM/3U+OlpXNAqvHSTWKCdkACK4cW2bZ2QJ7vp8ZLW3dAUrgehev7d0DLoUW28wN4QIlBYOXQunlAKVyPwvUKekDD9Shcj3p5QJqZmZmZc3pAbef7qfGoekCHFtnO98V6QGiR7Xw/IXtAke18PzUcfEBU46WbxF59QKjGSzeJnXxA2/l+arzcfEC28/3UeBl9QC/dJAaBz31A2/l+arwufECoxks3icd+QLByaJHttn1AAiuHFtkmfkDD9Shcj1p/QNV46SYxtH5AVg4tsp0vfEDhehSuR/l7QLx0kxgEbH1ADi2yne/tc0C28/3UeKl6QFpkO99PQ3xAGQRWDi2CfUArhxbZztN7QIXrUbgeMW5AJzEIrBzGfEC6SQwCK/N6QMUgsHJoa3xAZDvfT40te0C+nxov3Wh5QMdLN4lBbHhAMQisHFoqeECyne+nxgl6QEoMAiuHZHpAkxgEVg7je0CTGARWDsV8QIlBYOXQfHtAEoPAyqH1e0D8qfHSTW59QHNoke188XxA9ihcj8L1fECF61G4Hhd8QIlBYOXQWHtAvp8aL93OeUBSuB6F67F6QNv5fmq8PnxAvHSTGAScfEAfhetRuPB8QM3MzMzMXnxAexSuR+FgfkDLoUW281t9QGIQWDm05n1A001iEFg/fkCwcmiR7T5/QFyPwvUo7n5AWmQ7308pfkDZzvdT4618QG3n+6nxmHpARrbz/dQAfEAnMQisHK57QF66SQwCVXtA9P3UeOl0e0DZzvdT46N6QPyp8dJNZHpAL90kBoE1eUCLbOf7qQd3QIlBYOXQJHdAyXa+nxr/dkAGgZVDiw52QGIQWDm0VnVAFK5H4XpSckCyne+nxn1yQLx0kxgEdnBAMzMzMzNDcUAv3SQGgS9xQD0K16Nw8XBAdZMYBFYycEC6SQwCK5lxQC/dJAaBS3BA6SYxCKxWcEB56SYxCJhuQHNoke18525A2c73U+MxZkCuR+F6FEptQN0kBoGVD29AVOOlm8Q0cECwcmiR7ThvQHE9CtejvG5AGQRWDi2Ob0AMAiuHFq1vQDEIrBxasG1ARIts5/vtaUArhxbZzmNoQIXrUbgerWZAqMZLN4mZZUCWQ4ts509jQNejcD0KO2NA5/up8dJBYUBg5dAi2wViQIGVQ4tsK2NA4XoUrkexYUAxCKwcWhxjQMuhRbbzaWJAlkOLbOd3YkCWQ4ts5xNkQN0kBoGV02JAxSCwcmhhYUASg8DKoW1cQA4tsp3vd11AbxKDwMpBXUCamZmZmX1iQN0kBoGVy2FAvHSTGATWXEC8dJMYBN5WQFTjpZvE4EdADi2yne+HQ0DfT42XbnJAQDVeukkMgjhATDeJQWClNkA=\",\"dtype\":\"float64\",\"order\":\"little\",\"shape\":[271]},\"Sources_Name\":[\"Coal\",\"Coal\",\"Coal\",\"Coal\",\"Coal\",\"Coal\",\"Coal\",\"Coal\",\"Coal\",\"Coal\",\"Coal\",\"Coal\",\"Coal\",\"Coal\",\"Coal\",\"Coal\",\"Coal\",\"Coal\",\"Coal\",\"Coal\",\"Coal\",\"Coal\",\"Coal\",\"Coal\",\"Coal\",\"Coal\",\"Coal\",\"Coal\",\"Coal\",\"Coal\",\"Coal\",\"Coal\",\"Coal\",\"Coal\",\"Coal\",\"Coal\",\"Coal\",\"Coal\",\"Coal\",\"Coal\",\"Coal\",\"Coal\",\"Coal\",\"Coal\",\"Coal\",\"Coal\",\"Coal\",\"Coal\",\"Coal\",\"Coal\",\"Coal\",\"Coal\",\"Coal\",\"Coal\",\"Coal\",\"Coal\",\"Coal\",\"Coal\",\"Coal\",\"Coal\",\"Coal\",\"Coal\",\"Coal\",\"Coal\",\"Coal\",\"Coal\",\"Coal\",\"Coal\",\"Coal\",\"Coal\",\"Coal\",\"Coal\",\"Coal\",\"Coal\",\"Coal\",\"Coal\",\"Coal\",\"Coal\",\"Coal\",\"Coal\",\"Coal\",\"Coal\",\"Coal\",\"Coal\",\"Coal\",\"Coal\",\"Coal\",\"Coal\",\"Coal\",\"Coal\",\"Coal\",\"Coal\",\"Coal\",\"Coal\",\"Coal\",\"Coal\",\"Coal\",\"Coal\",\"Coal\",\"Coal\",\"Coal\",\"Coal\",\"Coal\",\"Coal\",\"Coal\",\"Coal\",\"Coal\",\"Coal\",\"Coal\",\"Coal\",\"Coal\",\"Coal\",\"Coal\",\"Coal\",\"Coal\",\"Coal\",\"Coal\",\"Coal\",\"Coal\",\"Coal\",\"Coal\",\"Coal\",\"Coal\",\"Coal\",\"Coal\",\"Coal\",\"Coal\",\"Coal\",\"Coal\",\"Coal\",\"Coal\",\"Coal\",\"Coal\",\"Coal\",\"Coal\",\"Coal\",\"Coal\",\"Coal\",\"Coal\",\"Coal\",\"Coal\",\"Coal\",\"Coal\",\"Coal\",\"Coal\",\"Coal\",\"Coal\",\"Coal\",\"Coal\",\"Coal\",\"Coal\",\"Coal\",\"Coal\",\"Coal\",\"Coal\",\"Coal\",\"Coal\",\"Coal\",\"Coal\",\"Coal\",\"Coal\",\"Coal\",\"Coal\",\"Coal\",\"Coal\",\"Coal\",\"Coal\",\"Coal\",\"Coal\",\"Coal\",\"Coal\",\"Coal\",\"Coal\",\"Coal\",\"Coal\",\"Coal\",\"Coal\",\"Coal\",\"Coal\",\"Coal\",\"Coal\",\"Coal\",\"Coal\",\"Coal\",\"Coal\",\"Coal\",\"Coal\",\"Coal\",\"Coal\",\"Coal\",\"Coal\",\"Coal\",\"Coal\",\"Coal\",\"Coal\",\"Coal\",\"Coal\",\"Coal\",\"Coal\",\"Coal\",\"Coal\",\"Coal\",\"Coal\",\"Coal\",\"Coal\",\"Coal\",\"Coal\",\"Coal\",\"Coal\",\"Coal\",\"Coal\",\"Coal\",\"Coal\",\"Coal\",\"Coal\",\"Coal\",\"Coal\",\"Coal\",\"Coal\",\"Coal\",\"Coal\",\"Coal\",\"Coal\",\"Coal\",\"Coal\",\"Coal\",\"Coal\",\"Coal\",\"Coal\",\"Coal\",\"Coal\",\"Coal\",\"Coal\",\"Coal\",\"Coal\",\"Coal\",\"Coal\",\"Coal\",\"Coal\",\"Coal\",\"Coal\",\"Coal\",\"Coal\",\"Coal\",\"Coal\",\"Coal\",\"Coal\",\"Coal\",\"Coal\",\"Coal\",\"Coal\",\"Coal\",\"Coal\",\"Coal\",\"Coal\",\"Coal\",\"Coal\",\"Coal\",\"Coal\",\"Coal\",\"Coal\",\"Coal\",\"Coal\",\"Coal\",\"Coal\",\"Coal\",\"Coal\",\"Coal\",\"Coal\",\"Coal\",\"Coal\"],\"Year\":[1750,1751,1752,1753,1754,1755,1756,1757,1758,1759,1760,1761,1762,1763,1764,1765,1766,1767,1768,1769,1770,1771,1772,1773,1774,1775,1776,1777,1778,1779,1780,1781,1782,1783,1784,1785,1786,1787,1788,1789,1790,1791,1792,1793,1794,1795,1796,1797,1798,1799,1800,1801,1802,1803,1804,1805,1806,1807,1808,1809,1810,1811,1812,1813,1814,1815,1816,1817,1818,1819,1820,1821,1822,1823,1824,1825,1826,1827,1828,1829,1830,1831,1832,1833,1834,1835,1836,1837,1838,1839,1840,1841,1842,1843,1844,1845,1846,1847,1848,1849,1850,1851,1852,1853,1854,1855,1856,1857,1858,1859,1860,1861,1862,1863,1864,1865,1866,1867,1868,1869,1870,1871,1872,1873,1874,1875,1876,1877,1878,1879,1880,1881,1882,1883,1884,1885,1886,1887,1888,1889,1890,1891,1892,1893,1894,1895,1896,1897,1898,1899,1900,1901,1902,1903,1904,1905,1906,1907,1908,1909,1910,1911,1912,1913,1914,1915,1916,1917,1918,1919,1920,1921,1922,1923,1924,1925,1926,1927,1928,1929,1930,1931,1932,1933,1934,1935,1936,1937,1938,1939,1940,1941,1942,1943,1944,1945,1946,1947,1948,1949,1950,1951,1952,1953,1954,1955,1956,1957,1958,1959,1960,1961,1962,1963,1964,1965,1966,1967,1968,1969,1970,1971,1972,1973,1974,1975,1976,1977,1978,1979,1980,1981,1982,1983,1984,1985,1986,1987,1988,1989,1990,1991,1992,1993,1994,1995,1996,1997,1998,1999,2000,2001,2002,2003,2004,2005,2006,2007,2008,2009,2010,2011,2012,2013,2014,2015,2016,2017,2018,2019,2020]},\"selected\":{\"id\":\"2863\"},\"selection_policy\":{\"id\":\"2879\"}},\"id\":\"2862\",\"type\":\"ColumnDataSource\"},{\"attributes\":{\"coordinates\":null,\"data_source\":{\"id\":\"2841\"},\"glyph\":{\"id\":\"2844\"},\"group\":null,\"hover_glyph\":null,\"muted_glyph\":{\"id\":\"2846\"},\"nonselection_glyph\":{\"id\":\"2845\"},\"selection_glyph\":{\"id\":\"2861\"},\"view\":{\"id\":\"2848\"}},\"id\":\"2847\",\"type\":\"GlyphRenderer\"},{\"attributes\":{\"source\":{\"id\":\"2862\"}},\"id\":\"2869\",\"type\":\"CDSView\"},{\"attributes\":{\"click_policy\":\"mute\",\"coordinates\":null,\"group\":null,\"items\":[{\"id\":\"2860\"},{\"id\":\"2882\"},{\"id\":\"2906\"},{\"id\":\"2932\"},{\"id\":\"2960\"},{\"id\":\"2990\"}],\"location\":[0,0],\"title\":\"Sources_Name\"},\"id\":\"2859\",\"type\":\"Legend\"},{\"attributes\":{\"coordinates\":null,\"group\":null,\"text\":\"Sources of CO2\",\"text_color\":\"black\",\"text_font_size\":\"12pt\"},\"id\":\"2806\",\"type\":\"Title\"},{\"attributes\":{\"line_alpha\":0.1,\"line_color\":\"#fc4f30\",\"line_width\":2,\"x\":{\"field\":\"Year\"},\"y\":{\"field\":\"Amount\"}},\"id\":\"2866\",\"type\":\"Line\"},{\"attributes\":{\"axis_label\":\"Amount\",\"coordinates\":null,\"formatter\":{\"id\":\"2839\"},\"group\":null,\"major_label_policy\":{\"id\":\"2840\"},\"ticker\":{\"id\":\"2819\"}},\"id\":\"2818\",\"type\":\"LinearAxis\"},{\"attributes\":{\"coordinates\":null,\"data_source\":{\"id\":\"2862\"},\"glyph\":{\"id\":\"2865\"},\"group\":null,\"hover_glyph\":null,\"muted_glyph\":{\"id\":\"2867\"},\"nonselection_glyph\":{\"id\":\"2866\"},\"selection_glyph\":{\"id\":\"2883\"},\"view\":{\"id\":\"2869\"}},\"id\":\"2868\",\"type\":\"GlyphRenderer\"},{\"attributes\":{\"axis\":{\"id\":\"2814\"},\"coordinates\":null,\"grid_line_color\":null,\"group\":null,\"ticker\":null},\"id\":\"2817\",\"type\":\"Grid\"},{\"attributes\":{\"line_alpha\":0.2,\"line_color\":\"#e5ae38\",\"line_width\":2,\"x\":{\"field\":\"Year\"},\"y\":{\"field\":\"Amount\"}},\"id\":\"2889\",\"type\":\"Line\"},{\"attributes\":{\"line_color\":\"#e5ae38\",\"line_width\":2,\"x\":{\"field\":\"Year\"},\"y\":{\"field\":\"Amount\"}},\"id\":\"2907\",\"type\":\"Line\"},{\"attributes\":{},\"id\":\"2819\",\"type\":\"BasicTicker\"},{\"attributes\":{\"line_alpha\":0.1,\"line_color\":\"#e5ae38\",\"line_width\":2,\"x\":{\"field\":\"Year\"},\"y\":{\"field\":\"Amount\"}},\"id\":\"2888\",\"type\":\"Line\"},{\"attributes\":{},\"id\":\"2812\",\"type\":\"LinearScale\"},{\"attributes\":{},\"id\":\"2863\",\"type\":\"Selection\"},{\"attributes\":{\"client_comm_id\":\"421f29024f984c2db91986919b56b041\",\"comm_id\":\"8ad85f2b3598489f944bddc713b4df26\",\"plot_id\":\"2789\"},\"id\":\"3212\",\"type\":\"panel.models.comm_manager.CommManager\"},{\"attributes\":{\"axis_label\":\"Year\",\"coordinates\":null,\"formatter\":{\"id\":\"2836\"},\"group\":null,\"major_label_policy\":{\"id\":\"2837\"},\"ticker\":{\"id\":\"2815\"}},\"id\":\"2814\",\"type\":\"LinearAxis\"},{\"attributes\":{\"data\":{\"Amount\":{\"__ndarray__\":\"AAAAAAAAAAAAAAAAAAAAAAAAAAAAAAAAAAAAAAAAAAAAAAAAAAAAAAAAAAAAAAAAAAAAAAAAAAAAAAAAAAAAAAAAAAAAAAAAAAAAAAAAAAAAAAAAAAAAAAAAAAAAAAAAAAAAAAAAAAAAAAAAAAAAAAAAAAAAAAAAAAAAAAAAAAAAAAAAAAAAAAAAAAAAAAAAAAAAAAAAAAAAAAAAAAAAAAAAAAAAAAAAAAAAAAAAAAAAAAAAAAAAAAAAAAAAAAAAAAAAAAAAAAAAAAAAAAAAAAAAAAAAAAAAAAAAAAAAAAAAAAAAAAAAAAAAAAAAAAAAAAAAAAAAAAAAAAAAAAAAAAAAAAAAAAAAAAAAAAAAAAAAAAAAAAAAAAAAAAAAAAAAAAAAAAAAAAAAAAAAAAAAAAAAAAAAAAAAAAAAAAAAAAAAAAAAAAAAAAAAAAAAAAAAAAAAAAAAAAAAAAAAAAAAAAAAAAAAAAAAAAAAAAAAAAAAAAAAAAAAAAAAAAAAAAAAAAAAAAAAAAAAAAAAAAAAAAAAAAAAAAAAAAAAAAAAAAAAAAAAAAAAAAAAAAAAAAAAAAAAAAAAAAAAAAAAAAAAAAAAAAAAAAAAAAAAAAAAAAAAAAAAAAAAAAAAAAAAAAAAAAAAAAAAAAAAAAAAAAAAAAAAAAAAAAAAAAAAAAAAAAAAAAAAAAAAAAAAAAAAAAAAAAAAAAAAAAAAAAAAAAAAAAAAAAAAAAAAAAAAAAAAAAAAAAAAAAAAAAAAAAAAAAAAAAAAAAAAAAAAAAAAAAAAAAAAAAAAAAAAAAAAAAAAAAAAAAAAAAAAAAAAAAAAAAAAAAAAAAAAAAAAAAAAAAAAAAAAAAAAAAAAAAAAAAAAAAAAAAAAAAAAAAAAAAAAAAAAAAAAAAAAAAAAAAAAAAAAAAAAAAAAAAAAAAAAAAAAAAAAAAAAAAAAAAAAAAAAAAAAAAAAAAAAAAAAAAAAAAAAAAAAAAAAAAAAAAAAAAAAAAAAAAAAAAAAAAAAAAAAAAAAAAAAAAAAAAAAAAAAAAAAAAAAAAAAAAAAAAAAAAAAAAAAAAAAAAAAAAAAAAAAAAAAAAAAAAAAAAAAAAAAAAAAAAAAAAAAAAAAAAAAAAAAAAAAAAAAAAAAAAAAAAAAAAAAAAAAAAAAAAAAAAAAAAAAAAAAAAAAAAAAAAAAAAAAAAAAAAAAAAAAAAAAAAAAAAAAAAAAAAAAAAAAAAAAAAAAAAAAAAAAAAAAAAAAAAAAAAAAAAAAAAAAAAAAAAAAAAAAAAAAAAAAAAAAAAAAAAAAAAAAAAAAAAAAAAAAAAAAAAAAAAAAAAAAAAAAAAAAAAAAAAAAAAAAAAAAAAAAAAAAAAAAAAAAAAAAAAAAAAAAAAAAAAAAAAAAAAAAAAAAAAAAAAAAAAAAAAAAAAAAAAAAAAAAAAAAAAAAAAAAAAAAAAAAAAAAAAAAAAAAAAAAAAAAAAAAAAAAAAAAAAAAAAAAAAAAAAAAAAAAAAAAAAAAAAAAAAAAAAAAAAAAAAAAAAAAAAAAAAAAAAAAAAAAAAAAAAAAAAAAAAAAAAAAAAAAAAAAAAAAAAAAAAAAAAAAAAAAAAAAAAAAAAAAAAAAAAAAAAAAAAAAAAAAAAAAAAAAAAAAAAAAAAAAAAAAAAAAAAAAAAAAAAAAAAAAAAAAAAAAAAAAAAAAAAAAAAAAAAAAAAAAAAAAAAAAAAAAAAAAAAAAAAAAAAAAAAAAAAAAAAAAAAAAAAAAAAAAAAAAAAAAAAAAAAAAAAAAAAAAAAAAAAAAAAAAAAAAAAAAAAAAAAAAAAAAAAAAAAAAAAAAAAAAAAAAAAAAAAAAAAAAAAAAAAAAAAAAAAAAAAAAAAAAAAAAAAAAAAAAAAAAAAAAAAAAAAAAAAAAAAAAAAAAAAAAAAAAAAAAAAAAAAAAAAAAAAAAAAAAAAAAAAAAAAAAAAAAAAAAAAAAAAAAAAAAAAAAAAAAAAAAAAAAAAAAAAAAAAAAAAAAAAAAAAAAAAAAAAAAAAAAAAAAAAAAAAAAAAAAAAAA/Knx0k1icD8AAAAAAAAAAPyp8dJNYnA//Knx0k1icD8AAAAAAAAAAAAAAAAAAAAAAAAAAAAAAAAAAAAAAAAAAAAAAAAAAAAAuB6F61G4jj8730+Nl26SP7pJDAIrh5Y/TDeJQWDloD85tMh2vp+aP4ts5/up8aI/WDm0yHa+rz/ByqFFtvO9P5zEILByaME/MzMzMzMzwz8zMzMzMzPDP9nO91Pjpcs/5dAi2/l+0j/RItv5fmrgP/YoXI/C9fo//Knx0k1i+j+e76fGSzcGQI/C9ShcDxlAGy/dJAaBKEB7FK5H4Ro3QLByaJHtnEJAMQisHFpUSkCsHFpkO39MQPyp8dJNClFAnMQgsHLYUUDfT42XboJSQHE9CtejwFNAqMZLN4lhVEAxCKwcWkxWQFCNl24SG1ZAAiuHFtlmVkBqvHSTGFRXQIlBYOXQSlhA16NwPQrnWEBOYhBYOfxaQAwCK4cWEVtAf2q8dJPgWkCsHFpkO3daQD0K16NwLVpAN4lBYOW4W0DfT42XbtpdQGZmZmZm/l1ABoGVQ4vgYED0/dR46RJiQGq8dJMYIGNAUI2XbhIzZkA1XrpJDLJmQPp+arx0w2dAPzVeukmIaUDNzMzMzBxqQMHKoUW2A2pA3SQGgZXXaUCoxks3ifFpQARWDi2yVWpAPzVeukmMaUDRItv5fi5oQPhT46WbdGhAIbByaJExaUB/arx0k1hnQGQ730+NH2lAYOXQItvtZEAX2c73U7NjQBsv3SQGoWNAx0s3iUH8YUCPwvUoXGdiQNnO91PjmWRA1XjpJjEcZEAlBoGVQ09kQDeJQWDlIGRAZmZmZmaaY0A=\",\"dtype\":\"float64\",\"order\":\"little\",\"shape\":[271]},\"Sources_Name\":[\"Gas\",\"Gas\",\"Gas\",\"Gas\",\"Gas\",\"Gas\",\"Gas\",\"Gas\",\"Gas\",\"Gas\",\"Gas\",\"Gas\",\"Gas\",\"Gas\",\"Gas\",\"Gas\",\"Gas\",\"Gas\",\"Gas\",\"Gas\",\"Gas\",\"Gas\",\"Gas\",\"Gas\",\"Gas\",\"Gas\",\"Gas\",\"Gas\",\"Gas\",\"Gas\",\"Gas\",\"Gas\",\"Gas\",\"Gas\",\"Gas\",\"Gas\",\"Gas\",\"Gas\",\"Gas\",\"Gas\",\"Gas\",\"Gas\",\"Gas\",\"Gas\",\"Gas\",\"Gas\",\"Gas\",\"Gas\",\"Gas\",\"Gas\",\"Gas\",\"Gas\",\"Gas\",\"Gas\",\"Gas\",\"Gas\",\"Gas\",\"Gas\",\"Gas\",\"Gas\",\"Gas\",\"Gas\",\"Gas\",\"Gas\",\"Gas\",\"Gas\",\"Gas\",\"Gas\",\"Gas\",\"Gas\",\"Gas\",\"Gas\",\"Gas\",\"Gas\",\"Gas\",\"Gas\",\"Gas\",\"Gas\",\"Gas\",\"Gas\",\"Gas\",\"Gas\",\"Gas\",\"Gas\",\"Gas\",\"Gas\",\"Gas\",\"Gas\",\"Gas\",\"Gas\",\"Gas\",\"Gas\",\"Gas\",\"Gas\",\"Gas\",\"Gas\",\"Gas\",\"Gas\",\"Gas\",\"Gas\",\"Gas\",\"Gas\",\"Gas\",\"Gas\",\"Gas\",\"Gas\",\"Gas\",\"Gas\",\"Gas\",\"Gas\",\"Gas\",\"Gas\",\"Gas\",\"Gas\",\"Gas\",\"Gas\",\"Gas\",\"Gas\",\"Gas\",\"Gas\",\"Gas\",\"Gas\",\"Gas\",\"Gas\",\"Gas\",\"Gas\",\"Gas\",\"Gas\",\"Gas\",\"Gas\",\"Gas\",\"Gas\",\"Gas\",\"Gas\",\"Gas\",\"Gas\",\"Gas\",\"Gas\",\"Gas\",\"Gas\",\"Gas\",\"Gas\",\"Gas\",\"Gas\",\"Gas\",\"Gas\",\"Gas\",\"Gas\",\"Gas\",\"Gas\",\"Gas\",\"Gas\",\"Gas\",\"Gas\",\"Gas\",\"Gas\",\"Gas\",\"Gas\",\"Gas\",\"Gas\",\"Gas\",\"Gas\",\"Gas\",\"Gas\",\"Gas\",\"Gas\",\"Gas\",\"Gas\",\"Gas\",\"Gas\",\"Gas\",\"Gas\",\"Gas\",\"Gas\",\"Gas\",\"Gas\",\"Gas\",\"Gas\",\"Gas\",\"Gas\",\"Gas\",\"Gas\",\"Gas\",\"Gas\",\"Gas\",\"Gas\",\"Gas\",\"Gas\",\"Gas\",\"Gas\",\"Gas\",\"Gas\",\"Gas\",\"Gas\",\"Gas\",\"Gas\",\"Gas\",\"Gas\",\"Gas\",\"Gas\",\"Gas\",\"Gas\",\"Gas\",\"Gas\",\"Gas\",\"Gas\",\"Gas\",\"Gas\",\"Gas\",\"Gas\",\"Gas\",\"Gas\",\"Gas\",\"Gas\",\"Gas\",\"Gas\",\"Gas\",\"Gas\",\"Gas\",\"Gas\",\"Gas\",\"Gas\",\"Gas\",\"Gas\",\"Gas\",\"Gas\",\"Gas\",\"Gas\",\"Gas\",\"Gas\",\"Gas\",\"Gas\",\"Gas\",\"Gas\",\"Gas\",\"Gas\",\"Gas\",\"Gas\",\"Gas\",\"Gas\",\"Gas\",\"Gas\",\"Gas\",\"Gas\",\"Gas\",\"Gas\",\"Gas\",\"Gas\",\"Gas\",\"Gas\",\"Gas\",\"Gas\",\"Gas\",\"Gas\",\"Gas\",\"Gas\",\"Gas\",\"Gas\",\"Gas\",\"Gas\",\"Gas\",\"Gas\",\"Gas\",\"Gas\",\"Gas\",\"Gas\",\"Gas\",\"Gas\",\"Gas\",\"Gas\",\"Gas\"],\"Year\":[1750,1751,1752,1753,1754,1755,1756,1757,1758,1759,1760,1761,1762,1763,1764,1765,1766,1767,1768,1769,1770,1771,1772,1773,1774,1775,1776,1777,1778,1779,1780,1781,1782,1783,1784,1785,1786,1787,1788,1789,1790,1791,1792,1793,1794,1795,1796,1797,1798,1799,1800,1801,1802,1803,1804,1805,1806,1807,1808,1809,1810,1811,1812,1813,1814,1815,1816,1817,1818,1819,1820,1821,1822,1823,1824,1825,1826,1827,1828,1829,1830,1831,1832,1833,1834,1835,1836,1837,1838,1839,1840,1841,1842,1843,1844,1845,1846,1847,1848,1849,1850,1851,1852,1853,1854,1855,1856,1857,1858,1859,1860,1861,1862,1863,1864,1865,1866,1867,1868,1869,1870,1871,1872,1873,1874,1875,1876,1877,1878,1879,1880,1881,1882,1883,1884,1885,1886,1887,1888,1889,1890,1891,1892,1893,1894,1895,1896,1897,1898,1899,1900,1901,1902,1903,1904,1905,1906,1907,1908,1909,1910,1911,1912,1913,1914,1915,1916,1917,1918,1919,1920,1921,1922,1923,1924,1925,1926,1927,1928,1929,1930,1931,1932,1933,1934,1935,1936,1937,1938,1939,1940,1941,1942,1943,1944,1945,1946,1947,1948,1949,1950,1951,1952,1953,1954,1955,1956,1957,1958,1959,1960,1961,1962,1963,1964,1965,1966,1967,1968,1969,1970,1971,1972,1973,1974,1975,1976,1977,1978,1979,1980,1981,1982,1983,1984,1985,1986,1987,1988,1989,1990,1991,1992,1993,1994,1995,1996,1997,1998,1999,2000,2001,2002,2003,2004,2005,2006,2007,2008,2009,2010,2011,2012,2013,2014,2015,2016,2017,2018,2019,2020]},\"selected\":{\"id\":\"2909\"},\"selection_policy\":{\"id\":\"2929\"}},\"id\":\"2908\",\"type\":\"ColumnDataSource\"},{\"attributes\":{\"line_alpha\":0.2,\"line_color\":\"#fc4f30\",\"line_width\":2,\"x\":{\"field\":\"Year\"},\"y\":{\"field\":\"Amount\"}},\"id\":\"2867\",\"type\":\"Line\"},{\"attributes\":{\"axis\":{\"id\":\"2818\"},\"coordinates\":null,\"dimension\":1,\"grid_line_color\":null,\"group\":null,\"ticker\":null},\"id\":\"2821\",\"type\":\"Grid\"},{\"attributes\":{},\"id\":\"2815\",\"type\":\"BasicTicker\"},{\"attributes\":{\"line_alpha\":0.1,\"line_color\":\"#30a2da\",\"line_width\":2,\"x\":{\"field\":\"Year\"},\"y\":{\"field\":\"Amount\"}},\"id\":\"2845\",\"type\":\"Line\"}],\"root_ids\":[\"2789\",\"3212\"]},\"title\":\"Bokeh Application\",\"version\":\"2.4.1\"}};\n",
       "    var render_items = [{\"docid\":\"5a1dc265-8bf5-4e1a-8d76-ce0a72af1d96\",\"root_ids\":[\"2789\"],\"roots\":{\"2789\":\"bbed3d2c-fd2c-4b1f-a02e-2cedcc4b66bb\"}}];\n",
       "    root.Bokeh.embed.embed_items_notebook(docs_json, render_items);\n",
       "  }\n",
       "  if (root.Bokeh !== undefined && root.Bokeh.Panel !== undefined && ( root['Tabulator'] !== undefined) && ( root['Tabulator'] !== undefined) && ( root['Tabulator'] !== undefined)) {\n",
       "    embed_document(root);\n",
       "  } else {\n",
       "    var attempts = 0;\n",
       "    var timer = setInterval(function(root) {\n",
       "      if (root.Bokeh !== undefined && root.Bokeh.Panel !== undefined && (root['Tabulator'] !== undefined) && (root['Tabulator'] !== undefined) && (root['Tabulator'] !== undefined)) {\n",
       "        clearInterval(timer);\n",
       "        embed_document(root);\n",
       "      } else if (document.readyState == \"complete\") {\n",
       "        attempts++;\n",
       "        if (attempts > 200) {\n",
       "          clearInterval(timer);\n",
       "          console.log(\"Bokeh: ERROR: Unable to run BokehJS code because BokehJS library is missing\");\n",
       "        }\n",
       "      }\n",
       "    }, 25, root)\n",
       "  }\n",
       "})(window);</script>"
      ],
      "text/plain": [
       "<hvplot.interactive.Interactive at 0x27fea0f5e80>"
      ]
     },
     "execution_count": 70,
     "metadata": {
      "application/vnd.holoviews_exec.v0+json": {
       "id": "2789"
      }
     },
     "output_type": "execute_result"
    }
   ],
   "source": [
    "CO2_sources_bar_plot"
   ]
  },
  {
   "cell_type": "code",
   "execution_count": 71,
   "id": "5bf6700d-3882-4feb-9878-afb620f3dea1",
   "metadata": {},
   "outputs": [],
   "source": [
    "country = Countries_select"
   ]
  },
  {
   "cell_type": "code",
   "execution_count": 72,
   "id": "350d9699-b1b6-424d-b15d-695e3ba08a80",
   "metadata": {},
   "outputs": [],
   "source": [
    "pd_Country_greenhouse_gases = pd.read_sql_query(\"EXECUTE GetCountryGreenHouseGases 0,'' \", conn)"
   ]
  },
  {
   "cell_type": "code",
   "execution_count": 73,
   "id": "1c277f15-9763-4f7d-a96d-c255affd5c7c",
   "metadata": {},
   "outputs": [],
   "source": [
    "IP_pd_Country_greenhouse_gases = pd_Country_greenhouse_gases.interactive()"
   ]
  },
  {
   "cell_type": "code",
   "execution_count": 74,
   "id": "32d646cc-7441-4911-9756-0257b1a087de",
   "metadata": {},
   "outputs": [],
   "source": [
    "Country_greenhouse_gases_pipeline = (IP_pd_Country_greenhouse_gases[\n",
    "    (Ipd_Country_stas.Year <= year_slider ) \n",
    "    & (Ipd_Country_stas.Country_Name == Countries_select )\n",
    "   \n",
    "]\n",
    "                             .groupby(['Year','Country_Name','Gas_Name'])['Amount']\n",
    "                             .sum()\n",
    "                             .to_frame()\n",
    "                             .reset_index()\n",
    "                             .sort_values(by='Year')  \n",
    "                             .reset_index(drop=True)\n",
    "\n",
    "                            )"
   ]
  },
  {
   "cell_type": "code",
   "execution_count": 75,
   "id": "b5fa7d30-d29d-4018-8d96-e4e440871ed7",
   "metadata": {},
   "outputs": [
    {
     "data": {},
     "metadata": {},
     "output_type": "display_data"
    },
    {
     "data": {
      "application/vnd.holoviews_exec.v0+json": "",
      "text/html": [
       "<div id='3313'>\n",
       "\n",
       "\n",
       "\n",
       "\n",
       "\n",
       "  <div class=\"bk-root\" id=\"c7f79707-de7f-49e4-a036-e97e33f64e0d\" data-root-id=\"3313\"></div>\n",
       "</div>\n",
       "<script type=\"application/javascript\">(function(root) {\n",
       "  function embed_document(root) {\n",
       "    var docs_json = {\"e4b7b463-18b0-4ab6-a422-f818a0575438\":{\"defs\":[{\"extends\":null,\"module\":null,\"name\":\"ReactiveHTML1\",\"overrides\":[],\"properties\":[]},{\"extends\":null,\"module\":null,\"name\":\"FlexBox1\",\"overrides\":[],\"properties\":[{\"default\":\"flex-start\",\"kind\":null,\"name\":\"align_content\"},{\"default\":\"flex-start\",\"kind\":null,\"name\":\"align_items\"},{\"default\":\"row\",\"kind\":null,\"name\":\"flex_direction\"},{\"default\":\"wrap\",\"kind\":null,\"name\":\"flex_wrap\"},{\"default\":\"flex-start\",\"kind\":null,\"name\":\"justify_content\"}]},{\"extends\":null,\"module\":null,\"name\":\"GridStack1\",\"overrides\":[],\"properties\":[{\"default\":\"warn\",\"kind\":null,\"name\":\"mode\"},{\"default\":null,\"kind\":null,\"name\":\"ncols\"},{\"default\":null,\"kind\":null,\"name\":\"nrows\"},{\"default\":true,\"kind\":null,\"name\":\"allow_resize\"},{\"default\":true,\"kind\":null,\"name\":\"allow_drag\"},{\"default\":[],\"kind\":null,\"name\":\"state\"}]},{\"extends\":null,\"module\":null,\"name\":\"click1\",\"overrides\":[],\"properties\":[{\"default\":\"\",\"kind\":null,\"name\":\"terminal_output\"},{\"default\":\"\",\"kind\":null,\"name\":\"debug_name\"},{\"default\":0,\"kind\":null,\"name\":\"clears\"}]},{\"extends\":null,\"module\":null,\"name\":\"NotificationAreaBase1\",\"overrides\":[],\"properties\":[{\"default\":\"bottom-right\",\"kind\":null,\"name\":\"position\"},{\"default\":0,\"kind\":null,\"name\":\"_clear\"}]},{\"extends\":null,\"module\":null,\"name\":\"NotificationArea1\",\"overrides\":[],\"properties\":[{\"default\":[],\"kind\":null,\"name\":\"notifications\"},{\"default\":\"bottom-right\",\"kind\":null,\"name\":\"position\"},{\"default\":0,\"kind\":null,\"name\":\"_clear\"},{\"default\":[{\"background\":\"#ffc107\",\"icon\":{\"className\":\"fas fa-exclamation-triangle\",\"color\":\"white\",\"tagName\":\"i\"},\"type\":\"warning\"},{\"background\":\"#007bff\",\"icon\":{\"className\":\"fas fa-info-circle\",\"color\":\"white\",\"tagName\":\"i\"},\"type\":\"info\"}],\"kind\":null,\"name\":\"types\"}]},{\"extends\":null,\"module\":null,\"name\":\"Notification\",\"overrides\":[],\"properties\":[{\"default\":null,\"kind\":null,\"name\":\"background\"},{\"default\":3000,\"kind\":null,\"name\":\"duration\"},{\"default\":null,\"kind\":null,\"name\":\"icon\"},{\"default\":\"\",\"kind\":null,\"name\":\"message\"},{\"default\":null,\"kind\":null,\"name\":\"notification_type\"},{\"default\":false,\"kind\":null,\"name\":\"_destroyed\"}]},{\"extends\":null,\"module\":null,\"name\":\"TemplateActions1\",\"overrides\":[],\"properties\":[{\"default\":0,\"kind\":null,\"name\":\"open_modal\"},{\"default\":0,\"kind\":null,\"name\":\"close_modal\"}]},{\"extends\":null,\"module\":null,\"name\":\"MaterialTemplateActions1\",\"overrides\":[],\"properties\":[{\"default\":0,\"kind\":null,\"name\":\"open_modal\"},{\"default\":0,\"kind\":null,\"name\":\"close_modal\"}]}],\"roots\":{\"references\":[{\"attributes\":{\"client_comm_id\":\"354680b6edfe411da641d67ca3dde08c\",\"comm_id\":\"e9a7d720d7bd4ef39da7f44a4aa1ffca\",\"plot_id\":\"3313\"},\"id\":\"3357\",\"type\":\"panel.models.comm_manager.CommManager\"},{\"attributes\":{\"end\":2020,\"margin\":[5,10,5,10],\"start\":1750,\"step\":5,\"title\":\"Year slider\",\"value\":2020},\"id\":\"3317\",\"type\":\"Slider\"},{\"attributes\":{\"children\":[{\"id\":\"3315\"},{\"id\":\"3320\"}],\"margin\":[0,0,0,0],\"name\":\"Column15914\"},\"id\":\"3314\",\"type\":\"Column\"},{\"attributes\":{},\"id\":\"3330\",\"type\":\"IntEditor\"},{\"attributes\":{\"data\":{\"Amount\":{\"__ndarray__\":\"AAAAAAAAAAAAAAAAAAAAAMHKoUW2syJAAAAAAAAAAAAAAAAAAAAAAMHKoUW2syJAAAAAAAAAAAAAAAAAAAAAAGiR7Xw/tSJAAAAAAAAAAAA=\",\"dtype\":\"float64\",\"order\":\"little\",\"shape\":[10]},\"Country_Name\":[\"United Kingdom\",\"United Kingdom\",\"United Kingdom\",\"United Kingdom\",\"United Kingdom\",\"United Kingdom\",\"United Kingdom\",\"United Kingdom\",\"United Kingdom\",\"United Kingdom\"],\"Gas_Name\":[\"Methane\",\"Nitrous Oxide\",\"carbon dioxide (CO2)\",\"Methane\",\"Nitrous Oxide\",\"carbon dioxide (CO2)\",\"Methane\",\"Nitrous Oxide\",\"carbon dioxide (CO2)\",\"Methane\"],\"Year\":[1750,1750,1750,1751,1751,1751,1752,1752,1752,1753],\"index\":[0,1,2,3,4,5,6,7,8,9]},\"selected\":{\"id\":\"3322\"},\"selection_policy\":{\"id\":\"3351\"}},\"id\":\"3321\",\"type\":\"ColumnDataSource\"},{\"attributes\":{\"indices\":[]},\"id\":\"3322\",\"type\":\"Selection\"},{\"attributes\":{},\"id\":\"3339\",\"type\":\"StringFormatter\"},{\"attributes\":{},\"id\":\"3340\",\"type\":\"StringEditor\"},{\"attributes\":{\"editor\":{\"id\":\"3325\"},\"field\":\"index\",\"formatter\":{\"id\":\"3323\"},\"title\":\"index\",\"width\":0},\"id\":\"3326\",\"type\":\"TableColumn\"},{\"attributes\":{\"text_align\":\"right\"},\"id\":\"3329\",\"type\":\"NumberFormatter\"},{\"attributes\":{\"completions\":[\"Afghanistan\",\"Albania\",\"Algeria\",\"Andorra\",\"Angola\",\"Anguilla\",\"Antarctica\",\"Antigua and Barbuda\",\"Argentina\",\"Armenia\",\"Aruba\",\"Australia\",\"Austria\",\"Azerbaijan\",\"Bahamas\",\"Bahrain\",\"Bangladesh\",\"Barbados\",\"Belarus\",\"Belgium\",\"Belize\",\"Benin\",\"Bermuda\",\"Bhutan\",\"Bolivia\",\"Bonaire Sint Eustatius and Saba\",\"Bosnia and Herzegovina\",\"Botswana\",\"Brazil\",\"British Virgin Islands\",\"Brunei\",\"Bulgaria\",\"Burkina Faso\",\"Burundi\",\"Cambodia\",\"Cameroon\",\"Canada\",\"Cape Verde\",\"Central African Republic\",\"Chad\",\"Chile\",\"China\",\"Christmas Island\",\"Colombia\",\"Comoros\",\"Congo\",\"Cook Islands\",\"Costa Rica\",\"Cote d'Ivoire\",\"Croatia\",\"Cuba\",\"Curacao\",\"Cyprus\",\"Czechia\",\"Democratic Republic of Congo\",\"Denmark\",\"Djibouti\",\"Dominica\",\"Dominican Republic\",\"Ecuador\",\"Egypt\",\"El Salvador\",\"Equatorial Guinea\",\"Eritrea\",\"Estonia\",\"Eswatini\",\"Ethiopia\",\"Faeroe Islands\",\"Fiji\",\"Finland\",\"France\",\"French Guiana\",\"French Polynesia\",\"Gabon\",\"Gambia\",\"Georgia\",\"Germany\",\"Ghana\",\"Greece\",\"Greenland\",\"Grenada\",\"Guadeloupe\",\"Guatemala\",\"Guinea\",\"Guinea-Bissau\",\"Guyana\",\"Haiti\",\"Honduras\",\"Hong Kong\",\"Hungary\",\"Iceland\",\"India\",\"Indonesia\",\"Iran\",\"Iraq\",\"Ireland\",\"Israel\",\"Italy\",\"Jamaica\",\"Japan\",\"Jordan\",\"Kazakhstan\",\"Kenya\",\"Kiribati\",\"Kosovo\",\"Kuwait\",\"Kyrgyzstan\",\"Laos\",\"Latvia\",\"Lebanon\",\"Lesotho\",\"Liberia\",\"Libya\",\"Liechtenstein\",\"Lithuania\",\"Luxembourg\",\"Madagascar\",\"Malawi\",\"Malaysia\",\"Maldives\",\"Mali\",\"Malta\",\"Marshall Islands\",\"Martinique\",\"Mauritania\",\"Mauritius\",\"Mayotte\",\"Mexico\",\"Moldova\",\"Mongolia\",\"Montenegro\",\"Montserrat\",\"Morocco\",\"Mozambique\",\"Myanmar\",\"Namibia\",\"Nauru\",\"Nepal\",\"Netherlands\",\"New Caledonia\",\"New Zealand\",\"Nicaragua\",\"Niger\",\"Nigeria\",\"Niue\",\"North Korea\",\"North Macedonia\",\"Norway\",\"Oman\",\"Pakistan\",\"Palau\",\"Palestine\",\"Panama\",\"Papua New Guinea\",\"Paraguay\",\"Peru\",\"Philippines\",\"Poland\",\"Portugal\",\"Puerto Rico\",\"Qatar\",\"Romania\",\"Russia\",\"Rwanda\",\"Saint Helena\",\"Saint Kitts and Nevis\",\"Saint Lucia\",\"Saint Pierre and Miquelon\",\"Saint Vincent and the Grenadines\",\"Samoa\",\"Sao Tome and Principe\",\"Saudi Arabia\",\"Senegal\",\"Serbia\",\"Seychelles\",\"Sierra Leone\",\"Singapore\",\"Sint Maarten (Dutch part)\",\"Slovakia\",\"Slovenia\",\"Solomon Islands\",\"Somalia\",\"South Africa\",\"South Korea\",\"South Sudan\",\"Spain\",\"Sri Lanka\",\"Sudan\",\"Suriname\",\"Sweden\",\"Switzerland\",\"Syria\",\"Taiwan\",\"Tajikistan\",\"Tanzania\",\"Thailand\",\"Timor\",\"Togo\",\"Tonga\",\"Trinidad and Tobago\",\"Tunisia\",\"Turkey\",\"Turkmenistan\",\"Turks and Caicos Islands\",\"Tuvalu\",\"Uganda\",\"Ukraine\",\"United Arab Emirates\",\"United Kingdom\",\"United States\",\"Uruguay\",\"Uzbekistan\",\"Vanuatu\",\"Venezuela\",\"Vietnam\",\"World\",\"Yemen\",\"Zambia\",\"Zimbabwe\"],\"margin\":[5,10,5,10],\"placeholder\":\"Enter Name of the country\",\"title\":\"Countries\",\"value\":\"United Kingdom\"},\"id\":\"3318\",\"type\":\"AutocompleteInput\"},{\"attributes\":{\"editor\":{\"id\":\"3335\"},\"field\":\"Country_Name\",\"formatter\":{\"id\":\"3334\"},\"title\":\"Country_Name\",\"width\":0},\"id\":\"3336\",\"type\":\"TableColumn\"},{\"attributes\":{\"children\":[{\"id\":\"3349\"}],\"margin\":[0,0,0,0],\"name\":\"Row15877\"},\"id\":\"3320\",\"type\":\"Row\"},{\"attributes\":{},\"id\":\"3334\",\"type\":\"StringFormatter\"},{\"attributes\":{\"margin\":[5,5,5,5],\"name\":\"HSpacer15912\",\"sizing_mode\":\"stretch_width\"},\"id\":\"3319\",\"type\":\"Spacer\"},{\"attributes\":{\"editor\":{\"id\":\"3345\"},\"field\":\"Amount\",\"formatter\":{\"id\":\"3344\"},\"title\":\"Amount\",\"width\":0},\"id\":\"3346\",\"type\":\"TableColumn\"},{\"attributes\":{},\"id\":\"3335\",\"type\":\"StringEditor\"},{\"attributes\":{\"editor\":{\"id\":\"3340\"},\"field\":\"Gas_Name\",\"formatter\":{\"id\":\"3339\"},\"title\":\"Gas_Name\",\"width\":0},\"id\":\"3341\",\"type\":\"TableColumn\"},{\"attributes\":{\"children\":[{\"id\":\"3316\"},{\"id\":\"3319\"}],\"margin\":[0,0,0,0],\"name\":\"Row15913\"},\"id\":\"3315\",\"type\":\"Row\"},{\"attributes\":{\"editor\":{\"id\":\"3330\"},\"field\":\"Year\",\"formatter\":{\"id\":\"3329\"},\"title\":\"Year\",\"width\":0},\"id\":\"3331\",\"type\":\"TableColumn\"},{\"attributes\":{\"format\":\"0,0.0[00000]\",\"text_align\":\"right\"},\"id\":\"3344\",\"type\":\"NumberFormatter\"},{\"attributes\":{\"children\":[{\"id\":\"3317\"},{\"id\":\"3318\"}],\"margin\":[0,0,0,0],\"name\":\"Column15872\"},\"id\":\"3316\",\"type\":\"Column\"},{\"attributes\":{},\"id\":\"3345\",\"type\":\"NumberEditor\"},{\"attributes\":{\"columns\":[{\"id\":\"3326\"},{\"id\":\"3331\"},{\"id\":\"3336\"},{\"id\":\"3341\"},{\"id\":\"3346\"}],\"configuration\":{\"columns\":[{\"field\":\"index\"},{\"field\":\"Year\"},{\"field\":\"Country_Name\"},{\"field\":\"Gas_Name\"},{\"field\":\"Amount\"}],\"dataTree\":false,\"selectable\":true},\"indexes\":[\"index\"],\"layout\":\"fit_data_table\",\"margin\":[5,10,5,10],\"max_page\":82,\"name\":\"\",\"page\":1,\"page_size\":10,\"pagination\":\"remote\",\"select_mode\":true,\"selectable_rows\":null,\"sizing_mode\":\"stretch_width\",\"source\":{\"id\":\"3321\"},\"styles\":{\"data\":{},\"id\":\"ebf8f57af8834865819b949c0a276094\"},\"subscribed_events\":[\"table-edit\",\"cell-click\"]},\"id\":\"3349\",\"type\":\"panel.models.tabulator.DataTabulator\"},{\"attributes\":{\"children\":[{\"id\":\"3314\"}],\"margin\":[0,0,0,0],\"name\":\"Row15915\"},\"id\":\"3313\",\"type\":\"Row\"},{\"attributes\":{},\"id\":\"3351\",\"type\":\"UnionRenderers\"},{\"attributes\":{},\"id\":\"3325\",\"type\":\"CellEditor\"},{\"attributes\":{\"text_align\":\"left\"},\"id\":\"3323\",\"type\":\"NumberFormatter\"}],\"root_ids\":[\"3313\",\"3357\"]},\"title\":\"Bokeh Application\",\"version\":\"2.4.1\"}};\n",
       "    var render_items = [{\"docid\":\"e4b7b463-18b0-4ab6-a422-f818a0575438\",\"root_ids\":[\"3313\"],\"roots\":{\"3313\":\"c7f79707-de7f-49e4-a036-e97e33f64e0d\"}}];\n",
       "    root.Bokeh.embed.embed_items_notebook(docs_json, render_items);\n",
       "  }\n",
       "  if (root.Bokeh !== undefined && root.Bokeh.Panel !== undefined && ( root['Tabulator'] !== undefined) && ( root['Tabulator'] !== undefined) && ( root['Tabulator'] !== undefined)) {\n",
       "    embed_document(root);\n",
       "  } else {\n",
       "    var attempts = 0;\n",
       "    var timer = setInterval(function(root) {\n",
       "      if (root.Bokeh !== undefined && root.Bokeh.Panel !== undefined && (root['Tabulator'] !== undefined) && (root['Tabulator'] !== undefined) && (root['Tabulator'] !== undefined)) {\n",
       "        clearInterval(timer);\n",
       "        embed_document(root);\n",
       "      } else if (document.readyState == \"complete\") {\n",
       "        attempts++;\n",
       "        if (attempts > 200) {\n",
       "          clearInterval(timer);\n",
       "          console.log(\"Bokeh: ERROR: Unable to run BokehJS code because BokehJS library is missing\");\n",
       "        }\n",
       "      }\n",
       "    }, 25, root)\n",
       "  }\n",
       "})(window);</script>"
      ],
      "text/plain": [
       "<hvplot.interactive.Interactive at 0x27fea5ec550>"
      ]
     },
     "execution_count": 75,
     "metadata": {
      "application/vnd.holoviews_exec.v0+json": {
       "id": "3313"
      }
     },
     "output_type": "execute_result"
    }
   ],
   "source": [
    "Country_greenhouse_gases_table = Country_greenhouse_gases_pipeline.pipe(pn.widgets.Tabulator, pagination='remote', page_size = 10, sizing_mode='stretch_width') \n",
    "Country_greenhouse_gases_table"
   ]
  },
  {
   "cell_type": "code",
   "execution_count": 76,
   "id": "588dc252-cbd1-49a5-8aa0-12a0834d225d",
   "metadata": {},
   "outputs": [],
   "source": [
    "co2_source_bar_plot = Country_greenhouse_gases_pipeline.hvplot(kind='bar', \n",
    "                                                     x='Gas_Name', \n",
    "                                                     y='Amount', \n",
    "                                                     title='CO2 source by continent')"
   ]
  },
  {
   "cell_type": "code",
   "execution_count": 77,
   "id": "b13b06dc-3d77-4689-b1d0-e8e6fb9bf5c9",
   "metadata": {},
   "outputs": [
    {
     "data": {},
     "metadata": {},
     "output_type": "display_data"
    },
    {
     "data": {},
     "metadata": {},
     "output_type": "display_data"
    },
    {
     "data": {
      "application/vnd.holoviews_exec.v0+json": "",
      "text/html": [
       "<div id='3368'>\n",
       "\n",
       "\n",
       "\n",
       "\n",
       "\n",
       "  <div class=\"bk-root\" id=\"1cde0948-f465-444e-975f-f1ba333497f0\" data-root-id=\"3368\"></div>\n",
       "</div>\n",
       "<script type=\"application/javascript\">(function(root) {\n",
       "  function embed_document(root) {\n",
       "    var docs_json = {\"55d56a60-1537-4650-9304-62dc924dc601\":{\"defs\":[{\"extends\":null,\"module\":null,\"name\":\"ReactiveHTML1\",\"overrides\":[],\"properties\":[]},{\"extends\":null,\"module\":null,\"name\":\"FlexBox1\",\"overrides\":[],\"properties\":[{\"default\":\"flex-start\",\"kind\":null,\"name\":\"align_content\"},{\"default\":\"flex-start\",\"kind\":null,\"name\":\"align_items\"},{\"default\":\"row\",\"kind\":null,\"name\":\"flex_direction\"},{\"default\":\"wrap\",\"kind\":null,\"name\":\"flex_wrap\"},{\"default\":\"flex-start\",\"kind\":null,\"name\":\"justify_content\"}]},{\"extends\":null,\"module\":null,\"name\":\"GridStack1\",\"overrides\":[],\"properties\":[{\"default\":\"warn\",\"kind\":null,\"name\":\"mode\"},{\"default\":null,\"kind\":null,\"name\":\"ncols\"},{\"default\":null,\"kind\":null,\"name\":\"nrows\"},{\"default\":true,\"kind\":null,\"name\":\"allow_resize\"},{\"default\":true,\"kind\":null,\"name\":\"allow_drag\"},{\"default\":[],\"kind\":null,\"name\":\"state\"}]},{\"extends\":null,\"module\":null,\"name\":\"click1\",\"overrides\":[],\"properties\":[{\"default\":\"\",\"kind\":null,\"name\":\"terminal_output\"},{\"default\":\"\",\"kind\":null,\"name\":\"debug_name\"},{\"default\":0,\"kind\":null,\"name\":\"clears\"}]},{\"extends\":null,\"module\":null,\"name\":\"NotificationAreaBase1\",\"overrides\":[],\"properties\":[{\"default\":\"bottom-right\",\"kind\":null,\"name\":\"position\"},{\"default\":0,\"kind\":null,\"name\":\"_clear\"}]},{\"extends\":null,\"module\":null,\"name\":\"NotificationArea1\",\"overrides\":[],\"properties\":[{\"default\":[],\"kind\":null,\"name\":\"notifications\"},{\"default\":\"bottom-right\",\"kind\":null,\"name\":\"position\"},{\"default\":0,\"kind\":null,\"name\":\"_clear\"},{\"default\":[{\"background\":\"#ffc107\",\"icon\":{\"className\":\"fas fa-exclamation-triangle\",\"color\":\"white\",\"tagName\":\"i\"},\"type\":\"warning\"},{\"background\":\"#007bff\",\"icon\":{\"className\":\"fas fa-info-circle\",\"color\":\"white\",\"tagName\":\"i\"},\"type\":\"info\"}],\"kind\":null,\"name\":\"types\"}]},{\"extends\":null,\"module\":null,\"name\":\"Notification\",\"overrides\":[],\"properties\":[{\"default\":null,\"kind\":null,\"name\":\"background\"},{\"default\":3000,\"kind\":null,\"name\":\"duration\"},{\"default\":null,\"kind\":null,\"name\":\"icon\"},{\"default\":\"\",\"kind\":null,\"name\":\"message\"},{\"default\":null,\"kind\":null,\"name\":\"notification_type\"},{\"default\":false,\"kind\":null,\"name\":\"_destroyed\"}]},{\"extends\":null,\"module\":null,\"name\":\"TemplateActions1\",\"overrides\":[],\"properties\":[{\"default\":0,\"kind\":null,\"name\":\"open_modal\"},{\"default\":0,\"kind\":null,\"name\":\"close_modal\"}]},{\"extends\":null,\"module\":null,\"name\":\"MaterialTemplateActions1\",\"overrides\":[],\"properties\":[{\"default\":0,\"kind\":null,\"name\":\"open_modal\"},{\"default\":0,\"kind\":null,\"name\":\"close_modal\"}]}],\"roots\":{\"references\":[{\"attributes\":{},\"id\":\"3384\",\"type\":\"CategoricalScale\"},{\"attributes\":{\"end\":726.4268000000001,\"reset_end\":726.4268000000001,\"reset_start\":0.0,\"tags\":[[[\"Amount\",\"Amount\",null]]]},\"id\":\"3377\",\"type\":\"Range1d\"},{\"attributes\":{\"callback\":null,\"renderers\":[{\"id\":\"3414\"}],\"tags\":[\"hv_created\"],\"tooltips\":[[\"Gas_Name\",\"@{Gas_Name}\"],[\"Amount\",\"@{Amount}\"]]},\"id\":\"3378\",\"type\":\"HoverTool\"},{\"attributes\":{},\"id\":\"3386\",\"type\":\"LinearScale\"},{\"attributes\":{\"coordinates\":null,\"group\":null,\"text\":\"CO2 source by continent\",\"text_color\":\"black\",\"text_font_size\":\"12pt\"},\"id\":\"3380\",\"type\":\"Title\"},{\"attributes\":{\"below\":[{\"id\":\"3388\"}],\"center\":[{\"id\":\"3390\"},{\"id\":\"3394\"}],\"height\":300,\"left\":[{\"id\":\"3391\"}],\"margin\":[5,5,5,5],\"min_border_bottom\":10,\"min_border_left\":10,\"min_border_right\":10,\"min_border_top\":10,\"renderers\":[{\"id\":\"3414\"}],\"sizing_mode\":\"fixed\",\"title\":{\"id\":\"3380\"},\"toolbar\":{\"id\":\"3401\"},\"width\":700,\"x_range\":{\"id\":\"3376\"},\"x_scale\":{\"id\":\"3384\"},\"y_range\":{\"id\":\"3377\"},\"y_scale\":{\"id\":\"3386\"}},\"id\":\"3379\",\"subtype\":\"Figure\",\"type\":\"Plot\"},{\"attributes\":{},\"id\":\"3422\",\"type\":\"AllLabels\"},{\"attributes\":{},\"id\":\"3389\",\"type\":\"CategoricalTicker\"},{\"attributes\":{\"children\":[{\"id\":\"3369\"}],\"margin\":[0,0,0,0],\"name\":\"Row16295\"},\"id\":\"3368\",\"type\":\"Row\"},{\"attributes\":{\"axis\":{\"id\":\"3388\"},\"coordinates\":null,\"grid_line_color\":null,\"group\":null,\"ticker\":null},\"id\":\"3390\",\"type\":\"Grid\"},{\"attributes\":{},\"id\":\"3396\",\"type\":\"PanTool\"},{\"attributes\":{\"axis_label\":\"Gas_Name\",\"coordinates\":null,\"formatter\":{\"id\":\"3418\"},\"group\":null,\"major_label_policy\":{\"id\":\"3419\"},\"ticker\":{\"id\":\"3389\"}},\"id\":\"3388\",\"type\":\"CategoricalAxis\"},{\"attributes\":{\"axis\":{\"id\":\"3391\"},\"coordinates\":null,\"dimension\":1,\"grid_line_color\":null,\"group\":null,\"ticker\":null},\"id\":\"3394\",\"type\":\"Grid\"},{\"attributes\":{},\"id\":\"3430\",\"type\":\"UnionRenderers\"},{\"attributes\":{\"fill_color\":{\"value\":\"#30a2da\"},\"hatch_color\":{\"value\":\"#30a2da\"},\"top\":{\"field\":\"Amount\"},\"width\":{\"value\":0.8},\"x\":{\"field\":\"Gas_Name\"}},\"id\":\"3411\",\"type\":\"VBar\"},{\"attributes\":{\"children\":[{\"id\":\"3379\"}],\"margin\":[0,0,0,0],\"name\":\"Row16121\"},\"id\":\"3375\",\"type\":\"Row\"},{\"attributes\":{\"source\":{\"id\":\"3408\"}},\"id\":\"3415\",\"type\":\"CDSView\"},{\"attributes\":{\"end\":2020,\"margin\":[5,10,5,10],\"start\":1750,\"step\":5,\"title\":\"Year slider\",\"value\":2020},\"id\":\"3372\",\"type\":\"Slider\"},{\"attributes\":{\"coordinates\":null,\"data_source\":{\"id\":\"3408\"},\"glyph\":{\"id\":\"3411\"},\"group\":null,\"hover_glyph\":null,\"muted_glyph\":{\"id\":\"3413\"},\"nonselection_glyph\":{\"id\":\"3412\"},\"selection_glyph\":{\"id\":\"3416\"},\"view\":{\"id\":\"3415\"}},\"id\":\"3414\",\"type\":\"GlyphRenderer\"},{\"attributes\":{\"axis_label\":\"Amount\",\"coordinates\":null,\"formatter\":{\"id\":\"3421\"},\"group\":null,\"major_label_policy\":{\"id\":\"3422\"},\"ticker\":{\"id\":\"3392\"}},\"id\":\"3391\",\"type\":\"LinearAxis\"},{\"attributes\":{},\"id\":\"3392\",\"type\":\"BasicTicker\"},{\"attributes\":{\"bottom\":{\"value\":0},\"fill_alpha\":{\"value\":1.0},\"fill_color\":{\"value\":\"#30a2da\"},\"hatch_alpha\":{\"value\":1.0},\"hatch_color\":{\"value\":\"#30a2da\"},\"hatch_scale\":{\"value\":12.0},\"hatch_weight\":{\"value\":1.0},\"line_alpha\":{\"value\":1.0},\"line_cap\":{\"value\":\"butt\"},\"line_color\":{\"value\":\"black\"},\"line_dash\":{\"value\":[]},\"line_dash_offset\":{\"value\":0},\"line_join\":{\"value\":\"bevel\"},\"line_width\":{\"value\":1},\"top\":{\"field\":\"Amount\"},\"width\":{\"value\":0.8},\"x\":{\"field\":\"Gas_Name\"}},\"id\":\"3416\",\"type\":\"VBar\"},{\"attributes\":{},\"id\":\"3421\",\"type\":\"BasicTickFormatter\"},{\"attributes\":{},\"id\":\"3397\",\"type\":\"WheelZoomTool\"},{\"attributes\":{\"children\":[{\"id\":\"3371\"},{\"id\":\"3374\"}],\"margin\":[0,0,0,0],\"name\":\"Row16293\"},\"id\":\"3370\",\"type\":\"Row\"},{\"attributes\":{},\"id\":\"3419\",\"type\":\"AllLabels\"},{\"attributes\":{\"margin\":[5,5,5,5],\"name\":\"HSpacer16292\",\"sizing_mode\":\"stretch_width\"},\"id\":\"3374\",\"type\":\"Spacer\"},{\"attributes\":{},\"id\":\"3395\",\"type\":\"SaveTool\"},{\"attributes\":{\"completions\":[\"Afghanistan\",\"Albania\",\"Algeria\",\"Andorra\",\"Angola\",\"Anguilla\",\"Antarctica\",\"Antigua and Barbuda\",\"Argentina\",\"Armenia\",\"Aruba\",\"Australia\",\"Austria\",\"Azerbaijan\",\"Bahamas\",\"Bahrain\",\"Bangladesh\",\"Barbados\",\"Belarus\",\"Belgium\",\"Belize\",\"Benin\",\"Bermuda\",\"Bhutan\",\"Bolivia\",\"Bonaire Sint Eustatius and Saba\",\"Bosnia and Herzegovina\",\"Botswana\",\"Brazil\",\"British Virgin Islands\",\"Brunei\",\"Bulgaria\",\"Burkina Faso\",\"Burundi\",\"Cambodia\",\"Cameroon\",\"Canada\",\"Cape Verde\",\"Central African Republic\",\"Chad\",\"Chile\",\"China\",\"Christmas Island\",\"Colombia\",\"Comoros\",\"Congo\",\"Cook Islands\",\"Costa Rica\",\"Cote d'Ivoire\",\"Croatia\",\"Cuba\",\"Curacao\",\"Cyprus\",\"Czechia\",\"Democratic Republic of Congo\",\"Denmark\",\"Djibouti\",\"Dominica\",\"Dominican Republic\",\"Ecuador\",\"Egypt\",\"El Salvador\",\"Equatorial Guinea\",\"Eritrea\",\"Estonia\",\"Eswatini\",\"Ethiopia\",\"Faeroe Islands\",\"Fiji\",\"Finland\",\"France\",\"French Guiana\",\"French Polynesia\",\"Gabon\",\"Gambia\",\"Georgia\",\"Germany\",\"Ghana\",\"Greece\",\"Greenland\",\"Grenada\",\"Guadeloupe\",\"Guatemala\",\"Guinea\",\"Guinea-Bissau\",\"Guyana\",\"Haiti\",\"Honduras\",\"Hong Kong\",\"Hungary\",\"Iceland\",\"India\",\"Indonesia\",\"Iran\",\"Iraq\",\"Ireland\",\"Israel\",\"Italy\",\"Jamaica\",\"Japan\",\"Jordan\",\"Kazakhstan\",\"Kenya\",\"Kiribati\",\"Kosovo\",\"Kuwait\",\"Kyrgyzstan\",\"Laos\",\"Latvia\",\"Lebanon\",\"Lesotho\",\"Liberia\",\"Libya\",\"Liechtenstein\",\"Lithuania\",\"Luxembourg\",\"Madagascar\",\"Malawi\",\"Malaysia\",\"Maldives\",\"Mali\",\"Malta\",\"Marshall Islands\",\"Martinique\",\"Mauritania\",\"Mauritius\",\"Mayotte\",\"Mexico\",\"Moldova\",\"Mongolia\",\"Montenegro\",\"Montserrat\",\"Morocco\",\"Mozambique\",\"Myanmar\",\"Namibia\",\"Nauru\",\"Nepal\",\"Netherlands\",\"New Caledonia\",\"New Zealand\",\"Nicaragua\",\"Niger\",\"Nigeria\",\"Niue\",\"North Korea\",\"North Macedonia\",\"Norway\",\"Oman\",\"Pakistan\",\"Palau\",\"Palestine\",\"Panama\",\"Papua New Guinea\",\"Paraguay\",\"Peru\",\"Philippines\",\"Poland\",\"Portugal\",\"Puerto Rico\",\"Qatar\",\"Romania\",\"Russia\",\"Rwanda\",\"Saint Helena\",\"Saint Kitts and Nevis\",\"Saint Lucia\",\"Saint Pierre and Miquelon\",\"Saint Vincent and the Grenadines\",\"Samoa\",\"Sao Tome and Principe\",\"Saudi Arabia\",\"Senegal\",\"Serbia\",\"Seychelles\",\"Sierra Leone\",\"Singapore\",\"Sint Maarten (Dutch part)\",\"Slovakia\",\"Slovenia\",\"Solomon Islands\",\"Somalia\",\"South Africa\",\"South Korea\",\"South Sudan\",\"Spain\",\"Sri Lanka\",\"Sudan\",\"Suriname\",\"Sweden\",\"Switzerland\",\"Syria\",\"Taiwan\",\"Tajikistan\",\"Tanzania\",\"Thailand\",\"Timor\",\"Togo\",\"Tonga\",\"Trinidad and Tobago\",\"Tunisia\",\"Turkey\",\"Turkmenistan\",\"Turks and Caicos Islands\",\"Tuvalu\",\"Uganda\",\"Ukraine\",\"United Arab Emirates\",\"United Kingdom\",\"United States\",\"Uruguay\",\"Uzbekistan\",\"Vanuatu\",\"Venezuela\",\"Vietnam\",\"World\",\"Yemen\",\"Zambia\",\"Zimbabwe\"],\"margin\":[5,10,5,10],\"placeholder\":\"Enter Name of the country\",\"title\":\"Countries\",\"value\":\"United Kingdom\"},\"id\":\"3373\",\"type\":\"AutocompleteInput\"},{\"attributes\":{\"children\":[{\"id\":\"3372\"},{\"id\":\"3373\"}],\"margin\":[0,0,0,0],\"name\":\"Column16116\"},\"id\":\"3371\",\"type\":\"Column\"},{\"attributes\":{\"overlay\":{\"id\":\"3400\"}},\"id\":\"3398\",\"type\":\"BoxZoomTool\"},{\"attributes\":{},\"id\":\"3399\",\"type\":\"ResetTool\"},{\"attributes\":{\"children\":[{\"id\":\"3370\"},{\"id\":\"3375\"}],\"margin\":[0,0,0,0],\"name\":\"Column16294\"},\"id\":\"3369\",\"type\":\"Column\"},{\"attributes\":{\"bottom_units\":\"screen\",\"coordinates\":null,\"fill_alpha\":0.5,\"fill_color\":\"lightgrey\",\"group\":null,\"left_units\":\"screen\",\"level\":\"overlay\",\"line_alpha\":1.0,\"line_color\":\"black\",\"line_dash\":[4,4],\"line_width\":2,\"right_units\":\"screen\",\"syncable\":false,\"top_units\":\"screen\"},\"id\":\"3400\",\"type\":\"BoxAnnotation\"},{\"attributes\":{\"factors\":[\"Methane\",\"Nitrous Oxide\",\"carbon dioxide (CO2)\"],\"tags\":[[[\"Gas_Name\",\"Gas_Name\",null]]]},\"id\":\"3376\",\"type\":\"FactorRange\"},{\"attributes\":{},\"id\":\"3409\",\"type\":\"Selection\"},{\"attributes\":{\"client_comm_id\":\"d6474cc350044b18af4e4232e5b1e035\",\"comm_id\":\"ed4b746a92dd436e8df26f54891f8b6e\",\"plot_id\":\"3368\"},\"id\":\"3463\",\"type\":\"panel.models.comm_manager.CommManager\"},{\"attributes\":{},\"id\":\"3418\",\"type\":\"CategoricalTickFormatter\"},{\"attributes\":{\"data\":{\"Amount\":{\"__ndarray__\":\"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\",\"dtype\":\"float64\",\"order\":\"little\",\"shape\":[813]},\"Gas_Name\":[\"Methane\",\"Nitrous Oxide\",\"carbon dioxide (CO2)\",\"Methane\",\"Nitrous Oxide\",\"carbon dioxide (CO2)\",\"Methane\",\"Nitrous Oxide\",\"carbon dioxide (CO2)\",\"Methane\",\"Nitrous Oxide\",\"carbon dioxide (CO2)\",\"carbon dioxide (CO2)\",\"Methane\",\"Nitrous Oxide\",\"Methane\",\"Nitrous Oxide\",\"carbon dioxide (CO2)\",\"Methane\",\"Nitrous Oxide\",\"carbon dioxide (CO2)\",\"carbon dioxide (CO2)\",\"Methane\",\"Nitrous Oxide\",\"carbon dioxide (CO2)\",\"Methane\",\"Nitrous Oxide\",\"Methane\",\"Nitrous Oxide\",\"carbon dioxide (CO2)\",\"Methane\",\"Nitrous Oxide\",\"carbon dioxide (CO2)\",\"carbon dioxide (CO2)\",\"Methane\",\"Nitrous Oxide\",\"carbon dioxide (CO2)\",\"Nitrous Oxide\",\"Methane\",\"Methane\",\"Nitrous Oxide\",\"carbon dioxide (CO2)\",\"carbon dioxide (CO2)\",\"Methane\",\"Nitrous Oxide\",\"Nitrous Oxide\",\"carbon dioxide (CO2)\",\"Methane\",\"carbon dioxide (CO2)\",\"Nitrous Oxide\",\"Methane\",\"Methane\",\"Nitrous Oxide\",\"carbon dioxide (CO2)\",\"Methane\",\"Nitrous Oxide\",\"carbon dioxide (CO2)\",\"Methane\",\"Nitrous Oxide\",\"carbon dioxide (CO2)\",\"carbon dioxide (CO2)\",\"Nitrous Oxide\",\"Methane\",\"Methane\",\"Nitrous Oxide\",\"carbon dioxide (CO2)\",\"Methane\",\"Nitrous Oxide\",\"carbon dioxide (CO2)\",\"Methane\",\"Nitrous Oxide\",\"carbon dioxide (CO2)\",\"Nitrous Oxide\",\"carbon dioxide (CO2)\",\"Methane\",\"Methane\",\"Nitrous Oxide\",\"carbon dioxide (CO2)\",\"Methane\",\"Nitrous Oxide\",\"carbon dioxide (CO2)\",\"Methane\",\"Nitrous Oxide\",\"carbon dioxide (CO2)\",\"carbon dioxide (CO2)\",\"Nitrous Oxide\",\"Methane\",\"Methane\",\"Nitrous Oxide\",\"carbon dioxide (CO2)\",\"Methane\",\"Nitrous Oxide\",\"carbon dioxide (CO2)\",\"Methane\",\"Nitrous Oxide\",\"carbon dioxide (CO2)\",\"Nitrous Oxide\",\"carbon dioxide (CO2)\",\"Methane\",\"carbon dioxide (CO2)\",\"Nitrous Oxide\",\"Methane\",\"Methane\",\"Nitrous Oxide\",\"carbon dioxide (CO2)\",\"Methane\",\"Nitrous Oxide\",\"carbon dioxide (CO2)\",\"Methane\",\"Nitrous Oxide\",\"carbon dioxide (CO2)\",\"carbon dioxide (CO2)\",\"Nitrous Oxide\",\"Methane\",\"Methane\",\"Nitrous Oxide\",\"carbon dioxide (CO2)\",\"Methane\",\"Nitrous Oxide\",\"carbon dioxide (CO2)\",\"Methane\",\"Nitrous Oxide\",\"carbon dioxide (CO2)\",\"Nitrous Oxide\",\"carbon dioxide (CO2)\",\"Methane\",\"Methane\",\"Nitrous Oxide\",\"carbon dioxide (CO2)\",\"Methane\",\"Nitrous Oxide\",\"carbon dioxide (CO2)\",\"Methane\",\"Nitrous Oxide\",\"carbon dioxide (CO2)\",\"carbon dioxide (CO2)\",\"Nitrous Oxide\",\"Methane\",\"Methane\",\"Nitrous Oxide\",\"carbon dioxide (CO2)\",\"Methane\",\"Nitrous Oxide\",\"carbon dioxide (CO2)\",\"Methane\",\"Nitrous Oxide\",\"carbon dioxide (CO2)\",\"Nitrous Oxide\",\"carbon dioxide (CO2)\",\"Methane\",\"carbon dioxide (CO2)\",\"Nitrous Oxide\",\"Methane\",\"Methane\",\"Nitrous Oxide\",\"carbon dioxide (CO2)\",\"Methane\",\"Nitrous Oxide\",\"carbon dioxide (CO2)\",\"Methane\",\"Nitrous Oxide\",\"carbon dioxide (CO2)\",\"carbon dioxide (CO2)\",\"Nitrous Oxide\",\"Methane\",\"Methane\",\"Nitrous Oxide\",\"carbon dioxide (CO2)\",\"Methane\",\"Nitrous Oxide\",\"carbon dioxide (CO2)\",\"Methane\",\"Nitrous Oxide\",\"carbon dioxide (CO2)\",\"Nitrous Oxide\",\"carbon dioxide (CO2)\",\"Methane\",\"Methane\",\"Nitrous Oxide\",\"carbon dioxide (CO2)\",\"Methane\",\"Nitrous Oxide\",\"carbon dioxide (CO2)\",\"Methane\",\"Nitrous Oxide\",\"carbon dioxide (CO2)\",\"carbon dioxide (CO2)\",\"Nitrous Oxide\",\"Methane\",\"Methane\",\"Nitrous Oxide\",\"carbon dioxide (CO2)\",\"Methane\",\"Nitrous Oxide\",\"carbon dioxide (CO2)\",\"Methane\",\"Nitrous Oxide\",\"carbon dioxide (CO2)\",\"Nitrous Oxide\",\"carbon dioxide (CO2)\",\"Methane\",\"carbon dioxide (CO2)\",\"Nitrous Oxide\",\"Methane\",\"Methane\",\"Nitrous Oxide\",\"carbon dioxide (CO2)\",\"Methane\",\"Nitrous Oxide\",\"carbon dioxide (CO2)\",\"Methane\",\"Nitrous Oxide\",\"carbon dioxide (CO2)\",\"carbon dioxide (CO2)\",\"Nitrous Oxide\",\"Methane\",\"Methane\",\"Nitrous Oxide\",\"carbon dioxide (CO2)\",\"Methane\",\"Nitrous Oxide\",\"carbon dioxide (CO2)\",\"Methane\",\"Nitrous Oxide\",\"carbon dioxide (CO2)\",\"Nitrous Oxide\",\"carbon dioxide (CO2)\",\"Methane\",\"Methane\",\"Nitrous Oxide\",\"carbon dioxide (CO2)\",\"Methane\",\"Nitrous Oxide\",\"carbon dioxide (CO2)\",\"Methane\",\"Nitrous Oxide\",\"carbon dioxide (CO2)\",\"carbon dioxide (CO2)\",\"Nitrous Oxide\",\"Methane\",\"Methane\",\"Nitrous Oxide\",\"carbon dioxide (CO2)\",\"Methane\",\"Nitrous Oxide\",\"carbon dioxide (CO2)\",\"Methane\",\"Nitrous Oxide\",\"carbon dioxide (CO2)\",\"Nitrous Oxide\",\"carbon dioxide (CO2)\",\"Methane\",\"carbon dioxide (CO2)\",\"Nitrous Oxide\",\"Methane\",\"Methane\",\"Nitrous Oxide\",\"carbon dioxide (CO2)\",\"Methane\",\"Nitrous Oxide\",\"carbon dioxide (CO2)\",\"Methane\",\"Nitrous Oxide\",\"carbon dioxide (CO2)\",\"carbon dioxide (CO2)\",\"Nitrous Oxide\",\"Methane\",\"Methane\",\"Nitrous Oxide\",\"carbon dioxide (CO2)\",\"Methane\",\"Nitrous Oxide\",\"carbon dioxide (CO2)\",\"Methane\",\"Nitrous Oxide\",\"carbon dioxide (CO2)\",\"Nitrous Oxide\",\"carbon dioxide (CO2)\",\"Methane\",\"Methane\",\"Nitrous Oxide\",\"carbon dioxide (CO2)\",\"Methane\",\"Nitrous Oxide\",\"carbon dioxide (CO2)\",\"Methane\",\"Nitrous Oxide\",\"carbon dioxide (CO2)\",\"carbon dioxide (CO2)\",\"Nitrous Oxide\",\"Methane\",\"Methane\",\"Nitrous Oxide\",\"carbon dioxide (CO2)\",\"Methane\",\"Nitrous Oxide\",\"carbon dioxide (CO2)\",\"Methane\",\"Nitrous Oxide\",\"carbon dioxide (CO2)\",\"Nitrous Oxide\",\"carbon dioxide (CO2)\",\"Methane\",\"carbon dioxide (CO2)\",\"Nitrous Oxide\",\"Methane\",\"Methane\",\"Nitrous Oxide\",\"carbon dioxide (CO2)\",\"Methane\",\"Nitrous Oxide\",\"carbon dioxide (CO2)\",\"Methane\",\"Nitrous Oxide\",\"carbon dioxide (CO2)\",\"carbon dioxide (CO2)\",\"Nitrous Oxide\",\"Methane\",\"Methane\",\"Nitrous Oxide\",\"carbon dioxide (CO2)\",\"Methane\",\"Nitrous Oxide\",\"carbon dioxide (CO2)\",\"Methane\",\"Nitrous Oxide\",\"carbon dioxide (CO2)\",\"Nitrous Oxide\",\"carbon dioxide (CO2)\",\"Methane\",\"Methane\",\"Nitrous Oxide\",\"carbon dioxide (CO2)\",\"Methane\",\"Nitrous Oxide\",\"carbon dioxide (CO2)\",\"Methane\",\"Nitrous Oxide\",\"carbon dioxide (CO2)\",\"carbon dioxide (CO2)\",\"Nitrous Oxide\",\"Methane\",\"Methane\",\"Nitrous Oxide\",\"carbon dioxide (CO2)\",\"Methane\",\"Nitrous Oxide\",\"carbon dioxide (CO2)\",\"Methane\",\"Nitrous Oxide\",\"carbon dioxide (CO2)\",\"Nitrous Oxide\",\"carbon dioxide (CO2)\",\"Methane\",\"carbon dioxide (CO2)\",\"Nitrous Oxide\",\"Methane\",\"Methane\",\"Nitrous Oxide\",\"carbon dioxide (CO2)\",\"Methane\",\"Nitrous Oxide\",\"carbon dioxide (CO2)\",\"Methane\",\"Nitrous Oxide\",\"carbon dioxide (CO2)\",\"carbon dioxide (CO2)\",\"Nitrous Oxide\",\"Methane\",\"Methane\",\"Nitrous Oxide\",\"carbon dioxide (CO2)\",\"Methane\",\"Nitrous Oxide\",\"carbon dioxide (CO2)\",\"Methane\",\"Nitrous Oxide\",\"carbon dioxide (CO2)\",\"Nitrous Oxide\",\"carbon dioxide (CO2)\",\"Methane\",\"Methane\",\"Nitrous Oxide\",\"carbon dioxide (CO2)\",\"Methane\",\"Nitrous Oxide\",\"carbon dioxide (CO2)\",\"Methane\",\"Nitrous Oxide\",\"carbon dioxide (CO2)\",\"carbon dioxide (CO2)\",\"Nitrous Oxide\",\"Methane\",\"Methane\",\"Nitrous Oxide\",\"carbon dioxide (CO2)\",\"Methane\",\"Nitrous Oxide\",\"carbon dioxide (CO2)\",\"Methane\",\"Nitrous Oxide\",\"carbon dioxide (CO2)\",\"Nitrous Oxide\",\"carbon dioxide (CO2)\",\"Methane\",\"carbon dioxide (CO2)\",\"Nitrous Oxide\",\"Methane\",\"Methane\",\"Nitrous Oxide\",\"carbon dioxide (CO2)\",\"Methane\",\"Nitrous Oxide\",\"carbon dioxide (CO2)\",\"Methane\",\"Nitrous Oxide\",\"carbon dioxide (CO2)\",\"carbon dioxide (CO2)\",\"Nitrous Oxide\",\"Methane\",\"Methane\",\"Nitrous Oxide\",\"carbon dioxide (CO2)\",\"Methane\",\"Nitrous Oxide\",\"carbon dioxide (CO2)\",\"Methane\",\"Nitrous Oxide\",\"carbon dioxide (CO2)\",\"Nitrous Oxide\",\"carbon dioxide (CO2)\",\"Methane\",\"Methane\",\"Nitrous Oxide\",\"carbon dioxide (CO2)\",\"Methane\",\"Nitrous Oxide\",\"carbon dioxide (CO2)\",\"Methane\",\"Nitrous Oxide\",\"carbon dioxide (CO2)\",\"carbon dioxide (CO2)\",\"Nitrous Oxide\",\"Methane\",\"Methane\",\"Nitrous Oxide\",\"carbon dioxide (CO2)\",\"Methane\",\"Nitrous Oxide\",\"carbon dioxide (CO2)\",\"Methane\",\"Nitrous Oxide\",\"carbon dioxide (CO2)\",\"Nitrous Oxide\",\"carbon dioxide (CO2)\",\"Methane\",\"carbon dioxide (CO2)\",\"Nitrous Oxide\",\"Methane\",\"Methane\",\"Nitrous Oxide\",\"carbon dioxide (CO2)\",\"Methane\",\"Nitrous Oxide\",\"carbon dioxide (CO2)\",\"Methane\",\"Nitrous Oxide\",\"carbon dioxide (CO2)\",\"carbon dioxide (CO2)\",\"Nitrous Oxide\",\"Methane\",\"Methane\",\"Nitrous Oxide\",\"carbon dioxide (CO2)\",\"Methane\",\"Nitrous Oxide\",\"carbon dioxide (CO2)\",\"Methane\",\"Nitrous Oxide\",\"carbon dioxide (CO2)\",\"Nitrous Oxide\",\"carbon dioxide (CO2)\",\"Methane\",\"Methane\",\"Nitrous Oxide\",\"carbon dioxide (CO2)\",\"Methane\",\"Nitrous Oxide\",\"carbon dioxide (CO2)\",\"Methane\",\"Nitrous Oxide\",\"carbon dioxide (CO2)\",\"carbon dioxide (CO2)\",\"Nitrous Oxide\",\"Methane\",\"Methane\",\"Nitrous Oxide\",\"carbon dioxide (CO2)\",\"Methane\",\"Nitrous Oxide\",\"carbon dioxide (CO2)\",\"Methane\",\"Nitrous Oxide\",\"carbon dioxide (CO2)\",\"Nitrous Oxide\",\"carbon dioxide (CO2)\",\"Methane\",\"carbon dioxide (CO2)\",\"Nitrous Oxide\",\"Methane\",\"Methane\",\"Nitrous Oxide\",\"carbon dioxide (CO2)\",\"Methane\",\"Nitrous Oxide\",\"carbon dioxide (CO2)\",\"Methane\",\"Nitrous Oxide\",\"carbon dioxide (CO2)\",\"carbon dioxide (CO2)\",\"Nitrous Oxide\",\"Methane\",\"Methane\",\"Nitrous Oxide\",\"carbon dioxide (CO2)\",\"Methane\",\"Nitrous Oxide\",\"carbon dioxide (CO2)\",\"Methane\",\"Nitrous Oxide\",\"carbon dioxide (CO2)\",\"Nitrous Oxide\",\"carbon dioxide (CO2)\",\"Methane\",\"Methane\",\"Nitrous Oxide\",\"carbon dioxide (CO2)\",\"Methane\",\"Nitrous Oxide\",\"carbon dioxide (CO2)\",\"Methane\",\"Nitrous Oxide\",\"carbon dioxide (CO2)\",\"carbon dioxide (CO2)\",\"Nitrous Oxide\",\"Methane\",\"Methane\",\"Nitrous Oxide\",\"carbon dioxide (CO2)\",\"Methane\",\"Nitrous Oxide\",\"carbon dioxide (CO2)\",\"Methane\",\"Nitrous Oxide\",\"carbon dioxide (CO2)\",\"Nitrous Oxide\",\"carbon dioxide (CO2)\",\"Methane\",\"carbon dioxide (CO2)\",\"Nitrous Oxide\",\"Methane\",\"Methane\",\"Nitrous Oxide\",\"carbon dioxide (CO2)\",\"Methane\",\"Nitrous Oxide\",\"carbon dioxide (CO2)\",\"Methane\",\"Nitrous Oxide\",\"carbon dioxide (CO2)\",\"carbon dioxide (CO2)\",\"Nitrous Oxide\",\"Methane\",\"Methane\",\"Nitrous Oxide\",\"carbon dioxide (CO2)\",\"Methane\",\"Nitrous Oxide\",\"carbon dioxide (CO2)\",\"Methane\",\"Nitrous Oxide\",\"carbon dioxide (CO2)\",\"Nitrous Oxide\",\"carbon dioxide (CO2)\",\"Methane\",\"Methane\",\"Nitrous Oxide\",\"carbon dioxide (CO2)\",\"Methane\",\"Nitrous Oxide\",\"carbon dioxide (CO2)\",\"Methane\",\"Nitrous Oxide\",\"carbon dioxide (CO2)\",\"carbon dioxide (CO2)\",\"Nitrous Oxide\",\"Methane\",\"Methane\",\"Nitrous Oxide\",\"carbon dioxide (CO2)\",\"Methane\",\"Nitrous Oxide\",\"carbon dioxide (CO2)\",\"Methane\",\"Nitrous Oxide\",\"carbon dioxide (CO2)\",\"Nitrous Oxide\",\"carbon dioxide (CO2)\",\"Methane\",\"carbon dioxide (CO2)\",\"Methane\",\"Nitrous Oxide\",\"Methane\",\"Nitrous Oxide\",\"carbon dioxide (CO2)\",\"Methane\",\"Nitrous Oxide\",\"carbon dioxide (CO2)\",\"Methane\",\"Nitrous Oxide\",\"carbon dioxide (CO2)\",\"carbon dioxide (CO2)\",\"Nitrous Oxide\",\"Methane\",\"Methane\",\"Nitrous Oxide\",\"carbon dioxide (CO2)\",\"Methane\",\"Nitrous Oxide\",\"carbon dioxide (CO2)\",\"Methane\",\"Nitrous Oxide\",\"carbon dioxide (CO2)\",\"Nitrous Oxide\",\"carbon dioxide (CO2)\",\"Methane\",\"Methane\",\"Nitrous Oxide\",\"carbon dioxide (CO2)\",\"Methane\",\"Nitrous Oxide\",\"carbon dioxide (CO2)\",\"Methane\",\"Nitrous Oxide\",\"carbon dioxide (CO2)\",\"carbon dioxide (CO2)\",\"Nitrous Oxide\",\"Methane\",\"Methane\",\"Nitrous Oxide\",\"carbon dioxide (CO2)\",\"Methane\",\"Nitrous Oxide\",\"carbon dioxide (CO2)\",\"Methane\",\"Nitrous Oxide\",\"carbon dioxide (CO2)\",\"Nitrous Oxide\",\"carbon dioxide (CO2)\",\"Methane\",\"carbon dioxide (CO2)\",\"Nitrous Oxide\",\"Methane\",\"Methane\",\"Nitrous Oxide\",\"carbon dioxide (CO2)\",\"Methane\",\"Nitrous Oxide\",\"carbon dioxide (CO2)\",\"Methane\",\"Nitrous Oxide\",\"carbon dioxide (CO2)\",\"carbon dioxide (CO2)\",\"Nitrous Oxide\",\"Methane\",\"Methane\",\"Nitrous Oxide\",\"carbon dioxide (CO2)\",\"Methane\",\"Nitrous Oxide\",\"carbon dioxide (CO2)\",\"Methane\",\"Nitrous Oxide\",\"carbon dioxide (CO2)\",\"Nitrous Oxide\",\"carbon dioxide (CO2)\",\"Methane\",\"Methane\",\"Nitrous Oxide\",\"carbon dioxide (CO2)\",\"Methane\",\"Nitrous Oxide\",\"carbon dioxide (CO2)\",\"Methane\",\"Nitrous Oxide\",\"carbon dioxide (CO2)\",\"carbon dioxide (CO2)\",\"Nitrous Oxide\",\"Methane\",\"Methane\",\"Nitrous Oxide\",\"carbon dioxide (CO2)\",\"Methane\",\"Nitrous Oxide\",\"carbon dioxide (CO2)\",\"Methane\",\"Nitrous Oxide\",\"carbon dioxide (CO2)\",\"Nitrous Oxide\",\"carbon dioxide (CO2)\",\"Methane\",\"carbon dioxide (CO2)\",\"Methane\",\"Nitrous Oxide\",\"Methane\",\"Nitrous Oxide\",\"carbon dioxide (CO2)\",\"Methane\",\"Nitrous Oxide\",\"carbon dioxide (CO2)\",\"Methane\",\"Nitrous Oxide\",\"carbon dioxide (CO2)\",\"carbon dioxide (CO2)\",\"Nitrous Oxide\",\"Methane\",\"Methane\",\"Nitrous Oxide\",\"carbon dioxide (CO2)\",\"Methane\",\"Nitrous Oxide\",\"carbon dioxide (CO2)\",\"Methane\",\"Nitrous Oxide\",\"carbon dioxide (CO2)\",\"carbon dioxide (CO2)\",\"Nitrous Oxide\",\"Methane\",\"Methane\",\"Nitrous Oxide\",\"carbon dioxide (CO2)\",\"Methane\",\"Nitrous Oxide\",\"carbon dioxide (CO2)\",\"Methane\",\"Nitrous Oxide\",\"carbon dioxide (CO2)\",\"carbon dioxide (CO2)\",\"Nitrous Oxide\",\"Methane\",\"Methane\",\"Nitrous Oxide\",\"carbon dioxide (CO2)\",\"Methane\",\"Nitrous Oxide\",\"carbon dioxide (CO2)\",\"Methane\",\"Nitrous Oxide\",\"carbon dioxide (CO2)\",\"carbon dioxide (CO2)\",\"Methane\",\"Nitrous Oxide\",\"Methane\",\"Nitrous Oxide\",\"carbon dioxide (CO2)\",\"Methane\",\"Nitrous Oxide\",\"carbon dioxide (CO2)\",\"Methane\",\"Nitrous Oxide\",\"carbon dioxide (CO2)\",\"carbon dioxide (CO2)\",\"Nitrous Oxide\",\"Methane\",\"Methane\",\"Nitrous Oxide\",\"carbon dioxide (CO2)\",\"Methane\",\"Nitrous Oxide\",\"carbon dioxide (CO2)\",\"Methane\",\"Nitrous Oxide\",\"carbon dioxide (CO2)\",\"carbon dioxide (CO2)\",\"Methane\",\"Nitrous Oxide\",\"Methane\",\"Nitrous Oxide\",\"carbon dioxide (CO2)\",\"Methane\",\"Nitrous Oxide\",\"carbon dioxide (CO2)\",\"carbon dioxide (CO2)\",\"Methane\",\"Nitrous Oxide\",\"Methane\",\"Nitrous Oxide\",\"carbon dioxide (CO2)\",\"Methane\",\"Nitrous Oxide\",\"carbon dioxide (CO2)\",\"Nitrous Oxide\",\"Methane\",\"carbon dioxide (CO2)\",\"Nitrous Oxide\",\"Methane\",\"carbon dioxide (CO2)\",\"Nitrous Oxide\",\"Methane\",\"carbon dioxide (CO2)\",\"Nitrous Oxide\",\"Methane\",\"carbon dioxide (CO2)\"]},\"selected\":{\"id\":\"3409\"},\"selection_policy\":{\"id\":\"3430\"}},\"id\":\"3408\",\"type\":\"ColumnDataSource\"},{\"attributes\":{\"fill_alpha\":{\"value\":0.1},\"fill_color\":{\"value\":\"#30a2da\"},\"hatch_alpha\":{\"value\":0.1},\"hatch_color\":{\"value\":\"#30a2da\"},\"line_alpha\":{\"value\":0.1},\"top\":{\"field\":\"Amount\"},\"width\":{\"value\":0.8},\"x\":{\"field\":\"Gas_Name\"}},\"id\":\"3412\",\"type\":\"VBar\"},{\"attributes\":{\"tools\":[{\"id\":\"3378\"},{\"id\":\"3395\"},{\"id\":\"3396\"},{\"id\":\"3397\"},{\"id\":\"3398\"},{\"id\":\"3399\"}]},\"id\":\"3401\",\"type\":\"Toolbar\"},{\"attributes\":{\"fill_alpha\":{\"value\":0.2},\"fill_color\":{\"value\":\"#30a2da\"},\"hatch_alpha\":{\"value\":0.2},\"hatch_color\":{\"value\":\"#30a2da\"},\"line_alpha\":{\"value\":0.2},\"top\":{\"field\":\"Amount\"},\"width\":{\"value\":0.8},\"x\":{\"field\":\"Gas_Name\"}},\"id\":\"3413\",\"type\":\"VBar\"}],\"root_ids\":[\"3368\",\"3463\"]},\"title\":\"Bokeh Application\",\"version\":\"2.4.1\"}};\n",
       "    var render_items = [{\"docid\":\"55d56a60-1537-4650-9304-62dc924dc601\",\"root_ids\":[\"3368\"],\"roots\":{\"3368\":\"1cde0948-f465-444e-975f-f1ba333497f0\"}}];\n",
       "    root.Bokeh.embed.embed_items_notebook(docs_json, render_items);\n",
       "  }\n",
       "  if (root.Bokeh !== undefined && root.Bokeh.Panel !== undefined && ( root['Tabulator'] !== undefined) && ( root['Tabulator'] !== undefined) && ( root['Tabulator'] !== undefined)) {\n",
       "    embed_document(root);\n",
       "  } else {\n",
       "    var attempts = 0;\n",
       "    var timer = setInterval(function(root) {\n",
       "      if (root.Bokeh !== undefined && root.Bokeh.Panel !== undefined && (root['Tabulator'] !== undefined) && (root['Tabulator'] !== undefined) && (root['Tabulator'] !== undefined)) {\n",
       "        clearInterval(timer);\n",
       "        embed_document(root);\n",
       "      } else if (document.readyState == \"complete\") {\n",
       "        attempts++;\n",
       "        if (attempts > 200) {\n",
       "          clearInterval(timer);\n",
       "          console.log(\"Bokeh: ERROR: Unable to run BokehJS code because BokehJS library is missing\");\n",
       "        }\n",
       "      }\n",
       "    }, 25, root)\n",
       "  }\n",
       "})(window);</script>"
      ],
      "text/plain": [
       "<hvplot.interactive.Interactive at 0x27ff0296dc0>"
      ]
     },
     "execution_count": 77,
     "metadata": {
      "application/vnd.holoviews_exec.v0+json": {
       "id": "3368"
      }
     },
     "output_type": "execute_result"
    }
   ],
   "source": [
    "co2_source_bar_plot"
   ]
  },
  {
   "cell_type": "code",
   "execution_count": 79,
   "id": "05027831-7fbb-4d5f-8814-4c20f2712c82",
   "metadata": {},
   "outputs": [],
   "source": [
    "template = pn.template.FastListTemplate(\n",
    "    title='Countries\\' Greenhouse Gases dashboard', \n",
    "    sidebar=[pn.pane.Markdown(\"# Greenhouse Gases and Climate Change\"), \n",
    "             pn.pane.Markdown(\"#### Greenhouse gases emissions are the primary driver of global climate change. It’s widely recognised that to avoid the worst impacts of climate change, the world needs to urgently reduce emissions. But, how this responsibility is shared between regions, countries, and individuals has been an endless point of contention in international discussions.\"), \n",
    "            \n",
    "             pn.pane.Markdown(\"## Settings\"),   \n",
    "             year_slider],\n",
    "    main=[\n",
    "            pn.Row(pn.Column(Countries_select, Gas_Emission_bar_plot.panel(width=700), margin=(0,25)), Gas_emission_table.panel(width=500)), \n",
    "            pn.Row(pn.Column(CO2_sources_bar_plot.panel(width=700), margin=(0,25)), CO2_sources_table.panel(width=500)), \n",
    "            pn.Row(pn.Column(co2_source_bar_plot.panel(width=700), margin=(0,25)), Country_greenhouse_gases_table.panel(width=500)), \n",
    "           # pn.Row(pn.Column(CO2_sources_bar_plot.panel(width=600), margin=(0,25)), pn.Column(co2_source_bar_plot.panel(width=600)))\n",
    "    ],\n",
    "    accent_base_color=\"#88d8b0\",\n",
    "    header_background=\"#88d8b0\",\n",
    ")\n",
    "# template.show()\n",
    "template.servable();"
   ]
  },
  {
   "cell_type": "code",
   "execution_count": null,
   "id": "0d4f9972-36c6-43ed-a33c-6637458dea97",
   "metadata": {},
   "outputs": [],
   "source": []
  },
  {
   "cell_type": "code",
   "execution_count": null,
   "id": "2d968c1f-93e8-47e4-9e04-0bfb9256fdaf",
   "metadata": {},
   "outputs": [],
   "source": []
  }
 ],
 "metadata": {
  "kernelspec": {
   "display_name": "Python 3 (ipykernel)",
   "language": "python",
   "name": "python3"
  },
  "language_info": {
   "codemirror_mode": {
    "name": "ipython",
    "version": 3
   },
   "file_extension": ".py",
   "mimetype": "text/x-python",
   "name": "python",
   "nbconvert_exporter": "python",
   "pygments_lexer": "ipython3",
   "version": "3.9.7"
  }
 },
 "nbformat": 4,
 "nbformat_minor": 5
}
